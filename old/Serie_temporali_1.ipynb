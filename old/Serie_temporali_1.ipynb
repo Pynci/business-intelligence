{
 "cells": [
  {
   "cell_type": "code",
   "execution_count": 1,
   "id": "e143b2c0",
   "metadata": {},
   "outputs": [],
   "source": [
    "import datetime as dt\n",
    "import pandas as pd"
   ]
  },
  {
   "cell_type": "markdown",
   "id": "35f3f621",
   "metadata": {},
   "source": [
    "### Esercizio 1 - Serie temporali"
   ]
  },
  {
   "cell_type": "markdown",
   "id": "e9684f4f",
   "metadata": {},
   "source": [
    "1 - Definire la variabile data v1 con il giorno di Natale (25/12/2021) e verificare il tipo di variabile"
   ]
  },
  {
   "cell_type": "code",
   "execution_count": 2,
   "id": "da363834",
   "metadata": {},
   "outputs": [
    {
     "name": "stdout",
     "output_type": "stream",
     "text": [
      "2021-12-25\n",
      "<class 'datetime.date'>\n"
     ]
    }
   ],
   "source": [
    "v1 = dt.date(2021,12,25)\n",
    "print(v1)\n",
    "print(type(v1))"
   ]
  },
  {
   "cell_type": "markdown",
   "id": "04681998",
   "metadata": {},
   "source": [
    "2 - Creare una niova variabile v2 aggiungendo a v1 320 giorni e verificare che la  nuova data è maggiore della precedente"
   ]
  },
  {
   "cell_type": "code",
   "execution_count": 3,
   "id": "e73242a6",
   "metadata": {},
   "outputs": [
    {
     "name": "stdout",
     "output_type": "stream",
     "text": [
      "738469\n"
     ]
    }
   ],
   "source": [
    "v2 = v1.toordinal() + 320\n",
    "print(v2)"
   ]
  },
  {
   "cell_type": "code",
   "execution_count": 4,
   "id": "c5ca6978",
   "metadata": {},
   "outputs": [],
   "source": [
    "v2 = dt.date.fromordinal(v2)"
   ]
  },
  {
   "cell_type": "code",
   "execution_count": 5,
   "id": "d62f6f25",
   "metadata": {},
   "outputs": [
    {
     "data": {
      "text/plain": [
       "datetime.date(2022, 11, 10)"
      ]
     },
     "execution_count": 5,
     "metadata": {},
     "output_type": "execute_result"
    }
   ],
   "source": [
    "v2"
   ]
  },
  {
   "cell_type": "code",
   "execution_count": 6,
   "id": "1807990a",
   "metadata": {},
   "outputs": [
    {
     "data": {
      "text/plain": [
       "True"
      ]
     },
     "execution_count": 6,
     "metadata": {},
     "output_type": "execute_result"
    }
   ],
   "source": [
    "v2 > v1"
   ]
  },
  {
   "cell_type": "code",
   "execution_count": 7,
   "id": "4680add2",
   "metadata": {},
   "outputs": [
    {
     "data": {
      "text/plain": [
       "True"
      ]
     },
     "execution_count": 7,
     "metadata": {},
     "output_type": "execute_result"
    }
   ],
   "source": [
    "v2 > dt.date(2019,11,9)"
   ]
  },
  {
   "cell_type": "markdown",
   "id": "54189aed",
   "metadata": {},
   "source": [
    "3 - Creare una stringa \"2020/11/09\" e convertirla in data"
   ]
  },
  {
   "cell_type": "code",
   "execution_count": 8,
   "id": "598b2960",
   "metadata": {},
   "outputs": [],
   "source": [
    "v3 = \"2020/11/09\""
   ]
  },
  {
   "cell_type": "code",
   "execution_count": 9,
   "id": "ef50647d",
   "metadata": {},
   "outputs": [],
   "source": [
    "v3 = dt.datetime.strptime(\"2020/11/09\",\"%Y/%m/%d\")"
   ]
  },
  {
   "cell_type": "code",
   "execution_count": 10,
   "id": "d69f0b6e",
   "metadata": {},
   "outputs": [
    {
     "name": "stdout",
     "output_type": "stream",
     "text": [
      "2020-11-09 00:00:00\n"
     ]
    }
   ],
   "source": [
    "print(v3)"
   ]
  },
  {
   "cell_type": "markdown",
   "id": "aad90f6e",
   "metadata": {},
   "source": [
    "4 - Creare una data e convertirla in stringa"
   ]
  },
  {
   "cell_type": "code",
   "execution_count": 11,
   "id": "acb724c1",
   "metadata": {},
   "outputs": [
    {
     "name": "stdout",
     "output_type": "stream",
     "text": [
      "2021-11-09\n"
     ]
    }
   ],
   "source": [
    "v4 = dt.date(2021,11,9)\n",
    "print(v4)"
   ]
  },
  {
   "cell_type": "code",
   "execution_count": 12,
   "id": "bf3bb7eb",
   "metadata": {},
   "outputs": [
    {
     "data": {
      "text/plain": [
       "'November/09/2021'"
      ]
     },
     "execution_count": 12,
     "metadata": {},
     "output_type": "execute_result"
    }
   ],
   "source": [
    "v4.strftime((\"%B/%d/%Y\"))"
   ]
  },
  {
   "cell_type": "code",
   "execution_count": 13,
   "id": "ef3c8a96",
   "metadata": {},
   "outputs": [
    {
     "data": {
      "text/plain": [
       "'09/November/2021'"
      ]
     },
     "execution_count": 13,
     "metadata": {},
     "output_type": "execute_result"
    }
   ],
   "source": [
    "v4.strftime(\"%d/%B/%Y\")"
   ]
  },
  {
   "cell_type": "markdown",
   "id": "c671c597",
   "metadata": {},
   "source": [
    "5 - Creare un vettore di date con granularità giornaliera, inizio il giorno di Natale e fine 15/1/2022"
   ]
  },
  {
   "cell_type": "code",
   "execution_count": 14,
   "id": "93db12c2",
   "metadata": {},
   "outputs": [
    {
     "name": "stdout",
     "output_type": "stream",
     "text": [
      "DatetimeIndex(['2021-12-25', '2021-12-26', '2021-12-27', '2021-12-28',\n",
      "               '2021-12-29', '2021-12-30', '2021-12-31', '2022-01-01',\n",
      "               '2022-01-02', '2022-01-03', '2022-01-04', '2022-01-05',\n",
      "               '2022-01-06', '2022-01-07', '2022-01-08', '2022-01-09',\n",
      "               '2022-01-10', '2022-01-11', '2022-01-12', '2022-01-13',\n",
      "               '2022-01-14', '2022-01-15'],\n",
      "              dtype='datetime64[ns]', freq='D')\n"
     ]
    }
   ],
   "source": [
    "v5 = pd.date_range(start = \"25/12/2021\", end = \"15/1/2022\", freq  = \"D\")\n",
    "print(v5)"
   ]
  },
  {
   "cell_type": "markdown",
   "id": "f6f3d368",
   "metadata": {},
   "source": [
    "### Esercizio 2 - Grafici"
   ]
  },
  {
   "cell_type": "markdown",
   "id": "9fdea688",
   "metadata": {},
   "source": [
    "1 - Creare un vettore di numeri casuali scelti nell'intervallo 1:50 e composto da 100 elementi e farer un grafico a punti"
   ]
  },
  {
   "cell_type": "code",
   "execution_count": 15,
   "id": "040c8cfd",
   "metadata": {},
   "outputs": [],
   "source": [
    "import numpy as np\n",
    "import matplotlib.pyplot as plt"
   ]
  },
  {
   "cell_type": "code",
   "execution_count": 16,
   "id": "465170d5",
   "metadata": {},
   "outputs": [
    {
     "data": {
      "image/png": "[encoded data removed]",
      "text/plain": [
       "<Figure size 1152x648 with 1 Axes>"
      ]
     },
     "metadata": {
      "needs_background": "light"
     },
     "output_type": "display_data"
    }
   ],
   "source": [
    "v6 = np.random.randint(1,50,100)\n",
    "#oppure\n",
    "#v6 = np.random.choice(np.arange(1,50), size = 100)\n",
    "plt.figure(figsize = (16,9))\n",
    "plt.plot(v6, 'ro');"
   ]
  },
  {
   "cell_type": "markdown",
   "id": "859fdea2",
   "metadata": {},
   "source": [
    "3 - Partendo dallo stesso vettore fare un grafico a linea con titolo \"Esempio\", legenda ascisse \"x\" e legenda ordinate \"f(x)"
   ]
  },
  {
   "cell_type": "code",
   "execution_count": 17,
   "id": "87b6cd8b",
   "metadata": {},
   "outputs": [
    {
     "data": {
      "image/png": "[encoded data removed]",
      "text/plain": [
       "<Figure size 1152x648 with 1 Axes>"
      ]
     },
     "metadata": {
      "needs_background": "light"
     },
     "output_type": "display_data"
    }
   ],
   "source": [
    "plt.figure(figsize = (16,9))\n",
    "plt.plot(v6, 'b')\n",
    "plt.title(\"Esempio\", fontsize = 15)\n",
    "plt.xlabel(\"X\", fontsize = 13)\n",
    "plt.ylabel(\"f(X)\", fontsize = 13)\n",
    "plt.grid()"
   ]
  },
  {
   "cell_type": "markdown",
   "id": "4d56dbcc",
   "metadata": {},
   "source": [
    "3 - Traccire una linea orizzontale con un  valore pari al valore medio di v6"
   ]
  },
  {
   "cell_type": "code",
   "execution_count": 18,
   "id": "b6ccffb3",
   "metadata": {},
   "outputs": [
    {
     "name": "stdout",
     "output_type": "stream",
     "text": [
      "25.24\n"
     ]
    }
   ],
   "source": [
    "v7 = np.average(v6)\n",
    "print(v7)"
   ]
  },
  {
   "cell_type": "code",
   "execution_count": 19,
   "id": "de46a972",
   "metadata": {},
   "outputs": [
    {
     "data": {
      "text/plain": [
       "<matplotlib.lines.Line2D at 0x2581712a670>"
      ]
     },
     "execution_count": 19,
     "metadata": {},
     "output_type": "execute_result"
    },
    {
     "data": {
      "image/png": "[encoded data removed]",
      "text/plain": [
       "<Figure size 432x288 with 1 Axes>"
      ]
     },
     "metadata": {
      "needs_background": "light"
     },
     "output_type": "display_data"
    }
   ],
   "source": [
    "plt.axhline(y = v7, linewidth = 2, color = 'red')"
   ]
  },
  {
   "cell_type": "code",
   "execution_count": 20,
   "id": "56effd05",
   "metadata": {},
   "outputs": [
    {
     "data": {
      "image/png": "[encoded data removed]",
      "text/plain": [
       "<Figure size 1152x648 with 1 Axes>"
      ]
     },
     "metadata": {
      "needs_background": "light"
     },
     "output_type": "display_data"
    }
   ],
   "source": [
    "plt.figure(figsize = (16,9))\n",
    "plt.plot(v6, 'b')\n",
    "plt.axhline(y = v7, linewidth = 2, color = 'red')\n",
    "plt.title(\"Esempio\", fontsize = 15)\n",
    "plt.xlabel(\"X\", fontsize = 13)\n",
    "plt.ylabel(\"f(X)\", fontsize = 13)\n",
    "plt.grid()"
   ]
  },
  {
   "cell_type": "markdown",
   "id": "28f87838",
   "metadata": {},
   "source": [
    "### Esercizio 3 - Serie multivariata"
   ]
  },
  {
   "cell_type": "markdown",
   "id": "9d141768",
   "metadata": {},
   "source": [
    "Creare 3 serie storiche univariata di interi casuali compresi fra 1 e 50 con inizio 1-1-2000 e fine 1/1/2002 comn frequenza mensile. Comn le tre serie creare un Dataframe (serie storiche multivariate). Infine stampare i primi e ultimi valori del DF"
   ]
  },
  {
   "cell_type": "code",
   "execution_count": 21,
   "id": "1f4e8f76",
   "metadata": {},
   "outputs": [],
   "source": [
    "mydates = pd.date_range(start = \"1/1/2000\", end = \"1/1/2002\", freq = \"M\")"
   ]
  },
  {
   "cell_type": "code",
   "execution_count": 22,
   "id": "6b3c396b",
   "metadata": {},
   "outputs": [
    {
     "data": {
      "text/html": [
       "<div>\n",
       "<style scoped>\n",
       "    .dataframe tbody tr th:only-of-type {\n",
       "        vertical-align: middle;\n",
       "    }\n",
       "\n",
       "    .dataframe tbody tr th {\n",
       "        vertical-align: top;\n",
       "    }\n",
       "\n",
       "    .dataframe thead th {\n",
       "        text-align: right;\n",
       "    }\n",
       "</style>\n",
       "<table border=\"1\" class=\"dataframe\">\n",
       "  <thead>\n",
       "    <tr style=\"text-align: right;\">\n",
       "      <th></th>\n",
       "      <th>ts1</th>\n",
       "      <th>ts2</th>\n",
       "      <th>ts3</th>\n",
       "    </tr>\n",
       "  </thead>\n",
       "  <tbody>\n",
       "    <tr>\n",
       "      <th>2000-01-31</th>\n",
       "      <td>13</td>\n",
       "      <td>48</td>\n",
       "      <td>48</td>\n",
       "    </tr>\n",
       "    <tr>\n",
       "      <th>2000-02-29</th>\n",
       "      <td>42</td>\n",
       "      <td>44</td>\n",
       "      <td>33</td>\n",
       "    </tr>\n",
       "    <tr>\n",
       "      <th>2000-03-31</th>\n",
       "      <td>25</td>\n",
       "      <td>33</td>\n",
       "      <td>25</td>\n",
       "    </tr>\n",
       "    <tr>\n",
       "      <th>2000-04-30</th>\n",
       "      <td>22</td>\n",
       "      <td>11</td>\n",
       "      <td>49</td>\n",
       "    </tr>\n",
       "    <tr>\n",
       "      <th>2000-05-31</th>\n",
       "      <td>17</td>\n",
       "      <td>33</td>\n",
       "      <td>29</td>\n",
       "    </tr>\n",
       "  </tbody>\n",
       "</table>\n",
       "</div>"
      ],
      "text/plain": [
       "            ts1  ts2  ts3\n",
       "2000-01-31   13   48   48\n",
       "2000-02-29   42   44   33\n",
       "2000-03-31   25   33   25\n",
       "2000-04-30   22   11   49\n",
       "2000-05-31   17   33   29"
      ]
     },
     "execution_count": 22,
     "metadata": {},
     "output_type": "execute_result"
    }
   ],
   "source": [
    "ts1 = pd.Series(np.random.choice(np.arange(1,50), len(mydates)), index = mydates)\n",
    "ts2 = pd.Series(np.random.choice(np.arange(1,50), len(mydates)), index = mydates)\n",
    "ts3 = pd.Series(np.random.choice(np.arange(1,50), len(mydates)), index = mydates)\n",
    "v8 = pd.concat([ts1, ts2, ts3], axis = 1) # creazione del dataframe\n",
    "v8.columns = [\"ts1\", \"ts2\", \"ts3\"] #rinomino le colonne\n",
    "v8.head()\n"
   ]
  },
  {
   "cell_type": "code",
   "execution_count": 23,
   "id": "f082ea66",
   "metadata": {},
   "outputs": [
    {
     "data": {
      "text/html": [
       "<div>\n",
       "<style scoped>\n",
       "    .dataframe tbody tr th:only-of-type {\n",
       "        vertical-align: middle;\n",
       "    }\n",
       "\n",
       "    .dataframe tbody tr th {\n",
       "        vertical-align: top;\n",
       "    }\n",
       "\n",
       "    .dataframe thead th {\n",
       "        text-align: right;\n",
       "    }\n",
       "</style>\n",
       "<table border=\"1\" class=\"dataframe\">\n",
       "  <thead>\n",
       "    <tr style=\"text-align: right;\">\n",
       "      <th></th>\n",
       "      <th>ts1</th>\n",
       "      <th>ts2</th>\n",
       "      <th>ts3</th>\n",
       "    </tr>\n",
       "  </thead>\n",
       "  <tbody>\n",
       "    <tr>\n",
       "      <th>2001-08-31</th>\n",
       "      <td>19</td>\n",
       "      <td>40</td>\n",
       "      <td>30</td>\n",
       "    </tr>\n",
       "    <tr>\n",
       "      <th>2001-09-30</th>\n",
       "      <td>9</td>\n",
       "      <td>5</td>\n",
       "      <td>30</td>\n",
       "    </tr>\n",
       "    <tr>\n",
       "      <th>2001-10-31</th>\n",
       "      <td>10</td>\n",
       "      <td>17</td>\n",
       "      <td>16</td>\n",
       "    </tr>\n",
       "    <tr>\n",
       "      <th>2001-11-30</th>\n",
       "      <td>44</td>\n",
       "      <td>10</td>\n",
       "      <td>39</td>\n",
       "    </tr>\n",
       "    <tr>\n",
       "      <th>2001-12-31</th>\n",
       "      <td>12</td>\n",
       "      <td>32</td>\n",
       "      <td>35</td>\n",
       "    </tr>\n",
       "  </tbody>\n",
       "</table>\n",
       "</div>"
      ],
      "text/plain": [
       "            ts1  ts2  ts3\n",
       "2001-08-31   19   40   30\n",
       "2001-09-30    9    5   30\n",
       "2001-10-31   10   17   16\n",
       "2001-11-30   44   10   39\n",
       "2001-12-31   12   32   35"
      ]
     },
     "execution_count": 23,
     "metadata": {},
     "output_type": "execute_result"
    }
   ],
   "source": [
    "v8.tail()"
   ]
  },
  {
   "cell_type": "code",
   "execution_count": 24,
   "id": "c162bde2",
   "metadata": {},
   "outputs": [],
   "source": [
    "# oppure"
   ]
  },
  {
   "cell_type": "code",
   "execution_count": 25,
   "id": "b25ce237",
   "metadata": {},
   "outputs": [
    {
     "data": {
      "text/html": [
       "<div>\n",
       "<style scoped>\n",
       "    .dataframe tbody tr th:only-of-type {\n",
       "        vertical-align: middle;\n",
       "    }\n",
       "\n",
       "    .dataframe tbody tr th {\n",
       "        vertical-align: top;\n",
       "    }\n",
       "\n",
       "    .dataframe thead th {\n",
       "        text-align: right;\n",
       "    }\n",
       "</style>\n",
       "<table border=\"1\" class=\"dataframe\">\n",
       "  <thead>\n",
       "    <tr style=\"text-align: right;\">\n",
       "      <th></th>\n",
       "      <th>ts1</th>\n",
       "      <th>ts2</th>\n",
       "      <th>ts3</th>\n",
       "    </tr>\n",
       "  </thead>\n",
       "  <tbody>\n",
       "    <tr>\n",
       "      <th>2000-01-31</th>\n",
       "      <td>-0.640459</td>\n",
       "      <td>0.758729</td>\n",
       "      <td>0.486453</td>\n",
       "    </tr>\n",
       "    <tr>\n",
       "      <th>2000-02-29</th>\n",
       "      <td>-0.443510</td>\n",
       "      <td>-2.029312</td>\n",
       "      <td>0.350419</td>\n",
       "    </tr>\n",
       "    <tr>\n",
       "      <th>2000-03-31</th>\n",
       "      <td>1.860994</td>\n",
       "      <td>-0.712759</td>\n",
       "      <td>1.325048</td>\n",
       "    </tr>\n",
       "    <tr>\n",
       "      <th>2000-04-30</th>\n",
       "      <td>-0.378365</td>\n",
       "      <td>-0.430456</td>\n",
       "      <td>2.110673</td>\n",
       "    </tr>\n",
       "    <tr>\n",
       "      <th>2000-05-31</th>\n",
       "      <td>-1.230767</td>\n",
       "      <td>1.931073</td>\n",
       "      <td>-0.209279</td>\n",
       "    </tr>\n",
       "  </tbody>\n",
       "</table>\n",
       "</div>"
      ],
      "text/plain": [
       "                 ts1       ts2       ts3\n",
       "2000-01-31 -0.640459  0.758729  0.486453\n",
       "2000-02-29 -0.443510 -2.029312  0.350419\n",
       "2000-03-31  1.860994 -0.712759  1.325048\n",
       "2000-04-30 -0.378365 -0.430456  2.110673\n",
       "2000-05-31 -1.230767  1.931073 -0.209279"
      ]
     },
     "execution_count": 25,
     "metadata": {},
     "output_type": "execute_result"
    }
   ],
   "source": [
    "data = np.random.randn(len(mydates),3) # creazione della matrice \n",
    "v9 = pd.DataFrame(data, index = mydates, columns = [\"ts1\", \"ts2\", \"ts3\"])\n",
    "v9.head()"
   ]
  },
  {
   "cell_type": "code",
   "execution_count": 26,
   "id": "56af1edf",
   "metadata": {},
   "outputs": [
    {
     "data": {
      "text/html": [
       "<div>\n",
       "<style scoped>\n",
       "    .dataframe tbody tr th:only-of-type {\n",
       "        vertical-align: middle;\n",
       "    }\n",
       "\n",
       "    .dataframe tbody tr th {\n",
       "        vertical-align: top;\n",
       "    }\n",
       "\n",
       "    .dataframe thead th {\n",
       "        text-align: right;\n",
       "    }\n",
       "</style>\n",
       "<table border=\"1\" class=\"dataframe\">\n",
       "  <thead>\n",
       "    <tr style=\"text-align: right;\">\n",
       "      <th></th>\n",
       "      <th>ts1</th>\n",
       "      <th>ts2</th>\n",
       "      <th>ts3</th>\n",
       "    </tr>\n",
       "  </thead>\n",
       "  <tbody>\n",
       "    <tr>\n",
       "      <th>2001-08-31</th>\n",
       "      <td>-1.466746</td>\n",
       "      <td>0.382639</td>\n",
       "      <td>-1.424995</td>\n",
       "    </tr>\n",
       "    <tr>\n",
       "      <th>2001-09-30</th>\n",
       "      <td>-1.544339</td>\n",
       "      <td>-0.565382</td>\n",
       "      <td>-0.634324</td>\n",
       "    </tr>\n",
       "    <tr>\n",
       "      <th>2001-10-31</th>\n",
       "      <td>0.644498</td>\n",
       "      <td>-0.518683</td>\n",
       "      <td>1.047545</td>\n",
       "    </tr>\n",
       "    <tr>\n",
       "      <th>2001-11-30</th>\n",
       "      <td>1.808842</td>\n",
       "      <td>1.046287</td>\n",
       "      <td>0.686593</td>\n",
       "    </tr>\n",
       "    <tr>\n",
       "      <th>2001-12-31</th>\n",
       "      <td>-0.795230</td>\n",
       "      <td>0.705646</td>\n",
       "      <td>-0.647753</td>\n",
       "    </tr>\n",
       "  </tbody>\n",
       "</table>\n",
       "</div>"
      ],
      "text/plain": [
       "                 ts1       ts2       ts3\n",
       "2001-08-31 -1.466746  0.382639 -1.424995\n",
       "2001-09-30 -1.544339 -0.565382 -0.634324\n",
       "2001-10-31  0.644498 -0.518683  1.047545\n",
       "2001-11-30  1.808842  1.046287  0.686593\n",
       "2001-12-31 -0.795230  0.705646 -0.647753"
      ]
     },
     "execution_count": 26,
     "metadata": {},
     "output_type": "execute_result"
    }
   ],
   "source": [
    "v9.tail()"
   ]
  },
  {
   "cell_type": "markdown",
   "id": "c5668b09",
   "metadata": {},
   "source": [
    "### Esercizio 4 - Serie di prezzi di azioni USA"
   ]
  },
  {
   "cell_type": "markdown",
   "id": "4db765f7",
   "metadata": {},
   "source": [
    "Scaricare i prezzi di Netflix (NFLX) e Amazon (AMZN) dal sito di Yahoo. \n",
    "Verificare il tipi di dati, mostrare i nomi delle colonne e definire come indice le date"
   ]
  },
  {
   "cell_type": "code",
   "execution_count": 27,
   "id": "f934a33f",
   "metadata": {},
   "outputs": [],
   "source": [
    "NFLX = pd.read_csv(\"NFLX.csv\")"
   ]
  },
  {
   "cell_type": "code",
   "execution_count": 28,
   "id": "c41703de",
   "metadata": {},
   "outputs": [
    {
     "data": {
      "text/html": [
       "<div>\n",
       "<style scoped>\n",
       "    .dataframe tbody tr th:only-of-type {\n",
       "        vertical-align: middle;\n",
       "    }\n",
       "\n",
       "    .dataframe tbody tr th {\n",
       "        vertical-align: top;\n",
       "    }\n",
       "\n",
       "    .dataframe thead th {\n",
       "        text-align: right;\n",
       "    }\n",
       "</style>\n",
       "<table border=\"1\" class=\"dataframe\">\n",
       "  <thead>\n",
       "    <tr style=\"text-align: right;\">\n",
       "      <th></th>\n",
       "      <th>Date</th>\n",
       "      <th>Open</th>\n",
       "      <th>High</th>\n",
       "      <th>Low</th>\n",
       "      <th>Close</th>\n",
       "      <th>Adj Close</th>\n",
       "      <th>Volume</th>\n",
       "    </tr>\n",
       "  </thead>\n",
       "  <tbody>\n",
       "    <tr>\n",
       "      <th>0</th>\n",
       "      <td>2011-11-01</td>\n",
       "      <td>11.444286</td>\n",
       "      <td>13.405714</td>\n",
       "      <td>8.910000</td>\n",
       "      <td>9.218571</td>\n",
       "      <td>9.218571</td>\n",
       "      <td>1053461500</td>\n",
       "    </tr>\n",
       "    <tr>\n",
       "      <th>1</th>\n",
       "      <td>2011-12-01</td>\n",
       "      <td>9.202857</td>\n",
       "      <td>11.084286</td>\n",
       "      <td>9.142857</td>\n",
       "      <td>9.898571</td>\n",
       "      <td>9.898571</td>\n",
       "      <td>842035600</td>\n",
       "    </tr>\n",
       "    <tr>\n",
       "      <th>2</th>\n",
       "      <td>2012-01-01</td>\n",
       "      <td>10.040000</td>\n",
       "      <td>18.497143</td>\n",
       "      <td>10.018571</td>\n",
       "      <td>17.171429</td>\n",
       "      <td>17.171429</td>\n",
       "      <td>1829322600</td>\n",
       "    </tr>\n",
       "    <tr>\n",
       "      <th>3</th>\n",
       "      <td>2012-02-01</td>\n",
       "      <td>17.344286</td>\n",
       "      <td>19.061428</td>\n",
       "      <td>15.234286</td>\n",
       "      <td>15.818571</td>\n",
       "      <td>15.818571</td>\n",
       "      <td>1002673700</td>\n",
       "    </tr>\n",
       "    <tr>\n",
       "      <th>4</th>\n",
       "      <td>2012-03-01</td>\n",
       "      <td>15.585714</td>\n",
       "      <td>17.639999</td>\n",
       "      <td>14.647143</td>\n",
       "      <td>16.434286</td>\n",
       "      <td>16.434286</td>\n",
       "      <td>814660700</td>\n",
       "    </tr>\n",
       "  </tbody>\n",
       "</table>\n",
       "</div>"
      ],
      "text/plain": [
       "         Date       Open       High        Low      Close  Adj Close  \\\n",
       "0  2011-11-01  11.444286  13.405714   8.910000   9.218571   9.218571   \n",
       "1  2011-12-01   9.202857  11.084286   9.142857   9.898571   9.898571   \n",
       "2  2012-01-01  10.040000  18.497143  10.018571  17.171429  17.171429   \n",
       "3  2012-02-01  17.344286  19.061428  15.234286  15.818571  15.818571   \n",
       "4  2012-03-01  15.585714  17.639999  14.647143  16.434286  16.434286   \n",
       "\n",
       "       Volume  \n",
       "0  1053461500  \n",
       "1   842035600  \n",
       "2  1829322600  \n",
       "3  1002673700  \n",
       "4   814660700  "
      ]
     },
     "execution_count": 28,
     "metadata": {},
     "output_type": "execute_result"
    }
   ],
   "source": [
    "NFLX.head()"
   ]
  },
  {
   "cell_type": "code",
   "execution_count": 29,
   "id": "da6a33ff",
   "metadata": {},
   "outputs": [
    {
     "data": {
      "text/plain": [
       "pandas.core.frame.DataFrame"
      ]
     },
     "execution_count": 29,
     "metadata": {},
     "output_type": "execute_result"
    }
   ],
   "source": [
    "type(NFLX)"
   ]
  },
  {
   "cell_type": "code",
   "execution_count": 30,
   "id": "7f0d8350",
   "metadata": {},
   "outputs": [
    {
     "data": {
      "text/html": [
       "<div>\n",
       "<style scoped>\n",
       "    .dataframe tbody tr th:only-of-type {\n",
       "        vertical-align: middle;\n",
       "    }\n",
       "\n",
       "    .dataframe tbody tr th {\n",
       "        vertical-align: top;\n",
       "    }\n",
       "\n",
       "    .dataframe thead th {\n",
       "        text-align: right;\n",
       "    }\n",
       "</style>\n",
       "<table border=\"1\" class=\"dataframe\">\n",
       "  <thead>\n",
       "    <tr style=\"text-align: right;\">\n",
       "      <th></th>\n",
       "      <th>Open</th>\n",
       "      <th>High</th>\n",
       "      <th>Low</th>\n",
       "      <th>Close</th>\n",
       "      <th>Adj Close</th>\n",
       "      <th>Volume</th>\n",
       "    </tr>\n",
       "  </thead>\n",
       "  <tbody>\n",
       "    <tr>\n",
       "      <th>count</th>\n",
       "      <td>120.000000</td>\n",
       "      <td>120.000000</td>\n",
       "      <td>120.000000</td>\n",
       "      <td>120.000000</td>\n",
       "      <td>120.000000</td>\n",
       "      <td>1.200000e+02</td>\n",
       "    </tr>\n",
       "    <tr>\n",
       "      <th>mean</th>\n",
       "      <td>197.874012</td>\n",
       "      <td>217.706486</td>\n",
       "      <td>184.477227</td>\n",
       "      <td>203.183310</td>\n",
       "      <td>203.183310</td>\n",
       "      <td>3.414241e+08</td>\n",
       "    </tr>\n",
       "    <tr>\n",
       "      <th>std</th>\n",
       "      <td>174.580183</td>\n",
       "      <td>190.509509</td>\n",
       "      <td>164.950351</td>\n",
       "      <td>179.046419</td>\n",
       "      <td>179.046419</td>\n",
       "      <td>2.815468e+08</td>\n",
       "    </tr>\n",
       "    <tr>\n",
       "      <th>min</th>\n",
       "      <td>7.800000</td>\n",
       "      <td>8.774286</td>\n",
       "      <td>7.544286</td>\n",
       "      <td>7.777143</td>\n",
       "      <td>7.777143</td>\n",
       "      <td>5.474230e+07</td>\n",
       "    </tr>\n",
       "    <tr>\n",
       "      <th>25%</th>\n",
       "      <td>52.332499</td>\n",
       "      <td>59.914999</td>\n",
       "      <td>47.076785</td>\n",
       "      <td>55.231429</td>\n",
       "      <td>55.231429</td>\n",
       "      <td>1.392606e+08</td>\n",
       "    </tr>\n",
       "    <tr>\n",
       "      <th>50%</th>\n",
       "      <td>120.994999</td>\n",
       "      <td>129.289993</td>\n",
       "      <td>112.264999</td>\n",
       "      <td>123.565002</td>\n",
       "      <td>123.565002</td>\n",
       "      <td>2.595662e+08</td>\n",
       "    </tr>\n",
       "    <tr>\n",
       "      <th>75%</th>\n",
       "      <td>338.774994</td>\n",
       "      <td>375.452499</td>\n",
       "      <td>307.089997</td>\n",
       "      <td>343.732498</td>\n",
       "      <td>343.732498</td>\n",
       "      <td>4.519684e+08</td>\n",
       "    </tr>\n",
       "    <tr>\n",
       "      <th>max</th>\n",
       "      <td>604.239990</td>\n",
       "      <td>690.969971</td>\n",
       "      <td>594.679993</td>\n",
       "      <td>690.309998</td>\n",
       "      <td>690.309998</td>\n",
       "      <td>1.829323e+09</td>\n",
       "    </tr>\n",
       "  </tbody>\n",
       "</table>\n",
       "</div>"
      ],
      "text/plain": [
       "             Open        High         Low       Close   Adj Close  \\\n",
       "count  120.000000  120.000000  120.000000  120.000000  120.000000   \n",
       "mean   197.874012  217.706486  184.477227  203.183310  203.183310   \n",
       "std    174.580183  190.509509  164.950351  179.046419  179.046419   \n",
       "min      7.800000    8.774286    7.544286    7.777143    7.777143   \n",
       "25%     52.332499   59.914999   47.076785   55.231429   55.231429   \n",
       "50%    120.994999  129.289993  112.264999  123.565002  123.565002   \n",
       "75%    338.774994  375.452499  307.089997  343.732498  343.732498   \n",
       "max    604.239990  690.969971  594.679993  690.309998  690.309998   \n",
       "\n",
       "             Volume  \n",
       "count  1.200000e+02  \n",
       "mean   3.414241e+08  \n",
       "std    2.815468e+08  \n",
       "min    5.474230e+07  \n",
       "25%    1.392606e+08  \n",
       "50%    2.595662e+08  \n",
       "75%    4.519684e+08  \n",
       "max    1.829323e+09  "
      ]
     },
     "execution_count": 30,
     "metadata": {},
     "output_type": "execute_result"
    }
   ],
   "source": [
    "NFLX.describe()"
   ]
  },
  {
   "cell_type": "code",
   "execution_count": 31,
   "id": "f8aaa485",
   "metadata": {},
   "outputs": [
    {
     "name": "stdout",
     "output_type": "stream",
     "text": [
      "<class 'pandas.core.frame.DataFrame'>\n",
      "RangeIndex: 120 entries, 0 to 119\n",
      "Data columns (total 7 columns):\n",
      " #   Column     Non-Null Count  Dtype  \n",
      "---  ------     --------------  -----  \n",
      " 0   Date       120 non-null    object \n",
      " 1   Open       120 non-null    float64\n",
      " 2   High       120 non-null    float64\n",
      " 3   Low        120 non-null    float64\n",
      " 4   Close      120 non-null    float64\n",
      " 5   Adj Close  120 non-null    float64\n",
      " 6   Volume     120 non-null    int64  \n",
      "dtypes: float64(5), int64(1), object(1)\n",
      "memory usage: 6.7+ KB\n"
     ]
    }
   ],
   "source": [
    "NFLX.info()"
   ]
  },
  {
   "cell_type": "code",
   "execution_count": 32,
   "id": "22874dba",
   "metadata": {},
   "outputs": [],
   "source": [
    "AMZN = pd.read_csv(\"AMZN.csv\")"
   ]
  },
  {
   "cell_type": "code",
   "execution_count": 33,
   "id": "6afad04f",
   "metadata": {},
   "outputs": [
    {
     "data": {
      "text/plain": [
       "pandas.core.frame.DataFrame"
      ]
     },
     "execution_count": 33,
     "metadata": {},
     "output_type": "execute_result"
    }
   ],
   "source": [
    "type(AMZN)"
   ]
  },
  {
   "cell_type": "code",
   "execution_count": 34,
   "id": "e8682018",
   "metadata": {},
   "outputs": [
    {
     "data": {
      "text/html": [
       "<div>\n",
       "<style scoped>\n",
       "    .dataframe tbody tr th:only-of-type {\n",
       "        vertical-align: middle;\n",
       "    }\n",
       "\n",
       "    .dataframe tbody tr th {\n",
       "        vertical-align: top;\n",
       "    }\n",
       "\n",
       "    .dataframe thead th {\n",
       "        text-align: right;\n",
       "    }\n",
       "</style>\n",
       "<table border=\"1\" class=\"dataframe\">\n",
       "  <thead>\n",
       "    <tr style=\"text-align: right;\">\n",
       "      <th></th>\n",
       "      <th>Open</th>\n",
       "      <th>High</th>\n",
       "      <th>Low</th>\n",
       "      <th>Close</th>\n",
       "      <th>Adj Close</th>\n",
       "      <th>Volume</th>\n",
       "    </tr>\n",
       "  </thead>\n",
       "  <tbody>\n",
       "    <tr>\n",
       "      <th>count</th>\n",
       "      <td>120.000000</td>\n",
       "      <td>120.000000</td>\n",
       "      <td>120.000000</td>\n",
       "      <td>120.000000</td>\n",
       "      <td>120.000000</td>\n",
       "      <td>1.200000e+02</td>\n",
       "    </tr>\n",
       "    <tr>\n",
       "      <th>mean</th>\n",
       "      <td>1176.970916</td>\n",
       "      <td>1262.040083</td>\n",
       "      <td>1111.424833</td>\n",
       "      <td>1200.363332</td>\n",
       "      <td>1200.363332</td>\n",
       "      <td>8.601065e+07</td>\n",
       "    </tr>\n",
       "    <tr>\n",
       "      <th>std</th>\n",
       "      <td>1014.624876</td>\n",
       "      <td>1085.035117</td>\n",
       "      <td>957.258552</td>\n",
       "      <td>1024.892988</td>\n",
       "      <td>1024.892988</td>\n",
       "      <td>2.643408e+07</td>\n",
       "    </tr>\n",
       "    <tr>\n",
       "      <th>min</th>\n",
       "      <td>173.809998</td>\n",
       "      <td>193.570007</td>\n",
       "      <td>166.970001</td>\n",
       "      <td>173.100006</td>\n",
       "      <td>173.100006</td>\n",
       "      <td>4.346880e+07</td>\n",
       "    </tr>\n",
       "    <tr>\n",
       "      <th>25%</th>\n",
       "      <td>324.904991</td>\n",
       "      <td>349.110001</td>\n",
       "      <td>302.004997</td>\n",
       "      <td>333.472496</td>\n",
       "      <td>333.472496</td>\n",
       "      <td>6.851402e+07</td>\n",
       "    </tr>\n",
       "    <tr>\n",
       "      <th>50%</th>\n",
       "      <td>765.385010</td>\n",
       "      <td>820.395019</td>\n",
       "      <td>749.024994</td>\n",
       "      <td>779.489990</td>\n",
       "      <td>779.489990</td>\n",
       "      <td>7.852170e+07</td>\n",
       "    </tr>\n",
       "    <tr>\n",
       "      <th>75%</th>\n",
       "      <td>1785.002502</td>\n",
       "      <td>1898.790039</td>\n",
       "      <td>1691.100037</td>\n",
       "      <td>1778.267456</td>\n",
       "      <td>1778.267456</td>\n",
       "      <td>9.671338e+07</td>\n",
       "    </tr>\n",
       "    <tr>\n",
       "      <th>max</th>\n",
       "      <td>3496.399902</td>\n",
       "      <td>3773.080078</td>\n",
       "      <td>3306.979980</td>\n",
       "      <td>3470.790039</td>\n",
       "      <td>3470.790039</td>\n",
       "      <td>1.832208e+08</td>\n",
       "    </tr>\n",
       "  </tbody>\n",
       "</table>\n",
       "</div>"
      ],
      "text/plain": [
       "              Open         High          Low        Close    Adj Close  \\\n",
       "count   120.000000   120.000000   120.000000   120.000000   120.000000   \n",
       "mean   1176.970916  1262.040083  1111.424833  1200.363332  1200.363332   \n",
       "std    1014.624876  1085.035117   957.258552  1024.892988  1024.892988   \n",
       "min     173.809998   193.570007   166.970001   173.100006   173.100006   \n",
       "25%     324.904991   349.110001   302.004997   333.472496   333.472496   \n",
       "50%     765.385010   820.395019   749.024994   779.489990   779.489990   \n",
       "75%    1785.002502  1898.790039  1691.100037  1778.267456  1778.267456   \n",
       "max    3496.399902  3773.080078  3306.979980  3470.790039  3470.790039   \n",
       "\n",
       "             Volume  \n",
       "count  1.200000e+02  \n",
       "mean   8.601065e+07  \n",
       "std    2.643408e+07  \n",
       "min    4.346880e+07  \n",
       "25%    6.851402e+07  \n",
       "50%    7.852170e+07  \n",
       "75%    9.671338e+07  \n",
       "max    1.832208e+08  "
      ]
     },
     "execution_count": 34,
     "metadata": {},
     "output_type": "execute_result"
    }
   ],
   "source": [
    "AMZN.describe()"
   ]
  },
  {
   "cell_type": "code",
   "execution_count": 35,
   "id": "d87d149b",
   "metadata": {},
   "outputs": [
    {
     "data": {
      "text/html": [
       "<div>\n",
       "<style scoped>\n",
       "    .dataframe tbody tr th:only-of-type {\n",
       "        vertical-align: middle;\n",
       "    }\n",
       "\n",
       "    .dataframe tbody tr th {\n",
       "        vertical-align: top;\n",
       "    }\n",
       "\n",
       "    .dataframe thead th {\n",
       "        text-align: right;\n",
       "    }\n",
       "</style>\n",
       "<table border=\"1\" class=\"dataframe\">\n",
       "  <thead>\n",
       "    <tr style=\"text-align: right;\">\n",
       "      <th></th>\n",
       "      <th>Open</th>\n",
       "      <th>High</th>\n",
       "      <th>Low</th>\n",
       "      <th>Close</th>\n",
       "      <th>Adj Close</th>\n",
       "      <th>Volume</th>\n",
       "    </tr>\n",
       "  </thead>\n",
       "  <tbody>\n",
       "    <tr>\n",
       "      <th>count</th>\n",
       "      <td>120.000000</td>\n",
       "      <td>120.000000</td>\n",
       "      <td>120.000000</td>\n",
       "      <td>120.000000</td>\n",
       "      <td>120.000000</td>\n",
       "      <td>1.200000e+02</td>\n",
       "    </tr>\n",
       "    <tr>\n",
       "      <th>mean</th>\n",
       "      <td>1176.970916</td>\n",
       "      <td>1262.040083</td>\n",
       "      <td>1111.424833</td>\n",
       "      <td>1200.363332</td>\n",
       "      <td>1200.363332</td>\n",
       "      <td>8.601065e+07</td>\n",
       "    </tr>\n",
       "    <tr>\n",
       "      <th>std</th>\n",
       "      <td>1014.624876</td>\n",
       "      <td>1085.035117</td>\n",
       "      <td>957.258552</td>\n",
       "      <td>1024.892988</td>\n",
       "      <td>1024.892988</td>\n",
       "      <td>2.643408e+07</td>\n",
       "    </tr>\n",
       "    <tr>\n",
       "      <th>min</th>\n",
       "      <td>173.809998</td>\n",
       "      <td>193.570007</td>\n",
       "      <td>166.970001</td>\n",
       "      <td>173.100006</td>\n",
       "      <td>173.100006</td>\n",
       "      <td>4.346880e+07</td>\n",
       "    </tr>\n",
       "    <tr>\n",
       "      <th>25%</th>\n",
       "      <td>324.904991</td>\n",
       "      <td>349.110001</td>\n",
       "      <td>302.004997</td>\n",
       "      <td>333.472496</td>\n",
       "      <td>333.472496</td>\n",
       "      <td>6.851402e+07</td>\n",
       "    </tr>\n",
       "    <tr>\n",
       "      <th>50%</th>\n",
       "      <td>765.385010</td>\n",
       "      <td>820.395019</td>\n",
       "      <td>749.024994</td>\n",
       "      <td>779.489990</td>\n",
       "      <td>779.489990</td>\n",
       "      <td>7.852170e+07</td>\n",
       "    </tr>\n",
       "    <tr>\n",
       "      <th>75%</th>\n",
       "      <td>1785.002502</td>\n",
       "      <td>1898.790039</td>\n",
       "      <td>1691.100037</td>\n",
       "      <td>1778.267456</td>\n",
       "      <td>1778.267456</td>\n",
       "      <td>9.671338e+07</td>\n",
       "    </tr>\n",
       "    <tr>\n",
       "      <th>max</th>\n",
       "      <td>3496.399902</td>\n",
       "      <td>3773.080078</td>\n",
       "      <td>3306.979980</td>\n",
       "      <td>3470.790039</td>\n",
       "      <td>3470.790039</td>\n",
       "      <td>1.832208e+08</td>\n",
       "    </tr>\n",
       "  </tbody>\n",
       "</table>\n",
       "</div>"
      ],
      "text/plain": [
       "              Open         High          Low        Close    Adj Close  \\\n",
       "count   120.000000   120.000000   120.000000   120.000000   120.000000   \n",
       "mean   1176.970916  1262.040083  1111.424833  1200.363332  1200.363332   \n",
       "std    1014.624876  1085.035117   957.258552  1024.892988  1024.892988   \n",
       "min     173.809998   193.570007   166.970001   173.100006   173.100006   \n",
       "25%     324.904991   349.110001   302.004997   333.472496   333.472496   \n",
       "50%     765.385010   820.395019   749.024994   779.489990   779.489990   \n",
       "75%    1785.002502  1898.790039  1691.100037  1778.267456  1778.267456   \n",
       "max    3496.399902  3773.080078  3306.979980  3470.790039  3470.790039   \n",
       "\n",
       "             Volume  \n",
       "count  1.200000e+02  \n",
       "mean   8.601065e+07  \n",
       "std    2.643408e+07  \n",
       "min    4.346880e+07  \n",
       "25%    6.851402e+07  \n",
       "50%    7.852170e+07  \n",
       "75%    9.671338e+07  \n",
       "max    1.832208e+08  "
      ]
     },
     "execution_count": 35,
     "metadata": {},
     "output_type": "execute_result"
    }
   ],
   "source": [
    "AMZN.describe()"
   ]
  },
  {
   "cell_type": "code",
   "execution_count": 36,
   "id": "17e4469b",
   "metadata": {},
   "outputs": [
    {
     "name": "stdout",
     "output_type": "stream",
     "text": [
      "<class 'pandas.core.frame.DataFrame'>\n",
      "RangeIndex: 120 entries, 0 to 119\n",
      "Data columns (total 7 columns):\n",
      " #   Column     Non-Null Count  Dtype  \n",
      "---  ------     --------------  -----  \n",
      " 0   Date       120 non-null    object \n",
      " 1   Open       120 non-null    float64\n",
      " 2   High       120 non-null    float64\n",
      " 3   Low        120 non-null    float64\n",
      " 4   Close      120 non-null    float64\n",
      " 5   Adj Close  120 non-null    float64\n",
      " 6   Volume     120 non-null    int64  \n",
      "dtypes: float64(5), int64(1), object(1)\n",
      "memory usage: 6.7+ KB\n"
     ]
    }
   ],
   "source": [
    "AMZN.info()"
   ]
  },
  {
   "cell_type": "code",
   "execution_count": 37,
   "id": "af0913de",
   "metadata": {},
   "outputs": [],
   "source": [
    "NFLX.index = pd.to_datetime(NFLX.Date)"
   ]
  },
  {
   "cell_type": "code",
   "execution_count": 38,
   "id": "5991a989",
   "metadata": {},
   "outputs": [
    {
     "data": {
      "text/html": [
       "<div>\n",
       "<style scoped>\n",
       "    .dataframe tbody tr th:only-of-type {\n",
       "        vertical-align: middle;\n",
       "    }\n",
       "\n",
       "    .dataframe tbody tr th {\n",
       "        vertical-align: top;\n",
       "    }\n",
       "\n",
       "    .dataframe thead th {\n",
       "        text-align: right;\n",
       "    }\n",
       "</style>\n",
       "<table border=\"1\" class=\"dataframe\">\n",
       "  <thead>\n",
       "    <tr style=\"text-align: right;\">\n",
       "      <th></th>\n",
       "      <th>Date</th>\n",
       "      <th>Open</th>\n",
       "      <th>High</th>\n",
       "      <th>Low</th>\n",
       "      <th>Close</th>\n",
       "      <th>Adj Close</th>\n",
       "      <th>Volume</th>\n",
       "    </tr>\n",
       "    <tr>\n",
       "      <th>Date</th>\n",
       "      <th></th>\n",
       "      <th></th>\n",
       "      <th></th>\n",
       "      <th></th>\n",
       "      <th></th>\n",
       "      <th></th>\n",
       "      <th></th>\n",
       "    </tr>\n",
       "  </thead>\n",
       "  <tbody>\n",
       "    <tr>\n",
       "      <th>2011-11-01</th>\n",
       "      <td>2011-11-01</td>\n",
       "      <td>11.444286</td>\n",
       "      <td>13.405714</td>\n",
       "      <td>8.910000</td>\n",
       "      <td>9.218571</td>\n",
       "      <td>9.218571</td>\n",
       "      <td>1053461500</td>\n",
       "    </tr>\n",
       "    <tr>\n",
       "      <th>2011-12-01</th>\n",
       "      <td>2011-12-01</td>\n",
       "      <td>9.202857</td>\n",
       "      <td>11.084286</td>\n",
       "      <td>9.142857</td>\n",
       "      <td>9.898571</td>\n",
       "      <td>9.898571</td>\n",
       "      <td>842035600</td>\n",
       "    </tr>\n",
       "    <tr>\n",
       "      <th>2012-01-01</th>\n",
       "      <td>2012-01-01</td>\n",
       "      <td>10.040000</td>\n",
       "      <td>18.497143</td>\n",
       "      <td>10.018571</td>\n",
       "      <td>17.171429</td>\n",
       "      <td>17.171429</td>\n",
       "      <td>1829322600</td>\n",
       "    </tr>\n",
       "    <tr>\n",
       "      <th>2012-02-01</th>\n",
       "      <td>2012-02-01</td>\n",
       "      <td>17.344286</td>\n",
       "      <td>19.061428</td>\n",
       "      <td>15.234286</td>\n",
       "      <td>15.818571</td>\n",
       "      <td>15.818571</td>\n",
       "      <td>1002673700</td>\n",
       "    </tr>\n",
       "    <tr>\n",
       "      <th>2012-03-01</th>\n",
       "      <td>2012-03-01</td>\n",
       "      <td>15.585714</td>\n",
       "      <td>17.639999</td>\n",
       "      <td>14.647143</td>\n",
       "      <td>16.434286</td>\n",
       "      <td>16.434286</td>\n",
       "      <td>814660700</td>\n",
       "    </tr>\n",
       "  </tbody>\n",
       "</table>\n",
       "</div>"
      ],
      "text/plain": [
       "                  Date       Open       High        Low      Close  Adj Close  \\\n",
       "Date                                                                            \n",
       "2011-11-01  2011-11-01  11.444286  13.405714   8.910000   9.218571   9.218571   \n",
       "2011-12-01  2011-12-01   9.202857  11.084286   9.142857   9.898571   9.898571   \n",
       "2012-01-01  2012-01-01  10.040000  18.497143  10.018571  17.171429  17.171429   \n",
       "2012-02-01  2012-02-01  17.344286  19.061428  15.234286  15.818571  15.818571   \n",
       "2012-03-01  2012-03-01  15.585714  17.639999  14.647143  16.434286  16.434286   \n",
       "\n",
       "                Volume  \n",
       "Date                    \n",
       "2011-11-01  1053461500  \n",
       "2011-12-01   842035600  \n",
       "2012-01-01  1829322600  \n",
       "2012-02-01  1002673700  \n",
       "2012-03-01   814660700  "
      ]
     },
     "execution_count": 38,
     "metadata": {},
     "output_type": "execute_result"
    }
   ],
   "source": [
    "NFLX.head()"
   ]
  },
  {
   "cell_type": "code",
   "execution_count": 39,
   "id": "f2e04050",
   "metadata": {},
   "outputs": [],
   "source": [
    "NFLX = NFLX.drop(columns = \"Date\")"
   ]
  },
  {
   "cell_type": "code",
   "execution_count": 40,
   "id": "97b024c8",
   "metadata": {},
   "outputs": [
    {
     "data": {
      "text/html": [
       "<div>\n",
       "<style scoped>\n",
       "    .dataframe tbody tr th:only-of-type {\n",
       "        vertical-align: middle;\n",
       "    }\n",
       "\n",
       "    .dataframe tbody tr th {\n",
       "        vertical-align: top;\n",
       "    }\n",
       "\n",
       "    .dataframe thead th {\n",
       "        text-align: right;\n",
       "    }\n",
       "</style>\n",
       "<table border=\"1\" class=\"dataframe\">\n",
       "  <thead>\n",
       "    <tr style=\"text-align: right;\">\n",
       "      <th></th>\n",
       "      <th>Open</th>\n",
       "      <th>High</th>\n",
       "      <th>Low</th>\n",
       "      <th>Close</th>\n",
       "      <th>Adj Close</th>\n",
       "      <th>Volume</th>\n",
       "    </tr>\n",
       "    <tr>\n",
       "      <th>Date</th>\n",
       "      <th></th>\n",
       "      <th></th>\n",
       "      <th></th>\n",
       "      <th></th>\n",
       "      <th></th>\n",
       "      <th></th>\n",
       "    </tr>\n",
       "  </thead>\n",
       "  <tbody>\n",
       "    <tr>\n",
       "      <th>2011-11-01</th>\n",
       "      <td>11.444286</td>\n",
       "      <td>13.405714</td>\n",
       "      <td>8.910000</td>\n",
       "      <td>9.218571</td>\n",
       "      <td>9.218571</td>\n",
       "      <td>1053461500</td>\n",
       "    </tr>\n",
       "    <tr>\n",
       "      <th>2011-12-01</th>\n",
       "      <td>9.202857</td>\n",
       "      <td>11.084286</td>\n",
       "      <td>9.142857</td>\n",
       "      <td>9.898571</td>\n",
       "      <td>9.898571</td>\n",
       "      <td>842035600</td>\n",
       "    </tr>\n",
       "    <tr>\n",
       "      <th>2012-01-01</th>\n",
       "      <td>10.040000</td>\n",
       "      <td>18.497143</td>\n",
       "      <td>10.018571</td>\n",
       "      <td>17.171429</td>\n",
       "      <td>17.171429</td>\n",
       "      <td>1829322600</td>\n",
       "    </tr>\n",
       "    <tr>\n",
       "      <th>2012-02-01</th>\n",
       "      <td>17.344286</td>\n",
       "      <td>19.061428</td>\n",
       "      <td>15.234286</td>\n",
       "      <td>15.818571</td>\n",
       "      <td>15.818571</td>\n",
       "      <td>1002673700</td>\n",
       "    </tr>\n",
       "    <tr>\n",
       "      <th>2012-03-01</th>\n",
       "      <td>15.585714</td>\n",
       "      <td>17.639999</td>\n",
       "      <td>14.647143</td>\n",
       "      <td>16.434286</td>\n",
       "      <td>16.434286</td>\n",
       "      <td>814660700</td>\n",
       "    </tr>\n",
       "  </tbody>\n",
       "</table>\n",
       "</div>"
      ],
      "text/plain": [
       "                 Open       High        Low      Close  Adj Close      Volume\n",
       "Date                                                                         \n",
       "2011-11-01  11.444286  13.405714   8.910000   9.218571   9.218571  1053461500\n",
       "2011-12-01   9.202857  11.084286   9.142857   9.898571   9.898571   842035600\n",
       "2012-01-01  10.040000  18.497143  10.018571  17.171429  17.171429  1829322600\n",
       "2012-02-01  17.344286  19.061428  15.234286  15.818571  15.818571  1002673700\n",
       "2012-03-01  15.585714  17.639999  14.647143  16.434286  16.434286   814660700"
      ]
     },
     "execution_count": 40,
     "metadata": {},
     "output_type": "execute_result"
    }
   ],
   "source": [
    "NFLX.head()"
   ]
  },
  {
   "cell_type": "code",
   "execution_count": 41,
   "id": "185aeee4",
   "metadata": {},
   "outputs": [],
   "source": [
    "AMZN.index = pd.to_datetime(AMZN.Date)"
   ]
  },
  {
   "cell_type": "code",
   "execution_count": 42,
   "id": "a05b08f9",
   "metadata": {},
   "outputs": [],
   "source": [
    "AMZN = AMZN.drop(columns = \"Date\")"
   ]
  },
  {
   "cell_type": "code",
   "execution_count": 43,
   "id": "65054972",
   "metadata": {},
   "outputs": [],
   "source": [
    "#altro modo più rapido di fare tutto questo\n",
    "\n",
    "\n",
    "NFLX_1 = pd.read_csv(\"NFLX.csv\", parse_dates = True,  index_col = 0)"
   ]
  },
  {
   "cell_type": "code",
   "execution_count": 44,
   "id": "eed1a6f3",
   "metadata": {},
   "outputs": [
    {
     "data": {
      "text/html": [
       "<div>\n",
       "<style scoped>\n",
       "    .dataframe tbody tr th:only-of-type {\n",
       "        vertical-align: middle;\n",
       "    }\n",
       "\n",
       "    .dataframe tbody tr th {\n",
       "        vertical-align: top;\n",
       "    }\n",
       "\n",
       "    .dataframe thead th {\n",
       "        text-align: right;\n",
       "    }\n",
       "</style>\n",
       "<table border=\"1\" class=\"dataframe\">\n",
       "  <thead>\n",
       "    <tr style=\"text-align: right;\">\n",
       "      <th></th>\n",
       "      <th>Open</th>\n",
       "      <th>High</th>\n",
       "      <th>Low</th>\n",
       "      <th>Close</th>\n",
       "      <th>Adj Close</th>\n",
       "      <th>Volume</th>\n",
       "    </tr>\n",
       "    <tr>\n",
       "      <th>Date</th>\n",
       "      <th></th>\n",
       "      <th></th>\n",
       "      <th></th>\n",
       "      <th></th>\n",
       "      <th></th>\n",
       "      <th></th>\n",
       "    </tr>\n",
       "  </thead>\n",
       "  <tbody>\n",
       "    <tr>\n",
       "      <th>2011-11-01</th>\n",
       "      <td>11.444286</td>\n",
       "      <td>13.405714</td>\n",
       "      <td>8.910000</td>\n",
       "      <td>9.218571</td>\n",
       "      <td>9.218571</td>\n",
       "      <td>1053461500</td>\n",
       "    </tr>\n",
       "    <tr>\n",
       "      <th>2011-12-01</th>\n",
       "      <td>9.202857</td>\n",
       "      <td>11.084286</td>\n",
       "      <td>9.142857</td>\n",
       "      <td>9.898571</td>\n",
       "      <td>9.898571</td>\n",
       "      <td>842035600</td>\n",
       "    </tr>\n",
       "    <tr>\n",
       "      <th>2012-01-01</th>\n",
       "      <td>10.040000</td>\n",
       "      <td>18.497143</td>\n",
       "      <td>10.018571</td>\n",
       "      <td>17.171429</td>\n",
       "      <td>17.171429</td>\n",
       "      <td>1829322600</td>\n",
       "    </tr>\n",
       "    <tr>\n",
       "      <th>2012-02-01</th>\n",
       "      <td>17.344286</td>\n",
       "      <td>19.061428</td>\n",
       "      <td>15.234286</td>\n",
       "      <td>15.818571</td>\n",
       "      <td>15.818571</td>\n",
       "      <td>1002673700</td>\n",
       "    </tr>\n",
       "    <tr>\n",
       "      <th>2012-03-01</th>\n",
       "      <td>15.585714</td>\n",
       "      <td>17.639999</td>\n",
       "      <td>14.647143</td>\n",
       "      <td>16.434286</td>\n",
       "      <td>16.434286</td>\n",
       "      <td>814660700</td>\n",
       "    </tr>\n",
       "  </tbody>\n",
       "</table>\n",
       "</div>"
      ],
      "text/plain": [
       "                 Open       High        Low      Close  Adj Close      Volume\n",
       "Date                                                                         \n",
       "2011-11-01  11.444286  13.405714   8.910000   9.218571   9.218571  1053461500\n",
       "2011-12-01   9.202857  11.084286   9.142857   9.898571   9.898571   842035600\n",
       "2012-01-01  10.040000  18.497143  10.018571  17.171429  17.171429  1829322600\n",
       "2012-02-01  17.344286  19.061428  15.234286  15.818571  15.818571  1002673700\n",
       "2012-03-01  15.585714  17.639999  14.647143  16.434286  16.434286   814660700"
      ]
     },
     "execution_count": 44,
     "metadata": {},
     "output_type": "execute_result"
    }
   ],
   "source": [
    "NFLX_1.head()"
   ]
  },
  {
   "cell_type": "markdown",
   "id": "84396686",
   "metadata": {},
   "source": [
    "### Esercizio 5 - Creare un unico DF di prezzi di azioni USA"
   ]
  },
  {
   "cell_type": "markdown",
   "id": "8c3a11dd",
   "metadata": {},
   "source": [
    "1 - Creare una finestra temporale uguale per i due titoli"
   ]
  },
  {
   "cell_type": "code",
   "execution_count": 45,
   "id": "5b2b4c85",
   "metadata": {},
   "outputs": [],
   "source": [
    "NFLX_window = NFLX[dt.date(2015,1,1):dt.date.today()]"
   ]
  },
  {
   "cell_type": "code",
   "execution_count": 46,
   "id": "f6764f38",
   "metadata": {},
   "outputs": [
    {
     "data": {
      "text/html": [
       "<div>\n",
       "<style scoped>\n",
       "    .dataframe tbody tr th:only-of-type {\n",
       "        vertical-align: middle;\n",
       "    }\n",
       "\n",
       "    .dataframe tbody tr th {\n",
       "        vertical-align: top;\n",
       "    }\n",
       "\n",
       "    .dataframe thead th {\n",
       "        text-align: right;\n",
       "    }\n",
       "</style>\n",
       "<table border=\"1\" class=\"dataframe\">\n",
       "  <thead>\n",
       "    <tr style=\"text-align: right;\">\n",
       "      <th></th>\n",
       "      <th>Open</th>\n",
       "      <th>High</th>\n",
       "      <th>Low</th>\n",
       "      <th>Close</th>\n",
       "      <th>Adj Close</th>\n",
       "      <th>Volume</th>\n",
       "    </tr>\n",
       "    <tr>\n",
       "      <th>Date</th>\n",
       "      <th></th>\n",
       "      <th></th>\n",
       "      <th></th>\n",
       "      <th></th>\n",
       "      <th></th>\n",
       "      <th></th>\n",
       "    </tr>\n",
       "  </thead>\n",
       "  <tbody>\n",
       "    <tr>\n",
       "      <th>2015-01-01</th>\n",
       "      <td>49.151428</td>\n",
       "      <td>65.339996</td>\n",
       "      <td>45.264286</td>\n",
       "      <td>63.114285</td>\n",
       "      <td>63.114285</td>\n",
       "      <td>425938100</td>\n",
       "    </tr>\n",
       "    <tr>\n",
       "      <th>2015-02-01</th>\n",
       "      <td>62.842857</td>\n",
       "      <td>69.500000</td>\n",
       "      <td>61.955715</td>\n",
       "      <td>67.844284</td>\n",
       "      <td>67.844284</td>\n",
       "      <td>209678700</td>\n",
       "    </tr>\n",
       "    <tr>\n",
       "      <th>2015-03-01</th>\n",
       "      <td>67.714287</td>\n",
       "      <td>68.607140</td>\n",
       "      <td>58.572857</td>\n",
       "      <td>59.527142</td>\n",
       "      <td>59.527142</td>\n",
       "      <td>327866000</td>\n",
       "    </tr>\n",
       "    <tr>\n",
       "      <th>2015-04-01</th>\n",
       "      <td>59.642857</td>\n",
       "      <td>82.304283</td>\n",
       "      <td>58.464287</td>\n",
       "      <td>79.500000</td>\n",
       "      <td>79.500000</td>\n",
       "      <td>508463900</td>\n",
       "    </tr>\n",
       "    <tr>\n",
       "      <th>2015-05-01</th>\n",
       "      <td>79.855713</td>\n",
       "      <td>90.205711</td>\n",
       "      <td>78.894287</td>\n",
       "      <td>89.151428</td>\n",
       "      <td>89.151428</td>\n",
       "      <td>280030800</td>\n",
       "    </tr>\n",
       "  </tbody>\n",
       "</table>\n",
       "</div>"
      ],
      "text/plain": [
       "                 Open       High        Low      Close  Adj Close     Volume\n",
       "Date                                                                        \n",
       "2015-01-01  49.151428  65.339996  45.264286  63.114285  63.114285  425938100\n",
       "2015-02-01  62.842857  69.500000  61.955715  67.844284  67.844284  209678700\n",
       "2015-03-01  67.714287  68.607140  58.572857  59.527142  59.527142  327866000\n",
       "2015-04-01  59.642857  82.304283  58.464287  79.500000  79.500000  508463900\n",
       "2015-05-01  79.855713  90.205711  78.894287  89.151428  89.151428  280030800"
      ]
     },
     "execution_count": 46,
     "metadata": {},
     "output_type": "execute_result"
    }
   ],
   "source": [
    "NFLX_window.head()"
   ]
  },
  {
   "cell_type": "code",
   "execution_count": 47,
   "id": "20ac7648",
   "metadata": {},
   "outputs": [
    {
     "data": {
      "text/html": [
       "<div>\n",
       "<style scoped>\n",
       "    .dataframe tbody tr th:only-of-type {\n",
       "        vertical-align: middle;\n",
       "    }\n",
       "\n",
       "    .dataframe tbody tr th {\n",
       "        vertical-align: top;\n",
       "    }\n",
       "\n",
       "    .dataframe thead th {\n",
       "        text-align: right;\n",
       "    }\n",
       "</style>\n",
       "<table border=\"1\" class=\"dataframe\">\n",
       "  <thead>\n",
       "    <tr style=\"text-align: right;\">\n",
       "      <th></th>\n",
       "      <th>Open</th>\n",
       "      <th>High</th>\n",
       "      <th>Low</th>\n",
       "      <th>Close</th>\n",
       "      <th>Adj Close</th>\n",
       "      <th>Volume</th>\n",
       "    </tr>\n",
       "    <tr>\n",
       "      <th>Date</th>\n",
       "      <th></th>\n",
       "      <th></th>\n",
       "      <th></th>\n",
       "      <th></th>\n",
       "      <th></th>\n",
       "      <th></th>\n",
       "    </tr>\n",
       "  </thead>\n",
       "  <tbody>\n",
       "    <tr>\n",
       "      <th>2021-06-01</th>\n",
       "      <td>504.010010</td>\n",
       "      <td>536.130005</td>\n",
       "      <td>482.140015</td>\n",
       "      <td>528.210022</td>\n",
       "      <td>528.210022</td>\n",
       "      <td>78560600</td>\n",
       "    </tr>\n",
       "    <tr>\n",
       "      <th>2021-07-01</th>\n",
       "      <td>525.719971</td>\n",
       "      <td>557.539978</td>\n",
       "      <td>504.660004</td>\n",
       "      <td>517.570007</td>\n",
       "      <td>517.570007</td>\n",
       "      <td>77219000</td>\n",
       "    </tr>\n",
       "    <tr>\n",
       "      <th>2021-08-01</th>\n",
       "      <td>519.000000</td>\n",
       "      <td>569.479980</td>\n",
       "      <td>505.369995</td>\n",
       "      <td>569.190002</td>\n",
       "      <td>569.190002</td>\n",
       "      <td>54742300</td>\n",
       "    </tr>\n",
       "    <tr>\n",
       "      <th>2021-09-01</th>\n",
       "      <td>569.000000</td>\n",
       "      <td>619.000000</td>\n",
       "      <td>568.080017</td>\n",
       "      <td>610.340027</td>\n",
       "      <td>610.340027</td>\n",
       "      <td>82314700</td>\n",
       "    </tr>\n",
       "    <tr>\n",
       "      <th>2021-10-01</th>\n",
       "      <td>604.239990</td>\n",
       "      <td>690.969971</td>\n",
       "      <td>594.679993</td>\n",
       "      <td>690.309998</td>\n",
       "      <td>690.309998</td>\n",
       "      <td>98565000</td>\n",
       "    </tr>\n",
       "  </tbody>\n",
       "</table>\n",
       "</div>"
      ],
      "text/plain": [
       "                  Open        High         Low       Close   Adj Close  \\\n",
       "Date                                                                     \n",
       "2021-06-01  504.010010  536.130005  482.140015  528.210022  528.210022   \n",
       "2021-07-01  525.719971  557.539978  504.660004  517.570007  517.570007   \n",
       "2021-08-01  519.000000  569.479980  505.369995  569.190002  569.190002   \n",
       "2021-09-01  569.000000  619.000000  568.080017  610.340027  610.340027   \n",
       "2021-10-01  604.239990  690.969971  594.679993  690.309998  690.309998   \n",
       "\n",
       "              Volume  \n",
       "Date                  \n",
       "2021-06-01  78560600  \n",
       "2021-07-01  77219000  \n",
       "2021-08-01  54742300  \n",
       "2021-09-01  82314700  \n",
       "2021-10-01  98565000  "
      ]
     },
     "execution_count": 47,
     "metadata": {},
     "output_type": "execute_result"
    }
   ],
   "source": [
    "NFLX_window.tail()"
   ]
  },
  {
   "cell_type": "code",
   "execution_count": 48,
   "id": "326f89a3",
   "metadata": {},
   "outputs": [],
   "source": [
    "AMZN_window = AMZN[dt.date(2015,1,1):dt.date.today()]"
   ]
  },
  {
   "cell_type": "code",
   "execution_count": 49,
   "id": "b347a540",
   "metadata": {},
   "outputs": [
    {
     "data": {
      "text/html": [
       "<div>\n",
       "<style scoped>\n",
       "    .dataframe tbody tr th:only-of-type {\n",
       "        vertical-align: middle;\n",
       "    }\n",
       "\n",
       "    .dataframe tbody tr th {\n",
       "        vertical-align: top;\n",
       "    }\n",
       "\n",
       "    .dataframe thead th {\n",
       "        text-align: right;\n",
       "    }\n",
       "</style>\n",
       "<table border=\"1\" class=\"dataframe\">\n",
       "  <thead>\n",
       "    <tr style=\"text-align: right;\">\n",
       "      <th></th>\n",
       "      <th>Open</th>\n",
       "      <th>High</th>\n",
       "      <th>Low</th>\n",
       "      <th>Close</th>\n",
       "      <th>Adj Close</th>\n",
       "      <th>Volume</th>\n",
       "    </tr>\n",
       "    <tr>\n",
       "      <th>Date</th>\n",
       "      <th></th>\n",
       "      <th></th>\n",
       "      <th></th>\n",
       "      <th></th>\n",
       "      <th></th>\n",
       "      <th></th>\n",
       "    </tr>\n",
       "  </thead>\n",
       "  <tbody>\n",
       "    <tr>\n",
       "      <th>2015-01-01</th>\n",
       "      <td>312.579987</td>\n",
       "      <td>359.500000</td>\n",
       "      <td>285.250000</td>\n",
       "      <td>354.529999</td>\n",
       "      <td>354.529999</td>\n",
       "      <td>103057100</td>\n",
       "    </tr>\n",
       "    <tr>\n",
       "      <th>2015-02-01</th>\n",
       "      <td>350.049988</td>\n",
       "      <td>389.369995</td>\n",
       "      <td>350.010010</td>\n",
       "      <td>380.160004</td>\n",
       "      <td>380.160004</td>\n",
       "      <td>70846200</td>\n",
       "    </tr>\n",
       "    <tr>\n",
       "      <th>2015-03-01</th>\n",
       "      <td>380.850006</td>\n",
       "      <td>388.420013</td>\n",
       "      <td>365.649994</td>\n",
       "      <td>372.100006</td>\n",
       "      <td>372.100006</td>\n",
       "      <td>55502800</td>\n",
       "    </tr>\n",
       "    <tr>\n",
       "      <th>2015-04-01</th>\n",
       "      <td>372.100006</td>\n",
       "      <td>452.649994</td>\n",
       "      <td>368.339996</td>\n",
       "      <td>421.779999</td>\n",
       "      <td>421.779999</td>\n",
       "      <td>84404800</td>\n",
       "    </tr>\n",
       "    <tr>\n",
       "      <th>2015-05-01</th>\n",
       "      <td>423.820007</td>\n",
       "      <td>439.000000</td>\n",
       "      <td>414.549988</td>\n",
       "      <td>429.230011</td>\n",
       "      <td>429.230011</td>\n",
       "      <td>51983000</td>\n",
       "    </tr>\n",
       "  </tbody>\n",
       "</table>\n",
       "</div>"
      ],
      "text/plain": [
       "                  Open        High         Low       Close   Adj Close  \\\n",
       "Date                                                                     \n",
       "2015-01-01  312.579987  359.500000  285.250000  354.529999  354.529999   \n",
       "2015-02-01  350.049988  389.369995  350.010010  380.160004  380.160004   \n",
       "2015-03-01  380.850006  388.420013  365.649994  372.100006  372.100006   \n",
       "2015-04-01  372.100006  452.649994  368.339996  421.779999  421.779999   \n",
       "2015-05-01  423.820007  439.000000  414.549988  429.230011  429.230011   \n",
       "\n",
       "               Volume  \n",
       "Date                   \n",
       "2015-01-01  103057100  \n",
       "2015-02-01   70846200  \n",
       "2015-03-01   55502800  \n",
       "2015-04-01   84404800  \n",
       "2015-05-01   51983000  "
      ]
     },
     "execution_count": 49,
     "metadata": {},
     "output_type": "execute_result"
    }
   ],
   "source": [
    "AMZN_window.head()"
   ]
  },
  {
   "cell_type": "code",
   "execution_count": 50,
   "id": "564a150c",
   "metadata": {},
   "outputs": [
    {
     "data": {
      "text/html": [
       "<div>\n",
       "<style scoped>\n",
       "    .dataframe tbody tr th:only-of-type {\n",
       "        vertical-align: middle;\n",
       "    }\n",
       "\n",
       "    .dataframe tbody tr th {\n",
       "        vertical-align: top;\n",
       "    }\n",
       "\n",
       "    .dataframe thead th {\n",
       "        text-align: right;\n",
       "    }\n",
       "</style>\n",
       "<table border=\"1\" class=\"dataframe\">\n",
       "  <thead>\n",
       "    <tr style=\"text-align: right;\">\n",
       "      <th></th>\n",
       "      <th>Open</th>\n",
       "      <th>High</th>\n",
       "      <th>Low</th>\n",
       "      <th>Close</th>\n",
       "      <th>Adj Close</th>\n",
       "      <th>Volume</th>\n",
       "    </tr>\n",
       "    <tr>\n",
       "      <th>Date</th>\n",
       "      <th></th>\n",
       "      <th></th>\n",
       "      <th></th>\n",
       "      <th></th>\n",
       "      <th></th>\n",
       "      <th></th>\n",
       "    </tr>\n",
       "  </thead>\n",
       "  <tbody>\n",
       "    <tr>\n",
       "      <th>2021-06-01</th>\n",
       "      <td>3243.500000</td>\n",
       "      <td>3524.860107</td>\n",
       "      <td>3172.199951</td>\n",
       "      <td>3440.159912</td>\n",
       "      <td>3440.159912</td>\n",
       "      <td>67011000</td>\n",
       "    </tr>\n",
       "    <tr>\n",
       "      <th>2021-07-01</th>\n",
       "      <td>3434.610107</td>\n",
       "      <td>3773.080078</td>\n",
       "      <td>3306.979980</td>\n",
       "      <td>3327.590088</td>\n",
       "      <td>3327.590088</td>\n",
       "      <td>83720800</td>\n",
       "    </tr>\n",
       "    <tr>\n",
       "      <th>2021-08-01</th>\n",
       "      <td>3353.100098</td>\n",
       "      <td>3472.580078</td>\n",
       "      <td>3175.760010</td>\n",
       "      <td>3470.790039</td>\n",
       "      <td>3470.790039</td>\n",
       "      <td>62813700</td>\n",
       "    </tr>\n",
       "    <tr>\n",
       "      <th>2021-09-01</th>\n",
       "      <td>3496.399902</td>\n",
       "      <td>3549.989990</td>\n",
       "      <td>3273.989990</td>\n",
       "      <td>3285.040039</td>\n",
       "      <td>3285.040039</td>\n",
       "      <td>62523700</td>\n",
       "    </tr>\n",
       "    <tr>\n",
       "      <th>2021-10-01</th>\n",
       "      <td>3289.010010</td>\n",
       "      <td>3479.000000</td>\n",
       "      <td>3176.250000</td>\n",
       "      <td>3372.429932</td>\n",
       "      <td>3372.429932</td>\n",
       "      <td>63649200</td>\n",
       "    </tr>\n",
       "  </tbody>\n",
       "</table>\n",
       "</div>"
      ],
      "text/plain": [
       "                   Open         High          Low        Close    Adj Close  \\\n",
       "Date                                                                          \n",
       "2021-06-01  3243.500000  3524.860107  3172.199951  3440.159912  3440.159912   \n",
       "2021-07-01  3434.610107  3773.080078  3306.979980  3327.590088  3327.590088   \n",
       "2021-08-01  3353.100098  3472.580078  3175.760010  3470.790039  3470.790039   \n",
       "2021-09-01  3496.399902  3549.989990  3273.989990  3285.040039  3285.040039   \n",
       "2021-10-01  3289.010010  3479.000000  3176.250000  3372.429932  3372.429932   \n",
       "\n",
       "              Volume  \n",
       "Date                  \n",
       "2021-06-01  67011000  \n",
       "2021-07-01  83720800  \n",
       "2021-08-01  62813700  \n",
       "2021-09-01  62523700  \n",
       "2021-10-01  63649200  "
      ]
     },
     "execution_count": 50,
     "metadata": {},
     "output_type": "execute_result"
    }
   ],
   "source": [
    "AMZN_window.tail()"
   ]
  },
  {
   "cell_type": "markdown",
   "id": "65c43ba0",
   "metadata": {},
   "source": [
    "2 - Mettere insieme NFLX_window e AMZN_window utilizzando solo la colonna \"Adj close\". Agiungere ai simboli dei due titolo il suffisso \"_\", perciò \"_NFLX\" e \"_AMZN\". Fare un grafico delle due serie (utilizzando la funzione \"subplots\")."
   ]
  },
  {
   "cell_type": "code",
   "execution_count": 51,
   "id": "e002a0b8",
   "metadata": {},
   "outputs": [
    {
     "data": {
      "text/html": [
       "<div>\n",
       "<style scoped>\n",
       "    .dataframe tbody tr th:only-of-type {\n",
       "        vertical-align: middle;\n",
       "    }\n",
       "\n",
       "    .dataframe tbody tr th {\n",
       "        vertical-align: top;\n",
       "    }\n",
       "\n",
       "    .dataframe thead th {\n",
       "        text-align: right;\n",
       "    }\n",
       "</style>\n",
       "<table border=\"1\" class=\"dataframe\">\n",
       "  <thead>\n",
       "    <tr style=\"text-align: right;\">\n",
       "      <th></th>\n",
       "      <th>Open_NFLX</th>\n",
       "      <th>High_NFLX</th>\n",
       "      <th>Low_NFLX</th>\n",
       "      <th>Close_NFLX</th>\n",
       "      <th>Adj Close_NFLX</th>\n",
       "      <th>Volume_NFLX</th>\n",
       "      <th>Open_AMZN</th>\n",
       "      <th>High_AMZN</th>\n",
       "      <th>Low_AMZN</th>\n",
       "      <th>Close_AMZN</th>\n",
       "      <th>Adj Close_AMZN</th>\n",
       "      <th>Volume_AMZN</th>\n",
       "    </tr>\n",
       "    <tr>\n",
       "      <th>Date</th>\n",
       "      <th></th>\n",
       "      <th></th>\n",
       "      <th></th>\n",
       "      <th></th>\n",
       "      <th></th>\n",
       "      <th></th>\n",
       "      <th></th>\n",
       "      <th></th>\n",
       "      <th></th>\n",
       "      <th></th>\n",
       "      <th></th>\n",
       "      <th></th>\n",
       "    </tr>\n",
       "  </thead>\n",
       "  <tbody>\n",
       "    <tr>\n",
       "      <th>2015-01-01</th>\n",
       "      <td>49.151428</td>\n",
       "      <td>65.339996</td>\n",
       "      <td>45.264286</td>\n",
       "      <td>63.114285</td>\n",
       "      <td>63.114285</td>\n",
       "      <td>425938100</td>\n",
       "      <td>312.579987</td>\n",
       "      <td>359.500000</td>\n",
       "      <td>285.250000</td>\n",
       "      <td>354.529999</td>\n",
       "      <td>354.529999</td>\n",
       "      <td>103057100</td>\n",
       "    </tr>\n",
       "    <tr>\n",
       "      <th>2015-02-01</th>\n",
       "      <td>62.842857</td>\n",
       "      <td>69.500000</td>\n",
       "      <td>61.955715</td>\n",
       "      <td>67.844284</td>\n",
       "      <td>67.844284</td>\n",
       "      <td>209678700</td>\n",
       "      <td>350.049988</td>\n",
       "      <td>389.369995</td>\n",
       "      <td>350.010010</td>\n",
       "      <td>380.160004</td>\n",
       "      <td>380.160004</td>\n",
       "      <td>70846200</td>\n",
       "    </tr>\n",
       "    <tr>\n",
       "      <th>2015-03-01</th>\n",
       "      <td>67.714287</td>\n",
       "      <td>68.607140</td>\n",
       "      <td>58.572857</td>\n",
       "      <td>59.527142</td>\n",
       "      <td>59.527142</td>\n",
       "      <td>327866000</td>\n",
       "      <td>380.850006</td>\n",
       "      <td>388.420013</td>\n",
       "      <td>365.649994</td>\n",
       "      <td>372.100006</td>\n",
       "      <td>372.100006</td>\n",
       "      <td>55502800</td>\n",
       "    </tr>\n",
       "    <tr>\n",
       "      <th>2015-04-01</th>\n",
       "      <td>59.642857</td>\n",
       "      <td>82.304283</td>\n",
       "      <td>58.464287</td>\n",
       "      <td>79.500000</td>\n",
       "      <td>79.500000</td>\n",
       "      <td>508463900</td>\n",
       "      <td>372.100006</td>\n",
       "      <td>452.649994</td>\n",
       "      <td>368.339996</td>\n",
       "      <td>421.779999</td>\n",
       "      <td>421.779999</td>\n",
       "      <td>84404800</td>\n",
       "    </tr>\n",
       "    <tr>\n",
       "      <th>2015-05-01</th>\n",
       "      <td>79.855713</td>\n",
       "      <td>90.205711</td>\n",
       "      <td>78.894287</td>\n",
       "      <td>89.151428</td>\n",
       "      <td>89.151428</td>\n",
       "      <td>280030800</td>\n",
       "      <td>423.820007</td>\n",
       "      <td>439.000000</td>\n",
       "      <td>414.549988</td>\n",
       "      <td>429.230011</td>\n",
       "      <td>429.230011</td>\n",
       "      <td>51983000</td>\n",
       "    </tr>\n",
       "    <tr>\n",
       "      <th>...</th>\n",
       "      <td>...</td>\n",
       "      <td>...</td>\n",
       "      <td>...</td>\n",
       "      <td>...</td>\n",
       "      <td>...</td>\n",
       "      <td>...</td>\n",
       "      <td>...</td>\n",
       "      <td>...</td>\n",
       "      <td>...</td>\n",
       "      <td>...</td>\n",
       "      <td>...</td>\n",
       "      <td>...</td>\n",
       "    </tr>\n",
       "    <tr>\n",
       "      <th>2021-06-01</th>\n",
       "      <td>504.010010</td>\n",
       "      <td>536.130005</td>\n",
       "      <td>482.140015</td>\n",
       "      <td>528.210022</td>\n",
       "      <td>528.210022</td>\n",
       "      <td>78560600</td>\n",
       "      <td>3243.500000</td>\n",
       "      <td>3524.860107</td>\n",
       "      <td>3172.199951</td>\n",
       "      <td>3440.159912</td>\n",
       "      <td>3440.159912</td>\n",
       "      <td>67011000</td>\n",
       "    </tr>\n",
       "    <tr>\n",
       "      <th>2021-07-01</th>\n",
       "      <td>525.719971</td>\n",
       "      <td>557.539978</td>\n",
       "      <td>504.660004</td>\n",
       "      <td>517.570007</td>\n",
       "      <td>517.570007</td>\n",
       "      <td>77219000</td>\n",
       "      <td>3434.610107</td>\n",
       "      <td>3773.080078</td>\n",
       "      <td>3306.979980</td>\n",
       "      <td>3327.590088</td>\n",
       "      <td>3327.590088</td>\n",
       "      <td>83720800</td>\n",
       "    </tr>\n",
       "    <tr>\n",
       "      <th>2021-08-01</th>\n",
       "      <td>519.000000</td>\n",
       "      <td>569.479980</td>\n",
       "      <td>505.369995</td>\n",
       "      <td>569.190002</td>\n",
       "      <td>569.190002</td>\n",
       "      <td>54742300</td>\n",
       "      <td>3353.100098</td>\n",
       "      <td>3472.580078</td>\n",
       "      <td>3175.760010</td>\n",
       "      <td>3470.790039</td>\n",
       "      <td>3470.790039</td>\n",
       "      <td>62813700</td>\n",
       "    </tr>\n",
       "    <tr>\n",
       "      <th>2021-09-01</th>\n",
       "      <td>569.000000</td>\n",
       "      <td>619.000000</td>\n",
       "      <td>568.080017</td>\n",
       "      <td>610.340027</td>\n",
       "      <td>610.340027</td>\n",
       "      <td>82314700</td>\n",
       "      <td>3496.399902</td>\n",
       "      <td>3549.989990</td>\n",
       "      <td>3273.989990</td>\n",
       "      <td>3285.040039</td>\n",
       "      <td>3285.040039</td>\n",
       "      <td>62523700</td>\n",
       "    </tr>\n",
       "    <tr>\n",
       "      <th>2021-10-01</th>\n",
       "      <td>604.239990</td>\n",
       "      <td>690.969971</td>\n",
       "      <td>594.679993</td>\n",
       "      <td>690.309998</td>\n",
       "      <td>690.309998</td>\n",
       "      <td>98565000</td>\n",
       "      <td>3289.010010</td>\n",
       "      <td>3479.000000</td>\n",
       "      <td>3176.250000</td>\n",
       "      <td>3372.429932</td>\n",
       "      <td>3372.429932</td>\n",
       "      <td>63649200</td>\n",
       "    </tr>\n",
       "  </tbody>\n",
       "</table>\n",
       "<p>82 rows × 12 columns</p>\n",
       "</div>"
      ],
      "text/plain": [
       "             Open_NFLX   High_NFLX    Low_NFLX  Close_NFLX  Adj Close_NFLX  \\\n",
       "Date                                                                         \n",
       "2015-01-01   49.151428   65.339996   45.264286   63.114285       63.114285   \n",
       "2015-02-01   62.842857   69.500000   61.955715   67.844284       67.844284   \n",
       "2015-03-01   67.714287   68.607140   58.572857   59.527142       59.527142   \n",
       "2015-04-01   59.642857   82.304283   58.464287   79.500000       79.500000   \n",
       "2015-05-01   79.855713   90.205711   78.894287   89.151428       89.151428   \n",
       "...                ...         ...         ...         ...             ...   \n",
       "2021-06-01  504.010010  536.130005  482.140015  528.210022      528.210022   \n",
       "2021-07-01  525.719971  557.539978  504.660004  517.570007      517.570007   \n",
       "2021-08-01  519.000000  569.479980  505.369995  569.190002      569.190002   \n",
       "2021-09-01  569.000000  619.000000  568.080017  610.340027      610.340027   \n",
       "2021-10-01  604.239990  690.969971  594.679993  690.309998      690.309998   \n",
       "\n",
       "            Volume_NFLX    Open_AMZN    High_AMZN     Low_AMZN   Close_AMZN  \\\n",
       "Date                                                                          \n",
       "2015-01-01    425938100   312.579987   359.500000   285.250000   354.529999   \n",
       "2015-02-01    209678700   350.049988   389.369995   350.010010   380.160004   \n",
       "2015-03-01    327866000   380.850006   388.420013   365.649994   372.100006   \n",
       "2015-04-01    508463900   372.100006   452.649994   368.339996   421.779999   \n",
       "2015-05-01    280030800   423.820007   439.000000   414.549988   429.230011   \n",
       "...                 ...          ...          ...          ...          ...   \n",
       "2021-06-01     78560600  3243.500000  3524.860107  3172.199951  3440.159912   \n",
       "2021-07-01     77219000  3434.610107  3773.080078  3306.979980  3327.590088   \n",
       "2021-08-01     54742300  3353.100098  3472.580078  3175.760010  3470.790039   \n",
       "2021-09-01     82314700  3496.399902  3549.989990  3273.989990  3285.040039   \n",
       "2021-10-01     98565000  3289.010010  3479.000000  3176.250000  3372.429932   \n",
       "\n",
       "            Adj Close_AMZN  Volume_AMZN  \n",
       "Date                                     \n",
       "2015-01-01      354.529999    103057100  \n",
       "2015-02-01      380.160004     70846200  \n",
       "2015-03-01      372.100006     55502800  \n",
       "2015-04-01      421.779999     84404800  \n",
       "2015-05-01      429.230011     51983000  \n",
       "...                    ...          ...  \n",
       "2021-06-01     3440.159912     67011000  \n",
       "2021-07-01     3327.590088     83720800  \n",
       "2021-08-01     3470.790039     62813700  \n",
       "2021-09-01     3285.040039     62523700  \n",
       "2021-10-01     3372.429932     63649200  \n",
       "\n",
       "[82 rows x 12 columns]"
      ]
     },
     "execution_count": 51,
     "metadata": {},
     "output_type": "execute_result"
    }
   ],
   "source": [
    "v10 = NFLX_window.join(AMZN_window, lsuffix = \"_NFLX\", rsuffix = \"_AMZN\")\n",
    "v10"
   ]
  },
  {
   "cell_type": "code",
   "execution_count": 52,
   "id": "e428681c",
   "metadata": {},
   "outputs": [],
   "source": [
    "v10 = v10[[\"Adj Close_NFLX\", \"Adj Close_AMZN\"]]"
   ]
  },
  {
   "cell_type": "code",
   "execution_count": 68,
   "id": "650c5ec3",
   "metadata": {},
   "outputs": [
    {
     "data": {
      "image/png": "[encoded data removed]",
      "text/plain": [
       "<Figure size 432x288 with 1 Axes>"
      ]
     },
     "metadata": {
      "needs_background": "light"
     },
     "output_type": "display_data"
    },
    {
     "data": {
      "image/png": "[encoded data removed]",
      "text/plain": [
       "<Figure size 432x288 with 2 Axes>"
      ]
     },
     "metadata": {
      "needs_background": "light"
     },
     "output_type": "display_data"
    }
   ],
   "source": [
    "v10.plot(grid = True);\n",
    "#plt.grid()\n",
    "v10.plot(subplots = True, grid = True);\n"
   ]
  },
  {
   "cell_type": "markdown",
   "id": "9bf9d6f3",
   "metadata": {},
   "source": [
    "### Esercizio 6 - Calcolo dei rendimenti logaritmici"
   ]
  },
  {
   "cell_type": "markdown",
   "id": "28e70045",
   "metadata": {},
   "source": [
    "1 - Partendo da v10 calcolare i rendimenti logaritmici di NFLX e AMZN creando due nuove serie NFLX_rtn e AMZN_rtn"
   ]
  },
  {
   "cell_type": "code",
   "execution_count": 54,
   "id": "0100cfe8",
   "metadata": {},
   "outputs": [
    {
     "data": {
      "text/plain": [
       "pandas.core.series.Series"
      ]
     },
     "execution_count": 54,
     "metadata": {},
     "output_type": "execute_result"
    }
   ],
   "source": [
    "AMZN_rtn = np.log(v10[\"Adj Close_AMZN\"]/ v10[\"Adj Close_AMZN\"].shift(1))\n",
    "type(AMZN_rtn)"
   ]
  },
  {
   "cell_type": "code",
   "execution_count": 55,
   "id": "fd3ecbdb",
   "metadata": {},
   "outputs": [
    {
     "data": {
      "text/plain": [
       "Date\n",
       "2015-01-01         NaN\n",
       "2015-02-01    0.069799\n",
       "2015-03-01   -0.021430\n",
       "2015-04-01    0.125321\n",
       "2015-05-01    0.017509\n",
       "Name: Adj Close_AMZN, dtype: float64"
      ]
     },
     "execution_count": 55,
     "metadata": {},
     "output_type": "execute_result"
    }
   ],
   "source": [
    "AMZN_rtn.head()"
   ]
  },
  {
   "cell_type": "code",
   "execution_count": 56,
   "id": "6d043fb8",
   "metadata": {},
   "outputs": [],
   "source": [
    "AMZN_rtn.dropna(inplace = True)"
   ]
  },
  {
   "cell_type": "code",
   "execution_count": 57,
   "id": "7b9a7019",
   "metadata": {},
   "outputs": [
    {
     "data": {
      "text/plain": [
       "Date\n",
       "2015-02-01    0.069799\n",
       "2015-03-01   -0.021430\n",
       "2015-04-01    0.125321\n",
       "2015-05-01    0.017509\n",
       "2015-06-01    0.011259\n",
       "Name: Adj Close_AMZN, dtype: float64"
      ]
     },
     "execution_count": 57,
     "metadata": {},
     "output_type": "execute_result"
    }
   ],
   "source": [
    "AMZN_rtn.head()"
   ]
  },
  {
   "cell_type": "code",
   "execution_count": 58,
   "id": "0536ba3e",
   "metadata": {},
   "outputs": [
    {
     "data": {
      "text/plain": [
       "pandas.core.series.Series"
      ]
     },
     "execution_count": 58,
     "metadata": {},
     "output_type": "execute_result"
    }
   ],
   "source": [
    "NFLX_rtn = np.log(v10[\"Adj Close_NFLX\"]/ v10[\"Adj Close_NFLX\"].shift(1))\n",
    "type(NFLX_rtn)"
   ]
  },
  {
   "cell_type": "code",
   "execution_count": 59,
   "id": "e32bbb63",
   "metadata": {},
   "outputs": [
    {
     "data": {
      "text/plain": [
       "Date\n",
       "2015-01-01         NaN\n",
       "2015-02-01    0.072268\n",
       "2015-03-01   -0.130783\n",
       "2015-04-01    0.289325\n",
       "2015-05-01    0.114579\n",
       "Name: Adj Close_NFLX, dtype: float64"
      ]
     },
     "execution_count": 59,
     "metadata": {},
     "output_type": "execute_result"
    }
   ],
   "source": [
    "NFLX_rtn.head()"
   ]
  },
  {
   "cell_type": "code",
   "execution_count": 60,
   "id": "6976da8f",
   "metadata": {},
   "outputs": [],
   "source": [
    "NFLX_rtn.dropna(inplace = True)"
   ]
  },
  {
   "cell_type": "code",
   "execution_count": 61,
   "id": "dfd958e1",
   "metadata": {},
   "outputs": [
    {
     "data": {
      "text/plain": [
       "Date\n",
       "2015-02-01    0.072268\n",
       "2015-03-01   -0.130783\n",
       "2015-04-01    0.289325\n",
       "2015-05-01    0.114579\n",
       "2015-06-01    0.051346\n",
       "Name: Adj Close_NFLX, dtype: float64"
      ]
     },
     "execution_count": 61,
     "metadata": {},
     "output_type": "execute_result"
    }
   ],
   "source": [
    "NFLX_rtn.head()"
   ]
  },
  {
   "cell_type": "markdown",
   "id": "f934bf02",
   "metadata": {},
   "source": [
    "2 - Unire le due serie in un nuovo DF. Rinominare le due colonne \"Log Return NFLX\" e \"Log Return AMZN\" e fare un grafico delle due serie, singolo e multiplo. Per combinare le serie in un DF bisogna trasformarle in DF"
   ]
  },
  {
   "cell_type": "code",
   "execution_count": 62,
   "id": "ebff11d0",
   "metadata": {},
   "outputs": [],
   "source": [
    "AMZN_rtn = AMZN_rtn.to_frame()"
   ]
  },
  {
   "cell_type": "code",
   "execution_count": 63,
   "id": "488beffd",
   "metadata": {},
   "outputs": [],
   "source": [
    "NFLX_rtn = NFLX_rtn.to_frame()"
   ]
  },
  {
   "cell_type": "code",
   "execution_count": 64,
   "id": "0009bc7d",
   "metadata": {},
   "outputs": [],
   "source": [
    "v11 = AMZN_rtn.join(NFLX_rtn)"
   ]
  },
  {
   "cell_type": "code",
   "execution_count": 66,
   "id": "14bf8c17",
   "metadata": {},
   "outputs": [
    {
     "data": {
      "text/plain": [
       "Index(['Adj Close_AMZN', 'Adj Close_NFLX'], dtype='object')"
      ]
     },
     "execution_count": 66,
     "metadata": {},
     "output_type": "execute_result"
    }
   ],
   "source": [
    "v11.columns"
   ]
  },
  {
   "cell_type": "code",
   "execution_count": 67,
   "id": "433fb007",
   "metadata": {},
   "outputs": [],
   "source": [
    "v11.columns = [\"Log Return NFLX\", \"Log Return AMZN\"]"
   ]
  },
  {
   "cell_type": "code",
   "execution_count": 69,
   "id": "b3769a5b",
   "metadata": {},
   "outputs": [
    {
     "data": {
      "text/plain": [
       "array([<AxesSubplot:xlabel='Date'>, <AxesSubplot:xlabel='Date'>],\n",
       "      dtype=object)"
      ]
     },
     "execution_count": 69,
     "metadata": {},
     "output_type": "execute_result"
    },
    {
     "data": {
      "image/png": "[encoded data removed]",
      "text/plain": [
       "<Figure size 432x288 with 1 Axes>"
      ]
     },
     "metadata": {
      "needs_background": "light"
     },
     "output_type": "display_data"
    },
    {
     "data": {
      "image/png": "[encoded data removed]",
      "text/plain": [
       "<Figure size 432x288 with 2 Axes>"
      ]
     },
     "metadata": {
      "needs_background": "light"
     },
     "output_type": "display_data"
    }
   ],
   "source": [
    "v11.plot(grid = True, title = \"Log Returns of Netflix and Amazon\")\n",
    "v11.plot(grid = True, subplots = True, title = \"Log Returns of Netflix and Amazon\")"
   ]
  },
  {
   "cell_type": "markdown",
   "id": "25f48d03",
   "metadata": {},
   "source": [
    "### Esercizio 7 - Scaricare una serie di prezzi ed manipolare la frequenza dei dati"
   ]
  },
  {
   "cell_type": "markdown",
   "id": "2dfdc1a0",
   "metadata": {},
   "source": [
    "1 - Scaricare i prezzi dell'IBM dal 1 gennaio 1992 ad oggi con frequenza giornaliera."
   ]
  },
  {
   "cell_type": "code",
   "execution_count": 71,
   "id": "8c38b638",
   "metadata": {},
   "outputs": [],
   "source": [
    "import pandas_datareader.data as web\n",
    "from datetime import date, datetime\n",
    "pd.core.common.is_list_like = pd.api.types.is_list_like"
   ]
  },
  {
   "cell_type": "code",
   "execution_count": 75,
   "id": "abd25de6",
   "metadata": {},
   "outputs": [],
   "source": [
    "IBM = web.get_data_yahoo('IBM', '1/1/1992', datetime.today())"
   ]
  },
  {
   "cell_type": "code",
   "execution_count": 76,
   "id": "3b65acd6",
   "metadata": {},
   "outputs": [
    {
     "data": {
      "text/html": [
       "<div>\n",
       "<style scoped>\n",
       "    .dataframe tbody tr th:only-of-type {\n",
       "        vertical-align: middle;\n",
       "    }\n",
       "\n",
       "    .dataframe tbody tr th {\n",
       "        vertical-align: top;\n",
       "    }\n",
       "\n",
       "    .dataframe thead th {\n",
       "        text-align: right;\n",
       "    }\n",
       "</style>\n",
       "<table border=\"1\" class=\"dataframe\">\n",
       "  <thead>\n",
       "    <tr style=\"text-align: right;\">\n",
       "      <th></th>\n",
       "      <th>High</th>\n",
       "      <th>Low</th>\n",
       "      <th>Open</th>\n",
       "      <th>Close</th>\n",
       "      <th>Volume</th>\n",
       "      <th>Adj Close</th>\n",
       "    </tr>\n",
       "    <tr>\n",
       "      <th>Date</th>\n",
       "      <th></th>\n",
       "      <th></th>\n",
       "      <th></th>\n",
       "      <th></th>\n",
       "      <th></th>\n",
       "      <th></th>\n",
       "    </tr>\n",
       "  </thead>\n",
       "  <tbody>\n",
       "    <tr>\n",
       "      <th>1992-01-02</th>\n",
       "      <td>21.659895</td>\n",
       "      <td>21.241634</td>\n",
       "      <td>21.271511</td>\n",
       "      <td>21.570269</td>\n",
       "      <td>7451286.0</td>\n",
       "      <td>11.421552</td>\n",
       "    </tr>\n",
       "    <tr>\n",
       "      <th>1992-01-03</th>\n",
       "      <td>21.779398</td>\n",
       "      <td>21.510515</td>\n",
       "      <td>21.570269</td>\n",
       "      <td>21.600143</td>\n",
       "      <td>6069310.0</td>\n",
       "      <td>11.437372</td>\n",
       "    </tr>\n",
       "    <tr>\n",
       "      <th>1992-01-06</th>\n",
       "      <td>22.257408</td>\n",
       "      <td>21.719646</td>\n",
       "      <td>21.749521</td>\n",
       "      <td>22.048279</td>\n",
       "      <td>9198524.0</td>\n",
       "      <td>11.674657</td>\n",
       "    </tr>\n",
       "    <tr>\n",
       "      <th>1992-01-07</th>\n",
       "      <td>22.645794</td>\n",
       "      <td>21.958652</td>\n",
       "      <td>21.988527</td>\n",
       "      <td>22.615917</td>\n",
       "      <td>8255032.0</td>\n",
       "      <td>11.975227</td>\n",
       "    </tr>\n",
       "    <tr>\n",
       "      <th>1992-01-08</th>\n",
       "      <td>22.705545</td>\n",
       "      <td>22.048279</td>\n",
       "      <td>22.466539</td>\n",
       "      <td>22.078156</td>\n",
       "      <td>10526526.0</td>\n",
       "      <td>11.690479</td>\n",
       "    </tr>\n",
       "  </tbody>\n",
       "</table>\n",
       "</div>"
      ],
      "text/plain": [
       "                 High        Low       Open      Close      Volume  Adj Close\n",
       "Date                                                                         \n",
       "1992-01-02  21.659895  21.241634  21.271511  21.570269   7451286.0  11.421552\n",
       "1992-01-03  21.779398  21.510515  21.570269  21.600143   6069310.0  11.437372\n",
       "1992-01-06  22.257408  21.719646  21.749521  22.048279   9198524.0  11.674657\n",
       "1992-01-07  22.645794  21.958652  21.988527  22.615917   8255032.0  11.975227\n",
       "1992-01-08  22.705545  22.048279  22.466539  22.078156  10526526.0  11.690479"
      ]
     },
     "execution_count": 76,
     "metadata": {},
     "output_type": "execute_result"
    }
   ],
   "source": [
    "IBM.head()"
   ]
  },
  {
   "cell_type": "markdown",
   "id": "16c49179",
   "metadata": {},
   "source": [
    "2 - Aggregare i dati su base trimestrale e annuale"
   ]
  },
  {
   "cell_type": "code",
   "execution_count": 77,
   "id": "92ca9118",
   "metadata": {},
   "outputs": [
    {
     "data": {
      "text/html": [
       "<div>\n",
       "<style scoped>\n",
       "    .dataframe tbody tr th:only-of-type {\n",
       "        vertical-align: middle;\n",
       "    }\n",
       "\n",
       "    .dataframe tbody tr th {\n",
       "        vertical-align: top;\n",
       "    }\n",
       "\n",
       "    .dataframe thead th {\n",
       "        text-align: right;\n",
       "    }\n",
       "</style>\n",
       "<table border=\"1\" class=\"dataframe\">\n",
       "  <thead>\n",
       "    <tr style=\"text-align: right;\">\n",
       "      <th></th>\n",
       "      <th>High</th>\n",
       "      <th>Low</th>\n",
       "      <th>Open</th>\n",
       "      <th>Close</th>\n",
       "      <th>Volume</th>\n",
       "      <th>Adj Close</th>\n",
       "    </tr>\n",
       "    <tr>\n",
       "      <th>Date</th>\n",
       "      <th></th>\n",
       "      <th></th>\n",
       "      <th></th>\n",
       "      <th></th>\n",
       "      <th></th>\n",
       "      <th></th>\n",
       "    </tr>\n",
       "  </thead>\n",
       "  <tbody>\n",
       "    <tr>\n",
       "      <th>1992-03-31</th>\n",
       "      <td>21.682657</td>\n",
       "      <td>21.279098</td>\n",
       "      <td>21.469259</td>\n",
       "      <td>21.445548</td>\n",
       "      <td>6.514481e+06</td>\n",
       "      <td>11.445544</td>\n",
       "    </tr>\n",
       "    <tr>\n",
       "      <th>1992-06-30</th>\n",
       "      <td>21.850530</td>\n",
       "      <td>21.542763</td>\n",
       "      <td>21.678863</td>\n",
       "      <td>21.706368</td>\n",
       "      <td>6.865990e+06</td>\n",
       "      <td>11.742353</td>\n",
       "    </tr>\n",
       "    <tr>\n",
       "      <th>1992-09-30</th>\n",
       "      <td>21.605278</td>\n",
       "      <td>21.330795</td>\n",
       "      <td>21.475505</td>\n",
       "      <td>21.443296</td>\n",
       "      <td>6.523693e+06</td>\n",
       "      <td>11.749071</td>\n",
       "    </tr>\n",
       "    <tr>\n",
       "      <th>1992-12-31</th>\n",
       "      <td>15.879410</td>\n",
       "      <td>15.467686</td>\n",
       "      <td>15.717428</td>\n",
       "      <td>15.638537</td>\n",
       "      <td>1.384491e+07</td>\n",
       "      <td>8.704023</td>\n",
       "    </tr>\n",
       "    <tr>\n",
       "      <th>1993-03-31</th>\n",
       "      <td>12.501542</td>\n",
       "      <td>12.152671</td>\n",
       "      <td>12.355055</td>\n",
       "      <td>12.313614</td>\n",
       "      <td>1.208237e+07</td>\n",
       "      <td>6.954243</td>\n",
       "    </tr>\n",
       "  </tbody>\n",
       "</table>\n",
       "</div>"
      ],
      "text/plain": [
       "                 High        Low       Open      Close        Volume  \\\n",
       "Date                                                                   \n",
       "1992-03-31  21.682657  21.279098  21.469259  21.445548  6.514481e+06   \n",
       "1992-06-30  21.850530  21.542763  21.678863  21.706368  6.865990e+06   \n",
       "1992-09-30  21.605278  21.330795  21.475505  21.443296  6.523693e+06   \n",
       "1992-12-31  15.879410  15.467686  15.717428  15.638537  1.384491e+07   \n",
       "1993-03-31  12.501542  12.152671  12.355055  12.313614  1.208237e+07   \n",
       "\n",
       "            Adj Close  \n",
       "Date                   \n",
       "1992-03-31  11.445544  \n",
       "1992-06-30  11.742353  \n",
       "1992-09-30  11.749071  \n",
       "1992-12-31   8.704023  \n",
       "1993-03-31   6.954243  "
      ]
     },
     "execution_count": 77,
     "metadata": {},
     "output_type": "execute_result"
    }
   ],
   "source": [
    "IBM_q = IBM.groupby(pd.Grouper(freq='Q')).mean() #aggregazione trimestrale\n",
    "IBM_q.head()"
   ]
  },
  {
   "cell_type": "code",
   "execution_count": 78,
   "id": "2f954dc0",
   "metadata": {},
   "outputs": [
    {
     "data": {
      "text/html": [
       "<div>\n",
       "<style scoped>\n",
       "    .dataframe tbody tr th:only-of-type {\n",
       "        vertical-align: middle;\n",
       "    }\n",
       "\n",
       "    .dataframe tbody tr th {\n",
       "        vertical-align: top;\n",
       "    }\n",
       "\n",
       "    .dataframe thead th {\n",
       "        text-align: right;\n",
       "    }\n",
       "</style>\n",
       "<table border=\"1\" class=\"dataframe\">\n",
       "  <thead>\n",
       "    <tr style=\"text-align: right;\">\n",
       "      <th></th>\n",
       "      <th>High</th>\n",
       "      <th>Low</th>\n",
       "      <th>Open</th>\n",
       "      <th>Close</th>\n",
       "      <th>Volume</th>\n",
       "      <th>Adj Close</th>\n",
       "    </tr>\n",
       "    <tr>\n",
       "      <th>Date</th>\n",
       "      <th></th>\n",
       "      <th></th>\n",
       "      <th></th>\n",
       "      <th></th>\n",
       "      <th></th>\n",
       "      <th></th>\n",
       "    </tr>\n",
       "  </thead>\n",
       "  <tbody>\n",
       "    <tr>\n",
       "      <th>1992-12-31</th>\n",
       "      <td>20.242563</td>\n",
       "      <td>19.893228</td>\n",
       "      <td>20.073541</td>\n",
       "      <td>20.046489</td>\n",
       "      <td>8.451024e+06</td>\n",
       "      <td>10.904864</td>\n",
       "    </tr>\n",
       "    <tr>\n",
       "      <th>1993-12-31</th>\n",
       "      <td>11.898683</td>\n",
       "      <td>11.608428</td>\n",
       "      <td>11.767018</td>\n",
       "      <td>11.747061</td>\n",
       "      <td>9.584380e+06</td>\n",
       "      <td>6.721540</td>\n",
       "    </tr>\n",
       "    <tr>\n",
       "      <th>1994-12-31</th>\n",
       "      <td>15.186393</td>\n",
       "      <td>14.863243</td>\n",
       "      <td>15.019187</td>\n",
       "      <td>15.028671</td>\n",
       "      <td>9.975044e+06</td>\n",
       "      <td>8.789197</td>\n",
       "    </tr>\n",
       "    <tr>\n",
       "      <th>1995-12-31</th>\n",
       "      <td>22.203171</td>\n",
       "      <td>21.745491</td>\n",
       "      <td>21.965172</td>\n",
       "      <td>21.966239</td>\n",
       "      <td>1.296006e+07</td>\n",
       "      <td>13.013786</td>\n",
       "    </tr>\n",
       "    <tr>\n",
       "      <th>1996-12-31</th>\n",
       "      <td>28.343587</td>\n",
       "      <td>27.654975</td>\n",
       "      <td>27.948028</td>\n",
       "      <td>27.995017</td>\n",
       "      <td>1.415108e+07</td>\n",
       "      <td>16.764316</td>\n",
       "    </tr>\n",
       "  </tbody>\n",
       "</table>\n",
       "</div>"
      ],
      "text/plain": [
       "                 High        Low       Open      Close        Volume  \\\n",
       "Date                                                                   \n",
       "1992-12-31  20.242563  19.893228  20.073541  20.046489  8.451024e+06   \n",
       "1993-12-31  11.898683  11.608428  11.767018  11.747061  9.584380e+06   \n",
       "1994-12-31  15.186393  14.863243  15.019187  15.028671  9.975044e+06   \n",
       "1995-12-31  22.203171  21.745491  21.965172  21.966239  1.296006e+07   \n",
       "1996-12-31  28.343587  27.654975  27.948028  27.995017  1.415108e+07   \n",
       "\n",
       "            Adj Close  \n",
       "Date                   \n",
       "1992-12-31  10.904864  \n",
       "1993-12-31   6.721540  \n",
       "1994-12-31   8.789197  \n",
       "1995-12-31  13.013786  \n",
       "1996-12-31  16.764316  "
      ]
     },
     "execution_count": 78,
     "metadata": {},
     "output_type": "execute_result"
    }
   ],
   "source": [
    "IBM_y = IBM.groupby(pd.Grouper(freq='Y')).mean() #aggregazione annuale\n",
    "IBM_y.head()"
   ]
  },
  {
   "cell_type": "markdown",
   "id": "c5424db9",
   "metadata": {},
   "source": [
    "3 - Unire le serie di diversa granularità in un unico DF"
   ]
  },
  {
   "cell_type": "code",
   "execution_count": 86,
   "id": "1eef0784",
   "metadata": {},
   "outputs": [],
   "source": [
    "IBM_q_y = IBM_q.join(IBM_y, lsuffix='_q', rsuffix='_y')"
   ]
  },
  {
   "cell_type": "code",
   "execution_count": 87,
   "id": "4139850d",
   "metadata": {},
   "outputs": [
    {
     "data": {
      "text/html": [
       "<div>\n",
       "<style scoped>\n",
       "    .dataframe tbody tr th:only-of-type {\n",
       "        vertical-align: middle;\n",
       "    }\n",
       "\n",
       "    .dataframe tbody tr th {\n",
       "        vertical-align: top;\n",
       "    }\n",
       "\n",
       "    .dataframe thead th {\n",
       "        text-align: right;\n",
       "    }\n",
       "</style>\n",
       "<table border=\"1\" class=\"dataframe\">\n",
       "  <thead>\n",
       "    <tr style=\"text-align: right;\">\n",
       "      <th></th>\n",
       "      <th>High_q</th>\n",
       "      <th>Low_q</th>\n",
       "      <th>Open_q</th>\n",
       "      <th>Close_q</th>\n",
       "      <th>Volume_q</th>\n",
       "      <th>Adj Close_q</th>\n",
       "      <th>High_y</th>\n",
       "      <th>Low_y</th>\n",
       "      <th>Open_y</th>\n",
       "      <th>Close_y</th>\n",
       "      <th>Volume_y</th>\n",
       "      <th>Adj Close_y</th>\n",
       "    </tr>\n",
       "    <tr>\n",
       "      <th>Date</th>\n",
       "      <th></th>\n",
       "      <th></th>\n",
       "      <th></th>\n",
       "      <th></th>\n",
       "      <th></th>\n",
       "      <th></th>\n",
       "      <th></th>\n",
       "      <th></th>\n",
       "      <th></th>\n",
       "      <th></th>\n",
       "      <th></th>\n",
       "      <th></th>\n",
       "    </tr>\n",
       "  </thead>\n",
       "  <tbody>\n",
       "    <tr>\n",
       "      <th>1992-03-31</th>\n",
       "      <td>21.682657</td>\n",
       "      <td>21.279098</td>\n",
       "      <td>21.469259</td>\n",
       "      <td>21.445548</td>\n",
       "      <td>6.514481e+06</td>\n",
       "      <td>11.445544</td>\n",
       "      <td>NaN</td>\n",
       "      <td>NaN</td>\n",
       "      <td>NaN</td>\n",
       "      <td>NaN</td>\n",
       "      <td>NaN</td>\n",
       "      <td>NaN</td>\n",
       "    </tr>\n",
       "    <tr>\n",
       "      <th>1992-06-30</th>\n",
       "      <td>21.850530</td>\n",
       "      <td>21.542763</td>\n",
       "      <td>21.678863</td>\n",
       "      <td>21.706368</td>\n",
       "      <td>6.865990e+06</td>\n",
       "      <td>11.742353</td>\n",
       "      <td>NaN</td>\n",
       "      <td>NaN</td>\n",
       "      <td>NaN</td>\n",
       "      <td>NaN</td>\n",
       "      <td>NaN</td>\n",
       "      <td>NaN</td>\n",
       "    </tr>\n",
       "    <tr>\n",
       "      <th>1992-09-30</th>\n",
       "      <td>21.605278</td>\n",
       "      <td>21.330795</td>\n",
       "      <td>21.475505</td>\n",
       "      <td>21.443296</td>\n",
       "      <td>6.523693e+06</td>\n",
       "      <td>11.749071</td>\n",
       "      <td>NaN</td>\n",
       "      <td>NaN</td>\n",
       "      <td>NaN</td>\n",
       "      <td>NaN</td>\n",
       "      <td>NaN</td>\n",
       "      <td>NaN</td>\n",
       "    </tr>\n",
       "    <tr>\n",
       "      <th>1992-12-31</th>\n",
       "      <td>15.879410</td>\n",
       "      <td>15.467686</td>\n",
       "      <td>15.717428</td>\n",
       "      <td>15.638537</td>\n",
       "      <td>1.384491e+07</td>\n",
       "      <td>8.704023</td>\n",
       "      <td>20.242563</td>\n",
       "      <td>19.893228</td>\n",
       "      <td>20.073541</td>\n",
       "      <td>20.046489</td>\n",
       "      <td>8.451024e+06</td>\n",
       "      <td>10.904864</td>\n",
       "    </tr>\n",
       "    <tr>\n",
       "      <th>1993-03-31</th>\n",
       "      <td>12.501542</td>\n",
       "      <td>12.152671</td>\n",
       "      <td>12.355055</td>\n",
       "      <td>12.313614</td>\n",
       "      <td>1.208237e+07</td>\n",
       "      <td>6.954243</td>\n",
       "      <td>NaN</td>\n",
       "      <td>NaN</td>\n",
       "      <td>NaN</td>\n",
       "      <td>NaN</td>\n",
       "      <td>NaN</td>\n",
       "      <td>NaN</td>\n",
       "    </tr>\n",
       "  </tbody>\n",
       "</table>\n",
       "</div>"
      ],
      "text/plain": [
       "               High_q      Low_q     Open_q    Close_q      Volume_q  \\\n",
       "Date                                                                   \n",
       "1992-03-31  21.682657  21.279098  21.469259  21.445548  6.514481e+06   \n",
       "1992-06-30  21.850530  21.542763  21.678863  21.706368  6.865990e+06   \n",
       "1992-09-30  21.605278  21.330795  21.475505  21.443296  6.523693e+06   \n",
       "1992-12-31  15.879410  15.467686  15.717428  15.638537  1.384491e+07   \n",
       "1993-03-31  12.501542  12.152671  12.355055  12.313614  1.208237e+07   \n",
       "\n",
       "            Adj Close_q     High_y      Low_y     Open_y    Close_y  \\\n",
       "Date                                                                  \n",
       "1992-03-31    11.445544        NaN        NaN        NaN        NaN   \n",
       "1992-06-30    11.742353        NaN        NaN        NaN        NaN   \n",
       "1992-09-30    11.749071        NaN        NaN        NaN        NaN   \n",
       "1992-12-31     8.704023  20.242563  19.893228  20.073541  20.046489   \n",
       "1993-03-31     6.954243        NaN        NaN        NaN        NaN   \n",
       "\n",
       "                Volume_y  Adj Close_y  \n",
       "Date                                   \n",
       "1992-03-31           NaN          NaN  \n",
       "1992-06-30           NaN          NaN  \n",
       "1992-09-30           NaN          NaN  \n",
       "1992-12-31  8.451024e+06    10.904864  \n",
       "1993-03-31           NaN          NaN  "
      ]
     },
     "execution_count": 87,
     "metadata": {},
     "output_type": "execute_result"
    }
   ],
   "source": [
    "IBM_q_y.head()"
   ]
  },
  {
   "cell_type": "code",
   "execution_count": 89,
   "id": "7750c9c3",
   "metadata": {},
   "outputs": [],
   "source": [
    "IBM_adjclose_q_y = IBM_q_y[[\"Adj Close_q\", \"Adj Close_y\"]]\n"
   ]
  },
  {
   "cell_type": "code",
   "execution_count": 90,
   "id": "ce0457a7",
   "metadata": {},
   "outputs": [
    {
     "data": {
      "text/html": [
       "<div>\n",
       "<style scoped>\n",
       "    .dataframe tbody tr th:only-of-type {\n",
       "        vertical-align: middle;\n",
       "    }\n",
       "\n",
       "    .dataframe tbody tr th {\n",
       "        vertical-align: top;\n",
       "    }\n",
       "\n",
       "    .dataframe thead th {\n",
       "        text-align: right;\n",
       "    }\n",
       "</style>\n",
       "<table border=\"1\" class=\"dataframe\">\n",
       "  <thead>\n",
       "    <tr style=\"text-align: right;\">\n",
       "      <th></th>\n",
       "      <th>Adj Close_q</th>\n",
       "      <th>Adj Close_y</th>\n",
       "    </tr>\n",
       "    <tr>\n",
       "      <th>Date</th>\n",
       "      <th></th>\n",
       "      <th></th>\n",
       "    </tr>\n",
       "  </thead>\n",
       "  <tbody>\n",
       "    <tr>\n",
       "      <th>1992-03-31</th>\n",
       "      <td>11.445544</td>\n",
       "      <td>NaN</td>\n",
       "    </tr>\n",
       "    <tr>\n",
       "      <th>1992-06-30</th>\n",
       "      <td>11.742353</td>\n",
       "      <td>NaN</td>\n",
       "    </tr>\n",
       "    <tr>\n",
       "      <th>1992-09-30</th>\n",
       "      <td>11.749071</td>\n",
       "      <td>NaN</td>\n",
       "    </tr>\n",
       "    <tr>\n",
       "      <th>1992-12-31</th>\n",
       "      <td>8.704023</td>\n",
       "      <td>10.904864</td>\n",
       "    </tr>\n",
       "    <tr>\n",
       "      <th>1993-03-31</th>\n",
       "      <td>6.954243</td>\n",
       "      <td>NaN</td>\n",
       "    </tr>\n",
       "  </tbody>\n",
       "</table>\n",
       "</div>"
      ],
      "text/plain": [
       "            Adj Close_q  Adj Close_y\n",
       "Date                                \n",
       "1992-03-31    11.445544          NaN\n",
       "1992-06-30    11.742353          NaN\n",
       "1992-09-30    11.749071          NaN\n",
       "1992-12-31     8.704023    10.904864\n",
       "1993-03-31     6.954243          NaN"
      ]
     },
     "execution_count": 90,
     "metadata": {},
     "output_type": "execute_result"
    }
   ],
   "source": [
    "IBM_adjclose_q_y.head()"
   ]
  },
  {
   "cell_type": "markdown",
   "id": "14b968a9",
   "metadata": {},
   "source": [
    "4 - Creare una nuova serie multivariata selezionando solo la colonna \"Adj Close\" dei dati trimestrali e annuali. Sostituire i valori NaN (se ce ne sono) con una interpolazione lineare e fare un grafico"
   ]
  },
  {
   "cell_type": "code",
   "execution_count": 92,
   "id": "d58f353f",
   "metadata": {},
   "outputs": [
    {
     "data": {
      "text/plain": [
       "Adj Close_q     0\n",
       "Adj Close_y    90\n",
       "dtype: int64"
      ]
     },
     "execution_count": 92,
     "metadata": {},
     "output_type": "execute_result"
    }
   ],
   "source": [
    "IBM_adjclose_q_y.isnull().sum()"
   ]
  },
  {
   "cell_type": "code",
   "execution_count": 93,
   "id": "9b7df351",
   "metadata": {},
   "outputs": [
    {
     "name": "stderr",
     "output_type": "stream",
     "text": [
      "<ipython-input-93-7752ceb85188>:1: SettingWithCopyWarning: \n",
      "A value is trying to be set on a copy of a slice from a DataFrame.\n",
      "Try using .loc[row_indexer,col_indexer] = value instead\n",
      "\n",
      "See the caveats in the documentation: https://pandas.pydata.org/pandas-docs/stable/user_guide/indexing.html#returning-a-view-versus-a-copy\n",
      "  IBM_adjclose_q_y['Adj Close_y'] = IBM_adjclose_q_y['Adj Close_y'].interpolate()\n"
     ]
    }
   ],
   "source": [
    "IBM_adjclose_q_y['Adj Close_y'] = IBM_adjclose_q_y['Adj Close_y'].interpolate()"
   ]
  },
  {
   "cell_type": "code",
   "execution_count": 95,
   "id": "928671a8",
   "metadata": {},
   "outputs": [
    {
     "data": {
      "text/plain": [
       "Date\n",
       "1992-03-31          NaN\n",
       "1992-06-30          NaN\n",
       "1992-09-30          NaN\n",
       "1992-12-31    10.904864\n",
       "1993-03-31     9.859033\n",
       "1993-06-30     8.813202\n",
       "1993-09-30     7.767371\n",
       "1993-12-31     6.721540\n",
       "1994-03-31     7.238454\n",
       "1994-06-30     7.755368\n",
       "Freq: Q-DEC, Name: Adj Close_y, dtype: float64"
      ]
     },
     "execution_count": 95,
     "metadata": {},
     "output_type": "execute_result"
    }
   ],
   "source": [
    "IBM_adjclose_q_y['Adj Close_y'].head(10)"
   ]
  },
  {
   "cell_type": "code",
   "execution_count": 96,
   "id": "ba8b0ab0",
   "metadata": {},
   "outputs": [
    {
     "data": {
      "text/html": [
       "<div>\n",
       "<style scoped>\n",
       "    .dataframe tbody tr th:only-of-type {\n",
       "        vertical-align: middle;\n",
       "    }\n",
       "\n",
       "    .dataframe tbody tr th {\n",
       "        vertical-align: top;\n",
       "    }\n",
       "\n",
       "    .dataframe thead th {\n",
       "        text-align: right;\n",
       "    }\n",
       "</style>\n",
       "<table border=\"1\" class=\"dataframe\">\n",
       "  <thead>\n",
       "    <tr style=\"text-align: right;\">\n",
       "      <th></th>\n",
       "      <th>Adj Close_q</th>\n",
       "      <th>Adj Close_y</th>\n",
       "    </tr>\n",
       "    <tr>\n",
       "      <th>Date</th>\n",
       "      <th></th>\n",
       "      <th></th>\n",
       "    </tr>\n",
       "  </thead>\n",
       "  <tbody>\n",
       "    <tr>\n",
       "      <th>1992-03-31</th>\n",
       "      <td>11.445544</td>\n",
       "      <td>NaN</td>\n",
       "    </tr>\n",
       "    <tr>\n",
       "      <th>1992-06-30</th>\n",
       "      <td>11.742353</td>\n",
       "      <td>NaN</td>\n",
       "    </tr>\n",
       "    <tr>\n",
       "      <th>1992-09-30</th>\n",
       "      <td>11.749071</td>\n",
       "      <td>NaN</td>\n",
       "    </tr>\n",
       "    <tr>\n",
       "      <th>1992-12-31</th>\n",
       "      <td>8.704023</td>\n",
       "      <td>10.904864</td>\n",
       "    </tr>\n",
       "    <tr>\n",
       "      <th>1993-03-31</th>\n",
       "      <td>6.954243</td>\n",
       "      <td>9.859033</td>\n",
       "    </tr>\n",
       "    <tr>\n",
       "      <th>1993-06-30</th>\n",
       "      <td>6.840051</td>\n",
       "      <td>8.813202</td>\n",
       "    </tr>\n",
       "    <tr>\n",
       "      <th>1993-09-30</th>\n",
       "      <td>6.060082</td>\n",
       "      <td>7.767371</td>\n",
       "    </tr>\n",
       "    <tr>\n",
       "      <th>1993-12-31</th>\n",
       "      <td>7.040909</td>\n",
       "      <td>6.721540</td>\n",
       "    </tr>\n",
       "    <tr>\n",
       "      <th>1994-03-31</th>\n",
       "      <td>7.729301</td>\n",
       "      <td>7.238454</td>\n",
       "    </tr>\n",
       "    <tr>\n",
       "      <th>1994-06-30</th>\n",
       "      <td>8.232094</td>\n",
       "      <td>7.755368</td>\n",
       "    </tr>\n",
       "  </tbody>\n",
       "</table>\n",
       "</div>"
      ],
      "text/plain": [
       "            Adj Close_q  Adj Close_y\n",
       "Date                                \n",
       "1992-03-31    11.445544          NaN\n",
       "1992-06-30    11.742353          NaN\n",
       "1992-09-30    11.749071          NaN\n",
       "1992-12-31     8.704023    10.904864\n",
       "1993-03-31     6.954243     9.859033\n",
       "1993-06-30     6.840051     8.813202\n",
       "1993-09-30     6.060082     7.767371\n",
       "1993-12-31     7.040909     6.721540\n",
       "1994-03-31     7.729301     7.238454\n",
       "1994-06-30     8.232094     7.755368"
      ]
     },
     "execution_count": 96,
     "metadata": {},
     "output_type": "execute_result"
    }
   ],
   "source": [
    "IBM_adjclose_q_y.head(10)"
   ]
  },
  {
   "cell_type": "code",
   "execution_count": 98,
   "id": "8915ea5c",
   "metadata": {},
   "outputs": [
    {
     "data": {
      "text/html": [
       "<div>\n",
       "<style scoped>\n",
       "    .dataframe tbody tr th:only-of-type {\n",
       "        vertical-align: middle;\n",
       "    }\n",
       "\n",
       "    .dataframe tbody tr th {\n",
       "        vertical-align: top;\n",
       "    }\n",
       "\n",
       "    .dataframe thead th {\n",
       "        text-align: right;\n",
       "    }\n",
       "</style>\n",
       "<table border=\"1\" class=\"dataframe\">\n",
       "  <thead>\n",
       "    <tr style=\"text-align: right;\">\n",
       "      <th></th>\n",
       "      <th>Adj Close_q</th>\n",
       "      <th>Adj Close_y</th>\n",
       "    </tr>\n",
       "    <tr>\n",
       "      <th>Date</th>\n",
       "      <th></th>\n",
       "      <th></th>\n",
       "    </tr>\n",
       "  </thead>\n",
       "  <tbody>\n",
       "    <tr>\n",
       "      <th>1992-12-31</th>\n",
       "      <td>8.704023</td>\n",
       "      <td>10.904864</td>\n",
       "    </tr>\n",
       "    <tr>\n",
       "      <th>1993-03-31</th>\n",
       "      <td>6.954243</td>\n",
       "      <td>9.859033</td>\n",
       "    </tr>\n",
       "    <tr>\n",
       "      <th>1993-06-30</th>\n",
       "      <td>6.840051</td>\n",
       "      <td>8.813202</td>\n",
       "    </tr>\n",
       "    <tr>\n",
       "      <th>1993-09-30</th>\n",
       "      <td>6.060082</td>\n",
       "      <td>7.767371</td>\n",
       "    </tr>\n",
       "    <tr>\n",
       "      <th>1993-12-31</th>\n",
       "      <td>7.040909</td>\n",
       "      <td>6.721540</td>\n",
       "    </tr>\n",
       "    <tr>\n",
       "      <th>...</th>\n",
       "      <td>...</td>\n",
       "      <td>...</td>\n",
       "    </tr>\n",
       "    <tr>\n",
       "      <th>2020-12-31</th>\n",
       "      <td>110.844860</td>\n",
       "      <td>111.802532</td>\n",
       "    </tr>\n",
       "    <tr>\n",
       "      <th>2021-03-31</th>\n",
       "      <td>116.380225</td>\n",
       "      <td>115.925388</td>\n",
       "    </tr>\n",
       "    <tr>\n",
       "      <th>2021-06-30</th>\n",
       "      <td>134.611987</td>\n",
       "      <td>120.048245</td>\n",
       "    </tr>\n",
       "    <tr>\n",
       "      <th>2021-09-30</th>\n",
       "      <td>133.053241</td>\n",
       "      <td>124.171101</td>\n",
       "    </tr>\n",
       "    <tr>\n",
       "      <th>2021-12-31</th>\n",
       "      <td>129.186831</td>\n",
       "      <td>128.293957</td>\n",
       "    </tr>\n",
       "  </tbody>\n",
       "</table>\n",
       "<p>117 rows × 2 columns</p>\n",
       "</div>"
      ],
      "text/plain": [
       "            Adj Close_q  Adj Close_y\n",
       "Date                                \n",
       "1992-12-31     8.704023    10.904864\n",
       "1993-03-31     6.954243     9.859033\n",
       "1993-06-30     6.840051     8.813202\n",
       "1993-09-30     6.060082     7.767371\n",
       "1993-12-31     7.040909     6.721540\n",
       "...                 ...          ...\n",
       "2020-12-31   110.844860   111.802532\n",
       "2021-03-31   116.380225   115.925388\n",
       "2021-06-30   134.611987   120.048245\n",
       "2021-09-30   133.053241   124.171101\n",
       "2021-12-31   129.186831   128.293957\n",
       "\n",
       "[117 rows x 2 columns]"
      ]
     },
     "execution_count": 98,
     "metadata": {},
     "output_type": "execute_result"
    }
   ],
   "source": [
    "IBM_adjclose_q_y.dropna()"
   ]
  },
  {
   "cell_type": "markdown",
   "id": "486d06a8",
   "metadata": {},
   "source": [
    "5 - Scaricare più serie insieme"
   ]
  },
  {
   "cell_type": "code",
   "execution_count": 100,
   "id": "d9e6272e",
   "metadata": {},
   "outputs": [
    {
     "data": {
      "text/html": [
       "<div>\n",
       "<style scoped>\n",
       "    .dataframe tbody tr th:only-of-type {\n",
       "        vertical-align: middle;\n",
       "    }\n",
       "\n",
       "    .dataframe tbody tr th {\n",
       "        vertical-align: top;\n",
       "    }\n",
       "\n",
       "    .dataframe thead tr th {\n",
       "        text-align: left;\n",
       "    }\n",
       "\n",
       "    .dataframe thead tr:last-of-type th {\n",
       "        text-align: right;\n",
       "    }\n",
       "</style>\n",
       "<table border=\"1\" class=\"dataframe\">\n",
       "  <thead>\n",
       "    <tr>\n",
       "      <th>Attributes</th>\n",
       "      <th colspan=\"3\" halign=\"left\">Adj Close</th>\n",
       "      <th colspan=\"3\" halign=\"left\">Close</th>\n",
       "      <th colspan=\"3\" halign=\"left\">High</th>\n",
       "      <th colspan=\"3\" halign=\"left\">Low</th>\n",
       "      <th colspan=\"3\" halign=\"left\">Open</th>\n",
       "      <th colspan=\"3\" halign=\"left\">Volume</th>\n",
       "    </tr>\n",
       "    <tr>\n",
       "      <th>Symbols</th>\n",
       "      <th>IBM</th>\n",
       "      <th>AMZN</th>\n",
       "      <th>NFLX</th>\n",
       "      <th>IBM</th>\n",
       "      <th>AMZN</th>\n",
       "      <th>NFLX</th>\n",
       "      <th>IBM</th>\n",
       "      <th>AMZN</th>\n",
       "      <th>NFLX</th>\n",
       "      <th>IBM</th>\n",
       "      <th>AMZN</th>\n",
       "      <th>NFLX</th>\n",
       "      <th>IBM</th>\n",
       "      <th>AMZN</th>\n",
       "      <th>NFLX</th>\n",
       "      <th>IBM</th>\n",
       "      <th>AMZN</th>\n",
       "      <th>NFLX</th>\n",
       "    </tr>\n",
       "    <tr>\n",
       "      <th>Date</th>\n",
       "      <th></th>\n",
       "      <th></th>\n",
       "      <th></th>\n",
       "      <th></th>\n",
       "      <th></th>\n",
       "      <th></th>\n",
       "      <th></th>\n",
       "      <th></th>\n",
       "      <th></th>\n",
       "      <th></th>\n",
       "      <th></th>\n",
       "      <th></th>\n",
       "      <th></th>\n",
       "      <th></th>\n",
       "      <th></th>\n",
       "      <th></th>\n",
       "      <th></th>\n",
       "      <th></th>\n",
       "    </tr>\n",
       "  </thead>\n",
       "  <tbody>\n",
       "    <tr>\n",
       "      <th>2020-01-02</th>\n",
       "      <td>118.683472</td>\n",
       "      <td>1898.010010</td>\n",
       "      <td>329.809998</td>\n",
       "      <td>129.464630</td>\n",
       "      <td>1898.010010</td>\n",
       "      <td>329.809998</td>\n",
       "      <td>129.942642</td>\n",
       "      <td>1898.010010</td>\n",
       "      <td>329.980011</td>\n",
       "      <td>128.843216</td>\n",
       "      <td>1864.150024</td>\n",
       "      <td>324.779999</td>\n",
       "      <td>129.063095</td>\n",
       "      <td>1875.000000</td>\n",
       "      <td>326.100006</td>\n",
       "      <td>3293436.0</td>\n",
       "      <td>4029000.0</td>\n",
       "      <td>4485800.0</td>\n",
       "    </tr>\n",
       "    <tr>\n",
       "      <th>2020-01-03</th>\n",
       "      <td>117.736961</td>\n",
       "      <td>1874.969971</td>\n",
       "      <td>325.899994</td>\n",
       "      <td>128.432129</td>\n",
       "      <td>1874.969971</td>\n",
       "      <td>325.899994</td>\n",
       "      <td>128.929260</td>\n",
       "      <td>1886.199951</td>\n",
       "      <td>329.859985</td>\n",
       "      <td>127.686424</td>\n",
       "      <td>1864.500000</td>\n",
       "      <td>325.529999</td>\n",
       "      <td>127.695984</td>\n",
       "      <td>1864.500000</td>\n",
       "      <td>326.779999</td>\n",
       "      <td>2482890.0</td>\n",
       "      <td>3764400.0</td>\n",
       "      <td>3806900.0</td>\n",
       "    </tr>\n",
       "    <tr>\n",
       "      <th>2020-01-06</th>\n",
       "      <td>117.526627</td>\n",
       "      <td>1902.880005</td>\n",
       "      <td>335.829987</td>\n",
       "      <td>128.202682</td>\n",
       "      <td>1902.880005</td>\n",
       "      <td>335.829987</td>\n",
       "      <td>128.336517</td>\n",
       "      <td>1903.689941</td>\n",
       "      <td>336.359985</td>\n",
       "      <td>127.342255</td>\n",
       "      <td>1860.000000</td>\n",
       "      <td>321.200012</td>\n",
       "      <td>127.552582</td>\n",
       "      <td>1860.000000</td>\n",
       "      <td>323.119995</td>\n",
       "      <td>2537073.0</td>\n",
       "      <td>4061800.0</td>\n",
       "      <td>5663100.0</td>\n",
       "    </tr>\n",
       "    <tr>\n",
       "      <th>2020-01-07</th>\n",
       "      <td>117.605484</td>\n",
       "      <td>1906.859985</td>\n",
       "      <td>330.750000</td>\n",
       "      <td>128.288712</td>\n",
       "      <td>1906.859985</td>\n",
       "      <td>330.750000</td>\n",
       "      <td>129.024857</td>\n",
       "      <td>1913.890015</td>\n",
       "      <td>336.700012</td>\n",
       "      <td>127.533463</td>\n",
       "      <td>1892.040039</td>\n",
       "      <td>330.299988</td>\n",
       "      <td>127.810707</td>\n",
       "      <td>1904.500000</td>\n",
       "      <td>336.470001</td>\n",
       "      <td>3232977.0</td>\n",
       "      <td>4044900.0</td>\n",
       "      <td>4703200.0</td>\n",
       "    </tr>\n",
       "    <tr>\n",
       "      <th>2020-01-08</th>\n",
       "      <td>118.587074</td>\n",
       "      <td>1891.969971</td>\n",
       "      <td>339.260010</td>\n",
       "      <td>129.359467</td>\n",
       "      <td>1891.969971</td>\n",
       "      <td>339.260010</td>\n",
       "      <td>129.885284</td>\n",
       "      <td>1911.000000</td>\n",
       "      <td>342.700012</td>\n",
       "      <td>128.030594</td>\n",
       "      <td>1886.439941</td>\n",
       "      <td>331.049988</td>\n",
       "      <td>128.594650</td>\n",
       "      <td>1898.040039</td>\n",
       "      <td>331.489990</td>\n",
       "      <td>4545916.0</td>\n",
       "      <td>3508000.0</td>\n",
       "      <td>7104500.0</td>\n",
       "    </tr>\n",
       "  </tbody>\n",
       "</table>\n",
       "</div>"
      ],
      "text/plain": [
       "Attributes   Adj Close                                Close               \\\n",
       "Symbols            IBM         AMZN        NFLX         IBM         AMZN   \n",
       "Date                                                                       \n",
       "2020-01-02  118.683472  1898.010010  329.809998  129.464630  1898.010010   \n",
       "2020-01-03  117.736961  1874.969971  325.899994  128.432129  1874.969971   \n",
       "2020-01-06  117.526627  1902.880005  335.829987  128.202682  1902.880005   \n",
       "2020-01-07  117.605484  1906.859985  330.750000  128.288712  1906.859985   \n",
       "2020-01-08  118.587074  1891.969971  339.260010  129.359467  1891.969971   \n",
       "\n",
       "Attributes                    High                                  Low  \\\n",
       "Symbols           NFLX         IBM         AMZN        NFLX         IBM   \n",
       "Date                                                                      \n",
       "2020-01-02  329.809998  129.942642  1898.010010  329.980011  128.843216   \n",
       "2020-01-03  325.899994  128.929260  1886.199951  329.859985  127.686424   \n",
       "2020-01-06  335.829987  128.336517  1903.689941  336.359985  127.342255   \n",
       "2020-01-07  330.750000  129.024857  1913.890015  336.700012  127.533463   \n",
       "2020-01-08  339.260010  129.885284  1911.000000  342.700012  128.030594   \n",
       "\n",
       "Attributes                                 Open                           \\\n",
       "Symbols            AMZN        NFLX         IBM         AMZN        NFLX   \n",
       "Date                                                                       \n",
       "2020-01-02  1864.150024  324.779999  129.063095  1875.000000  326.100006   \n",
       "2020-01-03  1864.500000  325.529999  127.695984  1864.500000  326.779999   \n",
       "2020-01-06  1860.000000  321.200012  127.552582  1860.000000  323.119995   \n",
       "2020-01-07  1892.040039  330.299988  127.810707  1904.500000  336.470001   \n",
       "2020-01-08  1886.439941  331.049988  128.594650  1898.040039  331.489990   \n",
       "\n",
       "Attributes     Volume                        \n",
       "Symbols           IBM       AMZN       NFLX  \n",
       "Date                                         \n",
       "2020-01-02  3293436.0  4029000.0  4485800.0  \n",
       "2020-01-03  2482890.0  3764400.0  3806900.0  \n",
       "2020-01-06  2537073.0  4061800.0  5663100.0  \n",
       "2020-01-07  3232977.0  4044900.0  4703200.0  \n",
       "2020-01-08  4545916.0  3508000.0  7104500.0  "
      ]
     },
     "execution_count": 100,
     "metadata": {},
     "output_type": "execute_result"
    }
   ],
   "source": [
    "df = web.get_data_yahoo(['IBM', 'AMZN', 'NFLX'], '1/1/2020', datetime.today())\n",
    "df.head()"
   ]
  },
  {
   "cell_type": "code",
   "execution_count": 101,
   "id": "2db7f12b",
   "metadata": {},
   "outputs": [],
   "source": [
    "df1 = df[[('Adj Close',  'IBM'),\n",
    "            ('Adj Close', 'AMZN'),\n",
    "            ('Adj Close', 'NFLX')]]"
   ]
  },
  {
   "cell_type": "code",
   "execution_count": 102,
   "id": "c00e4143",
   "metadata": {},
   "outputs": [
    {
     "data": {
      "text/html": [
       "<div>\n",
       "<style scoped>\n",
       "    .dataframe tbody tr th:only-of-type {\n",
       "        vertical-align: middle;\n",
       "    }\n",
       "\n",
       "    .dataframe tbody tr th {\n",
       "        vertical-align: top;\n",
       "    }\n",
       "\n",
       "    .dataframe thead tr th {\n",
       "        text-align: left;\n",
       "    }\n",
       "\n",
       "    .dataframe thead tr:last-of-type th {\n",
       "        text-align: right;\n",
       "    }\n",
       "</style>\n",
       "<table border=\"1\" class=\"dataframe\">\n",
       "  <thead>\n",
       "    <tr>\n",
       "      <th>Attributes</th>\n",
       "      <th colspan=\"3\" halign=\"left\">Adj Close</th>\n",
       "    </tr>\n",
       "    <tr>\n",
       "      <th>Symbols</th>\n",
       "      <th>IBM</th>\n",
       "      <th>AMZN</th>\n",
       "      <th>NFLX</th>\n",
       "    </tr>\n",
       "    <tr>\n",
       "      <th>Date</th>\n",
       "      <th></th>\n",
       "      <th></th>\n",
       "      <th></th>\n",
       "    </tr>\n",
       "  </thead>\n",
       "  <tbody>\n",
       "    <tr>\n",
       "      <th>2020-01-02</th>\n",
       "      <td>118.683472</td>\n",
       "      <td>1898.010010</td>\n",
       "      <td>329.809998</td>\n",
       "    </tr>\n",
       "    <tr>\n",
       "      <th>2020-01-03</th>\n",
       "      <td>117.736961</td>\n",
       "      <td>1874.969971</td>\n",
       "      <td>325.899994</td>\n",
       "    </tr>\n",
       "    <tr>\n",
       "      <th>2020-01-06</th>\n",
       "      <td>117.526627</td>\n",
       "      <td>1902.880005</td>\n",
       "      <td>335.829987</td>\n",
       "    </tr>\n",
       "    <tr>\n",
       "      <th>2020-01-07</th>\n",
       "      <td>117.605484</td>\n",
       "      <td>1906.859985</td>\n",
       "      <td>330.750000</td>\n",
       "    </tr>\n",
       "    <tr>\n",
       "      <th>2020-01-08</th>\n",
       "      <td>118.587074</td>\n",
       "      <td>1891.969971</td>\n",
       "      <td>339.260010</td>\n",
       "    </tr>\n",
       "  </tbody>\n",
       "</table>\n",
       "</div>"
      ],
      "text/plain": [
       "Attributes   Adj Close                         \n",
       "Symbols            IBM         AMZN        NFLX\n",
       "Date                                           \n",
       "2020-01-02  118.683472  1898.010010  329.809998\n",
       "2020-01-03  117.736961  1874.969971  325.899994\n",
       "2020-01-06  117.526627  1902.880005  335.829987\n",
       "2020-01-07  117.605484  1906.859985  330.750000\n",
       "2020-01-08  118.587074  1891.969971  339.260010"
      ]
     },
     "execution_count": 102,
     "metadata": {},
     "output_type": "execute_result"
    }
   ],
   "source": [
    "df1.head()"
   ]
  },
  {
   "cell_type": "code",
   "execution_count": 103,
   "id": "1fb36eed",
   "metadata": {},
   "outputs": [],
   "source": [
    "df1.columns = ['IBM', 'AMZN', 'NFLX']"
   ]
  },
  {
   "cell_type": "code",
   "execution_count": 104,
   "id": "7e3c1b59",
   "metadata": {},
   "outputs": [
    {
     "data": {
      "text/html": [
       "<div>\n",
       "<style scoped>\n",
       "    .dataframe tbody tr th:only-of-type {\n",
       "        vertical-align: middle;\n",
       "    }\n",
       "\n",
       "    .dataframe tbody tr th {\n",
       "        vertical-align: top;\n",
       "    }\n",
       "\n",
       "    .dataframe thead th {\n",
       "        text-align: right;\n",
       "    }\n",
       "</style>\n",
       "<table border=\"1\" class=\"dataframe\">\n",
       "  <thead>\n",
       "    <tr style=\"text-align: right;\">\n",
       "      <th></th>\n",
       "      <th>IBM</th>\n",
       "      <th>AMZN</th>\n",
       "      <th>NFLX</th>\n",
       "    </tr>\n",
       "    <tr>\n",
       "      <th>Date</th>\n",
       "      <th></th>\n",
       "      <th></th>\n",
       "      <th></th>\n",
       "    </tr>\n",
       "  </thead>\n",
       "  <tbody>\n",
       "    <tr>\n",
       "      <th>2020-01-02</th>\n",
       "      <td>118.683472</td>\n",
       "      <td>1898.010010</td>\n",
       "      <td>329.809998</td>\n",
       "    </tr>\n",
       "    <tr>\n",
       "      <th>2020-01-03</th>\n",
       "      <td>117.736961</td>\n",
       "      <td>1874.969971</td>\n",
       "      <td>325.899994</td>\n",
       "    </tr>\n",
       "    <tr>\n",
       "      <th>2020-01-06</th>\n",
       "      <td>117.526627</td>\n",
       "      <td>1902.880005</td>\n",
       "      <td>335.829987</td>\n",
       "    </tr>\n",
       "    <tr>\n",
       "      <th>2020-01-07</th>\n",
       "      <td>117.605484</td>\n",
       "      <td>1906.859985</td>\n",
       "      <td>330.750000</td>\n",
       "    </tr>\n",
       "    <tr>\n",
       "      <th>2020-01-08</th>\n",
       "      <td>118.587074</td>\n",
       "      <td>1891.969971</td>\n",
       "      <td>339.260010</td>\n",
       "    </tr>\n",
       "  </tbody>\n",
       "</table>\n",
       "</div>"
      ],
      "text/plain": [
       "                   IBM         AMZN        NFLX\n",
       "Date                                           \n",
       "2020-01-02  118.683472  1898.010010  329.809998\n",
       "2020-01-03  117.736961  1874.969971  325.899994\n",
       "2020-01-06  117.526627  1902.880005  335.829987\n",
       "2020-01-07  117.605484  1906.859985  330.750000\n",
       "2020-01-08  118.587074  1891.969971  339.260010"
      ]
     },
     "execution_count": 104,
     "metadata": {},
     "output_type": "execute_result"
    }
   ],
   "source": [
    "df1.head()"
   ]
  },
  {
   "cell_type": "code",
   "execution_count": null,
   "id": "af009f5a",
   "metadata": {},
   "outputs": [],
   "source": []
  },
  {
   "cell_type": "code",
   "execution_count": null,
   "id": "980e4d5b",
   "metadata": {},
   "outputs": [],
   "source": []
  }
 ],
 "metadata": {
  "kernelspec": {
   "display_name": "Python 3",
   "language": "python",
   "name": "python3"
  },
  "language_info": {
   "codemirror_mode": {
    "name": "ipython",
    "version": 3
   },
   "file_extension": ".py",
   "mimetype": "text/x-python",
   "name": "python",
   "nbconvert_exporter": "python",
   "pygments_lexer": "ipython3",
   "version": "3.8.8"
  }
 },
 "nbformat": 4,
 "nbformat_minor": 5
}
