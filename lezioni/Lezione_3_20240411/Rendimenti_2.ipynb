{
 "cells": [
  {
   "cell_type": "markdown",
   "id": "7e0e0f1a",
   "metadata": {},
   "source": [
    "### Proprietà dei rendimenti finanziari giornalieri\n",
    "- I rendimenti giornalieri presentano autocorrelazione bassa o nulla\n",
    "- La distribuzione non condizionata dei rendimenti giornalieri ha valori estremi alti o bassi più frequenti di quanto non sarebbe previsto da una distribuzione normale (kurtosi maggiore di 3)\n",
    "- si verifica che valori estremi negativi hanno maggiore frequenza di valori estremi positivi, perciò la distribuzione è asimmetrica (indice di asimmetria o \"skew\" minore di 0)\n",
    "- la dimensione della volatilità dei rendimenti, misurata dalla deviazione standard, domina quella dei rendimenti\n",
    "- la varianza, misurata dal quadrato dei rendimenti, presenta autocorrelazione con i valori passati\n",
    "- nel mercato azionario si riscontra una relazione negativa fra rendimenti e varianza, momenti di elevata volatilità sono associati a rendimenti negativi\n",
    "- allungando l'orizzonte temporale la distribuzione dei rendimenti diventa più vicina a quella normale\n",
    "\n",
    "Fonte: Christoffersen P. (2003) Elements of Financial Risk Management, Academic Preess\n"
   ]
  },
  {
   "cell_type": "code",
   "id": "ae7ec423",
   "metadata": {},
   "source": [
    "import pandas as pd\n",
    "import numpy as np\n",
    "import datetime\n",
    "import matplotlib.pyplot as plt\n",
    "import yfinance as yf\n",
    "%matplotlib inline"
   ],
   "outputs": [],
   "execution_count": null
  },
  {
   "cell_type": "code",
   "id": "9d767628",
   "metadata": {},
   "source": [
    "start = datetime.datetime(1982,12, 31)\n",
    "end = datetime.datetime(2023, 12, 31)"
   ],
   "outputs": [],
   "execution_count": null
  },
  {
   "cell_type": "code",
   "id": "97f48205",
   "metadata": {},
   "source": [
    "SP500 = pd.read_csv('SP500.csv', index_col = 0, parse_dates = True)"
   ],
   "outputs": [],
   "execution_count": null
  },
  {
   "cell_type": "code",
   "id": "aea159d8",
   "metadata": {},
   "source": [
    "SP500.head()"
   ],
   "outputs": [],
   "execution_count": null
  },
  {
   "cell_type": "code",
   "id": "655e74e6",
   "metadata": {},
   "source": [
    "#SP500 = yf.download('^GSPC', start, end)"
   ],
   "outputs": [],
   "execution_count": null
  },
  {
   "cell_type": "code",
   "id": "9b01bc0c",
   "metadata": {},
   "source": [
    "SP500['RS_Netto'] = SP500['Adj Close'].pct_change(1)"
   ],
   "outputs": [],
   "execution_count": null
  },
  {
   "cell_type": "markdown",
   "id": "7c270813",
   "metadata": {},
   "source": [
    "#### I rendimenti giornalieri presentano autocorrelazione bassa o nulla"
   ]
  },
  {
   "cell_type": "code",
   "id": "acc28a10",
   "metadata": {},
   "source": [
    "Autocorr = []\n",
    "for i in range(1,100):\n",
    "    x = SP500['RS_Netto'].autocorr(lag=i)\n",
    "    Autocorr.append(x)"
   ],
   "outputs": [],
   "execution_count": null
  },
  {
   "cell_type": "code",
   "id": "e48a1cd0-8930-4713-bfa7-3bde74ca2b91",
   "metadata": {},
   "source": [
    "plt.plot(Autocorr)\n",
    "plt.grid()"
   ],
   "outputs": [],
   "execution_count": null
  },
  {
   "cell_type": "code",
   "id": "d4395a96",
   "metadata": {},
   "source": [
    "np.mean(Autocorr)"
   ],
   "outputs": [],
   "execution_count": null
  },
  {
   "cell_type": "markdown",
   "id": "132b5923",
   "metadata": {},
   "source": [
    "#### La distribuzione non condizionata dei rendimenti giornalieri ha valori estremi alti o bassi più frequenti di quanto non sarebbe previsto da una distribuzione normale (kurtosi maggiore di 3)"
   ]
  },
  {
   "cell_type": "code",
   "id": "7b97562f",
   "metadata": {},
   "source": [
    "plt.hist(SP500['RS_Netto'], bins = 90)\n",
    "plt.grid()\n",
    "plt.show()"
   ],
   "outputs": [],
   "execution_count": null
  },
  {
   "cell_type": "code",
   "id": "47536f4d",
   "metadata": {},
   "source": [
    "plt.hist(SP500['RS_Netto'], bins = 90)\n",
    "plt.ylim(0,10)\n",
    "plt.grid()\n",
    "plt.show()"
   ],
   "outputs": [],
   "execution_count": null
  },
  {
   "cell_type": "code",
   "id": "fc8abf77",
   "metadata": {},
   "source": [
    "SP500['RS_Netto'].kurtosis(skipna = True)"
   ],
   "outputs": [],
   "execution_count": null
  },
  {
   "cell_type": "code",
   "id": "74a1a256",
   "metadata": {},
   "source": [
    "from scipy.stats import norm"
   ],
   "outputs": [],
   "execution_count": null
  },
  {
   "cell_type": "code",
   "id": "ac70895e",
   "metadata": {},
   "source": [
    "plt.hist(SP500['RS_Netto'], bins=90, density=True, alpha=0.7, color ='blue', label = 'Istogramma')\n",
    "mu, std = np.mean(SP500['RS_Netto']), np.std(SP500['RS_Netto'])\n",
    "xmin, xmax = plt.xlim()\n",
    "#x = np.linspace(min(SP500['RS_Netto']),max(SP500['RS_Netto']), 100)\n",
    "x = np.linspace(xmin,xmax, 100)\n",
    "p = norm.pdf(x,mu,std)\n",
    "\n",
    "plt.plot(x,p,'r',linewidth=2, label = 'Distribuzione normale')\n",
    "plt.xlabel = 'Valore'\n",
    "plt.ylabel = 'Frequenza'\n",
    "plt.title('Istogramma dei rendimenti e distribuzione normale ')\n",
    "plt.legend()\n",
    "plt.grid()\n",
    "plt.ylim(0,0.1)\n",
    "plt.show()"
   ],
   "outputs": [],
   "execution_count": null
  },
  {
   "cell_type": "markdown",
   "id": "816d2c10",
   "metadata": {},
   "source": [
    "#### Si verificano valori estremi negativi con maggiore frequenza di valori estremi positivi, perciò la distribuzione è asimmetrica (indice di asimmetria o \"skew\" minore di 0)"
   ]
  },
  {
   "cell_type": "code",
   "id": "7bd2fa98",
   "metadata": {},
   "source": [
    "len(SP500['RS_Netto'])"
   ],
   "outputs": [],
   "execution_count": null
  },
  {
   "cell_type": "markdown",
   "id": "9605bf35",
   "metadata": {},
   "source": [
    "Numero di giorni lavorativi considerati normali in un anno"
   ]
  },
  {
   "cell_type": "code",
   "id": "e81f30ac",
   "metadata": {},
   "source": [
    "+len(SP500['RS_Netto'])/41\n"
   ],
   "outputs": [],
   "execution_count": null
  },
  {
   "cell_type": "code",
   "id": "b516cd45",
   "metadata": {},
   "source": [
    "mu"
   ],
   "outputs": [],
   "execution_count": null
  },
  {
   "cell_type": "code",
   "id": "8022a146",
   "metadata": {},
   "source": [
    "std"
   ],
   "outputs": [],
   "execution_count": null
  },
  {
   "cell_type": "code",
   "id": "0f0324ee",
   "metadata": {},
   "source": [
    "val_neg_estr = SP500['RS_Netto'][SP500['RS_Netto']<(mu-2.33*std)]"
   ],
   "outputs": [],
   "execution_count": null
  },
  {
   "cell_type": "code",
   "id": "5c9dd027",
   "metadata": {},
   "source": [
    "len(val_neg_estr)"
   ],
   "outputs": [],
   "execution_count": null
  },
  {
   "cell_type": "code",
   "id": "ec9b7cae",
   "metadata": {},
   "source": [
    "len(val_neg_estr)/len(SP500['RS_Netto'])"
   ],
   "outputs": [],
   "execution_count": null
  },
  {
   "cell_type": "code",
   "id": "462bdfc9",
   "metadata": {},
   "source": [
    "np.sum(val_neg_estr)"
   ],
   "outputs": [],
   "execution_count": null
  },
  {
   "cell_type": "code",
   "id": "7d4c3ea3",
   "metadata": {},
   "source": [
    "val_pos_estr = SP500['RS_Netto'][SP500['RS_Netto']>(mu+2.33*std)]"
   ],
   "outputs": [],
   "execution_count": null
  },
  {
   "cell_type": "code",
   "id": "95ca8b33",
   "metadata": {},
   "source": [
    "len(val_pos_estr)"
   ],
   "outputs": [],
   "execution_count": null
  },
  {
   "cell_type": "code",
   "id": "6496e2b1",
   "metadata": {},
   "source": [
    "len(val_pos_estr)/len(SP500['RS_Netto'])"
   ],
   "outputs": [],
   "execution_count": null
  },
  {
   "cell_type": "code",
   "id": "f487be90",
   "metadata": {},
   "source": [
    "np.sum(val_pos_estr)"
   ],
   "outputs": [],
   "execution_count": null
  },
  {
   "cell_type": "code",
   "id": "744ffa94",
   "metadata": {},
   "source": [
    "SP500['RS_Netto'].skew(skipna = True)"
   ],
   "outputs": [],
   "execution_count": null
  },
  {
   "cell_type": "markdown",
   "id": "d9484ccb",
   "metadata": {},
   "source": [
    "#### La dimensione della volatilità dei rendimenti, misurata dalla deviazione standard, domina quella dei rendimenti"
   ]
  },
  {
   "cell_type": "code",
   "id": "90cf4139",
   "metadata": {},
   "source": [
    "std/mu"
   ],
   "outputs": [],
   "execution_count": null
  },
  {
   "cell_type": "markdown",
   "id": "80e36a95",
   "metadata": {},
   "source": [
    "Per questo motivo nei modelli di rischio a breve termine non si tiene conto del rendimento"
   ]
  },
  {
   "cell_type": "markdown",
   "id": "f86f33a2",
   "metadata": {},
   "source": [
    "Ma questo cambia man mano che allunghiamo l'orizzonte temporale, perché il rendimento aumenta linearmente ma la volatilità cresce con la radice quadrata del tempo"
   ]
  },
  {
   "cell_type": "code",
   "id": "de2fcf61",
   "metadata": {},
   "source": [
    "SP500_w = SP500.groupby(pd.Grouper(freq='W')).last() #aggregazione settimanale\n",
    "SP500_w.head()"
   ],
   "outputs": [],
   "execution_count": null
  },
  {
   "cell_type": "code",
   "id": "e529623f",
   "metadata": {},
   "source": [
    "SP500_w['RS_Netto'] = SP500_w['Adj Close'].pct_change(1)"
   ],
   "outputs": [],
   "execution_count": null
  },
  {
   "cell_type": "code",
   "id": "17be8db1",
   "metadata": {},
   "source": [
    "mu_w = np.mean(SP500_w['RS_Netto'])\n",
    "mu_w"
   ],
   "outputs": [],
   "execution_count": null
  },
  {
   "cell_type": "code",
   "id": "707a553e",
   "metadata": {},
   "source": [
    "std_w = np.std(SP500_w['RS_Netto'])\n",
    "std_w"
   ],
   "outputs": [],
   "execution_count": null
  },
  {
   "cell_type": "code",
   "id": "9b4ce17d",
   "metadata": {},
   "source": [
    "std_w/mu_w"
   ],
   "outputs": [],
   "execution_count": null
  },
  {
   "cell_type": "code",
   "id": "73e5c8b4",
   "metadata": {},
   "source": [
    "SP500_m = SP500.groupby(pd.Grouper(freq='M')).last() #aggregazione mensile\n",
    "SP500_m.head()"
   ],
   "outputs": [],
   "execution_count": null
  },
  {
   "cell_type": "code",
   "id": "0b65a928",
   "metadata": {},
   "source": [
    "SP500_m['RS_Netto'] = SP500_m['Adj Close'].pct_change(1)"
   ],
   "outputs": [],
   "execution_count": null
  },
  {
   "cell_type": "code",
   "id": "18ba5fad",
   "metadata": {},
   "source": [
    "mu_m = np.mean(SP500_m['RS_Netto'])\n",
    "mu_m"
   ],
   "outputs": [],
   "execution_count": null
  },
  {
   "cell_type": "code",
   "id": "1dc09213",
   "metadata": {},
   "source": [
    "std_m = np.std(SP500_m['RS_Netto'])\n",
    "std_m"
   ],
   "outputs": [],
   "execution_count": null
  },
  {
   "cell_type": "code",
   "id": "a76e3153",
   "metadata": {},
   "source": [
    "std_m/mu_m"
   ],
   "outputs": [],
   "execution_count": null
  },
  {
   "cell_type": "code",
   "id": "c6ba8443",
   "metadata": {},
   "source": [
    "SP500_q = SP500.groupby(pd.Grouper(freq='Q')).last() #aggregazione quadrimestrale\n",
    "SP500_q.head()"
   ],
   "outputs": [],
   "execution_count": null
  },
  {
   "cell_type": "code",
   "id": "ece44c35",
   "metadata": {},
   "source": [
    "SP500_q['RS_Netto'] = SP500_q['Adj Close'].pct_change(1)"
   ],
   "outputs": [],
   "execution_count": null
  },
  {
   "cell_type": "code",
   "id": "2580d70c",
   "metadata": {},
   "source": [
    "mu_q = np.mean(SP500_q['RS_Netto'])\n",
    "mu_q"
   ],
   "outputs": [],
   "execution_count": null
  },
  {
   "cell_type": "code",
   "id": "02a536e2",
   "metadata": {},
   "source": [
    "std_q = np.std(SP500_q['RS_Netto'])\n",
    "std_q"
   ],
   "outputs": [],
   "execution_count": null
  },
  {
   "cell_type": "code",
   "id": "748417cb",
   "metadata": {},
   "source": [
    "std_q/mu_q"
   ],
   "outputs": [],
   "execution_count": null
  },
  {
   "cell_type": "code",
   "id": "9bf7aaf1",
   "metadata": {},
   "source": [
    "mu_y = mu*252\n",
    "mu_y"
   ],
   "outputs": [],
   "execution_count": null
  },
  {
   "cell_type": "code",
   "id": "0fdb3463",
   "metadata": {},
   "source": [
    "std_y = std*np.sqrt(252)\n",
    "std_y"
   ],
   "outputs": [],
   "execution_count": null
  },
  {
   "cell_type": "code",
   "id": "94f4614a-ac31-4d72-806c-e49ac6b0e203",
   "metadata": {},
   "source": [
    "std_y/mu_y"
   ],
   "outputs": [],
   "execution_count": null
  },
  {
   "attachments": {},
   "cell_type": "markdown",
   "id": "9ebc2603-923b-47b9-97b4-3a94242fddcc",
   "metadata": {},
   "source": [
    "#### La varianza, misurata dal quadrato dei rendimenti, presenta autocorrelazione positiva con i valori passati"
   ]
  },
  {
   "cell_type": "code",
   "id": "c7fe17c4-3c08-4b13-80d3-66eaddeb72fd",
   "metadata": {},
   "source": [
    "SP500['RS_Netto'].rolling(window=5).var().plot()\n",
    "plt.grid()"
   ],
   "outputs": [],
   "execution_count": null
  },
  {
   "cell_type": "code",
   "id": "353513d6-1e06-489f-95d2-12be37cea706",
   "metadata": {},
   "source": [
    "SP500['RS_2']=SP500['RS_Netto']**2"
   ],
   "outputs": [],
   "execution_count": null
  },
  {
   "cell_type": "code",
   "id": "8c0e6b93-f626-4a2b-af1c-a69daaa7c35d",
   "metadata": {
    "scrolled": true
   },
   "source": [
    "SP500['RS_2'].plot()\n",
    "plt.ylim=(0,0.01)\n",
    "plt.grid()"
   ],
   "outputs": [],
   "execution_count": null
  },
  {
   "cell_type": "code",
   "id": "4c9b5268-a710-41a1-9d86-22b60b9d6a49",
   "metadata": {},
   "source": [
    "Autocorr_2 = []\n",
    "for i in range(1,100):\n",
    "    x = SP500['RS_2'].autocorr(lag=i)\n",
    "    Autocorr_2.append(x)"
   ],
   "outputs": [],
   "execution_count": null
  },
  {
   "cell_type": "code",
   "id": "184df57a-e6dd-4385-b039-06111470ec99",
   "metadata": {},
   "source": [
    "plt.plot(Autocorr_2)\n",
    "plt.grid()"
   ],
   "outputs": [],
   "execution_count": null
  },
  {
   "cell_type": "markdown",
   "id": "727edf02-c4d6-4ff1-a56f-6cc0feaf7d02",
   "metadata": {},
   "source": [
    "### Nel mercato azionario si riscontra una relazione negativa fra rendimenti e varianza, momenti di elevata volatilità sono associati a rendimenti negativi"
   ]
  },
  {
   "cell_type": "code",
   "id": "d9bde49b-1149-4b09-b1bb-f7690c88b608",
   "metadata": {},
   "source": [
    "start = datetime.date(2004,5,31)\n",
    "end = datetime.date(2024,3,31)\n",
    "sp500 = yf.download(['^GSPC'], start, end)"
   ],
   "outputs": [],
   "execution_count": null
  },
  {
   "cell_type": "code",
   "id": "c7164523-5657-421a-bea1-0e23789b7f61",
   "metadata": {},
   "source": [
    "sp500.head()"
   ],
   "outputs": [],
   "execution_count": null
  },
  {
   "cell_type": "code",
   "id": "6937f98e-7357-40fc-80a2-0c2ea8ed416a",
   "metadata": {},
   "source": [
    "sp500 = sp500['Adj Close']\n",
    "sp500.head()"
   ],
   "outputs": [],
   "execution_count": null
  },
  {
   "cell_type": "code",
   "id": "dd651c12-4520-49d4-ae3e-21d5456d9da7",
   "metadata": {},
   "source": [
    "sp500.name = 'SP500'\n",
    "sp500"
   ],
   "outputs": [],
   "execution_count": null
  },
  {
   "cell_type": "code",
   "id": "0f8a117d-7158-45b8-acb2-a357c84780ff",
   "metadata": {},
   "source": [
    "vix = yf.download(['^VIX'], start, end)"
   ],
   "outputs": [],
   "execution_count": null
  },
  {
   "cell_type": "code",
   "id": "2a9d5298-2bb5-4fbe-b103-fc9b454ff04e",
   "metadata": {},
   "source": [
    "vix = vix['Adj Close']\n",
    "vix.head()"
   ],
   "outputs": [],
   "execution_count": null
  },
  {
   "cell_type": "code",
   "id": "a11388e1-503d-4876-8f75-e03cdd659aec",
   "metadata": {},
   "source": [
    "vix.name = 'VIX'"
   ],
   "outputs": [],
   "execution_count": null
  },
  {
   "cell_type": "code",
   "id": "391d2c83-82c2-4fcc-9469-ea99381860fc",
   "metadata": {},
   "source": [
    "sp500_vix = pd.concat([sp500, vix], axis = 1) \n",
    "sp500_vix.head()"
   ],
   "outputs": [],
   "execution_count": null
  },
  {
   "cell_type": "code",
   "id": "a9446e75-717b-4096-aead-0f7228b1f8f3",
   "metadata": {},
   "source": [
    "sp500_vix.rename(columns={'Adj Close' : 'SP500','Adj Close' : 'VIX'}, inplace = True) \n",
    "sp500_vix.head()"
   ],
   "outputs": [],
   "execution_count": null
  },
  {
   "cell_type": "code",
   "id": "17d834ac-64d1-48d4-920a-5d113a57c624",
   "metadata": {},
   "source": [
    "sp500_vix.plot(subplots=True, figsize=(10,6), grid = True)\n"
   ],
   "outputs": [],
   "execution_count": null
  },
  {
   "cell_type": "code",
   "id": "62c173aa-586c-4f30-81b4-bef7d259e1f5",
   "metadata": {},
   "source": [
    "sp500_vix.plot(secondary_y = 'VIX', figsize=(19,6), grid = True)"
   ],
   "outputs": [],
   "execution_count": null
  },
  {
   "cell_type": "code",
   "id": "980ad279-a101-489c-ab76-b80910923d9d",
   "metadata": {},
   "source": [
    "rets = np.log(sp500_vix/sp500_vix.shift(1))\n",
    "rets.head()"
   ],
   "outputs": [],
   "execution_count": null
  },
  {
   "cell_type": "code",
   "id": "3bebc571-710d-426d-8d9c-de1ef7ce76de",
   "metadata": {},
   "source": [
    "rets.dropna(inplace = True)\n",
    "rets"
   ],
   "outputs": [],
   "execution_count": null
  },
  {
   "cell_type": "code",
   "id": "30b348a4-866f-4683-9036-34a9210c3420",
   "metadata": {},
   "source": [
    "rets.plot(subplots=True, grid=True, figsize=(19,9));"
   ],
   "outputs": [],
   "execution_count": null
  },
  {
   "cell_type": "markdown",
   "id": "5eae61fe-ab08-4cf1-a76a-2e76e9ddbf08",
   "metadata": {},
   "source": [
    "Correlazione fra SP500 e VIX"
   ]
  },
  {
   "cell_type": "code",
   "id": "b8139036-3206-4b40-96ed-2c23b8513ea0",
   "metadata": {},
   "source": [
    "rets.corr()"
   ],
   "outputs": [],
   "execution_count": null
  },
  {
   "cell_type": "markdown",
   "id": "2d6f5549-b94c-4ea9-8063-1b6d3ec7e67b",
   "metadata": {},
   "source": [
    "Evidenziamo la correlazione negativa fra rendimenti del S&P500 e variazioni del VIX"
   ]
  },
  {
   "cell_type": "code",
   "id": "99de1336-85db-4698-9ac9-f59f4045cbc7",
   "metadata": {},
   "source": [
    "pd.plotting.scatter_matrix(rets, alpha = 0.5,\n",
    "                           diagonal = 'hist',\n",
    "                           hist_kwds = {'bins': 50},\n",
    "                           figsize = (19,9), grid = True);"
   ],
   "outputs": [],
   "execution_count": null
  },
  {
   "cell_type": "markdown",
   "id": "12055a19-dbee-48a2-978d-75f8f3d41549",
   "metadata": {},
   "source": [
    "Stimiamo la relazione lineare fra i due"
   ]
  },
  {
   "cell_type": "code",
   "id": "92d6637f-726a-40cc-b06e-021e811d06da",
   "metadata": {},
   "source": [
    "reg = np.polyfit(rets['SP500'],rets['VIX'], deg = 1)"
   ],
   "outputs": [],
   "execution_count": null
  },
  {
   "cell_type": "code",
   "id": "78e96e8b-fa9d-44a8-8501-8781401b1482",
   "metadata": {},
   "source": [
    "ax = rets.plot(kind = 'scatter', x = 'SP500', y= 'VIX', figsize=(19,8))\n",
    "ax.plot(rets['SP500'], np.polyval(reg, rets['SP500']), 'r', lw=2)\n",
    "plt.grid();"
   ],
   "outputs": [],
   "execution_count": null
  },
  {
   "cell_type": "markdown",
   "id": "ced296bf-a288-4fb7-8b11-014f3e87f8ee",
   "metadata": {},
   "source": [
    "Evoluzione nel tempo della correlazione"
   ]
  },
  {
   "cell_type": "code",
   "id": "c05a3f99-7599-479d-96e4-cb343dd76cfb",
   "metadata": {},
   "source": [
    "ax = rets['SP500'].rolling(window=252).corr(rets['VIX']).plot(figsize=(19,9))\n",
    "ax.axhline(rets.corr().iloc[0,1], c='r')\n",
    "plt.grid()"
   ],
   "outputs": [],
   "execution_count": null
  },
  {
   "cell_type": "markdown",
   "id": "3fc589ae-452d-4132-85cf-7b5b58ddc790",
   "metadata": {},
   "source": [
    "VIX e volatilità"
   ]
  },
  {
   "cell_type": "code",
   "id": "da9c0956-12e5-4a03-8279-11e700639282",
   "metadata": {},
   "source": [
    "sp500_vix.head(22)"
   ],
   "outputs": [],
   "execution_count": null
  },
  {
   "cell_type": "code",
   "id": "707ed849-a061-44f7-869a-abf8290ae670",
   "metadata": {},
   "source": [
    "sp500_vix.head()"
   ],
   "outputs": [],
   "execution_count": null
  },
  {
   "cell_type": "code",
   "id": "a29afa85-62e4-42f9-b5c2-f1f4927de982",
   "metadata": {},
   "source": [
    "sp500_vix['SP500_ret']=sp500_vix['SP500']/sp500_vix['SP500'].shift(1)"
   ],
   "outputs": [],
   "execution_count": null
  },
  {
   "cell_type": "code",
   "id": "f1d1f7b3-207c-4db2-b8a5-2417d4c563a6",
   "metadata": {},
   "source": [
    "sp500_vix.head()"
   ],
   "outputs": [],
   "execution_count": null
  },
  {
   "cell_type": "code",
   "id": "775e302d-52b4-4771-b03f-e639be3507aa",
   "metadata": {},
   "source": [
    "sp500_vix['Vola'] = sp500_vix['SP500_ret'].rolling(window = 22).std()*np.sqrt(252)*100"
   ],
   "outputs": [],
   "execution_count": null
  },
  {
   "cell_type": "code",
   "id": "0ff383fc-c789-4ecd-b255-60658abb1a9c",
   "metadata": {},
   "source": [
    "sp500_vix.head(25)"
   ],
   "outputs": [],
   "execution_count": null
  },
  {
   "cell_type": "code",
   "id": "2288b3d1-3948-44d1-bfce-23dd9c213215",
   "metadata": {},
   "source": [
    "plt.figure(figsize = (19,8))\n",
    "plt.plot(sp500_vix['Vola'])\n",
    "plt.plot(sp500_vix['VIX'])\n",
    "plt.grid();"
   ],
   "outputs": [],
   "execution_count": null
  },
  {
   "cell_type": "code",
   "id": "c306b55e-4002-4ba0-876c-803f1fd4734b",
   "metadata": {},
   "source": [
    "np.mean(sp500_vix['Vola'])"
   ],
   "outputs": [],
   "execution_count": null
  },
  {
   "cell_type": "code",
   "id": "a33cf3dd-ea6e-4ce3-8677-ac1a0c57579b",
   "metadata": {},
   "source": [
    "np.mean(sp500_vix['VIX'])"
   ],
   "outputs": [],
   "execution_count": null
  },
  {
   "cell_type": "code",
   "id": "946f63cf-f883-4202-a836-fe5a5c2c489d",
   "metadata": {},
   "source": [],
   "outputs": [],
   "execution_count": null
  }
 ],
 "metadata": {
  "kernelspec": {
   "display_name": "Python 3 (ipykernel)",
   "language": "python",
   "name": "python3"
  },
  "language_info": {
   "codemirror_mode": {
    "name": "ipython",
    "version": 3
   },
   "file_extension": ".py",
   "mimetype": "text/x-python",
   "name": "python",
   "nbconvert_exporter": "python",
   "pygments_lexer": "ipython3",
   "version": "3.11.7"
  }
 },
 "nbformat": 4,
 "nbformat_minor": 5
}
