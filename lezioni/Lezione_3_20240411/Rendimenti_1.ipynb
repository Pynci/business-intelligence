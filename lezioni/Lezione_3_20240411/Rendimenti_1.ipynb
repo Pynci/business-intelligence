{
 "cells": [
  {
   "cell_type": "code",
   "id": "86e33655",
   "metadata": {},
   "source": [
    "import pandas as pd\n",
    "import numpy as np\n",
    "import datetime\n",
    "import matplotlib.pyplot as plt\n",
    "import yfinance as yf\n",
    "%matplotlib inline"
   ],
   "outputs": [],
   "execution_count": null
  },
  {
   "cell_type": "code",
   "id": "865cdc18",
   "metadata": {},
   "source": [
    "start = datetime.datetime(1982,12, 31)\n",
    "end = datetime.datetime(2023, 12, 31)"
   ],
   "outputs": [],
   "execution_count": null
  },
  {
   "cell_type": "code",
   "id": "54152ba6",
   "metadata": {},
   "source": [
    "SP500 = yf.download('^GSPC', start, end)"
   ],
   "outputs": [],
   "execution_count": null
  },
  {
   "cell_type": "code",
   "id": "f9135cfb",
   "metadata": {},
   "source": [
    "SP500.to_csv('SP500.csv')"
   ],
   "outputs": [],
   "execution_count": null
  },
  {
   "cell_type": "code",
   "id": "57caf940",
   "metadata": {},
   "source": [
    "#SP500 = pd.read_csv('SP500.csv')"
   ],
   "outputs": [],
   "execution_count": null
  },
  {
   "cell_type": "code",
   "id": "604f022f",
   "metadata": {},
   "source": [
    "SP500.head()"
   ],
   "outputs": [],
   "execution_count": null
  },
  {
   "cell_type": "code",
   "id": "fd3af42d",
   "metadata": {},
   "source": [
    "SP500['Adj Close'].head()"
   ],
   "outputs": [],
   "execution_count": null
  },
  {
   "cell_type": "code",
   "id": "790a77b1",
   "metadata": {},
   "source": [
    "SP500['Adj Close'].tail()"
   ],
   "outputs": [],
   "execution_count": null
  },
  {
   "cell_type": "markdown",
   "id": "2c6acdd6",
   "metadata": {},
   "source": [
    "Calcoliamo i rendimenti semplici lordi e netti e logaritmici"
   ]
  },
  {
   "cell_type": "code",
   "id": "525d0d23",
   "metadata": {},
   "source": [
    "SP500['RS_Lordo'] = SP500['Adj Close']/SP500['Adj Close'].shift(1)"
   ],
   "outputs": [],
   "execution_count": null
  },
  {
   "cell_type": "code",
   "id": "5dcf72ed",
   "metadata": {},
   "source": [
    "SP500.head()"
   ],
   "outputs": [],
   "execution_count": null
  },
  {
   "cell_type": "code",
   "id": "12565304",
   "metadata": {},
   "source": [
    "SP500['RS_Netto'] = SP500['Adj Close'].pct_change(1)"
   ],
   "outputs": [],
   "execution_count": null
  },
  {
   "cell_type": "code",
   "id": "1e66c0ae",
   "metadata": {},
   "source": [
    "SP500.head()"
   ],
   "outputs": [],
   "execution_count": null
  },
  {
   "cell_type": "code",
   "id": "cd411b98",
   "metadata": {},
   "source": [
    "SP500['RL'] = np.log(SP500['Adj Close']/SP500['Adj Close'].shift(1))"
   ],
   "outputs": [],
   "execution_count": null
  },
  {
   "cell_type": "code",
   "id": "cad9321a",
   "metadata": {},
   "source": [
    "SP500.head()"
   ],
   "outputs": [],
   "execution_count": null
  },
  {
   "cell_type": "markdown",
   "id": "be388459",
   "metadata": {},
   "source": [
    "Qual é il collegamento fra rendimenti semplici e logaritmici.\n",
    "Aumentando la frequenza di capitalizzazione il rendimento composto semplice si avvicina a quello logaritmico.\n"
   ]
  },
  {
   "cell_type": "code",
   "id": "041d1715",
   "metadata": {},
   "source": [
    "f = [1, 2, 4, 12, 52, 365, 730, 1460]\n",
    "r = 0.10\n",
    "tassi = []\n",
    "\n",
    "for i in f:\n",
    "    tasso = (1+r/i)**i - 1\n",
    "    tassi.append(tasso)\n",
    "\n",
    "for i in tassi:\n",
    "    print(round(i, 7))\n",
    "\n",
    "print(round(np.exp(r)-1, 7))"
   ],
   "outputs": [],
   "execution_count": null
  },
  {
   "cell_type": "markdown",
   "id": "59a9d563",
   "metadata": {},
   "source": [
    "Differenze fra rendimenti semplici e logaritmici\n",
    "\n",
    "o\tRendimenti semplici non si sommano nel tempo, logaritmici sì\n",
    "\n",
    "o\tRendimenti semplici si sommano nel portafoglio, logaritmici no\n",
    "\n",
    "o\tRendimenti semplici sono sensibili alla frequenza di calcolo, logaritmici no\n"
   ]
  },
  {
   "cell_type": "markdown",
   "id": "3164cae6",
   "metadata": {},
   "source": [
    "Il prodotto dei rendimenti lordi è il valore capitalizzato dell'investimento di una unità al rendimento della serie"
   ]
  },
  {
   "cell_type": "code",
   "id": "4f5c273b",
   "metadata": {},
   "source": [
    "SP500['Cum'] = np.cumprod(SP500['RS_Lordo'])"
   ],
   "outputs": [],
   "execution_count": null
  },
  {
   "cell_type": "code",
   "id": "ac76f9f0",
   "metadata": {},
   "source": [
    "SP500.head()"
   ],
   "outputs": [],
   "execution_count": null
  },
  {
   "cell_type": "code",
   "id": "b6bdb9cf",
   "metadata": {},
   "source": [
    "SP500.tail()"
   ],
   "outputs": [],
   "execution_count": null
  },
  {
   "cell_type": "code",
   "id": "adcc7e15",
   "metadata": {},
   "source": [
    "plt.plot(SP500['Cum'])\n",
    "plt.grid()"
   ],
   "outputs": [],
   "execution_count": null
  },
  {
   "cell_type": "code",
   "id": "8aed8070",
   "metadata": {},
   "source": [
    "SP500['Adj Close'][-1]"
   ],
   "outputs": [],
   "execution_count": null
  },
  {
   "cell_type": "code",
   "id": "3cd3d7d7",
   "metadata": {},
   "source": [
    "SP500['Adj Close'][0]"
   ],
   "outputs": [],
   "execution_count": null
  },
  {
   "cell_type": "code",
   "id": "3049fbf3",
   "metadata": {},
   "source": [
    "SP500['Adj Close'][0]*SP500['Cum'][-1]"
   ],
   "outputs": [],
   "execution_count": null
  },
  {
   "cell_type": "code",
   "id": "fd731142",
   "metadata": {},
   "source": [
    "SP500['Adj Close'][-1]/SP500['Adj Close'][0]"
   ],
   "outputs": [],
   "execution_count": null
  },
  {
   "cell_type": "code",
   "id": "e014e2b8",
   "metadata": {},
   "source": [
    "SP500['Cum'][-1]"
   ],
   "outputs": [],
   "execution_count": null
  },
  {
   "cell_type": "markdown",
   "id": "5056ab8b",
   "metadata": {},
   "source": [
    "Calcoliamo il rendimento composto annuo dell'investimento sul periodo considerato"
   ]
  },
  {
   "cell_type": "code",
   "id": "f8e3cc57",
   "metadata": {},
   "source": [
    "from datetime import timedelta"
   ],
   "outputs": [],
   "execution_count": null
  },
  {
   "cell_type": "code",
   "id": "f9274d0e",
   "metadata": {},
   "source": [
    "delta = end - start\n",
    "delta.days"
   ],
   "outputs": [],
   "execution_count": null
  },
  {
   "cell_type": "code",
   "id": "51a25870",
   "metadata": {},
   "source": [
    "t = delta/datetime.timedelta(days=1)"
   ],
   "outputs": [],
   "execution_count": null
  },
  {
   "cell_type": "code",
   "id": "e1f5f0ce",
   "metadata": {},
   "source": [
    "t"
   ],
   "outputs": [],
   "execution_count": null
  },
  {
   "cell_type": "code",
   "id": "299b6f42",
   "metadata": {},
   "source": [
    "type(t)"
   ],
   "outputs": [],
   "execution_count": null
  },
  {
   "cell_type": "markdown",
   "id": "7daf017e",
   "metadata": {},
   "source": [
    "Giorni esatti"
   ]
  },
  {
   "cell_type": "code",
   "id": "972d04f8",
   "metadata": {},
   "source": [
    "t/365"
   ],
   "outputs": [],
   "execution_count": null
  },
  {
   "cell_type": "code",
   "id": "dc2552fb",
   "metadata": {},
   "source": [
    "SP500_cagr = (SP500['Adj Close'][-1]/SP500['Adj Close'][0])**(365/t) -1\n",
    "SP500_cagr"
   ],
   "outputs": [],
   "execution_count": null
  },
  {
   "cell_type": "markdown",
   "id": "3d036fc5",
   "metadata": {},
   "source": [
    "Approssimazione 41 anni"
   ]
  },
  {
   "cell_type": "code",
   "id": "d447f9cd",
   "metadata": {},
   "source": [
    "SP500['Cum'][-1]**(1/41) - 1"
   ],
   "outputs": [],
   "execution_count": null
  },
  {
   "cell_type": "markdown",
   "id": "9c429359",
   "metadata": {},
   "source": [
    "Per avere una serie più maneggevole passiamo da una frequenza giornaliera a una frequenza mensile.\n",
    "Utilizzamo il metodo \"groupby\" e la frequenza mensile ('M'). Poichè vogliamo il valore di fine mese specifichiamo \".last()\".\n",
    "Attenzione: nelle analisi di serie storiche utilizzare sempre valori osservati (giorni, fine settimana, fine mese eccetera) mai medie (\".mean()\") perché creiamo valori che non corrispondono a veri investimenti e riduciamo artificiosamente la volatilità"
   ]
  },
  {
   "cell_type": "code",
   "id": "dea8002a",
   "metadata": {},
   "source": [
    "SP500_m = SP500.groupby(pd.Grouper(freq='M')).last() #aggregazione mensile\n",
    "SP500_m.head()"
   ],
   "outputs": [],
   "execution_count": null
  },
  {
   "cell_type": "code",
   "id": "854230e4",
   "metadata": {},
   "source": [
    "SP500_m['RS_Lordo']=SP500_m['Adj Close']/SP500_m['Adj Close'].shift(1)"
   ],
   "outputs": [],
   "execution_count": null
  },
  {
   "cell_type": "code",
   "id": "972c48e6",
   "metadata": {},
   "source": [
    "SP500_m['RS_Netto'] = SP500_m['Adj Close'].pct_change(1)"
   ],
   "outputs": [],
   "execution_count": null
  },
  {
   "cell_type": "code",
   "id": "02a95466",
   "metadata": {},
   "source": [
    "SP500_m['RL']= np.log(SP500_m['Adj Close']/SP500_m['Adj Close'].shift(1))"
   ],
   "outputs": [],
   "execution_count": null
  },
  {
   "cell_type": "code",
   "id": "37d4e6f6",
   "metadata": {},
   "source": [
    "SP500_m.head()"
   ],
   "outputs": [],
   "execution_count": null
  },
  {
   "cell_type": "code",
   "id": "5d3793e2",
   "metadata": {},
   "source": [
    "SP500_m['Adj Close'][-1]/SP500_m['Adj Close'][0]"
   ],
   "outputs": [],
   "execution_count": null
  },
  {
   "cell_type": "markdown",
   "id": "87bae45a",
   "metadata": {},
   "source": [
    "Prima differenza: Rendimenti semplici non si sommano nel tempo, logaritmici sì\n",
    "Se prendiamo il rendimento semplice medio e lo capitalizziamo per il numero di periodi (41 anni per 12 mesi = 492) otteniamo un valore finale miolto più elevato di quello corretto.\n",
    "Se facciamo la stessa cosa con il rendimento logaritmico medio otteniamo il valore corretto."
   ]
  },
  {
   "cell_type": "code",
   "id": "803132d6",
   "metadata": {},
   "source": [
    "RS_Netto_m = np.mean(SP500_m['RS_Netto'])\n",
    "RS_Netto_m"
   ],
   "outputs": [],
   "execution_count": null
  },
  {
   "cell_type": "code",
   "id": "53d157d9",
   "metadata": {},
   "source": [
    "RL_m = np.mean(SP500_m['RL'])\n",
    "RL_m"
   ],
   "outputs": [],
   "execution_count": null
  },
  {
   "cell_type": "code",
   "id": "8680f4de",
   "metadata": {},
   "source": [
    "(1+RS_Netto_m)**(41*12)"
   ],
   "outputs": [],
   "execution_count": null
  },
  {
   "cell_type": "code",
   "id": "f515b1c6",
   "metadata": {},
   "source": [
    "np.exp(RL_m*41*12)"
   ],
   "outputs": [],
   "execution_count": null
  },
  {
   "cell_type": "markdown",
   "id": "02c4e203",
   "metadata": {},
   "source": [
    "Possiamo passare da rendimenti semplici a rendimenti logaritmici grazie a un risultato ricavato dal cosiddetto Lemma di Ito per il quale RL = RS - 0.5*Var(RS)"
   ]
  },
  {
   "cell_type": "code",
   "id": "54ba9f50",
   "metadata": {},
   "source": [
    "RS_Netto_var = np.var(SP500_m['RS_Netto'])"
   ],
   "outputs": [],
   "execution_count": null
  },
  {
   "cell_type": "code",
   "id": "f8fb4266",
   "metadata": {},
   "source": [
    "RS_Netto_m - 0.5*RS_Netto_var"
   ],
   "outputs": [],
   "execution_count": null
  },
  {
   "cell_type": "markdown",
   "id": "dfb52186",
   "metadata": {},
   "source": [
    "Rendimenti e portafogli"
   ]
  },
  {
   "cell_type": "markdown",
   "id": "ffbbb9ac",
   "metadata": {},
   "source": [
    "La media ponderata dei rendimenti semplici delle componenti di un portafoglio è uguale al rendimento del portafoglio"
   ]
  },
  {
   "cell_type": "code",
   "id": "4a732781",
   "metadata": {},
   "source": [
    "weights = np.array([0.2,0.5,0.3])"
   ],
   "outputs": [],
   "execution_count": null
  },
  {
   "cell_type": "code",
   "id": "4fb283bf",
   "metadata": {},
   "source": [
    "inizio = np.array([100, 100, 100])"
   ],
   "outputs": [],
   "execution_count": null
  },
  {
   "cell_type": "code",
   "id": "8f79deb5",
   "metadata": {},
   "source": [
    "port_inizio = np.sum(weights*inizio)\n",
    "port_inizio"
   ],
   "outputs": [],
   "execution_count": null
  },
  {
   "cell_type": "code",
   "id": "3d4903fc",
   "metadata": {},
   "source": [
    "fine = np.array([102,105,115])"
   ],
   "outputs": [],
   "execution_count": null
  },
  {
   "cell_type": "code",
   "id": "0210e255",
   "metadata": {},
   "source": [
    "ret_s = fine/inizio -1"
   ],
   "outputs": [],
   "execution_count": null
  },
  {
   "cell_type": "code",
   "id": "1da0810e",
   "metadata": {},
   "source": [
    "ret_s"
   ],
   "outputs": [],
   "execution_count": null
  },
  {
   "cell_type": "code",
   "id": "5f60df68",
   "metadata": {},
   "source": [
    "port_fine_s = np.sum(weights*fine)\n",
    "port_fine_s"
   ],
   "outputs": [],
   "execution_count": null
  },
  {
   "cell_type": "code",
   "id": "bafbe0b6",
   "metadata": {},
   "source": [
    "ret_port = np.sum(weights*ret_s)\n",
    "ret_port"
   ],
   "outputs": [],
   "execution_count": null
  },
  {
   "cell_type": "code",
   "id": "48e6e603",
   "metadata": {},
   "source": [
    "port_fine_s_check = port_inizio * (1+ret_port)\n",
    "port_fine_s_check"
   ],
   "outputs": [],
   "execution_count": null
  },
  {
   "cell_type": "code",
   "id": "e2b55427",
   "metadata": {},
   "source": [
    "port_fine_s == port_fine_s_check"
   ],
   "outputs": [],
   "execution_count": null
  },
  {
   "cell_type": "markdown",
   "id": "0a86ba5f",
   "metadata": {},
   "source": [
    "La media ponderata dei rendimenti logaritmici delle componenti di un portafoglio è diversa dal rendimento logaritmico del portafoglio"
   ]
  },
  {
   "cell_type": "code",
   "id": "90abf65d",
   "metadata": {},
   "source": [
    "ret_l = np.log(fine/inizio)\n",
    "ret_l"
   ],
   "outputs": [],
   "execution_count": null
  },
  {
   "cell_type": "code",
   "id": "7e220a17",
   "metadata": {},
   "source": [
    "ret_pond_log = np.sum(ret_l*weights)\n",
    "ret_pond_log"
   ],
   "outputs": [],
   "execution_count": null
  },
  {
   "cell_type": "code",
   "id": "c8658138",
   "metadata": {},
   "source": [
    "ret_port_log = np.log(107.4/100)\n",
    "ret_port_log"
   ],
   "outputs": [],
   "execution_count": null
  },
  {
   "cell_type": "code",
   "id": "c3f9dbbc",
   "metadata": {},
   "source": [
    "ret_port_log == ret_pond_log"
   ],
   "outputs": [],
   "execution_count": null
  },
  {
   "cell_type": "markdown",
   "id": "e682fe01",
   "metadata": {},
   "source": [
    "#### Valori finali di un percorso di accumulazione e distribuzione log normale\n"
   ]
  },
  {
   "cell_type": "code",
   "id": "a14fa4aa",
   "metadata": {},
   "source": [
    "ret = RS_Netto_m\n",
    "ret"
   ],
   "outputs": [],
   "execution_count": null
  },
  {
   "cell_type": "code",
   "id": "e031cbd3",
   "metadata": {},
   "source": [
    "std = np.sqrt(RS_Netto_var)\n",
    "std"
   ],
   "outputs": [],
   "execution_count": null
  },
  {
   "cell_type": "markdown",
   "id": "7d0d39f2",
   "metadata": {},
   "source": [
    "Creaimo 10000 percorsi di investimento mensili per 10 anni utilizzando media e deviazione standard storiche del S&P500 con un metodo chiamato simulazione MonteCarlo"
   ]
  },
  {
   "cell_type": "code",
   "id": "0b73bab1",
   "metadata": {},
   "source": [
    "n = 10000\n",
    "T = 120\n",
    "Port = np.zeros((T+1, n))\n",
    "Port[0] = 100\n",
    "for t in range(1, T+1):\n",
    "    Port[t] = Port[t-1]*(1+ (ret + std*np.random.randn(n)))\n",
    "\n",
    "plt.figure(figsize = (10,6))\n",
    "plt.hist(Port[-1], bins = 100)\n",
    "plt.xlabel('Valore finale')\n",
    "plt.ylabel('Frequenza')\n",
    "plt.grid()\n"
   ],
   "outputs": [],
   "execution_count": null
  },
  {
   "cell_type": "code",
   "id": "ae416561",
   "metadata": {},
   "source": [
    "port_log = np.log(Port[-1])"
   ],
   "outputs": [],
   "execution_count": null
  },
  {
   "cell_type": "code",
   "id": "447f05ee",
   "metadata": {},
   "source": [
    "plt.figure(figsize = (10,6))\n",
    "plt.hist(port_log, bins = 100)\n",
    "plt.xlabel('Valore finale')\n",
    "plt.ylabel('Frequenza')\n",
    "plt.grid()\n"
   ],
   "outputs": [],
   "execution_count": null
  },
  {
   "cell_type": "code",
   "id": "fa0a0de6",
   "metadata": {},
   "source": [],
   "outputs": [],
   "execution_count": null
  }
 ],
 "metadata": {
  "kernelspec": {
   "display_name": "Python 3 (ipykernel)",
   "language": "python",
   "name": "python3"
  },
  "language_info": {
   "codemirror_mode": {
    "name": "ipython",
    "version": 3
   },
   "file_extension": ".py",
   "mimetype": "text/x-python",
   "name": "python",
   "nbconvert_exporter": "python",
   "pygments_lexer": "ipython3",
   "version": "3.11.7"
  }
 },
 "nbformat": 4,
 "nbformat_minor": 5
}
