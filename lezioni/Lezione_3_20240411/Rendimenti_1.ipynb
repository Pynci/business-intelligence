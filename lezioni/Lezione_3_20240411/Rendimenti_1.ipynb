{
 "cells": [
  {
   "cell_type": "code",
   "id": "86e33655",
   "metadata": {
    "ExecuteTime": {
     "end_time": "2024-04-23T08:33:21.600761Z",
     "start_time": "2024-04-23T08:33:21.590287Z"
    }
   },
   "source": [
    "import pandas as pd\n",
    "import numpy as np\n",
    "import datetime\n",
    "import matplotlib.pyplot as plt\n",
    "import yfinance as yf\n",
    "%matplotlib inline"
   ],
   "outputs": [],
   "execution_count": 576
  },
  {
   "cell_type": "code",
   "id": "865cdc18",
   "metadata": {
    "ExecuteTime": {
     "end_time": "2024-04-23T08:33:22.218816Z",
     "start_time": "2024-04-23T08:33:22.206982Z"
    }
   },
   "source": [
    "start = datetime.datetime(1982,12, 31)\n",
    "end = datetime.datetime(2023, 12, 31)"
   ],
   "outputs": [],
   "execution_count": 577
  },
  {
   "cell_type": "code",
   "id": "54152ba6",
   "metadata": {
    "ExecuteTime": {
     "end_time": "2024-04-23T08:33:22.326710Z",
     "start_time": "2024-04-23T08:33:22.234979Z"
    }
   },
   "source": [
    "SP500 = yf.download('^GSPC', start, end)"
   ],
   "outputs": [
    {
     "name": "stderr",
     "output_type": "stream",
     "text": [
      "[*********************100%%**********************]  1 of 1 completed\n"
     ]
    }
   ],
   "execution_count": 578
  },
  {
   "cell_type": "code",
   "id": "f9135cfb",
   "metadata": {
    "ExecuteTime": {
     "end_time": "2024-04-23T08:33:22.419486Z",
     "start_time": "2024-04-23T08:33:22.327709Z"
    }
   },
   "source": [
    "SP500.to_csv('SP500.csv')"
   ],
   "outputs": [],
   "execution_count": 579
  },
  {
   "cell_type": "code",
   "id": "57caf940",
   "metadata": {
    "ExecuteTime": {
     "end_time": "2024-04-23T08:33:22.435424Z",
     "start_time": "2024-04-23T08:33:22.421457Z"
    }
   },
   "source": [
    "#SP500 = pd.read_csv('SP500.csv')"
   ],
   "outputs": [],
   "execution_count": 580
  },
  {
   "cell_type": "code",
   "id": "604f022f",
   "metadata": {
    "ExecuteTime": {
     "end_time": "2024-04-23T08:33:22.450381Z",
     "start_time": "2024-04-23T08:33:22.437416Z"
    }
   },
   "source": [
    "SP500.head()"
   ],
   "outputs": [
    {
     "data": {
      "text/plain": [
       "                  Open        High         Low       Close   Adj Close  \\\n",
       "Date                                                                     \n",
       "1982-12-31  140.339996  140.779999  140.270004  140.639999  140.639999   \n",
       "1983-01-03  140.649994  141.330002  138.199997  138.339996  138.339996   \n",
       "1983-01-04  138.330002  141.360001  138.080002  141.360001  141.360001   \n",
       "1983-01-05  141.350006  142.600006  141.149994  141.960007  141.960007   \n",
       "1983-01-06  142.009995  145.770004  142.009995  145.270004  145.270004   \n",
       "\n",
       "               Volume  \n",
       "Date                   \n",
       "1982-12-31   42110000  \n",
       "1983-01-03   59080000  \n",
       "1983-01-04   75530000  \n",
       "1983-01-05   95390000  \n",
       "1983-01-06  129410000  "
      ],
      "text/html": [
       "<div>\n",
       "<style scoped>\n",
       "    .dataframe tbody tr th:only-of-type {\n",
       "        vertical-align: middle;\n",
       "    }\n",
       "\n",
       "    .dataframe tbody tr th {\n",
       "        vertical-align: top;\n",
       "    }\n",
       "\n",
       "    .dataframe thead th {\n",
       "        text-align: right;\n",
       "    }\n",
       "</style>\n",
       "<table border=\"1\" class=\"dataframe\">\n",
       "  <thead>\n",
       "    <tr style=\"text-align: right;\">\n",
       "      <th></th>\n",
       "      <th>Open</th>\n",
       "      <th>High</th>\n",
       "      <th>Low</th>\n",
       "      <th>Close</th>\n",
       "      <th>Adj Close</th>\n",
       "      <th>Volume</th>\n",
       "    </tr>\n",
       "    <tr>\n",
       "      <th>Date</th>\n",
       "      <th></th>\n",
       "      <th></th>\n",
       "      <th></th>\n",
       "      <th></th>\n",
       "      <th></th>\n",
       "      <th></th>\n",
       "    </tr>\n",
       "  </thead>\n",
       "  <tbody>\n",
       "    <tr>\n",
       "      <th>1982-12-31</th>\n",
       "      <td>140.339996</td>\n",
       "      <td>140.779999</td>\n",
       "      <td>140.270004</td>\n",
       "      <td>140.639999</td>\n",
       "      <td>140.639999</td>\n",
       "      <td>42110000</td>\n",
       "    </tr>\n",
       "    <tr>\n",
       "      <th>1983-01-03</th>\n",
       "      <td>140.649994</td>\n",
       "      <td>141.330002</td>\n",
       "      <td>138.199997</td>\n",
       "      <td>138.339996</td>\n",
       "      <td>138.339996</td>\n",
       "      <td>59080000</td>\n",
       "    </tr>\n",
       "    <tr>\n",
       "      <th>1983-01-04</th>\n",
       "      <td>138.330002</td>\n",
       "      <td>141.360001</td>\n",
       "      <td>138.080002</td>\n",
       "      <td>141.360001</td>\n",
       "      <td>141.360001</td>\n",
       "      <td>75530000</td>\n",
       "    </tr>\n",
       "    <tr>\n",
       "      <th>1983-01-05</th>\n",
       "      <td>141.350006</td>\n",
       "      <td>142.600006</td>\n",
       "      <td>141.149994</td>\n",
       "      <td>141.960007</td>\n",
       "      <td>141.960007</td>\n",
       "      <td>95390000</td>\n",
       "    </tr>\n",
       "    <tr>\n",
       "      <th>1983-01-06</th>\n",
       "      <td>142.009995</td>\n",
       "      <td>145.770004</td>\n",
       "      <td>142.009995</td>\n",
       "      <td>145.270004</td>\n",
       "      <td>145.270004</td>\n",
       "      <td>129410000</td>\n",
       "    </tr>\n",
       "  </tbody>\n",
       "</table>\n",
       "</div>"
      ]
     },
     "execution_count": 581,
     "metadata": {},
     "output_type": "execute_result"
    }
   ],
   "execution_count": 581
  },
  {
   "cell_type": "code",
   "id": "fd3af42d",
   "metadata": {
    "ExecuteTime": {
     "end_time": "2024-04-23T08:33:22.543174Z",
     "start_time": "2024-04-23T08:33:22.529210Z"
    }
   },
   "source": [
    "SP500['Adj Close'].head()"
   ],
   "outputs": [
    {
     "data": {
      "text/plain": [
       "Date\n",
       "1982-12-31    140.639999\n",
       "1983-01-03    138.339996\n",
       "1983-01-04    141.360001\n",
       "1983-01-05    141.960007\n",
       "1983-01-06    145.270004\n",
       "Name: Adj Close, dtype: float64"
      ]
     },
     "execution_count": 582,
     "metadata": {},
     "output_type": "execute_result"
    }
   ],
   "execution_count": 582
  },
  {
   "cell_type": "code",
   "id": "790a77b1",
   "metadata": {
    "ExecuteTime": {
     "end_time": "2024-04-23T08:33:22.618970Z",
     "start_time": "2024-04-23T08:33:22.605009Z"
    }
   },
   "source": [
    "SP500['Adj Close'].tail()"
   ],
   "outputs": [
    {
     "data": {
      "text/plain": [
       "Date\n",
       "2023-12-22    4754.629883\n",
       "2023-12-26    4774.750000\n",
       "2023-12-27    4781.580078\n",
       "2023-12-28    4783.350098\n",
       "2023-12-29    4769.830078\n",
       "Name: Adj Close, dtype: float64"
      ]
     },
     "execution_count": 583,
     "metadata": {},
     "output_type": "execute_result"
    }
   ],
   "execution_count": 583
  },
  {
   "cell_type": "markdown",
   "id": "2c6acdd6",
   "metadata": {},
   "source": [
    "Calcoliamo i rendimenti semplici lordi e netti e logaritmici.<br> \n",
    "Ciò che fa è prendere il prezzo di chiusura aggiustato e dividerlo per il prezzo di chiusura shiftato di uno (in questo modo è come se prendesse il prezzo di chisura aggiustato del giorno x / il prezzo di chiusura aggiustato del giorno x - 1). <br>\n",
    "L'idea è quella che abbiamo anche visto a lezione: ho una serie di prezzi e divido il prezzo al tempo t con il prezzo al tempo t - 1 per calcolare il ritorno."
   ]
  },
  {
   "cell_type": "code",
   "id": "525d0d23",
   "metadata": {
    "ExecuteTime": {
     "end_time": "2024-04-23T08:33:22.711722Z",
     "start_time": "2024-04-23T08:33:22.700752Z"
    }
   },
   "source": "SP500['RS_Lordo'] = SP500['Adj Close']/SP500['Adj Close'].shift(1) # ritorno lordo",
   "outputs": [],
   "execution_count": 584
  },
  {
   "cell_type": "code",
   "id": "5dcf72ed",
   "metadata": {
    "ExecuteTime": {
     "end_time": "2024-04-23T08:33:22.866310Z",
     "start_time": "2024-04-23T08:33:22.846364Z"
    }
   },
   "source": [
    "SP500.head()"
   ],
   "outputs": [
    {
     "data": {
      "text/plain": [
       "                  Open        High         Low       Close   Adj Close  \\\n",
       "Date                                                                     \n",
       "1982-12-31  140.339996  140.779999  140.270004  140.639999  140.639999   \n",
       "1983-01-03  140.649994  141.330002  138.199997  138.339996  138.339996   \n",
       "1983-01-04  138.330002  141.360001  138.080002  141.360001  141.360001   \n",
       "1983-01-05  141.350006  142.600006  141.149994  141.960007  141.960007   \n",
       "1983-01-06  142.009995  145.770004  142.009995  145.270004  145.270004   \n",
       "\n",
       "               Volume  RS_Lordo  \n",
       "Date                             \n",
       "1982-12-31   42110000       NaN  \n",
       "1983-01-03   59080000  0.983646  \n",
       "1983-01-04   75530000  1.021830  \n",
       "1983-01-05   95390000  1.004245  \n",
       "1983-01-06  129410000  1.023316  "
      ],
      "text/html": [
       "<div>\n",
       "<style scoped>\n",
       "    .dataframe tbody tr th:only-of-type {\n",
       "        vertical-align: middle;\n",
       "    }\n",
       "\n",
       "    .dataframe tbody tr th {\n",
       "        vertical-align: top;\n",
       "    }\n",
       "\n",
       "    .dataframe thead th {\n",
       "        text-align: right;\n",
       "    }\n",
       "</style>\n",
       "<table border=\"1\" class=\"dataframe\">\n",
       "  <thead>\n",
       "    <tr style=\"text-align: right;\">\n",
       "      <th></th>\n",
       "      <th>Open</th>\n",
       "      <th>High</th>\n",
       "      <th>Low</th>\n",
       "      <th>Close</th>\n",
       "      <th>Adj Close</th>\n",
       "      <th>Volume</th>\n",
       "      <th>RS_Lordo</th>\n",
       "    </tr>\n",
       "    <tr>\n",
       "      <th>Date</th>\n",
       "      <th></th>\n",
       "      <th></th>\n",
       "      <th></th>\n",
       "      <th></th>\n",
       "      <th></th>\n",
       "      <th></th>\n",
       "      <th></th>\n",
       "    </tr>\n",
       "  </thead>\n",
       "  <tbody>\n",
       "    <tr>\n",
       "      <th>1982-12-31</th>\n",
       "      <td>140.339996</td>\n",
       "      <td>140.779999</td>\n",
       "      <td>140.270004</td>\n",
       "      <td>140.639999</td>\n",
       "      <td>140.639999</td>\n",
       "      <td>42110000</td>\n",
       "      <td>NaN</td>\n",
       "    </tr>\n",
       "    <tr>\n",
       "      <th>1983-01-03</th>\n",
       "      <td>140.649994</td>\n",
       "      <td>141.330002</td>\n",
       "      <td>138.199997</td>\n",
       "      <td>138.339996</td>\n",
       "      <td>138.339996</td>\n",
       "      <td>59080000</td>\n",
       "      <td>0.983646</td>\n",
       "    </tr>\n",
       "    <tr>\n",
       "      <th>1983-01-04</th>\n",
       "      <td>138.330002</td>\n",
       "      <td>141.360001</td>\n",
       "      <td>138.080002</td>\n",
       "      <td>141.360001</td>\n",
       "      <td>141.360001</td>\n",
       "      <td>75530000</td>\n",
       "      <td>1.021830</td>\n",
       "    </tr>\n",
       "    <tr>\n",
       "      <th>1983-01-05</th>\n",
       "      <td>141.350006</td>\n",
       "      <td>142.600006</td>\n",
       "      <td>141.149994</td>\n",
       "      <td>141.960007</td>\n",
       "      <td>141.960007</td>\n",
       "      <td>95390000</td>\n",
       "      <td>1.004245</td>\n",
       "    </tr>\n",
       "    <tr>\n",
       "      <th>1983-01-06</th>\n",
       "      <td>142.009995</td>\n",
       "      <td>145.770004</td>\n",
       "      <td>142.009995</td>\n",
       "      <td>145.270004</td>\n",
       "      <td>145.270004</td>\n",
       "      <td>129410000</td>\n",
       "      <td>1.023316</td>\n",
       "    </tr>\n",
       "  </tbody>\n",
       "</table>\n",
       "</div>"
      ]
     },
     "execution_count": 585,
     "metadata": {},
     "output_type": "execute_result"
    }
   ],
   "execution_count": 585
  },
  {
   "metadata": {},
   "cell_type": "markdown",
   "source": [
    "Il ritorno netto è dato da ritorno lordo - 1. <br>\n",
    "Il metodo pct_change() viene utilizzato per calcolare la percentuale di cambiamento tra i valori consecutivi in una Serie o in un DataFrame lungo un determinato asse: nel nostro caso, quindi, corrisponde al ritorno netto."
   ],
   "id": "19917381a804000a"
  },
  {
   "cell_type": "code",
   "id": "12565304",
   "metadata": {
    "ExecuteTime": {
     "end_time": "2024-04-23T08:33:22.912187Z",
     "start_time": "2024-04-23T08:33:22.897227Z"
    }
   },
   "source": [
    "SP500['RS_Netto'] = SP500['Adj Close'].pct_change(1)"
   ],
   "outputs": [],
   "execution_count": 586
  },
  {
   "cell_type": "code",
   "id": "1e66c0ae",
   "metadata": {
    "ExecuteTime": {
     "end_time": "2024-04-23T08:33:22.989980Z",
     "start_time": "2024-04-23T08:33:22.976016Z"
    }
   },
   "source": [
    "SP500.head()"
   ],
   "outputs": [
    {
     "data": {
      "text/plain": [
       "                  Open        High         Low       Close   Adj Close  \\\n",
       "Date                                                                     \n",
       "1982-12-31  140.339996  140.779999  140.270004  140.639999  140.639999   \n",
       "1983-01-03  140.649994  141.330002  138.199997  138.339996  138.339996   \n",
       "1983-01-04  138.330002  141.360001  138.080002  141.360001  141.360001   \n",
       "1983-01-05  141.350006  142.600006  141.149994  141.960007  141.960007   \n",
       "1983-01-06  142.009995  145.770004  142.009995  145.270004  145.270004   \n",
       "\n",
       "               Volume  RS_Lordo  RS_Netto  \n",
       "Date                                       \n",
       "1982-12-31   42110000       NaN       NaN  \n",
       "1983-01-03   59080000  0.983646 -0.016354  \n",
       "1983-01-04   75530000  1.021830  0.021830  \n",
       "1983-01-05   95390000  1.004245  0.004245  \n",
       "1983-01-06  129410000  1.023316  0.023316  "
      ],
      "text/html": [
       "<div>\n",
       "<style scoped>\n",
       "    .dataframe tbody tr th:only-of-type {\n",
       "        vertical-align: middle;\n",
       "    }\n",
       "\n",
       "    .dataframe tbody tr th {\n",
       "        vertical-align: top;\n",
       "    }\n",
       "\n",
       "    .dataframe thead th {\n",
       "        text-align: right;\n",
       "    }\n",
       "</style>\n",
       "<table border=\"1\" class=\"dataframe\">\n",
       "  <thead>\n",
       "    <tr style=\"text-align: right;\">\n",
       "      <th></th>\n",
       "      <th>Open</th>\n",
       "      <th>High</th>\n",
       "      <th>Low</th>\n",
       "      <th>Close</th>\n",
       "      <th>Adj Close</th>\n",
       "      <th>Volume</th>\n",
       "      <th>RS_Lordo</th>\n",
       "      <th>RS_Netto</th>\n",
       "    </tr>\n",
       "    <tr>\n",
       "      <th>Date</th>\n",
       "      <th></th>\n",
       "      <th></th>\n",
       "      <th></th>\n",
       "      <th></th>\n",
       "      <th></th>\n",
       "      <th></th>\n",
       "      <th></th>\n",
       "      <th></th>\n",
       "    </tr>\n",
       "  </thead>\n",
       "  <tbody>\n",
       "    <tr>\n",
       "      <th>1982-12-31</th>\n",
       "      <td>140.339996</td>\n",
       "      <td>140.779999</td>\n",
       "      <td>140.270004</td>\n",
       "      <td>140.639999</td>\n",
       "      <td>140.639999</td>\n",
       "      <td>42110000</td>\n",
       "      <td>NaN</td>\n",
       "      <td>NaN</td>\n",
       "    </tr>\n",
       "    <tr>\n",
       "      <th>1983-01-03</th>\n",
       "      <td>140.649994</td>\n",
       "      <td>141.330002</td>\n",
       "      <td>138.199997</td>\n",
       "      <td>138.339996</td>\n",
       "      <td>138.339996</td>\n",
       "      <td>59080000</td>\n",
       "      <td>0.983646</td>\n",
       "      <td>-0.016354</td>\n",
       "    </tr>\n",
       "    <tr>\n",
       "      <th>1983-01-04</th>\n",
       "      <td>138.330002</td>\n",
       "      <td>141.360001</td>\n",
       "      <td>138.080002</td>\n",
       "      <td>141.360001</td>\n",
       "      <td>141.360001</td>\n",
       "      <td>75530000</td>\n",
       "      <td>1.021830</td>\n",
       "      <td>0.021830</td>\n",
       "    </tr>\n",
       "    <tr>\n",
       "      <th>1983-01-05</th>\n",
       "      <td>141.350006</td>\n",
       "      <td>142.600006</td>\n",
       "      <td>141.149994</td>\n",
       "      <td>141.960007</td>\n",
       "      <td>141.960007</td>\n",
       "      <td>95390000</td>\n",
       "      <td>1.004245</td>\n",
       "      <td>0.004245</td>\n",
       "    </tr>\n",
       "    <tr>\n",
       "      <th>1983-01-06</th>\n",
       "      <td>142.009995</td>\n",
       "      <td>145.770004</td>\n",
       "      <td>142.009995</td>\n",
       "      <td>145.270004</td>\n",
       "      <td>145.270004</td>\n",
       "      <td>129410000</td>\n",
       "      <td>1.023316</td>\n",
       "      <td>0.023316</td>\n",
       "    </tr>\n",
       "  </tbody>\n",
       "</table>\n",
       "</div>"
      ]
     },
     "execution_count": 587,
     "metadata": {},
     "output_type": "execute_result"
    }
   ],
   "execution_count": 587
  },
  {
   "metadata": {},
   "cell_type": "markdown",
   "source": [
    "Come abbiamo detto a lezione, a volte lavorare con il ritorno lordo logaritmico è più comodo: ricordiamo infatti che il ritorno lordo su un periodo (t - 1, t), formato da n sottoperiodi, è dato dalla produttoria del ritorno lordo di ciascun sottoperiodo. <br>\n",
    " La produttoria è difficilmente manipolabile, per cui spesso viene utilizzato il ritorno lordo logaritmico per fare delle operazioni.<br>\n",
    " Il ritorno lordo logaritmico su un periodo (t - 1, t), formato da n sottoperiodi, è infatti dato dalla somma del ritorno lordo logaritmici di ciascun sottoperiodo.\n",
    " \n",
    "__PER CAPIRE__: il logaritmo viene introdotto per trasformare la produttoria in una sommatoria, con tutti i vantaggi del caso."
   ],
   "id": "4774f2091d403313"
  },
  {
   "cell_type": "code",
   "id": "cd411b98",
   "metadata": {
    "ExecuteTime": {
     "end_time": "2024-04-23T08:33:23.127641Z",
     "start_time": "2024-04-23T08:33:23.113649Z"
    }
   },
   "source": [
    "SP500['RL'] = np.log(SP500['Adj Close']/SP500['Adj Close'].shift(1))"
   ],
   "outputs": [],
   "execution_count": 588
  },
  {
   "cell_type": "code",
   "id": "cad9321a",
   "metadata": {
    "ExecuteTime": {
     "end_time": "2024-04-23T08:33:23.251360Z",
     "start_time": "2024-04-23T08:33:23.240366Z"
    }
   },
   "source": [
    "SP500.head()"
   ],
   "outputs": [
    {
     "data": {
      "text/plain": [
       "                  Open        High         Low       Close   Adj Close  \\\n",
       "Date                                                                     \n",
       "1982-12-31  140.339996  140.779999  140.270004  140.639999  140.639999   \n",
       "1983-01-03  140.649994  141.330002  138.199997  138.339996  138.339996   \n",
       "1983-01-04  138.330002  141.360001  138.080002  141.360001  141.360001   \n",
       "1983-01-05  141.350006  142.600006  141.149994  141.960007  141.960007   \n",
       "1983-01-06  142.009995  145.770004  142.009995  145.270004  145.270004   \n",
       "\n",
       "               Volume  RS_Lordo  RS_Netto        RL  \n",
       "Date                                                 \n",
       "1982-12-31   42110000       NaN       NaN       NaN  \n",
       "1983-01-03   59080000  0.983646 -0.016354 -0.016489  \n",
       "1983-01-04   75530000  1.021830  0.021830  0.021595  \n",
       "1983-01-05   95390000  1.004245  0.004245  0.004236  \n",
       "1983-01-06  129410000  1.023316  0.023316  0.023049  "
      ],
      "text/html": [
       "<div>\n",
       "<style scoped>\n",
       "    .dataframe tbody tr th:only-of-type {\n",
       "        vertical-align: middle;\n",
       "    }\n",
       "\n",
       "    .dataframe tbody tr th {\n",
       "        vertical-align: top;\n",
       "    }\n",
       "\n",
       "    .dataframe thead th {\n",
       "        text-align: right;\n",
       "    }\n",
       "</style>\n",
       "<table border=\"1\" class=\"dataframe\">\n",
       "  <thead>\n",
       "    <tr style=\"text-align: right;\">\n",
       "      <th></th>\n",
       "      <th>Open</th>\n",
       "      <th>High</th>\n",
       "      <th>Low</th>\n",
       "      <th>Close</th>\n",
       "      <th>Adj Close</th>\n",
       "      <th>Volume</th>\n",
       "      <th>RS_Lordo</th>\n",
       "      <th>RS_Netto</th>\n",
       "      <th>RL</th>\n",
       "    </tr>\n",
       "    <tr>\n",
       "      <th>Date</th>\n",
       "      <th></th>\n",
       "      <th></th>\n",
       "      <th></th>\n",
       "      <th></th>\n",
       "      <th></th>\n",
       "      <th></th>\n",
       "      <th></th>\n",
       "      <th></th>\n",
       "      <th></th>\n",
       "    </tr>\n",
       "  </thead>\n",
       "  <tbody>\n",
       "    <tr>\n",
       "      <th>1982-12-31</th>\n",
       "      <td>140.339996</td>\n",
       "      <td>140.779999</td>\n",
       "      <td>140.270004</td>\n",
       "      <td>140.639999</td>\n",
       "      <td>140.639999</td>\n",
       "      <td>42110000</td>\n",
       "      <td>NaN</td>\n",
       "      <td>NaN</td>\n",
       "      <td>NaN</td>\n",
       "    </tr>\n",
       "    <tr>\n",
       "      <th>1983-01-03</th>\n",
       "      <td>140.649994</td>\n",
       "      <td>141.330002</td>\n",
       "      <td>138.199997</td>\n",
       "      <td>138.339996</td>\n",
       "      <td>138.339996</td>\n",
       "      <td>59080000</td>\n",
       "      <td>0.983646</td>\n",
       "      <td>-0.016354</td>\n",
       "      <td>-0.016489</td>\n",
       "    </tr>\n",
       "    <tr>\n",
       "      <th>1983-01-04</th>\n",
       "      <td>138.330002</td>\n",
       "      <td>141.360001</td>\n",
       "      <td>138.080002</td>\n",
       "      <td>141.360001</td>\n",
       "      <td>141.360001</td>\n",
       "      <td>75530000</td>\n",
       "      <td>1.021830</td>\n",
       "      <td>0.021830</td>\n",
       "      <td>0.021595</td>\n",
       "    </tr>\n",
       "    <tr>\n",
       "      <th>1983-01-05</th>\n",
       "      <td>141.350006</td>\n",
       "      <td>142.600006</td>\n",
       "      <td>141.149994</td>\n",
       "      <td>141.960007</td>\n",
       "      <td>141.960007</td>\n",
       "      <td>95390000</td>\n",
       "      <td>1.004245</td>\n",
       "      <td>0.004245</td>\n",
       "      <td>0.004236</td>\n",
       "    </tr>\n",
       "    <tr>\n",
       "      <th>1983-01-06</th>\n",
       "      <td>142.009995</td>\n",
       "      <td>145.770004</td>\n",
       "      <td>142.009995</td>\n",
       "      <td>145.270004</td>\n",
       "      <td>145.270004</td>\n",
       "      <td>129410000</td>\n",
       "      <td>1.023316</td>\n",
       "      <td>0.023316</td>\n",
       "      <td>0.023049</td>\n",
       "    </tr>\n",
       "  </tbody>\n",
       "</table>\n",
       "</div>"
      ]
     },
     "execution_count": 589,
     "metadata": {},
     "output_type": "execute_result"
    }
   ],
   "execution_count": 589
  },
  {
   "cell_type": "markdown",
   "id": "be388459",
   "metadata": {},
   "source": [
    "Qual é il collegamento fra rendimenti semplici e logaritmici? <br>\n",
    "Aumentando la frequenza di capitalizzazione (numero di sottoperiodi) il rendimento composto semplice si avvicina a quello logaritmico.\n"
   ]
  },
  {
   "cell_type": "code",
   "id": "041d1715",
   "metadata": {
    "ExecuteTime": {
     "end_time": "2024-04-23T08:33:23.328131Z",
     "start_time": "2024-04-23T08:33:23.318157Z"
    }
   },
   "source": [
    "f = [1, 2, 4, 12, 52, 365, 730, 1460]\n",
    "r = 0.10\n",
    "tassi = []\n",
    "\n",
    "for i in f:\n",
    "    tasso = (1+r/i)**i - 1\n",
    "    tassi.append(tasso)\n",
    "\n",
    "for i in tassi:\n",
    "    print(round(i, 7))\n",
    "\n",
    "print(round(np.exp(r)-1, 7))"
   ],
   "outputs": [
    {
     "name": "stdout",
     "output_type": "stream",
     "text": [
      "0.1\n",
      "0.1025\n",
      "0.1038129\n",
      "0.1047131\n",
      "0.1050648\n",
      "0.1051558\n",
      "0.1051633\n",
      "0.1051671\n",
      "0.1051709\n"
     ]
    }
   ],
   "execution_count": 590
  },
  {
   "cell_type": "markdown",
   "id": "59a9d563",
   "metadata": {},
   "source": [
    "Differenze fra rendimenti semplici e logaritmici:\n",
    "- Rendimenti semplici non si sommano nel tempo, logaritmici sì\n",
    "- Rendimenti semplici si sommano nel portafoglio, logaritmici no\n",
    "- Rendimenti semplici sono sensibili alla frequenza di calcolo, logaritmici no\n"
   ]
  },
  {
   "cell_type": "markdown",
   "id": "3164cae6",
   "metadata": {},
   "source": [
    "Il prodotto dei rendimenti lordi è il valore capitalizzato dell'investimento di un'unità al rendimento della serie.\n",
    "\n",
    "__PER CAPIRE__: sta frase serve a dire che se prendiamo i rendimenti lordi semplici e li moltiplichiamo tra loro otteniamo il rendimento lordo su tutto il periodo. <br>\n",
    "Questo lavoro viene fatto su ciascun elemento della serie tramite la funzione cumprod(); lui vuole fare questo lavoro per ciacuna cella.\n",
    "\n",
    "__PER CAPIRE__: in RS_Lordo c'è il ritorno lordo per ogni giorno rispetto al giorno precedente, in Cum c'è il ritorno lordo per ogni giorno rispetto al giorno iniziale."
   ]
  },
  {
   "cell_type": "code",
   "id": "4f5c273b",
   "metadata": {
    "ExecuteTime": {
     "end_time": "2024-04-23T08:33:23.404924Z",
     "start_time": "2024-04-23T08:33:23.392958Z"
    }
   },
   "source": [
    "SP500['Cum'] = np.cumprod(SP500['RS_Lordo'])"
   ],
   "outputs": [],
   "execution_count": 591
  },
  {
   "cell_type": "code",
   "id": "ac76f9f0",
   "metadata": {
    "ExecuteTime": {
     "end_time": "2024-04-23T08:33:23.575496Z",
     "start_time": "2024-04-23T08:33:23.561507Z"
    }
   },
   "source": [
    "SP500.head()"
   ],
   "outputs": [
    {
     "data": {
      "text/plain": [
       "                  Open        High         Low       Close   Adj Close  \\\n",
       "Date                                                                     \n",
       "1982-12-31  140.339996  140.779999  140.270004  140.639999  140.639999   \n",
       "1983-01-03  140.649994  141.330002  138.199997  138.339996  138.339996   \n",
       "1983-01-04  138.330002  141.360001  138.080002  141.360001  141.360001   \n",
       "1983-01-05  141.350006  142.600006  141.149994  141.960007  141.960007   \n",
       "1983-01-06  142.009995  145.770004  142.009995  145.270004  145.270004   \n",
       "\n",
       "               Volume  RS_Lordo  RS_Netto        RL       Cum  \n",
       "Date                                                           \n",
       "1982-12-31   42110000       NaN       NaN       NaN       NaN  \n",
       "1983-01-03   59080000  0.983646 -0.016354 -0.016489  0.983646  \n",
       "1983-01-04   75530000  1.021830  0.021830  0.021595  1.005119  \n",
       "1983-01-05   95390000  1.004245  0.004245  0.004236  1.009386  \n",
       "1983-01-06  129410000  1.023316  0.023316  0.023049  1.032921  "
      ],
      "text/html": [
       "<div>\n",
       "<style scoped>\n",
       "    .dataframe tbody tr th:only-of-type {\n",
       "        vertical-align: middle;\n",
       "    }\n",
       "\n",
       "    .dataframe tbody tr th {\n",
       "        vertical-align: top;\n",
       "    }\n",
       "\n",
       "    .dataframe thead th {\n",
       "        text-align: right;\n",
       "    }\n",
       "</style>\n",
       "<table border=\"1\" class=\"dataframe\">\n",
       "  <thead>\n",
       "    <tr style=\"text-align: right;\">\n",
       "      <th></th>\n",
       "      <th>Open</th>\n",
       "      <th>High</th>\n",
       "      <th>Low</th>\n",
       "      <th>Close</th>\n",
       "      <th>Adj Close</th>\n",
       "      <th>Volume</th>\n",
       "      <th>RS_Lordo</th>\n",
       "      <th>RS_Netto</th>\n",
       "      <th>RL</th>\n",
       "      <th>Cum</th>\n",
       "    </tr>\n",
       "    <tr>\n",
       "      <th>Date</th>\n",
       "      <th></th>\n",
       "      <th></th>\n",
       "      <th></th>\n",
       "      <th></th>\n",
       "      <th></th>\n",
       "      <th></th>\n",
       "      <th></th>\n",
       "      <th></th>\n",
       "      <th></th>\n",
       "      <th></th>\n",
       "    </tr>\n",
       "  </thead>\n",
       "  <tbody>\n",
       "    <tr>\n",
       "      <th>1982-12-31</th>\n",
       "      <td>140.339996</td>\n",
       "      <td>140.779999</td>\n",
       "      <td>140.270004</td>\n",
       "      <td>140.639999</td>\n",
       "      <td>140.639999</td>\n",
       "      <td>42110000</td>\n",
       "      <td>NaN</td>\n",
       "      <td>NaN</td>\n",
       "      <td>NaN</td>\n",
       "      <td>NaN</td>\n",
       "    </tr>\n",
       "    <tr>\n",
       "      <th>1983-01-03</th>\n",
       "      <td>140.649994</td>\n",
       "      <td>141.330002</td>\n",
       "      <td>138.199997</td>\n",
       "      <td>138.339996</td>\n",
       "      <td>138.339996</td>\n",
       "      <td>59080000</td>\n",
       "      <td>0.983646</td>\n",
       "      <td>-0.016354</td>\n",
       "      <td>-0.016489</td>\n",
       "      <td>0.983646</td>\n",
       "    </tr>\n",
       "    <tr>\n",
       "      <th>1983-01-04</th>\n",
       "      <td>138.330002</td>\n",
       "      <td>141.360001</td>\n",
       "      <td>138.080002</td>\n",
       "      <td>141.360001</td>\n",
       "      <td>141.360001</td>\n",
       "      <td>75530000</td>\n",
       "      <td>1.021830</td>\n",
       "      <td>0.021830</td>\n",
       "      <td>0.021595</td>\n",
       "      <td>1.005119</td>\n",
       "    </tr>\n",
       "    <tr>\n",
       "      <th>1983-01-05</th>\n",
       "      <td>141.350006</td>\n",
       "      <td>142.600006</td>\n",
       "      <td>141.149994</td>\n",
       "      <td>141.960007</td>\n",
       "      <td>141.960007</td>\n",
       "      <td>95390000</td>\n",
       "      <td>1.004245</td>\n",
       "      <td>0.004245</td>\n",
       "      <td>0.004236</td>\n",
       "      <td>1.009386</td>\n",
       "    </tr>\n",
       "    <tr>\n",
       "      <th>1983-01-06</th>\n",
       "      <td>142.009995</td>\n",
       "      <td>145.770004</td>\n",
       "      <td>142.009995</td>\n",
       "      <td>145.270004</td>\n",
       "      <td>145.270004</td>\n",
       "      <td>129410000</td>\n",
       "      <td>1.023316</td>\n",
       "      <td>0.023316</td>\n",
       "      <td>0.023049</td>\n",
       "      <td>1.032921</td>\n",
       "    </tr>\n",
       "  </tbody>\n",
       "</table>\n",
       "</div>"
      ]
     },
     "execution_count": 592,
     "metadata": {},
     "output_type": "execute_result"
    }
   ],
   "execution_count": 592
  },
  {
   "cell_type": "code",
   "id": "b6bdb9cf",
   "metadata": {
    "ExecuteTime": {
     "end_time": "2024-04-23T08:33:23.680158Z",
     "start_time": "2024-04-23T08:33:23.657212Z"
    }
   },
   "source": [
    "SP500.tail()"
   ],
   "outputs": [
    {
     "data": {
      "text/plain": [
       "                   Open         High          Low        Close    Adj Close  \\\n",
       "Date                                                                          \n",
       "2023-12-22  4753.919922  4772.939941  4736.770020  4754.629883  4754.629883   \n",
       "2023-12-26  4758.859863  4784.720215  4758.450195  4774.750000  4774.750000   \n",
       "2023-12-27  4773.450195  4785.390137  4768.899902  4781.580078  4781.580078   \n",
       "2023-12-28  4786.439941  4793.299805  4780.979980  4783.350098  4783.350098   \n",
       "2023-12-29  4782.879883  4788.430176  4751.990234  4769.830078  4769.830078   \n",
       "\n",
       "                Volume  RS_Lordo  RS_Netto        RL        Cum  \n",
       "Date                                                             \n",
       "2023-12-22  3046770000  1.001660  0.001660  0.001659  33.807095  \n",
       "2023-12-26  2513910000  1.004232  0.004232  0.004223  33.950157  \n",
       "2023-12-27  2748450000  1.001430  0.001430  0.001429  33.998721  \n",
       "2023-12-28  2698860000  1.000370  0.000370  0.000370  34.011306  \n",
       "2023-12-29  3126060000  0.997174 -0.002826 -0.002830  33.915174  "
      ],
      "text/html": [
       "<div>\n",
       "<style scoped>\n",
       "    .dataframe tbody tr th:only-of-type {\n",
       "        vertical-align: middle;\n",
       "    }\n",
       "\n",
       "    .dataframe tbody tr th {\n",
       "        vertical-align: top;\n",
       "    }\n",
       "\n",
       "    .dataframe thead th {\n",
       "        text-align: right;\n",
       "    }\n",
       "</style>\n",
       "<table border=\"1\" class=\"dataframe\">\n",
       "  <thead>\n",
       "    <tr style=\"text-align: right;\">\n",
       "      <th></th>\n",
       "      <th>Open</th>\n",
       "      <th>High</th>\n",
       "      <th>Low</th>\n",
       "      <th>Close</th>\n",
       "      <th>Adj Close</th>\n",
       "      <th>Volume</th>\n",
       "      <th>RS_Lordo</th>\n",
       "      <th>RS_Netto</th>\n",
       "      <th>RL</th>\n",
       "      <th>Cum</th>\n",
       "    </tr>\n",
       "    <tr>\n",
       "      <th>Date</th>\n",
       "      <th></th>\n",
       "      <th></th>\n",
       "      <th></th>\n",
       "      <th></th>\n",
       "      <th></th>\n",
       "      <th></th>\n",
       "      <th></th>\n",
       "      <th></th>\n",
       "      <th></th>\n",
       "      <th></th>\n",
       "    </tr>\n",
       "  </thead>\n",
       "  <tbody>\n",
       "    <tr>\n",
       "      <th>2023-12-22</th>\n",
       "      <td>4753.919922</td>\n",
       "      <td>4772.939941</td>\n",
       "      <td>4736.770020</td>\n",
       "      <td>4754.629883</td>\n",
       "      <td>4754.629883</td>\n",
       "      <td>3046770000</td>\n",
       "      <td>1.001660</td>\n",
       "      <td>0.001660</td>\n",
       "      <td>0.001659</td>\n",
       "      <td>33.807095</td>\n",
       "    </tr>\n",
       "    <tr>\n",
       "      <th>2023-12-26</th>\n",
       "      <td>4758.859863</td>\n",
       "      <td>4784.720215</td>\n",
       "      <td>4758.450195</td>\n",
       "      <td>4774.750000</td>\n",
       "      <td>4774.750000</td>\n",
       "      <td>2513910000</td>\n",
       "      <td>1.004232</td>\n",
       "      <td>0.004232</td>\n",
       "      <td>0.004223</td>\n",
       "      <td>33.950157</td>\n",
       "    </tr>\n",
       "    <tr>\n",
       "      <th>2023-12-27</th>\n",
       "      <td>4773.450195</td>\n",
       "      <td>4785.390137</td>\n",
       "      <td>4768.899902</td>\n",
       "      <td>4781.580078</td>\n",
       "      <td>4781.580078</td>\n",
       "      <td>2748450000</td>\n",
       "      <td>1.001430</td>\n",
       "      <td>0.001430</td>\n",
       "      <td>0.001429</td>\n",
       "      <td>33.998721</td>\n",
       "    </tr>\n",
       "    <tr>\n",
       "      <th>2023-12-28</th>\n",
       "      <td>4786.439941</td>\n",
       "      <td>4793.299805</td>\n",
       "      <td>4780.979980</td>\n",
       "      <td>4783.350098</td>\n",
       "      <td>4783.350098</td>\n",
       "      <td>2698860000</td>\n",
       "      <td>1.000370</td>\n",
       "      <td>0.000370</td>\n",
       "      <td>0.000370</td>\n",
       "      <td>34.011306</td>\n",
       "    </tr>\n",
       "    <tr>\n",
       "      <th>2023-12-29</th>\n",
       "      <td>4782.879883</td>\n",
       "      <td>4788.430176</td>\n",
       "      <td>4751.990234</td>\n",
       "      <td>4769.830078</td>\n",
       "      <td>4769.830078</td>\n",
       "      <td>3126060000</td>\n",
       "      <td>0.997174</td>\n",
       "      <td>-0.002826</td>\n",
       "      <td>-0.002830</td>\n",
       "      <td>33.915174</td>\n",
       "    </tr>\n",
       "  </tbody>\n",
       "</table>\n",
       "</div>"
      ]
     },
     "execution_count": 593,
     "metadata": {},
     "output_type": "execute_result"
    }
   ],
   "execution_count": 593
  },
  {
   "cell_type": "code",
   "id": "adcc7e15",
   "metadata": {
    "ExecuteTime": {
     "end_time": "2024-04-23T08:33:24.065112Z",
     "start_time": "2024-04-23T08:33:23.817773Z"
    }
   },
   "source": [
    "plt.plot(SP500['Cum'])\n",
    "plt.grid()"
   ],
   "outputs": [
    {
     "data": {
      "text/plain": [
       "<Figure size 640x480 with 1 Axes>"
      ],
      "image/png": "[encoded data removed]"
     },
     "metadata": {},
     "output_type": "display_data"
    }
   ],
   "execution_count": 594
  },
  {
   "metadata": {
    "ExecuteTime": {
     "end_time": "2024-04-23T09:03:43.121184Z",
     "start_time": "2024-04-23T09:03:43.102746Z"
    }
   },
   "cell_type": "code",
   "source": "srl = (SP500.iloc[1:6, ].loc[ : , 'RL'].sum()) # somma dei ritorni logaritmici",
   "id": "277086d8be7d0cfc",
   "outputs": [],
   "execution_count": 656
  },
  {
   "metadata": {
    "ExecuteTime": {
     "end_time": "2024-04-23T09:03:43.658502Z",
     "start_time": "2024-04-23T09:03:43.648501Z"
    }
   },
   "cell_type": "code",
   "source": "np.e**srl # annullo il logaritmo (operazione inversa)",
   "id": "4129b9d37ce09080",
   "outputs": [
    {
     "data": {
      "text/plain": [
       "1.0322809535397865"
      ]
     },
     "execution_count": 657,
     "metadata": {},
     "output_type": "execute_result"
    }
   ],
   "execution_count": 657
  },
  {
   "metadata": {
    "ExecuteTime": {
     "end_time": "2024-04-23T08:58:26.644545Z",
     "start_time": "2024-04-23T08:58:26.635434Z"
    }
   },
   "cell_type": "code",
   "source": "SP500.iloc[1:6, ].loc[ : , 'RS_Lordo'].prod() # prodotto dei ritorni semplici",
   "id": "fbfc8482f20b3d97",
   "outputs": [
    {
     "data": {
      "text/plain": [
       "1.0322809535397863"
      ]
     },
     "execution_count": 647,
     "metadata": {},
     "output_type": "execute_result"
    }
   ],
   "execution_count": 647
  },
  {
   "metadata": {
    "ExecuteTime": {
     "end_time": "2024-04-23T08:59:14.679523Z",
     "start_time": "2024-04-23T08:59:14.663148Z"
    }
   },
   "cell_type": "code",
   "source": "SP500.iloc[5].loc['Cum'] # ritorno cumulativo",
   "id": "3a88bc86b14e589b",
   "outputs": [
    {
     "data": {
      "text/plain": [
       "1.0322809535397863"
      ]
     },
     "execution_count": 649,
     "metadata": {},
     "output_type": "execute_result"
    }
   ],
   "execution_count": 649
  },
  {
   "metadata": {},
   "cell_type": "markdown",
   "source": "__NB__: facendo la somma dei ritorni logaritmici, il prodotto dei ritorni semplici o il calcolo del ritorno cumulativo si ottiene sempre lo stesso valore (cioè il ritorno lordo composto)",
   "id": "d4fc2a3e434e8915"
  },
  {
   "cell_type": "code",
   "id": "fd731142",
   "metadata": {
    "ExecuteTime": {
     "end_time": "2024-04-23T08:33:24.370943Z",
     "start_time": "2024-04-23T08:33:24.356953Z"
    }
   },
   "source": "SP500['Adj Close'].iloc[-1] / SP500['Adj Close'].iloc[0]",
   "outputs": [
    {
     "data": {
      "text/plain": [
       "33.915174195287115"
      ]
     },
     "execution_count": 598,
     "metadata": {},
     "output_type": "execute_result"
    }
   ],
   "execution_count": 598
  },
  {
   "cell_type": "markdown",
   "id": "5056ab8b",
   "metadata": {},
   "source": [
    "Calcoliamo il rendimento composto annuo dell'investimento sul periodo considerato"
   ]
  },
  {
   "cell_type": "code",
   "id": "f9274d0e",
   "metadata": {
    "ExecuteTime": {
     "end_time": "2024-04-23T08:33:24.556446Z",
     "start_time": "2024-04-23T08:33:24.539489Z"
    }
   },
   "source": [
    "delta = end - start\n",
    "delta.days"
   ],
   "outputs": [
    {
     "data": {
      "text/plain": [
       "14975"
      ]
     },
     "execution_count": 600,
     "metadata": {},
     "output_type": "execute_result"
    }
   ],
   "execution_count": 600
  },
  {
   "cell_type": "code",
   "id": "51a25870",
   "metadata": {
    "ExecuteTime": {
     "end_time": "2024-04-23T08:33:24.648199Z",
     "start_time": "2024-04-23T08:33:24.630224Z"
    }
   },
   "source": "t = delta/datetime.timedelta(days=1)",
   "outputs": [],
   "execution_count": 601
  },
  {
   "cell_type": "code",
   "id": "e1f5f0ce",
   "metadata": {
    "ExecuteTime": {
     "end_time": "2024-04-23T08:33:24.679093Z",
     "start_time": "2024-04-23T08:33:24.669121Z"
    }
   },
   "source": [
    "t"
   ],
   "outputs": [
    {
     "data": {
      "text/plain": [
       "14975.0"
      ]
     },
     "execution_count": 602,
     "metadata": {},
     "output_type": "execute_result"
    }
   ],
   "execution_count": 602
  },
  {
   "cell_type": "code",
   "id": "299b6f42",
   "metadata": {
    "ExecuteTime": {
     "end_time": "2024-04-23T08:33:24.755870Z",
     "start_time": "2024-04-23T08:33:24.742882Z"
    }
   },
   "source": [
    "type(t)"
   ],
   "outputs": [
    {
     "data": {
      "text/plain": [
       "float"
      ]
     },
     "execution_count": 603,
     "metadata": {},
     "output_type": "execute_result"
    }
   ],
   "execution_count": 603
  },
  {
   "cell_type": "code",
   "id": "972d04f8",
   "metadata": {
    "ExecuteTime": {
     "end_time": "2024-04-23T08:33:24.801725Z",
     "start_time": "2024-04-23T08:33:24.795740Z"
    }
   },
   "source": [
    "t/365"
   ],
   "outputs": [
    {
     "data": {
      "text/plain": [
       "41.02739726027397"
      ]
     },
     "execution_count": 604,
     "metadata": {},
     "output_type": "execute_result"
    }
   ],
   "execution_count": 604
  },
  {
   "cell_type": "code",
   "id": "dc2552fb",
   "metadata": {
    "ExecuteTime": {
     "end_time": "2024-04-23T08:33:24.893479Z",
     "start_time": "2024-04-23T08:33:24.876524Z"
    }
   },
   "source": [
    "SP500_cagr = (SP500['Adj Close'].iloc[-1]/SP500['Adj Close'].iloc[0])**(365/t) - 1 # se metti indici negativi parte dalla coda\n",
    "SP500_cagr # ritorno annuale lordo composto (fa la media geometrica del ritorno lordo composto dei 41 anni), vedi appunti pagina 29"
   ],
   "outputs": [
    {
     "data": {
      "text/plain": [
       "0.08968697093262445"
      ]
     },
     "execution_count": 605,
     "metadata": {},
     "output_type": "execute_result"
    }
   ],
   "execution_count": 605
  },
  {
   "cell_type": "code",
   "id": "d447f9cd",
   "metadata": {
    "ExecuteTime": {
     "end_time": "2024-04-23T08:33:24.925501Z",
     "start_time": "2024-04-23T08:33:24.917496Z"
    }
   },
   "source": "SP500['Cum'].iloc[-1]**(1/41) - 1",
   "outputs": [
    {
     "data": {
      "text/plain": [
       "0.08974951447728596"
      ]
     },
     "execution_count": 606,
     "metadata": {},
     "output_type": "execute_result"
    }
   ],
   "execution_count": 606
  },
  {
   "cell_type": "markdown",
   "id": "9c429359",
   "metadata": {},
   "source": [
    "Per avere una serie più maneggevole passiamo da una frequenza giornaliera a una frequenza mensile: utilizzamo quindi il metodo \"groupby\" e la frequenza mensile ('ME').<br>\n",
    "Poichè vogliamo il valore di fine mese specifichiamo \".last()\".\n",
    "\n",
    "__NB__: nelle analisi di serie storiche utilizzare sempre valori osservati (giorni, fine settimana, fine mese eccetera), __mai__ medie (`mean()`) perché creiamo valori che non corrispondono a veri investimenti e riduciamo artificiosamente la volatilità."
   ]
  },
  {
   "cell_type": "code",
   "id": "dea8002a",
   "metadata": {
    "ExecuteTime": {
     "end_time": "2024-04-23T08:33:25.017384Z",
     "start_time": "2024-04-23T08:33:24.987488Z"
    }
   },
   "source": [
    "SP500_m = SP500.groupby(pd.Grouper(freq='ME')).last() # aggregazione mensile, seleziona solo il valore dell'ultimo giorno del mese\n",
    "SP500_m.head()"
   ],
   "outputs": [
    {
     "data": {
      "text/plain": [
       "                  Open        High         Low       Close   Adj Close  \\\n",
       "Date                                                                     \n",
       "1982-12-31  140.339996  140.779999  140.270004  140.639999  140.639999   \n",
       "1983-01-31  144.509995  145.300003  143.929993  145.300003  145.300003   \n",
       "1983-02-28  149.740005  149.740005  147.809998  148.059998  148.059998   \n",
       "1983-03-31  153.410004  155.020004  152.860001  152.960007  152.960007   \n",
       "1983-04-30  162.970001  164.429993  162.720001  164.429993  164.429993   \n",
       "\n",
       "               Volume  RS_Lordo  RS_Netto        RL       Cum  \n",
       "Date                                                           \n",
       "1982-12-31   42110000       NaN       NaN       NaN       NaN  \n",
       "1983-01-31   67140000  1.005467  0.005467  0.005452  1.033134  \n",
       "1983-02-28   83750000  0.988781 -0.011219 -0.011283  1.052759  \n",
       "1983-03-31  100570000  0.997197 -0.002803 -0.002807  1.087600  \n",
       "1983-04-30  105750000  1.009083  0.009083  0.009042  1.169155  "
      ],
      "text/html": [
       "<div>\n",
       "<style scoped>\n",
       "    .dataframe tbody tr th:only-of-type {\n",
       "        vertical-align: middle;\n",
       "    }\n",
       "\n",
       "    .dataframe tbody tr th {\n",
       "        vertical-align: top;\n",
       "    }\n",
       "\n",
       "    .dataframe thead th {\n",
       "        text-align: right;\n",
       "    }\n",
       "</style>\n",
       "<table border=\"1\" class=\"dataframe\">\n",
       "  <thead>\n",
       "    <tr style=\"text-align: right;\">\n",
       "      <th></th>\n",
       "      <th>Open</th>\n",
       "      <th>High</th>\n",
       "      <th>Low</th>\n",
       "      <th>Close</th>\n",
       "      <th>Adj Close</th>\n",
       "      <th>Volume</th>\n",
       "      <th>RS_Lordo</th>\n",
       "      <th>RS_Netto</th>\n",
       "      <th>RL</th>\n",
       "      <th>Cum</th>\n",
       "    </tr>\n",
       "    <tr>\n",
       "      <th>Date</th>\n",
       "      <th></th>\n",
       "      <th></th>\n",
       "      <th></th>\n",
       "      <th></th>\n",
       "      <th></th>\n",
       "      <th></th>\n",
       "      <th></th>\n",
       "      <th></th>\n",
       "      <th></th>\n",
       "      <th></th>\n",
       "    </tr>\n",
       "  </thead>\n",
       "  <tbody>\n",
       "    <tr>\n",
       "      <th>1982-12-31</th>\n",
       "      <td>140.339996</td>\n",
       "      <td>140.779999</td>\n",
       "      <td>140.270004</td>\n",
       "      <td>140.639999</td>\n",
       "      <td>140.639999</td>\n",
       "      <td>42110000</td>\n",
       "      <td>NaN</td>\n",
       "      <td>NaN</td>\n",
       "      <td>NaN</td>\n",
       "      <td>NaN</td>\n",
       "    </tr>\n",
       "    <tr>\n",
       "      <th>1983-01-31</th>\n",
       "      <td>144.509995</td>\n",
       "      <td>145.300003</td>\n",
       "      <td>143.929993</td>\n",
       "      <td>145.300003</td>\n",
       "      <td>145.300003</td>\n",
       "      <td>67140000</td>\n",
       "      <td>1.005467</td>\n",
       "      <td>0.005467</td>\n",
       "      <td>0.005452</td>\n",
       "      <td>1.033134</td>\n",
       "    </tr>\n",
       "    <tr>\n",
       "      <th>1983-02-28</th>\n",
       "      <td>149.740005</td>\n",
       "      <td>149.740005</td>\n",
       "      <td>147.809998</td>\n",
       "      <td>148.059998</td>\n",
       "      <td>148.059998</td>\n",
       "      <td>83750000</td>\n",
       "      <td>0.988781</td>\n",
       "      <td>-0.011219</td>\n",
       "      <td>-0.011283</td>\n",
       "      <td>1.052759</td>\n",
       "    </tr>\n",
       "    <tr>\n",
       "      <th>1983-03-31</th>\n",
       "      <td>153.410004</td>\n",
       "      <td>155.020004</td>\n",
       "      <td>152.860001</td>\n",
       "      <td>152.960007</td>\n",
       "      <td>152.960007</td>\n",
       "      <td>100570000</td>\n",
       "      <td>0.997197</td>\n",
       "      <td>-0.002803</td>\n",
       "      <td>-0.002807</td>\n",
       "      <td>1.087600</td>\n",
       "    </tr>\n",
       "    <tr>\n",
       "      <th>1983-04-30</th>\n",
       "      <td>162.970001</td>\n",
       "      <td>164.429993</td>\n",
       "      <td>162.720001</td>\n",
       "      <td>164.429993</td>\n",
       "      <td>164.429993</td>\n",
       "      <td>105750000</td>\n",
       "      <td>1.009083</td>\n",
       "      <td>0.009083</td>\n",
       "      <td>0.009042</td>\n",
       "      <td>1.169155</td>\n",
       "    </tr>\n",
       "  </tbody>\n",
       "</table>\n",
       "</div>"
      ]
     },
     "execution_count": 607,
     "metadata": {},
     "output_type": "execute_result"
    }
   ],
   "execution_count": 607
  },
  {
   "cell_type": "code",
   "id": "854230e4",
   "metadata": {
    "ExecuteTime": {
     "end_time": "2024-04-23T08:33:25.048333Z",
     "start_time": "2024-04-23T08:33:25.041323Z"
    }
   },
   "source": "SP500_m['RS_Lordo'] = SP500_m['Adj Close']/SP500_m['Adj Close'].shift(1)",
   "outputs": [],
   "execution_count": 608
  },
  {
   "cell_type": "code",
   "id": "972c48e6",
   "metadata": {
    "ExecuteTime": {
     "end_time": "2024-04-23T08:33:25.142623Z",
     "start_time": "2024-04-23T08:33:25.127637Z"
    }
   },
   "source": [
    "SP500_m['RS_Netto'] = SP500_m['Adj Close'].pct_change(1)"
   ],
   "outputs": [],
   "execution_count": 609
  },
  {
   "cell_type": "code",
   "id": "02a95466",
   "metadata": {
    "ExecuteTime": {
     "end_time": "2024-04-23T08:33:25.250218Z",
     "start_time": "2024-04-23T08:33:25.235238Z"
    }
   },
   "source": "SP500_m['RL'] = np.log(SP500_m['Adj Close']/SP500_m['Adj Close'].shift(1))",
   "outputs": [],
   "execution_count": 610
  },
  {
   "cell_type": "code",
   "id": "37d4e6f6",
   "metadata": {
    "ExecuteTime": {
     "end_time": "2024-04-23T08:33:25.357794Z",
     "start_time": "2024-04-23T08:33:25.339865Z"
    }
   },
   "source": [
    "SP500_m.head()"
   ],
   "outputs": [
    {
     "data": {
      "text/plain": [
       "                  Open        High         Low       Close   Adj Close  \\\n",
       "Date                                                                     \n",
       "1982-12-31  140.339996  140.779999  140.270004  140.639999  140.639999   \n",
       "1983-01-31  144.509995  145.300003  143.929993  145.300003  145.300003   \n",
       "1983-02-28  149.740005  149.740005  147.809998  148.059998  148.059998   \n",
       "1983-03-31  153.410004  155.020004  152.860001  152.960007  152.960007   \n",
       "1983-04-30  162.970001  164.429993  162.720001  164.429993  164.429993   \n",
       "\n",
       "               Volume  RS_Lordo  RS_Netto        RL       Cum  \n",
       "Date                                                           \n",
       "1982-12-31   42110000       NaN       NaN       NaN       NaN  \n",
       "1983-01-31   67140000  1.033134  0.033134  0.032597  1.033134  \n",
       "1983-02-28   83750000  1.018995  0.018995  0.018817  1.052759  \n",
       "1983-03-31  100570000  1.033095  0.033095  0.032559  1.087600  \n",
       "1983-04-30  105750000  1.074987  0.074987  0.072308  1.169155  "
      ],
      "text/html": [
       "<div>\n",
       "<style scoped>\n",
       "    .dataframe tbody tr th:only-of-type {\n",
       "        vertical-align: middle;\n",
       "    }\n",
       "\n",
       "    .dataframe tbody tr th {\n",
       "        vertical-align: top;\n",
       "    }\n",
       "\n",
       "    .dataframe thead th {\n",
       "        text-align: right;\n",
       "    }\n",
       "</style>\n",
       "<table border=\"1\" class=\"dataframe\">\n",
       "  <thead>\n",
       "    <tr style=\"text-align: right;\">\n",
       "      <th></th>\n",
       "      <th>Open</th>\n",
       "      <th>High</th>\n",
       "      <th>Low</th>\n",
       "      <th>Close</th>\n",
       "      <th>Adj Close</th>\n",
       "      <th>Volume</th>\n",
       "      <th>RS_Lordo</th>\n",
       "      <th>RS_Netto</th>\n",
       "      <th>RL</th>\n",
       "      <th>Cum</th>\n",
       "    </tr>\n",
       "    <tr>\n",
       "      <th>Date</th>\n",
       "      <th></th>\n",
       "      <th></th>\n",
       "      <th></th>\n",
       "      <th></th>\n",
       "      <th></th>\n",
       "      <th></th>\n",
       "      <th></th>\n",
       "      <th></th>\n",
       "      <th></th>\n",
       "      <th></th>\n",
       "    </tr>\n",
       "  </thead>\n",
       "  <tbody>\n",
       "    <tr>\n",
       "      <th>1982-12-31</th>\n",
       "      <td>140.339996</td>\n",
       "      <td>140.779999</td>\n",
       "      <td>140.270004</td>\n",
       "      <td>140.639999</td>\n",
       "      <td>140.639999</td>\n",
       "      <td>42110000</td>\n",
       "      <td>NaN</td>\n",
       "      <td>NaN</td>\n",
       "      <td>NaN</td>\n",
       "      <td>NaN</td>\n",
       "    </tr>\n",
       "    <tr>\n",
       "      <th>1983-01-31</th>\n",
       "      <td>144.509995</td>\n",
       "      <td>145.300003</td>\n",
       "      <td>143.929993</td>\n",
       "      <td>145.300003</td>\n",
       "      <td>145.300003</td>\n",
       "      <td>67140000</td>\n",
       "      <td>1.033134</td>\n",
       "      <td>0.033134</td>\n",
       "      <td>0.032597</td>\n",
       "      <td>1.033134</td>\n",
       "    </tr>\n",
       "    <tr>\n",
       "      <th>1983-02-28</th>\n",
       "      <td>149.740005</td>\n",
       "      <td>149.740005</td>\n",
       "      <td>147.809998</td>\n",
       "      <td>148.059998</td>\n",
       "      <td>148.059998</td>\n",
       "      <td>83750000</td>\n",
       "      <td>1.018995</td>\n",
       "      <td>0.018995</td>\n",
       "      <td>0.018817</td>\n",
       "      <td>1.052759</td>\n",
       "    </tr>\n",
       "    <tr>\n",
       "      <th>1983-03-31</th>\n",
       "      <td>153.410004</td>\n",
       "      <td>155.020004</td>\n",
       "      <td>152.860001</td>\n",
       "      <td>152.960007</td>\n",
       "      <td>152.960007</td>\n",
       "      <td>100570000</td>\n",
       "      <td>1.033095</td>\n",
       "      <td>0.033095</td>\n",
       "      <td>0.032559</td>\n",
       "      <td>1.087600</td>\n",
       "    </tr>\n",
       "    <tr>\n",
       "      <th>1983-04-30</th>\n",
       "      <td>162.970001</td>\n",
       "      <td>164.429993</td>\n",
       "      <td>162.720001</td>\n",
       "      <td>164.429993</td>\n",
       "      <td>164.429993</td>\n",
       "      <td>105750000</td>\n",
       "      <td>1.074987</td>\n",
       "      <td>0.074987</td>\n",
       "      <td>0.072308</td>\n",
       "      <td>1.169155</td>\n",
       "    </tr>\n",
       "  </tbody>\n",
       "</table>\n",
       "</div>"
      ]
     },
     "execution_count": 611,
     "metadata": {},
     "output_type": "execute_result"
    }
   ],
   "execution_count": 611
  },
  {
   "cell_type": "code",
   "id": "5d3793e2",
   "metadata": {
    "ExecuteTime": {
     "end_time": "2024-04-23T08:33:25.419883Z",
     "start_time": "2024-04-23T08:33:25.409912Z"
    }
   },
   "source": "SP500_m['Adj Close'].iloc[-1]/SP500_m['Adj Close'].iloc[0]",
   "outputs": [
    {
     "data": {
      "text/plain": [
       "33.915174195287115"
      ]
     },
     "execution_count": 612,
     "metadata": {},
     "output_type": "execute_result"
    }
   ],
   "execution_count": 612
  },
  {
   "cell_type": "markdown",
   "id": "87bae45a",
   "metadata": {},
   "source": [
    "Prima differenza: ritorni semplici non si sommano nel tempo, logaritmici sì. <br>\n",
    "Se prendiamo il ritorno semplice medio e lo moltiplichiamo per il numero di periodi (41 anni per 12 mesi = 492) otteniamo un valore finale molto più elevato di quello corretto.\n",
    "Se facciamo la stessa cosa con il rendimento logaritmico medio otteniamo il valore corretto."
   ]
  },
  {
   "cell_type": "code",
   "id": "803132d6",
   "metadata": {
    "ExecuteTime": {
     "end_time": "2024-04-23T08:33:25.449780Z",
     "start_time": "2024-04-23T08:33:25.435840Z"
    }
   },
   "source": [
    "RS_Netto_m = np.mean(SP500_m['RS_Netto'])\n",
    "RS_Netto_m"
   ],
   "outputs": [
    {
     "data": {
      "text/plain": [
       "0.008156658344535056"
      ]
     },
     "execution_count": 613,
     "metadata": {},
     "output_type": "execute_result"
    }
   ],
   "execution_count": 613
  },
  {
   "cell_type": "code",
   "id": "53d157d9",
   "metadata": {
    "ExecuteTime": {
     "end_time": "2024-04-23T08:33:25.528109Z",
     "start_time": "2024-04-23T08:33:25.515119Z"
    }
   },
   "source": [
    "RL_m = np.mean(SP500_m['RL'])\n",
    "RL_m"
   ],
   "outputs": [
    {
     "data": {
      "text/plain": [
       "0.0071623222166996535"
      ]
     },
     "execution_count": 614,
     "metadata": {},
     "output_type": "execute_result"
    }
   ],
   "execution_count": 614
  },
  {
   "cell_type": "code",
   "id": "8680f4de",
   "metadata": {
    "ExecuteTime": {
     "end_time": "2024-04-23T08:33:25.604903Z",
     "start_time": "2024-04-23T08:33:25.590916Z"
    }
   },
   "source": [
    "(1+RS_Netto_m)**(41*12)"
   ],
   "outputs": [
    {
     "data": {
      "text/plain": [
       "54.423591010684014"
      ]
     },
     "execution_count": 615,
     "metadata": {},
     "output_type": "execute_result"
    }
   ],
   "execution_count": 615
  },
  {
   "cell_type": "code",
   "id": "f515b1c6",
   "metadata": {
    "ExecuteTime": {
     "end_time": "2024-04-23T08:33:25.775421Z",
     "start_time": "2024-04-23T08:33:25.754477Z"
    }
   },
   "source": [
    "np.exp(RL_m*41*12)"
   ],
   "outputs": [
    {
     "data": {
      "text/plain": [
       "33.91517419528715"
      ]
     },
     "execution_count": 616,
     "metadata": {},
     "output_type": "execute_result"
    }
   ],
   "execution_count": 616
  },
  {
   "cell_type": "markdown",
   "id": "02c4e203",
   "metadata": {},
   "source": "__NB__: possiamo passare da rendimenti semplici a rendimenti logaritmici grazie a un risultato ricavato dal cosiddetto Lemma di Ito, per il quale RL = RS - 0.5*Var(RS)"
  },
  {
   "cell_type": "code",
   "id": "54ba9f50",
   "metadata": {
    "ExecuteTime": {
     "end_time": "2024-04-23T08:33:25.837255Z",
     "start_time": "2024-04-23T08:33:25.822295Z"
    }
   },
   "source": [
    "RS_Netto_var = np.var(SP500_m['RS_Netto'])"
   ],
   "outputs": [],
   "execution_count": 617
  },
  {
   "cell_type": "code",
   "id": "f8fb4266",
   "metadata": {
    "ExecuteTime": {
     "end_time": "2024-04-23T08:33:25.898092Z",
     "start_time": "2024-04-23T08:33:25.884129Z"
    }
   },
   "source": [
    "RS_Netto_m - 0.5*RS_Netto_var"
   ],
   "outputs": [
    {
     "data": {
      "text/plain": [
       "0.0072030306685217935"
      ]
     },
     "execution_count": 618,
     "metadata": {},
     "output_type": "execute_result"
    }
   ],
   "execution_count": 618
  },
  {
   "cell_type": "markdown",
   "id": "ffbbb9ac",
   "metadata": {},
   "source": [
    "### Rendimenti e portafogli\n",
    "\n",
    "La media ponderata dei rendimenti semplici delle componenti di un portafoglio è _uguale_ al rendimento del portafoglio"
   ]
  },
  {
   "cell_type": "code",
   "id": "4a732781",
   "metadata": {
    "ExecuteTime": {
     "end_time": "2024-04-23T08:33:25.974888Z",
     "start_time": "2024-04-23T08:33:25.961924Z"
    }
   },
   "source": [
    "weights = np.array([0.2,0.5,0.3])"
   ],
   "outputs": [],
   "execution_count": 619
  },
  {
   "cell_type": "code",
   "id": "4fb283bf",
   "metadata": {
    "ExecuteTime": {
     "end_time": "2024-04-23T08:33:26.021761Z",
     "start_time": "2024-04-23T08:33:26.007800Z"
    }
   },
   "source": [
    "inizio = np.array([100, 100, 100])"
   ],
   "outputs": [],
   "execution_count": 620
  },
  {
   "cell_type": "code",
   "id": "8f79deb5",
   "metadata": {
    "ExecuteTime": {
     "end_time": "2024-04-23T08:33:26.067665Z",
     "start_time": "2024-04-23T08:33:26.051705Z"
    }
   },
   "source": [
    "port_inizio = np.sum(weights*inizio)\n",
    "port_inizio"
   ],
   "outputs": [
    {
     "data": {
      "text/plain": [
       "100.0"
      ]
     },
     "execution_count": 621,
     "metadata": {},
     "output_type": "execute_result"
    }
   ],
   "execution_count": 621
  },
  {
   "cell_type": "code",
   "id": "3d4903fc",
   "metadata": {
    "ExecuteTime": {
     "end_time": "2024-04-23T08:33:26.129092Z",
     "start_time": "2024-04-23T08:33:26.116127Z"
    }
   },
   "source": [
    "fine = np.array([102,105,115])"
   ],
   "outputs": [],
   "execution_count": 622
  },
  {
   "cell_type": "code",
   "id": "0210e255",
   "metadata": {
    "ExecuteTime": {
     "end_time": "2024-04-23T09:20:46.219094Z",
     "start_time": "2024-04-23T09:20:46.207103Z"
    }
   },
   "source": [
    "ret_s = fine/inizio - 1\n",
    "ret_s"
   ],
   "outputs": [
    {
     "data": {
      "text/plain": [
       "array([0.02, 0.05, 0.15])"
      ]
     },
     "execution_count": 658,
     "metadata": {},
     "output_type": "execute_result"
    }
   ],
   "execution_count": 658
  },
  {
   "cell_type": "code",
   "id": "5f60df68",
   "metadata": {
    "ExecuteTime": {
     "end_time": "2024-04-23T08:33:26.344515Z",
     "start_time": "2024-04-23T08:33:26.334543Z"
    }
   },
   "source": [
    "port_fine_s = np.sum(weights*fine)\n",
    "port_fine_s"
   ],
   "outputs": [
    {
     "data": {
      "text/plain": [
       "107.4"
      ]
     },
     "execution_count": 625,
     "metadata": {},
     "output_type": "execute_result"
    }
   ],
   "execution_count": 625
  },
  {
   "cell_type": "code",
   "id": "bafbe0b6",
   "metadata": {
    "ExecuteTime": {
     "end_time": "2024-04-23T08:33:26.375433Z",
     "start_time": "2024-04-23T08:33:26.365460Z"
    }
   },
   "source": [
    "ret_port = np.sum(weights*ret_s)\n",
    "ret_port"
   ],
   "outputs": [
    {
     "data": {
      "text/plain": [
       "0.074"
      ]
     },
     "execution_count": 626,
     "metadata": {},
     "output_type": "execute_result"
    }
   ],
   "execution_count": 626
  },
  {
   "cell_type": "code",
   "id": "48e6e603",
   "metadata": {
    "ExecuteTime": {
     "end_time": "2024-04-23T08:33:26.453225Z",
     "start_time": "2024-04-23T08:33:26.439262Z"
    }
   },
   "source": [
    "port_fine_s_check = port_inizio * (1+ret_port)\n",
    "port_fine_s_check"
   ],
   "outputs": [
    {
     "data": {
      "text/plain": [
       "107.4"
      ]
     },
     "execution_count": 627,
     "metadata": {},
     "output_type": "execute_result"
    }
   ],
   "execution_count": 627
  },
  {
   "cell_type": "code",
   "id": "e2b55427",
   "metadata": {
    "ExecuteTime": {
     "end_time": "2024-04-23T09:22:51.805352Z",
     "start_time": "2024-04-23T09:22:51.797674Z"
    }
   },
   "source": "port_fine_s == port_fine_s_check # la somma pesata dei rendimenti dei singoli titoli è uguale al prodotto tra il valore iniziale del portafoglio e il suo ritorno lordo",
   "outputs": [
    {
     "data": {
      "text/plain": [
       "True"
      ]
     },
     "execution_count": 659,
     "metadata": {},
     "output_type": "execute_result"
    }
   ],
   "execution_count": 659
  },
  {
   "cell_type": "markdown",
   "id": "0a86ba5f",
   "metadata": {},
   "source": "La media ponderata dei rendimenti logaritmici delle componenti di un portafoglio è invece _diversa_ dal rendimento logaritmico del portafoglio"
  },
  {
   "cell_type": "code",
   "id": "90abf65d",
   "metadata": {
    "ExecuteTime": {
     "end_time": "2024-04-23T08:33:26.559939Z",
     "start_time": "2024-04-23T08:33:26.541987Z"
    }
   },
   "source": [
    "ret_l = np.log(fine/inizio)\n",
    "ret_l"
   ],
   "outputs": [
    {
     "data": {
      "text/plain": [
       "array([0.01980263, 0.04879016, 0.13976194])"
      ]
     },
     "execution_count": 629,
     "metadata": {},
     "output_type": "execute_result"
    }
   ],
   "execution_count": 629
  },
  {
   "cell_type": "code",
   "id": "7e220a17",
   "metadata": {
    "ExecuteTime": {
     "end_time": "2024-04-23T08:33:26.605817Z",
     "start_time": "2024-04-23T08:33:26.592852Z"
    }
   },
   "source": [
    "ret_pond_log = np.sum(ret_l*weights)\n",
    "ret_pond_log"
   ],
   "outputs": [
    {
     "data": {
      "text/plain": [
       "0.07028419025649955"
      ]
     },
     "execution_count": 630,
     "metadata": {},
     "output_type": "execute_result"
    }
   ],
   "execution_count": 630
  },
  {
   "cell_type": "code",
   "id": "c8658138",
   "metadata": {
    "ExecuteTime": {
     "end_time": "2024-04-23T08:33:26.683269Z",
     "start_time": "2024-04-23T08:33:26.669308Z"
    }
   },
   "source": [
    "ret_port_log = np.log(107.4/100)\n",
    "ret_port_log"
   ],
   "outputs": [
    {
     "data": {
      "text/plain": [
       "0.071389996086673"
      ]
     },
     "execution_count": 631,
     "metadata": {},
     "output_type": "execute_result"
    }
   ],
   "execution_count": 631
  },
  {
   "cell_type": "code",
   "id": "c3f9dbbc",
   "metadata": {
    "ExecuteTime": {
     "end_time": "2024-04-23T08:33:26.745236Z",
     "start_time": "2024-04-23T08:33:26.731274Z"
    }
   },
   "source": [
    "ret_port_log == ret_pond_log"
   ],
   "outputs": [
    {
     "data": {
      "text/plain": [
       "False"
      ]
     },
     "execution_count": 632,
     "metadata": {},
     "output_type": "execute_result"
    }
   ],
   "execution_count": 632
  },
  {
   "cell_type": "markdown",
   "id": "e682fe01",
   "metadata": {},
   "source": [
    "#### Valori finali di un percorso di accumulazione e distribuzione log normale\n"
   ]
  },
  {
   "cell_type": "code",
   "id": "a14fa4aa",
   "metadata": {
    "ExecuteTime": {
     "end_time": "2024-04-23T08:33:26.823088Z",
     "start_time": "2024-04-23T08:33:26.809126Z"
    }
   },
   "source": [
    "ret = RS_Netto_m\n",
    "ret"
   ],
   "outputs": [
    {
     "data": {
      "text/plain": [
       "0.008156658344535056"
      ]
     },
     "execution_count": 633,
     "metadata": {},
     "output_type": "execute_result"
    }
   ],
   "execution_count": 633
  },
  {
   "cell_type": "code",
   "id": "e031cbd3",
   "metadata": {
    "ExecuteTime": {
     "end_time": "2024-04-23T08:33:26.867967Z",
     "start_time": "2024-04-23T08:33:26.848021Z"
    }
   },
   "source": [
    "std = np.sqrt(RS_Netto_var)\n",
    "std"
   ],
   "outputs": [
    {
     "data": {
      "text/plain": [
       "0.04367213473173167"
      ]
     },
     "execution_count": 634,
     "metadata": {},
     "output_type": "execute_result"
    }
   ],
   "execution_count": 634
  },
  {
   "cell_type": "markdown",
   "id": "7d0d39f2",
   "metadata": {},
   "source": [
    "Creaimo 10000 percorsi di investimento mensili per 10 anni utilizzando media e deviazione standard storiche del S&P500 con un metodo chiamato simulazione MonteCarlo"
   ]
  },
  {
   "cell_type": "code",
   "id": "0b73bab1",
   "metadata": {
    "ExecuteTime": {
     "end_time": "2024-04-23T09:43:30.015173Z",
     "start_time": "2024-04-23T09:43:29.795342Z"
    }
   },
   "source": [
    "n = 10000 # numero di percorsi di investimento\n",
    "T = 120 # numero di mesi in 10 anni\n",
    "Port = np.zeros((T+1, n)) # inizializza una matrice grande T+1 x n con tutti gli elementi a zero\n",
    "Port[0] = 100 # assegna 100 a tutti gli elementi della prima riga\n",
    "for t in range(1, T+1): # da dalla riga 1 alla riga T+1\n",
    "    Port[t] = Port[t-1]*(1+ (ret + std*np.random.randn(n))) # per ogni periodo temporale, viene calcolato il valore corrente che dipende da quello precedente moltiplicato per un fattore di crescita (dato dal ritorno atteso ret a cui viene aggiunta una componente causale che modella l'incertezza del mercato)\n",
    "\n",
    "plt.figure(figsize = (10,6))\n",
    "plt.hist(Port[-1], bins = 50)\n",
    "plt.xlabel('Valore finale')\n",
    "plt.ylabel('Frequenza')\n",
    "plt.grid()\n"
   ],
   "outputs": [
    {
     "data": {
      "text/plain": [
       "<Figure size 1000x600 with 1 Axes>"
      ],
      "image/png": "[encoded data removed]"
     },
     "metadata": {},
     "output_type": "display_data"
    }
   ],
   "execution_count": 660
  },
  {
   "metadata": {},
   "cell_type": "markdown",
   "source": "__PER CAPIRE__: l'istogramma mostra la distribuzione dei valori finali del portafoglio ottenuti dalle 10000 simulazioni.",
   "id": "64590c24c802c0d"
  },
  {
   "cell_type": "code",
   "id": "ae416561",
   "metadata": {
    "ExecuteTime": {
     "end_time": "2024-04-23T08:33:27.161115Z",
     "start_time": "2024-04-23T08:33:27.146133Z"
    }
   },
   "source": [
    "port_log = np.log(Port[-1])"
   ],
   "outputs": [],
   "execution_count": 636
  },
  {
   "cell_type": "code",
   "id": "447f05ee",
   "metadata": {
    "ExecuteTime": {
     "end_time": "2024-04-23T08:33:27.391494Z",
     "start_time": "2024-04-23T08:33:27.162090Z"
    }
   },
   "source": [
    "plt.figure(figsize = (10,6))\n",
    "plt.hist(port_log, bins = 50)\n",
    "plt.xlabel('Valore finale')\n",
    "plt.ylabel('Frequenza')\n",
    "plt.grid()\n"
   ],
   "outputs": [
    {
     "data": {
      "text/plain": [
       "<Figure size 1000x600 with 1 Axes>"
      ],
      "image/png": "[encoded data removed]"
     },
     "metadata": {},
     "output_type": "display_data"
    }
   ],
   "execution_count": 637
  }
 ],
 "metadata": {
  "kernelspec": {
   "display_name": "Python 3 (ipykernel)",
   "language": "python",
   "name": "python3"
  },
  "language_info": {
   "codemirror_mode": {
    "name": "ipython",
    "version": 3
   },
   "file_extension": ".py",
   "mimetype": "text/x-python",
   "name": "python",
   "nbconvert_exporter": "python",
   "pygments_lexer": "ipython3",
   "version": "3.11.3"
  }
 },
 "nbformat": 4,
 "nbformat_minor": 5
}
