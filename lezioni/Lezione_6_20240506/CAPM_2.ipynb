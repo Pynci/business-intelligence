{
 "cells": [
  {
   "cell_type": "code",
   "id": "86da7c7b",
   "metadata": {
    "ExecuteTime": {
     "end_time": "2024-06-09T14:46:44.482597Z",
     "start_time": "2024-06-09T14:46:43.619797Z"
    }
   },
   "source": [
    "import pandas as pd\n",
    "import pandas_datareader as web\n",
    "import yfinance as yf\n",
    "import numpy as np\n",
    "import statsmodels.api as smf\n",
    "import matplotlib.pyplot as plt"
   ],
   "outputs": [],
   "execution_count": 1
  },
  {
   "cell_type": "markdown",
   "id": "bca964a6",
   "metadata": {},
   "source": [
    "## CAPM - Un solo fattore\n",
    "\n",
    "Lewinson (2020) Python for Finance Cookbook - cap. 4"
   ]
  },
  {
   "cell_type": "markdown",
   "id": "dae45e2a",
   "metadata": {},
   "source": [
    "### Calcolo del beta vs mercato azionario"
   ]
  },
  {
   "cell_type": "code",
   "id": "6de66ee3",
   "metadata": {
    "ExecuteTime": {
     "end_time": "2024-06-09T14:46:44.498717Z",
     "start_time": "2024-06-09T14:46:44.484566Z"
    }
   },
   "source": [
    "risky_asset = 'AMZN' # Amazon\n",
    "market_benchmark = '^GSPC' # S&P 500\n",
    "start_date = '2014-05-31'\n",
    "end_date = '2024-04-30'"
   ],
   "outputs": [],
   "execution_count": 2
  },
  {
   "cell_type": "code",
   "id": "0d713066",
   "metadata": {
    "ExecuteTime": {
     "end_time": "2024-06-09T14:46:45.201713Z",
     "start_time": "2024-06-09T14:46:44.499688Z"
    }
   },
   "source": [
    "df = yf.download([risky_asset, market_benchmark],\n",
    "                       start = start_date, end = end_date)"
   ],
   "outputs": [
    {
     "name": "stderr",
     "output_type": "stream",
     "text": [
      "[*********************100%%**********************]  2 of 2 completed\n"
     ]
    }
   ],
   "execution_count": 3
  },
  {
   "cell_type": "code",
   "id": "f490ea3f",
   "metadata": {
    "ExecuteTime": {
     "end_time": "2024-06-09T14:46:45.233652Z",
     "start_time": "2024-06-09T14:46:45.202711Z"
    }
   },
   "source": [
    "df.head()"
   ],
   "outputs": [
    {
     "data": {
      "text/plain": [
       "Price       Adj Close                   Close                    High  \\\n",
       "Ticker           AMZN        ^GSPC       AMZN        ^GSPC       AMZN   \n",
       "Date                                                                    \n",
       "2014-06-02  15.442000  1924.969971  15.442000  1924.969971  15.630000   \n",
       "2014-06-03  15.359500  1924.239990  15.359500  1924.239990  15.396000   \n",
       "2014-06-04  15.339000  1927.880005  15.339000  1927.880005  15.475000   \n",
       "2014-06-05  16.178499  1940.459961  16.178499  1940.459961  16.396999   \n",
       "2014-06-06  16.483500  1949.439941  16.483500  1949.439941  16.544001   \n",
       "\n",
       "Price                        Low                  Open               \\\n",
       "Ticker            ^GSPC     AMZN        ^GSPC     AMZN        ^GSPC   \n",
       "Date                                                                  \n",
       "2014-06-02  1925.880005  15.3500  1915.979980  15.6295  1923.869995   \n",
       "2014-06-03  1925.069946  15.2535  1918.790039  15.2875  1923.069946   \n",
       "2014-06-04  1928.630005  15.1920  1918.599976  15.3425  1923.060059   \n",
       "2014-06-05  1941.739990  15.3450  1922.930054  15.4050  1928.520020   \n",
       "2014-06-06  1949.439941  16.2465  1942.410034  16.2500  1942.410034   \n",
       "\n",
       "Price          Volume              \n",
       "Ticker           AMZN       ^GSPC  \n",
       "Date                               \n",
       "2014-06-02   44068000  2509020000  \n",
       "2014-06-03   47584000  2867180000  \n",
       "2014-06-04   42142000  2793920000  \n",
       "2014-06-05  155934000  3113270000  \n",
       "2014-06-06  104880000  2864300000  "
      ],
      "text/html": [
       "<div>\n",
       "<style scoped>\n",
       "    .dataframe tbody tr th:only-of-type {\n",
       "        vertical-align: middle;\n",
       "    }\n",
       "\n",
       "    .dataframe tbody tr th {\n",
       "        vertical-align: top;\n",
       "    }\n",
       "\n",
       "    .dataframe thead tr th {\n",
       "        text-align: left;\n",
       "    }\n",
       "\n",
       "    .dataframe thead tr:last-of-type th {\n",
       "        text-align: right;\n",
       "    }\n",
       "</style>\n",
       "<table border=\"1\" class=\"dataframe\">\n",
       "  <thead>\n",
       "    <tr>\n",
       "      <th>Price</th>\n",
       "      <th colspan=\"2\" halign=\"left\">Adj Close</th>\n",
       "      <th colspan=\"2\" halign=\"left\">Close</th>\n",
       "      <th colspan=\"2\" halign=\"left\">High</th>\n",
       "      <th colspan=\"2\" halign=\"left\">Low</th>\n",
       "      <th colspan=\"2\" halign=\"left\">Open</th>\n",
       "      <th colspan=\"2\" halign=\"left\">Volume</th>\n",
       "    </tr>\n",
       "    <tr>\n",
       "      <th>Ticker</th>\n",
       "      <th>AMZN</th>\n",
       "      <th>^GSPC</th>\n",
       "      <th>AMZN</th>\n",
       "      <th>^GSPC</th>\n",
       "      <th>AMZN</th>\n",
       "      <th>^GSPC</th>\n",
       "      <th>AMZN</th>\n",
       "      <th>^GSPC</th>\n",
       "      <th>AMZN</th>\n",
       "      <th>^GSPC</th>\n",
       "      <th>AMZN</th>\n",
       "      <th>^GSPC</th>\n",
       "    </tr>\n",
       "    <tr>\n",
       "      <th>Date</th>\n",
       "      <th></th>\n",
       "      <th></th>\n",
       "      <th></th>\n",
       "      <th></th>\n",
       "      <th></th>\n",
       "      <th></th>\n",
       "      <th></th>\n",
       "      <th></th>\n",
       "      <th></th>\n",
       "      <th></th>\n",
       "      <th></th>\n",
       "      <th></th>\n",
       "    </tr>\n",
       "  </thead>\n",
       "  <tbody>\n",
       "    <tr>\n",
       "      <th>2014-06-02</th>\n",
       "      <td>15.442000</td>\n",
       "      <td>1924.969971</td>\n",
       "      <td>15.442000</td>\n",
       "      <td>1924.969971</td>\n",
       "      <td>15.630000</td>\n",
       "      <td>1925.880005</td>\n",
       "      <td>15.3500</td>\n",
       "      <td>1915.979980</td>\n",
       "      <td>15.6295</td>\n",
       "      <td>1923.869995</td>\n",
       "      <td>44068000</td>\n",
       "      <td>2509020000</td>\n",
       "    </tr>\n",
       "    <tr>\n",
       "      <th>2014-06-03</th>\n",
       "      <td>15.359500</td>\n",
       "      <td>1924.239990</td>\n",
       "      <td>15.359500</td>\n",
       "      <td>1924.239990</td>\n",
       "      <td>15.396000</td>\n",
       "      <td>1925.069946</td>\n",
       "      <td>15.2535</td>\n",
       "      <td>1918.790039</td>\n",
       "      <td>15.2875</td>\n",
       "      <td>1923.069946</td>\n",
       "      <td>47584000</td>\n",
       "      <td>2867180000</td>\n",
       "    </tr>\n",
       "    <tr>\n",
       "      <th>2014-06-04</th>\n",
       "      <td>15.339000</td>\n",
       "      <td>1927.880005</td>\n",
       "      <td>15.339000</td>\n",
       "      <td>1927.880005</td>\n",
       "      <td>15.475000</td>\n",
       "      <td>1928.630005</td>\n",
       "      <td>15.1920</td>\n",
       "      <td>1918.599976</td>\n",
       "      <td>15.3425</td>\n",
       "      <td>1923.060059</td>\n",
       "      <td>42142000</td>\n",
       "      <td>2793920000</td>\n",
       "    </tr>\n",
       "    <tr>\n",
       "      <th>2014-06-05</th>\n",
       "      <td>16.178499</td>\n",
       "      <td>1940.459961</td>\n",
       "      <td>16.178499</td>\n",
       "      <td>1940.459961</td>\n",
       "      <td>16.396999</td>\n",
       "      <td>1941.739990</td>\n",
       "      <td>15.3450</td>\n",
       "      <td>1922.930054</td>\n",
       "      <td>15.4050</td>\n",
       "      <td>1928.520020</td>\n",
       "      <td>155934000</td>\n",
       "      <td>3113270000</td>\n",
       "    </tr>\n",
       "    <tr>\n",
       "      <th>2014-06-06</th>\n",
       "      <td>16.483500</td>\n",
       "      <td>1949.439941</td>\n",
       "      <td>16.483500</td>\n",
       "      <td>1949.439941</td>\n",
       "      <td>16.544001</td>\n",
       "      <td>1949.439941</td>\n",
       "      <td>16.2465</td>\n",
       "      <td>1942.410034</td>\n",
       "      <td>16.2500</td>\n",
       "      <td>1942.410034</td>\n",
       "      <td>104880000</td>\n",
       "      <td>2864300000</td>\n",
       "    </tr>\n",
       "  </tbody>\n",
       "</table>\n",
       "</div>"
      ]
     },
     "execution_count": 4,
     "metadata": {},
     "output_type": "execute_result"
    }
   ],
   "execution_count": 4
  },
  {
   "cell_type": "code",
   "id": "e8f3c2e0",
   "metadata": {
    "ExecuteTime": {
     "end_time": "2024-06-09T14:46:45.249609Z",
     "start_time": "2024-06-09T14:46:45.235647Z"
    }
   },
   "source": [
    "X = df['Adj Close'].rename(columns={risky_asset:'asset', market_benchmark:'market'})\\\n",
    ".resample('ME').last().pct_change().dropna()\n"
   ],
   "outputs": [],
   "execution_count": 5
  },
  {
   "cell_type": "code",
   "id": "19ac875c",
   "metadata": {
    "ExecuteTime": {
     "end_time": "2024-06-09T14:46:45.264568Z",
     "start_time": "2024-06-09T14:46:45.250607Z"
    }
   },
   "source": [
    "X.head()"
   ],
   "outputs": [
    {
     "data": {
      "text/plain": [
       "Ticker         asset    market\n",
       "Date                          \n",
       "2014-07-31 -0.036302 -0.015080\n",
       "2014-08-31  0.083229  0.037655\n",
       "2014-09-30 -0.048962 -0.015514\n",
       "2014-10-31 -0.052661  0.023201\n",
       "2014-11-30  0.108623  0.024534"
      ],
      "text/html": [
       "<div>\n",
       "<style scoped>\n",
       "    .dataframe tbody tr th:only-of-type {\n",
       "        vertical-align: middle;\n",
       "    }\n",
       "\n",
       "    .dataframe tbody tr th {\n",
       "        vertical-align: top;\n",
       "    }\n",
       "\n",
       "    .dataframe thead th {\n",
       "        text-align: right;\n",
       "    }\n",
       "</style>\n",
       "<table border=\"1\" class=\"dataframe\">\n",
       "  <thead>\n",
       "    <tr style=\"text-align: right;\">\n",
       "      <th>Ticker</th>\n",
       "      <th>asset</th>\n",
       "      <th>market</th>\n",
       "    </tr>\n",
       "    <tr>\n",
       "      <th>Date</th>\n",
       "      <th></th>\n",
       "      <th></th>\n",
       "    </tr>\n",
       "  </thead>\n",
       "  <tbody>\n",
       "    <tr>\n",
       "      <th>2014-07-31</th>\n",
       "      <td>-0.036302</td>\n",
       "      <td>-0.015080</td>\n",
       "    </tr>\n",
       "    <tr>\n",
       "      <th>2014-08-31</th>\n",
       "      <td>0.083229</td>\n",
       "      <td>0.037655</td>\n",
       "    </tr>\n",
       "    <tr>\n",
       "      <th>2014-09-30</th>\n",
       "      <td>-0.048962</td>\n",
       "      <td>-0.015514</td>\n",
       "    </tr>\n",
       "    <tr>\n",
       "      <th>2014-10-31</th>\n",
       "      <td>-0.052661</td>\n",
       "      <td>0.023201</td>\n",
       "    </tr>\n",
       "    <tr>\n",
       "      <th>2014-11-30</th>\n",
       "      <td>0.108623</td>\n",
       "      <td>0.024534</td>\n",
       "    </tr>\n",
       "  </tbody>\n",
       "</table>\n",
       "</div>"
      ]
     },
     "execution_count": 6,
     "metadata": {},
     "output_type": "execute_result"
    }
   ],
   "execution_count": 6
  },
  {
   "cell_type": "code",
   "id": "c0fabf5b",
   "metadata": {
    "ExecuteTime": {
     "end_time": "2024-06-09T14:46:45.279529Z",
     "start_time": "2024-06-09T14:46:45.267561Z"
    }
   },
   "source": [
    "X.cov()"
   ],
   "outputs": [
    {
     "data": {
      "text/plain": [
       "Ticker     asset    market\n",
       "Ticker                    \n",
       "asset   0.008127  0.002491\n",
       "market  0.002491  0.001952"
      ],
      "text/html": [
       "<div>\n",
       "<style scoped>\n",
       "    .dataframe tbody tr th:only-of-type {\n",
       "        vertical-align: middle;\n",
       "    }\n",
       "\n",
       "    .dataframe tbody tr th {\n",
       "        vertical-align: top;\n",
       "    }\n",
       "\n",
       "    .dataframe thead th {\n",
       "        text-align: right;\n",
       "    }\n",
       "</style>\n",
       "<table border=\"1\" class=\"dataframe\">\n",
       "  <thead>\n",
       "    <tr style=\"text-align: right;\">\n",
       "      <th>Ticker</th>\n",
       "      <th>asset</th>\n",
       "      <th>market</th>\n",
       "    </tr>\n",
       "    <tr>\n",
       "      <th>Ticker</th>\n",
       "      <th></th>\n",
       "      <th></th>\n",
       "    </tr>\n",
       "  </thead>\n",
       "  <tbody>\n",
       "    <tr>\n",
       "      <th>asset</th>\n",
       "      <td>0.008127</td>\n",
       "      <td>0.002491</td>\n",
       "    </tr>\n",
       "    <tr>\n",
       "      <th>market</th>\n",
       "      <td>0.002491</td>\n",
       "      <td>0.001952</td>\n",
       "    </tr>\n",
       "  </tbody>\n",
       "</table>\n",
       "</div>"
      ]
     },
     "execution_count": 7,
     "metadata": {},
     "output_type": "execute_result"
    }
   ],
   "execution_count": 7
  },
  {
   "cell_type": "code",
   "id": "865628d9",
   "metadata": {
    "ExecuteTime": {
     "end_time": "2024-06-09T14:46:45.295486Z",
     "start_time": "2024-06-09T14:46:45.280526Z"
    }
   },
   "source": [
    "covariance = X.cov().iloc[0,1]\n",
    "covariance"
   ],
   "outputs": [
    {
     "data": {
      "text/plain": [
       "0.0024913541872845202"
      ]
     },
     "execution_count": 8,
     "metadata": {},
     "output_type": "execute_result"
    }
   ],
   "execution_count": 8
  },
  {
   "cell_type": "code",
   "id": "69da6a80-1450-4005-81ba-f8f6a3ef3338",
   "metadata": {
    "ExecuteTime": {
     "end_time": "2024-06-09T14:46:45.311444Z",
     "start_time": "2024-06-09T14:46:45.296484Z"
    }
   },
   "source": [
    "X.corr()"
   ],
   "outputs": [
    {
     "data": {
      "text/plain": [
       "Ticker     asset    market\n",
       "Ticker                    \n",
       "asset   1.000000  0.625489\n",
       "market  0.625489  1.000000"
      ],
      "text/html": [
       "<div>\n",
       "<style scoped>\n",
       "    .dataframe tbody tr th:only-of-type {\n",
       "        vertical-align: middle;\n",
       "    }\n",
       "\n",
       "    .dataframe tbody tr th {\n",
       "        vertical-align: top;\n",
       "    }\n",
       "\n",
       "    .dataframe thead th {\n",
       "        text-align: right;\n",
       "    }\n",
       "</style>\n",
       "<table border=\"1\" class=\"dataframe\">\n",
       "  <thead>\n",
       "    <tr style=\"text-align: right;\">\n",
       "      <th>Ticker</th>\n",
       "      <th>asset</th>\n",
       "      <th>market</th>\n",
       "    </tr>\n",
       "    <tr>\n",
       "      <th>Ticker</th>\n",
       "      <th></th>\n",
       "      <th></th>\n",
       "    </tr>\n",
       "  </thead>\n",
       "  <tbody>\n",
       "    <tr>\n",
       "      <th>asset</th>\n",
       "      <td>1.000000</td>\n",
       "      <td>0.625489</td>\n",
       "    </tr>\n",
       "    <tr>\n",
       "      <th>market</th>\n",
       "      <td>0.625489</td>\n",
       "      <td>1.000000</td>\n",
       "    </tr>\n",
       "  </tbody>\n",
       "</table>\n",
       "</div>"
      ]
     },
     "execution_count": 9,
     "metadata": {},
     "output_type": "execute_result"
    }
   ],
   "execution_count": 9
  },
  {
   "cell_type": "code",
   "id": "525de6ab",
   "metadata": {
    "ExecuteTime": {
     "end_time": "2024-06-09T14:46:45.327401Z",
     "start_time": "2024-06-09T14:46:45.312441Z"
    }
   },
   "source": [
    "benchmark_variance = X.market.var()"
   ],
   "outputs": [],
   "execution_count": 10
  },
  {
   "cell_type": "code",
   "id": "db7f8518",
   "metadata": {
    "ExecuteTime": {
     "end_time": "2024-06-09T14:46:45.343358Z",
     "start_time": "2024-06-09T14:46:45.328398Z"
    }
   },
   "source": [
    "X.market.var()"
   ],
   "outputs": [
    {
     "data": {
      "text/plain": [
       "0.0019521024529134015"
      ]
     },
     "execution_count": 11,
     "metadata": {},
     "output_type": "execute_result"
    }
   ],
   "execution_count": 11
  },
  {
   "cell_type": "code",
   "id": "f165960e",
   "metadata": {
    "ExecuteTime": {
     "end_time": "2024-06-09T14:46:45.359316Z",
     "start_time": "2024-06-09T14:46:45.344356Z"
    }
   },
   "source": [
    "beta = covariance / benchmark_variance\n",
    "beta"
   ],
   "outputs": [
    {
     "data": {
      "text/plain": [
       "1.2762415126144206"
      ]
     },
     "execution_count": 12,
     "metadata": {},
     "output_type": "execute_result"
    }
   ],
   "execution_count": 12
  },
  {
   "cell_type": "markdown",
   "id": "36b38a58",
   "metadata": {},
   "source": [
    "### CAPM - 1 solo fattore"
   ]
  },
  {
   "cell_type": "code",
   "id": "e34bd75b",
   "metadata": {
    "ExecuteTime": {
     "end_time": "2024-06-09T14:46:45.375273Z",
     "start_time": "2024-06-09T14:46:45.360314Z"
    }
   },
   "source": [
    "y = X.pop('asset')\n",
    "y"
   ],
   "outputs": [
    {
     "data": {
      "text/plain": [
       "Date\n",
       "2014-07-31   -0.036302\n",
       "2014-08-31    0.083229\n",
       "2014-09-30   -0.048962\n",
       "2014-10-31   -0.052661\n",
       "2014-11-30    0.108623\n",
       "                ...   \n",
       "2023-12-31    0.040044\n",
       "2024-01-31    0.021456\n",
       "2024-02-29    0.138918\n",
       "2024-03-31    0.020480\n",
       "2024-04-30    0.003215\n",
       "Freq: ME, Name: asset, Length: 118, dtype: float64"
      ]
     },
     "execution_count": 13,
     "metadata": {},
     "output_type": "execute_result"
    }
   ],
   "execution_count": 13
  },
  {
   "cell_type": "code",
   "id": "cb46d471",
   "metadata": {
    "ExecuteTime": {
     "end_time": "2024-06-09T14:46:45.391230Z",
     "start_time": "2024-06-09T14:46:45.376271Z"
    }
   },
   "source": [
    "\n",
    "X = smf.add_constant(X)\n",
    "X"
   ],
   "outputs": [
    {
     "data": {
      "text/plain": [
       "            const    market\n",
       "Date                       \n",
       "2014-07-31    1.0 -0.015080\n",
       "2014-08-31    1.0  0.037655\n",
       "2014-09-30    1.0 -0.015514\n",
       "2014-10-31    1.0  0.023201\n",
       "2014-11-30    1.0  0.024534\n",
       "...           ...       ...\n",
       "2023-12-31    1.0  0.044229\n",
       "2024-01-31    1.0  0.015896\n",
       "2024-02-29    1.0  0.051721\n",
       "2024-03-31    1.0  0.031019\n",
       "2024-04-30    1.0 -0.026298\n",
       "\n",
       "[118 rows x 2 columns]"
      ],
      "text/html": [
       "<div>\n",
       "<style scoped>\n",
       "    .dataframe tbody tr th:only-of-type {\n",
       "        vertical-align: middle;\n",
       "    }\n",
       "\n",
       "    .dataframe tbody tr th {\n",
       "        vertical-align: top;\n",
       "    }\n",
       "\n",
       "    .dataframe thead th {\n",
       "        text-align: right;\n",
       "    }\n",
       "</style>\n",
       "<table border=\"1\" class=\"dataframe\">\n",
       "  <thead>\n",
       "    <tr style=\"text-align: right;\">\n",
       "      <th></th>\n",
       "      <th>const</th>\n",
       "      <th>market</th>\n",
       "    </tr>\n",
       "    <tr>\n",
       "      <th>Date</th>\n",
       "      <th></th>\n",
       "      <th></th>\n",
       "    </tr>\n",
       "  </thead>\n",
       "  <tbody>\n",
       "    <tr>\n",
       "      <th>2014-07-31</th>\n",
       "      <td>1.0</td>\n",
       "      <td>-0.015080</td>\n",
       "    </tr>\n",
       "    <tr>\n",
       "      <th>2014-08-31</th>\n",
       "      <td>1.0</td>\n",
       "      <td>0.037655</td>\n",
       "    </tr>\n",
       "    <tr>\n",
       "      <th>2014-09-30</th>\n",
       "      <td>1.0</td>\n",
       "      <td>-0.015514</td>\n",
       "    </tr>\n",
       "    <tr>\n",
       "      <th>2014-10-31</th>\n",
       "      <td>1.0</td>\n",
       "      <td>0.023201</td>\n",
       "    </tr>\n",
       "    <tr>\n",
       "      <th>2014-11-30</th>\n",
       "      <td>1.0</td>\n",
       "      <td>0.024534</td>\n",
       "    </tr>\n",
       "    <tr>\n",
       "      <th>...</th>\n",
       "      <td>...</td>\n",
       "      <td>...</td>\n",
       "    </tr>\n",
       "    <tr>\n",
       "      <th>2023-12-31</th>\n",
       "      <td>1.0</td>\n",
       "      <td>0.044229</td>\n",
       "    </tr>\n",
       "    <tr>\n",
       "      <th>2024-01-31</th>\n",
       "      <td>1.0</td>\n",
       "      <td>0.015896</td>\n",
       "    </tr>\n",
       "    <tr>\n",
       "      <th>2024-02-29</th>\n",
       "      <td>1.0</td>\n",
       "      <td>0.051721</td>\n",
       "    </tr>\n",
       "    <tr>\n",
       "      <th>2024-03-31</th>\n",
       "      <td>1.0</td>\n",
       "      <td>0.031019</td>\n",
       "    </tr>\n",
       "    <tr>\n",
       "      <th>2024-04-30</th>\n",
       "      <td>1.0</td>\n",
       "      <td>-0.026298</td>\n",
       "    </tr>\n",
       "  </tbody>\n",
       "</table>\n",
       "<p>118 rows × 2 columns</p>\n",
       "</div>"
      ]
     },
     "execution_count": 14,
     "metadata": {},
     "output_type": "execute_result"
    }
   ],
   "execution_count": 14
  },
  {
   "cell_type": "code",
   "id": "23ec1287",
   "metadata": {
    "ExecuteTime": {
     "end_time": "2024-06-09T14:46:45.421151Z",
     "start_time": "2024-06-09T14:46:45.392229Z"
    }
   },
   "source": [
    "capm_model = smf.OLS(y, X).fit()\n",
    "capm_model.summary()"
   ],
   "outputs": [
    {
     "data": {
      "text/plain": [
       "<class 'statsmodels.iolib.summary.Summary'>\n",
       "\"\"\"\n",
       "                            OLS Regression Results                            \n",
       "==============================================================================\n",
       "Dep. Variable:                  asset   R-squared:                       0.391\n",
       "Model:                            OLS   Adj. R-squared:                  0.386\n",
       "Method:                 Least Squares   F-statistic:                     74.55\n",
       "Date:                Sun, 09 Jun 2024   Prob (F-statistic):           3.67e-14\n",
       "Time:                        16:46:45   Log-Likelihood:                 146.29\n",
       "No. Observations:                 118   AIC:                            -288.6\n",
       "Df Residuals:                     116   BIC:                            -283.0\n",
       "Df Model:                           1                                         \n",
       "Covariance Type:            nonrobust                                         \n",
       "==============================================================================\n",
       "                 coef    std err          t      P>|t|      [0.025      0.975]\n",
       "------------------------------------------------------------------------------\n",
       "const          0.0129      0.007      1.943      0.054      -0.000       0.026\n",
       "market         1.2762      0.148      8.634      0.000       0.983       1.569\n",
       "==============================================================================\n",
       "Omnibus:                        3.383   Durbin-Watson:                   1.945\n",
       "Prob(Omnibus):                  0.184   Jarque-Bera (JB):                2.832\n",
       "Skew:                           0.286   Prob(JB):                        0.243\n",
       "Kurtosis:                       3.498   Cond. No.                         22.7\n",
       "==============================================================================\n",
       "\n",
       "Notes:\n",
       "[1] Standard Errors assume that the covariance matrix of the errors is correctly specified.\n",
       "\"\"\""
      ],
      "text/html": [
       "<table class=\"simpletable\">\n",
       "<caption>OLS Regression Results</caption>\n",
       "<tr>\n",
       "  <th>Dep. Variable:</th>          <td>asset</td>      <th>  R-squared:         </th> <td>   0.391</td>\n",
       "</tr>\n",
       "<tr>\n",
       "  <th>Model:</th>                   <td>OLS</td>       <th>  Adj. R-squared:    </th> <td>   0.386</td>\n",
       "</tr>\n",
       "<tr>\n",
       "  <th>Method:</th>             <td>Least Squares</td>  <th>  F-statistic:       </th> <td>   74.55</td>\n",
       "</tr>\n",
       "<tr>\n",
       "  <th>Date:</th>             <td>Sun, 09 Jun 2024</td> <th>  Prob (F-statistic):</th> <td>3.67e-14</td>\n",
       "</tr>\n",
       "<tr>\n",
       "  <th>Time:</th>                 <td>16:46:45</td>     <th>  Log-Likelihood:    </th> <td>  146.29</td>\n",
       "</tr>\n",
       "<tr>\n",
       "  <th>No. Observations:</th>      <td>   118</td>      <th>  AIC:               </th> <td>  -288.6</td>\n",
       "</tr>\n",
       "<tr>\n",
       "  <th>Df Residuals:</th>          <td>   116</td>      <th>  BIC:               </th> <td>  -283.0</td>\n",
       "</tr>\n",
       "<tr>\n",
       "  <th>Df Model:</th>              <td>     1</td>      <th>                     </th>     <td> </td>   \n",
       "</tr>\n",
       "<tr>\n",
       "  <th>Covariance Type:</th>      <td>nonrobust</td>    <th>                     </th>     <td> </td>   \n",
       "</tr>\n",
       "</table>\n",
       "<table class=\"simpletable\">\n",
       "<tr>\n",
       "     <td></td>       <th>coef</th>     <th>std err</th>      <th>t</th>      <th>P>|t|</th>  <th>[0.025</th>    <th>0.975]</th>  \n",
       "</tr>\n",
       "<tr>\n",
       "  <th>const</th>  <td>    0.0129</td> <td>    0.007</td> <td>    1.943</td> <td> 0.054</td> <td>   -0.000</td> <td>    0.026</td>\n",
       "</tr>\n",
       "<tr>\n",
       "  <th>market</th> <td>    1.2762</td> <td>    0.148</td> <td>    8.634</td> <td> 0.000</td> <td>    0.983</td> <td>    1.569</td>\n",
       "</tr>\n",
       "</table>\n",
       "<table class=\"simpletable\">\n",
       "<tr>\n",
       "  <th>Omnibus:</th>       <td> 3.383</td> <th>  Durbin-Watson:     </th> <td>   1.945</td>\n",
       "</tr>\n",
       "<tr>\n",
       "  <th>Prob(Omnibus):</th> <td> 0.184</td> <th>  Jarque-Bera (JB):  </th> <td>   2.832</td>\n",
       "</tr>\n",
       "<tr>\n",
       "  <th>Skew:</th>          <td> 0.286</td> <th>  Prob(JB):          </th> <td>   0.243</td>\n",
       "</tr>\n",
       "<tr>\n",
       "  <th>Kurtosis:</th>      <td> 3.498</td> <th>  Cond. No.          </th> <td>    22.7</td>\n",
       "</tr>\n",
       "</table><br/><br/>Notes:<br/>[1] Standard Errors assume that the covariance matrix of the errors is correctly specified."
      ],
      "text/latex": "\\begin{center}\n\\begin{tabular}{lclc}\n\\toprule\n\\textbf{Dep. Variable:}    &      asset       & \\textbf{  R-squared:         } &     0.391   \\\\\n\\textbf{Model:}            &       OLS        & \\textbf{  Adj. R-squared:    } &     0.386   \\\\\n\\textbf{Method:}           &  Least Squares   & \\textbf{  F-statistic:       } &     74.55   \\\\\n\\textbf{Date:}             & Sun, 09 Jun 2024 & \\textbf{  Prob (F-statistic):} &  3.67e-14   \\\\\n\\textbf{Time:}             &     16:46:45     & \\textbf{  Log-Likelihood:    } &    146.29   \\\\\n\\textbf{No. Observations:} &         118      & \\textbf{  AIC:               } &    -288.6   \\\\\n\\textbf{Df Residuals:}     &         116      & \\textbf{  BIC:               } &    -283.0   \\\\\n\\textbf{Df Model:}         &           1      & \\textbf{                     } &             \\\\\n\\textbf{Covariance Type:}  &    nonrobust     & \\textbf{                     } &             \\\\\n\\bottomrule\n\\end{tabular}\n\\begin{tabular}{lcccccc}\n                & \\textbf{coef} & \\textbf{std err} & \\textbf{t} & \\textbf{P$> |$t$|$} & \\textbf{[0.025} & \\textbf{0.975]}  \\\\\n\\midrule\n\\textbf{const}  &       0.0129  &        0.007     &     1.943  &         0.054        &       -0.000    &        0.026     \\\\\n\\textbf{market} &       1.2762  &        0.148     &     8.634  &         0.000        &        0.983    &        1.569     \\\\\n\\bottomrule\n\\end{tabular}\n\\begin{tabular}{lclc}\n\\textbf{Omnibus:}       &  3.383 & \\textbf{  Durbin-Watson:     } &    1.945  \\\\\n\\textbf{Prob(Omnibus):} &  0.184 & \\textbf{  Jarque-Bera (JB):  } &    2.832  \\\\\n\\textbf{Skew:}          &  0.286 & \\textbf{  Prob(JB):          } &    0.243  \\\\\n\\textbf{Kurtosis:}      &  3.498 & \\textbf{  Cond. No.          } &     22.7  \\\\\n\\bottomrule\n\\end{tabular}\n%\\caption{OLS Regression Results}\n\\end{center}\n\nNotes: \\newline\n [1] Standard Errors assume that the covariance matrix of the errors is correctly specified."
     },
     "execution_count": 15,
     "metadata": {},
     "output_type": "execute_result"
    }
   ],
   "execution_count": 15
  },
  {
   "cell_type": "markdown",
   "id": "6d74b82f",
   "metadata": {},
   "source": [
    "#### Inseriamo il risk free"
   ]
  },
  {
   "cell_type": "code",
   "id": "3280cd44",
   "metadata": {
    "ExecuteTime": {
     "end_time": "2024-06-09T14:46:45.436111Z",
     "start_time": "2024-06-09T14:46:45.422148Z"
    }
   },
   "source": [
    "risk_free = '^IRX'"
   ],
   "outputs": [],
   "execution_count": 16
  },
  {
   "cell_type": "code",
   "id": "aa66df3f",
   "metadata": {
    "ExecuteTime": {
     "end_time": "2024-06-09T14:46:45.652850Z",
     "start_time": "2024-06-09T14:46:45.437109Z"
    }
   },
   "source": [
    "df = yf.download([risky_asset, market_benchmark, risk_free],\n",
    "                       start = start_date, end = end_date)"
   ],
   "outputs": [
    {
     "name": "stderr",
     "output_type": "stream",
     "text": [
      "[*********************100%%**********************]  3 of 3 completed\n"
     ]
    }
   ],
   "execution_count": 17
  },
  {
   "cell_type": "code",
   "id": "df4d4902",
   "metadata": {
    "ExecuteTime": {
     "end_time": "2024-06-09T14:46:45.683301Z",
     "start_time": "2024-06-09T14:46:45.653819Z"
    }
   },
   "source": [
    "df.head()"
   ],
   "outputs": [
    {
     "data": {
      "text/plain": [
       "Price       Adj Close                          Close                      \\\n",
       "Ticker           AMZN        ^GSPC   ^IRX       AMZN        ^GSPC   ^IRX   \n",
       "Date                                                                       \n",
       "2014-06-02  15.442000  1924.969971  0.025  15.442000  1924.969971  0.025   \n",
       "2014-06-03  15.359500  1924.239990  0.030  15.359500  1924.239990  0.030   \n",
       "2014-06-04  15.339000  1927.880005  0.030  15.339000  1927.880005  0.030   \n",
       "2014-06-05  16.178499  1940.459961  0.030  16.178499  1940.459961  0.030   \n",
       "2014-06-06  16.483500  1949.439941  0.028  16.483500  1949.439941  0.028   \n",
       "\n",
       "Price            High                         Low                      \\\n",
       "Ticker           AMZN        ^GSPC  ^IRX     AMZN        ^GSPC   ^IRX   \n",
       "Date                                                                    \n",
       "2014-06-02  15.630000  1925.880005  0.03  15.3500  1915.979980  0.025   \n",
       "2014-06-03  15.396000  1925.069946  0.03  15.2535  1918.790039  0.030   \n",
       "2014-06-04  15.475000  1928.630005  0.03  15.1920  1918.599976  0.028   \n",
       "2014-06-05  16.396999  1941.739990  0.03  15.3450  1922.930054  0.028   \n",
       "2014-06-06  16.544001  1949.439941  0.03  16.2465  1942.410034  0.028   \n",
       "\n",
       "Price          Open                        Volume                   \n",
       "Ticker         AMZN        ^GSPC  ^IRX       AMZN       ^GSPC ^IRX  \n",
       "Date                                                                \n",
       "2014-06-02  15.6295  1923.869995  0.03   44068000  2509020000  0.0  \n",
       "2014-06-03  15.2875  1923.069946  0.03   47584000  2867180000  0.0  \n",
       "2014-06-04  15.3425  1923.060059  0.03   42142000  2793920000  0.0  \n",
       "2014-06-05  15.4050  1928.520020  0.03  155934000  3113270000  0.0  \n",
       "2014-06-06  16.2500  1942.410034  0.03  104880000  2864300000  0.0  "
      ],
      "text/html": [
       "<div>\n",
       "<style scoped>\n",
       "    .dataframe tbody tr th:only-of-type {\n",
       "        vertical-align: middle;\n",
       "    }\n",
       "\n",
       "    .dataframe tbody tr th {\n",
       "        vertical-align: top;\n",
       "    }\n",
       "\n",
       "    .dataframe thead tr th {\n",
       "        text-align: left;\n",
       "    }\n",
       "\n",
       "    .dataframe thead tr:last-of-type th {\n",
       "        text-align: right;\n",
       "    }\n",
       "</style>\n",
       "<table border=\"1\" class=\"dataframe\">\n",
       "  <thead>\n",
       "    <tr>\n",
       "      <th>Price</th>\n",
       "      <th colspan=\"3\" halign=\"left\">Adj Close</th>\n",
       "      <th colspan=\"3\" halign=\"left\">Close</th>\n",
       "      <th colspan=\"3\" halign=\"left\">High</th>\n",
       "      <th colspan=\"3\" halign=\"left\">Low</th>\n",
       "      <th colspan=\"3\" halign=\"left\">Open</th>\n",
       "      <th colspan=\"3\" halign=\"left\">Volume</th>\n",
       "    </tr>\n",
       "    <tr>\n",
       "      <th>Ticker</th>\n",
       "      <th>AMZN</th>\n",
       "      <th>^GSPC</th>\n",
       "      <th>^IRX</th>\n",
       "      <th>AMZN</th>\n",
       "      <th>^GSPC</th>\n",
       "      <th>^IRX</th>\n",
       "      <th>AMZN</th>\n",
       "      <th>^GSPC</th>\n",
       "      <th>^IRX</th>\n",
       "      <th>AMZN</th>\n",
       "      <th>^GSPC</th>\n",
       "      <th>^IRX</th>\n",
       "      <th>AMZN</th>\n",
       "      <th>^GSPC</th>\n",
       "      <th>^IRX</th>\n",
       "      <th>AMZN</th>\n",
       "      <th>^GSPC</th>\n",
       "      <th>^IRX</th>\n",
       "    </tr>\n",
       "    <tr>\n",
       "      <th>Date</th>\n",
       "      <th></th>\n",
       "      <th></th>\n",
       "      <th></th>\n",
       "      <th></th>\n",
       "      <th></th>\n",
       "      <th></th>\n",
       "      <th></th>\n",
       "      <th></th>\n",
       "      <th></th>\n",
       "      <th></th>\n",
       "      <th></th>\n",
       "      <th></th>\n",
       "      <th></th>\n",
       "      <th></th>\n",
       "      <th></th>\n",
       "      <th></th>\n",
       "      <th></th>\n",
       "      <th></th>\n",
       "    </tr>\n",
       "  </thead>\n",
       "  <tbody>\n",
       "    <tr>\n",
       "      <th>2014-06-02</th>\n",
       "      <td>15.442000</td>\n",
       "      <td>1924.969971</td>\n",
       "      <td>0.025</td>\n",
       "      <td>15.442000</td>\n",
       "      <td>1924.969971</td>\n",
       "      <td>0.025</td>\n",
       "      <td>15.630000</td>\n",
       "      <td>1925.880005</td>\n",
       "      <td>0.03</td>\n",
       "      <td>15.3500</td>\n",
       "      <td>1915.979980</td>\n",
       "      <td>0.025</td>\n",
       "      <td>15.6295</td>\n",
       "      <td>1923.869995</td>\n",
       "      <td>0.03</td>\n",
       "      <td>44068000</td>\n",
       "      <td>2509020000</td>\n",
       "      <td>0.0</td>\n",
       "    </tr>\n",
       "    <tr>\n",
       "      <th>2014-06-03</th>\n",
       "      <td>15.359500</td>\n",
       "      <td>1924.239990</td>\n",
       "      <td>0.030</td>\n",
       "      <td>15.359500</td>\n",
       "      <td>1924.239990</td>\n",
       "      <td>0.030</td>\n",
       "      <td>15.396000</td>\n",
       "      <td>1925.069946</td>\n",
       "      <td>0.03</td>\n",
       "      <td>15.2535</td>\n",
       "      <td>1918.790039</td>\n",
       "      <td>0.030</td>\n",
       "      <td>15.2875</td>\n",
       "      <td>1923.069946</td>\n",
       "      <td>0.03</td>\n",
       "      <td>47584000</td>\n",
       "      <td>2867180000</td>\n",
       "      <td>0.0</td>\n",
       "    </tr>\n",
       "    <tr>\n",
       "      <th>2014-06-04</th>\n",
       "      <td>15.339000</td>\n",
       "      <td>1927.880005</td>\n",
       "      <td>0.030</td>\n",
       "      <td>15.339000</td>\n",
       "      <td>1927.880005</td>\n",
       "      <td>0.030</td>\n",
       "      <td>15.475000</td>\n",
       "      <td>1928.630005</td>\n",
       "      <td>0.03</td>\n",
       "      <td>15.1920</td>\n",
       "      <td>1918.599976</td>\n",
       "      <td>0.028</td>\n",
       "      <td>15.3425</td>\n",
       "      <td>1923.060059</td>\n",
       "      <td>0.03</td>\n",
       "      <td>42142000</td>\n",
       "      <td>2793920000</td>\n",
       "      <td>0.0</td>\n",
       "    </tr>\n",
       "    <tr>\n",
       "      <th>2014-06-05</th>\n",
       "      <td>16.178499</td>\n",
       "      <td>1940.459961</td>\n",
       "      <td>0.030</td>\n",
       "      <td>16.178499</td>\n",
       "      <td>1940.459961</td>\n",
       "      <td>0.030</td>\n",
       "      <td>16.396999</td>\n",
       "      <td>1941.739990</td>\n",
       "      <td>0.03</td>\n",
       "      <td>15.3450</td>\n",
       "      <td>1922.930054</td>\n",
       "      <td>0.028</td>\n",
       "      <td>15.4050</td>\n",
       "      <td>1928.520020</td>\n",
       "      <td>0.03</td>\n",
       "      <td>155934000</td>\n",
       "      <td>3113270000</td>\n",
       "      <td>0.0</td>\n",
       "    </tr>\n",
       "    <tr>\n",
       "      <th>2014-06-06</th>\n",
       "      <td>16.483500</td>\n",
       "      <td>1949.439941</td>\n",
       "      <td>0.028</td>\n",
       "      <td>16.483500</td>\n",
       "      <td>1949.439941</td>\n",
       "      <td>0.028</td>\n",
       "      <td>16.544001</td>\n",
       "      <td>1949.439941</td>\n",
       "      <td>0.03</td>\n",
       "      <td>16.2465</td>\n",
       "      <td>1942.410034</td>\n",
       "      <td>0.028</td>\n",
       "      <td>16.2500</td>\n",
       "      <td>1942.410034</td>\n",
       "      <td>0.03</td>\n",
       "      <td>104880000</td>\n",
       "      <td>2864300000</td>\n",
       "      <td>0.0</td>\n",
       "    </tr>\n",
       "  </tbody>\n",
       "</table>\n",
       "</div>"
      ]
     },
     "execution_count": 18,
     "metadata": {},
     "output_type": "execute_result"
    }
   ],
   "execution_count": 18
  },
  {
   "cell_type": "code",
   "id": "d148fd5c",
   "metadata": {
    "ExecuteTime": {
     "end_time": "2024-06-09T14:46:45.731145Z",
     "start_time": "2024-06-09T14:46:45.684270Z"
    }
   },
   "source": [
    "X1 = df['Adj Close'].rename(columns={risky_asset:'asset', market_benchmark:'market', risk_free: 'risk_free'})\n"
   ],
   "outputs": [],
   "execution_count": 19
  },
  {
   "cell_type": "code",
   "id": "9afadf1e",
   "metadata": {
    "ExecuteTime": {
     "end_time": "2024-06-09T14:46:45.747126Z",
     "start_time": "2024-06-09T14:46:45.732143Z"
    }
   },
   "source": [
    "X1.head()"
   ],
   "outputs": [
    {
     "data": {
      "text/plain": [
       "Ticker          asset       market  risk_free\n",
       "Date                                         \n",
       "2014-06-02  15.442000  1924.969971      0.025\n",
       "2014-06-03  15.359500  1924.239990      0.030\n",
       "2014-06-04  15.339000  1927.880005      0.030\n",
       "2014-06-05  16.178499  1940.459961      0.030\n",
       "2014-06-06  16.483500  1949.439941      0.028"
      ],
      "text/html": [
       "<div>\n",
       "<style scoped>\n",
       "    .dataframe tbody tr th:only-of-type {\n",
       "        vertical-align: middle;\n",
       "    }\n",
       "\n",
       "    .dataframe tbody tr th {\n",
       "        vertical-align: top;\n",
       "    }\n",
       "\n",
       "    .dataframe thead th {\n",
       "        text-align: right;\n",
       "    }\n",
       "</style>\n",
       "<table border=\"1\" class=\"dataframe\">\n",
       "  <thead>\n",
       "    <tr style=\"text-align: right;\">\n",
       "      <th>Ticker</th>\n",
       "      <th>asset</th>\n",
       "      <th>market</th>\n",
       "      <th>risk_free</th>\n",
       "    </tr>\n",
       "    <tr>\n",
       "      <th>Date</th>\n",
       "      <th></th>\n",
       "      <th></th>\n",
       "      <th></th>\n",
       "    </tr>\n",
       "  </thead>\n",
       "  <tbody>\n",
       "    <tr>\n",
       "      <th>2014-06-02</th>\n",
       "      <td>15.442000</td>\n",
       "      <td>1924.969971</td>\n",
       "      <td>0.025</td>\n",
       "    </tr>\n",
       "    <tr>\n",
       "      <th>2014-06-03</th>\n",
       "      <td>15.359500</td>\n",
       "      <td>1924.239990</td>\n",
       "      <td>0.030</td>\n",
       "    </tr>\n",
       "    <tr>\n",
       "      <th>2014-06-04</th>\n",
       "      <td>15.339000</td>\n",
       "      <td>1927.880005</td>\n",
       "      <td>0.030</td>\n",
       "    </tr>\n",
       "    <tr>\n",
       "      <th>2014-06-05</th>\n",
       "      <td>16.178499</td>\n",
       "      <td>1940.459961</td>\n",
       "      <td>0.030</td>\n",
       "    </tr>\n",
       "    <tr>\n",
       "      <th>2014-06-06</th>\n",
       "      <td>16.483500</td>\n",
       "      <td>1949.439941</td>\n",
       "      <td>0.028</td>\n",
       "    </tr>\n",
       "  </tbody>\n",
       "</table>\n",
       "</div>"
      ]
     },
     "execution_count": 20,
     "metadata": {},
     "output_type": "execute_result"
    }
   ],
   "execution_count": 20
  },
  {
   "cell_type": "code",
   "id": "6db78373",
   "metadata": {
    "ExecuteTime": {
     "end_time": "2024-06-09T14:46:45.763083Z",
     "start_time": "2024-06-09T14:46:45.748101Z"
    }
   },
   "source": [
    "X1 = X1.resample('ME').last()\n",
    "X1"
   ],
   "outputs": [
    {
     "data": {
      "text/plain": [
       "Ticker           asset       market  risk_free\n",
       "Date                                          \n",
       "2014-06-30   16.239000  1960.229980      0.020\n",
       "2014-07-31   15.649500  1930.670044      0.018\n",
       "2014-08-31   16.952000  2003.369995      0.018\n",
       "2014-09-30   16.122000  1972.290039      0.013\n",
       "2014-10-31   15.273000  2018.050049      0.003\n",
       "...                ...          ...        ...\n",
       "2023-12-31  151.940002  4769.830078      5.180\n",
       "2024-01-31  155.199997  4845.649902      5.188\n",
       "2024-02-29  176.759995  5096.270020      5.223\n",
       "2024-03-31  180.380005  5254.350098      5.203\n",
       "2024-04-30  180.960007  5116.169922      5.243\n",
       "\n",
       "[119 rows x 3 columns]"
      ],
      "text/html": [
       "<div>\n",
       "<style scoped>\n",
       "    .dataframe tbody tr th:only-of-type {\n",
       "        vertical-align: middle;\n",
       "    }\n",
       "\n",
       "    .dataframe tbody tr th {\n",
       "        vertical-align: top;\n",
       "    }\n",
       "\n",
       "    .dataframe thead th {\n",
       "        text-align: right;\n",
       "    }\n",
       "</style>\n",
       "<table border=\"1\" class=\"dataframe\">\n",
       "  <thead>\n",
       "    <tr style=\"text-align: right;\">\n",
       "      <th>Ticker</th>\n",
       "      <th>asset</th>\n",
       "      <th>market</th>\n",
       "      <th>risk_free</th>\n",
       "    </tr>\n",
       "    <tr>\n",
       "      <th>Date</th>\n",
       "      <th></th>\n",
       "      <th></th>\n",
       "      <th></th>\n",
       "    </tr>\n",
       "  </thead>\n",
       "  <tbody>\n",
       "    <tr>\n",
       "      <th>2014-06-30</th>\n",
       "      <td>16.239000</td>\n",
       "      <td>1960.229980</td>\n",
       "      <td>0.020</td>\n",
       "    </tr>\n",
       "    <tr>\n",
       "      <th>2014-07-31</th>\n",
       "      <td>15.649500</td>\n",
       "      <td>1930.670044</td>\n",
       "      <td>0.018</td>\n",
       "    </tr>\n",
       "    <tr>\n",
       "      <th>2014-08-31</th>\n",
       "      <td>16.952000</td>\n",
       "      <td>2003.369995</td>\n",
       "      <td>0.018</td>\n",
       "    </tr>\n",
       "    <tr>\n",
       "      <th>2014-09-30</th>\n",
       "      <td>16.122000</td>\n",
       "      <td>1972.290039</td>\n",
       "      <td>0.013</td>\n",
       "    </tr>\n",
       "    <tr>\n",
       "      <th>2014-10-31</th>\n",
       "      <td>15.273000</td>\n",
       "      <td>2018.050049</td>\n",
       "      <td>0.003</td>\n",
       "    </tr>\n",
       "    <tr>\n",
       "      <th>...</th>\n",
       "      <td>...</td>\n",
       "      <td>...</td>\n",
       "      <td>...</td>\n",
       "    </tr>\n",
       "    <tr>\n",
       "      <th>2023-12-31</th>\n",
       "      <td>151.940002</td>\n",
       "      <td>4769.830078</td>\n",
       "      <td>5.180</td>\n",
       "    </tr>\n",
       "    <tr>\n",
       "      <th>2024-01-31</th>\n",
       "      <td>155.199997</td>\n",
       "      <td>4845.649902</td>\n",
       "      <td>5.188</td>\n",
       "    </tr>\n",
       "    <tr>\n",
       "      <th>2024-02-29</th>\n",
       "      <td>176.759995</td>\n",
       "      <td>5096.270020</td>\n",
       "      <td>5.223</td>\n",
       "    </tr>\n",
       "    <tr>\n",
       "      <th>2024-03-31</th>\n",
       "      <td>180.380005</td>\n",
       "      <td>5254.350098</td>\n",
       "      <td>5.203</td>\n",
       "    </tr>\n",
       "    <tr>\n",
       "      <th>2024-04-30</th>\n",
       "      <td>180.960007</td>\n",
       "      <td>5116.169922</td>\n",
       "      <td>5.243</td>\n",
       "    </tr>\n",
       "  </tbody>\n",
       "</table>\n",
       "<p>119 rows × 3 columns</p>\n",
       "</div>"
      ]
     },
     "execution_count": 21,
     "metadata": {},
     "output_type": "execute_result"
    }
   ],
   "execution_count": 21
  },
  {
   "cell_type": "code",
   "id": "a847436b",
   "metadata": {
    "ExecuteTime": {
     "end_time": "2024-06-09T14:46:46.184933Z",
     "start_time": "2024-06-09T14:46:45.764057Z"
    }
   },
   "source": [
    "plt.plot(X1['risk_free'])\n",
    "plt.grid()"
   ],
   "outputs": [
    {
     "data": {
      "text/plain": [
       "<Figure size 640x480 with 1 Axes>"
      ],
      "image/png": "[encoded data removed]"
     },
     "metadata": {},
     "output_type": "display_data"
    }
   ],
   "execution_count": 22
  },
  {
   "cell_type": "code",
   "id": "df458258",
   "metadata": {
    "ExecuteTime": {
     "end_time": "2024-06-09T14:46:46.201015Z",
     "start_time": "2024-06-09T14:46:46.187924Z"
    }
   },
   "source": [
    "X1['mrf'] = (1 + X1['risk_free']/100)**(30/360) - 1"
   ],
   "outputs": [],
   "execution_count": 23
  },
  {
   "cell_type": "code",
   "id": "e24d5239",
   "metadata": {
    "ExecuteTime": {
     "end_time": "2024-06-09T14:46:46.216007Z",
     "start_time": "2024-06-09T14:46:46.202023Z"
    }
   },
   "source": [
    "X1[50:70]"
   ],
   "outputs": [
    {
     "data": {
      "text/plain": [
       "Ticker           asset       market  risk_free       mrf\n",
       "Date                                                    \n",
       "2018-08-31  100.635498  2901.520020      2.055  0.001697\n",
       "2018-09-30  100.150002  2913.979980      2.150  0.001774\n",
       "2018-10-31   79.900497  2711.739990      2.278  0.001879\n",
       "2018-11-30   84.508499  2760.169922      2.308  0.001903\n",
       "2018-12-31   75.098503  2506.850098      2.300  0.001897\n",
       "2019-01-31   85.936501  2704.100098      2.340  0.001929\n",
       "2019-02-28   81.991501  2784.489990      2.383  0.001964\n",
       "2019-03-31   89.037498  2834.399902      2.328  0.001920\n",
       "2019-04-30   96.325996  2945.830078      2.368  0.001952\n",
       "2019-05-31   88.753502  2752.060059      2.293  0.001891\n",
       "2019-06-30   94.681503  2941.760010      2.035  0.001680\n",
       "2019-07-31   93.338997  2980.379883      2.030  0.001676\n",
       "2019-08-31   88.814499  2926.459961      1.933  0.001597\n",
       "2019-09-30   86.795502  2976.739990      1.770  0.001463\n",
       "2019-10-31   88.833000  3037.560059      1.498  0.001240\n",
       "2019-11-30   90.040001  3140.979980      1.540  0.001274\n",
       "2019-12-31   92.391998  3230.780029      1.505  0.001246\n",
       "2020-01-31  100.435997  3225.520020      1.510  0.001250\n",
       "2020-02-29   94.187500  2954.219971      1.230  0.001019\n",
       "2020-03-31   97.486000  2584.590088      0.030  0.000025"
      ],
      "text/html": [
       "<div>\n",
       "<style scoped>\n",
       "    .dataframe tbody tr th:only-of-type {\n",
       "        vertical-align: middle;\n",
       "    }\n",
       "\n",
       "    .dataframe tbody tr th {\n",
       "        vertical-align: top;\n",
       "    }\n",
       "\n",
       "    .dataframe thead th {\n",
       "        text-align: right;\n",
       "    }\n",
       "</style>\n",
       "<table border=\"1\" class=\"dataframe\">\n",
       "  <thead>\n",
       "    <tr style=\"text-align: right;\">\n",
       "      <th>Ticker</th>\n",
       "      <th>asset</th>\n",
       "      <th>market</th>\n",
       "      <th>risk_free</th>\n",
       "      <th>mrf</th>\n",
       "    </tr>\n",
       "    <tr>\n",
       "      <th>Date</th>\n",
       "      <th></th>\n",
       "      <th></th>\n",
       "      <th></th>\n",
       "      <th></th>\n",
       "    </tr>\n",
       "  </thead>\n",
       "  <tbody>\n",
       "    <tr>\n",
       "      <th>2018-08-31</th>\n",
       "      <td>100.635498</td>\n",
       "      <td>2901.520020</td>\n",
       "      <td>2.055</td>\n",
       "      <td>0.001697</td>\n",
       "    </tr>\n",
       "    <tr>\n",
       "      <th>2018-09-30</th>\n",
       "      <td>100.150002</td>\n",
       "      <td>2913.979980</td>\n",
       "      <td>2.150</td>\n",
       "      <td>0.001774</td>\n",
       "    </tr>\n",
       "    <tr>\n",
       "      <th>2018-10-31</th>\n",
       "      <td>79.900497</td>\n",
       "      <td>2711.739990</td>\n",
       "      <td>2.278</td>\n",
       "      <td>0.001879</td>\n",
       "    </tr>\n",
       "    <tr>\n",
       "      <th>2018-11-30</th>\n",
       "      <td>84.508499</td>\n",
       "      <td>2760.169922</td>\n",
       "      <td>2.308</td>\n",
       "      <td>0.001903</td>\n",
       "    </tr>\n",
       "    <tr>\n",
       "      <th>2018-12-31</th>\n",
       "      <td>75.098503</td>\n",
       "      <td>2506.850098</td>\n",
       "      <td>2.300</td>\n",
       "      <td>0.001897</td>\n",
       "    </tr>\n",
       "    <tr>\n",
       "      <th>2019-01-31</th>\n",
       "      <td>85.936501</td>\n",
       "      <td>2704.100098</td>\n",
       "      <td>2.340</td>\n",
       "      <td>0.001929</td>\n",
       "    </tr>\n",
       "    <tr>\n",
       "      <th>2019-02-28</th>\n",
       "      <td>81.991501</td>\n",
       "      <td>2784.489990</td>\n",
       "      <td>2.383</td>\n",
       "      <td>0.001964</td>\n",
       "    </tr>\n",
       "    <tr>\n",
       "      <th>2019-03-31</th>\n",
       "      <td>89.037498</td>\n",
       "      <td>2834.399902</td>\n",
       "      <td>2.328</td>\n",
       "      <td>0.001920</td>\n",
       "    </tr>\n",
       "    <tr>\n",
       "      <th>2019-04-30</th>\n",
       "      <td>96.325996</td>\n",
       "      <td>2945.830078</td>\n",
       "      <td>2.368</td>\n",
       "      <td>0.001952</td>\n",
       "    </tr>\n",
       "    <tr>\n",
       "      <th>2019-05-31</th>\n",
       "      <td>88.753502</td>\n",
       "      <td>2752.060059</td>\n",
       "      <td>2.293</td>\n",
       "      <td>0.001891</td>\n",
       "    </tr>\n",
       "    <tr>\n",
       "      <th>2019-06-30</th>\n",
       "      <td>94.681503</td>\n",
       "      <td>2941.760010</td>\n",
       "      <td>2.035</td>\n",
       "      <td>0.001680</td>\n",
       "    </tr>\n",
       "    <tr>\n",
       "      <th>2019-07-31</th>\n",
       "      <td>93.338997</td>\n",
       "      <td>2980.379883</td>\n",
       "      <td>2.030</td>\n",
       "      <td>0.001676</td>\n",
       "    </tr>\n",
       "    <tr>\n",
       "      <th>2019-08-31</th>\n",
       "      <td>88.814499</td>\n",
       "      <td>2926.459961</td>\n",
       "      <td>1.933</td>\n",
       "      <td>0.001597</td>\n",
       "    </tr>\n",
       "    <tr>\n",
       "      <th>2019-09-30</th>\n",
       "      <td>86.795502</td>\n",
       "      <td>2976.739990</td>\n",
       "      <td>1.770</td>\n",
       "      <td>0.001463</td>\n",
       "    </tr>\n",
       "    <tr>\n",
       "      <th>2019-10-31</th>\n",
       "      <td>88.833000</td>\n",
       "      <td>3037.560059</td>\n",
       "      <td>1.498</td>\n",
       "      <td>0.001240</td>\n",
       "    </tr>\n",
       "    <tr>\n",
       "      <th>2019-11-30</th>\n",
       "      <td>90.040001</td>\n",
       "      <td>3140.979980</td>\n",
       "      <td>1.540</td>\n",
       "      <td>0.001274</td>\n",
       "    </tr>\n",
       "    <tr>\n",
       "      <th>2019-12-31</th>\n",
       "      <td>92.391998</td>\n",
       "      <td>3230.780029</td>\n",
       "      <td>1.505</td>\n",
       "      <td>0.001246</td>\n",
       "    </tr>\n",
       "    <tr>\n",
       "      <th>2020-01-31</th>\n",
       "      <td>100.435997</td>\n",
       "      <td>3225.520020</td>\n",
       "      <td>1.510</td>\n",
       "      <td>0.001250</td>\n",
       "    </tr>\n",
       "    <tr>\n",
       "      <th>2020-02-29</th>\n",
       "      <td>94.187500</td>\n",
       "      <td>2954.219971</td>\n",
       "      <td>1.230</td>\n",
       "      <td>0.001019</td>\n",
       "    </tr>\n",
       "    <tr>\n",
       "      <th>2020-03-31</th>\n",
       "      <td>97.486000</td>\n",
       "      <td>2584.590088</td>\n",
       "      <td>0.030</td>\n",
       "      <td>0.000025</td>\n",
       "    </tr>\n",
       "  </tbody>\n",
       "</table>\n",
       "</div>"
      ]
     },
     "execution_count": 24,
     "metadata": {},
     "output_type": "execute_result"
    }
   ],
   "execution_count": 24
  },
  {
   "cell_type": "code",
   "id": "a19feb27-796f-46e2-bf9b-b8e87fe6ff74",
   "metadata": {
    "ExecuteTime": {
     "end_time": "2024-06-09T14:46:46.231937Z",
     "start_time": "2024-06-09T14:46:46.216978Z"
    }
   },
   "source": [
    "X1.tail()"
   ],
   "outputs": [
    {
     "data": {
      "text/plain": [
       "Ticker           asset       market  risk_free       mrf\n",
       "Date                                                    \n",
       "2023-12-31  151.940002  4769.830078      5.180  0.004217\n",
       "2024-01-31  155.199997  4845.649902      5.188  0.004224\n",
       "2024-02-29  176.759995  5096.270020      5.223  0.004252\n",
       "2024-03-31  180.380005  5254.350098      5.203  0.004236\n",
       "2024-04-30  180.960007  5116.169922      5.243  0.004268"
      ],
      "text/html": [
       "<div>\n",
       "<style scoped>\n",
       "    .dataframe tbody tr th:only-of-type {\n",
       "        vertical-align: middle;\n",
       "    }\n",
       "\n",
       "    .dataframe tbody tr th {\n",
       "        vertical-align: top;\n",
       "    }\n",
       "\n",
       "    .dataframe thead th {\n",
       "        text-align: right;\n",
       "    }\n",
       "</style>\n",
       "<table border=\"1\" class=\"dataframe\">\n",
       "  <thead>\n",
       "    <tr style=\"text-align: right;\">\n",
       "      <th>Ticker</th>\n",
       "      <th>asset</th>\n",
       "      <th>market</th>\n",
       "      <th>risk_free</th>\n",
       "      <th>mrf</th>\n",
       "    </tr>\n",
       "    <tr>\n",
       "      <th>Date</th>\n",
       "      <th></th>\n",
       "      <th></th>\n",
       "      <th></th>\n",
       "      <th></th>\n",
       "    </tr>\n",
       "  </thead>\n",
       "  <tbody>\n",
       "    <tr>\n",
       "      <th>2023-12-31</th>\n",
       "      <td>151.940002</td>\n",
       "      <td>4769.830078</td>\n",
       "      <td>5.180</td>\n",
       "      <td>0.004217</td>\n",
       "    </tr>\n",
       "    <tr>\n",
       "      <th>2024-01-31</th>\n",
       "      <td>155.199997</td>\n",
       "      <td>4845.649902</td>\n",
       "      <td>5.188</td>\n",
       "      <td>0.004224</td>\n",
       "    </tr>\n",
       "    <tr>\n",
       "      <th>2024-02-29</th>\n",
       "      <td>176.759995</td>\n",
       "      <td>5096.270020</td>\n",
       "      <td>5.223</td>\n",
       "      <td>0.004252</td>\n",
       "    </tr>\n",
       "    <tr>\n",
       "      <th>2024-03-31</th>\n",
       "      <td>180.380005</td>\n",
       "      <td>5254.350098</td>\n",
       "      <td>5.203</td>\n",
       "      <td>0.004236</td>\n",
       "    </tr>\n",
       "    <tr>\n",
       "      <th>2024-04-30</th>\n",
       "      <td>180.960007</td>\n",
       "      <td>5116.169922</td>\n",
       "      <td>5.243</td>\n",
       "      <td>0.004268</td>\n",
       "    </tr>\n",
       "  </tbody>\n",
       "</table>\n",
       "</div>"
      ]
     },
     "execution_count": 25,
     "metadata": {},
     "output_type": "execute_result"
    }
   ],
   "execution_count": 25
  },
  {
   "cell_type": "code",
   "id": "283628b1",
   "metadata": {
    "ExecuteTime": {
     "end_time": "2024-06-09T14:46:46.373195Z",
     "start_time": "2024-06-09T14:46:46.364573Z"
    }
   },
   "source": [
    "X1['asset_nmr'] = X1['asset'].pct_change() - X1['mrf']"
   ],
   "outputs": [],
   "execution_count": 26
  },
  {
   "cell_type": "code",
   "id": "9dc0485d",
   "metadata": {
    "ExecuteTime": {
     "end_time": "2024-06-09T14:46:47.760823Z",
     "start_time": "2024-06-09T14:46:47.751808Z"
    }
   },
   "source": [
    "X1['market_nmr'] = X1['market'].pct_change() - X1['mrf']"
   ],
   "outputs": [],
   "execution_count": 27
  },
  {
   "cell_type": "code",
   "id": "53fa9c5c",
   "metadata": {
    "ExecuteTime": {
     "end_time": "2024-06-09T14:46:48.485392Z",
     "start_time": "2024-06-09T14:46:48.471927Z"
    }
   },
   "source": [
    "X1.head()"
   ],
   "outputs": [
    {
     "data": {
      "text/plain": [
       "Ticker        asset       market  risk_free       mrf  asset_nmr  market_nmr\n",
       "Date                                                                        \n",
       "2014-06-30  16.2390  1960.229980      0.020  0.000017        NaN         NaN\n",
       "2014-07-31  15.6495  1930.670044      0.018  0.000015  -0.036317   -0.015095\n",
       "2014-08-31  16.9520  2003.369995      0.018  0.000015   0.083214    0.037640\n",
       "2014-09-30  16.1220  1972.290039      0.013  0.000011  -0.048973   -0.015525\n",
       "2014-10-31  15.2730  2018.050049      0.003  0.000002  -0.052663    0.023199"
      ],
      "text/html": [
       "<div>\n",
       "<style scoped>\n",
       "    .dataframe tbody tr th:only-of-type {\n",
       "        vertical-align: middle;\n",
       "    }\n",
       "\n",
       "    .dataframe tbody tr th {\n",
       "        vertical-align: top;\n",
       "    }\n",
       "\n",
       "    .dataframe thead th {\n",
       "        text-align: right;\n",
       "    }\n",
       "</style>\n",
       "<table border=\"1\" class=\"dataframe\">\n",
       "  <thead>\n",
       "    <tr style=\"text-align: right;\">\n",
       "      <th>Ticker</th>\n",
       "      <th>asset</th>\n",
       "      <th>market</th>\n",
       "      <th>risk_free</th>\n",
       "      <th>mrf</th>\n",
       "      <th>asset_nmr</th>\n",
       "      <th>market_nmr</th>\n",
       "    </tr>\n",
       "    <tr>\n",
       "      <th>Date</th>\n",
       "      <th></th>\n",
       "      <th></th>\n",
       "      <th></th>\n",
       "      <th></th>\n",
       "      <th></th>\n",
       "      <th></th>\n",
       "    </tr>\n",
       "  </thead>\n",
       "  <tbody>\n",
       "    <tr>\n",
       "      <th>2014-06-30</th>\n",
       "      <td>16.2390</td>\n",
       "      <td>1960.229980</td>\n",
       "      <td>0.020</td>\n",
       "      <td>0.000017</td>\n",
       "      <td>NaN</td>\n",
       "      <td>NaN</td>\n",
       "    </tr>\n",
       "    <tr>\n",
       "      <th>2014-07-31</th>\n",
       "      <td>15.6495</td>\n",
       "      <td>1930.670044</td>\n",
       "      <td>0.018</td>\n",
       "      <td>0.000015</td>\n",
       "      <td>-0.036317</td>\n",
       "      <td>-0.015095</td>\n",
       "    </tr>\n",
       "    <tr>\n",
       "      <th>2014-08-31</th>\n",
       "      <td>16.9520</td>\n",
       "      <td>2003.369995</td>\n",
       "      <td>0.018</td>\n",
       "      <td>0.000015</td>\n",
       "      <td>0.083214</td>\n",
       "      <td>0.037640</td>\n",
       "    </tr>\n",
       "    <tr>\n",
       "      <th>2014-09-30</th>\n",
       "      <td>16.1220</td>\n",
       "      <td>1972.290039</td>\n",
       "      <td>0.013</td>\n",
       "      <td>0.000011</td>\n",
       "      <td>-0.048973</td>\n",
       "      <td>-0.015525</td>\n",
       "    </tr>\n",
       "    <tr>\n",
       "      <th>2014-10-31</th>\n",
       "      <td>15.2730</td>\n",
       "      <td>2018.050049</td>\n",
       "      <td>0.003</td>\n",
       "      <td>0.000002</td>\n",
       "      <td>-0.052663</td>\n",
       "      <td>0.023199</td>\n",
       "    </tr>\n",
       "  </tbody>\n",
       "</table>\n",
       "</div>"
      ]
     },
     "execution_count": 28,
     "metadata": {},
     "output_type": "execute_result"
    }
   ],
   "execution_count": 28
  },
  {
   "cell_type": "code",
   "id": "43c6e012",
   "metadata": {
    "ExecuteTime": {
     "end_time": "2024-06-09T14:46:48.862679Z",
     "start_time": "2024-06-09T14:46:48.848596Z"
    }
   },
   "source": [
    "X1.tail()"
   ],
   "outputs": [
    {
     "data": {
      "text/plain": [
       "Ticker           asset       market  risk_free       mrf  asset_nmr  \\\n",
       "Date                                                                  \n",
       "2023-12-31  151.940002  4769.830078      5.180  0.004217   0.035826   \n",
       "2024-01-31  155.199997  4845.649902      5.188  0.004224   0.017232   \n",
       "2024-02-29  176.759995  5096.270020      5.223  0.004252   0.134666   \n",
       "2024-03-31  180.380005  5254.350098      5.203  0.004236   0.016244   \n",
       "2024-04-30  180.960007  5116.169922      5.243  0.004268  -0.001052   \n",
       "\n",
       "Ticker      market_nmr  \n",
       "Date                    \n",
       "2023-12-31    0.040012  \n",
       "2024-01-31    0.011672  \n",
       "2024-02-29    0.047469  \n",
       "2024-03-31    0.026783  \n",
       "2024-04-30   -0.030566  "
      ],
      "text/html": [
       "<div>\n",
       "<style scoped>\n",
       "    .dataframe tbody tr th:only-of-type {\n",
       "        vertical-align: middle;\n",
       "    }\n",
       "\n",
       "    .dataframe tbody tr th {\n",
       "        vertical-align: top;\n",
       "    }\n",
       "\n",
       "    .dataframe thead th {\n",
       "        text-align: right;\n",
       "    }\n",
       "</style>\n",
       "<table border=\"1\" class=\"dataframe\">\n",
       "  <thead>\n",
       "    <tr style=\"text-align: right;\">\n",
       "      <th>Ticker</th>\n",
       "      <th>asset</th>\n",
       "      <th>market</th>\n",
       "      <th>risk_free</th>\n",
       "      <th>mrf</th>\n",
       "      <th>asset_nmr</th>\n",
       "      <th>market_nmr</th>\n",
       "    </tr>\n",
       "    <tr>\n",
       "      <th>Date</th>\n",
       "      <th></th>\n",
       "      <th></th>\n",
       "      <th></th>\n",
       "      <th></th>\n",
       "      <th></th>\n",
       "      <th></th>\n",
       "    </tr>\n",
       "  </thead>\n",
       "  <tbody>\n",
       "    <tr>\n",
       "      <th>2023-12-31</th>\n",
       "      <td>151.940002</td>\n",
       "      <td>4769.830078</td>\n",
       "      <td>5.180</td>\n",
       "      <td>0.004217</td>\n",
       "      <td>0.035826</td>\n",
       "      <td>0.040012</td>\n",
       "    </tr>\n",
       "    <tr>\n",
       "      <th>2024-01-31</th>\n",
       "      <td>155.199997</td>\n",
       "      <td>4845.649902</td>\n",
       "      <td>5.188</td>\n",
       "      <td>0.004224</td>\n",
       "      <td>0.017232</td>\n",
       "      <td>0.011672</td>\n",
       "    </tr>\n",
       "    <tr>\n",
       "      <th>2024-02-29</th>\n",
       "      <td>176.759995</td>\n",
       "      <td>5096.270020</td>\n",
       "      <td>5.223</td>\n",
       "      <td>0.004252</td>\n",
       "      <td>0.134666</td>\n",
       "      <td>0.047469</td>\n",
       "    </tr>\n",
       "    <tr>\n",
       "      <th>2024-03-31</th>\n",
       "      <td>180.380005</td>\n",
       "      <td>5254.350098</td>\n",
       "      <td>5.203</td>\n",
       "      <td>0.004236</td>\n",
       "      <td>0.016244</td>\n",
       "      <td>0.026783</td>\n",
       "    </tr>\n",
       "    <tr>\n",
       "      <th>2024-04-30</th>\n",
       "      <td>180.960007</td>\n",
       "      <td>5116.169922</td>\n",
       "      <td>5.243</td>\n",
       "      <td>0.004268</td>\n",
       "      <td>-0.001052</td>\n",
       "      <td>-0.030566</td>\n",
       "    </tr>\n",
       "  </tbody>\n",
       "</table>\n",
       "</div>"
      ]
     },
     "execution_count": 29,
     "metadata": {},
     "output_type": "execute_result"
    }
   ],
   "execution_count": 29
  },
  {
   "cell_type": "code",
   "id": "589681bc",
   "metadata": {
    "ExecuteTime": {
     "end_time": "2024-06-09T14:46:49.004966Z",
     "start_time": "2024-06-09T14:46:48.994966Z"
    }
   },
   "source": [
    "X1.dropna(inplace=True)"
   ],
   "outputs": [],
   "execution_count": 30
  },
  {
   "cell_type": "code",
   "id": "3c9e7c64",
   "metadata": {
    "ExecuteTime": {
     "end_time": "2024-06-09T14:46:49.225927Z",
     "start_time": "2024-06-09T14:46:49.213855Z"
    }
   },
   "source": [
    "X1.head()"
   ],
   "outputs": [
    {
     "data": {
      "text/plain": [
       "Ticker          asset       market  risk_free       mrf  asset_nmr  market_nmr\n",
       "Date                                                                          \n",
       "2014-07-31  15.649500  1930.670044      0.018  0.000015  -0.036317   -0.015095\n",
       "2014-08-31  16.952000  2003.369995      0.018  0.000015   0.083214    0.037640\n",
       "2014-09-30  16.122000  1972.290039      0.013  0.000011  -0.048973   -0.015525\n",
       "2014-10-31  15.273000  2018.050049      0.003  0.000002  -0.052663    0.023199\n",
       "2014-11-30  16.931999  2067.560059      0.005  0.000004   0.108619    0.024529"
      ],
      "text/html": [
       "<div>\n",
       "<style scoped>\n",
       "    .dataframe tbody tr th:only-of-type {\n",
       "        vertical-align: middle;\n",
       "    }\n",
       "\n",
       "    .dataframe tbody tr th {\n",
       "        vertical-align: top;\n",
       "    }\n",
       "\n",
       "    .dataframe thead th {\n",
       "        text-align: right;\n",
       "    }\n",
       "</style>\n",
       "<table border=\"1\" class=\"dataframe\">\n",
       "  <thead>\n",
       "    <tr style=\"text-align: right;\">\n",
       "      <th>Ticker</th>\n",
       "      <th>asset</th>\n",
       "      <th>market</th>\n",
       "      <th>risk_free</th>\n",
       "      <th>mrf</th>\n",
       "      <th>asset_nmr</th>\n",
       "      <th>market_nmr</th>\n",
       "    </tr>\n",
       "    <tr>\n",
       "      <th>Date</th>\n",
       "      <th></th>\n",
       "      <th></th>\n",
       "      <th></th>\n",
       "      <th></th>\n",
       "      <th></th>\n",
       "      <th></th>\n",
       "    </tr>\n",
       "  </thead>\n",
       "  <tbody>\n",
       "    <tr>\n",
       "      <th>2014-07-31</th>\n",
       "      <td>15.649500</td>\n",
       "      <td>1930.670044</td>\n",
       "      <td>0.018</td>\n",
       "      <td>0.000015</td>\n",
       "      <td>-0.036317</td>\n",
       "      <td>-0.015095</td>\n",
       "    </tr>\n",
       "    <tr>\n",
       "      <th>2014-08-31</th>\n",
       "      <td>16.952000</td>\n",
       "      <td>2003.369995</td>\n",
       "      <td>0.018</td>\n",
       "      <td>0.000015</td>\n",
       "      <td>0.083214</td>\n",
       "      <td>0.037640</td>\n",
       "    </tr>\n",
       "    <tr>\n",
       "      <th>2014-09-30</th>\n",
       "      <td>16.122000</td>\n",
       "      <td>1972.290039</td>\n",
       "      <td>0.013</td>\n",
       "      <td>0.000011</td>\n",
       "      <td>-0.048973</td>\n",
       "      <td>-0.015525</td>\n",
       "    </tr>\n",
       "    <tr>\n",
       "      <th>2014-10-31</th>\n",
       "      <td>15.273000</td>\n",
       "      <td>2018.050049</td>\n",
       "      <td>0.003</td>\n",
       "      <td>0.000002</td>\n",
       "      <td>-0.052663</td>\n",
       "      <td>0.023199</td>\n",
       "    </tr>\n",
       "    <tr>\n",
       "      <th>2014-11-30</th>\n",
       "      <td>16.931999</td>\n",
       "      <td>2067.560059</td>\n",
       "      <td>0.005</td>\n",
       "      <td>0.000004</td>\n",
       "      <td>0.108619</td>\n",
       "      <td>0.024529</td>\n",
       "    </tr>\n",
       "  </tbody>\n",
       "</table>\n",
       "</div>"
      ]
     },
     "execution_count": 31,
     "metadata": {},
     "output_type": "execute_result"
    }
   ],
   "execution_count": 31
  },
  {
   "cell_type": "code",
   "id": "735ce6ad",
   "metadata": {
    "ExecuteTime": {
     "end_time": "2024-06-09T14:46:49.430876Z",
     "start_time": "2024-06-09T14:46:49.415916Z"
    }
   },
   "source": [
    "X2 = X1[['asset_nmr', 'market_nmr']]"
   ],
   "outputs": [],
   "execution_count": 32
  },
  {
   "cell_type": "code",
   "id": "3c5a14ea",
   "metadata": {
    "ExecuteTime": {
     "end_time": "2024-06-09T14:46:49.743435Z",
     "start_time": "2024-06-09T14:46:49.732935Z"
    }
   },
   "source": [
    "X2.head()"
   ],
   "outputs": [
    {
     "data": {
      "text/plain": [
       "Ticker      asset_nmr  market_nmr\n",
       "Date                             \n",
       "2014-07-31  -0.036317   -0.015095\n",
       "2014-08-31   0.083214    0.037640\n",
       "2014-09-30  -0.048973   -0.015525\n",
       "2014-10-31  -0.052663    0.023199\n",
       "2014-11-30   0.108619    0.024529"
      ],
      "text/html": [
       "<div>\n",
       "<style scoped>\n",
       "    .dataframe tbody tr th:only-of-type {\n",
       "        vertical-align: middle;\n",
       "    }\n",
       "\n",
       "    .dataframe tbody tr th {\n",
       "        vertical-align: top;\n",
       "    }\n",
       "\n",
       "    .dataframe thead th {\n",
       "        text-align: right;\n",
       "    }\n",
       "</style>\n",
       "<table border=\"1\" class=\"dataframe\">\n",
       "  <thead>\n",
       "    <tr style=\"text-align: right;\">\n",
       "      <th>Ticker</th>\n",
       "      <th>asset_nmr</th>\n",
       "      <th>market_nmr</th>\n",
       "    </tr>\n",
       "    <tr>\n",
       "      <th>Date</th>\n",
       "      <th></th>\n",
       "      <th></th>\n",
       "    </tr>\n",
       "  </thead>\n",
       "  <tbody>\n",
       "    <tr>\n",
       "      <th>2014-07-31</th>\n",
       "      <td>-0.036317</td>\n",
       "      <td>-0.015095</td>\n",
       "    </tr>\n",
       "    <tr>\n",
       "      <th>2014-08-31</th>\n",
       "      <td>0.083214</td>\n",
       "      <td>0.037640</td>\n",
       "    </tr>\n",
       "    <tr>\n",
       "      <th>2014-09-30</th>\n",
       "      <td>-0.048973</td>\n",
       "      <td>-0.015525</td>\n",
       "    </tr>\n",
       "    <tr>\n",
       "      <th>2014-10-31</th>\n",
       "      <td>-0.052663</td>\n",
       "      <td>0.023199</td>\n",
       "    </tr>\n",
       "    <tr>\n",
       "      <th>2014-11-30</th>\n",
       "      <td>0.108619</td>\n",
       "      <td>0.024529</td>\n",
       "    </tr>\n",
       "  </tbody>\n",
       "</table>\n",
       "</div>"
      ]
     },
     "execution_count": 33,
     "metadata": {},
     "output_type": "execute_result"
    }
   ],
   "execution_count": 33
  },
  {
   "cell_type": "code",
   "id": "fcbdc722",
   "metadata": {
    "ExecuteTime": {
     "end_time": "2024-06-09T14:46:49.868094Z",
     "start_time": "2024-06-09T14:46:49.854109Z"
    }
   },
   "source": [
    "y = X2.pop('asset_nmr')"
   ],
   "outputs": [],
   "execution_count": 34
  },
  {
   "cell_type": "code",
   "id": "e7829fe9",
   "metadata": {
    "ExecuteTime": {
     "end_time": "2024-06-09T14:46:50.164685Z",
     "start_time": "2024-06-09T14:46:50.148208Z"
    }
   },
   "source": [
    "X = smf.add_constant(X2)\n",
    "X"
   ],
   "outputs": [
    {
     "data": {
      "text/plain": [
       "            const  market_nmr\n",
       "Date                         \n",
       "2014-07-31    1.0   -0.015095\n",
       "2014-08-31    1.0    0.037640\n",
       "2014-09-30    1.0   -0.015525\n",
       "2014-10-31    1.0    0.023199\n",
       "2014-11-30    1.0    0.024529\n",
       "...           ...         ...\n",
       "2023-12-31    1.0    0.040012\n",
       "2024-01-31    1.0    0.011672\n",
       "2024-02-29    1.0    0.047469\n",
       "2024-03-31    1.0    0.026783\n",
       "2024-04-30    1.0   -0.030566\n",
       "\n",
       "[118 rows x 2 columns]"
      ],
      "text/html": [
       "<div>\n",
       "<style scoped>\n",
       "    .dataframe tbody tr th:only-of-type {\n",
       "        vertical-align: middle;\n",
       "    }\n",
       "\n",
       "    .dataframe tbody tr th {\n",
       "        vertical-align: top;\n",
       "    }\n",
       "\n",
       "    .dataframe thead th {\n",
       "        text-align: right;\n",
       "    }\n",
       "</style>\n",
       "<table border=\"1\" class=\"dataframe\">\n",
       "  <thead>\n",
       "    <tr style=\"text-align: right;\">\n",
       "      <th></th>\n",
       "      <th>const</th>\n",
       "      <th>market_nmr</th>\n",
       "    </tr>\n",
       "    <tr>\n",
       "      <th>Date</th>\n",
       "      <th></th>\n",
       "      <th></th>\n",
       "    </tr>\n",
       "  </thead>\n",
       "  <tbody>\n",
       "    <tr>\n",
       "      <th>2014-07-31</th>\n",
       "      <td>1.0</td>\n",
       "      <td>-0.015095</td>\n",
       "    </tr>\n",
       "    <tr>\n",
       "      <th>2014-08-31</th>\n",
       "      <td>1.0</td>\n",
       "      <td>0.037640</td>\n",
       "    </tr>\n",
       "    <tr>\n",
       "      <th>2014-09-30</th>\n",
       "      <td>1.0</td>\n",
       "      <td>-0.015525</td>\n",
       "    </tr>\n",
       "    <tr>\n",
       "      <th>2014-10-31</th>\n",
       "      <td>1.0</td>\n",
       "      <td>0.023199</td>\n",
       "    </tr>\n",
       "    <tr>\n",
       "      <th>2014-11-30</th>\n",
       "      <td>1.0</td>\n",
       "      <td>0.024529</td>\n",
       "    </tr>\n",
       "    <tr>\n",
       "      <th>...</th>\n",
       "      <td>...</td>\n",
       "      <td>...</td>\n",
       "    </tr>\n",
       "    <tr>\n",
       "      <th>2023-12-31</th>\n",
       "      <td>1.0</td>\n",
       "      <td>0.040012</td>\n",
       "    </tr>\n",
       "    <tr>\n",
       "      <th>2024-01-31</th>\n",
       "      <td>1.0</td>\n",
       "      <td>0.011672</td>\n",
       "    </tr>\n",
       "    <tr>\n",
       "      <th>2024-02-29</th>\n",
       "      <td>1.0</td>\n",
       "      <td>0.047469</td>\n",
       "    </tr>\n",
       "    <tr>\n",
       "      <th>2024-03-31</th>\n",
       "      <td>1.0</td>\n",
       "      <td>0.026783</td>\n",
       "    </tr>\n",
       "    <tr>\n",
       "      <th>2024-04-30</th>\n",
       "      <td>1.0</td>\n",
       "      <td>-0.030566</td>\n",
       "    </tr>\n",
       "  </tbody>\n",
       "</table>\n",
       "<p>118 rows × 2 columns</p>\n",
       "</div>"
      ]
     },
     "execution_count": 35,
     "metadata": {},
     "output_type": "execute_result"
    }
   ],
   "execution_count": 35
  },
  {
   "cell_type": "code",
   "id": "883161dd",
   "metadata": {
    "scrolled": true,
    "ExecuteTime": {
     "end_time": "2024-06-09T14:46:50.334119Z",
     "start_time": "2024-06-09T14:46:50.306194Z"
    }
   },
   "source": [
    "capm_model = smf.OLS(y, X).fit()\n",
    "capm_model.summary()"
   ],
   "outputs": [
    {
     "data": {
      "text/plain": [
       "<class 'statsmodels.iolib.summary.Summary'>\n",
       "\"\"\"\n",
       "                            OLS Regression Results                            \n",
       "==============================================================================\n",
       "Dep. Variable:              asset_nmr   R-squared:                       0.392\n",
       "Model:                            OLS   Adj. R-squared:                  0.386\n",
       "Method:                 Least Squares   F-statistic:                     74.68\n",
       "Date:                Sun, 09 Jun 2024   Prob (F-statistic):           3.52e-14\n",
       "Time:                        16:46:50   Log-Likelihood:                 146.31\n",
       "No. Observations:                 118   AIC:                            -288.6\n",
       "Df Residuals:                     116   BIC:                            -283.1\n",
       "Df Model:                           1                                         \n",
       "Covariance Type:            nonrobust                                         \n",
       "==============================================================================\n",
       "                 coef    std err          t      P>|t|      [0.025      0.975]\n",
       "------------------------------------------------------------------------------\n",
       "const          0.0132      0.007      2.002      0.048       0.000       0.026\n",
       "market_nmr     1.2779      0.148      8.642      0.000       0.985       1.571\n",
       "==============================================================================\n",
       "Omnibus:                        3.347   Durbin-Watson:                   1.945\n",
       "Prob(Omnibus):                  0.188   Jarque-Bera (JB):                2.791\n",
       "Skew:                           0.286   Prob(JB):                        0.248\n",
       "Kurtosis:                       3.491   Cond. No.                         22.7\n",
       "==============================================================================\n",
       "\n",
       "Notes:\n",
       "[1] Standard Errors assume that the covariance matrix of the errors is correctly specified.\n",
       "\"\"\""
      ],
      "text/html": [
       "<table class=\"simpletable\">\n",
       "<caption>OLS Regression Results</caption>\n",
       "<tr>\n",
       "  <th>Dep. Variable:</th>        <td>asset_nmr</td>    <th>  R-squared:         </th> <td>   0.392</td>\n",
       "</tr>\n",
       "<tr>\n",
       "  <th>Model:</th>                   <td>OLS</td>       <th>  Adj. R-squared:    </th> <td>   0.386</td>\n",
       "</tr>\n",
       "<tr>\n",
       "  <th>Method:</th>             <td>Least Squares</td>  <th>  F-statistic:       </th> <td>   74.68</td>\n",
       "</tr>\n",
       "<tr>\n",
       "  <th>Date:</th>             <td>Sun, 09 Jun 2024</td> <th>  Prob (F-statistic):</th> <td>3.52e-14</td>\n",
       "</tr>\n",
       "<tr>\n",
       "  <th>Time:</th>                 <td>16:46:50</td>     <th>  Log-Likelihood:    </th> <td>  146.31</td>\n",
       "</tr>\n",
       "<tr>\n",
       "  <th>No. Observations:</th>      <td>   118</td>      <th>  AIC:               </th> <td>  -288.6</td>\n",
       "</tr>\n",
       "<tr>\n",
       "  <th>Df Residuals:</th>          <td>   116</td>      <th>  BIC:               </th> <td>  -283.1</td>\n",
       "</tr>\n",
       "<tr>\n",
       "  <th>Df Model:</th>              <td>     1</td>      <th>                     </th>     <td> </td>   \n",
       "</tr>\n",
       "<tr>\n",
       "  <th>Covariance Type:</th>      <td>nonrobust</td>    <th>                     </th>     <td> </td>   \n",
       "</tr>\n",
       "</table>\n",
       "<table class=\"simpletable\">\n",
       "<tr>\n",
       "       <td></td>         <th>coef</th>     <th>std err</th>      <th>t</th>      <th>P>|t|</th>  <th>[0.025</th>    <th>0.975]</th>  \n",
       "</tr>\n",
       "<tr>\n",
       "  <th>const</th>      <td>    0.0132</td> <td>    0.007</td> <td>    2.002</td> <td> 0.048</td> <td>    0.000</td> <td>    0.026</td>\n",
       "</tr>\n",
       "<tr>\n",
       "  <th>market_nmr</th> <td>    1.2779</td> <td>    0.148</td> <td>    8.642</td> <td> 0.000</td> <td>    0.985</td> <td>    1.571</td>\n",
       "</tr>\n",
       "</table>\n",
       "<table class=\"simpletable\">\n",
       "<tr>\n",
       "  <th>Omnibus:</th>       <td> 3.347</td> <th>  Durbin-Watson:     </th> <td>   1.945</td>\n",
       "</tr>\n",
       "<tr>\n",
       "  <th>Prob(Omnibus):</th> <td> 0.188</td> <th>  Jarque-Bera (JB):  </th> <td>   2.791</td>\n",
       "</tr>\n",
       "<tr>\n",
       "  <th>Skew:</th>          <td> 0.286</td> <th>  Prob(JB):          </th> <td>   0.248</td>\n",
       "</tr>\n",
       "<tr>\n",
       "  <th>Kurtosis:</th>      <td> 3.491</td> <th>  Cond. No.          </th> <td>    22.7</td>\n",
       "</tr>\n",
       "</table><br/><br/>Notes:<br/>[1] Standard Errors assume that the covariance matrix of the errors is correctly specified."
      ],
      "text/latex": "\\begin{center}\n\\begin{tabular}{lclc}\n\\toprule\n\\textbf{Dep. Variable:}    &    asset\\_nmr    & \\textbf{  R-squared:         } &     0.392   \\\\\n\\textbf{Model:}            &       OLS        & \\textbf{  Adj. R-squared:    } &     0.386   \\\\\n\\textbf{Method:}           &  Least Squares   & \\textbf{  F-statistic:       } &     74.68   \\\\\n\\textbf{Date:}             & Sun, 09 Jun 2024 & \\textbf{  Prob (F-statistic):} &  3.52e-14   \\\\\n\\textbf{Time:}             &     16:46:50     & \\textbf{  Log-Likelihood:    } &    146.31   \\\\\n\\textbf{No. Observations:} &         118      & \\textbf{  AIC:               } &    -288.6   \\\\\n\\textbf{Df Residuals:}     &         116      & \\textbf{  BIC:               } &    -283.1   \\\\\n\\textbf{Df Model:}         &           1      & \\textbf{                     } &             \\\\\n\\textbf{Covariance Type:}  &    nonrobust     & \\textbf{                     } &             \\\\\n\\bottomrule\n\\end{tabular}\n\\begin{tabular}{lcccccc}\n                     & \\textbf{coef} & \\textbf{std err} & \\textbf{t} & \\textbf{P$> |$t$|$} & \\textbf{[0.025} & \\textbf{0.975]}  \\\\\n\\midrule\n\\textbf{const}       &       0.0132  &        0.007     &     2.002  &         0.048        &        0.000    &        0.026     \\\\\n\\textbf{market\\_nmr} &       1.2779  &        0.148     &     8.642  &         0.000        &        0.985    &        1.571     \\\\\n\\bottomrule\n\\end{tabular}\n\\begin{tabular}{lclc}\n\\textbf{Omnibus:}       &  3.347 & \\textbf{  Durbin-Watson:     } &    1.945  \\\\\n\\textbf{Prob(Omnibus):} &  0.188 & \\textbf{  Jarque-Bera (JB):  } &    2.791  \\\\\n\\textbf{Skew:}          &  0.286 & \\textbf{  Prob(JB):          } &    0.248  \\\\\n\\textbf{Kurtosis:}      &  3.491 & \\textbf{  Cond. No.          } &     22.7  \\\\\n\\bottomrule\n\\end{tabular}\n%\\caption{OLS Regression Results}\n\\end{center}\n\nNotes: \\newline\n [1] Standard Errors assume that the covariance matrix of the errors is correctly specified."
     },
     "execution_count": 36,
     "metadata": {},
     "output_type": "execute_result"
    }
   ],
   "execution_count": 36
  },
  {
   "cell_type": "code",
   "id": "0d16005f-aaae-45bd-8b88-0022036dba99",
   "metadata": {
    "ExecuteTime": {
     "end_time": "2024-06-09T14:46:50.899501Z",
     "start_time": "2024-06-09T14:46:50.562518Z"
    }
   },
   "source": [
    "#Il tasso risk free si può anche scaricare dal database della Banca della Riserva Federale di Saint Louis (FRED)\n",
    "\n",
    "rf = web.DataReader(\"TB3MS\", \"fred\", start = start_date, end = end_date)"
   ],
   "outputs": [],
   "execution_count": 37
  },
  {
   "cell_type": "code",
   "id": "8243552a-cd51-46ab-90f6-b76ac2500525",
   "metadata": {
    "ExecuteTime": {
     "end_time": "2024-06-09T14:46:50.914462Z",
     "start_time": "2024-06-09T14:46:50.901497Z"
    }
   },
   "source": [
    "rf = (1 + (rf/100))**(1/12)-1"
   ],
   "outputs": [],
   "execution_count": 38
  },
  {
   "cell_type": "code",
   "id": "a2709245-8ddf-4f64-8162-2a887144097d",
   "metadata": {
    "ExecuteTime": {
     "end_time": "2024-06-09T14:46:51.681465Z",
     "start_time": "2024-06-09T14:46:51.175921Z"
    }
   },
   "source": [
    "rf.plot(title = \"Risk-free rate (3-Month Treasury Bill)\")\n",
    "plt.grid()"
   ],
   "outputs": [
    {
     "data": {
      "text/plain": [
       "<Figure size 640x480 with 1 Axes>"
      ],
      "image/png": "[encoded data removed]"
     },
     "metadata": {},
     "output_type": "display_data"
    }
   ],
   "execution_count": 39
  },
  {
   "cell_type": "markdown",
   "id": "27150716",
   "metadata": {},
   "source": [
    "### Il modello di Fama - French a tre fattori"
   ]
  },
  {
   "cell_type": "markdown",
   "id": "b473c8d8",
   "metadata": {},
   "source": [
    "I tre fattori del modello di Fama e French (*) sono:\n",
    "- il fattore mercato, cioè la dipendenza dall'andamento del mercato azionario  (MKT)\n",
    "- il fattore dimensione (SMB) costruito come rendimento in eccesso delle azioni a piccola capitalizzazione rispetto alle grandi\n",
    "- il fattore valore (HML) costruito come rendimento in eccesso delle azioni Value, cioè aventi con un rapporto fra patrimonio e prezzo alto (price-earnings ratio basso), rispetto alle azioni Growth, cioè quelle con un rapporto fra patrimonio e prezzo basso (price-earnings ratio alto)\n",
    "\n",
    "__PER CAPIRE__: <br>\n",
    "Le azioni __Growth__ hanno un price-earnings ratio alto e quindi costano care, ma questo accade perché gli investitori si aspettano una forte crescita futura e per questo motivo sono disposti a pagare un prezzo alto rispetto agli attuali utili dell'azienda; inoltre, il tasso di dividendi delle azioni Growth è pressoché zero perché l'utile in eccesso viene reinvestito per alimentare la crescita futura. <br>\n",
    "Le azioni __Value__ hanno un price-earnings ration basso e ciò significa che costano poco rispetto all'utile che le aziende riescono a generare, ciò accade perché gli investitori non si aspettano una particolare crescita futura; il tasso di dividendi è più alto rispetto a quello delle aziende Growth.\n",
    "\n",
    "I titoli Growth sono Microsoft, Apple, Nvidia, Meta, Google, ... <br>\n",
    "I titoli Value sono Broadcom, JPMorgan, Berkshire Hathaway, Procter&Gamble, Johnson&Johnson, ...\n",
    "\n",
    "Per altre informazioni vedi i dati relativi a [MSCI world growth index](./msci-world-growth-index.pdf) e [MSCI world value index](./msci-world-value-index.pdf)\n",
    "\n",
    "\n",
    "-------------------------------------------------------------------\n",
    "\n",
    "\n",
    "Come abbiamo detto in precedenza, ci sono più fattori di rischio che spiegano l'andamento delle azioni: il modello di Fama e French ne prende in considerazione tre. <br>\n",
    "A parte il fattore di mercato, preso in considerazione anche dal CAPM, ci sono due ulteriori fattori di rischio:\n",
    "- fattore dimensione (SMB), cioè se la società è grande o piccola\n",
    "- fattore valore (HML), cioè se l'azione di una società è cara o no\n",
    "\n",
    "Se si osservano gli andamenti di società ad alta capitalizzazione e bassa capitalizzazione, ci si può rendere conto che esse si comportano in maniera diversa: questo accade per diversi motivi, tra cui il fatto che le società ad alta capitalizzazione sono più liquide (cioè molto più comprate, perché quando si costruisce un portafoglio si parte dai titoli più grossi), sono più seguite dagli analisti finanziari (quindi su di esse sono disponibili molte informazioni) ed inoltre godono spesso di un minor rischio intrinseco (ovvero riescono a superare più facilmente periodi di crisi).\n",
    "\n",
    "__NOTA BENE__: una piccola società è molto più soggetta al rischio specifico: se schioppa il fondatore di una piccola società allora son cazzi; se invece schioppa il CEO di Stellantis sti cazzi, sotto ha una struttura enorme che consente alla società di andare avanti comunque.\n",
    "\n",
    "L'altro fattore invece è quello legato al valore: si può constatare che esistono titoli che il mercato paga di più (in rapporto all'utile per azione realizzato) e titoli che il mercato invece paga di meno; questo fatto è legato alle prospettive di crescita di ciascuna azienda.\n",
    "Per quanto riguarda il potenziale di crescita è anche importante considerare le differenze nei diversi mercati di business a cui le aziende si affacciano: i titoli più costosi sono titoli che hanno avuto (e continueranno ad avere) una crescita importante dovuta anche alla tipologia di mercato (di business) di cui si occupano.\n",
    "\n",
    "__ESEMPIO__: le prospettive di crescita di una società come ad esempio A2A sono legate prettamente al fatto che essa può acquisire altre società dello stesso settore, non al fatto che di punto in bianco i consumatori inizieranno ad usare 3 impianti di riscaldamento invece che 1; al contrario, società come quelle tecnologiche stanno attualmente cavalcando un mercato di business in fortissima espansione.\n",
    "\n",
    "Ricapitolando, il mercato (gli investitori) disprezza le aziende piccole e per questo motivo le aziende piccole rendono di più (costano meno, quindi sono in grado di generare rendimenti maggiori) ed inoltre disprezza le aziende Value (cioè quelle con un alto rapporto tra patrimonio e prezzo).\n",
    "\n",
    "__PER CAPIRE__: il mercato è disposto a pagare i titoli che \"vanno di moda\" più di quanto effettivamente essi valgano.\n",
    "\n",
    "//CONTINUA MINUTO 8:30"
   ]
  },
  {
   "metadata": {},
   "cell_type": "markdown",
   "source": [
    "I dati vanno scaricati da questo sito:\n",
    "https://mba.tuck.dartmouth.edu/pages/faculty/ken.french/data_library.html"
   ],
   "id": "9e5c87d02b7362a4"
  },
  {
   "cell_type": "code",
   "id": "e068996c",
   "metadata": {
    "ExecuteTime": {
     "end_time": "2024-06-09T14:46:51.697526Z",
     "start_time": "2024-06-09T14:46:51.683460Z"
    }
   },
   "source": [
    "factor_df = pd.read_csv('F-F_Research_Data_Factors.csv', skiprows=3)"
   ],
   "outputs": [],
   "execution_count": 40
  },
  {
   "cell_type": "code",
   "id": "70901615",
   "metadata": {
    "ExecuteTime": {
     "end_time": "2024-06-09T14:46:51.729441Z",
     "start_time": "2024-06-09T14:46:51.699521Z"
    }
   },
   "source": [
    "factor_df.head()"
   ],
   "outputs": [
    {
     "data": {
      "text/plain": [
       "  Unnamed: 0    Mkt-RF       SMB       HML        RF\n",
       "0     192607      2.96     -2.56     -2.43      0.22\n",
       "1     192608      2.64     -1.17      3.82      0.25\n",
       "2     192609      0.36     -1.40      0.13      0.23\n",
       "3     192610     -3.24     -0.09      0.70      0.32\n",
       "4     192611      2.53     -0.10     -0.51      0.31"
      ],
      "text/html": [
       "<div>\n",
       "<style scoped>\n",
       "    .dataframe tbody tr th:only-of-type {\n",
       "        vertical-align: middle;\n",
       "    }\n",
       "\n",
       "    .dataframe tbody tr th {\n",
       "        vertical-align: top;\n",
       "    }\n",
       "\n",
       "    .dataframe thead th {\n",
       "        text-align: right;\n",
       "    }\n",
       "</style>\n",
       "<table border=\"1\" class=\"dataframe\">\n",
       "  <thead>\n",
       "    <tr style=\"text-align: right;\">\n",
       "      <th></th>\n",
       "      <th>Unnamed: 0</th>\n",
       "      <th>Mkt-RF</th>\n",
       "      <th>SMB</th>\n",
       "      <th>HML</th>\n",
       "      <th>RF</th>\n",
       "    </tr>\n",
       "  </thead>\n",
       "  <tbody>\n",
       "    <tr>\n",
       "      <th>0</th>\n",
       "      <td>192607</td>\n",
       "      <td>2.96</td>\n",
       "      <td>-2.56</td>\n",
       "      <td>-2.43</td>\n",
       "      <td>0.22</td>\n",
       "    </tr>\n",
       "    <tr>\n",
       "      <th>1</th>\n",
       "      <td>192608</td>\n",
       "      <td>2.64</td>\n",
       "      <td>-1.17</td>\n",
       "      <td>3.82</td>\n",
       "      <td>0.25</td>\n",
       "    </tr>\n",
       "    <tr>\n",
       "      <th>2</th>\n",
       "      <td>192609</td>\n",
       "      <td>0.36</td>\n",
       "      <td>-1.40</td>\n",
       "      <td>0.13</td>\n",
       "      <td>0.23</td>\n",
       "    </tr>\n",
       "    <tr>\n",
       "      <th>3</th>\n",
       "      <td>192610</td>\n",
       "      <td>-3.24</td>\n",
       "      <td>-0.09</td>\n",
       "      <td>0.70</td>\n",
       "      <td>0.32</td>\n",
       "    </tr>\n",
       "    <tr>\n",
       "      <th>4</th>\n",
       "      <td>192611</td>\n",
       "      <td>2.53</td>\n",
       "      <td>-0.10</td>\n",
       "      <td>-0.51</td>\n",
       "      <td>0.31</td>\n",
       "    </tr>\n",
       "  </tbody>\n",
       "</table>\n",
       "</div>"
      ]
     },
     "execution_count": 41,
     "metadata": {},
     "output_type": "execute_result"
    }
   ],
   "execution_count": 41
  },
  {
   "cell_type": "markdown",
   "id": "fd2b9ad5",
   "metadata": {},
   "source": [
    "Definiamo i parametri"
   ]
  },
  {
   "cell_type": "code",
   "id": "788a5d99",
   "metadata": {
    "ExecuteTime": {
     "end_time": "2024-06-09T14:46:51.745398Z",
     "start_time": "2024-06-09T14:46:51.731436Z"
    }
   },
   "source": [
    "risky_asset = 'X' #azione da analizzare con i fattori di rischio\n",
    "start_date = '2014-05-31'\n",
    "end_date = '2024-03-31'"
   ],
   "outputs": [],
   "execution_count": 42
  },
  {
   "cell_type": "markdown",
   "id": "784d6943",
   "metadata": {},
   "source": [
    "Eliminiamo i dati annuali in fondo al file"
   ]
  },
  {
   "cell_type": "code",
   "id": "52936baf",
   "metadata": {
    "ExecuteTime": {
     "end_time": "2024-06-09T14:46:51.824188Z",
     "start_time": "2024-06-09T14:46:51.808231Z"
    }
   },
   "source": [
    "stringa = ' Annual Factors: January-December '\n",
    "indices = factor_df.iloc[:,0] == stringa\n",
    "start_of_annual = factor_df[indices].index[0]\n",
    "factor_df = factor_df[factor_df.index < start_of_annual]"
   ],
   "outputs": [],
   "execution_count": 43
  },
  {
   "cell_type": "markdown",
   "id": "e64f03be",
   "metadata": {},
   "source": [
    "Rinominiamo le colonne, definiamo come indice la data, filtriamo l'intervallo che ci interessa, dividiamo tutto per 100"
   ]
  },
  {
   "cell_type": "code",
   "id": "99382ec6",
   "metadata": {
    "ExecuteTime": {
     "end_time": "2024-06-09T14:46:51.886022Z",
     "start_time": "2024-06-09T14:46:51.873057Z"
    }
   },
   "source": [
    "factor_df.columns = ['data', 'mkt', 'smb', 'hml', 'rf']"
   ],
   "outputs": [],
   "execution_count": 44
  },
  {
   "cell_type": "code",
   "id": "ede1a4ea",
   "metadata": {
    "ExecuteTime": {
     "end_time": "2024-06-09T14:46:52.233253Z",
     "start_time": "2024-06-09T14:46:52.209184Z"
    }
   },
   "source": [
    "factor_df['data'] = pd.to_datetime(factor_df['data'], format='%Y%m').dt.strftime(\"%Y-%m\")"
   ],
   "outputs": [],
   "execution_count": 45
  },
  {
   "cell_type": "code",
   "id": "d991c928",
   "metadata": {
    "ExecuteTime": {
     "end_time": "2024-06-09T14:46:52.373878Z",
     "start_time": "2024-06-09T14:46:52.362907Z"
    }
   },
   "source": [
    "factor_df.head()"
   ],
   "outputs": [
    {
     "data": {
      "text/plain": [
       "      data       mkt       smb       hml        rf\n",
       "0  1926-07      2.96     -2.56     -2.43      0.22\n",
       "1  1926-08      2.64     -1.17      3.82      0.25\n",
       "2  1926-09      0.36     -1.40      0.13      0.23\n",
       "3  1926-10     -3.24     -0.09      0.70      0.32\n",
       "4  1926-11      2.53     -0.10     -0.51      0.31"
      ],
      "text/html": [
       "<div>\n",
       "<style scoped>\n",
       "    .dataframe tbody tr th:only-of-type {\n",
       "        vertical-align: middle;\n",
       "    }\n",
       "\n",
       "    .dataframe tbody tr th {\n",
       "        vertical-align: top;\n",
       "    }\n",
       "\n",
       "    .dataframe thead th {\n",
       "        text-align: right;\n",
       "    }\n",
       "</style>\n",
       "<table border=\"1\" class=\"dataframe\">\n",
       "  <thead>\n",
       "    <tr style=\"text-align: right;\">\n",
       "      <th></th>\n",
       "      <th>data</th>\n",
       "      <th>mkt</th>\n",
       "      <th>smb</th>\n",
       "      <th>hml</th>\n",
       "      <th>rf</th>\n",
       "    </tr>\n",
       "  </thead>\n",
       "  <tbody>\n",
       "    <tr>\n",
       "      <th>0</th>\n",
       "      <td>1926-07</td>\n",
       "      <td>2.96</td>\n",
       "      <td>-2.56</td>\n",
       "      <td>-2.43</td>\n",
       "      <td>0.22</td>\n",
       "    </tr>\n",
       "    <tr>\n",
       "      <th>1</th>\n",
       "      <td>1926-08</td>\n",
       "      <td>2.64</td>\n",
       "      <td>-1.17</td>\n",
       "      <td>3.82</td>\n",
       "      <td>0.25</td>\n",
       "    </tr>\n",
       "    <tr>\n",
       "      <th>2</th>\n",
       "      <td>1926-09</td>\n",
       "      <td>0.36</td>\n",
       "      <td>-1.40</td>\n",
       "      <td>0.13</td>\n",
       "      <td>0.23</td>\n",
       "    </tr>\n",
       "    <tr>\n",
       "      <th>3</th>\n",
       "      <td>1926-10</td>\n",
       "      <td>-3.24</td>\n",
       "      <td>-0.09</td>\n",
       "      <td>0.70</td>\n",
       "      <td>0.32</td>\n",
       "    </tr>\n",
       "    <tr>\n",
       "      <th>4</th>\n",
       "      <td>1926-11</td>\n",
       "      <td>2.53</td>\n",
       "      <td>-0.10</td>\n",
       "      <td>-0.51</td>\n",
       "      <td>0.31</td>\n",
       "    </tr>\n",
       "  </tbody>\n",
       "</table>\n",
       "</div>"
      ]
     },
     "execution_count": 46,
     "metadata": {},
     "output_type": "execute_result"
    }
   ],
   "execution_count": 46
  },
  {
   "cell_type": "code",
   "id": "2cf52439-67bb-40e2-9bce-afff449d5fb1",
   "metadata": {
    "ExecuteTime": {
     "end_time": "2024-06-09T14:46:52.577842Z",
     "start_time": "2024-06-09T14:46:52.566844Z"
    }
   },
   "source": [
    "factor_df = factor_df.set_index('data')\n",
    "factor_df = factor_df[start_date:end_date]"
   ],
   "outputs": [],
   "execution_count": 47
  },
  {
   "cell_type": "code",
   "id": "4e0e24c9-07d7-46f5-9107-b394cf534951",
   "metadata": {
    "ExecuteTime": {
     "end_time": "2024-06-09T14:46:52.753372Z",
     "start_time": "2024-06-09T14:46:52.740382Z"
    }
   },
   "source": [
    "factor_df.head()"
   ],
   "outputs": [
    {
     "data": {
      "text/plain": [
       "              mkt       smb       hml        rf\n",
       "data                                           \n",
       "2014-06      2.61      3.09     -0.70      0.00\n",
       "2014-07     -2.04     -4.29      0.03      0.00\n",
       "2014-08      4.24      0.40     -0.45      0.00\n",
       "2014-09     -1.97     -3.71     -1.34      0.00\n",
       "2014-10      2.52      4.21     -1.81      0.00"
      ],
      "text/html": [
       "<div>\n",
       "<style scoped>\n",
       "    .dataframe tbody tr th:only-of-type {\n",
       "        vertical-align: middle;\n",
       "    }\n",
       "\n",
       "    .dataframe tbody tr th {\n",
       "        vertical-align: top;\n",
       "    }\n",
       "\n",
       "    .dataframe thead th {\n",
       "        text-align: right;\n",
       "    }\n",
       "</style>\n",
       "<table border=\"1\" class=\"dataframe\">\n",
       "  <thead>\n",
       "    <tr style=\"text-align: right;\">\n",
       "      <th></th>\n",
       "      <th>mkt</th>\n",
       "      <th>smb</th>\n",
       "      <th>hml</th>\n",
       "      <th>rf</th>\n",
       "    </tr>\n",
       "    <tr>\n",
       "      <th>data</th>\n",
       "      <th></th>\n",
       "      <th></th>\n",
       "      <th></th>\n",
       "      <th></th>\n",
       "    </tr>\n",
       "  </thead>\n",
       "  <tbody>\n",
       "    <tr>\n",
       "      <th>2014-06</th>\n",
       "      <td>2.61</td>\n",
       "      <td>3.09</td>\n",
       "      <td>-0.70</td>\n",
       "      <td>0.00</td>\n",
       "    </tr>\n",
       "    <tr>\n",
       "      <th>2014-07</th>\n",
       "      <td>-2.04</td>\n",
       "      <td>-4.29</td>\n",
       "      <td>0.03</td>\n",
       "      <td>0.00</td>\n",
       "    </tr>\n",
       "    <tr>\n",
       "      <th>2014-08</th>\n",
       "      <td>4.24</td>\n",
       "      <td>0.40</td>\n",
       "      <td>-0.45</td>\n",
       "      <td>0.00</td>\n",
       "    </tr>\n",
       "    <tr>\n",
       "      <th>2014-09</th>\n",
       "      <td>-1.97</td>\n",
       "      <td>-3.71</td>\n",
       "      <td>-1.34</td>\n",
       "      <td>0.00</td>\n",
       "    </tr>\n",
       "    <tr>\n",
       "      <th>2014-10</th>\n",
       "      <td>2.52</td>\n",
       "      <td>4.21</td>\n",
       "      <td>-1.81</td>\n",
       "      <td>0.00</td>\n",
       "    </tr>\n",
       "  </tbody>\n",
       "</table>\n",
       "</div>"
      ]
     },
     "execution_count": 48,
     "metadata": {},
     "output_type": "execute_result"
    }
   ],
   "execution_count": 48
  },
  {
   "cell_type": "code",
   "id": "195d779e-92be-4bdc-bc59-94a7f0f07746",
   "metadata": {
    "ExecuteTime": {
     "end_time": "2024-06-09T14:46:52.927880Z",
     "start_time": "2024-06-09T14:46:52.912919Z"
    }
   },
   "source": [
    "factor_df.tail()"
   ],
   "outputs": [
    {
     "data": {
      "text/plain": [
       "              mkt       smb       hml        rf\n",
       "data                                           \n",
       "2023-11      8.84     -0.02      1.64      0.44\n",
       "2023-12      4.87      6.34      4.93      0.43\n",
       "2024-01      0.71     -5.09     -2.38      0.47\n",
       "2024-02      5.06     -0.24     -3.49      0.42\n",
       "2024-03      2.83     -2.49      4.19      0.43"
      ],
      "text/html": [
       "<div>\n",
       "<style scoped>\n",
       "    .dataframe tbody tr th:only-of-type {\n",
       "        vertical-align: middle;\n",
       "    }\n",
       "\n",
       "    .dataframe tbody tr th {\n",
       "        vertical-align: top;\n",
       "    }\n",
       "\n",
       "    .dataframe thead th {\n",
       "        text-align: right;\n",
       "    }\n",
       "</style>\n",
       "<table border=\"1\" class=\"dataframe\">\n",
       "  <thead>\n",
       "    <tr style=\"text-align: right;\">\n",
       "      <th></th>\n",
       "      <th>mkt</th>\n",
       "      <th>smb</th>\n",
       "      <th>hml</th>\n",
       "      <th>rf</th>\n",
       "    </tr>\n",
       "    <tr>\n",
       "      <th>data</th>\n",
       "      <th></th>\n",
       "      <th></th>\n",
       "      <th></th>\n",
       "      <th></th>\n",
       "    </tr>\n",
       "  </thead>\n",
       "  <tbody>\n",
       "    <tr>\n",
       "      <th>2023-11</th>\n",
       "      <td>8.84</td>\n",
       "      <td>-0.02</td>\n",
       "      <td>1.64</td>\n",
       "      <td>0.44</td>\n",
       "    </tr>\n",
       "    <tr>\n",
       "      <th>2023-12</th>\n",
       "      <td>4.87</td>\n",
       "      <td>6.34</td>\n",
       "      <td>4.93</td>\n",
       "      <td>0.43</td>\n",
       "    </tr>\n",
       "    <tr>\n",
       "      <th>2024-01</th>\n",
       "      <td>0.71</td>\n",
       "      <td>-5.09</td>\n",
       "      <td>-2.38</td>\n",
       "      <td>0.47</td>\n",
       "    </tr>\n",
       "    <tr>\n",
       "      <th>2024-02</th>\n",
       "      <td>5.06</td>\n",
       "      <td>-0.24</td>\n",
       "      <td>-3.49</td>\n",
       "      <td>0.42</td>\n",
       "    </tr>\n",
       "    <tr>\n",
       "      <th>2024-03</th>\n",
       "      <td>2.83</td>\n",
       "      <td>-2.49</td>\n",
       "      <td>4.19</td>\n",
       "      <td>0.43</td>\n",
       "    </tr>\n",
       "  </tbody>\n",
       "</table>\n",
       "</div>"
      ]
     },
     "execution_count": 49,
     "metadata": {},
     "output_type": "execute_result"
    }
   ],
   "execution_count": 49
  },
  {
   "cell_type": "code",
   "id": "9ca45be2-a278-487d-9b13-7afe4a00d512",
   "metadata": {
    "ExecuteTime": {
     "end_time": "2024-06-09T14:46:53.180611Z",
     "start_time": "2024-06-09T14:46:53.167090Z"
    }
   },
   "source": "factor_df = factor_df.apply(pd.to_numeric, errors='coerce').div(100) # trasforma le stringhe in numeri come gesù",
   "outputs": [],
   "execution_count": 50
  },
  {
   "cell_type": "code",
   "id": "d1311ce1",
   "metadata": {
    "ExecuteTime": {
     "end_time": "2024-06-09T14:46:53.335953Z",
     "start_time": "2024-06-09T14:46:53.324956Z"
    }
   },
   "source": [
    "factor_df.head()"
   ],
   "outputs": [
    {
     "data": {
      "text/plain": [
       "            mkt     smb     hml   rf\n",
       "data                                \n",
       "2014-06  0.0261  0.0309 -0.0070  0.0\n",
       "2014-07 -0.0204 -0.0429  0.0003  0.0\n",
       "2014-08  0.0424  0.0040 -0.0045  0.0\n",
       "2014-09 -0.0197 -0.0371 -0.0134  0.0\n",
       "2014-10  0.0252  0.0421 -0.0181  0.0"
      ],
      "text/html": [
       "<div>\n",
       "<style scoped>\n",
       "    .dataframe tbody tr th:only-of-type {\n",
       "        vertical-align: middle;\n",
       "    }\n",
       "\n",
       "    .dataframe tbody tr th {\n",
       "        vertical-align: top;\n",
       "    }\n",
       "\n",
       "    .dataframe thead th {\n",
       "        text-align: right;\n",
       "    }\n",
       "</style>\n",
       "<table border=\"1\" class=\"dataframe\">\n",
       "  <thead>\n",
       "    <tr style=\"text-align: right;\">\n",
       "      <th></th>\n",
       "      <th>mkt</th>\n",
       "      <th>smb</th>\n",
       "      <th>hml</th>\n",
       "      <th>rf</th>\n",
       "    </tr>\n",
       "    <tr>\n",
       "      <th>data</th>\n",
       "      <th></th>\n",
       "      <th></th>\n",
       "      <th></th>\n",
       "      <th></th>\n",
       "    </tr>\n",
       "  </thead>\n",
       "  <tbody>\n",
       "    <tr>\n",
       "      <th>2014-06</th>\n",
       "      <td>0.0261</td>\n",
       "      <td>0.0309</td>\n",
       "      <td>-0.0070</td>\n",
       "      <td>0.0</td>\n",
       "    </tr>\n",
       "    <tr>\n",
       "      <th>2014-07</th>\n",
       "      <td>-0.0204</td>\n",
       "      <td>-0.0429</td>\n",
       "      <td>0.0003</td>\n",
       "      <td>0.0</td>\n",
       "    </tr>\n",
       "    <tr>\n",
       "      <th>2014-08</th>\n",
       "      <td>0.0424</td>\n",
       "      <td>0.0040</td>\n",
       "      <td>-0.0045</td>\n",
       "      <td>0.0</td>\n",
       "    </tr>\n",
       "    <tr>\n",
       "      <th>2014-09</th>\n",
       "      <td>-0.0197</td>\n",
       "      <td>-0.0371</td>\n",
       "      <td>-0.0134</td>\n",
       "      <td>0.0</td>\n",
       "    </tr>\n",
       "    <tr>\n",
       "      <th>2014-10</th>\n",
       "      <td>0.0252</td>\n",
       "      <td>0.0421</td>\n",
       "      <td>-0.0181</td>\n",
       "      <td>0.0</td>\n",
       "    </tr>\n",
       "  </tbody>\n",
       "</table>\n",
       "</div>"
      ]
     },
     "execution_count": 51,
     "metadata": {},
     "output_type": "execute_result"
    }
   ],
   "execution_count": 51
  },
  {
   "cell_type": "markdown",
   "id": "e32da9a2",
   "metadata": {},
   "source": [
    "Scarichiamo i prezzi dell'azione e calcoliamo i rendimenti mensili"
   ]
  },
  {
   "cell_type": "code",
   "id": "43acc64c",
   "metadata": {
    "ExecuteTime": {
     "end_time": "2024-06-09T14:46:53.927801Z",
     "start_time": "2024-06-09T14:46:53.637655Z"
    }
   },
   "source": [
    "risky_asset = 'AAPL'\n",
    "asset_df = yf.download(risky_asset, start_date, end_date) "
   ],
   "outputs": [
    {
     "name": "stderr",
     "output_type": "stream",
     "text": [
      "[*********************100%%**********************]  1 of 1 completed\n"
     ]
    }
   ],
   "execution_count": 52
  },
  {
   "cell_type": "code",
   "id": "a0d28bad",
   "metadata": {
    "ExecuteTime": {
     "end_time": "2024-06-09T14:46:53.942992Z",
     "start_time": "2024-06-09T14:46:53.928799Z"
    }
   },
   "source": "y = asset_df['Adj Close'].resample('ME').last().pct_change().dropna()",
   "outputs": [],
   "execution_count": 53
  },
  {
   "cell_type": "code",
   "id": "d07eae56",
   "metadata": {
    "ExecuteTime": {
     "end_time": "2024-06-09T14:46:54.082618Z",
     "start_time": "2024-06-09T14:46:54.072646Z"
    }
   },
   "source": [
    "y.index = y.index.strftime('%Y-%m')"
   ],
   "outputs": [],
   "execution_count": 54
  },
  {
   "cell_type": "code",
   "id": "689ce8b0",
   "metadata": {
    "ExecuteTime": {
     "end_time": "2024-06-09T14:46:54.206289Z",
     "start_time": "2024-06-09T14:46:54.194321Z"
    }
   },
   "source": [
    "y.name = 'rtn'"
   ],
   "outputs": [],
   "execution_count": 55
  },
  {
   "cell_type": "code",
   "id": "3bc7ca32",
   "metadata": {
    "ExecuteTime": {
     "end_time": "2024-06-09T14:46:54.442646Z",
     "start_time": "2024-06-09T14:46:54.428160Z"
    }
   },
   "source": [
    "y.head()"
   ],
   "outputs": [
    {
     "data": {
      "text/plain": [
       "Date\n",
       "2014-07    0.028731\n",
       "2014-08    0.077508\n",
       "2014-09   -0.017073\n",
       "2014-10    0.071960\n",
       "2014-11    0.105979\n",
       "Name: rtn, dtype: float64"
      ]
     },
     "execution_count": 56,
     "metadata": {},
     "output_type": "execute_result"
    }
   ],
   "execution_count": 56
  },
  {
   "cell_type": "markdown",
   "id": "05637c49",
   "metadata": {},
   "source": [
    "Uniamo i due df e calcoliamo i rendimenti in eccesso rispetto al rf dell'azione"
   ]
  },
  {
   "cell_type": "code",
   "id": "93c3494d",
   "metadata": {
    "ExecuteTime": {
     "end_time": "2024-06-09T14:46:54.568310Z",
     "start_time": "2024-06-09T14:46:54.545373Z"
    }
   },
   "source": [
    "ff_data = factor_df.join(y)\n",
    "ff_data['excess_rtn'] = ff_data.rtn - ff_data.rf"
   ],
   "outputs": [],
   "execution_count": 57
  },
  {
   "cell_type": "code",
   "id": "f75c559e",
   "metadata": {
    "ExecuteTime": {
     "end_time": "2024-06-09T14:46:54.743038Z",
     "start_time": "2024-06-09T14:46:54.729075Z"
    }
   },
   "source": [
    "ff_data.head()"
   ],
   "outputs": [
    {
     "data": {
      "text/plain": [
       "            mkt     smb     hml   rf       rtn  excess_rtn\n",
       "data                                                      \n",
       "2014-06  0.0261  0.0309 -0.0070  0.0       NaN         NaN\n",
       "2014-07 -0.0204 -0.0429  0.0003  0.0  0.028731    0.028731\n",
       "2014-08  0.0424  0.0040 -0.0045  0.0  0.077508    0.077508\n",
       "2014-09 -0.0197 -0.0371 -0.0134  0.0 -0.017073   -0.017073\n",
       "2014-10  0.0252  0.0421 -0.0181  0.0  0.071960    0.071960"
      ],
      "text/html": [
       "<div>\n",
       "<style scoped>\n",
       "    .dataframe tbody tr th:only-of-type {\n",
       "        vertical-align: middle;\n",
       "    }\n",
       "\n",
       "    .dataframe tbody tr th {\n",
       "        vertical-align: top;\n",
       "    }\n",
       "\n",
       "    .dataframe thead th {\n",
       "        text-align: right;\n",
       "    }\n",
       "</style>\n",
       "<table border=\"1\" class=\"dataframe\">\n",
       "  <thead>\n",
       "    <tr style=\"text-align: right;\">\n",
       "      <th></th>\n",
       "      <th>mkt</th>\n",
       "      <th>smb</th>\n",
       "      <th>hml</th>\n",
       "      <th>rf</th>\n",
       "      <th>rtn</th>\n",
       "      <th>excess_rtn</th>\n",
       "    </tr>\n",
       "    <tr>\n",
       "      <th>data</th>\n",
       "      <th></th>\n",
       "      <th></th>\n",
       "      <th></th>\n",
       "      <th></th>\n",
       "      <th></th>\n",
       "      <th></th>\n",
       "    </tr>\n",
       "  </thead>\n",
       "  <tbody>\n",
       "    <tr>\n",
       "      <th>2014-06</th>\n",
       "      <td>0.0261</td>\n",
       "      <td>0.0309</td>\n",
       "      <td>-0.0070</td>\n",
       "      <td>0.0</td>\n",
       "      <td>NaN</td>\n",
       "      <td>NaN</td>\n",
       "    </tr>\n",
       "    <tr>\n",
       "      <th>2014-07</th>\n",
       "      <td>-0.0204</td>\n",
       "      <td>-0.0429</td>\n",
       "      <td>0.0003</td>\n",
       "      <td>0.0</td>\n",
       "      <td>0.028731</td>\n",
       "      <td>0.028731</td>\n",
       "    </tr>\n",
       "    <tr>\n",
       "      <th>2014-08</th>\n",
       "      <td>0.0424</td>\n",
       "      <td>0.0040</td>\n",
       "      <td>-0.0045</td>\n",
       "      <td>0.0</td>\n",
       "      <td>0.077508</td>\n",
       "      <td>0.077508</td>\n",
       "    </tr>\n",
       "    <tr>\n",
       "      <th>2014-09</th>\n",
       "      <td>-0.0197</td>\n",
       "      <td>-0.0371</td>\n",
       "      <td>-0.0134</td>\n",
       "      <td>0.0</td>\n",
       "      <td>-0.017073</td>\n",
       "      <td>-0.017073</td>\n",
       "    </tr>\n",
       "    <tr>\n",
       "      <th>2014-10</th>\n",
       "      <td>0.0252</td>\n",
       "      <td>0.0421</td>\n",
       "      <td>-0.0181</td>\n",
       "      <td>0.0</td>\n",
       "      <td>0.071960</td>\n",
       "      <td>0.071960</td>\n",
       "    </tr>\n",
       "  </tbody>\n",
       "</table>\n",
       "</div>"
      ]
     },
     "execution_count": 58,
     "metadata": {},
     "output_type": "execute_result"
    }
   ],
   "execution_count": 58
  },
  {
   "cell_type": "markdown",
   "id": "6528bf54",
   "metadata": {},
   "source": [
    "Stimiamo il modello a tre fattori"
   ]
  },
  {
   "cell_type": "code",
   "id": "9f4db9e9",
   "metadata": {
    "ExecuteTime": {
     "end_time": "2024-06-09T14:46:54.912612Z",
     "start_time": "2024-06-09T14:46:54.880670Z"
    }
   },
   "source": [
    "import statsmodels.formula.api as smf\n",
    "ff_model = smf.ols(formula = 'excess_rtn ~ mkt + smb + hml', data = ff_data).fit()\n",
    "ff_model.summary()"
   ],
   "outputs": [
    {
     "data": {
      "text/plain": [
       "<class 'statsmodels.iolib.summary.Summary'>\n",
       "\"\"\"\n",
       "                            OLS Regression Results                            \n",
       "==============================================================================\n",
       "Dep. Variable:             excess_rtn   R-squared:                       0.534\n",
       "Model:                            OLS   Adj. R-squared:                  0.521\n",
       "Method:                 Least Squares   F-statistic:                     43.12\n",
       "Date:                Sun, 09 Jun 2024   Prob (F-statistic):           1.19e-18\n",
       "Time:                        16:46:54   Log-Likelihood:                 173.52\n",
       "No. Observations:                 117   AIC:                            -339.0\n",
       "Df Residuals:                     113   BIC:                            -328.0\n",
       "Df Model:                           3                                         \n",
       "Covariance Type:            nonrobust                                         \n",
       "==============================================================================\n",
       "                 coef    std err          t      P>|t|      [0.025      0.975]\n",
       "------------------------------------------------------------------------------\n",
       "Intercept      0.0071      0.005      1.334      0.185      -0.003       0.018\n",
       "mkt            1.2392      0.118     10.476      0.000       1.005       1.474\n",
       "smb           -0.2171      0.196     -1.106      0.271      -0.606       0.172\n",
       "hml           -0.5632      0.138     -4.088      0.000      -0.836      -0.290\n",
       "==============================================================================\n",
       "Omnibus:                        8.935   Durbin-Watson:                   2.114\n",
       "Prob(Omnibus):                  0.011   Jarque-Bera (JB):               11.001\n",
       "Skew:                          -0.438   Prob(JB):                      0.00409\n",
       "Kurtosis:                       4.220   Cond. No.                         38.9\n",
       "==============================================================================\n",
       "\n",
       "Notes:\n",
       "[1] Standard Errors assume that the covariance matrix of the errors is correctly specified.\n",
       "\"\"\""
      ],
      "text/html": [
       "<table class=\"simpletable\">\n",
       "<caption>OLS Regression Results</caption>\n",
       "<tr>\n",
       "  <th>Dep. Variable:</th>       <td>excess_rtn</td>    <th>  R-squared:         </th> <td>   0.534</td>\n",
       "</tr>\n",
       "<tr>\n",
       "  <th>Model:</th>                   <td>OLS</td>       <th>  Adj. R-squared:    </th> <td>   0.521</td>\n",
       "</tr>\n",
       "<tr>\n",
       "  <th>Method:</th>             <td>Least Squares</td>  <th>  F-statistic:       </th> <td>   43.12</td>\n",
       "</tr>\n",
       "<tr>\n",
       "  <th>Date:</th>             <td>Sun, 09 Jun 2024</td> <th>  Prob (F-statistic):</th> <td>1.19e-18</td>\n",
       "</tr>\n",
       "<tr>\n",
       "  <th>Time:</th>                 <td>16:46:54</td>     <th>  Log-Likelihood:    </th> <td>  173.52</td>\n",
       "</tr>\n",
       "<tr>\n",
       "  <th>No. Observations:</th>      <td>   117</td>      <th>  AIC:               </th> <td>  -339.0</td>\n",
       "</tr>\n",
       "<tr>\n",
       "  <th>Df Residuals:</th>          <td>   113</td>      <th>  BIC:               </th> <td>  -328.0</td>\n",
       "</tr>\n",
       "<tr>\n",
       "  <th>Df Model:</th>              <td>     3</td>      <th>                     </th>     <td> </td>   \n",
       "</tr>\n",
       "<tr>\n",
       "  <th>Covariance Type:</th>      <td>nonrobust</td>    <th>                     </th>     <td> </td>   \n",
       "</tr>\n",
       "</table>\n",
       "<table class=\"simpletable\">\n",
       "<tr>\n",
       "      <td></td>         <th>coef</th>     <th>std err</th>      <th>t</th>      <th>P>|t|</th>  <th>[0.025</th>    <th>0.975]</th>  \n",
       "</tr>\n",
       "<tr>\n",
       "  <th>Intercept</th> <td>    0.0071</td> <td>    0.005</td> <td>    1.334</td> <td> 0.185</td> <td>   -0.003</td> <td>    0.018</td>\n",
       "</tr>\n",
       "<tr>\n",
       "  <th>mkt</th>       <td>    1.2392</td> <td>    0.118</td> <td>   10.476</td> <td> 0.000</td> <td>    1.005</td> <td>    1.474</td>\n",
       "</tr>\n",
       "<tr>\n",
       "  <th>smb</th>       <td>   -0.2171</td> <td>    0.196</td> <td>   -1.106</td> <td> 0.271</td> <td>   -0.606</td> <td>    0.172</td>\n",
       "</tr>\n",
       "<tr>\n",
       "  <th>hml</th>       <td>   -0.5632</td> <td>    0.138</td> <td>   -4.088</td> <td> 0.000</td> <td>   -0.836</td> <td>   -0.290</td>\n",
       "</tr>\n",
       "</table>\n",
       "<table class=\"simpletable\">\n",
       "<tr>\n",
       "  <th>Omnibus:</th>       <td> 8.935</td> <th>  Durbin-Watson:     </th> <td>   2.114</td>\n",
       "</tr>\n",
       "<tr>\n",
       "  <th>Prob(Omnibus):</th> <td> 0.011</td> <th>  Jarque-Bera (JB):  </th> <td>  11.001</td>\n",
       "</tr>\n",
       "<tr>\n",
       "  <th>Skew:</th>          <td>-0.438</td> <th>  Prob(JB):          </th> <td> 0.00409</td>\n",
       "</tr>\n",
       "<tr>\n",
       "  <th>Kurtosis:</th>      <td> 4.220</td> <th>  Cond. No.          </th> <td>    38.9</td>\n",
       "</tr>\n",
       "</table><br/><br/>Notes:<br/>[1] Standard Errors assume that the covariance matrix of the errors is correctly specified."
      ],
      "text/latex": "\\begin{center}\n\\begin{tabular}{lclc}\n\\toprule\n\\textbf{Dep. Variable:}    &   excess\\_rtn    & \\textbf{  R-squared:         } &     0.534   \\\\\n\\textbf{Model:}            &       OLS        & \\textbf{  Adj. R-squared:    } &     0.521   \\\\\n\\textbf{Method:}           &  Least Squares   & \\textbf{  F-statistic:       } &     43.12   \\\\\n\\textbf{Date:}             & Sun, 09 Jun 2024 & \\textbf{  Prob (F-statistic):} &  1.19e-18   \\\\\n\\textbf{Time:}             &     16:46:54     & \\textbf{  Log-Likelihood:    } &    173.52   \\\\\n\\textbf{No. Observations:} &         117      & \\textbf{  AIC:               } &    -339.0   \\\\\n\\textbf{Df Residuals:}     &         113      & \\textbf{  BIC:               } &    -328.0   \\\\\n\\textbf{Df Model:}         &           3      & \\textbf{                     } &             \\\\\n\\textbf{Covariance Type:}  &    nonrobust     & \\textbf{                     } &             \\\\\n\\bottomrule\n\\end{tabular}\n\\begin{tabular}{lcccccc}\n                   & \\textbf{coef} & \\textbf{std err} & \\textbf{t} & \\textbf{P$> |$t$|$} & \\textbf{[0.025} & \\textbf{0.975]}  \\\\\n\\midrule\n\\textbf{Intercept} &       0.0071  &        0.005     &     1.334  &         0.185        &       -0.003    &        0.018     \\\\\n\\textbf{mkt}       &       1.2392  &        0.118     &    10.476  &         0.000        &        1.005    &        1.474     \\\\\n\\textbf{smb}       &      -0.2171  &        0.196     &    -1.106  &         0.271        &       -0.606    &        0.172     \\\\\n\\textbf{hml}       &      -0.5632  &        0.138     &    -4.088  &         0.000        &       -0.836    &       -0.290     \\\\\n\\bottomrule\n\\end{tabular}\n\\begin{tabular}{lclc}\n\\textbf{Omnibus:}       &  8.935 & \\textbf{  Durbin-Watson:     } &    2.114  \\\\\n\\textbf{Prob(Omnibus):} &  0.011 & \\textbf{  Jarque-Bera (JB):  } &   11.001  \\\\\n\\textbf{Skew:}          & -0.438 & \\textbf{  Prob(JB):          } &  0.00409  \\\\\n\\textbf{Kurtosis:}      &  4.220 & \\textbf{  Cond. No.          } &     38.9  \\\\\n\\bottomrule\n\\end{tabular}\n%\\caption{OLS Regression Results}\n\\end{center}\n\nNotes: \\newline\n [1] Standard Errors assume that the covariance matrix of the errors is correctly specified."
     },
     "execution_count": 59,
     "metadata": {},
     "output_type": "execute_result"
    }
   ],
   "execution_count": 59
  },
  {
   "metadata": {},
   "cell_type": "markdown",
   "source": "Dai file [MSCI world growth index](./msci-world-growth-index.pdf) e [MSCI world value index](./msci-world-value-index.pdf) emerge che i ritorno dell'indice Growth negli ultimi anni sono più alti di quelli dell'indice Value (e battono il mercato); tuttavia su orizzonti di tempo molto lunghi, le azioni value battono le growth (non a caso le value hanno un tasso di dividendi più alto). \n",
   "id": "a66608c18cbc88d5"
  },
  {
   "cell_type": "markdown",
   "id": "116bc243",
   "metadata": {},
   "source": [
    "#### Modello Fama French a tre fattori rolling su un portafoglio\n",
    "\n",
    "Parametri"
   ]
  },
  {
   "cell_type": "code",
   "id": "30030845",
   "metadata": {
    "ExecuteTime": {
     "end_time": "2024-06-09T14:46:55.098088Z",
     "start_time": "2024-06-09T14:46:55.070164Z"
    }
   },
   "source": [
    "assets = ['JPM','X','JNJ','CSCO']\n",
    "weights = [0.25, 0.25, 0.25, 0.25]\n",
    "start_date = '2014-05-31'\n",
    "end_date = '2024-03-31'"
   ],
   "outputs": [],
   "execution_count": 60
  },
  {
   "cell_type": "markdown",
   "id": "06ef37eb",
   "metadata": {},
   "source": [
    "Carichiamo i dati di Fama French in un altro modo"
   ]
  },
  {
   "cell_type": "code",
   "id": "b6273879",
   "metadata": {
    "ExecuteTime": {
     "end_time": "2024-06-09T14:46:55.693029Z",
     "start_time": "2024-06-09T14:46:55.231115Z"
    }
   },
   "source": [
    "df_three_factor = web.DataReader('F-F_Research_Data_Factors', 'famafrench', start_date, end_date)[0]"
   ],
   "outputs": [
    {
     "name": "stderr",
     "output_type": "stream",
     "text": [
      "C:\\Users\\utente\\AppData\\Local\\Temp\\ipykernel_264\\1440863999.py:1: FutureWarning: The argument 'date_parser' is deprecated and will be removed in a future version. Please use 'date_format' instead, or read your data in as 'object' dtype and then call 'to_datetime'.\n",
      "  df_three_factor = web.DataReader('F-F_Research_Data_Factors', 'famafrench', start_date, end_date)[0]\n",
      "C:\\Users\\utente\\AppData\\Local\\Temp\\ipykernel_264\\1440863999.py:1: FutureWarning: The argument 'date_parser' is deprecated and will be removed in a future version. Please use 'date_format' instead, or read your data in as 'object' dtype and then call 'to_datetime'.\n",
      "  df_three_factor = web.DataReader('F-F_Research_Data_Factors', 'famafrench', start_date, end_date)[0]\n"
     ]
    }
   ],
   "execution_count": 61
  },
  {
   "cell_type": "code",
   "id": "719a1866",
   "metadata": {
    "ExecuteTime": {
     "end_time": "2024-06-09T14:46:55.708495Z",
     "start_time": "2024-06-09T14:46:55.695529Z"
    }
   },
   "source": [
    "df_three_factor.head()"
   ],
   "outputs": [
    {
     "data": {
      "text/plain": [
       "         Mkt-RF   SMB   HML   RF\n",
       "Date                            \n",
       "2014-05    2.06 -1.88 -0.13  0.0\n",
       "2014-06    2.61  3.09 -0.70  0.0\n",
       "2014-07   -2.04 -4.29  0.03  0.0\n",
       "2014-08    4.24  0.40 -0.45  0.0\n",
       "2014-09   -1.97 -3.71 -1.34  0.0"
      ],
      "text/html": [
       "<div>\n",
       "<style scoped>\n",
       "    .dataframe tbody tr th:only-of-type {\n",
       "        vertical-align: middle;\n",
       "    }\n",
       "\n",
       "    .dataframe tbody tr th {\n",
       "        vertical-align: top;\n",
       "    }\n",
       "\n",
       "    .dataframe thead th {\n",
       "        text-align: right;\n",
       "    }\n",
       "</style>\n",
       "<table border=\"1\" class=\"dataframe\">\n",
       "  <thead>\n",
       "    <tr style=\"text-align: right;\">\n",
       "      <th></th>\n",
       "      <th>Mkt-RF</th>\n",
       "      <th>SMB</th>\n",
       "      <th>HML</th>\n",
       "      <th>RF</th>\n",
       "    </tr>\n",
       "    <tr>\n",
       "      <th>Date</th>\n",
       "      <th></th>\n",
       "      <th></th>\n",
       "      <th></th>\n",
       "      <th></th>\n",
       "    </tr>\n",
       "  </thead>\n",
       "  <tbody>\n",
       "    <tr>\n",
       "      <th>2014-05</th>\n",
       "      <td>2.06</td>\n",
       "      <td>-1.88</td>\n",
       "      <td>-0.13</td>\n",
       "      <td>0.0</td>\n",
       "    </tr>\n",
       "    <tr>\n",
       "      <th>2014-06</th>\n",
       "      <td>2.61</td>\n",
       "      <td>3.09</td>\n",
       "      <td>-0.70</td>\n",
       "      <td>0.0</td>\n",
       "    </tr>\n",
       "    <tr>\n",
       "      <th>2014-07</th>\n",
       "      <td>-2.04</td>\n",
       "      <td>-4.29</td>\n",
       "      <td>0.03</td>\n",
       "      <td>0.0</td>\n",
       "    </tr>\n",
       "    <tr>\n",
       "      <th>2014-08</th>\n",
       "      <td>4.24</td>\n",
       "      <td>0.40</td>\n",
       "      <td>-0.45</td>\n",
       "      <td>0.0</td>\n",
       "    </tr>\n",
       "    <tr>\n",
       "      <th>2014-09</th>\n",
       "      <td>-1.97</td>\n",
       "      <td>-3.71</td>\n",
       "      <td>-1.34</td>\n",
       "      <td>0.0</td>\n",
       "    </tr>\n",
       "  </tbody>\n",
       "</table>\n",
       "</div>"
      ]
     },
     "execution_count": 62,
     "metadata": {},
     "output_type": "execute_result"
    }
   ],
   "execution_count": 62
  },
  {
   "cell_type": "code",
   "id": "588bd868",
   "metadata": {
    "ExecuteTime": {
     "end_time": "2024-06-09T14:46:55.723526Z",
     "start_time": "2024-06-09T14:46:55.710490Z"
    }
   },
   "source": [
    "df_three_factor = df_three_factor.div(100) # divide per 100 perché sono espressi in percentuale\n",
    "df_three_factor.index = df_three_factor.index.format() # trasforma gli indici in stringhe"
   ],
   "outputs": [
    {
     "name": "stderr",
     "output_type": "stream",
     "text": [
      "C:\\Users\\utente\\AppData\\Local\\Temp\\ipykernel_264\\3381259868.py:2: FutureWarning: PeriodIndex.format is deprecated and will be removed in a future version. Convert using index.astype(str) or index.map(formatter) instead.\n",
      "  df_three_factor.index = df_three_factor.index.format() # trasforma gli indici in stringhe\n"
     ]
    }
   ],
   "execution_count": 63
  },
  {
   "cell_type": "code",
   "id": "bad5284d",
   "metadata": {
    "ExecuteTime": {
     "end_time": "2024-06-09T14:46:55.755504Z",
     "start_time": "2024-06-09T14:46:55.741467Z"
    }
   },
   "source": [
    "df_three_factor.head()"
   ],
   "outputs": [
    {
     "data": {
      "text/plain": [
       "         Mkt-RF     SMB     HML   RF\n",
       "2014-05  0.0206 -0.0188 -0.0013  0.0\n",
       "2014-06  0.0261  0.0309 -0.0070  0.0\n",
       "2014-07 -0.0204 -0.0429  0.0003  0.0\n",
       "2014-08  0.0424  0.0040 -0.0045  0.0\n",
       "2014-09 -0.0197 -0.0371 -0.0134  0.0"
      ],
      "text/html": [
       "<div>\n",
       "<style scoped>\n",
       "    .dataframe tbody tr th:only-of-type {\n",
       "        vertical-align: middle;\n",
       "    }\n",
       "\n",
       "    .dataframe tbody tr th {\n",
       "        vertical-align: top;\n",
       "    }\n",
       "\n",
       "    .dataframe thead th {\n",
       "        text-align: right;\n",
       "    }\n",
       "</style>\n",
       "<table border=\"1\" class=\"dataframe\">\n",
       "  <thead>\n",
       "    <tr style=\"text-align: right;\">\n",
       "      <th></th>\n",
       "      <th>Mkt-RF</th>\n",
       "      <th>SMB</th>\n",
       "      <th>HML</th>\n",
       "      <th>RF</th>\n",
       "    </tr>\n",
       "  </thead>\n",
       "  <tbody>\n",
       "    <tr>\n",
       "      <th>2014-05</th>\n",
       "      <td>0.0206</td>\n",
       "      <td>-0.0188</td>\n",
       "      <td>-0.0013</td>\n",
       "      <td>0.0</td>\n",
       "    </tr>\n",
       "    <tr>\n",
       "      <th>2014-06</th>\n",
       "      <td>0.0261</td>\n",
       "      <td>0.0309</td>\n",
       "      <td>-0.0070</td>\n",
       "      <td>0.0</td>\n",
       "    </tr>\n",
       "    <tr>\n",
       "      <th>2014-07</th>\n",
       "      <td>-0.0204</td>\n",
       "      <td>-0.0429</td>\n",
       "      <td>0.0003</td>\n",
       "      <td>0.0</td>\n",
       "    </tr>\n",
       "    <tr>\n",
       "      <th>2014-08</th>\n",
       "      <td>0.0424</td>\n",
       "      <td>0.0040</td>\n",
       "      <td>-0.0045</td>\n",
       "      <td>0.0</td>\n",
       "    </tr>\n",
       "    <tr>\n",
       "      <th>2014-09</th>\n",
       "      <td>-0.0197</td>\n",
       "      <td>-0.0371</td>\n",
       "      <td>-0.0134</td>\n",
       "      <td>0.0</td>\n",
       "    </tr>\n",
       "  </tbody>\n",
       "</table>\n",
       "</div>"
      ]
     },
     "execution_count": 64,
     "metadata": {},
     "output_type": "execute_result"
    }
   ],
   "execution_count": 64
  },
  {
   "cell_type": "markdown",
   "id": "6f317f87",
   "metadata": {},
   "source": [
    "Carichiamo i prezzi delle quattro azioni "
   ]
  },
  {
   "cell_type": "code",
   "id": "edbfd4cf",
   "metadata": {
    "ExecuteTime": {
     "end_time": "2024-06-09T14:46:56.329782Z",
     "start_time": "2024-06-09T14:46:55.914098Z"
    }
   },
   "source": "asset_df = yf.download(assets, start_date, end_date, progress=False) # scarica i vari prezzi degli asset che compongono il portafoglio da Yahoo Finance",
   "outputs": [],
   "execution_count": 65
  },
  {
   "cell_type": "code",
   "id": "f2d7fdca",
   "metadata": {
    "ExecuteTime": {
     "end_time": "2024-06-09T14:46:56.345740Z",
     "start_time": "2024-06-09T14:46:56.331754Z"
    }
   },
   "source": [
    "asset_df = asset_df['Adj Close'].resample('ME').last().pct_change().dropna()\n",
    "# invece che prendere i prezzi giornalieri prende soltanto il prezzo dell'ultimo giorno di ciascun mese e ci calcola il rendimento mensile"
   ],
   "outputs": [],
   "execution_count": 66
  },
  {
   "cell_type": "code",
   "id": "85d60156",
   "metadata": {
    "ExecuteTime": {
     "end_time": "2024-06-09T14:46:56.425656Z",
     "start_time": "2024-06-09T14:46:56.410713Z"
    }
   },
   "source": [
    "asset_df.index = asset_df.index.strftime('%Y-%m') # formatta la stringa indice che rappresenta una data\n",
    "asset_df.head()"
   ],
   "outputs": [
    {
     "data": {
      "text/plain": [
       "Ticker       CSCO       JNJ       JPM         X\n",
       "Date                                           \n",
       "2014-07  0.023042 -0.043300  0.007864  0.286099\n",
       "2014-08 -0.009512  0.043377  0.030866  0.155708\n",
       "2014-09  0.014879  0.027572  0.013288  0.013454\n",
       "2014-10 -0.027811  0.011164  0.010749  0.022211\n",
       "2014-11  0.129546  0.010902 -0.005291 -0.165928"
      ],
      "text/html": [
       "<div>\n",
       "<style scoped>\n",
       "    .dataframe tbody tr th:only-of-type {\n",
       "        vertical-align: middle;\n",
       "    }\n",
       "\n",
       "    .dataframe tbody tr th {\n",
       "        vertical-align: top;\n",
       "    }\n",
       "\n",
       "    .dataframe thead th {\n",
       "        text-align: right;\n",
       "    }\n",
       "</style>\n",
       "<table border=\"1\" class=\"dataframe\">\n",
       "  <thead>\n",
       "    <tr style=\"text-align: right;\">\n",
       "      <th>Ticker</th>\n",
       "      <th>CSCO</th>\n",
       "      <th>JNJ</th>\n",
       "      <th>JPM</th>\n",
       "      <th>X</th>\n",
       "    </tr>\n",
       "    <tr>\n",
       "      <th>Date</th>\n",
       "      <th></th>\n",
       "      <th></th>\n",
       "      <th></th>\n",
       "      <th></th>\n",
       "    </tr>\n",
       "  </thead>\n",
       "  <tbody>\n",
       "    <tr>\n",
       "      <th>2014-07</th>\n",
       "      <td>0.023042</td>\n",
       "      <td>-0.043300</td>\n",
       "      <td>0.007864</td>\n",
       "      <td>0.286099</td>\n",
       "    </tr>\n",
       "    <tr>\n",
       "      <th>2014-08</th>\n",
       "      <td>-0.009512</td>\n",
       "      <td>0.043377</td>\n",
       "      <td>0.030866</td>\n",
       "      <td>0.155708</td>\n",
       "    </tr>\n",
       "    <tr>\n",
       "      <th>2014-09</th>\n",
       "      <td>0.014879</td>\n",
       "      <td>0.027572</td>\n",
       "      <td>0.013288</td>\n",
       "      <td>0.013454</td>\n",
       "    </tr>\n",
       "    <tr>\n",
       "      <th>2014-10</th>\n",
       "      <td>-0.027811</td>\n",
       "      <td>0.011164</td>\n",
       "      <td>0.010749</td>\n",
       "      <td>0.022211</td>\n",
       "    </tr>\n",
       "    <tr>\n",
       "      <th>2014-11</th>\n",
       "      <td>0.129546</td>\n",
       "      <td>0.010902</td>\n",
       "      <td>-0.005291</td>\n",
       "      <td>-0.165928</td>\n",
       "    </tr>\n",
       "  </tbody>\n",
       "</table>\n",
       "</div>"
      ]
     },
     "execution_count": 67,
     "metadata": {},
     "output_type": "execute_result"
    }
   ],
   "execution_count": 67
  },
  {
   "cell_type": "markdown",
   "id": "009aebfe",
   "metadata": {},
   "source": [
    "Calcoliamo i rendimenti del portafoglio"
   ]
  },
  {
   "cell_type": "code",
   "id": "d2452a9c",
   "metadata": {
    "ExecuteTime": {
     "end_time": "2024-06-09T14:46:56.690715Z",
     "start_time": "2024-06-09T14:46:56.676225Z"
    }
   },
   "source": "asset_df['portfolio_returns'] = np.matmul(asset_df[assets].values, weights) # matmul serve per fare moltiplicazioni matriciali",
   "outputs": [],
   "execution_count": 68
  },
  {
   "cell_type": "code",
   "id": "9ac403fd",
   "metadata": {
    "ExecuteTime": {
     "end_time": "2024-06-09T14:46:56.832307Z",
     "start_time": "2024-06-09T14:46:56.818346Z"
    }
   },
   "source": [
    "asset_df.head()"
   ],
   "outputs": [
    {
     "data": {
      "text/plain": [
       "Ticker       CSCO       JNJ       JPM         X  portfolio_returns\n",
       "Date                                                              \n",
       "2014-07  0.023042 -0.043300  0.007864  0.286099           0.068426\n",
       "2014-08 -0.009512  0.043377  0.030866  0.155708           0.055110\n",
       "2014-09  0.014879  0.027572  0.013288  0.013454           0.017298\n",
       "2014-10 -0.027811  0.011164  0.010749  0.022211           0.004078\n",
       "2014-11  0.129546  0.010902 -0.005291 -0.165928          -0.007693"
      ],
      "text/html": [
       "<div>\n",
       "<style scoped>\n",
       "    .dataframe tbody tr th:only-of-type {\n",
       "        vertical-align: middle;\n",
       "    }\n",
       "\n",
       "    .dataframe tbody tr th {\n",
       "        vertical-align: top;\n",
       "    }\n",
       "\n",
       "    .dataframe thead th {\n",
       "        text-align: right;\n",
       "    }\n",
       "</style>\n",
       "<table border=\"1\" class=\"dataframe\">\n",
       "  <thead>\n",
       "    <tr style=\"text-align: right;\">\n",
       "      <th>Ticker</th>\n",
       "      <th>CSCO</th>\n",
       "      <th>JNJ</th>\n",
       "      <th>JPM</th>\n",
       "      <th>X</th>\n",
       "      <th>portfolio_returns</th>\n",
       "    </tr>\n",
       "    <tr>\n",
       "      <th>Date</th>\n",
       "      <th></th>\n",
       "      <th></th>\n",
       "      <th></th>\n",
       "      <th></th>\n",
       "      <th></th>\n",
       "    </tr>\n",
       "  </thead>\n",
       "  <tbody>\n",
       "    <tr>\n",
       "      <th>2014-07</th>\n",
       "      <td>0.023042</td>\n",
       "      <td>-0.043300</td>\n",
       "      <td>0.007864</td>\n",
       "      <td>0.286099</td>\n",
       "      <td>0.068426</td>\n",
       "    </tr>\n",
       "    <tr>\n",
       "      <th>2014-08</th>\n",
       "      <td>-0.009512</td>\n",
       "      <td>0.043377</td>\n",
       "      <td>0.030866</td>\n",
       "      <td>0.155708</td>\n",
       "      <td>0.055110</td>\n",
       "    </tr>\n",
       "    <tr>\n",
       "      <th>2014-09</th>\n",
       "      <td>0.014879</td>\n",
       "      <td>0.027572</td>\n",
       "      <td>0.013288</td>\n",
       "      <td>0.013454</td>\n",
       "      <td>0.017298</td>\n",
       "    </tr>\n",
       "    <tr>\n",
       "      <th>2014-10</th>\n",
       "      <td>-0.027811</td>\n",
       "      <td>0.011164</td>\n",
       "      <td>0.010749</td>\n",
       "      <td>0.022211</td>\n",
       "      <td>0.004078</td>\n",
       "    </tr>\n",
       "    <tr>\n",
       "      <th>2014-11</th>\n",
       "      <td>0.129546</td>\n",
       "      <td>0.010902</td>\n",
       "      <td>-0.005291</td>\n",
       "      <td>-0.165928</td>\n",
       "      <td>-0.007693</td>\n",
       "    </tr>\n",
       "  </tbody>\n",
       "</table>\n",
       "</div>"
      ]
     },
     "execution_count": 69,
     "metadata": {},
     "output_type": "execute_result"
    }
   ],
   "execution_count": 69
  },
  {
   "cell_type": "code",
   "id": "f0ba82f6",
   "metadata": {
    "ExecuteTime": {
     "end_time": "2024-06-09T14:46:57.275275Z",
     "start_time": "2024-06-09T14:46:56.960096Z"
    }
   },
   "source": [
    "asset_df.plot(figsize=(16,9), grid = True);"
   ],
   "outputs": [
    {
     "data": {
      "text/plain": [
       "<Figure size 1600x900 with 1 Axes>"
      ],
      "image/png": "[encoded data removed]"
     },
     "metadata": {},
     "output_type": "display_data"
    }
   ],
   "execution_count": 70
  },
  {
   "cell_type": "markdown",
   "id": "8ad09612",
   "metadata": {},
   "source": [
    "Uniamo i due df"
   ]
  },
  {
   "cell_type": "code",
   "id": "b5b70adb",
   "metadata": {
    "ExecuteTime": {
     "end_time": "2024-06-09T14:46:57.290511Z",
     "start_time": "2024-06-09T14:46:57.277246Z"
    }
   },
   "source": [
    "ff_data = asset_df.join(df_three_factor).drop(assets, axis = 1)"
   ],
   "outputs": [],
   "execution_count": 71
  },
  {
   "cell_type": "code",
   "id": "0899dff1",
   "metadata": {
    "ExecuteTime": {
     "end_time": "2024-06-09T14:46:57.418170Z",
     "start_time": "2024-06-09T14:46:57.405182Z"
    }
   },
   "source": [
    "ff_data.columns = ['portf_rtn', 'mkt', 'smb', 'hml', 'rf']\n",
    "ff_data['portf_ex_rtn'] = ff_data.portf_rtn - ff_data.rf"
   ],
   "outputs": [],
   "execution_count": 72
  },
  {
   "cell_type": "code",
   "id": "b7e19c5c",
   "metadata": {
    "ExecuteTime": {
     "end_time": "2024-06-09T14:46:57.607394Z",
     "start_time": "2024-06-09T14:46:57.592434Z"
    }
   },
   "source": [
    "ff_data.head()"
   ],
   "outputs": [
    {
     "data": {
      "text/plain": [
       "         portf_rtn     mkt     smb     hml   rf  portf_ex_rtn\n",
       "Date                                                         \n",
       "2014-07   0.068426 -0.0204 -0.0429  0.0003  0.0      0.068426\n",
       "2014-08   0.055110  0.0424  0.0040 -0.0045  0.0      0.055110\n",
       "2014-09   0.017298 -0.0197 -0.0371 -0.0134  0.0      0.017298\n",
       "2014-10   0.004078  0.0252  0.0421 -0.0181  0.0      0.004078\n",
       "2014-11  -0.007693  0.0255 -0.0206 -0.0309  0.0     -0.007693"
      ],
      "text/html": [
       "<div>\n",
       "<style scoped>\n",
       "    .dataframe tbody tr th:only-of-type {\n",
       "        vertical-align: middle;\n",
       "    }\n",
       "\n",
       "    .dataframe tbody tr th {\n",
       "        vertical-align: top;\n",
       "    }\n",
       "\n",
       "    .dataframe thead th {\n",
       "        text-align: right;\n",
       "    }\n",
       "</style>\n",
       "<table border=\"1\" class=\"dataframe\">\n",
       "  <thead>\n",
       "    <tr style=\"text-align: right;\">\n",
       "      <th></th>\n",
       "      <th>portf_rtn</th>\n",
       "      <th>mkt</th>\n",
       "      <th>smb</th>\n",
       "      <th>hml</th>\n",
       "      <th>rf</th>\n",
       "      <th>portf_ex_rtn</th>\n",
       "    </tr>\n",
       "    <tr>\n",
       "      <th>Date</th>\n",
       "      <th></th>\n",
       "      <th></th>\n",
       "      <th></th>\n",
       "      <th></th>\n",
       "      <th></th>\n",
       "      <th></th>\n",
       "    </tr>\n",
       "  </thead>\n",
       "  <tbody>\n",
       "    <tr>\n",
       "      <th>2014-07</th>\n",
       "      <td>0.068426</td>\n",
       "      <td>-0.0204</td>\n",
       "      <td>-0.0429</td>\n",
       "      <td>0.0003</td>\n",
       "      <td>0.0</td>\n",
       "      <td>0.068426</td>\n",
       "    </tr>\n",
       "    <tr>\n",
       "      <th>2014-08</th>\n",
       "      <td>0.055110</td>\n",
       "      <td>0.0424</td>\n",
       "      <td>0.0040</td>\n",
       "      <td>-0.0045</td>\n",
       "      <td>0.0</td>\n",
       "      <td>0.055110</td>\n",
       "    </tr>\n",
       "    <tr>\n",
       "      <th>2014-09</th>\n",
       "      <td>0.017298</td>\n",
       "      <td>-0.0197</td>\n",
       "      <td>-0.0371</td>\n",
       "      <td>-0.0134</td>\n",
       "      <td>0.0</td>\n",
       "      <td>0.017298</td>\n",
       "    </tr>\n",
       "    <tr>\n",
       "      <th>2014-10</th>\n",
       "      <td>0.004078</td>\n",
       "      <td>0.0252</td>\n",
       "      <td>0.0421</td>\n",
       "      <td>-0.0181</td>\n",
       "      <td>0.0</td>\n",
       "      <td>0.004078</td>\n",
       "    </tr>\n",
       "    <tr>\n",
       "      <th>2014-11</th>\n",
       "      <td>-0.007693</td>\n",
       "      <td>0.0255</td>\n",
       "      <td>-0.0206</td>\n",
       "      <td>-0.0309</td>\n",
       "      <td>0.0</td>\n",
       "      <td>-0.007693</td>\n",
       "    </tr>\n",
       "  </tbody>\n",
       "</table>\n",
       "</div>"
      ]
     },
     "execution_count": 73,
     "metadata": {},
     "output_type": "execute_result"
    }
   ],
   "execution_count": 73
  },
  {
   "cell_type": "markdown",
   "id": "ee175d87",
   "metadata": {},
   "source": [
    "Creiamo una funzione per calcolare la regressione ricorrente"
   ]
  },
  {
   "cell_type": "code",
   "id": "fee00b6e",
   "metadata": {
    "ExecuteTime": {
     "end_time": "2024-06-09T14:46:57.908590Z",
     "start_time": "2024-06-09T14:46:57.899612Z"
    }
   },
   "source": [
    "def rolling_factor_model(input_data, formula, window_size):\n",
    "    coeffs = []\n",
    "\n",
    "    for start_index in range(len(input_data) - window_size + 1):        \n",
    "        end_index = start_index + window_size\n",
    "\n",
    "        # define and fit the regression model \n",
    "        ff_model = smf.ols(formula=formula,data=input_data[start_index:end_index]).fit()\n",
    "   \n",
    "        # store coefficients\n",
    "        coeffs.append(ff_model.params)\n",
    "    \n",
    "    coeffs_df = pd.DataFrame(\n",
    "        coeffs, \n",
    "        index=input_data.index[window_size - 1:])\n",
    "\n",
    "    return coeffs_df"
   ],
   "outputs": [],
   "execution_count": 74
  },
  {
   "cell_type": "code",
   "id": "fb023b08",
   "metadata": {
    "ExecuteTime": {
     "end_time": "2024-06-09T14:46:58.549911Z",
     "start_time": "2024-06-09T14:46:58.021796Z"
    }
   },
   "source": [
    "model_formula = 'portf_ex_rtn ~ mkt + smb + hml'\n",
    "results_df = rolling_factor_model(ff_data, model_formula, window_size = 36)"
   ],
   "outputs": [],
   "execution_count": 75
  },
  {
   "cell_type": "code",
   "id": "2beb37e5",
   "metadata": {
    "ExecuteTime": {
     "end_time": "2024-06-09T14:46:58.847803Z",
     "start_time": "2024-06-09T14:46:58.552902Z"
    }
   },
   "source": [
    "results_df.plot(title = 'Rolling Fama-French Three Factor model')\n",
    "plt.grid();"
   ],
   "outputs": [
    {
     "data": {
      "text/plain": [
       "<Figure size 640x480 with 1 Axes>"
      ],
      "image/png": "[encoded data removed]"
     },
     "metadata": {},
     "output_type": "display_data"
    }
   ],
   "execution_count": 76
  },
  {
   "cell_type": "markdown",
   "id": "bf217d23",
   "metadata": {},
   "source": "### Modello di Carhart a quattro fattori e Fama e French a cinque fattori"
  },
  {
   "cell_type": "code",
   "id": "5e56a8b9",
   "metadata": {
    "ExecuteTime": {
     "end_time": "2024-06-09T14:46:58.862995Z",
     "start_time": "2024-06-09T14:46:58.848799Z"
    }
   },
   "source": [
    "risky_asset = 'AMZN'\n",
    "start_date = '2014-05-31'\n",
    "end_date = '2024-03-31'"
   ],
   "outputs": [],
   "execution_count": 77
  },
  {
   "cell_type": "code",
   "id": "9c7204e0",
   "metadata": {
    "ExecuteTime": {
     "end_time": "2024-06-09T14:46:59.175700Z",
     "start_time": "2024-06-09T14:46:58.866495Z"
    }
   },
   "source": [
    "# tre fattori\n",
    "df_three_factor = web.DataReader('F-F_Research_Data_Factors', 'famafrench', start = start_date)[0]\n",
    "df_three_factor.index = df_three_factor.index.format()"
   ],
   "outputs": [
    {
     "name": "stderr",
     "output_type": "stream",
     "text": [
      "C:\\Users\\utente\\AppData\\Local\\Temp\\ipykernel_264\\2002033036.py:2: FutureWarning: The argument 'date_parser' is deprecated and will be removed in a future version. Please use 'date_format' instead, or read your data in as 'object' dtype and then call 'to_datetime'.\n",
      "  df_three_factor = web.DataReader('F-F_Research_Data_Factors', 'famafrench', start = start_date)[0]\n",
      "C:\\Users\\utente\\AppData\\Local\\Temp\\ipykernel_264\\2002033036.py:2: FutureWarning: The argument 'date_parser' is deprecated and will be removed in a future version. Please use 'date_format' instead, or read your data in as 'object' dtype and then call 'to_datetime'.\n",
      "  df_three_factor = web.DataReader('F-F_Research_Data_Factors', 'famafrench', start = start_date)[0]\n",
      "C:\\Users\\utente\\AppData\\Local\\Temp\\ipykernel_264\\2002033036.py:3: FutureWarning: PeriodIndex.format is deprecated and will be removed in a future version. Convert using index.astype(str) or index.map(formatter) instead.\n",
      "  df_three_factor.index = df_three_factor.index.format()\n"
     ]
    }
   ],
   "execution_count": 78
  },
  {
   "cell_type": "code",
   "id": "6365f8cd",
   "metadata": {
    "ExecuteTime": {
     "end_time": "2024-06-09T14:46:59.520350Z",
     "start_time": "2024-06-09T14:46:59.176694Z"
    }
   },
   "source": [
    "# quattro fattori con fattore \"momentum\" di Carhart\n",
    "df_mom = web.DataReader('F-F_Momentum_factor', 'famafrench', start = start_date)[0]\n",
    "df_mom.index = df_mom.index.format()"
   ],
   "outputs": [
    {
     "name": "stderr",
     "output_type": "stream",
     "text": [
      "C:\\Users\\utente\\AppData\\Local\\Temp\\ipykernel_264\\548808727.py:2: FutureWarning: The argument 'date_parser' is deprecated and will be removed in a future version. Please use 'date_format' instead, or read your data in as 'object' dtype and then call 'to_datetime'.\n",
      "  df_mom = web.DataReader('F-F_Momentum_factor', 'famafrench', start = start_date)[0]\n",
      "C:\\Users\\utente\\AppData\\Local\\Temp\\ipykernel_264\\548808727.py:2: FutureWarning: The argument 'date_parser' is deprecated and will be removed in a future version. Please use 'date_format' instead, or read your data in as 'object' dtype and then call 'to_datetime'.\n",
      "  df_mom = web.DataReader('F-F_Momentum_factor', 'famafrench', start = start_date)[0]\n",
      "C:\\Users\\utente\\AppData\\Local\\Temp\\ipykernel_264\\548808727.py:3: FutureWarning: PeriodIndex.format is deprecated and will be removed in a future version. Convert using index.astype(str) or index.map(formatter) instead.\n",
      "  df_mom.index = df_mom.index.format()\n"
     ]
    }
   ],
   "execution_count": 79
  },
  {
   "metadata": {},
   "cell_type": "markdown",
   "source": "Il fattore Momentum dice che se un titolo è cresciuto l'anno scorso continuerà a crescere (?)",
   "id": "df34ba9c5bfe102a"
  },
  {
   "cell_type": "code",
   "id": "541e5c61",
   "metadata": {
    "ExecuteTime": {
     "end_time": "2024-06-09T14:46:59.830928Z",
     "start_time": "2024-06-09T14:46:59.522345Z"
    }
   },
   "source": [
    "# cinque fattori con fattori Robust Minus Weak (RMW) e Conservative Minus Aggressive (CMA)\n",
    "df_five_factor = web.DataReader('F-F_Research_Data_5_Factors_2x3', 'famafrench', start = start_date)[0]\n",
    "df_five_factor.index = df_five_factor.index.format()"
   ],
   "outputs": [
    {
     "name": "stderr",
     "output_type": "stream",
     "text": [
      "C:\\Users\\utente\\AppData\\Local\\Temp\\ipykernel_264\\3415908415.py:2: FutureWarning: The argument 'date_parser' is deprecated and will be removed in a future version. Please use 'date_format' instead, or read your data in as 'object' dtype and then call 'to_datetime'.\n",
      "  df_five_factor = web.DataReader('F-F_Research_Data_5_Factors_2x3', 'famafrench', start = start_date)[0]\n",
      "C:\\Users\\utente\\AppData\\Local\\Temp\\ipykernel_264\\3415908415.py:2: FutureWarning: The argument 'date_parser' is deprecated and will be removed in a future version. Please use 'date_format' instead, or read your data in as 'object' dtype and then call 'to_datetime'.\n",
      "  df_five_factor = web.DataReader('F-F_Research_Data_5_Factors_2x3', 'famafrench', start = start_date)[0]\n",
      "C:\\Users\\utente\\AppData\\Local\\Temp\\ipykernel_264\\3415908415.py:3: FutureWarning: PeriodIndex.format is deprecated and will be removed in a future version. Convert using index.astype(str) or index.map(formatter) instead.\n",
      "  df_five_factor.index = df_five_factor.index.format()\n"
     ]
    }
   ],
   "execution_count": 80
  },
  {
   "cell_type": "code",
   "id": "be9c8490",
   "metadata": {
    "ExecuteTime": {
     "end_time": "2024-06-09T14:47:00.093856Z",
     "start_time": "2024-06-09T14:46:59.832923Z"
    }
   },
   "source": [
    "asset_df = yf.download(risky_asset,\n",
    "                       start = start_date, end = end_date)"
   ],
   "outputs": [
    {
     "name": "stderr",
     "output_type": "stream",
     "text": [
      "[*********************100%%**********************]  1 of 1 completed\n"
     ]
    }
   ],
   "execution_count": 81
  },
  {
   "cell_type": "code",
   "id": "8e3fe767",
   "metadata": {
    "ExecuteTime": {
     "end_time": "2024-06-09T14:47:00.109870Z",
     "start_time": "2024-06-09T14:47:00.094855Z"
    }
   },
   "source": [
    "y = asset_df['Adj Close'].resample('M').last().pct_change().dropna()\n",
    "y.index = y.index.strftime('%Y-%m')\n",
    "y.name = 'return'"
   ],
   "outputs": [
    {
     "name": "stderr",
     "output_type": "stream",
     "text": [
      "C:\\Users\\utente\\AppData\\Local\\Temp\\ipykernel_264\\1812768267.py:1: FutureWarning: 'M' is deprecated and will be removed in a future version, please use 'ME' instead.\n",
      "  y = asset_df['Adj Close'].resample('M').last().pct_change().dropna()\n"
     ]
    }
   ],
   "execution_count": 82
  },
  {
   "cell_type": "code",
   "id": "3007c288",
   "metadata": {
    "ExecuteTime": {
     "end_time": "2024-06-09T14:47:00.140789Z",
     "start_time": "2024-06-09T14:47:00.111865Z"
    }
   },
   "source": [
    "y"
   ],
   "outputs": [
    {
     "data": {
      "text/plain": [
       "Date\n",
       "2014-07   -0.036302\n",
       "2014-08    0.083229\n",
       "2014-09   -0.048962\n",
       "2014-10   -0.052661\n",
       "2014-11    0.108623\n",
       "             ...   \n",
       "2023-11    0.097678\n",
       "2023-12    0.040044\n",
       "2024-01    0.021456\n",
       "2024-02    0.138918\n",
       "2024-03    0.020480\n",
       "Name: return, Length: 117, dtype: float64"
      ]
     },
     "execution_count": 83,
     "metadata": {},
     "output_type": "execute_result"
    }
   ],
   "execution_count": 83
  },
  {
   "cell_type": "code",
   "id": "bf76e833",
   "metadata": {
    "ExecuteTime": {
     "end_time": "2024-06-09T14:47:00.156257Z",
     "start_time": "2024-06-09T14:47:00.142783Z"
    }
   },
   "source": [
    "four_factor_data = df_three_factor.join(df_mom).join(y)"
   ],
   "outputs": [],
   "execution_count": 84
  },
  {
   "cell_type": "code",
   "id": "a96bc0b1",
   "metadata": {
    "ExecuteTime": {
     "end_time": "2024-06-09T14:47:00.172214Z",
     "start_time": "2024-06-09T14:47:00.158252Z"
    }
   },
   "source": [
    "four_factor_data.columns = ['mkt', 'smb', 'hml', 'rf', 'mom', 'rtn']"
   ],
   "outputs": [],
   "execution_count": 85
  },
  {
   "cell_type": "code",
   "id": "9c3d732d",
   "metadata": {
    "ExecuteTime": {
     "end_time": "2024-06-09T14:47:00.187175Z",
     "start_time": "2024-06-09T14:47:00.175207Z"
    }
   },
   "source": [
    "four_factor_data.loc[:,four_factor_data.columns != 'rtn'] /= 100"
   ],
   "outputs": [],
   "execution_count": 86
  },
  {
   "cell_type": "code",
   "id": "3ea22bd0",
   "metadata": {
    "ExecuteTime": {
     "end_time": "2024-06-09T14:47:00.202134Z",
     "start_time": "2024-06-09T14:47:00.189169Z"
    }
   },
   "source": [
    "#four_factor_data.index = pd.to_datetime(four_factor_data.index, format = '%Y-%m')\n",
    "four_factor_data.dropna(inplace = True)"
   ],
   "outputs": [],
   "execution_count": 87
  },
  {
   "cell_type": "code",
   "id": "69911f4e",
   "metadata": {
    "ExecuteTime": {
     "end_time": "2024-06-09T14:47:00.218091Z",
     "start_time": "2024-06-09T14:47:00.203131Z"
    }
   },
   "source": [
    "four_factor_data = four_factor_data.loc[start_date:end_date]"
   ],
   "outputs": [],
   "execution_count": 88
  },
  {
   "cell_type": "code",
   "id": "caf688ca",
   "metadata": {
    "ExecuteTime": {
     "end_time": "2024-06-09T14:47:00.234048Z",
     "start_time": "2024-06-09T14:47:00.220086Z"
    }
   },
   "source": [
    "four_factor_data['excess_rtn'] = four_factor_data['rtn'] - four_factor_data['rf']"
   ],
   "outputs": [],
   "execution_count": 89
  },
  {
   "cell_type": "code",
   "id": "833aa586",
   "metadata": {
    "ExecuteTime": {
     "end_time": "2024-06-09T14:47:00.250007Z",
     "start_time": "2024-06-09T14:47:00.236046Z"
    }
   },
   "source": [
    "four_factor_data.head()"
   ],
   "outputs": [
    {
     "data": {
      "text/plain": [
       "            mkt     smb     hml   rf     mom       rtn  excess_rtn\n",
       "2014-07 -0.0204 -0.0429  0.0003  0.0 -0.0012 -0.036302   -0.036302\n",
       "2014-08  0.0424  0.0040 -0.0045  0.0  0.0082  0.083229    0.083229\n",
       "2014-09 -0.0197 -0.0371 -0.0134  0.0  0.0050 -0.048962   -0.048962\n",
       "2014-10  0.0252  0.0421 -0.0181  0.0 -0.0006 -0.052661   -0.052661\n",
       "2014-11  0.0255 -0.0206 -0.0309  0.0  0.0069  0.108623    0.108623"
      ],
      "text/html": [
       "<div>\n",
       "<style scoped>\n",
       "    .dataframe tbody tr th:only-of-type {\n",
       "        vertical-align: middle;\n",
       "    }\n",
       "\n",
       "    .dataframe tbody tr th {\n",
       "        vertical-align: top;\n",
       "    }\n",
       "\n",
       "    .dataframe thead th {\n",
       "        text-align: right;\n",
       "    }\n",
       "</style>\n",
       "<table border=\"1\" class=\"dataframe\">\n",
       "  <thead>\n",
       "    <tr style=\"text-align: right;\">\n",
       "      <th></th>\n",
       "      <th>mkt</th>\n",
       "      <th>smb</th>\n",
       "      <th>hml</th>\n",
       "      <th>rf</th>\n",
       "      <th>mom</th>\n",
       "      <th>rtn</th>\n",
       "      <th>excess_rtn</th>\n",
       "    </tr>\n",
       "  </thead>\n",
       "  <tbody>\n",
       "    <tr>\n",
       "      <th>2014-07</th>\n",
       "      <td>-0.0204</td>\n",
       "      <td>-0.0429</td>\n",
       "      <td>0.0003</td>\n",
       "      <td>0.0</td>\n",
       "      <td>-0.0012</td>\n",
       "      <td>-0.036302</td>\n",
       "      <td>-0.036302</td>\n",
       "    </tr>\n",
       "    <tr>\n",
       "      <th>2014-08</th>\n",
       "      <td>0.0424</td>\n",
       "      <td>0.0040</td>\n",
       "      <td>-0.0045</td>\n",
       "      <td>0.0</td>\n",
       "      <td>0.0082</td>\n",
       "      <td>0.083229</td>\n",
       "      <td>0.083229</td>\n",
       "    </tr>\n",
       "    <tr>\n",
       "      <th>2014-09</th>\n",
       "      <td>-0.0197</td>\n",
       "      <td>-0.0371</td>\n",
       "      <td>-0.0134</td>\n",
       "      <td>0.0</td>\n",
       "      <td>0.0050</td>\n",
       "      <td>-0.048962</td>\n",
       "      <td>-0.048962</td>\n",
       "    </tr>\n",
       "    <tr>\n",
       "      <th>2014-10</th>\n",
       "      <td>0.0252</td>\n",
       "      <td>0.0421</td>\n",
       "      <td>-0.0181</td>\n",
       "      <td>0.0</td>\n",
       "      <td>-0.0006</td>\n",
       "      <td>-0.052661</td>\n",
       "      <td>-0.052661</td>\n",
       "    </tr>\n",
       "    <tr>\n",
       "      <th>2014-11</th>\n",
       "      <td>0.0255</td>\n",
       "      <td>-0.0206</td>\n",
       "      <td>-0.0309</td>\n",
       "      <td>0.0</td>\n",
       "      <td>0.0069</td>\n",
       "      <td>0.108623</td>\n",
       "      <td>0.108623</td>\n",
       "    </tr>\n",
       "  </tbody>\n",
       "</table>\n",
       "</div>"
      ]
     },
     "execution_count": 90,
     "metadata": {},
     "output_type": "execute_result"
    }
   ],
   "execution_count": 90
  },
  {
   "cell_type": "code",
   "id": "b6b910f2",
   "metadata": {
    "ExecuteTime": {
     "end_time": "2024-06-09T14:47:00.281920Z",
     "start_time": "2024-06-09T14:47:00.252001Z"
    }
   },
   "source": [
    "four_factor_model = smf.ols(formula ='excess_rtn ~ mkt + smb + hml + mom', data = four_factor_data).fit()"
   ],
   "outputs": [],
   "execution_count": 91
  },
  {
   "cell_type": "code",
   "id": "3b566f33",
   "metadata": {
    "ExecuteTime": {
     "end_time": "2024-06-09T14:47:00.327798Z",
     "start_time": "2024-06-09T14:47:00.283916Z"
    }
   },
   "source": "four_factor_model.summary()",
   "outputs": [
    {
     "data": {
      "text/plain": [
       "<class 'statsmodels.iolib.summary.Summary'>\n",
       "\"\"\"\n",
       "                            OLS Regression Results                            \n",
       "==============================================================================\n",
       "Dep. Variable:             excess_rtn   R-squared:                       0.572\n",
       "Model:                            OLS   Adj. R-squared:                  0.557\n",
       "Method:                 Least Squares   F-statistic:                     37.45\n",
       "Date:                Sun, 09 Jun 2024   Prob (F-statistic):           7.41e-20\n",
       "Time:                        16:47:00   Log-Likelihood:                 165.23\n",
       "No. Observations:                 117   AIC:                            -320.5\n",
       "Df Residuals:                     112   BIC:                            -306.7\n",
       "Df Model:                           4                                         \n",
       "Covariance Type:            nonrobust                                         \n",
       "==============================================================================\n",
       "                 coef    std err          t      P>|t|      [0.025      0.975]\n",
       "------------------------------------------------------------------------------\n",
       "Intercept      0.0090      0.006      1.559      0.122      -0.002       0.020\n",
       "mkt            1.2964      0.137      9.486      0.000       1.026       1.567\n",
       "smb           -0.3374      0.218     -1.549      0.124      -0.769       0.094\n",
       "hml           -0.9873      0.156     -6.318      0.000      -1.297      -0.678\n",
       "mom           -0.0626      0.166     -0.377      0.707      -0.392       0.266\n",
       "==============================================================================\n",
       "Omnibus:                        1.040   Durbin-Watson:                   2.036\n",
       "Prob(Omnibus):                  0.595   Jarque-Bera (JB):                0.862\n",
       "Skew:                           0.210   Prob(JB):                        0.650\n",
       "Kurtosis:                       3.003   Cond. No.                         40.6\n",
       "==============================================================================\n",
       "\n",
       "Notes:\n",
       "[1] Standard Errors assume that the covariance matrix of the errors is correctly specified.\n",
       "\"\"\""
      ],
      "text/html": [
       "<table class=\"simpletable\">\n",
       "<caption>OLS Regression Results</caption>\n",
       "<tr>\n",
       "  <th>Dep. Variable:</th>       <td>excess_rtn</td>    <th>  R-squared:         </th> <td>   0.572</td>\n",
       "</tr>\n",
       "<tr>\n",
       "  <th>Model:</th>                   <td>OLS</td>       <th>  Adj. R-squared:    </th> <td>   0.557</td>\n",
       "</tr>\n",
       "<tr>\n",
       "  <th>Method:</th>             <td>Least Squares</td>  <th>  F-statistic:       </th> <td>   37.45</td>\n",
       "</tr>\n",
       "<tr>\n",
       "  <th>Date:</th>             <td>Sun, 09 Jun 2024</td> <th>  Prob (F-statistic):</th> <td>7.41e-20</td>\n",
       "</tr>\n",
       "<tr>\n",
       "  <th>Time:</th>                 <td>16:47:00</td>     <th>  Log-Likelihood:    </th> <td>  165.23</td>\n",
       "</tr>\n",
       "<tr>\n",
       "  <th>No. Observations:</th>      <td>   117</td>      <th>  AIC:               </th> <td>  -320.5</td>\n",
       "</tr>\n",
       "<tr>\n",
       "  <th>Df Residuals:</th>          <td>   112</td>      <th>  BIC:               </th> <td>  -306.7</td>\n",
       "</tr>\n",
       "<tr>\n",
       "  <th>Df Model:</th>              <td>     4</td>      <th>                     </th>     <td> </td>   \n",
       "</tr>\n",
       "<tr>\n",
       "  <th>Covariance Type:</th>      <td>nonrobust</td>    <th>                     </th>     <td> </td>   \n",
       "</tr>\n",
       "</table>\n",
       "<table class=\"simpletable\">\n",
       "<tr>\n",
       "      <td></td>         <th>coef</th>     <th>std err</th>      <th>t</th>      <th>P>|t|</th>  <th>[0.025</th>    <th>0.975]</th>  \n",
       "</tr>\n",
       "<tr>\n",
       "  <th>Intercept</th> <td>    0.0090</td> <td>    0.006</td> <td>    1.559</td> <td> 0.122</td> <td>   -0.002</td> <td>    0.020</td>\n",
       "</tr>\n",
       "<tr>\n",
       "  <th>mkt</th>       <td>    1.2964</td> <td>    0.137</td> <td>    9.486</td> <td> 0.000</td> <td>    1.026</td> <td>    1.567</td>\n",
       "</tr>\n",
       "<tr>\n",
       "  <th>smb</th>       <td>   -0.3374</td> <td>    0.218</td> <td>   -1.549</td> <td> 0.124</td> <td>   -0.769</td> <td>    0.094</td>\n",
       "</tr>\n",
       "<tr>\n",
       "  <th>hml</th>       <td>   -0.9873</td> <td>    0.156</td> <td>   -6.318</td> <td> 0.000</td> <td>   -1.297</td> <td>   -0.678</td>\n",
       "</tr>\n",
       "<tr>\n",
       "  <th>mom</th>       <td>   -0.0626</td> <td>    0.166</td> <td>   -0.377</td> <td> 0.707</td> <td>   -0.392</td> <td>    0.266</td>\n",
       "</tr>\n",
       "</table>\n",
       "<table class=\"simpletable\">\n",
       "<tr>\n",
       "  <th>Omnibus:</th>       <td> 1.040</td> <th>  Durbin-Watson:     </th> <td>   2.036</td>\n",
       "</tr>\n",
       "<tr>\n",
       "  <th>Prob(Omnibus):</th> <td> 0.595</td> <th>  Jarque-Bera (JB):  </th> <td>   0.862</td>\n",
       "</tr>\n",
       "<tr>\n",
       "  <th>Skew:</th>          <td> 0.210</td> <th>  Prob(JB):          </th> <td>   0.650</td>\n",
       "</tr>\n",
       "<tr>\n",
       "  <th>Kurtosis:</th>      <td> 3.003</td> <th>  Cond. No.          </th> <td>    40.6</td>\n",
       "</tr>\n",
       "</table><br/><br/>Notes:<br/>[1] Standard Errors assume that the covariance matrix of the errors is correctly specified."
      ],
      "text/latex": "\\begin{center}\n\\begin{tabular}{lclc}\n\\toprule\n\\textbf{Dep. Variable:}    &   excess\\_rtn    & \\textbf{  R-squared:         } &     0.572   \\\\\n\\textbf{Model:}            &       OLS        & \\textbf{  Adj. R-squared:    } &     0.557   \\\\\n\\textbf{Method:}           &  Least Squares   & \\textbf{  F-statistic:       } &     37.45   \\\\\n\\textbf{Date:}             & Sun, 09 Jun 2024 & \\textbf{  Prob (F-statistic):} &  7.41e-20   \\\\\n\\textbf{Time:}             &     16:47:00     & \\textbf{  Log-Likelihood:    } &    165.23   \\\\\n\\textbf{No. Observations:} &         117      & \\textbf{  AIC:               } &    -320.5   \\\\\n\\textbf{Df Residuals:}     &         112      & \\textbf{  BIC:               } &    -306.7   \\\\\n\\textbf{Df Model:}         &           4      & \\textbf{                     } &             \\\\\n\\textbf{Covariance Type:}  &    nonrobust     & \\textbf{                     } &             \\\\\n\\bottomrule\n\\end{tabular}\n\\begin{tabular}{lcccccc}\n                   & \\textbf{coef} & \\textbf{std err} & \\textbf{t} & \\textbf{P$> |$t$|$} & \\textbf{[0.025} & \\textbf{0.975]}  \\\\\n\\midrule\n\\textbf{Intercept} &       0.0090  &        0.006     &     1.559  &         0.122        &       -0.002    &        0.020     \\\\\n\\textbf{mkt}       &       1.2964  &        0.137     &     9.486  &         0.000        &        1.026    &        1.567     \\\\\n\\textbf{smb}       &      -0.3374  &        0.218     &    -1.549  &         0.124        &       -0.769    &        0.094     \\\\\n\\textbf{hml}       &      -0.9873  &        0.156     &    -6.318  &         0.000        &       -1.297    &       -0.678     \\\\\n\\textbf{mom}       &      -0.0626  &        0.166     &    -0.377  &         0.707        &       -0.392    &        0.266     \\\\\n\\bottomrule\n\\end{tabular}\n\\begin{tabular}{lclc}\n\\textbf{Omnibus:}       &  1.040 & \\textbf{  Durbin-Watson:     } &    2.036  \\\\\n\\textbf{Prob(Omnibus):} &  0.595 & \\textbf{  Jarque-Bera (JB):  } &    0.862  \\\\\n\\textbf{Skew:}          &  0.210 & \\textbf{  Prob(JB):          } &    0.650  \\\\\n\\textbf{Kurtosis:}      &  3.003 & \\textbf{  Cond. No.          } &     40.6  \\\\\n\\bottomrule\n\\end{tabular}\n%\\caption{OLS Regression Results}\n\\end{center}\n\nNotes: \\newline\n [1] Standard Errors assume that the covariance matrix of the errors is correctly specified."
     },
     "execution_count": 92,
     "metadata": {},
     "output_type": "execute_result"
    }
   ],
   "execution_count": 92
  },
  {
   "cell_type": "code",
   "id": "2b2da40d",
   "metadata": {
    "ExecuteTime": {
     "end_time": "2024-06-09T14:47:00.342758Z",
     "start_time": "2024-06-09T14:47:00.329792Z"
    }
   },
   "source": [
    "five_factor_data = df_five_factor.join(y)"
   ],
   "outputs": [],
   "execution_count": 93
  },
  {
   "cell_type": "code",
   "id": "d5a2ee80",
   "metadata": {
    "ExecuteTime": {
     "end_time": "2024-06-09T14:47:00.358293Z",
     "start_time": "2024-06-09T14:47:00.344753Z"
    }
   },
   "source": [
    "five_factor_data.columns = ['mkt', 'smb', 'hml', 'rmw', 'cma', 'rf', 'rtn']"
   ],
   "outputs": [],
   "execution_count": 94
  },
  {
   "cell_type": "code",
   "id": "010cb61a",
   "metadata": {
    "ExecuteTime": {
     "end_time": "2024-06-09T14:47:00.374251Z",
     "start_time": "2024-06-09T14:47:00.360289Z"
    }
   },
   "source": [
    "five_factor_data.loc[:, five_factor_data.columns != 'rtn'] /= 100"
   ],
   "outputs": [],
   "execution_count": 95
  },
  {
   "cell_type": "code",
   "id": "955798e3",
   "metadata": {
    "ExecuteTime": {
     "end_time": "2024-06-09T14:47:00.390209Z",
     "start_time": "2024-06-09T14:47:00.379239Z"
    }
   },
   "source": [
    "#five_factor_data.index = pd.to_datetime(five_factor_data.index, format = '%Y-%m')"
   ],
   "outputs": [],
   "execution_count": 96
  },
  {
   "cell_type": "code",
   "id": "3f507327",
   "metadata": {
    "ExecuteTime": {
     "end_time": "2024-06-09T14:47:00.405169Z",
     "start_time": "2024-06-09T14:47:00.392203Z"
    }
   },
   "source": [
    "five_factor_data.dropna(inplace = True)"
   ],
   "outputs": [],
   "execution_count": 97
  },
  {
   "cell_type": "code",
   "id": "7749d015",
   "metadata": {
    "ExecuteTime": {
     "end_time": "2024-06-09T14:47:00.420129Z",
     "start_time": "2024-06-09T14:47:00.407163Z"
    }
   },
   "source": [
    "five_factor_data = five_factor_data.loc[start_date:end_date]"
   ],
   "outputs": [],
   "execution_count": 98
  },
  {
   "cell_type": "code",
   "id": "0f4e0c5f",
   "metadata": {
    "ExecuteTime": {
     "end_time": "2024-06-09T14:47:00.607626Z",
     "start_time": "2024-06-09T14:47:00.589705Z"
    }
   },
   "source": [
    "five_factor_data['excess_rtn'] = five_factor_data['rtn'] - five_factor_data['rf']"
   ],
   "outputs": [],
   "execution_count": 99
  },
  {
   "cell_type": "code",
   "id": "45bf0b7f",
   "metadata": {
    "ExecuteTime": {
     "end_time": "2024-06-09T14:47:00.951095Z",
     "start_time": "2024-06-09T14:47:00.937132Z"
    }
   },
   "source": [
    "five_factor_data.head()"
   ],
   "outputs": [
    {
     "data": {
      "text/plain": [
       "            mkt     smb     hml     rmw     cma   rf       rtn  excess_rtn\n",
       "2014-07 -0.0204 -0.0429  0.0003  0.0089  0.0052  0.0 -0.036302   -0.036302\n",
       "2014-08  0.0424  0.0031 -0.0045 -0.0064 -0.0070  0.0  0.083229    0.083229\n",
       "2014-09 -0.0197 -0.0372 -0.0134  0.0130 -0.0051  0.0 -0.048962   -0.048962\n",
       "2014-10  0.0252  0.0373 -0.0181 -0.0057 -0.0011  0.0 -0.052661   -0.052661\n",
       "2014-11  0.0255 -0.0228 -0.0309  0.0150  0.0027  0.0  0.108623    0.108623"
      ],
      "text/html": [
       "<div>\n",
       "<style scoped>\n",
       "    .dataframe tbody tr th:only-of-type {\n",
       "        vertical-align: middle;\n",
       "    }\n",
       "\n",
       "    .dataframe tbody tr th {\n",
       "        vertical-align: top;\n",
       "    }\n",
       "\n",
       "    .dataframe thead th {\n",
       "        text-align: right;\n",
       "    }\n",
       "</style>\n",
       "<table border=\"1\" class=\"dataframe\">\n",
       "  <thead>\n",
       "    <tr style=\"text-align: right;\">\n",
       "      <th></th>\n",
       "      <th>mkt</th>\n",
       "      <th>smb</th>\n",
       "      <th>hml</th>\n",
       "      <th>rmw</th>\n",
       "      <th>cma</th>\n",
       "      <th>rf</th>\n",
       "      <th>rtn</th>\n",
       "      <th>excess_rtn</th>\n",
       "    </tr>\n",
       "  </thead>\n",
       "  <tbody>\n",
       "    <tr>\n",
       "      <th>2014-07</th>\n",
       "      <td>-0.0204</td>\n",
       "      <td>-0.0429</td>\n",
       "      <td>0.0003</td>\n",
       "      <td>0.0089</td>\n",
       "      <td>0.0052</td>\n",
       "      <td>0.0</td>\n",
       "      <td>-0.036302</td>\n",
       "      <td>-0.036302</td>\n",
       "    </tr>\n",
       "    <tr>\n",
       "      <th>2014-08</th>\n",
       "      <td>0.0424</td>\n",
       "      <td>0.0031</td>\n",
       "      <td>-0.0045</td>\n",
       "      <td>-0.0064</td>\n",
       "      <td>-0.0070</td>\n",
       "      <td>0.0</td>\n",
       "      <td>0.083229</td>\n",
       "      <td>0.083229</td>\n",
       "    </tr>\n",
       "    <tr>\n",
       "      <th>2014-09</th>\n",
       "      <td>-0.0197</td>\n",
       "      <td>-0.0372</td>\n",
       "      <td>-0.0134</td>\n",
       "      <td>0.0130</td>\n",
       "      <td>-0.0051</td>\n",
       "      <td>0.0</td>\n",
       "      <td>-0.048962</td>\n",
       "      <td>-0.048962</td>\n",
       "    </tr>\n",
       "    <tr>\n",
       "      <th>2014-10</th>\n",
       "      <td>0.0252</td>\n",
       "      <td>0.0373</td>\n",
       "      <td>-0.0181</td>\n",
       "      <td>-0.0057</td>\n",
       "      <td>-0.0011</td>\n",
       "      <td>0.0</td>\n",
       "      <td>-0.052661</td>\n",
       "      <td>-0.052661</td>\n",
       "    </tr>\n",
       "    <tr>\n",
       "      <th>2014-11</th>\n",
       "      <td>0.0255</td>\n",
       "      <td>-0.0228</td>\n",
       "      <td>-0.0309</td>\n",
       "      <td>0.0150</td>\n",
       "      <td>0.0027</td>\n",
       "      <td>0.0</td>\n",
       "      <td>0.108623</td>\n",
       "      <td>0.108623</td>\n",
       "    </tr>\n",
       "  </tbody>\n",
       "</table>\n",
       "</div>"
      ]
     },
     "execution_count": 100,
     "metadata": {},
     "output_type": "execute_result"
    }
   ],
   "execution_count": 100
  },
  {
   "cell_type": "code",
   "id": "9ee55257",
   "metadata": {
    "ExecuteTime": {
     "end_time": "2024-06-09T14:47:01.169349Z",
     "start_time": "2024-06-09T14:47:01.155112Z"
    }
   },
   "source": [
    "five_factor_model = smf.ols(formula ='excess_rtn ~ mkt + smb + hml + rmw + cma', data = five_factor_data).fit()"
   ],
   "outputs": [],
   "execution_count": 101
  },
  {
   "cell_type": "code",
   "id": "893fd97d",
   "metadata": {
    "ExecuteTime": {
     "end_time": "2024-06-09T14:47:01.296034Z",
     "start_time": "2024-06-09T14:47:01.261103Z"
    }
   },
   "source": "five_factor_model.summary()",
   "outputs": [
    {
     "data": {
      "text/plain": [
       "<class 'statsmodels.iolib.summary.Summary'>\n",
       "\"\"\"\n",
       "                            OLS Regression Results                            \n",
       "==============================================================================\n",
       "Dep. Variable:             excess_rtn   R-squared:                       0.633\n",
       "Model:                            OLS   Adj. R-squared:                  0.617\n",
       "Method:                 Least Squares   F-statistic:                     38.30\n",
       "Date:                Sun, 09 Jun 2024   Prob (F-statistic):           1.13e-22\n",
       "Time:                        16:47:01   Log-Likelihood:                 174.21\n",
       "No. Observations:                 117   AIC:                            -336.4\n",
       "Df Residuals:                     111   BIC:                            -319.8\n",
       "Df Model:                           5                                         \n",
       "Covariance Type:            nonrobust                                         \n",
       "==============================================================================\n",
       "                 coef    std err          t      P>|t|      [0.025      0.975]\n",
       "------------------------------------------------------------------------------\n",
       "Intercept      0.0118      0.005      2.178      0.031       0.001       0.022\n",
       "mkt            1.3194      0.126     10.442      0.000       1.069       1.570\n",
       "smb           -0.7929      0.229     -3.456      0.001      -1.247      -0.338\n",
       "hml           -0.3685      0.203     -1.819      0.072      -0.770       0.033\n",
       "rmw           -0.8394      0.288     -2.915      0.004      -1.410      -0.269\n",
       "cma           -0.8754      0.306     -2.862      0.005      -1.481      -0.269\n",
       "==============================================================================\n",
       "Omnibus:                        2.190   Durbin-Watson:                   2.222\n",
       "Prob(Omnibus):                  0.335   Jarque-Bera (JB):                2.142\n",
       "Skew:                           0.324   Prob(JB):                        0.343\n",
       "Kurtosis:                       2.859   Cond. No.                         67.6\n",
       "==============================================================================\n",
       "\n",
       "Notes:\n",
       "[1] Standard Errors assume that the covariance matrix of the errors is correctly specified.\n",
       "\"\"\""
      ],
      "text/html": [
       "<table class=\"simpletable\">\n",
       "<caption>OLS Regression Results</caption>\n",
       "<tr>\n",
       "  <th>Dep. Variable:</th>       <td>excess_rtn</td>    <th>  R-squared:         </th> <td>   0.633</td>\n",
       "</tr>\n",
       "<tr>\n",
       "  <th>Model:</th>                   <td>OLS</td>       <th>  Adj. R-squared:    </th> <td>   0.617</td>\n",
       "</tr>\n",
       "<tr>\n",
       "  <th>Method:</th>             <td>Least Squares</td>  <th>  F-statistic:       </th> <td>   38.30</td>\n",
       "</tr>\n",
       "<tr>\n",
       "  <th>Date:</th>             <td>Sun, 09 Jun 2024</td> <th>  Prob (F-statistic):</th> <td>1.13e-22</td>\n",
       "</tr>\n",
       "<tr>\n",
       "  <th>Time:</th>                 <td>16:47:01</td>     <th>  Log-Likelihood:    </th> <td>  174.21</td>\n",
       "</tr>\n",
       "<tr>\n",
       "  <th>No. Observations:</th>      <td>   117</td>      <th>  AIC:               </th> <td>  -336.4</td>\n",
       "</tr>\n",
       "<tr>\n",
       "  <th>Df Residuals:</th>          <td>   111</td>      <th>  BIC:               </th> <td>  -319.8</td>\n",
       "</tr>\n",
       "<tr>\n",
       "  <th>Df Model:</th>              <td>     5</td>      <th>                     </th>     <td> </td>   \n",
       "</tr>\n",
       "<tr>\n",
       "  <th>Covariance Type:</th>      <td>nonrobust</td>    <th>                     </th>     <td> </td>   \n",
       "</tr>\n",
       "</table>\n",
       "<table class=\"simpletable\">\n",
       "<tr>\n",
       "      <td></td>         <th>coef</th>     <th>std err</th>      <th>t</th>      <th>P>|t|</th>  <th>[0.025</th>    <th>0.975]</th>  \n",
       "</tr>\n",
       "<tr>\n",
       "  <th>Intercept</th> <td>    0.0118</td> <td>    0.005</td> <td>    2.178</td> <td> 0.031</td> <td>    0.001</td> <td>    0.022</td>\n",
       "</tr>\n",
       "<tr>\n",
       "  <th>mkt</th>       <td>    1.3194</td> <td>    0.126</td> <td>   10.442</td> <td> 0.000</td> <td>    1.069</td> <td>    1.570</td>\n",
       "</tr>\n",
       "<tr>\n",
       "  <th>smb</th>       <td>   -0.7929</td> <td>    0.229</td> <td>   -3.456</td> <td> 0.001</td> <td>   -1.247</td> <td>   -0.338</td>\n",
       "</tr>\n",
       "<tr>\n",
       "  <th>hml</th>       <td>   -0.3685</td> <td>    0.203</td> <td>   -1.819</td> <td> 0.072</td> <td>   -0.770</td> <td>    0.033</td>\n",
       "</tr>\n",
       "<tr>\n",
       "  <th>rmw</th>       <td>   -0.8394</td> <td>    0.288</td> <td>   -2.915</td> <td> 0.004</td> <td>   -1.410</td> <td>   -0.269</td>\n",
       "</tr>\n",
       "<tr>\n",
       "  <th>cma</th>       <td>   -0.8754</td> <td>    0.306</td> <td>   -2.862</td> <td> 0.005</td> <td>   -1.481</td> <td>   -0.269</td>\n",
       "</tr>\n",
       "</table>\n",
       "<table class=\"simpletable\">\n",
       "<tr>\n",
       "  <th>Omnibus:</th>       <td> 2.190</td> <th>  Durbin-Watson:     </th> <td>   2.222</td>\n",
       "</tr>\n",
       "<tr>\n",
       "  <th>Prob(Omnibus):</th> <td> 0.335</td> <th>  Jarque-Bera (JB):  </th> <td>   2.142</td>\n",
       "</tr>\n",
       "<tr>\n",
       "  <th>Skew:</th>          <td> 0.324</td> <th>  Prob(JB):          </th> <td>   0.343</td>\n",
       "</tr>\n",
       "<tr>\n",
       "  <th>Kurtosis:</th>      <td> 2.859</td> <th>  Cond. No.          </th> <td>    67.6</td>\n",
       "</tr>\n",
       "</table><br/><br/>Notes:<br/>[1] Standard Errors assume that the covariance matrix of the errors is correctly specified."
      ],
      "text/latex": "\\begin{center}\n\\begin{tabular}{lclc}\n\\toprule\n\\textbf{Dep. Variable:}    &   excess\\_rtn    & \\textbf{  R-squared:         } &     0.633   \\\\\n\\textbf{Model:}            &       OLS        & \\textbf{  Adj. R-squared:    } &     0.617   \\\\\n\\textbf{Method:}           &  Least Squares   & \\textbf{  F-statistic:       } &     38.30   \\\\\n\\textbf{Date:}             & Sun, 09 Jun 2024 & \\textbf{  Prob (F-statistic):} &  1.13e-22   \\\\\n\\textbf{Time:}             &     16:47:01     & \\textbf{  Log-Likelihood:    } &    174.21   \\\\\n\\textbf{No. Observations:} &         117      & \\textbf{  AIC:               } &    -336.4   \\\\\n\\textbf{Df Residuals:}     &         111      & \\textbf{  BIC:               } &    -319.8   \\\\\n\\textbf{Df Model:}         &           5      & \\textbf{                     } &             \\\\\n\\textbf{Covariance Type:}  &    nonrobust     & \\textbf{                     } &             \\\\\n\\bottomrule\n\\end{tabular}\n\\begin{tabular}{lcccccc}\n                   & \\textbf{coef} & \\textbf{std err} & \\textbf{t} & \\textbf{P$> |$t$|$} & \\textbf{[0.025} & \\textbf{0.975]}  \\\\\n\\midrule\n\\textbf{Intercept} &       0.0118  &        0.005     &     2.178  &         0.031        &        0.001    &        0.022     \\\\\n\\textbf{mkt}       &       1.3194  &        0.126     &    10.442  &         0.000        &        1.069    &        1.570     \\\\\n\\textbf{smb}       &      -0.7929  &        0.229     &    -3.456  &         0.001        &       -1.247    &       -0.338     \\\\\n\\textbf{hml}       &      -0.3685  &        0.203     &    -1.819  &         0.072        &       -0.770    &        0.033     \\\\\n\\textbf{rmw}       &      -0.8394  &        0.288     &    -2.915  &         0.004        &       -1.410    &       -0.269     \\\\\n\\textbf{cma}       &      -0.8754  &        0.306     &    -2.862  &         0.005        &       -1.481    &       -0.269     \\\\\n\\bottomrule\n\\end{tabular}\n\\begin{tabular}{lclc}\n\\textbf{Omnibus:}       &  2.190 & \\textbf{  Durbin-Watson:     } &    2.222  \\\\\n\\textbf{Prob(Omnibus):} &  0.335 & \\textbf{  Jarque-Bera (JB):  } &    2.142  \\\\\n\\textbf{Skew:}          &  0.324 & \\textbf{  Prob(JB):          } &    0.343  \\\\\n\\textbf{Kurtosis:}      &  2.859 & \\textbf{  Cond. No.          } &     67.6  \\\\\n\\bottomrule\n\\end{tabular}\n%\\caption{OLS Regression Results}\n\\end{center}\n\nNotes: \\newline\n [1] Standard Errors assume that the covariance matrix of the errors is correctly specified."
     },
     "execution_count": 102,
     "metadata": {},
     "output_type": "execute_result"
    }
   ],
   "execution_count": 102
  },
  {
   "cell_type": "markdown",
   "id": "79e09c1d-85c7-4cb2-8083-6affa382e441",
   "metadata": {},
   "source": [
    "#### Andamento nel tempo degli indici MSCI"
   ]
  },
  {
   "cell_type": "code",
   "id": "f573bf70",
   "metadata": {
    "ExecuteTime": {
     "end_time": "2024-06-09T14:47:01.984549Z",
     "start_time": "2024-06-09T14:47:01.360268Z"
    }
   },
   "source": [
    "data = pd.read_excel('MSCI_Value_Growth.xlsx', index_col = 0, parse_dates = True)"
   ],
   "outputs": [],
   "execution_count": 103
  },
  {
   "cell_type": "code",
   "id": "972a878c",
   "metadata": {
    "ExecuteTime": {
     "end_time": "2024-06-09T14:47:02.000481Z",
     "start_time": "2024-06-09T14:47:01.986517Z"
    }
   },
   "source": [
    "returns = (data/data.shift(1)) - 1\n",
    "returns.dropna(inplace=True)"
   ],
   "outputs": [],
   "execution_count": 104
  },
  {
   "cell_type": "code",
   "id": "3393bbff",
   "metadata": {
    "ExecuteTime": {
     "end_time": "2024-06-09T14:47:02.015439Z",
     "start_time": "2024-06-09T14:47:02.002475Z"
    }
   },
   "source": [
    "returns.head()"
   ],
   "outputs": [
    {
     "data": {
      "text/plain": [
       "            NDUEACWF  M1WD000V  M1WD000G\n",
       "Data                                    \n",
       "2001-02-28 -0.084330 -0.049030 -0.126423\n",
       "2001-03-31 -0.067679 -0.053215 -0.082523\n",
       "2001-04-30  0.072410  0.068015  0.075015\n",
       "2001-05-31 -0.011752 -0.006962 -0.014897\n",
       "2001-06-30 -0.030922 -0.027529 -0.034565"
      ],
      "text/html": [
       "<div>\n",
       "<style scoped>\n",
       "    .dataframe tbody tr th:only-of-type {\n",
       "        vertical-align: middle;\n",
       "    }\n",
       "\n",
       "    .dataframe tbody tr th {\n",
       "        vertical-align: top;\n",
       "    }\n",
       "\n",
       "    .dataframe thead th {\n",
       "        text-align: right;\n",
       "    }\n",
       "</style>\n",
       "<table border=\"1\" class=\"dataframe\">\n",
       "  <thead>\n",
       "    <tr style=\"text-align: right;\">\n",
       "      <th></th>\n",
       "      <th>NDUEACWF</th>\n",
       "      <th>M1WD000V</th>\n",
       "      <th>M1WD000G</th>\n",
       "    </tr>\n",
       "    <tr>\n",
       "      <th>Data</th>\n",
       "      <th></th>\n",
       "      <th></th>\n",
       "      <th></th>\n",
       "    </tr>\n",
       "  </thead>\n",
       "  <tbody>\n",
       "    <tr>\n",
       "      <th>2001-02-28</th>\n",
       "      <td>-0.084330</td>\n",
       "      <td>-0.049030</td>\n",
       "      <td>-0.126423</td>\n",
       "    </tr>\n",
       "    <tr>\n",
       "      <th>2001-03-31</th>\n",
       "      <td>-0.067679</td>\n",
       "      <td>-0.053215</td>\n",
       "      <td>-0.082523</td>\n",
       "    </tr>\n",
       "    <tr>\n",
       "      <th>2001-04-30</th>\n",
       "      <td>0.072410</td>\n",
       "      <td>0.068015</td>\n",
       "      <td>0.075015</td>\n",
       "    </tr>\n",
       "    <tr>\n",
       "      <th>2001-05-31</th>\n",
       "      <td>-0.011752</td>\n",
       "      <td>-0.006962</td>\n",
       "      <td>-0.014897</td>\n",
       "    </tr>\n",
       "    <tr>\n",
       "      <th>2001-06-30</th>\n",
       "      <td>-0.030922</td>\n",
       "      <td>-0.027529</td>\n",
       "      <td>-0.034565</td>\n",
       "    </tr>\n",
       "  </tbody>\n",
       "</table>\n",
       "</div>"
      ]
     },
     "execution_count": 105,
     "metadata": {},
     "output_type": "execute_result"
    }
   ],
   "execution_count": 105
  },
  {
   "metadata": {},
   "cell_type": "markdown",
   "source": [
    "Gli indici del DataFrame sopra sono:\n",
    "- NDUEACWF, indice MSCI all countries (comprende tutto il mondo sviluppato e anche i paesi emergenti)\n",
    "- M1WD000V, indice MSCI value\n",
    "- M1WD000G, indice MSCI growth"
   ],
   "id": "218342279a09dd57"
  },
  {
   "metadata": {
    "ExecuteTime": {
     "end_time": "2024-06-09T14:47:02.485727Z",
     "start_time": "2024-06-09T14:47:02.018431Z"
    }
   },
   "cell_type": "code",
   "source": "returns.tail(20).plot()",
   "id": "931042615d097436",
   "outputs": [
    {
     "data": {
      "text/plain": [
       "<Axes: xlabel='Data'>"
      ]
     },
     "execution_count": 106,
     "metadata": {},
     "output_type": "execute_result"
    },
    {
     "data": {
      "text/plain": [
       "<Figure size 640x480 with 1 Axes>"
      ],
      "image/png": "[encoded data removed]"
     },
     "metadata": {},
     "output_type": "display_data"
    }
   ],
   "execution_count": 106
  }
 ],
 "metadata": {
  "kernelspec": {
   "display_name": "Python 3 (ipykernel)",
   "language": "python",
   "name": "python3"
  },
  "language_info": {
   "codemirror_mode": {
    "name": "ipython",
    "version": 3
   },
   "file_extension": ".py",
   "mimetype": "text/x-python",
   "name": "python",
   "nbconvert_exporter": "python",
   "pygments_lexer": "ipython3",
   "version": "3.11.7"
  }
 },
 "nbformat": 4,
 "nbformat_minor": 5
}
