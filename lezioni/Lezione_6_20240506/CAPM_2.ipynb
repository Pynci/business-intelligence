{
 "cells": [
  {
   "cell_type": "code",
   "id": "86da7c7b",
   "metadata": {},
   "source": [
    "import pandas as pd\n",
    "import pandas_datareader as web\n",
    "import yfinance as yf\n",
    "import numpy as np\n",
    "import statsmodels.api as smf\n",
    "import matplotlib.pyplot as plt"
   ],
   "outputs": [],
   "execution_count": null
  },
  {
   "cell_type": "markdown",
   "id": "bca964a6",
   "metadata": {},
   "source": [
    "## CAPM - Un solo fattore\n",
    "\n",
    "Lewinson (2020) Python for Finance Cookbook - cap. 4"
   ]
  },
  {
   "cell_type": "markdown",
   "id": "dae45e2a",
   "metadata": {},
   "source": [
    "### Calcolo del beta vs mercato azionario"
   ]
  },
  {
   "cell_type": "code",
   "id": "6de66ee3",
   "metadata": {},
   "source": [
    "risky_asset = 'AMZN' # Amazon\n",
    "market_benchmark = '^GSPC' # S&P 500\n",
    "start_date = '2014-05-31'\n",
    "end_date = '2024-04-30'"
   ],
   "outputs": [],
   "execution_count": null
  },
  {
   "cell_type": "code",
   "id": "0d713066",
   "metadata": {},
   "source": [
    "df = yf.download([risky_asset, market_benchmark],\n",
    "                       start = start_date, end = end_date)"
   ],
   "outputs": [],
   "execution_count": null
  },
  {
   "cell_type": "code",
   "id": "f490ea3f",
   "metadata": {},
   "source": [
    "df.head()"
   ],
   "outputs": [],
   "execution_count": null
  },
  {
   "cell_type": "code",
   "id": "e8f3c2e0",
   "metadata": {},
   "source": [
    "X = df['Adj Close'].rename(columns={risky_asset:'asset', market_benchmark:'market'})\\\n",
    ".resample('M').last().pct_change().dropna()\n"
   ],
   "outputs": [],
   "execution_count": null
  },
  {
   "cell_type": "code",
   "id": "19ac875c",
   "metadata": {},
   "source": [
    "X.head()"
   ],
   "outputs": [],
   "execution_count": null
  },
  {
   "cell_type": "code",
   "id": "c0fabf5b",
   "metadata": {},
   "source": [
    "X.cov()"
   ],
   "outputs": [],
   "execution_count": null
  },
  {
   "cell_type": "code",
   "id": "865628d9",
   "metadata": {},
   "source": [
    "covariance = X.cov().iloc[0,1]\n",
    "covariance"
   ],
   "outputs": [],
   "execution_count": null
  },
  {
   "cell_type": "code",
   "id": "69da6a80-1450-4005-81ba-f8f6a3ef3338",
   "metadata": {},
   "source": [
    "X.corr()"
   ],
   "outputs": [],
   "execution_count": null
  },
  {
   "cell_type": "code",
   "id": "525de6ab",
   "metadata": {},
   "source": [
    "benchmark_variance = X.market.var()"
   ],
   "outputs": [],
   "execution_count": null
  },
  {
   "cell_type": "code",
   "id": "db7f8518",
   "metadata": {},
   "source": [
    "X.market.var()"
   ],
   "outputs": [],
   "execution_count": null
  },
  {
   "cell_type": "code",
   "id": "f165960e",
   "metadata": {},
   "source": [
    "beta = covariance / benchmark_variance\n",
    "beta"
   ],
   "outputs": [],
   "execution_count": null
  },
  {
   "cell_type": "markdown",
   "id": "36b38a58",
   "metadata": {},
   "source": [
    "### CAPM - 1 solo fattore"
   ]
  },
  {
   "cell_type": "code",
   "id": "e34bd75b",
   "metadata": {},
   "source": [
    "y = X.pop('asset')\n",
    "y"
   ],
   "outputs": [],
   "execution_count": null
  },
  {
   "cell_type": "code",
   "id": "cb46d471",
   "metadata": {},
   "source": [
    "\n",
    "X = smf.add_constant(X)\n",
    "X"
   ],
   "outputs": [],
   "execution_count": null
  },
  {
   "cell_type": "code",
   "id": "23ec1287",
   "metadata": {},
   "source": [
    "capm_model = smf.OLS(y, X).fit()\n",
    "print(capm_model.summary())"
   ],
   "outputs": [],
   "execution_count": null
  },
  {
   "cell_type": "markdown",
   "id": "6d74b82f",
   "metadata": {},
   "source": [
    "#### Inseriamo il risk free"
   ]
  },
  {
   "cell_type": "code",
   "id": "3280cd44",
   "metadata": {},
   "source": [
    "risk_free = '^IRX'"
   ],
   "outputs": [],
   "execution_count": null
  },
  {
   "cell_type": "code",
   "id": "aa66df3f",
   "metadata": {},
   "source": [
    "df = yf.download([risky_asset, market_benchmark, risk_free],\n",
    "                       start = start_date, end = end_date)"
   ],
   "outputs": [],
   "execution_count": null
  },
  {
   "cell_type": "code",
   "id": "df4d4902",
   "metadata": {},
   "source": [
    "df.head()"
   ],
   "outputs": [],
   "execution_count": null
  },
  {
   "cell_type": "code",
   "id": "d148fd5c",
   "metadata": {},
   "source": [
    "X1 = df['Adj Close'].rename(columns={risky_asset:'asset', market_benchmark:'market', risk_free: 'risk_free'})\n"
   ],
   "outputs": [],
   "execution_count": null
  },
  {
   "cell_type": "code",
   "id": "9afadf1e",
   "metadata": {},
   "source": [
    "X1.head()"
   ],
   "outputs": [],
   "execution_count": null
  },
  {
   "cell_type": "code",
   "id": "6db78373",
   "metadata": {},
   "source": [
    "X1 = X1.resample('M').last()\n",
    "X1"
   ],
   "outputs": [],
   "execution_count": null
  },
  {
   "cell_type": "code",
   "id": "a847436b",
   "metadata": {},
   "source": [
    "plt.plot(X1['risk_free'])\n",
    "plt.grid()"
   ],
   "outputs": [],
   "execution_count": null
  },
  {
   "cell_type": "code",
   "id": "df458258",
   "metadata": {},
   "source": [
    "X1['mrf'] = (1 + X1['risk_free']/100)**(30/360) - 1"
   ],
   "outputs": [],
   "execution_count": null
  },
  {
   "cell_type": "code",
   "id": "e24d5239",
   "metadata": {},
   "source": [
    "X1[50:70]"
   ],
   "outputs": [],
   "execution_count": null
  },
  {
   "cell_type": "code",
   "id": "a19feb27-796f-46e2-bf9b-b8e87fe6ff74",
   "metadata": {},
   "source": [
    "X1.tail()"
   ],
   "outputs": [],
   "execution_count": null
  },
  {
   "cell_type": "code",
   "id": "283628b1",
   "metadata": {},
   "source": [
    "X1['asset_nmr'] = X1['asset'].pct_change() - X1['mrf']"
   ],
   "outputs": [],
   "execution_count": null
  },
  {
   "cell_type": "code",
   "id": "9dc0485d",
   "metadata": {},
   "source": [
    "X1['market_nmr'] = X1['market'].pct_change() - X1['mrf']"
   ],
   "outputs": [],
   "execution_count": null
  },
  {
   "cell_type": "code",
   "id": "53fa9c5c",
   "metadata": {},
   "source": [
    "X1.head()"
   ],
   "outputs": [],
   "execution_count": null
  },
  {
   "cell_type": "code",
   "id": "43c6e012",
   "metadata": {},
   "source": [
    "X1.tail()"
   ],
   "outputs": [],
   "execution_count": null
  },
  {
   "cell_type": "code",
   "id": "589681bc",
   "metadata": {},
   "source": [
    "X1.dropna(inplace=True)"
   ],
   "outputs": [],
   "execution_count": null
  },
  {
   "cell_type": "code",
   "id": "3c9e7c64",
   "metadata": {},
   "source": [
    "X1.head()"
   ],
   "outputs": [],
   "execution_count": null
  },
  {
   "cell_type": "code",
   "id": "735ce6ad",
   "metadata": {},
   "source": [
    "X2 = X1[['asset_nmr', 'market_nmr']]"
   ],
   "outputs": [],
   "execution_count": null
  },
  {
   "cell_type": "code",
   "id": "3c5a14ea",
   "metadata": {},
   "source": [
    "X2.head()"
   ],
   "outputs": [],
   "execution_count": null
  },
  {
   "cell_type": "code",
   "id": "fcbdc722",
   "metadata": {},
   "source": [
    "y = X2.pop('asset_nmr')"
   ],
   "outputs": [],
   "execution_count": null
  },
  {
   "cell_type": "code",
   "id": "e7829fe9",
   "metadata": {},
   "source": [
    "X = smf.add_constant(X2)\n",
    "X"
   ],
   "outputs": [],
   "execution_count": null
  },
  {
   "cell_type": "code",
   "id": "883161dd",
   "metadata": {
    "scrolled": true
   },
   "source": [
    "capm_model = smf.OLS(y, X).fit()\n",
    "print(capm_model.summary())"
   ],
   "outputs": [],
   "execution_count": null
  },
  {
   "cell_type": "code",
   "id": "0d16005f-aaae-45bd-8b88-0022036dba99",
   "metadata": {},
   "source": [
    "#Il tasso risk free si può anche scaricare dal database della Banca della Riserva Federale di Saint Louis (FRED)\n",
    "\n",
    "rf = web.DataReader(\"TB3MS\", \"fred\", start = start_date, end = end_date)"
   ],
   "outputs": [],
   "execution_count": null
  },
  {
   "cell_type": "code",
   "id": "8243552a-cd51-46ab-90f6-b76ac2500525",
   "metadata": {},
   "source": [
    "rf = (1 + (rf/100))**(1/12)-1"
   ],
   "outputs": [],
   "execution_count": null
  },
  {
   "cell_type": "code",
   "id": "a2709245-8ddf-4f64-8162-2a887144097d",
   "metadata": {},
   "source": [
    "rf.plot(title = \"Risk-free rate (3-Month Treasury Bill)\")\n",
    "plt.grid()"
   ],
   "outputs": [],
   "execution_count": null
  },
  {
   "cell_type": "markdown",
   "id": "27150716",
   "metadata": {},
   "source": [
    "### Il modello di Fama - French a tre fattori"
   ]
  },
  {
   "cell_type": "markdown",
   "id": "b473c8d8",
   "metadata": {},
   "source": [
    "I tre fattori del modello di Fama e French (*) sono:\n",
    "- il fattore mercato, cioè la dipendenza dall'andamento del mercato azionario  (MKT)\n",
    "- il fattore dimensione (SMB) costruito come rendimento in eccesso delle azioni a piccola capitalizzazione rispetto alle grandi\n",
    "- il fattore valore (HML) costruito come rendimento in eccesso delle azioni con un rapporto fra patrimonio e prezzo alto (Value stocks) e quelle con un rapporto fra patriomonio e prezzo basso (Growth stocks)\n",
    "\n",
    "I dati vanno scaricati da questo sito\n",
    "\n",
    "https://mba.tuck.dartmouth.edu/pages/faculty/ken.french/data_library.html\n",
    "\n",
    "#### Fama, E.F. - French, K.R. (1993) \"Common risk factors in the returns on stocks and bonds\" Journal of Financial Economics, 33 (1) "
   ]
  },
  {
   "cell_type": "code",
   "id": "e068996c",
   "metadata": {},
   "source": [
    "factor_df = pd.read_csv('F-F_Research_Data_Factors.csv', skiprows=3)"
   ],
   "outputs": [],
   "execution_count": null
  },
  {
   "cell_type": "code",
   "id": "70901615",
   "metadata": {},
   "source": [
    "factor_df.head()"
   ],
   "outputs": [],
   "execution_count": null
  },
  {
   "cell_type": "markdown",
   "id": "fd2b9ad5",
   "metadata": {},
   "source": [
    "Definiamo i parametri"
   ]
  },
  {
   "cell_type": "code",
   "id": "788a5d99",
   "metadata": {},
   "source": [
    "risky_asset = 'X' #azione da analizzare con i fattori di rischio\n",
    "start_date = '2014-05-31'\n",
    "end_date = '2024-03-31'"
   ],
   "outputs": [],
   "execution_count": null
  },
  {
   "cell_type": "markdown",
   "id": "784d6943",
   "metadata": {},
   "source": [
    "Eliminiamo i dati annuali in fondo al file"
   ]
  },
  {
   "cell_type": "code",
   "id": "52936baf",
   "metadata": {},
   "source": [
    "stringa = ' Annual Factors: January-December '\n",
    "indices = factor_df.iloc[:,0] == stringa\n",
    "start_of_annual = factor_df[indices].index[0]\n",
    "factor_df = factor_df[factor_df.index < start_of_annual]"
   ],
   "outputs": [],
   "execution_count": null
  },
  {
   "cell_type": "markdown",
   "id": "e64f03be",
   "metadata": {},
   "source": [
    "Rinominiamo le colonne, definiamo come indice la data, filtriamo l'intervallo che ci interessa, dividiamo tutto per 100"
   ]
  },
  {
   "cell_type": "code",
   "id": "99382ec6",
   "metadata": {},
   "source": [
    "factor_df.columns = ['data', 'mkt', 'smb', 'hml', 'rf']"
   ],
   "outputs": [],
   "execution_count": null
  },
  {
   "cell_type": "code",
   "id": "ede1a4ea",
   "metadata": {},
   "source": [
    "factor_df['data'] = pd.to_datetime(factor_df['data'], format='%Y%m').dt.strftime(\"%Y-%m\")"
   ],
   "outputs": [],
   "execution_count": null
  },
  {
   "cell_type": "code",
   "id": "d991c928",
   "metadata": {},
   "source": [
    "factor_df.head()"
   ],
   "outputs": [],
   "execution_count": null
  },
  {
   "cell_type": "code",
   "id": "2cf52439-67bb-40e2-9bce-afff449d5fb1",
   "metadata": {},
   "source": [
    "factor_df = factor_df.set_index('data')\n",
    "factor_df = factor_df[start_date:end_date]"
   ],
   "outputs": [],
   "execution_count": null
  },
  {
   "cell_type": "code",
   "id": "4e0e24c9-07d7-46f5-9107-b394cf534951",
   "metadata": {},
   "source": [
    "factor_df.head()"
   ],
   "outputs": [],
   "execution_count": null
  },
  {
   "cell_type": "code",
   "id": "195d779e-92be-4bdc-bc59-94a7f0f07746",
   "metadata": {},
   "source": [
    "factor_df.tail()"
   ],
   "outputs": [],
   "execution_count": null
  },
  {
   "cell_type": "code",
   "id": "9ca45be2-a278-487d-9b13-7afe4a00d512",
   "metadata": {},
   "source": [
    "factor_df = factor_df.apply(pd.to_numeric, errors='coerce').div(100)"
   ],
   "outputs": [],
   "execution_count": null
  },
  {
   "cell_type": "code",
   "id": "d1311ce1",
   "metadata": {},
   "source": [
    "factor_df.head()"
   ],
   "outputs": [],
   "execution_count": null
  },
  {
   "cell_type": "markdown",
   "id": "e32da9a2",
   "metadata": {},
   "source": [
    "Scarichiamo i prezzi dell'azione e calcoliamo i rendimenti mensili"
   ]
  },
  {
   "cell_type": "code",
   "id": "43acc64c",
   "metadata": {},
   "source": [
    "risky_asset = 'TSLA'\n",
    "asset_df = yf.download(risky_asset, start_date, end_date) "
   ],
   "outputs": [],
   "execution_count": null
  },
  {
   "cell_type": "code",
   "id": "a0d28bad",
   "metadata": {},
   "source": [
    "y = asset_df['Adj Close'].resample('M').last().pct_change().dropna()"
   ],
   "outputs": [],
   "execution_count": null
  },
  {
   "cell_type": "code",
   "id": "d07eae56",
   "metadata": {},
   "source": [
    "y.index = y.index.strftime('%Y-%m')"
   ],
   "outputs": [],
   "execution_count": null
  },
  {
   "cell_type": "code",
   "id": "689ce8b0",
   "metadata": {},
   "source": [
    "y.name = 'rtn'"
   ],
   "outputs": [],
   "execution_count": null
  },
  {
   "cell_type": "code",
   "id": "3bc7ca32",
   "metadata": {},
   "source": [
    "y.head()"
   ],
   "outputs": [],
   "execution_count": null
  },
  {
   "cell_type": "markdown",
   "id": "05637c49",
   "metadata": {},
   "source": [
    "Uniamo i due df e calcoliamo i rendimenti in eccesso rispetto al rf dell'azione"
   ]
  },
  {
   "cell_type": "code",
   "id": "93c3494d",
   "metadata": {},
   "source": [
    "ff_data = factor_df.join(y)\n",
    "ff_data['excess_rtn'] = ff_data.rtn - ff_data.rf"
   ],
   "outputs": [],
   "execution_count": null
  },
  {
   "cell_type": "code",
   "id": "f75c559e",
   "metadata": {},
   "source": [
    "ff_data.head()"
   ],
   "outputs": [],
   "execution_count": null
  },
  {
   "cell_type": "markdown",
   "id": "6528bf54",
   "metadata": {},
   "source": [
    "Stimiamo il modello a tre fattori"
   ]
  },
  {
   "cell_type": "code",
   "id": "9f4db9e9",
   "metadata": {},
   "source": [
    "import statsmodels.formula.api as smf\n",
    "ff_model = smf.ols(formula = 'excess_rtn ~ mkt + smb + hml', data = ff_data).fit()\n",
    "print(ff_model.summary())"
   ],
   "outputs": [],
   "execution_count": null
  },
  {
   "cell_type": "markdown",
   "id": "116bc243",
   "metadata": {},
   "source": [
    "#### Modello Fama French a tre fattori rolling su un portafoglio"
   ]
  },
  {
   "cell_type": "markdown",
   "id": "88e2712e",
   "metadata": {},
   "source": [
    "Parametri"
   ]
  },
  {
   "cell_type": "code",
   "id": "30030845",
   "metadata": {},
   "source": [
    "assets = ['JPM','X','JNJ','CSCO']\n",
    "weights = [0.25, 0.25, 0.25, 0.25]\n",
    "start_date = '2014-05-31'\n",
    "end_date = '2024-03-31'"
   ],
   "outputs": [],
   "execution_count": null
  },
  {
   "cell_type": "markdown",
   "id": "06ef37eb",
   "metadata": {},
   "source": [
    "Carichiamo i dati di Fama French in un altro modo"
   ]
  },
  {
   "cell_type": "code",
   "id": "b6273879",
   "metadata": {},
   "source": [
    "df_three_factor = web.DataReader('F-F_Research_Data_Factors', 'famafrench', start_date, end_date)[0]"
   ],
   "outputs": [],
   "execution_count": null
  },
  {
   "cell_type": "code",
   "id": "719a1866",
   "metadata": {},
   "source": [
    "df_three_factor.head()"
   ],
   "outputs": [],
   "execution_count": null
  },
  {
   "cell_type": "code",
   "id": "588bd868",
   "metadata": {},
   "source": [
    "df_three_factor = df_three_factor.div(100)\n",
    "df_three_factor.index = df_three_factor.index.format()"
   ],
   "outputs": [],
   "execution_count": null
  },
  {
   "cell_type": "code",
   "id": "bad5284d",
   "metadata": {},
   "source": [
    "df_three_factor.head()"
   ],
   "outputs": [],
   "execution_count": null
  },
  {
   "cell_type": "markdown",
   "id": "6f317f87",
   "metadata": {},
   "source": [
    "Carichiamo i prezzi delle quattro azioni "
   ]
  },
  {
   "cell_type": "code",
   "id": "edbfd4cf",
   "metadata": {},
   "source": [
    "asset_df = yf.download(assets, start_date, end_date) "
   ],
   "outputs": [],
   "execution_count": null
  },
  {
   "cell_type": "code",
   "id": "f2d7fdca",
   "metadata": {},
   "source": [
    "asset_df = asset_df['Adj Close'].resample('M').last().pct_change().dropna()"
   ],
   "outputs": [],
   "execution_count": null
  },
  {
   "cell_type": "code",
   "id": "85d60156",
   "metadata": {},
   "source": [
    "asset_df.index = asset_df.index.strftime('%Y-%m')\n",
    "asset_df.head()"
   ],
   "outputs": [],
   "execution_count": null
  },
  {
   "cell_type": "markdown",
   "id": "009aebfe",
   "metadata": {},
   "source": [
    "Calcoliamo i rendimenti del portafoglio"
   ]
  },
  {
   "cell_type": "code",
   "id": "d2452a9c",
   "metadata": {},
   "source": [
    "asset_df['portfolio_returns'] = np.matmul(asset_df[assets].values, weights)"
   ],
   "outputs": [],
   "execution_count": null
  },
  {
   "cell_type": "code",
   "id": "9ac403fd",
   "metadata": {},
   "source": [
    "asset_df.head()"
   ],
   "outputs": [],
   "execution_count": null
  },
  {
   "cell_type": "code",
   "id": "f0ba82f6",
   "metadata": {},
   "source": [
    "asset_df.plot(figsize=(16,9), grid = True);"
   ],
   "outputs": [],
   "execution_count": null
  },
  {
   "cell_type": "markdown",
   "id": "8ad09612",
   "metadata": {},
   "source": [
    "Uniamo i due df"
   ]
  },
  {
   "cell_type": "code",
   "id": "b5b70adb",
   "metadata": {},
   "source": [
    "ff_data = asset_df.join(df_three_factor).drop(assets, axis = 1)"
   ],
   "outputs": [],
   "execution_count": null
  },
  {
   "cell_type": "code",
   "id": "0899dff1",
   "metadata": {},
   "source": [
    "ff_data.columns = ['portf_rtn', 'mkt', 'smb', 'hml', 'rf']\n",
    "ff_data['portf_ex_rtn'] = ff_data.portf_rtn - ff_data.rf"
   ],
   "outputs": [],
   "execution_count": null
  },
  {
   "cell_type": "code",
   "id": "b7e19c5c",
   "metadata": {},
   "source": [
    "ff_data.head()"
   ],
   "outputs": [],
   "execution_count": null
  },
  {
   "cell_type": "markdown",
   "id": "ee175d87",
   "metadata": {},
   "source": [
    "Creiamo una funzione per calcolare la regressione ricorrente"
   ]
  },
  {
   "cell_type": "code",
   "id": "fee00b6e",
   "metadata": {},
   "source": [
    "def rolling_factor_model(input_data, formula, window_size):\n",
    "    coeffs = []\n",
    "\n",
    "    for start_index in range(len(input_data) - window_size + 1):        \n",
    "        end_index = start_index + window_size\n",
    "\n",
    "        # define and fit the regression model \n",
    "        ff_model = smf.ols(formula=formula,data=input_data[start_index:end_index]).fit()\n",
    "   \n",
    "        # store coefficients\n",
    "        coeffs.append(ff_model.params)\n",
    "    \n",
    "    coeffs_df = pd.DataFrame(\n",
    "        coeffs, \n",
    "        index=input_data.index[window_size - 1:])\n",
    "\n",
    "    return coeffs_df"
   ],
   "outputs": [],
   "execution_count": null
  },
  {
   "cell_type": "code",
   "id": "fb023b08",
   "metadata": {},
   "source": [
    "model_formula = 'portf_ex_rtn ~ mkt + smb + hml'\n",
    "results_df = rolling_factor_model(ff_data, model_formula, window_size = 36)"
   ],
   "outputs": [],
   "execution_count": null
  },
  {
   "cell_type": "code",
   "id": "2beb37e5",
   "metadata": {},
   "source": [
    "results_df.plot(title = 'Rolling Fama-French Three Factor model')\n",
    "plt.grid();"
   ],
   "outputs": [],
   "execution_count": null
  },
  {
   "cell_type": "markdown",
   "id": "bf217d23",
   "metadata": {},
   "source": [
    "### Modelo di Carhart a quattro fattori e Fama e French a cinque fattori"
   ]
  },
  {
   "cell_type": "code",
   "id": "5e56a8b9",
   "metadata": {},
   "source": [
    "risky_asset = 'AMZN'\n",
    "start_date = '2014-05-31'\n",
    "end_date = '2024-03-31'"
   ],
   "outputs": [],
   "execution_count": null
  },
  {
   "cell_type": "code",
   "id": "9c7204e0",
   "metadata": {},
   "source": [
    "# tre fattori\n",
    "df_three_factor = web.DataReader('F-F_Research_Data_Factors', 'famafrench', start = start_date)[0]\n",
    "df_three_factor.index = df_three_factor.index.format()"
   ],
   "outputs": [],
   "execution_count": null
  },
  {
   "cell_type": "code",
   "id": "6365f8cd",
   "metadata": {},
   "source": [
    "# quattro fattori con fattore \"momentum\" di Carhart\n",
    "df_mom = web.DataReader('F-F_Momentum_factor', 'famafrench', start = start_date)[0]\n",
    "df_mom.index = df_mom.index.format()"
   ],
   "outputs": [],
   "execution_count": null
  },
  {
   "cell_type": "code",
   "id": "541e5c61",
   "metadata": {},
   "source": [
    "# cinque fattori con fattori Robust Minus Weak (RMW) e Conservative Minus Aggressive (CMA)\n",
    "df_five_factor = web.DataReader('F-F_Research_Data_5_Factors_2x3', 'famafrench', start = start_date)[0]\n",
    "df_five_factor.index = df_five_factor.index.format()"
   ],
   "outputs": [],
   "execution_count": null
  },
  {
   "cell_type": "code",
   "id": "be9c8490",
   "metadata": {},
   "source": [
    "asset_df = yf.download(risky_asset,\n",
    "                       start = start_date, end = end_date)"
   ],
   "outputs": [],
   "execution_count": null
  },
  {
   "cell_type": "code",
   "id": "8e3fe767",
   "metadata": {},
   "source": [
    "y = asset_df['Adj Close'].resample('M').last().pct_change().dropna()\n",
    "y.index = y.index.strftime('%Y-%m')\n",
    "y.name = 'return'"
   ],
   "outputs": [],
   "execution_count": null
  },
  {
   "cell_type": "code",
   "id": "3007c288",
   "metadata": {},
   "source": [
    "y"
   ],
   "outputs": [],
   "execution_count": null
  },
  {
   "cell_type": "code",
   "id": "bf76e833",
   "metadata": {},
   "source": [
    "four_factor_data = df_three_factor.join(df_mom).join(y)"
   ],
   "outputs": [],
   "execution_count": null
  },
  {
   "cell_type": "code",
   "id": "a96bc0b1",
   "metadata": {},
   "source": [
    "four_factor_data.columns = ['mkt', 'smb', 'hml', 'rf', 'mom', 'rtn']"
   ],
   "outputs": [],
   "execution_count": null
  },
  {
   "cell_type": "code",
   "id": "9c3d732d",
   "metadata": {},
   "source": [
    "four_factor_data.loc[:,four_factor_data.columns != 'rtn'] /= 100"
   ],
   "outputs": [],
   "execution_count": null
  },
  {
   "cell_type": "code",
   "id": "3ea22bd0",
   "metadata": {},
   "source": [
    "#four_factor_data.index = pd.to_datetime(four_factor_data.index, format = '%Y-%m')\n",
    "four_factor_data.dropna(inplace = True)"
   ],
   "outputs": [],
   "execution_count": null
  },
  {
   "cell_type": "code",
   "id": "69911f4e",
   "metadata": {},
   "source": [
    "four_factor_data = four_factor_data.loc[start_date:end_date]"
   ],
   "outputs": [],
   "execution_count": null
  },
  {
   "cell_type": "code",
   "id": "caf688ca",
   "metadata": {},
   "source": [
    "four_factor_data['excess_rtn'] = four_factor_data['rtn'] - four_factor_data['rf']"
   ],
   "outputs": [],
   "execution_count": null
  },
  {
   "cell_type": "code",
   "id": "833aa586",
   "metadata": {},
   "source": [
    "four_factor_data.head()"
   ],
   "outputs": [],
   "execution_count": null
  },
  {
   "cell_type": "code",
   "id": "b6b910f2",
   "metadata": {},
   "source": [
    "four_factor_model = smf.ols(formula ='excess_rtn ~ mkt + smb + hml + mom', data = four_factor_data).fit()"
   ],
   "outputs": [],
   "execution_count": null
  },
  {
   "cell_type": "code",
   "id": "3b566f33",
   "metadata": {},
   "source": [
    "print(four_factor_model.summary())"
   ],
   "outputs": [],
   "execution_count": null
  },
  {
   "cell_type": "code",
   "id": "2b2da40d",
   "metadata": {},
   "source": [
    "five_factor_data = df_five_factor.join(y)"
   ],
   "outputs": [],
   "execution_count": null
  },
  {
   "cell_type": "code",
   "id": "d5a2ee80",
   "metadata": {},
   "source": [
    "five_factor_data.columns = ['mkt', 'smb', 'hml', 'rmw', 'cma', 'rf', 'rtn']"
   ],
   "outputs": [],
   "execution_count": null
  },
  {
   "cell_type": "code",
   "id": "010cb61a",
   "metadata": {},
   "source": [
    "five_factor_data.loc[:, five_factor_data.columns != 'rtn'] /= 100"
   ],
   "outputs": [],
   "execution_count": null
  },
  {
   "cell_type": "code",
   "id": "955798e3",
   "metadata": {},
   "source": [
    "#five_factor_data.index = pd.to_datetime(five_factor_data.index, format = '%Y-%m')"
   ],
   "outputs": [],
   "execution_count": null
  },
  {
   "cell_type": "code",
   "id": "3f507327",
   "metadata": {},
   "source": [
    "five_factor_data.dropna(inplace = True)"
   ],
   "outputs": [],
   "execution_count": null
  },
  {
   "cell_type": "code",
   "id": "7749d015",
   "metadata": {},
   "source": [
    "five_factor_data = five_factor_data.loc[start_date:end_date]"
   ],
   "outputs": [],
   "execution_count": null
  },
  {
   "cell_type": "code",
   "id": "0f4e0c5f",
   "metadata": {},
   "source": [
    "five_factor_data['excess_rtn'] = five_factor_data['rtn'] - five_factor_data['rf']"
   ],
   "outputs": [],
   "execution_count": null
  },
  {
   "cell_type": "code",
   "id": "45bf0b7f",
   "metadata": {},
   "source": [
    "five_factor_data.head()"
   ],
   "outputs": [],
   "execution_count": null
  },
  {
   "cell_type": "code",
   "id": "9ee55257",
   "metadata": {},
   "source": [
    "five_factor_model = smf.ols(formula ='excess_rtn ~ mkt + smb + hml + rmw + cma', data = five_factor_data).fit()"
   ],
   "outputs": [],
   "execution_count": null
  },
  {
   "cell_type": "code",
   "id": "893fd97d",
   "metadata": {},
   "source": [
    "print(five_factor_model.summary())"
   ],
   "outputs": [],
   "execution_count": null
  },
  {
   "cell_type": "markdown",
   "id": "79e09c1d-85c7-4cb2-8083-6affa382e441",
   "metadata": {},
   "source": [
    "#### Andamento nel tempo degli indici MSCI"
   ]
  },
  {
   "cell_type": "code",
   "id": "f573bf70",
   "metadata": {},
   "source": [
    "data = pd.read_excel('MSCI_Value_Growth.xlsx', index_col = 0, parse_dates = True)"
   ],
   "outputs": [],
   "execution_count": null
  },
  {
   "cell_type": "code",
   "id": "972a878c",
   "metadata": {},
   "source": [
    "returns = (data/data.shift(1)) - 1\n",
    "returns.dropna(inplace=True)"
   ],
   "outputs": [],
   "execution_count": null
  },
  {
   "cell_type": "code",
   "id": "3393bbff",
   "metadata": {},
   "source": [
    "returns.head()"
   ],
   "outputs": [],
   "execution_count": null
  },
  {
   "cell_type": "code",
   "id": "d31f4d63-b901-4116-88a9-03f19d998041",
   "metadata": {},
   "source": [
    "plt.plot(cum)\n",
    "plt.grid();"
   ],
   "outputs": [],
   "execution_count": null
  },
  {
   "cell_type": "code",
   "id": "7023c341-b22e-4f63-91d0-e7a1e61133d2",
   "metadata": {},
   "source": [],
   "outputs": [],
   "execution_count": null
  }
 ],
 "metadata": {
  "kernelspec": {
   "display_name": "Python 3 (ipykernel)",
   "language": "python",
   "name": "python3"
  },
  "language_info": {
   "codemirror_mode": {
    "name": "ipython",
    "version": 3
   },
   "file_extension": ".py",
   "mimetype": "text/x-python",
   "name": "python",
   "nbconvert_exporter": "python",
   "pygments_lexer": "ipython3",
   "version": "3.11.7"
  }
 },
 "nbformat": 4,
 "nbformat_minor": 5
}
