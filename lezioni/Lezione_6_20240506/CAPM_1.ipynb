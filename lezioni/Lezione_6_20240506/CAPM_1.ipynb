{
 "cells": [
  {
   "cell_type": "code",
   "id": "b97215c1-70c3-45e2-ba47-26d7a412e45b",
   "metadata": {
    "ExecuteTime": {
     "end_time": "2024-05-14T14:10:39.102899Z",
     "start_time": "2024-05-14T14:10:34.466166Z"
    }
   },
   "source": [
    "import pandas as pd\n",
    "import yfinance as yf\n",
    "import datetime as dt\n",
    "import statsmodels.api as sm\n",
    "import matplotlib.pyplot as plt\n",
    "import getFamaFrenchFactors as gff\n",
    "import seaborn as sns\n",
    "\n"
   ],
   "outputs": [],
   "execution_count": 2
  },
  {
   "cell_type": "code",
   "id": "8eec49d5-06c2-4c2c-aaad-3eaf0d6a0e66",
   "metadata": {
    "ExecuteTime": {
     "end_time": "2024-05-14T14:10:39.106334Z",
     "start_time": "2024-05-14T14:10:39.103844Z"
    }
   },
   "source": [
    "end = dt.datetime.now()\n",
    "start = dt.datetime(end.year - 6,end.month,end.day)\n",
    "ticker = ['TSLA']"
   ],
   "outputs": [],
   "execution_count": 3
  },
  {
   "cell_type": "code",
   "id": "19a977b3-50ff-43a1-8fbb-3b96db1f1ed1",
   "metadata": {
    "ExecuteTime": {
     "end_time": "2024-05-14T14:10:39.111490Z",
     "start_time": "2024-05-14T14:10:39.107119Z"
    }
   },
   "source": [
    "end"
   ],
   "outputs": [
    {
     "data": {
      "text/plain": [
       "datetime.datetime(2024, 5, 14, 16, 10, 39, 104513)"
      ]
     },
     "execution_count": 4,
     "metadata": {},
     "output_type": "execute_result"
    }
   ],
   "execution_count": 4
  },
  {
   "cell_type": "code",
   "id": "3666b316-e8d8-4291-b08b-6bfc31e48767",
   "metadata": {
    "ExecuteTime": {
     "end_time": "2024-05-14T14:10:39.115476Z",
     "start_time": "2024-05-14T14:10:39.113168Z"
    }
   },
   "source": [
    "start"
   ],
   "outputs": [
    {
     "data": {
      "text/plain": [
       "datetime.datetime(2018, 5, 14, 0, 0)"
      ]
     },
     "execution_count": 5,
     "metadata": {},
     "output_type": "execute_result"
    }
   ],
   "execution_count": 5
  },
  {
   "cell_type": "code",
   "id": "80c12790-af53-4cf7-b788-4bc26532010e",
   "metadata": {
    "ExecuteTime": {
     "end_time": "2024-05-14T14:10:39.823510Z",
     "start_time": "2024-05-14T14:10:39.116188Z"
    }
   },
   "source": [
    "tsla = yf.download(ticker, start, end, progress = False)"
   ],
   "outputs": [],
   "execution_count": 6
  },
  {
   "cell_type": "code",
   "id": "ffd3f3ba-272f-4956-9104-3bad11c58b04",
   "metadata": {
    "ExecuteTime": {
     "end_time": "2024-05-14T14:10:39.834217Z",
     "start_time": "2024-05-14T14:10:39.824628Z"
    }
   },
   "source": [
    "tsla.head()"
   ],
   "outputs": [
    {
     "data": {
      "text/plain": [
       "                 Open       High        Low      Close  Adj Close     Volume\n",
       "Date                                                                        \n",
       "2018-05-14  20.221333  20.329332  19.441334  19.464666  19.464666  109302000\n",
       "2018-05-15  19.000668  19.130667  18.700001  18.945333  18.945333  142788000\n",
       "2018-05-16  18.922001  19.254000  18.770666  19.098667  19.098667   85110000\n",
       "2018-05-17  19.059999  19.279333  18.931334  18.969334  18.969334   66309000\n",
       "2018-05-18  18.976667  18.976667  18.266666  18.454666  18.454666  108778500"
      ],
      "text/html": [
       "<div>\n",
       "<style scoped>\n",
       "    .dataframe tbody tr th:only-of-type {\n",
       "        vertical-align: middle;\n",
       "    }\n",
       "\n",
       "    .dataframe tbody tr th {\n",
       "        vertical-align: top;\n",
       "    }\n",
       "\n",
       "    .dataframe thead th {\n",
       "        text-align: right;\n",
       "    }\n",
       "</style>\n",
       "<table border=\"1\" class=\"dataframe\">\n",
       "  <thead>\n",
       "    <tr style=\"text-align: right;\">\n",
       "      <th></th>\n",
       "      <th>Open</th>\n",
       "      <th>High</th>\n",
       "      <th>Low</th>\n",
       "      <th>Close</th>\n",
       "      <th>Adj Close</th>\n",
       "      <th>Volume</th>\n",
       "    </tr>\n",
       "    <tr>\n",
       "      <th>Date</th>\n",
       "      <th></th>\n",
       "      <th></th>\n",
       "      <th></th>\n",
       "      <th></th>\n",
       "      <th></th>\n",
       "      <th></th>\n",
       "    </tr>\n",
       "  </thead>\n",
       "  <tbody>\n",
       "    <tr>\n",
       "      <th>2018-05-14</th>\n",
       "      <td>20.221333</td>\n",
       "      <td>20.329332</td>\n",
       "      <td>19.441334</td>\n",
       "      <td>19.464666</td>\n",
       "      <td>19.464666</td>\n",
       "      <td>109302000</td>\n",
       "    </tr>\n",
       "    <tr>\n",
       "      <th>2018-05-15</th>\n",
       "      <td>19.000668</td>\n",
       "      <td>19.130667</td>\n",
       "      <td>18.700001</td>\n",
       "      <td>18.945333</td>\n",
       "      <td>18.945333</td>\n",
       "      <td>142788000</td>\n",
       "    </tr>\n",
       "    <tr>\n",
       "      <th>2018-05-16</th>\n",
       "      <td>18.922001</td>\n",
       "      <td>19.254000</td>\n",
       "      <td>18.770666</td>\n",
       "      <td>19.098667</td>\n",
       "      <td>19.098667</td>\n",
       "      <td>85110000</td>\n",
       "    </tr>\n",
       "    <tr>\n",
       "      <th>2018-05-17</th>\n",
       "      <td>19.059999</td>\n",
       "      <td>19.279333</td>\n",
       "      <td>18.931334</td>\n",
       "      <td>18.969334</td>\n",
       "      <td>18.969334</td>\n",
       "      <td>66309000</td>\n",
       "    </tr>\n",
       "    <tr>\n",
       "      <th>2018-05-18</th>\n",
       "      <td>18.976667</td>\n",
       "      <td>18.976667</td>\n",
       "      <td>18.266666</td>\n",
       "      <td>18.454666</td>\n",
       "      <td>18.454666</td>\n",
       "      <td>108778500</td>\n",
       "    </tr>\n",
       "  </tbody>\n",
       "</table>\n",
       "</div>"
      ]
     },
     "execution_count": 7,
     "metadata": {},
     "output_type": "execute_result"
    }
   ],
   "execution_count": 7
  },
  {
   "cell_type": "code",
   "id": "2c4f60d2-d24c-4f40-9ffc-f1e6578090b3",
   "metadata": {
    "ExecuteTime": {
     "end_time": "2024-05-14T14:10:39.838273Z",
     "start_time": "2024-05-14T14:10:39.835159Z"
    }
   },
   "source": [
    "tsla =tsla.drop(['Open','High','Low','Close','Volume'], axis = 1)"
   ],
   "outputs": [],
   "execution_count": 8
  },
  {
   "cell_type": "code",
   "id": "7aedf75f-9a4f-440a-9511-c8255718471a",
   "metadata": {
    "ExecuteTime": {
     "end_time": "2024-05-14T14:10:39.845294Z",
     "start_time": "2024-05-14T14:10:39.839176Z"
    }
   },
   "source": [
    "tsla.head()"
   ],
   "outputs": [
    {
     "data": {
      "text/plain": [
       "            Adj Close\n",
       "Date                 \n",
       "2018-05-14  19.464666\n",
       "2018-05-15  18.945333\n",
       "2018-05-16  19.098667\n",
       "2018-05-17  18.969334\n",
       "2018-05-18  18.454666"
      ],
      "text/html": [
       "<div>\n",
       "<style scoped>\n",
       "    .dataframe tbody tr th:only-of-type {\n",
       "        vertical-align: middle;\n",
       "    }\n",
       "\n",
       "    .dataframe tbody tr th {\n",
       "        vertical-align: top;\n",
       "    }\n",
       "\n",
       "    .dataframe thead th {\n",
       "        text-align: right;\n",
       "    }\n",
       "</style>\n",
       "<table border=\"1\" class=\"dataframe\">\n",
       "  <thead>\n",
       "    <tr style=\"text-align: right;\">\n",
       "      <th></th>\n",
       "      <th>Adj Close</th>\n",
       "    </tr>\n",
       "    <tr>\n",
       "      <th>Date</th>\n",
       "      <th></th>\n",
       "    </tr>\n",
       "  </thead>\n",
       "  <tbody>\n",
       "    <tr>\n",
       "      <th>2018-05-14</th>\n",
       "      <td>19.464666</td>\n",
       "    </tr>\n",
       "    <tr>\n",
       "      <th>2018-05-15</th>\n",
       "      <td>18.945333</td>\n",
       "    </tr>\n",
       "    <tr>\n",
       "      <th>2018-05-16</th>\n",
       "      <td>19.098667</td>\n",
       "    </tr>\n",
       "    <tr>\n",
       "      <th>2018-05-17</th>\n",
       "      <td>18.969334</td>\n",
       "    </tr>\n",
       "    <tr>\n",
       "      <th>2018-05-18</th>\n",
       "      <td>18.454666</td>\n",
       "    </tr>\n",
       "  </tbody>\n",
       "</table>\n",
       "</div>"
      ]
     },
     "execution_count": 9,
     "metadata": {},
     "output_type": "execute_result"
    }
   ],
   "execution_count": 9
  },
  {
   "cell_type": "code",
   "id": "377675f0-9f36-41b0-affd-e6ca3354c152",
   "metadata": {
    "ExecuteTime": {
     "end_time": "2024-05-14T14:10:39.854722Z",
     "start_time": "2024-05-14T14:10:39.846700Z"
    }
   },
   "source": [
    "tsla = tsla.resample(\"M\").last()\n",
    "tsla.head()"
   ],
   "outputs": [
    {
     "name": "stderr",
     "output_type": "stream",
     "text": [
      "/var/folders/1j/320f0y9s42dgwk8ls4nvjfhm0000gn/T/ipykernel_48403/882084045.py:1: FutureWarning: 'M' is deprecated and will be removed in a future version, please use 'ME' instead.\n",
      "  tsla = tsla.resample(\"M\").last()\n"
     ]
    },
    {
     "data": {
      "text/plain": [
       "            Adj Close\n",
       "Date                 \n",
       "2018-05-31  18.982000\n",
       "2018-06-30  22.863333\n",
       "2018-07-31  19.875999\n",
       "2018-08-31  20.110666\n",
       "2018-09-30  17.651333"
      ],
      "text/html": [
       "<div>\n",
       "<style scoped>\n",
       "    .dataframe tbody tr th:only-of-type {\n",
       "        vertical-align: middle;\n",
       "    }\n",
       "\n",
       "    .dataframe tbody tr th {\n",
       "        vertical-align: top;\n",
       "    }\n",
       "\n",
       "    .dataframe thead th {\n",
       "        text-align: right;\n",
       "    }\n",
       "</style>\n",
       "<table border=\"1\" class=\"dataframe\">\n",
       "  <thead>\n",
       "    <tr style=\"text-align: right;\">\n",
       "      <th></th>\n",
       "      <th>Adj Close</th>\n",
       "    </tr>\n",
       "    <tr>\n",
       "      <th>Date</th>\n",
       "      <th></th>\n",
       "    </tr>\n",
       "  </thead>\n",
       "  <tbody>\n",
       "    <tr>\n",
       "      <th>2018-05-31</th>\n",
       "      <td>18.982000</td>\n",
       "    </tr>\n",
       "    <tr>\n",
       "      <th>2018-06-30</th>\n",
       "      <td>22.863333</td>\n",
       "    </tr>\n",
       "    <tr>\n",
       "      <th>2018-07-31</th>\n",
       "      <td>19.875999</td>\n",
       "    </tr>\n",
       "    <tr>\n",
       "      <th>2018-08-31</th>\n",
       "      <td>20.110666</td>\n",
       "    </tr>\n",
       "    <tr>\n",
       "      <th>2018-09-30</th>\n",
       "      <td>17.651333</td>\n",
       "    </tr>\n",
       "  </tbody>\n",
       "</table>\n",
       "</div>"
      ]
     },
     "execution_count": 10,
     "metadata": {},
     "output_type": "execute_result"
    }
   ],
   "execution_count": 10
  },
  {
   "cell_type": "code",
   "id": "a72e48d0-a490-44cf-8e3d-0154e2a8cb54",
   "metadata": {
    "ExecuteTime": {
     "end_time": "2024-05-14T14:10:39.866229Z",
     "start_time": "2024-05-14T14:10:39.858895Z"
    }
   },
   "source": [
    "tsla['Ret'] = tsla['Adj Close'].pct_change()\n",
    "\n",
    "tsla"
   ],
   "outputs": [
    {
     "data": {
      "text/plain": [
       "             Adj Close       Ret\n",
       "Date                            \n",
       "2018-05-31   18.982000       NaN\n",
       "2018-06-30   22.863333  0.204474\n",
       "2018-07-31   19.875999 -0.130660\n",
       "2018-08-31   20.110666  0.011807\n",
       "2018-09-30   17.651333 -0.122290\n",
       "...                ...       ...\n",
       "2024-01-31  187.289993 -0.246257\n",
       "2024-02-29  201.880005  0.077901\n",
       "2024-03-31  175.789993 -0.129235\n",
       "2024-04-30  183.279999  0.042608\n",
       "2024-05-31  174.929993 -0.045559\n",
       "\n",
       "[73 rows x 2 columns]"
      ],
      "text/html": [
       "<div>\n",
       "<style scoped>\n",
       "    .dataframe tbody tr th:only-of-type {\n",
       "        vertical-align: middle;\n",
       "    }\n",
       "\n",
       "    .dataframe tbody tr th {\n",
       "        vertical-align: top;\n",
       "    }\n",
       "\n",
       "    .dataframe thead th {\n",
       "        text-align: right;\n",
       "    }\n",
       "</style>\n",
       "<table border=\"1\" class=\"dataframe\">\n",
       "  <thead>\n",
       "    <tr style=\"text-align: right;\">\n",
       "      <th></th>\n",
       "      <th>Adj Close</th>\n",
       "      <th>Ret</th>\n",
       "    </tr>\n",
       "    <tr>\n",
       "      <th>Date</th>\n",
       "      <th></th>\n",
       "      <th></th>\n",
       "    </tr>\n",
       "  </thead>\n",
       "  <tbody>\n",
       "    <tr>\n",
       "      <th>2018-05-31</th>\n",
       "      <td>18.982000</td>\n",
       "      <td>NaN</td>\n",
       "    </tr>\n",
       "    <tr>\n",
       "      <th>2018-06-30</th>\n",
       "      <td>22.863333</td>\n",
       "      <td>0.204474</td>\n",
       "    </tr>\n",
       "    <tr>\n",
       "      <th>2018-07-31</th>\n",
       "      <td>19.875999</td>\n",
       "      <td>-0.130660</td>\n",
       "    </tr>\n",
       "    <tr>\n",
       "      <th>2018-08-31</th>\n",
       "      <td>20.110666</td>\n",
       "      <td>0.011807</td>\n",
       "    </tr>\n",
       "    <tr>\n",
       "      <th>2018-09-30</th>\n",
       "      <td>17.651333</td>\n",
       "      <td>-0.122290</td>\n",
       "    </tr>\n",
       "    <tr>\n",
       "      <th>...</th>\n",
       "      <td>...</td>\n",
       "      <td>...</td>\n",
       "    </tr>\n",
       "    <tr>\n",
       "      <th>2024-01-31</th>\n",
       "      <td>187.289993</td>\n",
       "      <td>-0.246257</td>\n",
       "    </tr>\n",
       "    <tr>\n",
       "      <th>2024-02-29</th>\n",
       "      <td>201.880005</td>\n",
       "      <td>0.077901</td>\n",
       "    </tr>\n",
       "    <tr>\n",
       "      <th>2024-03-31</th>\n",
       "      <td>175.789993</td>\n",
       "      <td>-0.129235</td>\n",
       "    </tr>\n",
       "    <tr>\n",
       "      <th>2024-04-30</th>\n",
       "      <td>183.279999</td>\n",
       "      <td>0.042608</td>\n",
       "    </tr>\n",
       "    <tr>\n",
       "      <th>2024-05-31</th>\n",
       "      <td>174.929993</td>\n",
       "      <td>-0.045559</td>\n",
       "    </tr>\n",
       "  </tbody>\n",
       "</table>\n",
       "<p>73 rows × 2 columns</p>\n",
       "</div>"
      ]
     },
     "execution_count": 11,
     "metadata": {},
     "output_type": "execute_result"
    }
   ],
   "execution_count": 11
  },
  {
   "cell_type": "code",
   "id": "7f488ec6-75a2-4e13-b9b4-95900a541d3a",
   "metadata": {
    "ExecuteTime": {
     "end_time": "2024-05-14T14:10:39.872979Z",
     "start_time": "2024-05-14T14:10:39.867219Z"
    }
   },
   "source": [
    "tsla.dropna(inplace = True)\n",
    "tsla"
   ],
   "outputs": [
    {
     "data": {
      "text/plain": [
       "             Adj Close       Ret\n",
       "Date                            \n",
       "2018-06-30   22.863333  0.204474\n",
       "2018-07-31   19.875999 -0.130660\n",
       "2018-08-31   20.110666  0.011807\n",
       "2018-09-30   17.651333 -0.122290\n",
       "2018-10-31   22.488001  0.274011\n",
       "...                ...       ...\n",
       "2024-01-31  187.289993 -0.246257\n",
       "2024-02-29  201.880005  0.077901\n",
       "2024-03-31  175.789993 -0.129235\n",
       "2024-04-30  183.279999  0.042608\n",
       "2024-05-31  174.929993 -0.045559\n",
       "\n",
       "[72 rows x 2 columns]"
      ],
      "text/html": [
       "<div>\n",
       "<style scoped>\n",
       "    .dataframe tbody tr th:only-of-type {\n",
       "        vertical-align: middle;\n",
       "    }\n",
       "\n",
       "    .dataframe tbody tr th {\n",
       "        vertical-align: top;\n",
       "    }\n",
       "\n",
       "    .dataframe thead th {\n",
       "        text-align: right;\n",
       "    }\n",
       "</style>\n",
       "<table border=\"1\" class=\"dataframe\">\n",
       "  <thead>\n",
       "    <tr style=\"text-align: right;\">\n",
       "      <th></th>\n",
       "      <th>Adj Close</th>\n",
       "      <th>Ret</th>\n",
       "    </tr>\n",
       "    <tr>\n",
       "      <th>Date</th>\n",
       "      <th></th>\n",
       "      <th></th>\n",
       "    </tr>\n",
       "  </thead>\n",
       "  <tbody>\n",
       "    <tr>\n",
       "      <th>2018-06-30</th>\n",
       "      <td>22.863333</td>\n",
       "      <td>0.204474</td>\n",
       "    </tr>\n",
       "    <tr>\n",
       "      <th>2018-07-31</th>\n",
       "      <td>19.875999</td>\n",
       "      <td>-0.130660</td>\n",
       "    </tr>\n",
       "    <tr>\n",
       "      <th>2018-08-31</th>\n",
       "      <td>20.110666</td>\n",
       "      <td>0.011807</td>\n",
       "    </tr>\n",
       "    <tr>\n",
       "      <th>2018-09-30</th>\n",
       "      <td>17.651333</td>\n",
       "      <td>-0.122290</td>\n",
       "    </tr>\n",
       "    <tr>\n",
       "      <th>2018-10-31</th>\n",
       "      <td>22.488001</td>\n",
       "      <td>0.274011</td>\n",
       "    </tr>\n",
       "    <tr>\n",
       "      <th>...</th>\n",
       "      <td>...</td>\n",
       "      <td>...</td>\n",
       "    </tr>\n",
       "    <tr>\n",
       "      <th>2024-01-31</th>\n",
       "      <td>187.289993</td>\n",
       "      <td>-0.246257</td>\n",
       "    </tr>\n",
       "    <tr>\n",
       "      <th>2024-02-29</th>\n",
       "      <td>201.880005</td>\n",
       "      <td>0.077901</td>\n",
       "    </tr>\n",
       "    <tr>\n",
       "      <th>2024-03-31</th>\n",
       "      <td>175.789993</td>\n",
       "      <td>-0.129235</td>\n",
       "    </tr>\n",
       "    <tr>\n",
       "      <th>2024-04-30</th>\n",
       "      <td>183.279999</td>\n",
       "      <td>0.042608</td>\n",
       "    </tr>\n",
       "    <tr>\n",
       "      <th>2024-05-31</th>\n",
       "      <td>174.929993</td>\n",
       "      <td>-0.045559</td>\n",
       "    </tr>\n",
       "  </tbody>\n",
       "</table>\n",
       "<p>72 rows × 2 columns</p>\n",
       "</div>"
      ]
     },
     "execution_count": 12,
     "metadata": {},
     "output_type": "execute_result"
    }
   ],
   "execution_count": 12
  },
  {
   "cell_type": "markdown",
   "id": "2566f5b9-0713-4ba5-930d-f835bd889a42",
   "metadata": {},
   "source": [
    "#### Scarichiamo il risk free dal DB di Fama e French"
   ]
  },
  {
   "cell_type": "code",
   "id": "3913a5ce-aa87-457d-a117-ae63282e00ad",
   "metadata": {
    "ExecuteTime": {
     "end_time": "2024-05-14T14:10:40.162817Z",
     "start_time": "2024-05-14T14:10:39.873880Z"
    }
   },
   "source": [
    "ff3_monthly = pd.DataFrame(gff.famaFrench3Factor(frequency='m'))"
   ],
   "outputs": [],
   "execution_count": 13
  },
  {
   "cell_type": "code",
   "id": "fff22e57-1a9e-4354-bad5-d0f6853344b3",
   "metadata": {
    "ExecuteTime": {
     "end_time": "2024-05-14T14:10:40.200737Z",
     "start_time": "2024-05-14T14:10:40.169939Z"
    }
   },
   "source": [
    "ff3_monthly"
   ],
   "outputs": [
    {
     "data": {
      "text/plain": [
       "     date_ff_factors  Mkt-RF     SMB     HML      RF\n",
       "0         1926-07-31  0.0296 -0.0256 -0.0243  0.0022\n",
       "1         1926-08-31  0.0264 -0.0117  0.0382  0.0025\n",
       "2         1926-09-30  0.0036 -0.0140  0.0013  0.0023\n",
       "3         1926-10-31 -0.0324 -0.0009  0.0070  0.0032\n",
       "4         1926-11-30  0.0253 -0.0010 -0.0051  0.0031\n",
       "...              ...     ...     ...     ...     ...\n",
       "1168      2023-11-30  0.0884 -0.0002  0.0164  0.0044\n",
       "1169      2023-12-31  0.0487  0.0634  0.0493  0.0043\n",
       "1170      2024-01-31  0.0071 -0.0509 -0.0238  0.0047\n",
       "1171      2024-02-29  0.0506 -0.0024 -0.0349  0.0042\n",
       "1172      2024-03-31  0.0283 -0.0249  0.0419  0.0043\n",
       "\n",
       "[1173 rows x 5 columns]"
      ],
      "text/html": [
       "<div>\n",
       "<style scoped>\n",
       "    .dataframe tbody tr th:only-of-type {\n",
       "        vertical-align: middle;\n",
       "    }\n",
       "\n",
       "    .dataframe tbody tr th {\n",
       "        vertical-align: top;\n",
       "    }\n",
       "\n",
       "    .dataframe thead th {\n",
       "        text-align: right;\n",
       "    }\n",
       "</style>\n",
       "<table border=\"1\" class=\"dataframe\">\n",
       "  <thead>\n",
       "    <tr style=\"text-align: right;\">\n",
       "      <th></th>\n",
       "      <th>date_ff_factors</th>\n",
       "      <th>Mkt-RF</th>\n",
       "      <th>SMB</th>\n",
       "      <th>HML</th>\n",
       "      <th>RF</th>\n",
       "    </tr>\n",
       "  </thead>\n",
       "  <tbody>\n",
       "    <tr>\n",
       "      <th>0</th>\n",
       "      <td>1926-07-31</td>\n",
       "      <td>0.0296</td>\n",
       "      <td>-0.0256</td>\n",
       "      <td>-0.0243</td>\n",
       "      <td>0.0022</td>\n",
       "    </tr>\n",
       "    <tr>\n",
       "      <th>1</th>\n",
       "      <td>1926-08-31</td>\n",
       "      <td>0.0264</td>\n",
       "      <td>-0.0117</td>\n",
       "      <td>0.0382</td>\n",
       "      <td>0.0025</td>\n",
       "    </tr>\n",
       "    <tr>\n",
       "      <th>2</th>\n",
       "      <td>1926-09-30</td>\n",
       "      <td>0.0036</td>\n",
       "      <td>-0.0140</td>\n",
       "      <td>0.0013</td>\n",
       "      <td>0.0023</td>\n",
       "    </tr>\n",
       "    <tr>\n",
       "      <th>3</th>\n",
       "      <td>1926-10-31</td>\n",
       "      <td>-0.0324</td>\n",
       "      <td>-0.0009</td>\n",
       "      <td>0.0070</td>\n",
       "      <td>0.0032</td>\n",
       "    </tr>\n",
       "    <tr>\n",
       "      <th>4</th>\n",
       "      <td>1926-11-30</td>\n",
       "      <td>0.0253</td>\n",
       "      <td>-0.0010</td>\n",
       "      <td>-0.0051</td>\n",
       "      <td>0.0031</td>\n",
       "    </tr>\n",
       "    <tr>\n",
       "      <th>...</th>\n",
       "      <td>...</td>\n",
       "      <td>...</td>\n",
       "      <td>...</td>\n",
       "      <td>...</td>\n",
       "      <td>...</td>\n",
       "    </tr>\n",
       "    <tr>\n",
       "      <th>1168</th>\n",
       "      <td>2023-11-30</td>\n",
       "      <td>0.0884</td>\n",
       "      <td>-0.0002</td>\n",
       "      <td>0.0164</td>\n",
       "      <td>0.0044</td>\n",
       "    </tr>\n",
       "    <tr>\n",
       "      <th>1169</th>\n",
       "      <td>2023-12-31</td>\n",
       "      <td>0.0487</td>\n",
       "      <td>0.0634</td>\n",
       "      <td>0.0493</td>\n",
       "      <td>0.0043</td>\n",
       "    </tr>\n",
       "    <tr>\n",
       "      <th>1170</th>\n",
       "      <td>2024-01-31</td>\n",
       "      <td>0.0071</td>\n",
       "      <td>-0.0509</td>\n",
       "      <td>-0.0238</td>\n",
       "      <td>0.0047</td>\n",
       "    </tr>\n",
       "    <tr>\n",
       "      <th>1171</th>\n",
       "      <td>2024-02-29</td>\n",
       "      <td>0.0506</td>\n",
       "      <td>-0.0024</td>\n",
       "      <td>-0.0349</td>\n",
       "      <td>0.0042</td>\n",
       "    </tr>\n",
       "    <tr>\n",
       "      <th>1172</th>\n",
       "      <td>2024-03-31</td>\n",
       "      <td>0.0283</td>\n",
       "      <td>-0.0249</td>\n",
       "      <td>0.0419</td>\n",
       "      <td>0.0043</td>\n",
       "    </tr>\n",
       "  </tbody>\n",
       "</table>\n",
       "<p>1173 rows × 5 columns</p>\n",
       "</div>"
      ]
     },
     "execution_count": 14,
     "metadata": {},
     "output_type": "execute_result"
    }
   ],
   "execution_count": 14
  },
  {
   "cell_type": "code",
   "id": "44b8b53a-caf6-4bb7-9f5a-6cb49977a253",
   "metadata": {
    "ExecuteTime": {
     "end_time": "2024-05-14T14:10:40.206731Z",
     "start_time": "2024-05-14T14:10:40.201836Z"
    }
   },
   "source": [
    "ff3_monthly.columns"
   ],
   "outputs": [
    {
     "data": {
      "text/plain": [
       "Index(['date_ff_factors', 'Mkt-RF', 'SMB', 'HML', 'RF'], dtype='object')"
      ]
     },
     "execution_count": 15,
     "metadata": {},
     "output_type": "execute_result"
    }
   ],
   "execution_count": 15
  },
  {
   "cell_type": "code",
   "id": "ef6aacb5-9046-4301-bf98-f9660d193304",
   "metadata": {
    "ExecuteTime": {
     "end_time": "2024-05-14T14:10:40.211897Z",
     "start_time": "2024-05-14T14:10:40.208420Z"
    }
   },
   "source": [
    "ff3_monthly.rename({'date_ff_factors': 'Date'}, axis=1, inplace=True)"
   ],
   "outputs": [],
   "execution_count": 16
  },
  {
   "cell_type": "code",
   "id": "6f14f306-fc41-412f-9fd5-fe41f8a8616d",
   "metadata": {
    "ExecuteTime": {
     "end_time": "2024-05-14T14:10:40.221087Z",
     "start_time": "2024-05-14T14:10:40.213246Z"
    }
   },
   "source": [
    "ff3_monthly.head()"
   ],
   "outputs": [
    {
     "data": {
      "text/plain": [
       "        Date  Mkt-RF     SMB     HML      RF\n",
       "0 1926-07-31  0.0296 -0.0256 -0.0243  0.0022\n",
       "1 1926-08-31  0.0264 -0.0117  0.0382  0.0025\n",
       "2 1926-09-30  0.0036 -0.0140  0.0013  0.0023\n",
       "3 1926-10-31 -0.0324 -0.0009  0.0070  0.0032\n",
       "4 1926-11-30  0.0253 -0.0010 -0.0051  0.0031"
      ],
      "text/html": [
       "<div>\n",
       "<style scoped>\n",
       "    .dataframe tbody tr th:only-of-type {\n",
       "        vertical-align: middle;\n",
       "    }\n",
       "\n",
       "    .dataframe tbody tr th {\n",
       "        vertical-align: top;\n",
       "    }\n",
       "\n",
       "    .dataframe thead th {\n",
       "        text-align: right;\n",
       "    }\n",
       "</style>\n",
       "<table border=\"1\" class=\"dataframe\">\n",
       "  <thead>\n",
       "    <tr style=\"text-align: right;\">\n",
       "      <th></th>\n",
       "      <th>Date</th>\n",
       "      <th>Mkt-RF</th>\n",
       "      <th>SMB</th>\n",
       "      <th>HML</th>\n",
       "      <th>RF</th>\n",
       "    </tr>\n",
       "  </thead>\n",
       "  <tbody>\n",
       "    <tr>\n",
       "      <th>0</th>\n",
       "      <td>1926-07-31</td>\n",
       "      <td>0.0296</td>\n",
       "      <td>-0.0256</td>\n",
       "      <td>-0.0243</td>\n",
       "      <td>0.0022</td>\n",
       "    </tr>\n",
       "    <tr>\n",
       "      <th>1</th>\n",
       "      <td>1926-08-31</td>\n",
       "      <td>0.0264</td>\n",
       "      <td>-0.0117</td>\n",
       "      <td>0.0382</td>\n",
       "      <td>0.0025</td>\n",
       "    </tr>\n",
       "    <tr>\n",
       "      <th>2</th>\n",
       "      <td>1926-09-30</td>\n",
       "      <td>0.0036</td>\n",
       "      <td>-0.0140</td>\n",
       "      <td>0.0013</td>\n",
       "      <td>0.0023</td>\n",
       "    </tr>\n",
       "    <tr>\n",
       "      <th>3</th>\n",
       "      <td>1926-10-31</td>\n",
       "      <td>-0.0324</td>\n",
       "      <td>-0.0009</td>\n",
       "      <td>0.0070</td>\n",
       "      <td>0.0032</td>\n",
       "    </tr>\n",
       "    <tr>\n",
       "      <th>4</th>\n",
       "      <td>1926-11-30</td>\n",
       "      <td>0.0253</td>\n",
       "      <td>-0.0010</td>\n",
       "      <td>-0.0051</td>\n",
       "      <td>0.0031</td>\n",
       "    </tr>\n",
       "  </tbody>\n",
       "</table>\n",
       "</div>"
      ]
     },
     "execution_count": 17,
     "metadata": {},
     "output_type": "execute_result"
    }
   ],
   "execution_count": 17
  },
  {
   "cell_type": "code",
   "id": "e715350a-f8c4-42a9-a56a-cfc7c609d149",
   "metadata": {
    "ExecuteTime": {
     "end_time": "2024-05-14T14:10:40.231393Z",
     "start_time": "2024-05-14T14:10:40.222757Z"
    }
   },
   "source": [
    "ff3_monthly.set_index('Date', inplace = True)"
   ],
   "outputs": [],
   "execution_count": 18
  },
  {
   "cell_type": "code",
   "id": "d3c64f33-4424-453a-b8ac-81ba0baba1c8",
   "metadata": {
    "ExecuteTime": {
     "end_time": "2024-05-14T14:10:40.240103Z",
     "start_time": "2024-05-14T14:10:40.233609Z"
    }
   },
   "source": [
    "ff3_monthly.head()"
   ],
   "outputs": [
    {
     "data": {
      "text/plain": [
       "            Mkt-RF     SMB     HML      RF\n",
       "Date                                      \n",
       "1926-07-31  0.0296 -0.0256 -0.0243  0.0022\n",
       "1926-08-31  0.0264 -0.0117  0.0382  0.0025\n",
       "1926-09-30  0.0036 -0.0140  0.0013  0.0023\n",
       "1926-10-31 -0.0324 -0.0009  0.0070  0.0032\n",
       "1926-11-30  0.0253 -0.0010 -0.0051  0.0031"
      ],
      "text/html": [
       "<div>\n",
       "<style scoped>\n",
       "    .dataframe tbody tr th:only-of-type {\n",
       "        vertical-align: middle;\n",
       "    }\n",
       "\n",
       "    .dataframe tbody tr th {\n",
       "        vertical-align: top;\n",
       "    }\n",
       "\n",
       "    .dataframe thead th {\n",
       "        text-align: right;\n",
       "    }\n",
       "</style>\n",
       "<table border=\"1\" class=\"dataframe\">\n",
       "  <thead>\n",
       "    <tr style=\"text-align: right;\">\n",
       "      <th></th>\n",
       "      <th>Mkt-RF</th>\n",
       "      <th>SMB</th>\n",
       "      <th>HML</th>\n",
       "      <th>RF</th>\n",
       "    </tr>\n",
       "    <tr>\n",
       "      <th>Date</th>\n",
       "      <th></th>\n",
       "      <th></th>\n",
       "      <th></th>\n",
       "      <th></th>\n",
       "    </tr>\n",
       "  </thead>\n",
       "  <tbody>\n",
       "    <tr>\n",
       "      <th>1926-07-31</th>\n",
       "      <td>0.0296</td>\n",
       "      <td>-0.0256</td>\n",
       "      <td>-0.0243</td>\n",
       "      <td>0.0022</td>\n",
       "    </tr>\n",
       "    <tr>\n",
       "      <th>1926-08-31</th>\n",
       "      <td>0.0264</td>\n",
       "      <td>-0.0117</td>\n",
       "      <td>0.0382</td>\n",
       "      <td>0.0025</td>\n",
       "    </tr>\n",
       "    <tr>\n",
       "      <th>1926-09-30</th>\n",
       "      <td>0.0036</td>\n",
       "      <td>-0.0140</td>\n",
       "      <td>0.0013</td>\n",
       "      <td>0.0023</td>\n",
       "    </tr>\n",
       "    <tr>\n",
       "      <th>1926-10-31</th>\n",
       "      <td>-0.0324</td>\n",
       "      <td>-0.0009</td>\n",
       "      <td>0.0070</td>\n",
       "      <td>0.0032</td>\n",
       "    </tr>\n",
       "    <tr>\n",
       "      <th>1926-11-30</th>\n",
       "      <td>0.0253</td>\n",
       "      <td>-0.0010</td>\n",
       "      <td>-0.0051</td>\n",
       "      <td>0.0031</td>\n",
       "    </tr>\n",
       "  </tbody>\n",
       "</table>\n",
       "</div>"
      ]
     },
     "execution_count": 19,
     "metadata": {},
     "output_type": "execute_result"
    }
   ],
   "execution_count": 19
  },
  {
   "cell_type": "markdown",
   "id": "75d2b652-2b90-4d06-a0ee-402135611d6f",
   "metadata": {},
   "source": [
    "#### Combiniamo i DF di FF con quello di Tesla"
   ]
  },
  {
   "cell_type": "code",
   "id": "7b2c7a11-ffe2-4415-bfe9-8d3699980233",
   "metadata": {
    "ExecuteTime": {
     "end_time": "2024-05-14T14:10:40.247687Z",
     "start_time": "2024-05-14T14:10:40.242923Z"
    }
   },
   "source": [
    "data = ff3_monthly.merge(tsla, on = 'Date')"
   ],
   "outputs": [],
   "execution_count": 20
  },
  {
   "cell_type": "code",
   "id": "69bd80b5-975b-4226-8acb-94eac9667131",
   "metadata": {
    "ExecuteTime": {
     "end_time": "2024-05-14T14:10:40.257675Z",
     "start_time": "2024-05-14T14:10:40.249250Z"
    }
   },
   "source": [
    "data"
   ],
   "outputs": [
    {
     "data": {
      "text/plain": [
       "            Mkt-RF     SMB     HML      RF   Adj Close       Ret\n",
       "Date                                                            \n",
       "2018-06-30  0.0048  0.0114 -0.0234  0.0014   22.863333  0.204474\n",
       "2018-07-31  0.0319 -0.0222  0.0047  0.0016   19.875999 -0.130660\n",
       "2018-08-31  0.0344  0.0114 -0.0394  0.0016   20.110666  0.011807\n",
       "2018-09-30  0.0006 -0.0227 -0.0170  0.0015   17.651333 -0.122290\n",
       "2018-10-31 -0.0768 -0.0478  0.0340  0.0019   22.488001  0.274011\n",
       "...            ...     ...     ...     ...         ...       ...\n",
       "2023-11-30  0.0884 -0.0002  0.0164  0.0044  240.080002  0.195379\n",
       "2023-12-31  0.0487  0.0634  0.0493  0.0043  248.479996  0.034988\n",
       "2024-01-31  0.0071 -0.0509 -0.0238  0.0047  187.289993 -0.246257\n",
       "2024-02-29  0.0506 -0.0024 -0.0349  0.0042  201.880005  0.077901\n",
       "2024-03-31  0.0283 -0.0249  0.0419  0.0043  175.789993 -0.129235\n",
       "\n",
       "[70 rows x 6 columns]"
      ],
      "text/html": [
       "<div>\n",
       "<style scoped>\n",
       "    .dataframe tbody tr th:only-of-type {\n",
       "        vertical-align: middle;\n",
       "    }\n",
       "\n",
       "    .dataframe tbody tr th {\n",
       "        vertical-align: top;\n",
       "    }\n",
       "\n",
       "    .dataframe thead th {\n",
       "        text-align: right;\n",
       "    }\n",
       "</style>\n",
       "<table border=\"1\" class=\"dataframe\">\n",
       "  <thead>\n",
       "    <tr style=\"text-align: right;\">\n",
       "      <th></th>\n",
       "      <th>Mkt-RF</th>\n",
       "      <th>SMB</th>\n",
       "      <th>HML</th>\n",
       "      <th>RF</th>\n",
       "      <th>Adj Close</th>\n",
       "      <th>Ret</th>\n",
       "    </tr>\n",
       "    <tr>\n",
       "      <th>Date</th>\n",
       "      <th></th>\n",
       "      <th></th>\n",
       "      <th></th>\n",
       "      <th></th>\n",
       "      <th></th>\n",
       "      <th></th>\n",
       "    </tr>\n",
       "  </thead>\n",
       "  <tbody>\n",
       "    <tr>\n",
       "      <th>2018-06-30</th>\n",
       "      <td>0.0048</td>\n",
       "      <td>0.0114</td>\n",
       "      <td>-0.0234</td>\n",
       "      <td>0.0014</td>\n",
       "      <td>22.863333</td>\n",
       "      <td>0.204474</td>\n",
       "    </tr>\n",
       "    <tr>\n",
       "      <th>2018-07-31</th>\n",
       "      <td>0.0319</td>\n",
       "      <td>-0.0222</td>\n",
       "      <td>0.0047</td>\n",
       "      <td>0.0016</td>\n",
       "      <td>19.875999</td>\n",
       "      <td>-0.130660</td>\n",
       "    </tr>\n",
       "    <tr>\n",
       "      <th>2018-08-31</th>\n",
       "      <td>0.0344</td>\n",
       "      <td>0.0114</td>\n",
       "      <td>-0.0394</td>\n",
       "      <td>0.0016</td>\n",
       "      <td>20.110666</td>\n",
       "      <td>0.011807</td>\n",
       "    </tr>\n",
       "    <tr>\n",
       "      <th>2018-09-30</th>\n",
       "      <td>0.0006</td>\n",
       "      <td>-0.0227</td>\n",
       "      <td>-0.0170</td>\n",
       "      <td>0.0015</td>\n",
       "      <td>17.651333</td>\n",
       "      <td>-0.122290</td>\n",
       "    </tr>\n",
       "    <tr>\n",
       "      <th>2018-10-31</th>\n",
       "      <td>-0.0768</td>\n",
       "      <td>-0.0478</td>\n",
       "      <td>0.0340</td>\n",
       "      <td>0.0019</td>\n",
       "      <td>22.488001</td>\n",
       "      <td>0.274011</td>\n",
       "    </tr>\n",
       "    <tr>\n",
       "      <th>...</th>\n",
       "      <td>...</td>\n",
       "      <td>...</td>\n",
       "      <td>...</td>\n",
       "      <td>...</td>\n",
       "      <td>...</td>\n",
       "      <td>...</td>\n",
       "    </tr>\n",
       "    <tr>\n",
       "      <th>2023-11-30</th>\n",
       "      <td>0.0884</td>\n",
       "      <td>-0.0002</td>\n",
       "      <td>0.0164</td>\n",
       "      <td>0.0044</td>\n",
       "      <td>240.080002</td>\n",
       "      <td>0.195379</td>\n",
       "    </tr>\n",
       "    <tr>\n",
       "      <th>2023-12-31</th>\n",
       "      <td>0.0487</td>\n",
       "      <td>0.0634</td>\n",
       "      <td>0.0493</td>\n",
       "      <td>0.0043</td>\n",
       "      <td>248.479996</td>\n",
       "      <td>0.034988</td>\n",
       "    </tr>\n",
       "    <tr>\n",
       "      <th>2024-01-31</th>\n",
       "      <td>0.0071</td>\n",
       "      <td>-0.0509</td>\n",
       "      <td>-0.0238</td>\n",
       "      <td>0.0047</td>\n",
       "      <td>187.289993</td>\n",
       "      <td>-0.246257</td>\n",
       "    </tr>\n",
       "    <tr>\n",
       "      <th>2024-02-29</th>\n",
       "      <td>0.0506</td>\n",
       "      <td>-0.0024</td>\n",
       "      <td>-0.0349</td>\n",
       "      <td>0.0042</td>\n",
       "      <td>201.880005</td>\n",
       "      <td>0.077901</td>\n",
       "    </tr>\n",
       "    <tr>\n",
       "      <th>2024-03-31</th>\n",
       "      <td>0.0283</td>\n",
       "      <td>-0.0249</td>\n",
       "      <td>0.0419</td>\n",
       "      <td>0.0043</td>\n",
       "      <td>175.789993</td>\n",
       "      <td>-0.129235</td>\n",
       "    </tr>\n",
       "  </tbody>\n",
       "</table>\n",
       "<p>70 rows × 6 columns</p>\n",
       "</div>"
      ]
     },
     "execution_count": 21,
     "metadata": {},
     "output_type": "execute_result"
    }
   ],
   "execution_count": 21
  },
  {
   "cell_type": "code",
   "id": "f76a8a73-3cdc-412a-bec4-d28972f88db2",
   "metadata": {
    "ExecuteTime": {
     "end_time": "2024-05-14T14:10:40.262979Z",
     "start_time": "2024-05-14T14:10:40.258692Z"
    }
   },
   "source": [
    "data.shape"
   ],
   "outputs": [
    {
     "data": {
      "text/plain": [
       "(70, 6)"
      ]
     },
     "execution_count": 22,
     "metadata": {},
     "output_type": "execute_result"
    }
   ],
   "execution_count": 22
  },
  {
   "cell_type": "code",
   "id": "b4b4713a-7903-442c-a699-2b4fbae5b513",
   "metadata": {
    "ExecuteTime": {
     "end_time": "2024-05-14T14:10:40.276703Z",
     "start_time": "2024-05-14T14:10:40.263946Z"
    }
   },
   "source": [
    "data = data.tail(60)\n",
    "data"
   ],
   "outputs": [
    {
     "data": {
      "text/plain": [
       "            Mkt-RF     SMB     HML      RF   Adj Close       Ret\n",
       "Date                                                            \n",
       "2019-04-30  0.0397 -0.0174  0.0215  0.0021   15.912667 -0.147109\n",
       "2019-05-31 -0.0694 -0.0132 -0.0237  0.0021   12.344000 -0.224266\n",
       "2019-06-30  0.0693  0.0029 -0.0071  0.0018   14.897333  0.206848\n",
       "2019-07-31  0.0119 -0.0193  0.0048  0.0019   16.107332  0.081223\n",
       "2019-08-31 -0.0258 -0.0238 -0.0478  0.0016   15.040667 -0.066222\n",
       "2019-09-30  0.0143 -0.0096  0.0675  0.0018   16.058001  0.067639\n",
       "2019-10-31  0.0206  0.0029 -0.0191  0.0016   20.994667  0.307427\n",
       "2019-11-30  0.0387  0.0077 -0.0202  0.0012   21.996000  0.047695\n",
       "2019-12-31  0.0277  0.0073  0.0175  0.0014   27.888666  0.267897\n",
       "2020-01-31 -0.0011 -0.0311 -0.0625  0.0013   43.371334  0.555160\n",
       "2020-02-29 -0.0813  0.0107 -0.0381  0.0012   44.532665  0.026776\n",
       "2020-03-31 -0.1339 -0.0483 -0.1387  0.0013   34.933334 -0.215557\n",
       "2020-04-30  0.1365  0.0245 -0.0133  0.0000   52.125332  0.492137\n",
       "2020-05-31  0.0558  0.0247 -0.0488  0.0001   55.666668  0.067939\n",
       "2020-06-30  0.0246  0.0269 -0.0220  0.0001   71.987335  0.293186\n",
       "2020-07-31  0.0577 -0.0233 -0.0141  0.0001   95.384003  0.325011\n",
       "2020-08-31  0.0763 -0.0022 -0.0297  0.0001  166.106674  0.741452\n",
       "2020-09-30 -0.0363  0.0002 -0.0271  0.0001  143.003326 -0.139087\n",
       "2020-10-31 -0.0210  0.0438  0.0425  0.0001  129.346664 -0.095499\n",
       "2020-11-30  0.1247  0.0580  0.0209  0.0001  189.199997  0.462736\n",
       "2020-12-31  0.0463  0.0489 -0.0151  0.0001  235.223328  0.243252\n",
       "2021-01-31 -0.0003  0.0736  0.0301  0.0001  264.510010  0.124506\n",
       "2021-02-28  0.0278  0.0205  0.0715  0.0000  225.166672 -0.148740\n",
       "2021-03-31  0.0308 -0.0237  0.0739  0.0000  222.643326 -0.011207\n",
       "2021-04-30  0.0493 -0.0319 -0.0095  0.0000  236.479996  0.062147\n",
       "2021-05-31  0.0029 -0.0025  0.0709  0.0000  208.406662 -0.118713\n",
       "2021-06-30  0.0275  0.0168 -0.0787  0.0000  226.566666  0.087137\n",
       "2021-07-31  0.0127 -0.0397 -0.0178  0.0000  229.066666  0.011034\n",
       "2021-08-31  0.0291 -0.0042 -0.0015  0.0000  245.240005  0.070605\n",
       "2021-09-30 -0.0437  0.0071  0.0508  0.0000  258.493347  0.054042\n",
       "2021-10-31  0.0665 -0.0235 -0.0049  0.0000  371.333344  0.436530\n",
       "2021-11-30 -0.0155 -0.0132 -0.0045  0.0000  381.586670  0.027612\n",
       "2021-12-31  0.0310 -0.0167  0.0326  0.0001  352.260010 -0.076855\n",
       "2022-01-31 -0.0625 -0.0594  0.1275  0.0000  312.239990 -0.113609\n",
       "2022-02-28 -0.0229  0.0219  0.0308  0.0000  290.143341 -0.070768\n",
       "2022-03-31  0.0305 -0.0161 -0.0181  0.0001  359.200012  0.238009\n",
       "2022-04-30 -0.0946 -0.0139  0.0617  0.0001  290.253326 -0.191945\n",
       "2022-05-31 -0.0034 -0.0183  0.0839  0.0003  252.753326 -0.129197\n",
       "2022-06-30 -0.0843  0.0210 -0.0597  0.0006  224.473328 -0.111888\n",
       "2022-07-31  0.0957  0.0281 -0.0405  0.0008  297.149994  0.323765\n",
       "2022-08-31 -0.0377  0.0140  0.0029  0.0019  275.609985 -0.072489\n",
       "2022-09-30 -0.0935 -0.0081  0.0005  0.0019  265.250000 -0.037589\n",
       "2022-10-31  0.0783  0.0006  0.0801  0.0023  227.539993 -0.142168\n",
       "2022-11-30  0.0460 -0.0352  0.0138  0.0029  194.699997 -0.144326\n",
       "2022-12-31 -0.0641 -0.0069  0.0137  0.0033  123.180000 -0.367334\n",
       "2023-01-31  0.0665  0.0501 -0.0401  0.0035  173.220001  0.406235\n",
       "2023-02-28 -0.0258  0.0117 -0.0081  0.0034  205.710007  0.187565\n",
       "2023-03-31  0.0251 -0.0551 -0.0885  0.0036  207.460007  0.008507\n",
       "2023-04-30  0.0061 -0.0335 -0.0004  0.0035  164.309998 -0.207992\n",
       "2023-05-31  0.0035  0.0161 -0.0772  0.0036  203.929993  0.241130\n",
       "2023-06-30  0.0646  0.0154 -0.0026  0.0040  261.769989  0.283627\n",
       "2023-07-31  0.0321  0.0208  0.0411  0.0045  267.429993  0.021622\n",
       "2023-08-31 -0.0239 -0.0316 -0.0106  0.0045  258.079987 -0.034962\n",
       "2023-09-30 -0.0524 -0.0251  0.0152  0.0043  250.220001 -0.030456\n",
       "2023-10-31 -0.0319 -0.0388  0.0018  0.0047  200.839996 -0.197346\n",
       "2023-11-30  0.0884 -0.0002  0.0164  0.0044  240.080002  0.195379\n",
       "2023-12-31  0.0487  0.0634  0.0493  0.0043  248.479996  0.034988\n",
       "2024-01-31  0.0071 -0.0509 -0.0238  0.0047  187.289993 -0.246257\n",
       "2024-02-29  0.0506 -0.0024 -0.0349  0.0042  201.880005  0.077901\n",
       "2024-03-31  0.0283 -0.0249  0.0419  0.0043  175.789993 -0.129235"
      ],
      "text/html": [
       "<div>\n",
       "<style scoped>\n",
       "    .dataframe tbody tr th:only-of-type {\n",
       "        vertical-align: middle;\n",
       "    }\n",
       "\n",
       "    .dataframe tbody tr th {\n",
       "        vertical-align: top;\n",
       "    }\n",
       "\n",
       "    .dataframe thead th {\n",
       "        text-align: right;\n",
       "    }\n",
       "</style>\n",
       "<table border=\"1\" class=\"dataframe\">\n",
       "  <thead>\n",
       "    <tr style=\"text-align: right;\">\n",
       "      <th></th>\n",
       "      <th>Mkt-RF</th>\n",
       "      <th>SMB</th>\n",
       "      <th>HML</th>\n",
       "      <th>RF</th>\n",
       "      <th>Adj Close</th>\n",
       "      <th>Ret</th>\n",
       "    </tr>\n",
       "    <tr>\n",
       "      <th>Date</th>\n",
       "      <th></th>\n",
       "      <th></th>\n",
       "      <th></th>\n",
       "      <th></th>\n",
       "      <th></th>\n",
       "      <th></th>\n",
       "    </tr>\n",
       "  </thead>\n",
       "  <tbody>\n",
       "    <tr>\n",
       "      <th>2019-04-30</th>\n",
       "      <td>0.0397</td>\n",
       "      <td>-0.0174</td>\n",
       "      <td>0.0215</td>\n",
       "      <td>0.0021</td>\n",
       "      <td>15.912667</td>\n",
       "      <td>-0.147109</td>\n",
       "    </tr>\n",
       "    <tr>\n",
       "      <th>2019-05-31</th>\n",
       "      <td>-0.0694</td>\n",
       "      <td>-0.0132</td>\n",
       "      <td>-0.0237</td>\n",
       "      <td>0.0021</td>\n",
       "      <td>12.344000</td>\n",
       "      <td>-0.224266</td>\n",
       "    </tr>\n",
       "    <tr>\n",
       "      <th>2019-06-30</th>\n",
       "      <td>0.0693</td>\n",
       "      <td>0.0029</td>\n",
       "      <td>-0.0071</td>\n",
       "      <td>0.0018</td>\n",
       "      <td>14.897333</td>\n",
       "      <td>0.206848</td>\n",
       "    </tr>\n",
       "    <tr>\n",
       "      <th>2019-07-31</th>\n",
       "      <td>0.0119</td>\n",
       "      <td>-0.0193</td>\n",
       "      <td>0.0048</td>\n",
       "      <td>0.0019</td>\n",
       "      <td>16.107332</td>\n",
       "      <td>0.081223</td>\n",
       "    </tr>\n",
       "    <tr>\n",
       "      <th>2019-08-31</th>\n",
       "      <td>-0.0258</td>\n",
       "      <td>-0.0238</td>\n",
       "      <td>-0.0478</td>\n",
       "      <td>0.0016</td>\n",
       "      <td>15.040667</td>\n",
       "      <td>-0.066222</td>\n",
       "    </tr>\n",
       "    <tr>\n",
       "      <th>2019-09-30</th>\n",
       "      <td>0.0143</td>\n",
       "      <td>-0.0096</td>\n",
       "      <td>0.0675</td>\n",
       "      <td>0.0018</td>\n",
       "      <td>16.058001</td>\n",
       "      <td>0.067639</td>\n",
       "    </tr>\n",
       "    <tr>\n",
       "      <th>2019-10-31</th>\n",
       "      <td>0.0206</td>\n",
       "      <td>0.0029</td>\n",
       "      <td>-0.0191</td>\n",
       "      <td>0.0016</td>\n",
       "      <td>20.994667</td>\n",
       "      <td>0.307427</td>\n",
       "    </tr>\n",
       "    <tr>\n",
       "      <th>2019-11-30</th>\n",
       "      <td>0.0387</td>\n",
       "      <td>0.0077</td>\n",
       "      <td>-0.0202</td>\n",
       "      <td>0.0012</td>\n",
       "      <td>21.996000</td>\n",
       "      <td>0.047695</td>\n",
       "    </tr>\n",
       "    <tr>\n",
       "      <th>2019-12-31</th>\n",
       "      <td>0.0277</td>\n",
       "      <td>0.0073</td>\n",
       "      <td>0.0175</td>\n",
       "      <td>0.0014</td>\n",
       "      <td>27.888666</td>\n",
       "      <td>0.267897</td>\n",
       "    </tr>\n",
       "    <tr>\n",
       "      <th>2020-01-31</th>\n",
       "      <td>-0.0011</td>\n",
       "      <td>-0.0311</td>\n",
       "      <td>-0.0625</td>\n",
       "      <td>0.0013</td>\n",
       "      <td>43.371334</td>\n",
       "      <td>0.555160</td>\n",
       "    </tr>\n",
       "    <tr>\n",
       "      <th>2020-02-29</th>\n",
       "      <td>-0.0813</td>\n",
       "      <td>0.0107</td>\n",
       "      <td>-0.0381</td>\n",
       "      <td>0.0012</td>\n",
       "      <td>44.532665</td>\n",
       "      <td>0.026776</td>\n",
       "    </tr>\n",
       "    <tr>\n",
       "      <th>2020-03-31</th>\n",
       "      <td>-0.1339</td>\n",
       "      <td>-0.0483</td>\n",
       "      <td>-0.1387</td>\n",
       "      <td>0.0013</td>\n",
       "      <td>34.933334</td>\n",
       "      <td>-0.215557</td>\n",
       "    </tr>\n",
       "    <tr>\n",
       "      <th>2020-04-30</th>\n",
       "      <td>0.1365</td>\n",
       "      <td>0.0245</td>\n",
       "      <td>-0.0133</td>\n",
       "      <td>0.0000</td>\n",
       "      <td>52.125332</td>\n",
       "      <td>0.492137</td>\n",
       "    </tr>\n",
       "    <tr>\n",
       "      <th>2020-05-31</th>\n",
       "      <td>0.0558</td>\n",
       "      <td>0.0247</td>\n",
       "      <td>-0.0488</td>\n",
       "      <td>0.0001</td>\n",
       "      <td>55.666668</td>\n",
       "      <td>0.067939</td>\n",
       "    </tr>\n",
       "    <tr>\n",
       "      <th>2020-06-30</th>\n",
       "      <td>0.0246</td>\n",
       "      <td>0.0269</td>\n",
       "      <td>-0.0220</td>\n",
       "      <td>0.0001</td>\n",
       "      <td>71.987335</td>\n",
       "      <td>0.293186</td>\n",
       "    </tr>\n",
       "    <tr>\n",
       "      <th>2020-07-31</th>\n",
       "      <td>0.0577</td>\n",
       "      <td>-0.0233</td>\n",
       "      <td>-0.0141</td>\n",
       "      <td>0.0001</td>\n",
       "      <td>95.384003</td>\n",
       "      <td>0.325011</td>\n",
       "    </tr>\n",
       "    <tr>\n",
       "      <th>2020-08-31</th>\n",
       "      <td>0.0763</td>\n",
       "      <td>-0.0022</td>\n",
       "      <td>-0.0297</td>\n",
       "      <td>0.0001</td>\n",
       "      <td>166.106674</td>\n",
       "      <td>0.741452</td>\n",
       "    </tr>\n",
       "    <tr>\n",
       "      <th>2020-09-30</th>\n",
       "      <td>-0.0363</td>\n",
       "      <td>0.0002</td>\n",
       "      <td>-0.0271</td>\n",
       "      <td>0.0001</td>\n",
       "      <td>143.003326</td>\n",
       "      <td>-0.139087</td>\n",
       "    </tr>\n",
       "    <tr>\n",
       "      <th>2020-10-31</th>\n",
       "      <td>-0.0210</td>\n",
       "      <td>0.0438</td>\n",
       "      <td>0.0425</td>\n",
       "      <td>0.0001</td>\n",
       "      <td>129.346664</td>\n",
       "      <td>-0.095499</td>\n",
       "    </tr>\n",
       "    <tr>\n",
       "      <th>2020-11-30</th>\n",
       "      <td>0.1247</td>\n",
       "      <td>0.0580</td>\n",
       "      <td>0.0209</td>\n",
       "      <td>0.0001</td>\n",
       "      <td>189.199997</td>\n",
       "      <td>0.462736</td>\n",
       "    </tr>\n",
       "    <tr>\n",
       "      <th>2020-12-31</th>\n",
       "      <td>0.0463</td>\n",
       "      <td>0.0489</td>\n",
       "      <td>-0.0151</td>\n",
       "      <td>0.0001</td>\n",
       "      <td>235.223328</td>\n",
       "      <td>0.243252</td>\n",
       "    </tr>\n",
       "    <tr>\n",
       "      <th>2021-01-31</th>\n",
       "      <td>-0.0003</td>\n",
       "      <td>0.0736</td>\n",
       "      <td>0.0301</td>\n",
       "      <td>0.0001</td>\n",
       "      <td>264.510010</td>\n",
       "      <td>0.124506</td>\n",
       "    </tr>\n",
       "    <tr>\n",
       "      <th>2021-02-28</th>\n",
       "      <td>0.0278</td>\n",
       "      <td>0.0205</td>\n",
       "      <td>0.0715</td>\n",
       "      <td>0.0000</td>\n",
       "      <td>225.166672</td>\n",
       "      <td>-0.148740</td>\n",
       "    </tr>\n",
       "    <tr>\n",
       "      <th>2021-03-31</th>\n",
       "      <td>0.0308</td>\n",
       "      <td>-0.0237</td>\n",
       "      <td>0.0739</td>\n",
       "      <td>0.0000</td>\n",
       "      <td>222.643326</td>\n",
       "      <td>-0.011207</td>\n",
       "    </tr>\n",
       "    <tr>\n",
       "      <th>2021-04-30</th>\n",
       "      <td>0.0493</td>\n",
       "      <td>-0.0319</td>\n",
       "      <td>-0.0095</td>\n",
       "      <td>0.0000</td>\n",
       "      <td>236.479996</td>\n",
       "      <td>0.062147</td>\n",
       "    </tr>\n",
       "    <tr>\n",
       "      <th>2021-05-31</th>\n",
       "      <td>0.0029</td>\n",
       "      <td>-0.0025</td>\n",
       "      <td>0.0709</td>\n",
       "      <td>0.0000</td>\n",
       "      <td>208.406662</td>\n",
       "      <td>-0.118713</td>\n",
       "    </tr>\n",
       "    <tr>\n",
       "      <th>2021-06-30</th>\n",
       "      <td>0.0275</td>\n",
       "      <td>0.0168</td>\n",
       "      <td>-0.0787</td>\n",
       "      <td>0.0000</td>\n",
       "      <td>226.566666</td>\n",
       "      <td>0.087137</td>\n",
       "    </tr>\n",
       "    <tr>\n",
       "      <th>2021-07-31</th>\n",
       "      <td>0.0127</td>\n",
       "      <td>-0.0397</td>\n",
       "      <td>-0.0178</td>\n",
       "      <td>0.0000</td>\n",
       "      <td>229.066666</td>\n",
       "      <td>0.011034</td>\n",
       "    </tr>\n",
       "    <tr>\n",
       "      <th>2021-08-31</th>\n",
       "      <td>0.0291</td>\n",
       "      <td>-0.0042</td>\n",
       "      <td>-0.0015</td>\n",
       "      <td>0.0000</td>\n",
       "      <td>245.240005</td>\n",
       "      <td>0.070605</td>\n",
       "    </tr>\n",
       "    <tr>\n",
       "      <th>2021-09-30</th>\n",
       "      <td>-0.0437</td>\n",
       "      <td>0.0071</td>\n",
       "      <td>0.0508</td>\n",
       "      <td>0.0000</td>\n",
       "      <td>258.493347</td>\n",
       "      <td>0.054042</td>\n",
       "    </tr>\n",
       "    <tr>\n",
       "      <th>2021-10-31</th>\n",
       "      <td>0.0665</td>\n",
       "      <td>-0.0235</td>\n",
       "      <td>-0.0049</td>\n",
       "      <td>0.0000</td>\n",
       "      <td>371.333344</td>\n",
       "      <td>0.436530</td>\n",
       "    </tr>\n",
       "    <tr>\n",
       "      <th>2021-11-30</th>\n",
       "      <td>-0.0155</td>\n",
       "      <td>-0.0132</td>\n",
       "      <td>-0.0045</td>\n",
       "      <td>0.0000</td>\n",
       "      <td>381.586670</td>\n",
       "      <td>0.027612</td>\n",
       "    </tr>\n",
       "    <tr>\n",
       "      <th>2021-12-31</th>\n",
       "      <td>0.0310</td>\n",
       "      <td>-0.0167</td>\n",
       "      <td>0.0326</td>\n",
       "      <td>0.0001</td>\n",
       "      <td>352.260010</td>\n",
       "      <td>-0.076855</td>\n",
       "    </tr>\n",
       "    <tr>\n",
       "      <th>2022-01-31</th>\n",
       "      <td>-0.0625</td>\n",
       "      <td>-0.0594</td>\n",
       "      <td>0.1275</td>\n",
       "      <td>0.0000</td>\n",
       "      <td>312.239990</td>\n",
       "      <td>-0.113609</td>\n",
       "    </tr>\n",
       "    <tr>\n",
       "      <th>2022-02-28</th>\n",
       "      <td>-0.0229</td>\n",
       "      <td>0.0219</td>\n",
       "      <td>0.0308</td>\n",
       "      <td>0.0000</td>\n",
       "      <td>290.143341</td>\n",
       "      <td>-0.070768</td>\n",
       "    </tr>\n",
       "    <tr>\n",
       "      <th>2022-03-31</th>\n",
       "      <td>0.0305</td>\n",
       "      <td>-0.0161</td>\n",
       "      <td>-0.0181</td>\n",
       "      <td>0.0001</td>\n",
       "      <td>359.200012</td>\n",
       "      <td>0.238009</td>\n",
       "    </tr>\n",
       "    <tr>\n",
       "      <th>2022-04-30</th>\n",
       "      <td>-0.0946</td>\n",
       "      <td>-0.0139</td>\n",
       "      <td>0.0617</td>\n",
       "      <td>0.0001</td>\n",
       "      <td>290.253326</td>\n",
       "      <td>-0.191945</td>\n",
       "    </tr>\n",
       "    <tr>\n",
       "      <th>2022-05-31</th>\n",
       "      <td>-0.0034</td>\n",
       "      <td>-0.0183</td>\n",
       "      <td>0.0839</td>\n",
       "      <td>0.0003</td>\n",
       "      <td>252.753326</td>\n",
       "      <td>-0.129197</td>\n",
       "    </tr>\n",
       "    <tr>\n",
       "      <th>2022-06-30</th>\n",
       "      <td>-0.0843</td>\n",
       "      <td>0.0210</td>\n",
       "      <td>-0.0597</td>\n",
       "      <td>0.0006</td>\n",
       "      <td>224.473328</td>\n",
       "      <td>-0.111888</td>\n",
       "    </tr>\n",
       "    <tr>\n",
       "      <th>2022-07-31</th>\n",
       "      <td>0.0957</td>\n",
       "      <td>0.0281</td>\n",
       "      <td>-0.0405</td>\n",
       "      <td>0.0008</td>\n",
       "      <td>297.149994</td>\n",
       "      <td>0.323765</td>\n",
       "    </tr>\n",
       "    <tr>\n",
       "      <th>2022-08-31</th>\n",
       "      <td>-0.0377</td>\n",
       "      <td>0.0140</td>\n",
       "      <td>0.0029</td>\n",
       "      <td>0.0019</td>\n",
       "      <td>275.609985</td>\n",
       "      <td>-0.072489</td>\n",
       "    </tr>\n",
       "    <tr>\n",
       "      <th>2022-09-30</th>\n",
       "      <td>-0.0935</td>\n",
       "      <td>-0.0081</td>\n",
       "      <td>0.0005</td>\n",
       "      <td>0.0019</td>\n",
       "      <td>265.250000</td>\n",
       "      <td>-0.037589</td>\n",
       "    </tr>\n",
       "    <tr>\n",
       "      <th>2022-10-31</th>\n",
       "      <td>0.0783</td>\n",
       "      <td>0.0006</td>\n",
       "      <td>0.0801</td>\n",
       "      <td>0.0023</td>\n",
       "      <td>227.539993</td>\n",
       "      <td>-0.142168</td>\n",
       "    </tr>\n",
       "    <tr>\n",
       "      <th>2022-11-30</th>\n",
       "      <td>0.0460</td>\n",
       "      <td>-0.0352</td>\n",
       "      <td>0.0138</td>\n",
       "      <td>0.0029</td>\n",
       "      <td>194.699997</td>\n",
       "      <td>-0.144326</td>\n",
       "    </tr>\n",
       "    <tr>\n",
       "      <th>2022-12-31</th>\n",
       "      <td>-0.0641</td>\n",
       "      <td>-0.0069</td>\n",
       "      <td>0.0137</td>\n",
       "      <td>0.0033</td>\n",
       "      <td>123.180000</td>\n",
       "      <td>-0.367334</td>\n",
       "    </tr>\n",
       "    <tr>\n",
       "      <th>2023-01-31</th>\n",
       "      <td>0.0665</td>\n",
       "      <td>0.0501</td>\n",
       "      <td>-0.0401</td>\n",
       "      <td>0.0035</td>\n",
       "      <td>173.220001</td>\n",
       "      <td>0.406235</td>\n",
       "    </tr>\n",
       "    <tr>\n",
       "      <th>2023-02-28</th>\n",
       "      <td>-0.0258</td>\n",
       "      <td>0.0117</td>\n",
       "      <td>-0.0081</td>\n",
       "      <td>0.0034</td>\n",
       "      <td>205.710007</td>\n",
       "      <td>0.187565</td>\n",
       "    </tr>\n",
       "    <tr>\n",
       "      <th>2023-03-31</th>\n",
       "      <td>0.0251</td>\n",
       "      <td>-0.0551</td>\n",
       "      <td>-0.0885</td>\n",
       "      <td>0.0036</td>\n",
       "      <td>207.460007</td>\n",
       "      <td>0.008507</td>\n",
       "    </tr>\n",
       "    <tr>\n",
       "      <th>2023-04-30</th>\n",
       "      <td>0.0061</td>\n",
       "      <td>-0.0335</td>\n",
       "      <td>-0.0004</td>\n",
       "      <td>0.0035</td>\n",
       "      <td>164.309998</td>\n",
       "      <td>-0.207992</td>\n",
       "    </tr>\n",
       "    <tr>\n",
       "      <th>2023-05-31</th>\n",
       "      <td>0.0035</td>\n",
       "      <td>0.0161</td>\n",
       "      <td>-0.0772</td>\n",
       "      <td>0.0036</td>\n",
       "      <td>203.929993</td>\n",
       "      <td>0.241130</td>\n",
       "    </tr>\n",
       "    <tr>\n",
       "      <th>2023-06-30</th>\n",
       "      <td>0.0646</td>\n",
       "      <td>0.0154</td>\n",
       "      <td>-0.0026</td>\n",
       "      <td>0.0040</td>\n",
       "      <td>261.769989</td>\n",
       "      <td>0.283627</td>\n",
       "    </tr>\n",
       "    <tr>\n",
       "      <th>2023-07-31</th>\n",
       "      <td>0.0321</td>\n",
       "      <td>0.0208</td>\n",
       "      <td>0.0411</td>\n",
       "      <td>0.0045</td>\n",
       "      <td>267.429993</td>\n",
       "      <td>0.021622</td>\n",
       "    </tr>\n",
       "    <tr>\n",
       "      <th>2023-08-31</th>\n",
       "      <td>-0.0239</td>\n",
       "      <td>-0.0316</td>\n",
       "      <td>-0.0106</td>\n",
       "      <td>0.0045</td>\n",
       "      <td>258.079987</td>\n",
       "      <td>-0.034962</td>\n",
       "    </tr>\n",
       "    <tr>\n",
       "      <th>2023-09-30</th>\n",
       "      <td>-0.0524</td>\n",
       "      <td>-0.0251</td>\n",
       "      <td>0.0152</td>\n",
       "      <td>0.0043</td>\n",
       "      <td>250.220001</td>\n",
       "      <td>-0.030456</td>\n",
       "    </tr>\n",
       "    <tr>\n",
       "      <th>2023-10-31</th>\n",
       "      <td>-0.0319</td>\n",
       "      <td>-0.0388</td>\n",
       "      <td>0.0018</td>\n",
       "      <td>0.0047</td>\n",
       "      <td>200.839996</td>\n",
       "      <td>-0.197346</td>\n",
       "    </tr>\n",
       "    <tr>\n",
       "      <th>2023-11-30</th>\n",
       "      <td>0.0884</td>\n",
       "      <td>-0.0002</td>\n",
       "      <td>0.0164</td>\n",
       "      <td>0.0044</td>\n",
       "      <td>240.080002</td>\n",
       "      <td>0.195379</td>\n",
       "    </tr>\n",
       "    <tr>\n",
       "      <th>2023-12-31</th>\n",
       "      <td>0.0487</td>\n",
       "      <td>0.0634</td>\n",
       "      <td>0.0493</td>\n",
       "      <td>0.0043</td>\n",
       "      <td>248.479996</td>\n",
       "      <td>0.034988</td>\n",
       "    </tr>\n",
       "    <tr>\n",
       "      <th>2024-01-31</th>\n",
       "      <td>0.0071</td>\n",
       "      <td>-0.0509</td>\n",
       "      <td>-0.0238</td>\n",
       "      <td>0.0047</td>\n",
       "      <td>187.289993</td>\n",
       "      <td>-0.246257</td>\n",
       "    </tr>\n",
       "    <tr>\n",
       "      <th>2024-02-29</th>\n",
       "      <td>0.0506</td>\n",
       "      <td>-0.0024</td>\n",
       "      <td>-0.0349</td>\n",
       "      <td>0.0042</td>\n",
       "      <td>201.880005</td>\n",
       "      <td>0.077901</td>\n",
       "    </tr>\n",
       "    <tr>\n",
       "      <th>2024-03-31</th>\n",
       "      <td>0.0283</td>\n",
       "      <td>-0.0249</td>\n",
       "      <td>0.0419</td>\n",
       "      <td>0.0043</td>\n",
       "      <td>175.789993</td>\n",
       "      <td>-0.129235</td>\n",
       "    </tr>\n",
       "  </tbody>\n",
       "</table>\n",
       "</div>"
      ]
     },
     "execution_count": 23,
     "metadata": {},
     "output_type": "execute_result"
    }
   ],
   "execution_count": 23
  },
  {
   "attachments": {
    "19b4479e-12e7-4949-9c5c-7d27904b8dc1.png": {
     "image/png": "[encoded data removed]"
    }
   },
   "cell_type": "markdown",
   "id": "0c232e52-f634-4c6c-ab9b-60c59c2d786f",
   "metadata": {},
   "source": "#### Calcoliamo il beta di TESLA"
  },
  {
   "cell_type": "code",
   "id": "06167bba-5588-436c-bbe9-3d86dfa4550a",
   "metadata": {
    "ExecuteTime": {
     "end_time": "2024-05-14T14:10:40.284065Z",
     "start_time": "2024-05-14T14:10:40.279063Z"
    }
   },
   "source": [
    "TSLA_excess_ret = data['Ret'] - data['RF']"
   ],
   "outputs": [],
   "execution_count": 24
  },
  {
   "cell_type": "code",
   "id": "5fcfec60-f05e-44e3-af3b-18f2c86d06bc",
   "metadata": {
    "ExecuteTime": {
     "end_time": "2024-05-14T14:10:40.291056Z",
     "start_time": "2024-05-14T14:10:40.285745Z"
    }
   },
   "source": [
    "data['TSLA-RF'] = TSLA_excess_ret"
   ],
   "outputs": [
    {
     "name": "stderr",
     "output_type": "stream",
     "text": [
      "/var/folders/1j/320f0y9s42dgwk8ls4nvjfhm0000gn/T/ipykernel_48403/4141911768.py:1: SettingWithCopyWarning: \n",
      "A value is trying to be set on a copy of a slice from a DataFrame.\n",
      "Try using .loc[row_indexer,col_indexer] = value instead\n",
      "\n",
      "See the caveats in the documentation: https://pandas.pydata.org/pandas-docs/stable/user_guide/indexing.html#returning-a-view-versus-a-copy\n",
      "  data['TSLA-RF'] = TSLA_excess_ret\n"
     ]
    }
   ],
   "execution_count": 25
  },
  {
   "cell_type": "code",
   "id": "afdb6397-1cf2-48a7-ad38-dc85fb9aaec1",
   "metadata": {
    "ExecuteTime": {
     "end_time": "2024-05-14T14:10:40.304983Z",
     "start_time": "2024-05-14T14:10:40.292697Z"
    }
   },
   "source": [
    "data.head()"
   ],
   "outputs": [
    {
     "data": {
      "text/plain": [
       "            Mkt-RF     SMB     HML      RF  Adj Close       Ret   TSLA-RF\n",
       "Date                                                                     \n",
       "2019-04-30  0.0397 -0.0174  0.0215  0.0021  15.912667 -0.147109 -0.149209\n",
       "2019-05-31 -0.0694 -0.0132 -0.0237  0.0021  12.344000 -0.224266 -0.226366\n",
       "2019-06-30  0.0693  0.0029 -0.0071  0.0018  14.897333  0.206848  0.205048\n",
       "2019-07-31  0.0119 -0.0193  0.0048  0.0019  16.107332  0.081223  0.079323\n",
       "2019-08-31 -0.0258 -0.0238 -0.0478  0.0016  15.040667 -0.066222 -0.067822"
      ],
      "text/html": [
       "<div>\n",
       "<style scoped>\n",
       "    .dataframe tbody tr th:only-of-type {\n",
       "        vertical-align: middle;\n",
       "    }\n",
       "\n",
       "    .dataframe tbody tr th {\n",
       "        vertical-align: top;\n",
       "    }\n",
       "\n",
       "    .dataframe thead th {\n",
       "        text-align: right;\n",
       "    }\n",
       "</style>\n",
       "<table border=\"1\" class=\"dataframe\">\n",
       "  <thead>\n",
       "    <tr style=\"text-align: right;\">\n",
       "      <th></th>\n",
       "      <th>Mkt-RF</th>\n",
       "      <th>SMB</th>\n",
       "      <th>HML</th>\n",
       "      <th>RF</th>\n",
       "      <th>Adj Close</th>\n",
       "      <th>Ret</th>\n",
       "      <th>TSLA-RF</th>\n",
       "    </tr>\n",
       "    <tr>\n",
       "      <th>Date</th>\n",
       "      <th></th>\n",
       "      <th></th>\n",
       "      <th></th>\n",
       "      <th></th>\n",
       "      <th></th>\n",
       "      <th></th>\n",
       "      <th></th>\n",
       "    </tr>\n",
       "  </thead>\n",
       "  <tbody>\n",
       "    <tr>\n",
       "      <th>2019-04-30</th>\n",
       "      <td>0.0397</td>\n",
       "      <td>-0.0174</td>\n",
       "      <td>0.0215</td>\n",
       "      <td>0.0021</td>\n",
       "      <td>15.912667</td>\n",
       "      <td>-0.147109</td>\n",
       "      <td>-0.149209</td>\n",
       "    </tr>\n",
       "    <tr>\n",
       "      <th>2019-05-31</th>\n",
       "      <td>-0.0694</td>\n",
       "      <td>-0.0132</td>\n",
       "      <td>-0.0237</td>\n",
       "      <td>0.0021</td>\n",
       "      <td>12.344000</td>\n",
       "      <td>-0.224266</td>\n",
       "      <td>-0.226366</td>\n",
       "    </tr>\n",
       "    <tr>\n",
       "      <th>2019-06-30</th>\n",
       "      <td>0.0693</td>\n",
       "      <td>0.0029</td>\n",
       "      <td>-0.0071</td>\n",
       "      <td>0.0018</td>\n",
       "      <td>14.897333</td>\n",
       "      <td>0.206848</td>\n",
       "      <td>0.205048</td>\n",
       "    </tr>\n",
       "    <tr>\n",
       "      <th>2019-07-31</th>\n",
       "      <td>0.0119</td>\n",
       "      <td>-0.0193</td>\n",
       "      <td>0.0048</td>\n",
       "      <td>0.0019</td>\n",
       "      <td>16.107332</td>\n",
       "      <td>0.081223</td>\n",
       "      <td>0.079323</td>\n",
       "    </tr>\n",
       "    <tr>\n",
       "      <th>2019-08-31</th>\n",
       "      <td>-0.0258</td>\n",
       "      <td>-0.0238</td>\n",
       "      <td>-0.0478</td>\n",
       "      <td>0.0016</td>\n",
       "      <td>15.040667</td>\n",
       "      <td>-0.066222</td>\n",
       "      <td>-0.067822</td>\n",
       "    </tr>\n",
       "  </tbody>\n",
       "</table>\n",
       "</div>"
      ]
     },
     "execution_count": 26,
     "metadata": {},
     "output_type": "execute_result"
    }
   ],
   "execution_count": 26
  },
  {
   "cell_type": "code",
   "id": "b4e23b4d-4dd6-4449-8b41-3c9ca221587d",
   "metadata": {
    "ExecuteTime": {
     "end_time": "2024-05-14T14:10:40.680300Z",
     "start_time": "2024-05-14T14:10:40.306763Z"
    }
   },
   "source": [
    "sns.regplot(x = 'Mkt-RF', y='TSLA-RF', data = data)\n",
    "plt.grid()"
   ],
   "outputs": [
    {
     "data": {
      "text/plain": [
       "<Figure size 640x480 with 1 Axes>"
      ],
      "image/png": "[encoded data removed]"
     },
     "metadata": {},
     "output_type": "display_data"
    }
   ],
   "execution_count": 27
  },
  {
   "cell_type": "code",
   "id": "c6d5402f-b965-4243-b30a-947a8afcdeab",
   "metadata": {
    "ExecuteTime": {
     "end_time": "2024-05-14T14:10:40.699212Z",
     "start_time": "2024-05-14T14:10:40.689738Z"
    }
   },
   "source": [
    "X = data['Mkt-RF']\n",
    "y = data['TSLA-RF']\n",
    "X1 = sm.add_constant(X)"
   ],
   "outputs": [],
   "execution_count": 28
  },
  {
   "cell_type": "code",
   "id": "3118e828-018f-4910-b406-5f84b67bdd3c",
   "metadata": {
    "ExecuteTime": {
     "end_time": "2024-05-14T14:10:40.739287Z",
     "start_time": "2024-05-14T14:10:40.714670Z"
    }
   },
   "source": [
    "model = sm.OLS(y,X1)\n",
    "results = model.fit()\n",
    "results.summary()"
   ],
   "outputs": [
    {
     "data": {
      "text/plain": [
       "<class 'statsmodels.iolib.summary.Summary'>\n",
       "\"\"\"\n",
       "                            OLS Regression Results                            \n",
       "==============================================================================\n",
       "Dep. Variable:                TSLA-RF   R-squared:                       0.364\n",
       "Model:                            OLS   Adj. R-squared:                  0.353\n",
       "Method:                 Least Squares   F-statistic:                     33.15\n",
       "Date:                Tue, 14 May 2024   Prob (F-statistic):           3.41e-07\n",
       "Time:                        16:10:40   Log-Likelihood:                 18.503\n",
       "No. Observations:                  60   AIC:                            -33.01\n",
       "Df Residuals:                      58   BIC:                            -28.82\n",
       "Df Model:                           1                                         \n",
       "Covariance Type:            nonrobust                                         \n",
       "==============================================================================\n",
       "                 coef    std err          t      P>|t|      [0.025      0.975]\n",
       "------------------------------------------------------------------------------\n",
       "const          0.0311      0.024      1.305      0.197      -0.017       0.079\n",
       "Mkt-RF         2.4645      0.428      5.758      0.000       1.608       3.321\n",
       "==============================================================================\n",
       "Omnibus:                        5.006   Durbin-Watson:                   1.434\n",
       "Prob(Omnibus):                  0.082   Jarque-Bera (JB):                4.076\n",
       "Skew:                           0.503   Prob(JB):                        0.130\n",
       "Kurtosis:                       3.787   Cond. No.                         18.3\n",
       "==============================================================================\n",
       "\n",
       "Notes:\n",
       "[1] Standard Errors assume that the covariance matrix of the errors is correctly specified.\n",
       "\"\"\""
      ],
      "text/html": [
       "<table class=\"simpletable\">\n",
       "<caption>OLS Regression Results</caption>\n",
       "<tr>\n",
       "  <th>Dep. Variable:</th>         <td>TSLA-RF</td>     <th>  R-squared:         </th> <td>   0.364</td>\n",
       "</tr>\n",
       "<tr>\n",
       "  <th>Model:</th>                   <td>OLS</td>       <th>  Adj. R-squared:    </th> <td>   0.353</td>\n",
       "</tr>\n",
       "<tr>\n",
       "  <th>Method:</th>             <td>Least Squares</td>  <th>  F-statistic:       </th> <td>   33.15</td>\n",
       "</tr>\n",
       "<tr>\n",
       "  <th>Date:</th>             <td>Tue, 14 May 2024</td> <th>  Prob (F-statistic):</th> <td>3.41e-07</td>\n",
       "</tr>\n",
       "<tr>\n",
       "  <th>Time:</th>                 <td>16:10:40</td>     <th>  Log-Likelihood:    </th> <td>  18.503</td>\n",
       "</tr>\n",
       "<tr>\n",
       "  <th>No. Observations:</th>      <td>    60</td>      <th>  AIC:               </th> <td>  -33.01</td>\n",
       "</tr>\n",
       "<tr>\n",
       "  <th>Df Residuals:</th>          <td>    58</td>      <th>  BIC:               </th> <td>  -28.82</td>\n",
       "</tr>\n",
       "<tr>\n",
       "  <th>Df Model:</th>              <td>     1</td>      <th>                     </th>     <td> </td>   \n",
       "</tr>\n",
       "<tr>\n",
       "  <th>Covariance Type:</th>      <td>nonrobust</td>    <th>                     </th>     <td> </td>   \n",
       "</tr>\n",
       "</table>\n",
       "<table class=\"simpletable\">\n",
       "<tr>\n",
       "     <td></td>       <th>coef</th>     <th>std err</th>      <th>t</th>      <th>P>|t|</th>  <th>[0.025</th>    <th>0.975]</th>  \n",
       "</tr>\n",
       "<tr>\n",
       "  <th>const</th>  <td>    0.0311</td> <td>    0.024</td> <td>    1.305</td> <td> 0.197</td> <td>   -0.017</td> <td>    0.079</td>\n",
       "</tr>\n",
       "<tr>\n",
       "  <th>Mkt-RF</th> <td>    2.4645</td> <td>    0.428</td> <td>    5.758</td> <td> 0.000</td> <td>    1.608</td> <td>    3.321</td>\n",
       "</tr>\n",
       "</table>\n",
       "<table class=\"simpletable\">\n",
       "<tr>\n",
       "  <th>Omnibus:</th>       <td> 5.006</td> <th>  Durbin-Watson:     </th> <td>   1.434</td>\n",
       "</tr>\n",
       "<tr>\n",
       "  <th>Prob(Omnibus):</th> <td> 0.082</td> <th>  Jarque-Bera (JB):  </th> <td>   4.076</td>\n",
       "</tr>\n",
       "<tr>\n",
       "  <th>Skew:</th>          <td> 0.503</td> <th>  Prob(JB):          </th> <td>   0.130</td>\n",
       "</tr>\n",
       "<tr>\n",
       "  <th>Kurtosis:</th>      <td> 3.787</td> <th>  Cond. No.          </th> <td>    18.3</td>\n",
       "</tr>\n",
       "</table><br/><br/>Notes:<br/>[1] Standard Errors assume that the covariance matrix of the errors is correctly specified."
      ],
      "text/latex": "\\begin{center}\n\\begin{tabular}{lclc}\n\\toprule\n\\textbf{Dep. Variable:}    &     TSLA-RF      & \\textbf{  R-squared:         } &     0.364   \\\\\n\\textbf{Model:}            &       OLS        & \\textbf{  Adj. R-squared:    } &     0.353   \\\\\n\\textbf{Method:}           &  Least Squares   & \\textbf{  F-statistic:       } &     33.15   \\\\\n\\textbf{Date:}             & Tue, 14 May 2024 & \\textbf{  Prob (F-statistic):} &  3.41e-07   \\\\\n\\textbf{Time:}             &     16:10:40     & \\textbf{  Log-Likelihood:    } &    18.503   \\\\\n\\textbf{No. Observations:} &          60      & \\textbf{  AIC:               } &    -33.01   \\\\\n\\textbf{Df Residuals:}     &          58      & \\textbf{  BIC:               } &    -28.82   \\\\\n\\textbf{Df Model:}         &           1      & \\textbf{                     } &             \\\\\n\\textbf{Covariance Type:}  &    nonrobust     & \\textbf{                     } &             \\\\\n\\bottomrule\n\\end{tabular}\n\\begin{tabular}{lcccccc}\n                & \\textbf{coef} & \\textbf{std err} & \\textbf{t} & \\textbf{P$> |$t$|$} & \\textbf{[0.025} & \\textbf{0.975]}  \\\\\n\\midrule\n\\textbf{const}  &       0.0311  &        0.024     &     1.305  &         0.197        &       -0.017    &        0.079     \\\\\n\\textbf{Mkt-RF} &       2.4645  &        0.428     &     5.758  &         0.000        &        1.608    &        3.321     \\\\\n\\bottomrule\n\\end{tabular}\n\\begin{tabular}{lclc}\n\\textbf{Omnibus:}       &  5.006 & \\textbf{  Durbin-Watson:     } &    1.434  \\\\\n\\textbf{Prob(Omnibus):} &  0.082 & \\textbf{  Jarque-Bera (JB):  } &    4.076  \\\\\n\\textbf{Skew:}          &  0.503 & \\textbf{  Prob(JB):          } &    0.130  \\\\\n\\textbf{Kurtosis:}      &  3.787 & \\textbf{  Cond. No.          } &     18.3  \\\\\n\\bottomrule\n\\end{tabular}\n%\\caption{OLS Regression Results}\n\\end{center}\n\nNotes: \\newline\n [1] Standard Errors assume that the covariance matrix of the errors is correctly specified."
     },
     "execution_count": 29,
     "metadata": {},
     "output_type": "execute_result"
    }
   ],
   "execution_count": 29
  },
  {
   "cell_type": "code",
   "id": "e223ad3d-966f-47fb-813d-78ea51008cc2",
   "metadata": {
    "ExecuteTime": {
     "end_time": "2024-05-14T14:10:40.744850Z",
     "start_time": "2024-05-14T14:10:40.741016Z"
    }
   },
   "source": [
    "intercept, beta = results.params"
   ],
   "outputs": [],
   "execution_count": 30
  },
  {
   "cell_type": "code",
   "id": "33691c97-23e9-438c-b62c-f2ebed9a2e6e",
   "metadata": {
    "ExecuteTime": {
     "end_time": "2024-05-14T14:10:40.753202Z",
     "start_time": "2024-05-14T14:10:40.748284Z"
    }
   },
   "source": [
    "intercept"
   ],
   "outputs": [
    {
     "data": {
      "text/plain": [
       "0.031098071568590943"
      ]
     },
     "execution_count": 31,
     "metadata": {},
     "output_type": "execute_result"
    }
   ],
   "execution_count": 31
  },
  {
   "cell_type": "code",
   "id": "34eb3744-df65-4708-a352-a1277a1a3b07",
   "metadata": {
    "ExecuteTime": {
     "end_time": "2024-05-14T14:10:40.760757Z",
     "start_time": "2024-05-14T14:10:40.755881Z"
    }
   },
   "source": [
    "beta"
   ],
   "outputs": [
    {
     "data": {
      "text/plain": [
       "2.4644657353738677"
      ]
     },
     "execution_count": 32,
     "metadata": {},
     "output_type": "execute_result"
    }
   ],
   "execution_count": 32
  },
  {
   "cell_type": "markdown",
   "id": "0b229301-ca4c-4a0e-9df3-40cb579242e4",
   "metadata": {},
   "source": [
    "#### Calcoliamo il rendimento atteso di TESLA"
   ]
  },
  {
   "attachments": {
    "89c41939-1c01-4c91-b0fe-93b70658c261.png": {
     "image/png": "[encoded data removed]"
    }
   },
   "cell_type": "markdown",
   "id": "71613d26-b061-4495-95c1-0909d508bbca",
   "metadata": {},
   "source": [
    "![image.png](attachment:89c41939-1c01-4c91-b0fe-93b70658c261.png)"
   ]
  },
  {
   "cell_type": "code",
   "id": "51ae4f5e-53e8-47c3-8c03-e354f07bb334",
   "metadata": {
    "ExecuteTime": {
     "end_time": "2024-05-14T14:10:40.767161Z",
     "start_time": "2024-05-14T14:10:40.763164Z"
    }
   },
   "source": [
    "# Per il risk free prendiamo il tasso a breve corrente non quello passato. 5% diviso 12 pari a 0,417%\n",
    "risk_free = 0.00417"
   ],
   "outputs": [],
   "execution_count": 33
  },
  {
   "cell_type": "code",
   "id": "89c49419-94d4-4071-97f4-0f3c2b0895df",
   "metadata": {
    "ExecuteTime": {
     "end_time": "2024-05-14T14:10:40.772929Z",
     "start_time": "2024-05-14T14:10:40.767810Z"
    }
   },
   "source": [
    "# Per il mercato possiamo prendere o la nostra stima o una media di lungo periodo. Ipotizziamo 7% diviso 12 pari a 0,5%\n",
    "market_premium = 0.0058"
   ],
   "outputs": [],
   "execution_count": 34
  },
  {
   "cell_type": "code",
   "id": "bddac0c5-68b8-46f5-93e1-9c53221cd7ae",
   "metadata": {
    "ExecuteTime": {
     "end_time": "2024-05-14T14:10:40.781270Z",
     "start_time": "2024-05-14T14:10:40.774485Z"
    }
   },
   "source": [
    "# Se prendiamo la media recente viene un numero altissimo\n",
    "data['Mkt-RF'].mean()*12"
   ],
   "outputs": [
    {
     "data": {
      "text/plain": [
       "0.13357999999999995"
      ]
     },
     "execution_count": 35,
     "metadata": {},
     "output_type": "execute_result"
    }
   ],
   "execution_count": 35
  },
  {
   "cell_type": "code",
   "id": "74d0ef78-eb15-4385-848f-e16e9b282435",
   "metadata": {
    "ExecuteTime": {
     "end_time": "2024-05-14T14:10:40.786403Z",
     "start_time": "2024-05-14T14:10:40.782593Z"
    }
   },
   "source": [
    "# Rendimento atteso di TESLA\n",
    "TESLA_exp_ret = risk_free + beta*market_premium\n",
    "TESLA_exp_ret\n"
   ],
   "outputs": [
    {
     "data": {
      "text/plain": [
       "0.018463901265168434"
      ]
     },
     "execution_count": 36,
     "metadata": {},
     "output_type": "execute_result"
    }
   ],
   "execution_count": 36
  },
  {
   "cell_type": "code",
   "id": "c5588706-8f2e-4f2c-a359-7cfe1bb03618",
   "metadata": {
    "ExecuteTime": {
     "end_time": "2024-05-14T14:10:40.792959Z",
     "start_time": "2024-05-14T14:10:40.788281Z"
    }
   },
   "source": [
    "TESLA_exp_ret_y = TESLA_exp_ret * 12\n",
    "TESLA_exp_ret_y"
   ],
   "outputs": [
    {
     "data": {
      "text/plain": [
       "0.2215668151820212"
      ]
     },
     "execution_count": 37,
     "metadata": {},
     "output_type": "execute_result"
    }
   ],
   "execution_count": 37
  },
  {
   "cell_type": "code",
   "id": "97a246f4-1283-441e-aadb-b02d8f5d1b4e",
   "metadata": {
    "ExecuteTime": {
     "end_time": "2024-05-14T14:10:40.797796Z",
     "start_time": "2024-05-14T14:10:40.795192Z"
    }
   },
   "source": [],
   "outputs": [],
   "execution_count": 37
  }
 ],
 "metadata": {
  "kernelspec": {
   "display_name": "Python 3 (ipykernel)",
   "language": "python",
   "name": "python3"
  },
  "language_info": {
   "codemirror_mode": {
    "name": "ipython",
    "version": 3
   },
   "file_extension": ".py",
   "mimetype": "text/x-python",
   "name": "python",
   "nbconvert_exporter": "python",
   "pygments_lexer": "ipython3",
   "version": "3.11.7"
  }
 },
 "nbformat": 4,
 "nbformat_minor": 5
}
