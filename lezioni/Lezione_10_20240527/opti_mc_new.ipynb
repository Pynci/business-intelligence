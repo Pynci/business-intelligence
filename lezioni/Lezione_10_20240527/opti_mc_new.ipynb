{
 "cells": [
  {
   "cell_type": "code",
   "execution_count": 1,
   "metadata": {},
   "outputs": [],
   "source": [
    "import pandas as pd\n",
    "import matplotlib.pyplot as plt\n",
    "from matplotlib import style\n",
    "import numpy as np\n",
    "style.use('ggplot')"
   ]
  },
  {
   "cell_type": "code",
   "execution_count": 49,
   "metadata": {},
   "outputs": [],
   "source": [
    "data = pd.read_excel('index_values_202312.xlsx', index_col = 0, parse_dates = True)"
   ]
  },
  {
   "cell_type": "code",
   "execution_count": 50,
   "metadata": {},
   "outputs": [],
   "source": [
    "returns = (data/data.shift(1)) - 1\n",
    "returns.dropna(inplace=True)"
   ]
  },
  {
   "cell_type": "code",
   "execution_count": 51,
   "metadata": {},
   "outputs": [
    {
     "data": {
      "text/html": [
       "<div>\n",
       "<style scoped>\n",
       "    .dataframe tbody tr th:only-of-type {\n",
       "        vertical-align: middle;\n",
       "    }\n",
       "\n",
       "    .dataframe tbody tr th {\n",
       "        vertical-align: top;\n",
       "    }\n",
       "\n",
       "    .dataframe thead th {\n",
       "        text-align: right;\n",
       "    }\n",
       "</style>\n",
       "<table border=\"1\" class=\"dataframe\">\n",
       "  <thead>\n",
       "    <tr style=\"text-align: right;\">\n",
       "      <th></th>\n",
       "      <th>JPCAEU3M</th>\n",
       "      <th>LEG1TREU</th>\n",
       "      <th>LEGATREH</th>\n",
       "      <th>LG30TREH</th>\n",
       "      <th>MXWOHEUR</th>\n",
       "      <th>NDDUWI</th>\n",
       "      <th>NCUDWI</th>\n",
       "      <th>NDUEEGF</th>\n",
       "    </tr>\n",
       "    <tr>\n",
       "      <th>Data</th>\n",
       "      <th></th>\n",
       "      <th></th>\n",
       "      <th></th>\n",
       "      <th></th>\n",
       "      <th></th>\n",
       "      <th></th>\n",
       "      <th></th>\n",
       "      <th></th>\n",
       "    </tr>\n",
       "  </thead>\n",
       "  <tbody>\n",
       "    <tr>\n",
       "      <th>1999-01-31</th>\n",
       "      <td>0.002894</td>\n",
       "      <td>0.009671</td>\n",
       "      <td>0.014568</td>\n",
       "      <td>0.007475</td>\n",
       "      <td>0.033060</td>\n",
       "      <td>0.060804</td>\n",
       "      <td>0.039463</td>\n",
       "      <td>0.027897</td>\n",
       "    </tr>\n",
       "    <tr>\n",
       "      <th>1999-02-28</th>\n",
       "      <td>0.002295</td>\n",
       "      <td>-0.001862</td>\n",
       "      <td>-0.014557</td>\n",
       "      <td>0.000902</td>\n",
       "      <td>-0.014425</td>\n",
       "      <td>0.003298</td>\n",
       "      <td>-0.014921</td>\n",
       "      <td>0.040799</td>\n",
       "    </tr>\n",
       "    <tr>\n",
       "      <th>1999-03-31</th>\n",
       "      <td>0.003112</td>\n",
       "      <td>0.006381</td>\n",
       "      <td>0.006532</td>\n",
       "      <td>0.026846</td>\n",
       "      <td>0.044016</td>\n",
       "      <td>0.061535</td>\n",
       "      <td>0.058550</td>\n",
       "      <td>0.153928</td>\n",
       "    </tr>\n",
       "    <tr>\n",
       "      <th>1999-04-30</th>\n",
       "      <td>0.003203</td>\n",
       "      <td>0.005820</td>\n",
       "      <td>0.006090</td>\n",
       "      <td>0.034631</td>\n",
       "      <td>0.043849</td>\n",
       "      <td>0.061479</td>\n",
       "      <td>0.100637</td>\n",
       "      <td>0.147651</td>\n",
       "    </tr>\n",
       "    <tr>\n",
       "      <th>1999-05-31</th>\n",
       "      <td>0.002236</td>\n",
       "      <td>0.002124</td>\n",
       "      <td>-0.007740</td>\n",
       "      <td>-0.025834</td>\n",
       "      <td>-0.030806</td>\n",
       "      <td>-0.024039</td>\n",
       "      <td>0.001808</td>\n",
       "      <td>0.007252</td>\n",
       "    </tr>\n",
       "  </tbody>\n",
       "</table>\n",
       "</div>"
      ],
      "text/plain": [
       "            JPCAEU3M  LEG1TREU  LEGATREH  LG30TREH  MXWOHEUR    NDDUWI  \\\n",
       "Data                                                                     \n",
       "1999-01-31  0.002894  0.009671  0.014568  0.007475  0.033060  0.060804   \n",
       "1999-02-28  0.002295 -0.001862 -0.014557  0.000902 -0.014425  0.003298   \n",
       "1999-03-31  0.003112  0.006381  0.006532  0.026846  0.044016  0.061535   \n",
       "1999-04-30  0.003203  0.005820  0.006090  0.034631  0.043849  0.061479   \n",
       "1999-05-31  0.002236  0.002124 -0.007740 -0.025834 -0.030806 -0.024039   \n",
       "\n",
       "              NCUDWI   NDUEEGF  \n",
       "Data                            \n",
       "1999-01-31  0.039463  0.027897  \n",
       "1999-02-28 -0.014921  0.040799  \n",
       "1999-03-31  0.058550  0.153928  \n",
       "1999-04-30  0.100637  0.147651  \n",
       "1999-05-31  0.001808  0.007252  "
      ]
     },
     "execution_count": 51,
     "metadata": {},
     "output_type": "execute_result"
    }
   ],
   "source": [
    "returns.head()"
   ]
  },
  {
   "cell_type": "code",
   "execution_count": 52,
   "metadata": {},
   "outputs": [],
   "source": [
    "number_of_portfolios = 40000\n",
    "\n",
    "rf = returns['JPCAEU3M'].mean() * 12\n",
    "returns.drop('JPCAEU3M', axis = 1, inplace = True)\n",
    "means = returns.mean() * 12"
   ]
  },
  {
   "cell_type": "code",
   "execution_count": 53,
   "metadata": {},
   "outputs": [
    {
     "data": {
      "text/plain": [
       "LEG1TREU    0.021341\n",
       "LEGATREH    0.030544\n",
       "LG30TREH    0.063099\n",
       "MXWOHEUR    0.060443\n",
       "NDDUWI      0.071795\n",
       "NCUDWI      0.101476\n",
       "NDUEEGF     0.094329\n",
       "dtype: float64"
      ]
     },
     "execution_count": 53,
     "metadata": {},
     "output_type": "execute_result"
    }
   ],
   "source": [
    "means"
   ]
  },
  {
   "cell_type": "code",
   "execution_count": 54,
   "metadata": {},
   "outputs": [
    {
     "data": {
      "text/plain": [
       "0.01738769127782572"
      ]
     },
     "execution_count": 54,
     "metadata": {},
     "output_type": "execute_result"
    }
   ],
   "source": [
    "rf"
   ]
  },
  {
   "cell_type": "code",
   "execution_count": 56,
   "metadata": {},
   "outputs": [
    {
     "data": {
      "text/plain": [
       "LEG1TREU    0.014218\n",
       "LEGATREH    0.033303\n",
       "LG30TREH    0.093539\n",
       "MXWOHEUR    0.144818\n",
       "NDDUWI      0.145481\n",
       "NCUDWI      0.170924\n",
       "NDUEEGF     0.193084\n",
       "dtype: float64"
      ]
     },
     "execution_count": 56,
     "metadata": {},
     "output_type": "execute_result"
    }
   ],
   "source": [
    "stdev = returns.std()*np.sqrt(12)\n",
    "stdev"
   ]
  },
  {
   "cell_type": "code",
   "execution_count": 57,
   "metadata": {},
   "outputs": [
    {
     "data": {
      "text/plain": [
       "7"
      ]
     },
     "execution_count": 57,
     "metadata": {},
     "output_type": "execute_result"
    }
   ],
   "source": [
    "len(returns.columns)"
   ]
  },
  {
   "cell_type": "code",
   "execution_count": 58,
   "metadata": {},
   "outputs": [
    {
     "data": {
      "text/html": [
       "<div>\n",
       "<style scoped>\n",
       "    .dataframe tbody tr th:only-of-type {\n",
       "        vertical-align: middle;\n",
       "    }\n",
       "\n",
       "    .dataframe tbody tr th {\n",
       "        vertical-align: top;\n",
       "    }\n",
       "\n",
       "    .dataframe thead th {\n",
       "        text-align: right;\n",
       "    }\n",
       "</style>\n",
       "<table border=\"1\" class=\"dataframe\">\n",
       "  <thead>\n",
       "    <tr style=\"text-align: right;\">\n",
       "      <th></th>\n",
       "      <th>LEG1TREU</th>\n",
       "      <th>LEGATREH</th>\n",
       "      <th>LG30TREH</th>\n",
       "      <th>MXWOHEUR</th>\n",
       "      <th>NDDUWI</th>\n",
       "      <th>NCUDWI</th>\n",
       "      <th>NDUEEGF</th>\n",
       "    </tr>\n",
       "    <tr>\n",
       "      <th>Data</th>\n",
       "      <th></th>\n",
       "      <th></th>\n",
       "      <th></th>\n",
       "      <th></th>\n",
       "      <th></th>\n",
       "      <th></th>\n",
       "      <th></th>\n",
       "    </tr>\n",
       "  </thead>\n",
       "  <tbody>\n",
       "    <tr>\n",
       "      <th>2023-08-31</th>\n",
       "      <td>0.003695</td>\n",
       "      <td>-0.002981</td>\n",
       "      <td>-0.003497</td>\n",
       "      <td>-0.018723</td>\n",
       "      <td>-0.008756</td>\n",
       "      <td>-0.023204</td>\n",
       "      <td>-0.047056</td>\n",
       "    </tr>\n",
       "    <tr>\n",
       "      <th>2023-09-30</th>\n",
       "      <td>-0.002450</td>\n",
       "      <td>-0.019140</td>\n",
       "      <td>-0.012404</td>\n",
       "      <td>-0.038738</td>\n",
       "      <td>-0.019529</td>\n",
       "      <td>-0.029093</td>\n",
       "      <td>-0.002123</td>\n",
       "    </tr>\n",
       "    <tr>\n",
       "      <th>2023-10-31</th>\n",
       "      <td>0.005422</td>\n",
       "      <td>-0.008357</td>\n",
       "      <td>-0.010109</td>\n",
       "      <td>-0.026898</td>\n",
       "      <td>-0.028740</td>\n",
       "      <td>-0.061091</td>\n",
       "      <td>-0.038581</td>\n",
       "    </tr>\n",
       "    <tr>\n",
       "      <th>2023-11-30</th>\n",
       "      <td>0.007274</td>\n",
       "      <td>0.032175</td>\n",
       "      <td>0.044699</td>\n",
       "      <td>0.080261</td>\n",
       "      <td>0.062115</td>\n",
       "      <td>0.061481</td>\n",
       "      <td>0.048789</td>\n",
       "    </tr>\n",
       "    <tr>\n",
       "      <th>2023-12-31</th>\n",
       "      <td>0.010967</td>\n",
       "      <td>0.030226</td>\n",
       "      <td>0.036364</td>\n",
       "      <td>0.040441</td>\n",
       "      <td>0.032595</td>\n",
       "      <td>0.078959</td>\n",
       "      <td>0.022752</td>\n",
       "    </tr>\n",
       "  </tbody>\n",
       "</table>\n",
       "</div>"
      ],
      "text/plain": [
       "            LEG1TREU  LEGATREH  LG30TREH  MXWOHEUR    NDDUWI    NCUDWI  \\\n",
       "Data                                                                     \n",
       "2023-08-31  0.003695 -0.002981 -0.003497 -0.018723 -0.008756 -0.023204   \n",
       "2023-09-30 -0.002450 -0.019140 -0.012404 -0.038738 -0.019529 -0.029093   \n",
       "2023-10-31  0.005422 -0.008357 -0.010109 -0.026898 -0.028740 -0.061091   \n",
       "2023-11-30  0.007274  0.032175  0.044699  0.080261  0.062115  0.061481   \n",
       "2023-12-31  0.010967  0.030226  0.036364  0.040441  0.032595  0.078959   \n",
       "\n",
       "             NDUEEGF  \n",
       "Data                  \n",
       "2023-08-31 -0.047056  \n",
       "2023-09-30 -0.002123  \n",
       "2023-10-31 -0.038581  \n",
       "2023-11-30  0.048789  \n",
       "2023-12-31  0.022752  "
      ]
     },
     "execution_count": 58,
     "metadata": {},
     "output_type": "execute_result"
    }
   ],
   "source": [
    "returns.tail()"
   ]
  },
  {
   "cell_type": "code",
   "execution_count": 59,
   "metadata": {},
   "outputs": [
    {
     "data": {
      "text/plain": [
       "LEG1TREU    0.021341\n",
       "LEGATREH    0.030544\n",
       "LG30TREH    0.063099\n",
       "MXWOHEUR    0.060443\n",
       "NDDUWI      0.071795\n",
       "NCUDWI      0.101476\n",
       "NDUEEGF     0.094329\n",
       "dtype: float64"
      ]
     },
     "execution_count": 59,
     "metadata": {},
     "output_type": "execute_result"
    }
   ],
   "source": [
    "means"
   ]
  },
  {
   "cell_type": "code",
   "execution_count": 60,
   "metadata": {},
   "outputs": [],
   "source": [
    "mat_cov = returns.cov()* 12"
   ]
  },
  {
   "cell_type": "code",
   "execution_count": 61,
   "metadata": {},
   "outputs": [
    {
     "name": "stdout",
     "output_type": "stream",
     "text": [
      "          LEG1TREU  LEGATREH  LG30TREH  MXWOHEUR    NDDUWI    NCUDWI   NDUEEGF\n",
      "LEG1TREU  0.000202  0.000310  0.000059 -0.000293 -0.000345 -0.000353 -0.000358\n",
      "LEGATREH  0.000310  0.001109  0.000930  0.000384  0.000023  0.000124  0.000160\n",
      "LG30TREH  0.000059  0.000930  0.008750  0.009652  0.007827  0.010243  0.011760\n",
      "MXWOHEUR -0.000293  0.000384  0.009652  0.020972  0.018809  0.020347  0.020505\n",
      "NDDUWI   -0.000345  0.000023  0.007827  0.018809  0.021165  0.022368  0.021480\n",
      "NCUDWI   -0.000353  0.000124  0.010243  0.020347  0.022368  0.029215  0.025558\n",
      "NDUEEGF  -0.000358  0.000160  0.011760  0.020505  0.021480  0.025558  0.037281\n"
     ]
    }
   ],
   "source": [
    "print(mat_cov)"
   ]
  },
  {
   "cell_type": "markdown",
   "metadata": {},
   "source": [
    "## Ottimizzazione con rendimenti storici"
   ]
  },
  {
   "cell_type": "code",
   "execution_count": 62,
   "metadata": {},
   "outputs": [],
   "source": [
    "portfolio_returns = []\n",
    "portfolio_risks = []\n",
    "sharpe_ratios = []\n",
    "portfolio_weights = []\n",
    "\n",
    "for portfolio in range(number_of_portfolios):\n",
    "    weights = np.random.random_sample(len(returns.columns))\n",
    "    weights = np.round((weights / np.sum(weights)), 3)\n",
    "    portfolio_weights.append(weights)\n",
    "    annualized_return = np.sum(means * weights)\n",
    "    portfolio_returns.append(annualized_return)\n",
    "    portfolio_variance = np.dot(weights.T, np.dot(mat_cov, weights))\n",
    "    portfolio_standard_deviation = np.sqrt(portfolio_variance)\n",
    "    portfolio_risks.append(portfolio_standard_deviation)\n",
    "    sharpe_ratio = (annualized_return - rf) / portfolio_standard_deviation\n",
    "    sharpe_ratios.append(sharpe_ratio)"
   ]
  },
  {
   "cell_type": "code",
   "execution_count": 63,
   "metadata": {},
   "outputs": [],
   "source": [
    "#portfoglio metrics\n",
    "\n",
    "portfolio_metrics = [portfolio_returns, portfolio_risks, sharpe_ratios, portfolio_weights]\n",
    "portfolios_df = pd.DataFrame(portfolio_metrics).T\n",
    "portfolios_df.columns = ['Return', 'Risk', 'Sharpe', 'Weights']\n",
    "\n",
    "min_risk = portfolios_df.iloc[portfolios_df['Risk'].astype(float).idxmin()]\n",
    "highest_return = portfolios_df.iloc[portfolios_df['Return'].astype(float).idxmax()]\n",
    "highest_sharpe = portfolios_df.iloc[portfolios_df['Sharpe'].astype(float).idxmax()]\n"
   ]
  },
  {
   "cell_type": "code",
   "execution_count": 64,
   "metadata": {},
   "outputs": [
    {
     "data": {
      "text/html": [
       "<div>\n",
       "<style scoped>\n",
       "    .dataframe tbody tr th:only-of-type {\n",
       "        vertical-align: middle;\n",
       "    }\n",
       "\n",
       "    .dataframe tbody tr th {\n",
       "        vertical-align: top;\n",
       "    }\n",
       "\n",
       "    .dataframe thead th {\n",
       "        text-align: right;\n",
       "    }\n",
       "</style>\n",
       "<table border=\"1\" class=\"dataframe\">\n",
       "  <thead>\n",
       "    <tr style=\"text-align: right;\">\n",
       "      <th></th>\n",
       "      <th>Return</th>\n",
       "      <th>Risk</th>\n",
       "      <th>Sharpe</th>\n",
       "      <th>Weights</th>\n",
       "    </tr>\n",
       "  </thead>\n",
       "  <tbody>\n",
       "    <tr>\n",
       "      <th>0</th>\n",
       "      <td>0.06535</td>\n",
       "      <td>0.087557</td>\n",
       "      <td>0.54779</td>\n",
       "      <td>[0.147, 0.124, 0.346, 0.009, 0.06, 0.297, 0.017]</td>\n",
       "    </tr>\n",
       "    <tr>\n",
       "      <th>1</th>\n",
       "      <td>0.060789</td>\n",
       "      <td>0.090436</td>\n",
       "      <td>0.479909</td>\n",
       "      <td>[0.233, 0.045, 0.226, 0.058, 0.232, 0.069, 0.138]</td>\n",
       "    </tr>\n",
       "    <tr>\n",
       "      <th>2</th>\n",
       "      <td>0.061591</td>\n",
       "      <td>0.090693</td>\n",
       "      <td>0.487391</td>\n",
       "      <td>[0.107, 0.21, 0.158, 0.189, 0.066, 0.194, 0.075]</td>\n",
       "    </tr>\n",
       "    <tr>\n",
       "      <th>3</th>\n",
       "      <td>0.069558</td>\n",
       "      <td>0.109576</td>\n",
       "      <td>0.476114</td>\n",
       "      <td>[0.232, 0.065, 0.059, 0.081, 0.029, 0.23, 0.303]</td>\n",
       "    </tr>\n",
       "    <tr>\n",
       "      <th>4</th>\n",
       "      <td>0.060192</td>\n",
       "      <td>0.08558</td>\n",
       "      <td>0.500163</td>\n",
       "      <td>[0.14, 0.267, 0.148, 0.017, 0.095, 0.063, 0.27]</td>\n",
       "    </tr>\n",
       "    <tr>\n",
       "      <th>...</th>\n",
       "      <td>...</td>\n",
       "      <td>...</td>\n",
       "      <td>...</td>\n",
       "      <td>...</td>\n",
       "    </tr>\n",
       "    <tr>\n",
       "      <th>39995</th>\n",
       "      <td>0.058757</td>\n",
       "      <td>0.081214</td>\n",
       "      <td>0.509389</td>\n",
       "      <td>[0.122, 0.237, 0.204, 0.029, 0.209, 0.085, 0.113]</td>\n",
       "    </tr>\n",
       "    <tr>\n",
       "      <th>39996</th>\n",
       "      <td>0.064247</td>\n",
       "      <td>0.098988</td>\n",
       "      <td>0.473391</td>\n",
       "      <td>[0.039, 0.272, 0.08, 0.175, 0.109, 0.153, 0.171]</td>\n",
       "    </tr>\n",
       "    <tr>\n",
       "      <th>39997</th>\n",
       "      <td>0.065454</td>\n",
       "      <td>0.096869</td>\n",
       "      <td>0.496197</td>\n",
       "      <td>[0.201, 0.021, 0.289, 0.125, 0.043, 0.191, 0.13]</td>\n",
       "    </tr>\n",
       "    <tr>\n",
       "      <th>39998</th>\n",
       "      <td>0.063469</td>\n",
       "      <td>0.092617</td>\n",
       "      <td>0.497545</td>\n",
       "      <td>[0.162, 0.121, 0.257, 0.006, 0.158, 0.066, 0.23]</td>\n",
       "    </tr>\n",
       "    <tr>\n",
       "      <th>39999</th>\n",
       "      <td>0.06406</td>\n",
       "      <td>0.093434</td>\n",
       "      <td>0.499517</td>\n",
       "      <td>[0.129, 0.197, 0.153, 0.054, 0.126, 0.149, 0.193]</td>\n",
       "    </tr>\n",
       "  </tbody>\n",
       "</table>\n",
       "<p>40000 rows × 4 columns</p>\n",
       "</div>"
      ],
      "text/plain": [
       "         Return      Risk    Sharpe  \\\n",
       "0       0.06535  0.087557   0.54779   \n",
       "1      0.060789  0.090436  0.479909   \n",
       "2      0.061591  0.090693  0.487391   \n",
       "3      0.069558  0.109576  0.476114   \n",
       "4      0.060192   0.08558  0.500163   \n",
       "...         ...       ...       ...   \n",
       "39995  0.058757  0.081214  0.509389   \n",
       "39996  0.064247  0.098988  0.473391   \n",
       "39997  0.065454  0.096869  0.496197   \n",
       "39998  0.063469  0.092617  0.497545   \n",
       "39999   0.06406  0.093434  0.499517   \n",
       "\n",
       "                                                 Weights  \n",
       "0       [0.147, 0.124, 0.346, 0.009, 0.06, 0.297, 0.017]  \n",
       "1      [0.233, 0.045, 0.226, 0.058, 0.232, 0.069, 0.138]  \n",
       "2       [0.107, 0.21, 0.158, 0.189, 0.066, 0.194, 0.075]  \n",
       "3       [0.232, 0.065, 0.059, 0.081, 0.029, 0.23, 0.303]  \n",
       "4        [0.14, 0.267, 0.148, 0.017, 0.095, 0.063, 0.27]  \n",
       "...                                                  ...  \n",
       "39995  [0.122, 0.237, 0.204, 0.029, 0.209, 0.085, 0.113]  \n",
       "39996   [0.039, 0.272, 0.08, 0.175, 0.109, 0.153, 0.171]  \n",
       "39997   [0.201, 0.021, 0.289, 0.125, 0.043, 0.191, 0.13]  \n",
       "39998   [0.162, 0.121, 0.257, 0.006, 0.158, 0.066, 0.23]  \n",
       "39999  [0.129, 0.197, 0.153, 0.054, 0.126, 0.149, 0.193]  \n",
       "\n",
       "[40000 rows x 4 columns]"
      ]
     },
     "execution_count": 64,
     "metadata": {},
     "output_type": "execute_result"
    }
   ],
   "source": [
    "portfolios_df"
   ]
  },
  {
   "cell_type": "markdown",
   "metadata": {},
   "source": [
    "#### Portafogli con ritorno maggiore dato un certo range di rischio"
   ]
  },
  {
   "cell_type": "code",
   "execution_count": 65,
   "metadata": {},
   "outputs": [
    {
     "name": "stdin",
     "output_type": "stream",
     "text": [
      "Minima tolleranza al rischio:  0.06\n",
      "Massima tolleranza al rischio:  0.065\n"
     ]
    }
   ],
   "source": [
    "minr = float(input(\"Minima tolleranza al rischio: \"))\n",
    "\n",
    "maxr = float(input(\"Massima tolleranza al rischio: \"))"
   ]
  },
  {
   "cell_type": "code",
   "execution_count": 66,
   "metadata": {},
   "outputs": [],
   "source": [
    "risk_df = portfolios_df.copy()\n",
    "risk_df = risk_df.drop(risk_df[(risk_df.Risk < minr) | (risk_df.Risk > maxr)].index)"
   ]
  },
  {
   "cell_type": "code",
   "execution_count": 67,
   "metadata": {},
   "outputs": [],
   "source": [
    "rtn_risk_df = risk_df.sort_values(by = 'Return', ascending=False)"
   ]
  },
  {
   "cell_type": "code",
   "execution_count": 68,
   "metadata": {},
   "outputs": [
    {
     "data": {
      "text/html": [
       "<div>\n",
       "<style scoped>\n",
       "    .dataframe tbody tr th:only-of-type {\n",
       "        vertical-align: middle;\n",
       "    }\n",
       "\n",
       "    .dataframe tbody tr th {\n",
       "        vertical-align: top;\n",
       "    }\n",
       "\n",
       "    .dataframe thead th {\n",
       "        text-align: right;\n",
       "    }\n",
       "</style>\n",
       "<table border=\"1\" class=\"dataframe\">\n",
       "  <thead>\n",
       "    <tr style=\"text-align: right;\">\n",
       "      <th></th>\n",
       "      <th>Return</th>\n",
       "      <th>Risk</th>\n",
       "      <th>Sharpe</th>\n",
       "      <th>Weights</th>\n",
       "    </tr>\n",
       "  </thead>\n",
       "  <tbody>\n",
       "    <tr>\n",
       "      <th>34370</th>\n",
       "      <td>0.05533</td>\n",
       "      <td>0.06472</td>\n",
       "      <td>0.586252</td>\n",
       "      <td>[0.002, 0.454, 0.322, 0.022, 0.014, 0.171, 0.015]</td>\n",
       "    </tr>\n",
       "    <tr>\n",
       "      <th>3319</th>\n",
       "      <td>0.054724</td>\n",
       "      <td>0.064601</td>\n",
       "      <td>0.577961</td>\n",
       "      <td>[0.246, 0.321, 0.097, 0.005, 0.0, 0.27, 0.062]</td>\n",
       "    </tr>\n",
       "    <tr>\n",
       "      <th>34566</th>\n",
       "      <td>0.054569</td>\n",
       "      <td>0.064988</td>\n",
       "      <td>0.572117</td>\n",
       "      <td>[0.235, 0.287, 0.157, 0.005, 0.034, 0.215, 0.067]</td>\n",
       "    </tr>\n",
       "    <tr>\n",
       "      <th>26996</th>\n",
       "      <td>0.054536</td>\n",
       "      <td>0.064527</td>\n",
       "      <td>0.575706</td>\n",
       "      <td>[0.032, 0.526, 0.104, 0.01, 0.069, 0.186, 0.072]</td>\n",
       "    </tr>\n",
       "    <tr>\n",
       "      <th>4577</th>\n",
       "      <td>0.054501</td>\n",
       "      <td>0.064481</td>\n",
       "      <td>0.575571</td>\n",
       "      <td>[0.219, 0.254, 0.257, 0.029, 0.012, 0.229, 0.0]</td>\n",
       "    </tr>\n",
       "    <tr>\n",
       "      <th>33695</th>\n",
       "      <td>0.054031</td>\n",
       "      <td>0.06453</td>\n",
       "      <td>0.567848</td>\n",
       "      <td>[0.212, 0.325, 0.143, 0.014, 0.016, 0.182, 0.107]</td>\n",
       "    </tr>\n",
       "    <tr>\n",
       "      <th>24312</th>\n",
       "      <td>0.053491</td>\n",
       "      <td>0.063912</td>\n",
       "      <td>0.564889</td>\n",
       "      <td>[0.158, 0.324, 0.279, 0.003, 0.024, 0.087, 0.126]</td>\n",
       "    </tr>\n",
       "    <tr>\n",
       "      <th>17376</th>\n",
       "      <td>0.053322</td>\n",
       "      <td>0.063513</td>\n",
       "      <td>0.565781</td>\n",
       "      <td>[0.199, 0.269, 0.262, 0.003, 0.081, 0.123, 0.062]</td>\n",
       "    </tr>\n",
       "    <tr>\n",
       "      <th>8992</th>\n",
       "      <td>0.053248</td>\n",
       "      <td>0.064778</td>\n",
       "      <td>0.553587</td>\n",
       "      <td>[0.281, 0.237, 0.187, 0.011, 0.006, 0.125, 0.153]</td>\n",
       "    </tr>\n",
       "    <tr>\n",
       "      <th>27828</th>\n",
       "      <td>0.053216</td>\n",
       "      <td>0.064963</td>\n",
       "      <td>0.551516</td>\n",
       "      <td>[0.262, 0.162, 0.301, 0.001, 0.13, 0.112, 0.031]</td>\n",
       "    </tr>\n",
       "  </tbody>\n",
       "</table>\n",
       "</div>"
      ],
      "text/plain": [
       "         Return      Risk    Sharpe  \\\n",
       "34370   0.05533   0.06472  0.586252   \n",
       "3319   0.054724  0.064601  0.577961   \n",
       "34566  0.054569  0.064988  0.572117   \n",
       "26996  0.054536  0.064527  0.575706   \n",
       "4577   0.054501  0.064481  0.575571   \n",
       "33695  0.054031   0.06453  0.567848   \n",
       "24312  0.053491  0.063912  0.564889   \n",
       "17376  0.053322  0.063513  0.565781   \n",
       "8992   0.053248  0.064778  0.553587   \n",
       "27828  0.053216  0.064963  0.551516   \n",
       "\n",
       "                                                 Weights  \n",
       "34370  [0.002, 0.454, 0.322, 0.022, 0.014, 0.171, 0.015]  \n",
       "3319      [0.246, 0.321, 0.097, 0.005, 0.0, 0.27, 0.062]  \n",
       "34566  [0.235, 0.287, 0.157, 0.005, 0.034, 0.215, 0.067]  \n",
       "26996   [0.032, 0.526, 0.104, 0.01, 0.069, 0.186, 0.072]  \n",
       "4577     [0.219, 0.254, 0.257, 0.029, 0.012, 0.229, 0.0]  \n",
       "33695  [0.212, 0.325, 0.143, 0.014, 0.016, 0.182, 0.107]  \n",
       "24312  [0.158, 0.324, 0.279, 0.003, 0.024, 0.087, 0.126]  \n",
       "17376  [0.199, 0.269, 0.262, 0.003, 0.081, 0.123, 0.062]  \n",
       "8992   [0.281, 0.237, 0.187, 0.011, 0.006, 0.125, 0.153]  \n",
       "27828   [0.262, 0.162, 0.301, 0.001, 0.13, 0.112, 0.031]  "
      ]
     },
     "execution_count": 68,
     "metadata": {},
     "output_type": "execute_result"
    }
   ],
   "source": [
    "rtn_risk_df = rtn_risk_df.head(10)\n",
    "rtn_risk_df"
   ]
  },
  {
   "cell_type": "code",
   "execution_count": 69,
   "metadata": {},
   "outputs": [],
   "source": [
    "rtn_risk_df[['LEG1TREU','LEGATREH', 'LG30TREH', 'MXWOHEUR','NDDUWI', 'NCUDWI', 'NDUEEGF']] = pd.DataFrame(rtn_risk_df.Weights.tolist(), index= rtn_risk_df.index)\n",
    "rtn_risk_df.drop(['Weights'], axis=1, inplace=True)"
   ]
  },
  {
   "cell_type": "code",
   "execution_count": 70,
   "metadata": {},
   "outputs": [],
   "source": [
    "rtn_risk_df.to_excel('tolerance_risk_returns.xlsx', sheet_name='Best Returns', index=False, startrow=0)"
   ]
  },
  {
   "cell_type": "code",
   "execution_count": 71,
   "metadata": {},
   "outputs": [],
   "source": [
    "sharpe_risk_df = risk_df.sort_values(by = 'Sharpe', ascending=False)"
   ]
  },
  {
   "cell_type": "code",
   "execution_count": 23,
   "metadata": {},
   "outputs": [
    {
     "data": {
      "text/html": [
       "<div>\n",
       "<style scoped>\n",
       "    .dataframe tbody tr th:only-of-type {\n",
       "        vertical-align: middle;\n",
       "    }\n",
       "\n",
       "    .dataframe tbody tr th {\n",
       "        vertical-align: top;\n",
       "    }\n",
       "\n",
       "    .dataframe thead th {\n",
       "        text-align: right;\n",
       "    }\n",
       "</style>\n",
       "<table border=\"1\" class=\"dataframe\">\n",
       "  <thead>\n",
       "    <tr style=\"text-align: right;\">\n",
       "      <th></th>\n",
       "      <th>Return</th>\n",
       "      <th>Risk</th>\n",
       "      <th>Sharpe</th>\n",
       "      <th>Weights</th>\n",
       "    </tr>\n",
       "  </thead>\n",
       "  <tbody>\n",
       "    <tr>\n",
       "      <th>36711</th>\n",
       "      <td>0.039533</td>\n",
       "      <td>0.062747</td>\n",
       "      <td>0.561882</td>\n",
       "      <td>[0.52, 0.133, 0.012, 0.128, 0.14, 0.042, 0.026]</td>\n",
       "    </tr>\n",
       "    <tr>\n",
       "      <th>13935</th>\n",
       "      <td>0.03763</td>\n",
       "      <td>0.064642</td>\n",
       "      <td>0.515967</td>\n",
       "      <td>[0.43, 0.212, 0.04, 0.084, 0.132, 0.071, 0.032]</td>\n",
       "    </tr>\n",
       "    <tr>\n",
       "      <th>35256</th>\n",
       "      <td>0.03536</td>\n",
       "      <td>0.062905</td>\n",
       "      <td>0.494134</td>\n",
       "      <td>[0.511, 0.044, 0.199, 0.074, 0.139, 0.026, 0.007]</td>\n",
       "    </tr>\n",
       "    <tr>\n",
       "      <th>14082</th>\n",
       "      <td>0.035863</td>\n",
       "      <td>0.064852</td>\n",
       "      <td>0.487056</td>\n",
       "      <td>[0.416, 0.21, 0.001, 0.031, 0.158, 0.032, 0.153]</td>\n",
       "    </tr>\n",
       "    <tr>\n",
       "      <th>38676</th>\n",
       "      <td>0.032694</td>\n",
       "      <td>0.060742</td>\n",
       "      <td>0.467831</td>\n",
       "      <td>[0.337, 0.345, 0.029, 0.019, 0.17, 0.045, 0.055]</td>\n",
       "    </tr>\n",
       "    <tr>\n",
       "      <th>3285</th>\n",
       "      <td>0.032804</td>\n",
       "      <td>0.062244</td>\n",
       "      <td>0.458308</td>\n",
       "      <td>[0.292, 0.37, 0.043, 0.029, 0.174, 0.02, 0.071]</td>\n",
       "    </tr>\n",
       "    <tr>\n",
       "      <th>35705</th>\n",
       "      <td>0.031692</td>\n",
       "      <td>0.06051</td>\n",
       "      <td>0.453074</td>\n",
       "      <td>[0.341, 0.363, 0.014, 0.033, 0.135, 0.075, 0.039]</td>\n",
       "    </tr>\n",
       "    <tr>\n",
       "      <th>19635</th>\n",
       "      <td>0.032994</td>\n",
       "      <td>0.064896</td>\n",
       "      <td>0.442518</td>\n",
       "      <td>[0.448, 0.118, 0.132, 0.135, 0.067, 0.003, 0.097]</td>\n",
       "    </tr>\n",
       "    <tr>\n",
       "      <th>26151</th>\n",
       "      <td>0.032535</td>\n",
       "      <td>0.064782</td>\n",
       "      <td>0.436207</td>\n",
       "      <td>[0.338, 0.188, 0.269, 0.002, 0.184, 0.002, 0.017]</td>\n",
       "    </tr>\n",
       "    <tr>\n",
       "      <th>13698</th>\n",
       "      <td>0.032173</td>\n",
       "      <td>0.064078</td>\n",
       "      <td>0.435346</td>\n",
       "      <td>[0.441, 0.118, 0.162, 0.055, 0.105, 0.029, 0.09]</td>\n",
       "    </tr>\n",
       "  </tbody>\n",
       "</table>\n",
       "</div>"
      ],
      "text/plain": [
       "         Return      Risk    Sharpe  \\\n",
       "36711  0.039533  0.062747  0.561882   \n",
       "13935   0.03763  0.064642  0.515967   \n",
       "35256   0.03536  0.062905  0.494134   \n",
       "14082  0.035863  0.064852  0.487056   \n",
       "38676  0.032694  0.060742  0.467831   \n",
       "3285   0.032804  0.062244  0.458308   \n",
       "35705  0.031692   0.06051  0.453074   \n",
       "19635  0.032994  0.064896  0.442518   \n",
       "26151  0.032535  0.064782  0.436207   \n",
       "13698  0.032173  0.064078  0.435346   \n",
       "\n",
       "                                                 Weights  \n",
       "36711    [0.52, 0.133, 0.012, 0.128, 0.14, 0.042, 0.026]  \n",
       "13935    [0.43, 0.212, 0.04, 0.084, 0.132, 0.071, 0.032]  \n",
       "35256  [0.511, 0.044, 0.199, 0.074, 0.139, 0.026, 0.007]  \n",
       "14082   [0.416, 0.21, 0.001, 0.031, 0.158, 0.032, 0.153]  \n",
       "38676   [0.337, 0.345, 0.029, 0.019, 0.17, 0.045, 0.055]  \n",
       "3285     [0.292, 0.37, 0.043, 0.029, 0.174, 0.02, 0.071]  \n",
       "35705  [0.341, 0.363, 0.014, 0.033, 0.135, 0.075, 0.039]  \n",
       "19635  [0.448, 0.118, 0.132, 0.135, 0.067, 0.003, 0.097]  \n",
       "26151  [0.338, 0.188, 0.269, 0.002, 0.184, 0.002, 0.017]  \n",
       "13698   [0.441, 0.118, 0.162, 0.055, 0.105, 0.029, 0.09]  "
      ]
     },
     "execution_count": 23,
     "metadata": {},
     "output_type": "execute_result"
    }
   ],
   "source": [
    "sharpe_risk_df = sharpe_risk_df.head(10)\n",
    "sharpe_risk_df"
   ]
  },
  {
   "cell_type": "code",
   "execution_count": 24,
   "metadata": {},
   "outputs": [],
   "source": [
    "sharpe_risk_df[['LEG1TREU','LEGATREH', 'LG30TREH','MXWOHEUR','NDDUWI', 'NCUDWI', 'NDUEEGF']] = pd.DataFrame(sharpe_risk_df.Weights.tolist(), index= sharpe_risk_df.index)\n",
    "sharpe_risk_df.drop(['Weights'], axis=1, inplace=True)"
   ]
  },
  {
   "cell_type": "code",
   "execution_count": 26,
   "metadata": {},
   "outputs": [],
   "source": [
    "sharpe_risk_df.to_excel('tolerance_risk_sharpe.xlsx', sheet_name='Best Sharpes', index=False, startrow=0)"
   ]
  },
  {
   "cell_type": "code",
   "execution_count": 27,
   "metadata": {},
   "outputs": [
    {
     "name": "stdout",
     "output_type": "stream",
     "text": [
      "Lowest risk\n",
      "Return                                              0.007784\n",
      "Risk                                                0.036917\n",
      "Sharpe                                              0.094999\n",
      "Weights    [0.554, 0.278, 0.093, 0.039, 0.004, 0.023, 0.008]\n",
      "Name: 18990, dtype: object\n",
      "['LEG1TREU', 'LEGATREH', 'LG30TREH', 'MXWOHEUR', 'NDDUWI', 'NCUDWI', 'NDUEEGF']\n",
      "\n",
      "Highest return\n",
      "Return                                             0.11695\n",
      "Risk                                              0.150505\n",
      "Sharpe                                            0.748633\n",
      "Weights    [0.016, 0.029, 0.05, 0.413, 0.437, 0.016, 0.04]\n",
      "Name: 8015, dtype: object\n",
      "['LEG1TREU', 'LEGATREH', 'LG30TREH', 'MXWOHEUR', 'NDDUWI', 'NCUDWI', 'NDUEEGF']\n",
      "\n",
      "Highest Sharpe ratio\n",
      "Return                                              0.105942\n",
      "Risk                                                0.134915\n",
      "Sharpe                                              0.753551\n",
      "Weights    [0.026, 0.088, 0.124, 0.196, 0.557, 0.007, 0.002]\n",
      "Name: 8009, dtype: object\n",
      "['LEG1TREU', 'LEGATREH', 'LG30TREH', 'MXWOHEUR', 'NDDUWI', 'NCUDWI', 'NDUEEGF']\n",
      "\n"
     ]
    }
   ],
   "source": [
    "print('Lowest risk')\n",
    "print(min_risk)\n",
    "print(list(returns))\n",
    "min_risk.to_excel('min_risk.xlsx', sheet_name='Lowest risk', startrow=0)\n",
    "\n",
    "print('')\n",
    "\n",
    "print('Highest return')\n",
    "print(highest_return)\n",
    "print(list(returns))\n",
    "highest_return.to_excel('high_ret.xlsx', sheet_name='Highest return', startrow=0)\n",
    "\n",
    "\n",
    "print('')\n",
    "      \n",
    "print('Highest Sharpe ratio')\n",
    "print(highest_sharpe)\n",
    "highest_sharpe.to_excel('high_sharpe.xlsx', sheet_name='Highest Sharpe ', startrow=0)\n",
    "print(list(returns))\n",
    "\n",
    "print('')\n"
   ]
  },
  {
   "cell_type": "code",
   "execution_count": 28,
   "metadata": {},
   "outputs": [
    {
     "data": {
      "text/plain": [
       "0.0479030103159571"
      ]
     },
     "execution_count": 28,
     "metadata": {},
     "output_type": "execute_result"
    }
   ],
   "source": [
    "np.sum(means * weights)"
   ]
  },
  {
   "cell_type": "code",
   "execution_count": 29,
   "metadata": {},
   "outputs": [
    {
     "data": {
      "image/png": "[encoded data removed]",
      "text/plain": [
       "<Figure size 1000x500 with 2 Axes>"
      ]
     },
     "metadata": {},
     "output_type": "display_data"
    }
   ],
   "source": [
    "plt.figure(figsize = (10,5))\n",
    "plt.scatter(portfolio_risks, portfolio_returns, \n",
    "           c = (portfolio_returns - rf)/ portfolio_risks)\n",
    "plt.title('Portfolio optimization - Past returns', fontsize = 20)\n",
    "plt.xlabel('Volatility', fontsize = 18)\n",
    "plt.ylabel('Return', fontsize = 18)\n",
    "plt.xticks(fontsize = 15)\n",
    "plt.yticks(fontsize = 15)\n",
    "plt.colorbar(label = 'Sharpe ratio')\n",
    "plt.show()"
   ]
  },
  {
   "cell_type": "markdown",
   "metadata": {},
   "source": [
    "## Ottimizzazione con rendimenti attesi"
   ]
  },
  {
   "cell_type": "markdown",
   "metadata": {},
   "source": [
    "### Creazione rendimenti attesi - Media di media e mediana delle previsioni a 1 anno del sondaggio - 31 dicembre  2023"
   ]
  },
  {
   "cell_type": "code",
   "execution_count": 30,
   "metadata": {},
   "outputs": [
    {
     "data": {
      "text/plain": [
       "LEG1TREU    0.028\n",
       "LEGATREH    0.040\n",
       "LG30TREH    0.068\n",
       "MXWOHEUR    0.066\n",
       "NDDUWI      0.076\n",
       "NCUDWI      0.090\n",
       "NDUEEGF     0.081\n",
       "dtype: float64"
      ]
     },
     "execution_count": 30,
     "metadata": {},
     "output_type": "execute_result"
    }
   ],
   "source": [
    "d = {'LEG1TREU': 0.028, 'LEGATREH':0.04, 'LG30TREH': 0.068, 'MXWOHEUR':0.066,'NDDUWI':0.076,\n",
    "     'NCUDWI': 0.09, 'NDUEEGF': 0.081}\n",
    "means_exp = pd.Series(data=d, index=['LEG1TREU','LEGATREH', 'LG30TREH','MXWOHEUR','NDDUWI','NCUDWI','NDUEEGF'])\n",
    "means_exp"
   ]
  },
  {
   "cell_type": "markdown",
   "metadata": {},
   "source": [
    "### Ottimizzazione"
   ]
  },
  {
   "cell_type": "code",
   "execution_count": 31,
   "metadata": {},
   "outputs": [],
   "source": [
    "portfolio_returns = []\n",
    "portfolio_risks = []\n",
    "sharpe_ratios = []\n",
    "portfolio_weights = []\n",
    "rf_exp = 0.035\n",
    "target = 0.06\n",
    "\n",
    "for portfolio in range(number_of_portfolios):\n",
    "    weights = np.random.random_sample(len(returns.columns))\n",
    "    weights =np.round((weights / np.sum(weights)), 3)\n",
    "    portfolio_weights.append(weights)\n",
    "    annualized_return = np.sum(means_exp * weights)\n",
    "    portfolio_returns.append(annualized_return)\n",
    "    portfolio_variance = np.dot(weights.T, np.dot(mat_cov, weights))\n",
    "    portfolio_standard_deviation = np.sqrt(portfolio_variance)\n",
    "    portfolio_risks.append(portfolio_standard_deviation)\n",
    "    sharpe_ratio = (annualized_return - rf_exp) / portfolio_standard_deviation\n",
    "    sharpe_ratios.append(sharpe_ratio)"
   ]
  },
  {
   "cell_type": "code",
   "execution_count": 32,
   "metadata": {},
   "outputs": [],
   "source": [
    "portfolio_returns = np.array(portfolio_returns)\n",
    "portofolio_risks = np.array(portfolio_risks)\n",
    "sharpe_ratios = np.array(sharpe_ratios)"
   ]
  },
  {
   "cell_type": "code",
   "execution_count": 33,
   "metadata": {},
   "outputs": [],
   "source": [
    "#portfoglio metrics\n",
    "\n",
    "portfolio_metrics = [portfolio_returns, portfolio_risks, sharpe_ratios, portfolio_weights]\n",
    "portfolios_df = pd.DataFrame(portfolio_metrics).T\n",
    "portfolios_df.columns = ['Return', 'Risk', 'Sharpe', 'Weights']\n",
    "\n",
    "min_risk = portfolios_df.iloc[portfolios_df['Risk'].astype(float).idxmin()]\n",
    "highest_return = portfolios_df.iloc[portfolios_df['Return'].astype(float).idxmax()]\n",
    "highest_sharpe = portfolios_df.iloc[portfolios_df['Sharpe'].astype(float).idxmax()]\n",
    "#target_risk = portfolio_df.iloc[(df['Risk']-target).abs().argsort()[:2]]\n"
   ]
  },
  {
   "cell_type": "code",
   "execution_count": 34,
   "metadata": {},
   "outputs": [
    {
     "name": "stdin",
     "output_type": "stream",
     "text": [
      "Minima tolleranza al rischio:  0.06\n",
      "Massima tolleranza al rischio:  0.065\n"
     ]
    }
   ],
   "source": [
    "minr = float(input(\"Minima tolleranza al rischio: \"))\n",
    "\n",
    "maxr = float(input(\"Massima tolleranza al rischio: \"))"
   ]
  },
  {
   "cell_type": "code",
   "execution_count": 35,
   "metadata": {},
   "outputs": [],
   "source": [
    "risk_df_exp = portfolios_df.copy()\n",
    "risk_df_exp = risk_df_exp.drop(risk_df_exp[(risk_df_exp.Risk < minr) | (risk_df_exp.Risk > maxr)].index)"
   ]
  },
  {
   "cell_type": "code",
   "execution_count": 36,
   "metadata": {},
   "outputs": [],
   "source": [
    "rtn_risk_df_exp = risk_df_exp.sort_values(by = 'Return', ascending=False)"
   ]
  },
  {
   "cell_type": "code",
   "execution_count": 37,
   "metadata": {},
   "outputs": [
    {
     "data": {
      "text/html": [
       "<div>\n",
       "<style scoped>\n",
       "    .dataframe tbody tr th:only-of-type {\n",
       "        vertical-align: middle;\n",
       "    }\n",
       "\n",
       "    .dataframe tbody tr th {\n",
       "        vertical-align: top;\n",
       "    }\n",
       "\n",
       "    .dataframe thead th {\n",
       "        text-align: right;\n",
       "    }\n",
       "</style>\n",
       "<table border=\"1\" class=\"dataframe\">\n",
       "  <thead>\n",
       "    <tr style=\"text-align: right;\">\n",
       "      <th></th>\n",
       "      <th>Return</th>\n",
       "      <th>Risk</th>\n",
       "      <th>Sharpe</th>\n",
       "      <th>Weights</th>\n",
       "    </tr>\n",
       "  </thead>\n",
       "  <tbody>\n",
       "    <tr>\n",
       "      <th>31345</th>\n",
       "      <td>0.051741</td>\n",
       "      <td>0.064519</td>\n",
       "      <td>0.259475</td>\n",
       "      <td>[0.259, 0.278, 0.3, 0.028, 0.006, 0.024, 0.105]</td>\n",
       "    </tr>\n",
       "    <tr>\n",
       "      <th>3948</th>\n",
       "      <td>0.051587</td>\n",
       "      <td>0.064105</td>\n",
       "      <td>0.258749</td>\n",
       "      <td>[0.315, 0.212, 0.305, 0.017, 0.017, 0.04, 0.093]</td>\n",
       "    </tr>\n",
       "    <tr>\n",
       "      <th>27051</th>\n",
       "      <td>0.051183</td>\n",
       "      <td>0.064299</td>\n",
       "      <td>0.251683</td>\n",
       "      <td>[0.232, 0.39, 0.16, 0.004, 0.042, 0.091, 0.081]</td>\n",
       "    </tr>\n",
       "    <tr>\n",
       "      <th>10621</th>\n",
       "      <td>0.051114</td>\n",
       "      <td>0.064058</td>\n",
       "      <td>0.251553</td>\n",
       "      <td>[0.258, 0.295, 0.261, 0.038, 0.047, 0.009, 0.092]</td>\n",
       "    </tr>\n",
       "    <tr>\n",
       "      <th>37621</th>\n",
       "      <td>0.050859</td>\n",
       "      <td>0.06415</td>\n",
       "      <td>0.247219</td>\n",
       "      <td>[0.279, 0.28, 0.248, 0.011, 0.133, 0.02, 0.029]</td>\n",
       "    </tr>\n",
       "    <tr>\n",
       "      <th>24115</th>\n",
       "      <td>0.050822</td>\n",
       "      <td>0.063977</td>\n",
       "      <td>0.247307</td>\n",
       "      <td>[0.255, 0.351, 0.157, 0.01, 0.099, 0.046, 0.082]</td>\n",
       "    </tr>\n",
       "    <tr>\n",
       "      <th>37553</th>\n",
       "      <td>0.050695</td>\n",
       "      <td>0.063374</td>\n",
       "      <td>0.247657</td>\n",
       "      <td>[0.295, 0.311, 0.174, 0.017, 0.019, 0.086, 0.097]</td>\n",
       "    </tr>\n",
       "    <tr>\n",
       "      <th>14374</th>\n",
       "      <td>0.050662</td>\n",
       "      <td>0.062561</td>\n",
       "      <td>0.250347</td>\n",
       "      <td>[0.314, 0.253, 0.307, 0.012, 0.005, 0.088, 0.022]</td>\n",
       "    </tr>\n",
       "    <tr>\n",
       "      <th>11795</th>\n",
       "      <td>0.050508</td>\n",
       "      <td>0.063564</td>\n",
       "      <td>0.243973</td>\n",
       "      <td>[0.312, 0.283, 0.166, 0.031, 0.045, 0.055, 0.108]</td>\n",
       "    </tr>\n",
       "    <tr>\n",
       "      <th>10678</th>\n",
       "      <td>0.050335</td>\n",
       "      <td>0.064482</td>\n",
       "      <td>0.237818</td>\n",
       "      <td>[0.332, 0.271, 0.098, 0.038, 0.084, 0.034, 0.143]</td>\n",
       "    </tr>\n",
       "  </tbody>\n",
       "</table>\n",
       "</div>"
      ],
      "text/plain": [
       "         Return      Risk    Sharpe  \\\n",
       "31345  0.051741  0.064519  0.259475   \n",
       "3948   0.051587  0.064105  0.258749   \n",
       "27051  0.051183  0.064299  0.251683   \n",
       "10621  0.051114  0.064058  0.251553   \n",
       "37621  0.050859   0.06415  0.247219   \n",
       "24115  0.050822  0.063977  0.247307   \n",
       "37553  0.050695  0.063374  0.247657   \n",
       "14374  0.050662  0.062561  0.250347   \n",
       "11795  0.050508  0.063564  0.243973   \n",
       "10678  0.050335  0.064482  0.237818   \n",
       "\n",
       "                                                 Weights  \n",
       "31345    [0.259, 0.278, 0.3, 0.028, 0.006, 0.024, 0.105]  \n",
       "3948    [0.315, 0.212, 0.305, 0.017, 0.017, 0.04, 0.093]  \n",
       "27051    [0.232, 0.39, 0.16, 0.004, 0.042, 0.091, 0.081]  \n",
       "10621  [0.258, 0.295, 0.261, 0.038, 0.047, 0.009, 0.092]  \n",
       "37621    [0.279, 0.28, 0.248, 0.011, 0.133, 0.02, 0.029]  \n",
       "24115   [0.255, 0.351, 0.157, 0.01, 0.099, 0.046, 0.082]  \n",
       "37553  [0.295, 0.311, 0.174, 0.017, 0.019, 0.086, 0.097]  \n",
       "14374  [0.314, 0.253, 0.307, 0.012, 0.005, 0.088, 0.022]  \n",
       "11795  [0.312, 0.283, 0.166, 0.031, 0.045, 0.055, 0.108]  \n",
       "10678  [0.332, 0.271, 0.098, 0.038, 0.084, 0.034, 0.143]  "
      ]
     },
     "execution_count": 37,
     "metadata": {},
     "output_type": "execute_result"
    }
   ],
   "source": [
    "rtn_risk_df_exp = rtn_risk_df_exp.head(10)\n",
    "rtn_risk_df_exp"
   ]
  },
  {
   "cell_type": "code",
   "execution_count": 38,
   "metadata": {},
   "outputs": [],
   "source": [
    "rtn_risk_df_exp[['LEG1TREU','LEGATREH', 'LG30TREH', 'MXWOHEUR','NDDUWI', 'NCUDWI', 'NDUEEGF']] = pd.DataFrame(rtn_risk_df_exp.Weights.tolist(), index=rtn_risk_df_exp.index)\n",
    "rtn_risk_df_exp.drop(['Weights'], axis=1, inplace=True)"
   ]
  },
  {
   "cell_type": "code",
   "execution_count": 39,
   "metadata": {},
   "outputs": [],
   "source": [
    "rtn_risk_df_exp.to_excel('tolerance_risk_returns_exp.xlsx', sheet_name='Best Returns', index=False, startrow=0)"
   ]
  },
  {
   "cell_type": "code",
   "execution_count": 43,
   "metadata": {},
   "outputs": [],
   "source": [
    "sharpe_risk_df_exp = risk_df_exp.sort_values(by = 'Sharpe', ascending=False)"
   ]
  },
  {
   "cell_type": "code",
   "execution_count": 44,
   "metadata": {},
   "outputs": [
    {
     "data": {
      "text/html": [
       "<div>\n",
       "<style scoped>\n",
       "    .dataframe tbody tr th:only-of-type {\n",
       "        vertical-align: middle;\n",
       "    }\n",
       "\n",
       "    .dataframe tbody tr th {\n",
       "        vertical-align: top;\n",
       "    }\n",
       "\n",
       "    .dataframe thead th {\n",
       "        text-align: right;\n",
       "    }\n",
       "</style>\n",
       "<table border=\"1\" class=\"dataframe\">\n",
       "  <thead>\n",
       "    <tr style=\"text-align: right;\">\n",
       "      <th></th>\n",
       "      <th>Return</th>\n",
       "      <th>Risk</th>\n",
       "      <th>Sharpe</th>\n",
       "      <th>Weights</th>\n",
       "    </tr>\n",
       "  </thead>\n",
       "  <tbody>\n",
       "    <tr>\n",
       "      <th>31345</th>\n",
       "      <td>0.051741</td>\n",
       "      <td>0.064519</td>\n",
       "      <td>0.259475</td>\n",
       "      <td>[0.259, 0.278, 0.3, 0.028, 0.006, 0.024, 0.105]</td>\n",
       "    </tr>\n",
       "    <tr>\n",
       "      <th>3948</th>\n",
       "      <td>0.051587</td>\n",
       "      <td>0.064105</td>\n",
       "      <td>0.258749</td>\n",
       "      <td>[0.315, 0.212, 0.305, 0.017, 0.017, 0.04, 0.093]</td>\n",
       "    </tr>\n",
       "    <tr>\n",
       "      <th>27051</th>\n",
       "      <td>0.051183</td>\n",
       "      <td>0.064299</td>\n",
       "      <td>0.251683</td>\n",
       "      <td>[0.232, 0.39, 0.16, 0.004, 0.042, 0.091, 0.081]</td>\n",
       "    </tr>\n",
       "    <tr>\n",
       "      <th>10621</th>\n",
       "      <td>0.051114</td>\n",
       "      <td>0.064058</td>\n",
       "      <td>0.251553</td>\n",
       "      <td>[0.258, 0.295, 0.261, 0.038, 0.047, 0.009, 0.092]</td>\n",
       "    </tr>\n",
       "    <tr>\n",
       "      <th>14374</th>\n",
       "      <td>0.050662</td>\n",
       "      <td>0.062561</td>\n",
       "      <td>0.250347</td>\n",
       "      <td>[0.314, 0.253, 0.307, 0.012, 0.005, 0.088, 0.022]</td>\n",
       "    </tr>\n",
       "    <tr>\n",
       "      <th>4015</th>\n",
       "      <td>0.050323</td>\n",
       "      <td>0.061471</td>\n",
       "      <td>0.24927</td>\n",
       "      <td>[0.327, 0.198, 0.367, 0.017, 0.053, 0.016, 0.021]</td>\n",
       "    </tr>\n",
       "    <tr>\n",
       "      <th>37553</th>\n",
       "      <td>0.050695</td>\n",
       "      <td>0.063374</td>\n",
       "      <td>0.247657</td>\n",
       "      <td>[0.295, 0.311, 0.174, 0.017, 0.019, 0.086, 0.097]</td>\n",
       "    </tr>\n",
       "    <tr>\n",
       "      <th>24115</th>\n",
       "      <td>0.050822</td>\n",
       "      <td>0.063977</td>\n",
       "      <td>0.247307</td>\n",
       "      <td>[0.255, 0.351, 0.157, 0.01, 0.099, 0.046, 0.082]</td>\n",
       "    </tr>\n",
       "    <tr>\n",
       "      <th>37621</th>\n",
       "      <td>0.050859</td>\n",
       "      <td>0.06415</td>\n",
       "      <td>0.247219</td>\n",
       "      <td>[0.279, 0.28, 0.248, 0.011, 0.133, 0.02, 0.029]</td>\n",
       "    </tr>\n",
       "    <tr>\n",
       "      <th>11795</th>\n",
       "      <td>0.050508</td>\n",
       "      <td>0.063564</td>\n",
       "      <td>0.243973</td>\n",
       "      <td>[0.312, 0.283, 0.166, 0.031, 0.045, 0.055, 0.108]</td>\n",
       "    </tr>\n",
       "  </tbody>\n",
       "</table>\n",
       "</div>"
      ],
      "text/plain": [
       "         Return      Risk    Sharpe  \\\n",
       "31345  0.051741  0.064519  0.259475   \n",
       "3948   0.051587  0.064105  0.258749   \n",
       "27051  0.051183  0.064299  0.251683   \n",
       "10621  0.051114  0.064058  0.251553   \n",
       "14374  0.050662  0.062561  0.250347   \n",
       "4015   0.050323  0.061471   0.24927   \n",
       "37553  0.050695  0.063374  0.247657   \n",
       "24115  0.050822  0.063977  0.247307   \n",
       "37621  0.050859   0.06415  0.247219   \n",
       "11795  0.050508  0.063564  0.243973   \n",
       "\n",
       "                                                 Weights  \n",
       "31345    [0.259, 0.278, 0.3, 0.028, 0.006, 0.024, 0.105]  \n",
       "3948    [0.315, 0.212, 0.305, 0.017, 0.017, 0.04, 0.093]  \n",
       "27051    [0.232, 0.39, 0.16, 0.004, 0.042, 0.091, 0.081]  \n",
       "10621  [0.258, 0.295, 0.261, 0.038, 0.047, 0.009, 0.092]  \n",
       "14374  [0.314, 0.253, 0.307, 0.012, 0.005, 0.088, 0.022]  \n",
       "4015   [0.327, 0.198, 0.367, 0.017, 0.053, 0.016, 0.021]  \n",
       "37553  [0.295, 0.311, 0.174, 0.017, 0.019, 0.086, 0.097]  \n",
       "24115   [0.255, 0.351, 0.157, 0.01, 0.099, 0.046, 0.082]  \n",
       "37621    [0.279, 0.28, 0.248, 0.011, 0.133, 0.02, 0.029]  \n",
       "11795  [0.312, 0.283, 0.166, 0.031, 0.045, 0.055, 0.108]  "
      ]
     },
     "execution_count": 44,
     "metadata": {},
     "output_type": "execute_result"
    }
   ],
   "source": [
    "sharpe_risk_df_exp = sharpe_risk_df_exp.head(10)\n",
    "sharpe_risk_df_exp"
   ]
  },
  {
   "cell_type": "code",
   "execution_count": 45,
   "metadata": {},
   "outputs": [],
   "source": [
    "sharpe_risk_df_exp[['LEG1TREU','LEGATREH', 'LG30TREH', 'MXWOHEUR','NDDUWI', 'NCUDWI', 'NDUEEGF']] = pd.DataFrame(sharpe_risk_df_exp.Weights.tolist(), index= sharpe_risk_df_exp.index)\n",
    "sharpe_risk_df_exp.drop(['Weights'], axis=1, inplace=True)"
   ]
  },
  {
   "cell_type": "code",
   "execution_count": 46,
   "metadata": {},
   "outputs": [],
   "source": [
    "sharpe_risk_df_exp.to_excel('tolerance_risk_sharpe_exp.xlsx', sheet_name='Best Sharpes', index=False, startrow=0)"
   ]
  },
  {
   "cell_type": "code",
   "execution_count": 47,
   "metadata": {},
   "outputs": [
    {
     "name": "stdout",
     "output_type": "stream",
     "text": [
      "Lowest risk\n",
      "Return                                             0.044654\n",
      "Risk                                               0.049256\n",
      "Sharpe                                             0.195996\n",
      "Weights    [0.493, 0.218, 0.082, 0.021, 0.003, 0.004, 0.18]\n",
      "Name: 9025, dtype: object\n",
      "['LEG1TREU', 'LEGATREH', 'LG30TREH', 'MXWOHEUR', 'NDDUWI', 'NCUDWI', 'NDUEEGF']\n",
      "\n",
      "Highest return\n",
      "Return                                            0.083304\n",
      "Risk                                              0.164447\n",
      "Sharpe                                            0.293736\n",
      "Weights    [0.038, 0.004, 0.021, 0.02, 0.06, 0.586, 0.272]\n",
      "Name: 11687, dtype: object\n",
      "['LEG1TREU', 'LEGATREH', 'LG30TREH', 'MXWOHEUR', 'NDDUWI', 'NCUDWI', 'NDUEEGF']\n",
      "\n",
      "Highest Sharpe ratio\n",
      "Return                                              0.068908\n",
      "Risk                                                0.106995\n",
      "Sharpe                                              0.316911\n",
      "Weights    [0.011, 0.134, 0.454, 0.021, 0.055, 0.053, 0.272]\n",
      "Name: 32204, dtype: object\n",
      "['LEG1TREU', 'LEGATREH', 'LG30TREH', 'MXWOHEUR', 'NDDUWI', 'NCUDWI', 'NDUEEGF']\n",
      "\n"
     ]
    }
   ],
   "source": [
    "print('Lowest risk')\n",
    "print(min_risk)\n",
    "print(list(returns))\n",
    "min_risk.to_excel('min_risk_exp.xlsx', sheet_name='Lowest risk', startrow=0)\n",
    "\n",
    "print('')\n",
    "\n",
    "print('Highest return')\n",
    "print(highest_return)\n",
    "print(list(returns))\n",
    "highest_return.to_excel('high_ret_exp.xlsx', sheet_name='Highest return', startrow=0)\n",
    "\n",
    "\n",
    "print('')\n",
    "      \n",
    "print('Highest Sharpe ratio')\n",
    "print(highest_sharpe)\n",
    "highest_sharpe.to_excel('high_sharpe_exp.xlsx', sheet_name='Highest Sharpe ', startrow=0)\n",
    "print(list(returns))\n",
    "\n",
    "print('')\n"
   ]
  },
  {
   "cell_type": "code",
   "execution_count": 48,
   "metadata": {},
   "outputs": [
    {
     "data": {
      "image/png": "[encoded data removed]",
      "text/plain": [
       "<Figure size 1000x500 with 2 Axes>"
      ]
     },
     "metadata": {},
     "output_type": "display_data"
    }
   ],
   "source": [
    "plt.figure(figsize = (10,5))\n",
    "plt.scatter(portfolio_risks, portfolio_returns, \n",
    "           c = (portfolio_returns - rf)/ portfolio_risks)\n",
    "plt.title('Portfolio optimization - Expected returns', fontsize = 20)\n",
    "plt.xlabel('Volatility', fontsize = 18)\n",
    "plt.ylabel('Return', fontsize = 18)\n",
    "plt.xticks(fontsize = 15)\n",
    "plt.yticks(fontsize = 15)\n",
    "plt.colorbar(label = 'Sharpe ratio')\n",
    "plt.show()"
   ]
  },
  {
   "cell_type": "code",
   "execution_count": 129,
   "metadata": {},
   "outputs": [
    {
     "data": {
      "text/plain": [
       "0.004276919806061063"
      ]
     },
     "execution_count": 129,
     "metadata": {},
     "output_type": "execute_result"
    }
   ],
   "source": [
    "rf"
   ]
  },
  {
   "cell_type": "code",
   "execution_count": 130,
   "metadata": {},
   "outputs": [
    {
     "data": {
      "text/plain": [
       "0.035"
      ]
     },
     "execution_count": 130,
     "metadata": {},
     "output_type": "execute_result"
    }
   ],
   "source": [
    "rf_exp"
   ]
  },
  {
   "cell_type": "code",
   "execution_count": null,
   "metadata": {},
   "outputs": [],
   "source": []
  },
  {
   "cell_type": "code",
   "execution_count": null,
   "metadata": {},
   "outputs": [],
   "source": []
  }
 ],
 "metadata": {
  "kernelspec": {
   "display_name": "Python 3 (ipykernel)",
   "language": "python",
   "name": "python3"
  },
  "language_info": {
   "codemirror_mode": {
    "name": "ipython",
    "version": 3
   },
   "file_extension": ".py",
   "mimetype": "text/x-python",
   "name": "python",
   "nbconvert_exporter": "python",
   "pygments_lexer": "ipython3",
   "version": "3.11.7"
  }
 },
 "nbformat": 4,
 "nbformat_minor": 4
}
