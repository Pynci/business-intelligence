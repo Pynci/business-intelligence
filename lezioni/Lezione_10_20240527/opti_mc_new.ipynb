{
 "cells": [
  {
   "cell_type": "code",
   "metadata": {
    "ExecuteTime": {
     "end_time": "2024-05-29T15:52:13.784966Z",
     "start_time": "2024-05-29T15:52:12.784511Z"
    }
   },
   "source": [
    "import pandas as pd\n",
    "import matplotlib.pyplot as plt\n",
    "from matplotlib import style\n",
    "import numpy as np\n",
    "style.use('ggplot')"
   ],
   "outputs": [],
   "execution_count": 1
  },
  {
   "cell_type": "code",
   "metadata": {
    "ExecuteTime": {
     "end_time": "2024-05-29T15:52:14.145163Z",
     "start_time": "2024-05-29T15:52:13.788955Z"
    }
   },
   "source": "data = pd.read_excel('index_values_202312_short.xlsx', index_col = 0, parse_dates = True)",
   "outputs": [],
   "execution_count": 2
  },
  {
   "cell_type": "code",
   "metadata": {
    "ExecuteTime": {
     "end_time": "2024-05-29T15:52:14.160441Z",
     "start_time": "2024-05-29T15:52:14.146162Z"
    }
   },
   "source": [
    "returns = (data/data.shift(1)) - 1\n",
    "returns.dropna(inplace=True)"
   ],
   "outputs": [],
   "execution_count": 3
  },
  {
   "cell_type": "code",
   "metadata": {
    "ExecuteTime": {
     "end_time": "2024-05-29T15:52:14.221251Z",
     "start_time": "2024-05-29T15:52:14.163406Z"
    }
   },
   "source": [
    "returns.head()"
   ],
   "outputs": [
    {
     "data": {
      "text/plain": [
       "            JPCAEU3M  LEG1TREU  LEGATREH  LG30TREH  MXWOHEUR    NDDUWI  \\\n",
       "Data                                                                     \n",
       "2019-01-31 -0.000236  0.000359  0.007889  0.040320  0.070622  0.077994   \n",
       "2019-02-28 -0.000212 -0.000947 -0.001171  0.012919  0.031876  0.036224   \n",
       "2019-03-31 -0.000164  0.001870  0.015518  0.004979  0.014464  0.027671   \n",
       "2019-04-30 -0.000246 -0.000264 -0.001938  0.006623  0.035864  0.035829   \n",
       "2019-05-31 -0.000238  0.000117  0.011773 -0.011194 -0.059133 -0.053058   \n",
       "\n",
       "              NCUDWI   NDUEEGF  \n",
       "Data                            \n",
       "2019-01-31  0.103183  0.087872  \n",
       "2019-02-28  0.043719  0.008235  \n",
       "2019-03-31  0.007961  0.022860  \n",
       "2019-04-30  0.031573  0.021418  \n",
       "2019-05-31 -0.060850 -0.067993  "
      ],
      "text/html": [
       "<div>\n",
       "<style scoped>\n",
       "    .dataframe tbody tr th:only-of-type {\n",
       "        vertical-align: middle;\n",
       "    }\n",
       "\n",
       "    .dataframe tbody tr th {\n",
       "        vertical-align: top;\n",
       "    }\n",
       "\n",
       "    .dataframe thead th {\n",
       "        text-align: right;\n",
       "    }\n",
       "</style>\n",
       "<table border=\"1\" class=\"dataframe\">\n",
       "  <thead>\n",
       "    <tr style=\"text-align: right;\">\n",
       "      <th></th>\n",
       "      <th>JPCAEU3M</th>\n",
       "      <th>LEG1TREU</th>\n",
       "      <th>LEGATREH</th>\n",
       "      <th>LG30TREH</th>\n",
       "      <th>MXWOHEUR</th>\n",
       "      <th>NDDUWI</th>\n",
       "      <th>NCUDWI</th>\n",
       "      <th>NDUEEGF</th>\n",
       "    </tr>\n",
       "    <tr>\n",
       "      <th>Data</th>\n",
       "      <th></th>\n",
       "      <th></th>\n",
       "      <th></th>\n",
       "      <th></th>\n",
       "      <th></th>\n",
       "      <th></th>\n",
       "      <th></th>\n",
       "      <th></th>\n",
       "    </tr>\n",
       "  </thead>\n",
       "  <tbody>\n",
       "    <tr>\n",
       "      <th>2019-01-31</th>\n",
       "      <td>-0.000236</td>\n",
       "      <td>0.000359</td>\n",
       "      <td>0.007889</td>\n",
       "      <td>0.040320</td>\n",
       "      <td>0.070622</td>\n",
       "      <td>0.077994</td>\n",
       "      <td>0.103183</td>\n",
       "      <td>0.087872</td>\n",
       "    </tr>\n",
       "    <tr>\n",
       "      <th>2019-02-28</th>\n",
       "      <td>-0.000212</td>\n",
       "      <td>-0.000947</td>\n",
       "      <td>-0.001171</td>\n",
       "      <td>0.012919</td>\n",
       "      <td>0.031876</td>\n",
       "      <td>0.036224</td>\n",
       "      <td>0.043719</td>\n",
       "      <td>0.008235</td>\n",
       "    </tr>\n",
       "    <tr>\n",
       "      <th>2019-03-31</th>\n",
       "      <td>-0.000164</td>\n",
       "      <td>0.001870</td>\n",
       "      <td>0.015518</td>\n",
       "      <td>0.004979</td>\n",
       "      <td>0.014464</td>\n",
       "      <td>0.027671</td>\n",
       "      <td>0.007961</td>\n",
       "      <td>0.022860</td>\n",
       "    </tr>\n",
       "    <tr>\n",
       "      <th>2019-04-30</th>\n",
       "      <td>-0.000246</td>\n",
       "      <td>-0.000264</td>\n",
       "      <td>-0.001938</td>\n",
       "      <td>0.006623</td>\n",
       "      <td>0.035864</td>\n",
       "      <td>0.035829</td>\n",
       "      <td>0.031573</td>\n",
       "      <td>0.021418</td>\n",
       "    </tr>\n",
       "    <tr>\n",
       "      <th>2019-05-31</th>\n",
       "      <td>-0.000238</td>\n",
       "      <td>0.000117</td>\n",
       "      <td>0.011773</td>\n",
       "      <td>-0.011194</td>\n",
       "      <td>-0.059133</td>\n",
       "      <td>-0.053058</td>\n",
       "      <td>-0.060850</td>\n",
       "      <td>-0.067993</td>\n",
       "    </tr>\n",
       "  </tbody>\n",
       "</table>\n",
       "</div>"
      ]
     },
     "execution_count": 4,
     "metadata": {},
     "output_type": "execute_result"
    }
   ],
   "execution_count": 4
  },
  {
   "metadata": {},
   "cell_type": "markdown",
   "source": [
    "Facciamo nuovamente l'ottimizzazione di portafoglio; invece che andare a prendere singoli titoli azionari, questa volta componiamo i vari portafogli (i cui pesi verranno generati casualmente) inserendo gli indici riportati sopra (non direttamente acquistabili, ma replicabili comprando il rispettivo ETF).\n",
    "\n",
    "L'indice JPCAEU3M è un indice di capitalizzazione che rappresenta il mercato monetario a 3 mesi. \n",
    "\n",
    "__NB__: JPCAEU3M non è direttamente il rendimento del mercato monetario a 3 mesi, bensì rispecchia invece le prestazioni di un portafoglio che investe ogni mese nel mercato monetario a 3 mesi (tenendo conto dell'inflazione).\n",
    "\n",
    "__PER CAPIRE__: JPCAEU3M indica quali sono le prestazioni di un portafoglio che investe in obbligazioni (come certificati di deposito o treasury bills) a 3 mesi in euro; il suo valore viene utilizzato spesso come benchmark perché dato che rappresenta una misura aggregata del rendimento degli strumenti finanziari a breve termine in euro con una scadenza di 3 mesi, questo lo rende un indicatore affidabile dello stato del mercato monetario a breve termine."
   ]
  },
  {
   "cell_type": "code",
   "metadata": {
    "ExecuteTime": {
     "end_time": "2024-05-29T15:52:14.236211Z",
     "start_time": "2024-05-29T15:52:14.224242Z"
    }
   },
   "source": [
    "number_of_portfolios = 40000\n",
    "\n",
    "rf = returns['JPCAEU3M'].mean() * 12\n",
    "returns.drop('JPCAEU3M', axis = 1, inplace = True)\n",
    "means = returns.mean() * 12"
   ],
   "outputs": [],
   "execution_count": 5
  },
  {
   "cell_type": "code",
   "metadata": {
    "ExecuteTime": {
     "end_time": "2024-05-29T15:52:14.266267Z",
     "start_time": "2024-05-29T15:52:14.240200Z"
    }
   },
   "source": [
    "means"
   ],
   "outputs": [
    {
     "data": {
      "text/plain": [
       "LEG1TREU   -0.003740\n",
       "LEGATREH   -0.004278\n",
       "LG30TREH    0.027257\n",
       "MXWOHEUR    0.121672\n",
       "NDDUWI      0.140462\n",
       "NCUDWI      0.119975\n",
       "NDUEEGF     0.055465\n",
       "dtype: float64"
      ]
     },
     "execution_count": 6,
     "metadata": {},
     "output_type": "execute_result"
    }
   ],
   "execution_count": 6
  },
  {
   "metadata": {},
   "cell_type": "markdown",
   "source": [
    "// commento da guardare con index_values_202312_short.xlsx <br>\n",
    "Come si può notare, negli ultimi 5 anni il mercato obbligazionario non ha reso praticamente niente, mentre invece l'azionario si; unica eccezione sono i paesi emergenti, perché al loro interno è stata aggiunta la Cina che in questi anni non è andata da nessuna parte."
   ]
  },
  {
   "cell_type": "code",
   "metadata": {
    "ExecuteTime": {
     "end_time": "2024-05-29T15:52:14.281227Z",
     "start_time": "2024-05-29T15:52:14.268261Z"
    }
   },
   "source": [
    "rf"
   ],
   "outputs": [
    {
     "data": {
      "text/plain": [
       "0.004276919806061063"
      ]
     },
     "execution_count": 7,
     "metadata": {},
     "output_type": "execute_result"
    }
   ],
   "execution_count": 7
  },
  {
   "cell_type": "code",
   "metadata": {
    "ExecuteTime": {
     "end_time": "2024-05-29T15:52:14.312143Z",
     "start_time": "2024-05-29T15:52:14.283221Z"
    }
   },
   "source": [
    "stdev = returns.std()*np.sqrt(12)\n",
    "stdev"
   ],
   "outputs": [
    {
     "data": {
      "text/plain": [
       "LEG1TREU    0.014919\n",
       "LEGATREH    0.049480\n",
       "LG30TREH    0.102381\n",
       "MXWOHEUR    0.169941\n",
       "NDDUWI      0.158522\n",
       "NCUDWI      0.197063\n",
       "NDUEEGF     0.156804\n",
       "dtype: float64"
      ]
     },
     "execution_count": 8,
     "metadata": {},
     "output_type": "execute_result"
    }
   ],
   "execution_count": 8
  },
  {
   "cell_type": "code",
   "metadata": {
    "ExecuteTime": {
     "end_time": "2024-05-29T15:52:14.328102Z",
     "start_time": "2024-05-29T15:52:14.314139Z"
    }
   },
   "source": [
    "len(returns.columns)"
   ],
   "outputs": [
    {
     "data": {
      "text/plain": [
       "7"
      ]
     },
     "execution_count": 9,
     "metadata": {},
     "output_type": "execute_result"
    }
   ],
   "execution_count": 9
  },
  {
   "cell_type": "code",
   "metadata": {
    "ExecuteTime": {
     "end_time": "2024-05-29T15:52:14.359018Z",
     "start_time": "2024-05-29T15:52:14.331092Z"
    }
   },
   "source": [
    "returns.tail()"
   ],
   "outputs": [
    {
     "data": {
      "text/plain": [
       "            LEG1TREU  LEGATREH  LG30TREH  MXWOHEUR    NDDUWI    NCUDWI  \\\n",
       "Data                                                                     \n",
       "2023-08-31  0.003695 -0.002981 -0.003497 -0.018723 -0.008756 -0.023204   \n",
       "2023-09-30 -0.002450 -0.019140 -0.012404 -0.038738 -0.019529 -0.029093   \n",
       "2023-10-31  0.005422 -0.008357 -0.010109 -0.026898 -0.028740 -0.061091   \n",
       "2023-11-30  0.007274  0.032175  0.044699  0.080261  0.062115  0.061481   \n",
       "2023-12-31  0.010967  0.030226  0.036364  0.040441  0.032595  0.078959   \n",
       "\n",
       "             NDUEEGF  \n",
       "Data                  \n",
       "2023-08-31 -0.047056  \n",
       "2023-09-30 -0.002123  \n",
       "2023-10-31 -0.038581  \n",
       "2023-11-30  0.048789  \n",
       "2023-12-31  0.022752  "
      ],
      "text/html": [
       "<div>\n",
       "<style scoped>\n",
       "    .dataframe tbody tr th:only-of-type {\n",
       "        vertical-align: middle;\n",
       "    }\n",
       "\n",
       "    .dataframe tbody tr th {\n",
       "        vertical-align: top;\n",
       "    }\n",
       "\n",
       "    .dataframe thead th {\n",
       "        text-align: right;\n",
       "    }\n",
       "</style>\n",
       "<table border=\"1\" class=\"dataframe\">\n",
       "  <thead>\n",
       "    <tr style=\"text-align: right;\">\n",
       "      <th></th>\n",
       "      <th>LEG1TREU</th>\n",
       "      <th>LEGATREH</th>\n",
       "      <th>LG30TREH</th>\n",
       "      <th>MXWOHEUR</th>\n",
       "      <th>NDDUWI</th>\n",
       "      <th>NCUDWI</th>\n",
       "      <th>NDUEEGF</th>\n",
       "    </tr>\n",
       "    <tr>\n",
       "      <th>Data</th>\n",
       "      <th></th>\n",
       "      <th></th>\n",
       "      <th></th>\n",
       "      <th></th>\n",
       "      <th></th>\n",
       "      <th></th>\n",
       "      <th></th>\n",
       "    </tr>\n",
       "  </thead>\n",
       "  <tbody>\n",
       "    <tr>\n",
       "      <th>2023-08-31</th>\n",
       "      <td>0.003695</td>\n",
       "      <td>-0.002981</td>\n",
       "      <td>-0.003497</td>\n",
       "      <td>-0.018723</td>\n",
       "      <td>-0.008756</td>\n",
       "      <td>-0.023204</td>\n",
       "      <td>-0.047056</td>\n",
       "    </tr>\n",
       "    <tr>\n",
       "      <th>2023-09-30</th>\n",
       "      <td>-0.002450</td>\n",
       "      <td>-0.019140</td>\n",
       "      <td>-0.012404</td>\n",
       "      <td>-0.038738</td>\n",
       "      <td>-0.019529</td>\n",
       "      <td>-0.029093</td>\n",
       "      <td>-0.002123</td>\n",
       "    </tr>\n",
       "    <tr>\n",
       "      <th>2023-10-31</th>\n",
       "      <td>0.005422</td>\n",
       "      <td>-0.008357</td>\n",
       "      <td>-0.010109</td>\n",
       "      <td>-0.026898</td>\n",
       "      <td>-0.028740</td>\n",
       "      <td>-0.061091</td>\n",
       "      <td>-0.038581</td>\n",
       "    </tr>\n",
       "    <tr>\n",
       "      <th>2023-11-30</th>\n",
       "      <td>0.007274</td>\n",
       "      <td>0.032175</td>\n",
       "      <td>0.044699</td>\n",
       "      <td>0.080261</td>\n",
       "      <td>0.062115</td>\n",
       "      <td>0.061481</td>\n",
       "      <td>0.048789</td>\n",
       "    </tr>\n",
       "    <tr>\n",
       "      <th>2023-12-31</th>\n",
       "      <td>0.010967</td>\n",
       "      <td>0.030226</td>\n",
       "      <td>0.036364</td>\n",
       "      <td>0.040441</td>\n",
       "      <td>0.032595</td>\n",
       "      <td>0.078959</td>\n",
       "      <td>0.022752</td>\n",
       "    </tr>\n",
       "  </tbody>\n",
       "</table>\n",
       "</div>"
      ]
     },
     "execution_count": 10,
     "metadata": {},
     "output_type": "execute_result"
    }
   ],
   "execution_count": 10
  },
  {
   "cell_type": "code",
   "metadata": {
    "ExecuteTime": {
     "end_time": "2024-05-29T15:52:14.374975Z",
     "start_time": "2024-05-29T15:52:14.360015Z"
    }
   },
   "source": [
    "means"
   ],
   "outputs": [
    {
     "data": {
      "text/plain": [
       "LEG1TREU   -0.003740\n",
       "LEGATREH   -0.004278\n",
       "LG30TREH    0.027257\n",
       "MXWOHEUR    0.121672\n",
       "NDDUWI      0.140462\n",
       "NCUDWI      0.119975\n",
       "NDUEEGF     0.055465\n",
       "dtype: float64"
      ]
     },
     "execution_count": 11,
     "metadata": {},
     "output_type": "execute_result"
    }
   ],
   "execution_count": 11
  },
  {
   "cell_type": "code",
   "metadata": {
    "ExecuteTime": {
     "end_time": "2024-05-29T15:52:14.390932Z",
     "start_time": "2024-05-29T15:52:14.376971Z"
    }
   },
   "source": "mat_cov = returns.cov() * 12",
   "outputs": [],
   "execution_count": 12
  },
  {
   "cell_type": "code",
   "metadata": {
    "ExecuteTime": {
     "end_time": "2024-05-29T15:52:14.405892Z",
     "start_time": "2024-05-29T15:52:14.392927Z"
    }
   },
   "source": [
    "print(mat_cov)"
   ],
   "outputs": [
    {
     "name": "stdout",
     "output_type": "stream",
     "text": [
      "          LEG1TREU  LEGATREH  LG30TREH  MXWOHEUR    NDDUWI    NCUDWI   NDUEEGF\n",
      "LEG1TREU  0.000223  0.000588  0.000686  0.001006  0.000901  0.000910  0.000700\n",
      "LEGATREH  0.000588  0.002448  0.003019  0.004379  0.003591  0.003898  0.003099\n",
      "LG30TREH  0.000686  0.003019  0.010482  0.014866  0.012791  0.016824  0.012282\n",
      "MXWOHEUR  0.001006  0.004379  0.014866  0.028880  0.025665  0.030139  0.019346\n",
      "NDDUWI    0.000901  0.003591  0.012791  0.025665  0.025129  0.029368  0.017551\n",
      "NCUDWI    0.000910  0.003898  0.016824  0.030139  0.029368  0.038834  0.023451\n",
      "NDUEEGF   0.000700  0.003099  0.012282  0.019346  0.017551  0.023451  0.024587\n"
     ]
    }
   ],
   "execution_count": 13
  },
  {
   "cell_type": "markdown",
   "metadata": {},
   "source": [
    "## Ottimizzazione con rendimenti storici"
   ]
  },
  {
   "cell_type": "code",
   "metadata": {
    "ExecuteTime": {
     "end_time": "2024-05-29T15:52:20.506667Z",
     "start_time": "2024-05-29T15:52:14.406890Z"
    }
   },
   "source": [
    "portfolio_returns = []\n",
    "portfolio_risks = []\n",
    "sharpe_ratios = []\n",
    "portfolio_weights = []\n",
    "\n",
    "for portfolio in range(number_of_portfolios):\n",
    "    weights = np.random.random_sample(len(returns.columns))\n",
    "    weights = np.round((weights / np.sum(weights)), 3)\n",
    "    portfolio_weights.append(weights)\n",
    "    annualized_return = np.sum(means * weights)\n",
    "    portfolio_returns.append(annualized_return)\n",
    "    portfolio_variance = np.dot(weights.T, np.dot(mat_cov, weights))\n",
    "    portfolio_standard_deviation = np.sqrt(portfolio_variance)\n",
    "    portfolio_risks.append(portfolio_standard_deviation)\n",
    "    sharpe_ratio = (annualized_return - rf) / portfolio_standard_deviation\n",
    "    sharpe_ratios.append(sharpe_ratio)"
   ],
   "outputs": [],
   "execution_count": 14
  },
  {
   "cell_type": "code",
   "metadata": {
    "ExecuteTime": {
     "end_time": "2024-05-29T15:52:21.367145Z",
     "start_time": "2024-05-29T15:52:20.507635Z"
    }
   },
   "source": [
    "#portfoglio metrics\n",
    "\n",
    "portfolio_metrics = [portfolio_returns, portfolio_risks, sharpe_ratios, portfolio_weights]\n",
    "portfolios_df = pd.DataFrame(portfolio_metrics).T\n",
    "portfolios_df.columns = ['Return', 'Risk', 'Sharpe', 'Weights']\n",
    "\n",
    "min_risk = portfolios_df.iloc[portfolios_df['Risk'].astype(float).idxmin()]\n",
    "highest_return = portfolios_df.iloc[portfolios_df['Return'].astype(float).idxmax()]\n",
    "highest_sharpe = portfolios_df.iloc[portfolios_df['Sharpe'].astype(float).idxmax()]\n"
   ],
   "outputs": [],
   "execution_count": 15
  },
  {
   "cell_type": "code",
   "metadata": {
    "ExecuteTime": {
     "end_time": "2024-05-29T15:52:21.382101Z",
     "start_time": "2024-05-29T15:52:21.368019Z"
    }
   },
   "source": [
    "portfolios_df"
   ],
   "outputs": [
    {
     "data": {
      "text/plain": [
       "         Return      Risk    Sharpe  \\\n",
       "0      0.063547  0.114392  0.518137   \n",
       "1      0.057652  0.104523  0.510656   \n",
       "2       0.04144  0.082789  0.448891   \n",
       "3      0.063665  0.107192   0.55403   \n",
       "4      0.055625  0.099539  0.515862   \n",
       "...         ...       ...       ...   \n",
       "39995  0.070468  0.112821   0.58669   \n",
       "39996  0.065785  0.107019  0.574735   \n",
       "39997  0.047157  0.095455  0.449216   \n",
       "39998  0.079525  0.125039  0.601798   \n",
       "39999  0.075893  0.131716  0.543711   \n",
       "\n",
       "                                                 Weights  \n",
       "0      [0.187, 0.003, 0.218, 0.168, 0.068, 0.133, 0.223]  \n",
       "1       [0.241, 0.021, 0.17, 0.185, 0.072, 0.065, 0.245]  \n",
       "2      [0.408, 0.035, 0.057, 0.048, 0.111, 0.018, 0.324]  \n",
       "3        [0.166, 0.161, 0.082, 0.177, 0.1, 0.151, 0.163]  \n",
       "4      [0.168, 0.141, 0.162, 0.136, 0.137, 0.038, 0.218]  \n",
       "...                                                  ...  \n",
       "39995  [0.208, 0.139, 0.052, 0.147, 0.105, 0.284, 0.067]  \n",
       "39996  [0.292, 0.024, 0.189, 0.013, 0.172, 0.292, 0.019]  \n",
       "39997    [0.205, 0.16, 0.205, 0.025, 0.052, 0.203, 0.15]  \n",
       "39998    [0.128, 0.074, 0.067, 0.122, 0.199, 0.2, 0.211]  \n",
       "39999   [0.092, 0.012, 0.136, 0.32, 0.026, 0.109, 0.305]  \n",
       "\n",
       "[40000 rows x 4 columns]"
      ],
      "text/html": [
       "<div>\n",
       "<style scoped>\n",
       "    .dataframe tbody tr th:only-of-type {\n",
       "        vertical-align: middle;\n",
       "    }\n",
       "\n",
       "    .dataframe tbody tr th {\n",
       "        vertical-align: top;\n",
       "    }\n",
       "\n",
       "    .dataframe thead th {\n",
       "        text-align: right;\n",
       "    }\n",
       "</style>\n",
       "<table border=\"1\" class=\"dataframe\">\n",
       "  <thead>\n",
       "    <tr style=\"text-align: right;\">\n",
       "      <th></th>\n",
       "      <th>Return</th>\n",
       "      <th>Risk</th>\n",
       "      <th>Sharpe</th>\n",
       "      <th>Weights</th>\n",
       "    </tr>\n",
       "  </thead>\n",
       "  <tbody>\n",
       "    <tr>\n",
       "      <th>0</th>\n",
       "      <td>0.063547</td>\n",
       "      <td>0.114392</td>\n",
       "      <td>0.518137</td>\n",
       "      <td>[0.187, 0.003, 0.218, 0.168, 0.068, 0.133, 0.223]</td>\n",
       "    </tr>\n",
       "    <tr>\n",
       "      <th>1</th>\n",
       "      <td>0.057652</td>\n",
       "      <td>0.104523</td>\n",
       "      <td>0.510656</td>\n",
       "      <td>[0.241, 0.021, 0.17, 0.185, 0.072, 0.065, 0.245]</td>\n",
       "    </tr>\n",
       "    <tr>\n",
       "      <th>2</th>\n",
       "      <td>0.04144</td>\n",
       "      <td>0.082789</td>\n",
       "      <td>0.448891</td>\n",
       "      <td>[0.408, 0.035, 0.057, 0.048, 0.111, 0.018, 0.324]</td>\n",
       "    </tr>\n",
       "    <tr>\n",
       "      <th>3</th>\n",
       "      <td>0.063665</td>\n",
       "      <td>0.107192</td>\n",
       "      <td>0.55403</td>\n",
       "      <td>[0.166, 0.161, 0.082, 0.177, 0.1, 0.151, 0.163]</td>\n",
       "    </tr>\n",
       "    <tr>\n",
       "      <th>4</th>\n",
       "      <td>0.055625</td>\n",
       "      <td>0.099539</td>\n",
       "      <td>0.515862</td>\n",
       "      <td>[0.168, 0.141, 0.162, 0.136, 0.137, 0.038, 0.218]</td>\n",
       "    </tr>\n",
       "    <tr>\n",
       "      <th>...</th>\n",
       "      <td>...</td>\n",
       "      <td>...</td>\n",
       "      <td>...</td>\n",
       "      <td>...</td>\n",
       "    </tr>\n",
       "    <tr>\n",
       "      <th>39995</th>\n",
       "      <td>0.070468</td>\n",
       "      <td>0.112821</td>\n",
       "      <td>0.58669</td>\n",
       "      <td>[0.208, 0.139, 0.052, 0.147, 0.105, 0.284, 0.067]</td>\n",
       "    </tr>\n",
       "    <tr>\n",
       "      <th>39996</th>\n",
       "      <td>0.065785</td>\n",
       "      <td>0.107019</td>\n",
       "      <td>0.574735</td>\n",
       "      <td>[0.292, 0.024, 0.189, 0.013, 0.172, 0.292, 0.019]</td>\n",
       "    </tr>\n",
       "    <tr>\n",
       "      <th>39997</th>\n",
       "      <td>0.047157</td>\n",
       "      <td>0.095455</td>\n",
       "      <td>0.449216</td>\n",
       "      <td>[0.205, 0.16, 0.205, 0.025, 0.052, 0.203, 0.15]</td>\n",
       "    </tr>\n",
       "    <tr>\n",
       "      <th>39998</th>\n",
       "      <td>0.079525</td>\n",
       "      <td>0.125039</td>\n",
       "      <td>0.601798</td>\n",
       "      <td>[0.128, 0.074, 0.067, 0.122, 0.199, 0.2, 0.211]</td>\n",
       "    </tr>\n",
       "    <tr>\n",
       "      <th>39999</th>\n",
       "      <td>0.075893</td>\n",
       "      <td>0.131716</td>\n",
       "      <td>0.543711</td>\n",
       "      <td>[0.092, 0.012, 0.136, 0.32, 0.026, 0.109, 0.305]</td>\n",
       "    </tr>\n",
       "  </tbody>\n",
       "</table>\n",
       "<p>40000 rows × 4 columns</p>\n",
       "</div>"
      ]
     },
     "execution_count": 16,
     "metadata": {},
     "output_type": "execute_result"
    }
   ],
   "execution_count": 16
  },
  {
   "cell_type": "markdown",
   "metadata": {},
   "source": [
    "#### Portafogli con ritorno maggiore dato un certo range di rischio\n",
    "\n",
    "Generalmente quando si ha a che fare con un investitore istituzionale è difficile che esso sia in grado di esprimere la propria propensione al rischio; quello che generalmente si fa è guardare a cosa l'investitore ha posseduto negli anni, valutando quindi il profilo di rischio rispetto agli investimenti passati."
   ]
  },
  {
   "cell_type": "code",
   "metadata": {
    "ExecuteTime": {
     "end_time": "2024-05-29T15:52:21.397061Z",
     "start_time": "2024-05-29T15:52:21.384096Z"
    }
   },
   "source": [
    "minr = 0.06 #float(input(\"Minima tolleranza al rischio: \"))\n",
    "\n",
    "maxr = 1 #float(input(\"Massima tolleranza al rischio: \"))"
   ],
   "outputs": [],
   "execution_count": 17
  },
  {
   "cell_type": "code",
   "metadata": {
    "ExecuteTime": {
     "end_time": "2024-05-29T15:52:21.442940Z",
     "start_time": "2024-05-29T15:52:21.413019Z"
    }
   },
   "source": [
    "risk_df = portfolios_df.copy()\n",
    "risk_df = risk_df.drop(risk_df[(risk_df.Risk < minr) | (risk_df.Risk > maxr)].index)"
   ],
   "outputs": [],
   "execution_count": 18
  },
  {
   "cell_type": "code",
   "metadata": {
    "ExecuteTime": {
     "end_time": "2024-05-29T15:52:21.519733Z",
     "start_time": "2024-05-29T15:52:21.446928Z"
    }
   },
   "source": [
    "rtn_risk_df = risk_df.sort_values(by = 'Return', ascending=False)"
   ],
   "outputs": [],
   "execution_count": 19
  },
  {
   "cell_type": "code",
   "metadata": {
    "ExecuteTime": {
     "end_time": "2024-05-29T15:52:21.551647Z",
     "start_time": "2024-05-29T15:52:21.521728Z"
    }
   },
   "source": [
    "rtn_risk_df = rtn_risk_df.head(10)\n",
    "rtn_risk_df"
   ],
   "outputs": [
    {
     "data": {
      "text/plain": [
       "         Return      Risk    Sharpe  \\\n",
       "19386  0.122301  0.155261  0.760168   \n",
       "29749  0.119917   0.16359  0.706887   \n",
       "39294  0.118098  0.160989  0.707014   \n",
       "4828   0.117055  0.173554  0.649816   \n",
       "30583  0.116821  0.160997  0.699042   \n",
       "4127   0.115732  0.158543  0.702997   \n",
       "34742  0.115641  0.155032  0.718332   \n",
       "25943  0.114221  0.159459  0.689481   \n",
       "24142  0.114077  0.154196  0.712084   \n",
       "2205   0.113875  0.152467  0.718834   \n",
       "\n",
       "                                                 Weights  \n",
       "19386   [0.023, 0.02, 0.032, 0.206, 0.542, 0.165, 0.011]  \n",
       "29749  [0.009, 0.004, 0.034, 0.044, 0.459, 0.376, 0.074]  \n",
       "39294    [0.02, 0.007, 0.001, 0.337, 0.306, 0.248, 0.08]  \n",
       "4828    [0.003, 0.027, 0.015, 0.16, 0.179, 0.589, 0.027]  \n",
       "30583  [0.023, 0.014, 0.001, 0.276, 0.307, 0.297, 0.083]  \n",
       "4127    [0.026, 0.019, 0.012, 0.293, 0.312, 0.27, 0.067]  \n",
       "34742   [0.013, 0.048, 0.013, 0.199, 0.415, 0.243, 0.07]  \n",
       "25943  [0.033, 0.013, 0.039, 0.322, 0.251, 0.309, 0.033]  \n",
       "24142   [0.072, 0.025, 0.008, 0.28, 0.321, 0.291, 0.003]  \n",
       "2205     [0.028, 0.011, 0.08, 0.333, 0.367, 0.151, 0.03]  "
      ],
      "text/html": [
       "<div>\n",
       "<style scoped>\n",
       "    .dataframe tbody tr th:only-of-type {\n",
       "        vertical-align: middle;\n",
       "    }\n",
       "\n",
       "    .dataframe tbody tr th {\n",
       "        vertical-align: top;\n",
       "    }\n",
       "\n",
       "    .dataframe thead th {\n",
       "        text-align: right;\n",
       "    }\n",
       "</style>\n",
       "<table border=\"1\" class=\"dataframe\">\n",
       "  <thead>\n",
       "    <tr style=\"text-align: right;\">\n",
       "      <th></th>\n",
       "      <th>Return</th>\n",
       "      <th>Risk</th>\n",
       "      <th>Sharpe</th>\n",
       "      <th>Weights</th>\n",
       "    </tr>\n",
       "  </thead>\n",
       "  <tbody>\n",
       "    <tr>\n",
       "      <th>19386</th>\n",
       "      <td>0.122301</td>\n",
       "      <td>0.155261</td>\n",
       "      <td>0.760168</td>\n",
       "      <td>[0.023, 0.02, 0.032, 0.206, 0.542, 0.165, 0.011]</td>\n",
       "    </tr>\n",
       "    <tr>\n",
       "      <th>29749</th>\n",
       "      <td>0.119917</td>\n",
       "      <td>0.16359</td>\n",
       "      <td>0.706887</td>\n",
       "      <td>[0.009, 0.004, 0.034, 0.044, 0.459, 0.376, 0.074]</td>\n",
       "    </tr>\n",
       "    <tr>\n",
       "      <th>39294</th>\n",
       "      <td>0.118098</td>\n",
       "      <td>0.160989</td>\n",
       "      <td>0.707014</td>\n",
       "      <td>[0.02, 0.007, 0.001, 0.337, 0.306, 0.248, 0.08]</td>\n",
       "    </tr>\n",
       "    <tr>\n",
       "      <th>4828</th>\n",
       "      <td>0.117055</td>\n",
       "      <td>0.173554</td>\n",
       "      <td>0.649816</td>\n",
       "      <td>[0.003, 0.027, 0.015, 0.16, 0.179, 0.589, 0.027]</td>\n",
       "    </tr>\n",
       "    <tr>\n",
       "      <th>30583</th>\n",
       "      <td>0.116821</td>\n",
       "      <td>0.160997</td>\n",
       "      <td>0.699042</td>\n",
       "      <td>[0.023, 0.014, 0.001, 0.276, 0.307, 0.297, 0.083]</td>\n",
       "    </tr>\n",
       "    <tr>\n",
       "      <th>4127</th>\n",
       "      <td>0.115732</td>\n",
       "      <td>0.158543</td>\n",
       "      <td>0.702997</td>\n",
       "      <td>[0.026, 0.019, 0.012, 0.293, 0.312, 0.27, 0.067]</td>\n",
       "    </tr>\n",
       "    <tr>\n",
       "      <th>34742</th>\n",
       "      <td>0.115641</td>\n",
       "      <td>0.155032</td>\n",
       "      <td>0.718332</td>\n",
       "      <td>[0.013, 0.048, 0.013, 0.199, 0.415, 0.243, 0.07]</td>\n",
       "    </tr>\n",
       "    <tr>\n",
       "      <th>25943</th>\n",
       "      <td>0.114221</td>\n",
       "      <td>0.159459</td>\n",
       "      <td>0.689481</td>\n",
       "      <td>[0.033, 0.013, 0.039, 0.322, 0.251, 0.309, 0.033]</td>\n",
       "    </tr>\n",
       "    <tr>\n",
       "      <th>24142</th>\n",
       "      <td>0.114077</td>\n",
       "      <td>0.154196</td>\n",
       "      <td>0.712084</td>\n",
       "      <td>[0.072, 0.025, 0.008, 0.28, 0.321, 0.291, 0.003]</td>\n",
       "    </tr>\n",
       "    <tr>\n",
       "      <th>2205</th>\n",
       "      <td>0.113875</td>\n",
       "      <td>0.152467</td>\n",
       "      <td>0.718834</td>\n",
       "      <td>[0.028, 0.011, 0.08, 0.333, 0.367, 0.151, 0.03]</td>\n",
       "    </tr>\n",
       "  </tbody>\n",
       "</table>\n",
       "</div>"
      ]
     },
     "execution_count": 20,
     "metadata": {},
     "output_type": "execute_result"
    }
   ],
   "execution_count": 20
  },
  {
   "cell_type": "code",
   "metadata": {
    "ExecuteTime": {
     "end_time": "2024-05-29T15:52:21.567606Z",
     "start_time": "2024-05-29T15:52:21.553642Z"
    }
   },
   "source": [
    "rtn_risk_df[['LEG1TREU','LEGATREH', 'LG30TREH', 'MXWOHEUR','NDDUWI', 'NCUDWI', 'NDUEEGF']] = pd.DataFrame(rtn_risk_df.Weights.tolist(), index= rtn_risk_df.index)\n",
    "rtn_risk_df.drop(['Weights'], axis=1, inplace=True)"
   ],
   "outputs": [],
   "execution_count": 21
  },
  {
   "cell_type": "code",
   "metadata": {
    "ExecuteTime": {
     "end_time": "2024-05-29T15:52:21.613483Z",
     "start_time": "2024-05-29T15:52:21.569599Z"
    }
   },
   "source": [
    "rtn_risk_df.to_excel('tolerance_risk_returns.xlsx', sheet_name='Best Returns', index=False, startrow=0)"
   ],
   "outputs": [],
   "execution_count": 22
  },
  {
   "cell_type": "code",
   "metadata": {
    "ExecuteTime": {
     "end_time": "2024-05-29T15:52:21.673322Z",
     "start_time": "2024-05-29T15:52:21.615477Z"
    }
   },
   "source": [
    "sharpe_risk_df = risk_df.sort_values(by = 'Sharpe', ascending=False)"
   ],
   "outputs": [],
   "execution_count": 23
  },
  {
   "cell_type": "code",
   "metadata": {
    "ExecuteTime": {
     "end_time": "2024-05-29T15:52:21.705236Z",
     "start_time": "2024-05-29T15:52:21.675317Z"
    }
   },
   "source": [
    "sharpe_risk_df = sharpe_risk_df.head(10)\n",
    "sharpe_risk_df"
   ],
   "outputs": [
    {
     "data": {
      "text/plain": [
       "         Return      Risk    Sharpe  \\\n",
       "19386  0.122301  0.155261  0.760168   \n",
       "33009  0.112908  0.144175  0.753467   \n",
       "10276  0.093966  0.119654  0.749572   \n",
       "36310  0.084557  0.107348  0.747843   \n",
       "36765  0.103499  0.134127   0.73976   \n",
       "10885  0.095953  0.123937  0.739704   \n",
       "3656   0.112492  0.146455  0.738899   \n",
       "7540   0.084422  0.108622  0.737832   \n",
       "24451  0.090482   0.11734  0.734666   \n",
       "31092  0.085422  0.110814  0.732263   \n",
       "\n",
       "                                                 Weights  \n",
       "19386   [0.023, 0.02, 0.032, 0.206, 0.542, 0.165, 0.011]  \n",
       "33009     [0.068, 0.003, 0.043, 0.246, 0.51, 0.05, 0.08]  \n",
       "10276    [0.162, 0.111, 0.0, 0.226, 0.455, 0.016, 0.031]  \n",
       "36310   [0.296, 0.016, 0.05, 0.057, 0.496, 0.049, 0.034]  \n",
       "36765    [0.01, 0.164, 0.009, 0.179, 0.503, 0.064, 0.07]  \n",
       "10885  [0.082, 0.121, 0.077, 0.024, 0.569, 0.076, 0.049]  \n",
       "3656    [0.102, 0.01, 0.018, 0.355, 0.376, 0.135, 0.004]  \n",
       "7540   [0.315, 0.031, 0.013, 0.084, 0.435, 0.113, 0.009]  \n",
       "24451   [0.114, 0.167, 0.036, 0.181, 0.46, 0.026, 0.016]  \n",
       "31092  [0.296, 0.028, 0.014, 0.178, 0.389, 0.072, 0.024]  "
      ],
      "text/html": [
       "<div>\n",
       "<style scoped>\n",
       "    .dataframe tbody tr th:only-of-type {\n",
       "        vertical-align: middle;\n",
       "    }\n",
       "\n",
       "    .dataframe tbody tr th {\n",
       "        vertical-align: top;\n",
       "    }\n",
       "\n",
       "    .dataframe thead th {\n",
       "        text-align: right;\n",
       "    }\n",
       "</style>\n",
       "<table border=\"1\" class=\"dataframe\">\n",
       "  <thead>\n",
       "    <tr style=\"text-align: right;\">\n",
       "      <th></th>\n",
       "      <th>Return</th>\n",
       "      <th>Risk</th>\n",
       "      <th>Sharpe</th>\n",
       "      <th>Weights</th>\n",
       "    </tr>\n",
       "  </thead>\n",
       "  <tbody>\n",
       "    <tr>\n",
       "      <th>19386</th>\n",
       "      <td>0.122301</td>\n",
       "      <td>0.155261</td>\n",
       "      <td>0.760168</td>\n",
       "      <td>[0.023, 0.02, 0.032, 0.206, 0.542, 0.165, 0.011]</td>\n",
       "    </tr>\n",
       "    <tr>\n",
       "      <th>33009</th>\n",
       "      <td>0.112908</td>\n",
       "      <td>0.144175</td>\n",
       "      <td>0.753467</td>\n",
       "      <td>[0.068, 0.003, 0.043, 0.246, 0.51, 0.05, 0.08]</td>\n",
       "    </tr>\n",
       "    <tr>\n",
       "      <th>10276</th>\n",
       "      <td>0.093966</td>\n",
       "      <td>0.119654</td>\n",
       "      <td>0.749572</td>\n",
       "      <td>[0.162, 0.111, 0.0, 0.226, 0.455, 0.016, 0.031]</td>\n",
       "    </tr>\n",
       "    <tr>\n",
       "      <th>36310</th>\n",
       "      <td>0.084557</td>\n",
       "      <td>0.107348</td>\n",
       "      <td>0.747843</td>\n",
       "      <td>[0.296, 0.016, 0.05, 0.057, 0.496, 0.049, 0.034]</td>\n",
       "    </tr>\n",
       "    <tr>\n",
       "      <th>36765</th>\n",
       "      <td>0.103499</td>\n",
       "      <td>0.134127</td>\n",
       "      <td>0.73976</td>\n",
       "      <td>[0.01, 0.164, 0.009, 0.179, 0.503, 0.064, 0.07]</td>\n",
       "    </tr>\n",
       "    <tr>\n",
       "      <th>10885</th>\n",
       "      <td>0.095953</td>\n",
       "      <td>0.123937</td>\n",
       "      <td>0.739704</td>\n",
       "      <td>[0.082, 0.121, 0.077, 0.024, 0.569, 0.076, 0.049]</td>\n",
       "    </tr>\n",
       "    <tr>\n",
       "      <th>3656</th>\n",
       "      <td>0.112492</td>\n",
       "      <td>0.146455</td>\n",
       "      <td>0.738899</td>\n",
       "      <td>[0.102, 0.01, 0.018, 0.355, 0.376, 0.135, 0.004]</td>\n",
       "    </tr>\n",
       "    <tr>\n",
       "      <th>7540</th>\n",
       "      <td>0.084422</td>\n",
       "      <td>0.108622</td>\n",
       "      <td>0.737832</td>\n",
       "      <td>[0.315, 0.031, 0.013, 0.084, 0.435, 0.113, 0.009]</td>\n",
       "    </tr>\n",
       "    <tr>\n",
       "      <th>24451</th>\n",
       "      <td>0.090482</td>\n",
       "      <td>0.11734</td>\n",
       "      <td>0.734666</td>\n",
       "      <td>[0.114, 0.167, 0.036, 0.181, 0.46, 0.026, 0.016]</td>\n",
       "    </tr>\n",
       "    <tr>\n",
       "      <th>31092</th>\n",
       "      <td>0.085422</td>\n",
       "      <td>0.110814</td>\n",
       "      <td>0.732263</td>\n",
       "      <td>[0.296, 0.028, 0.014, 0.178, 0.389, 0.072, 0.024]</td>\n",
       "    </tr>\n",
       "  </tbody>\n",
       "</table>\n",
       "</div>"
      ]
     },
     "execution_count": 24,
     "metadata": {},
     "output_type": "execute_result"
    }
   ],
   "execution_count": 24
  },
  {
   "cell_type": "code",
   "metadata": {
    "ExecuteTime": {
     "end_time": "2024-05-29T15:52:21.721195Z",
     "start_time": "2024-05-29T15:52:21.707232Z"
    }
   },
   "source": [
    "sharpe_risk_df[['LEG1TREU','LEGATREH', 'LG30TREH','MXWOHEUR','NDDUWI', 'NCUDWI', 'NDUEEGF']] = pd.DataFrame(sharpe_risk_df.Weights.tolist(), index= sharpe_risk_df.index)\n",
    "sharpe_risk_df.drop(['Weights'], axis=1, inplace=True)"
   ],
   "outputs": [],
   "execution_count": 25
  },
  {
   "cell_type": "code",
   "metadata": {
    "ExecuteTime": {
     "end_time": "2024-05-29T15:52:21.752111Z",
     "start_time": "2024-05-29T15:52:21.723190Z"
    }
   },
   "source": [
    "sharpe_risk_df.to_excel('tolerance_risk_sharpe.xlsx', sheet_name='Best Sharpes', index=False, startrow=0)"
   ],
   "outputs": [],
   "execution_count": 26
  },
  {
   "cell_type": "code",
   "metadata": {
    "ExecuteTime": {
     "end_time": "2024-05-29T15:52:21.813946Z",
     "start_time": "2024-05-29T15:52:21.755103Z"
    }
   },
   "source": [
    "print('Lowest risk')\n",
    "print(min_risk)\n",
    "print(list(returns))\n",
    "min_risk.to_excel('min_risk.xlsx', sheet_name='Lowest risk', startrow=0)\n",
    "\n",
    "print('')\n",
    "\n",
    "print('Highest return')\n",
    "print(highest_return)\n",
    "print(list(returns))\n",
    "highest_return.to_excel('high_ret.xlsx', sheet_name='Highest return', startrow=0)\n",
    "\n",
    "\n",
    "print('')\n",
    "      \n",
    "print('Highest Sharpe ratio')\n",
    "print(highest_sharpe)\n",
    "highest_sharpe.to_excel('high_sharpe.xlsx', sheet_name='Highest Sharpe ', startrow=0)\n",
    "print(list(returns))\n",
    "\n",
    "print('')\n"
   ],
   "outputs": [
    {
     "name": "stdout",
     "output_type": "stream",
     "text": [
      "Lowest risk\n",
      "Return                                             0.013368\n",
      "Risk                                               0.043042\n",
      "Sharpe                                             0.211208\n",
      "Weights    [0.471, 0.354, 0.021, 0.052, 0.02, 0.037, 0.045]\n",
      "Name: 5799, dtype: object\n",
      "['LEG1TREU', 'LEGATREH', 'LG30TREH', 'MXWOHEUR', 'NDDUWI', 'NCUDWI', 'NDUEEGF']\n",
      "\n",
      "Highest return\n",
      "Return                                             0.122301\n",
      "Risk                                               0.155261\n",
      "Sharpe                                             0.760168\n",
      "Weights    [0.023, 0.02, 0.032, 0.206, 0.542, 0.165, 0.011]\n",
      "Name: 19386, dtype: object\n",
      "['LEG1TREU', 'LEGATREH', 'LG30TREH', 'MXWOHEUR', 'NDDUWI', 'NCUDWI', 'NDUEEGF']\n",
      "\n",
      "Highest Sharpe ratio\n",
      "Return                                             0.122301\n",
      "Risk                                               0.155261\n",
      "Sharpe                                             0.760168\n",
      "Weights    [0.023, 0.02, 0.032, 0.206, 0.542, 0.165, 0.011]\n",
      "Name: 19386, dtype: object\n",
      "['LEG1TREU', 'LEGATREH', 'LG30TREH', 'MXWOHEUR', 'NDDUWI', 'NCUDWI', 'NDUEEGF']\n",
      "\n"
     ]
    }
   ],
   "execution_count": 27
  },
  {
   "cell_type": "code",
   "metadata": {
    "ExecuteTime": {
     "end_time": "2024-05-29T15:52:21.829904Z",
     "start_time": "2024-05-29T15:52:21.819929Z"
    }
   },
   "source": [
    "np.sum(means * weights)"
   ],
   "outputs": [
    {
     "data": {
      "text/plain": [
       "0.07589262125700631"
      ]
     },
     "execution_count": 28,
     "metadata": {},
     "output_type": "execute_result"
    }
   ],
   "execution_count": 28
  },
  {
   "cell_type": "code",
   "metadata": {
    "ExecuteTime": {
     "end_time": "2024-05-29T15:52:23.002772Z",
     "start_time": "2024-05-29T15:52:21.830901Z"
    }
   },
   "source": [
    "plt.figure(figsize = (10,5))\n",
    "plt.scatter(portfolio_risks, portfolio_returns, \n",
    "           c = (portfolio_returns - rf)/ portfolio_risks)\n",
    "plt.title('Portfolio optimization - Past returns', fontsize = 20)\n",
    "plt.xlabel('Volatility', fontsize = 18)\n",
    "plt.ylabel('Return', fontsize = 18)\n",
    "plt.xticks(fontsize = 15)\n",
    "plt.yticks(fontsize = 15)\n",
    "plt.colorbar(label = 'Sharpe ratio')\n",
    "plt.show()"
   ],
   "outputs": [
    {
     "data": {
      "text/plain": [
       "<Figure size 1000x500 with 2 Axes>"
      ],
      "image/png": "[encoded data removed]"
     },
     "metadata": {},
     "output_type": "display_data"
    }
   ],
   "execution_count": 29
  },
  {
   "cell_type": "markdown",
   "metadata": {},
   "source": [
    "## Ottimizzazione con rendimenti attesi"
   ]
  },
  {
   "cell_type": "markdown",
   "metadata": {},
   "source": [
    "### Creazione rendimenti attesi - Media di media e mediana delle previsioni a 1 anno del sondaggio - 31 dicembre  2023"
   ]
  },
  {
   "cell_type": "code",
   "metadata": {
    "ExecuteTime": {
     "end_time": "2024-05-29T15:52:23.017861Z",
     "start_time": "2024-05-29T15:52:23.004767Z"
    }
   },
   "source": [
    "d = {'LEG1TREU': 0.028, 'LEGATREH':0.04, 'LG30TREH': 0.068, 'MXWOHEUR':0.066,'NDDUWI':0.076,\n",
    "     'NCUDWI': 0.09, 'NDUEEGF': 0.081}\n",
    "means_exp = pd.Series(data=d, index=['LEG1TREU','LEGATREH', 'LG30TREH','MXWOHEUR','NDDUWI','NCUDWI','NDUEEGF'])\n",
    "means_exp"
   ],
   "outputs": [
    {
     "data": {
      "text/plain": [
       "LEG1TREU    0.028\n",
       "LEGATREH    0.040\n",
       "LG30TREH    0.068\n",
       "MXWOHEUR    0.066\n",
       "NDDUWI      0.076\n",
       "NCUDWI      0.090\n",
       "NDUEEGF     0.081\n",
       "dtype: float64"
      ]
     },
     "execution_count": 30,
     "metadata": {},
     "output_type": "execute_result"
    }
   ],
   "execution_count": 30
  },
  {
   "cell_type": "markdown",
   "metadata": {},
   "source": [
    "### Ottimizzazione"
   ]
  },
  {
   "cell_type": "code",
   "metadata": {
    "ExecuteTime": {
     "end_time": "2024-05-29T15:52:28.932636Z",
     "start_time": "2024-05-29T15:52:23.019806Z"
    }
   },
   "source": [
    "portfolio_returns = []\n",
    "portfolio_risks = []\n",
    "sharpe_ratios = []\n",
    "portfolio_weights = []\n",
    "rf_exp = 0.035\n",
    "target = 0.06\n",
    "\n",
    "for portfolio in range(number_of_portfolios):\n",
    "    weights = np.random.random_sample(len(returns.columns))\n",
    "    weights =np.round((weights / np.sum(weights)), 3)\n",
    "    portfolio_weights.append(weights)\n",
    "    annualized_return = np.sum(means_exp * weights)\n",
    "    portfolio_returns.append(annualized_return)\n",
    "    portfolio_variance = np.dot(weights.T, np.dot(mat_cov, weights))\n",
    "    portfolio_standard_deviation = np.sqrt(portfolio_variance)\n",
    "    portfolio_risks.append(portfolio_standard_deviation)\n",
    "    sharpe_ratio = (annualized_return - rf_exp) / portfolio_standard_deviation\n",
    "    sharpe_ratios.append(sharpe_ratio)"
   ],
   "outputs": [],
   "execution_count": 31
  },
  {
   "cell_type": "code",
   "metadata": {
    "ExecuteTime": {
     "end_time": "2024-05-29T15:52:28.962070Z",
     "start_time": "2024-05-29T15:52:28.938132Z"
    }
   },
   "source": [
    "portfolio_returns = np.array(portfolio_returns)\n",
    "portofolio_risks = np.array(portfolio_risks)\n",
    "sharpe_ratios = np.array(sharpe_ratios)"
   ],
   "outputs": [],
   "execution_count": 32
  },
  {
   "cell_type": "code",
   "metadata": {
    "ExecuteTime": {
     "end_time": "2024-05-29T15:52:30.257137Z",
     "start_time": "2024-05-29T15:52:28.964064Z"
    }
   },
   "source": [
    "#portfoglio metrics\n",
    "\n",
    "portfolio_metrics = [portfolio_returns, portfolio_risks, sharpe_ratios, portfolio_weights]\n",
    "portfolios_df = pd.DataFrame(portfolio_metrics).T\n",
    "portfolios_df.columns = ['Return', 'Risk', 'Sharpe', 'Weights']\n",
    "\n",
    "min_risk = portfolios_df.iloc[portfolios_df['Risk'].astype(float).idxmin()]\n",
    "highest_return = portfolios_df.iloc[portfolios_df['Return'].astype(float).idxmax()]\n",
    "highest_sharpe = portfolios_df.iloc[portfolios_df['Sharpe'].astype(float).idxmax()]\n",
    "#target_risk = portfolio_df.iloc[(df['Risk']-target).abs().argsort()[:2]]\n"
   ],
   "outputs": [],
   "execution_count": 33
  },
  {
   "cell_type": "code",
   "metadata": {
    "ExecuteTime": {
     "end_time": "2024-05-29T15:52:46.757960Z",
     "start_time": "2024-05-29T15:52:30.258132Z"
    }
   },
   "source": [
    "minr = float(input(\"Minima tolleranza al rischio: \"))\n",
    "\n",
    "maxr = float(input(\"Massima tolleranza al rischio: \"))"
   ],
   "outputs": [],
   "execution_count": 34
  },
  {
   "cell_type": "code",
   "metadata": {
    "ExecuteTime": {
     "end_time": "2024-05-29T15:52:46.789271Z",
     "start_time": "2024-05-29T15:52:46.759956Z"
    }
   },
   "source": [
    "risk_df_exp = portfolios_df.copy()\n",
    "risk_df_exp = risk_df_exp.drop(risk_df_exp[(risk_df_exp.Risk < minr) | (risk_df_exp.Risk > maxr)].index)"
   ],
   "outputs": [],
   "execution_count": 35
  },
  {
   "cell_type": "code",
   "metadata": {
    "ExecuteTime": {
     "end_time": "2024-05-29T15:52:46.805228Z",
     "start_time": "2024-05-29T15:52:46.790268Z"
    }
   },
   "source": [
    "rtn_risk_df_exp = risk_df_exp.sort_values(by = 'Return', ascending=False)"
   ],
   "outputs": [],
   "execution_count": 36
  },
  {
   "cell_type": "code",
   "metadata": {
    "ExecuteTime": {
     "end_time": "2024-05-29T15:52:46.836147Z",
     "start_time": "2024-05-29T15:52:46.807224Z"
    }
   },
   "source": [
    "rtn_risk_df_exp = rtn_risk_df_exp.head(10)\n",
    "rtn_risk_df_exp"
   ],
   "outputs": [
    {
     "data": {
      "text/plain": [
       "         Return      Risk    Sharpe  \\\n",
       "3445   0.051555  0.064397  0.257076   \n",
       "38161  0.051473  0.064426  0.255687   \n",
       "15241   0.05133  0.063035   0.25906   \n",
       "14144   0.05099  0.064875  0.246473   \n",
       "13698  0.050907  0.062557  0.254281   \n",
       "16459  0.050858  0.063416  0.250061   \n",
       "39890  0.050837  0.063631  0.248887   \n",
       "34063  0.050756  0.063044  0.249921   \n",
       "25951  0.050722  0.064577  0.243462   \n",
       "38795  0.050651  0.063084  0.248098   \n",
       "\n",
       "                                                 Weights  \n",
       "3445   [0.263, 0.287, 0.312, 0.016, 0.011, 0.068, 0.043]  \n",
       "38161    [0.309, 0.245, 0.22, 0.026, 0.007, 0.02, 0.173]  \n",
       "15241    [0.187, 0.358, 0.36, 0.012, 0.037, 0.005, 0.04]  \n",
       "14144    [0.261, 0.36, 0.076, 0.01, 0.108, 0.029, 0.156]  \n",
       "13698  [0.349, 0.196, 0.269, 0.016, 0.024, 0.033, 0.113]  \n",
       "16459    [0.303, 0.28, 0.215, 0.02, 0.033, 0.064, 0.086]  \n",
       "39890  [0.239, 0.313, 0.297, 0.046, 0.035, 0.007, 0.063]  \n",
       "34063   [0.252, 0.285, 0.35, 0.031, 0.052, 0.008, 0.022]  \n",
       "25951  [0.318, 0.269, 0.145, 0.052, 0.009, 0.026, 0.182]  \n",
       "38795   [0.278, 0.291, 0.256, 0.025, 0.052, 0.04, 0.057]  "
      ],
      "text/html": [
       "<div>\n",
       "<style scoped>\n",
       "    .dataframe tbody tr th:only-of-type {\n",
       "        vertical-align: middle;\n",
       "    }\n",
       "\n",
       "    .dataframe tbody tr th {\n",
       "        vertical-align: top;\n",
       "    }\n",
       "\n",
       "    .dataframe thead th {\n",
       "        text-align: right;\n",
       "    }\n",
       "</style>\n",
       "<table border=\"1\" class=\"dataframe\">\n",
       "  <thead>\n",
       "    <tr style=\"text-align: right;\">\n",
       "      <th></th>\n",
       "      <th>Return</th>\n",
       "      <th>Risk</th>\n",
       "      <th>Sharpe</th>\n",
       "      <th>Weights</th>\n",
       "    </tr>\n",
       "  </thead>\n",
       "  <tbody>\n",
       "    <tr>\n",
       "      <th>3445</th>\n",
       "      <td>0.051555</td>\n",
       "      <td>0.064397</td>\n",
       "      <td>0.257076</td>\n",
       "      <td>[0.263, 0.287, 0.312, 0.016, 0.011, 0.068, 0.043]</td>\n",
       "    </tr>\n",
       "    <tr>\n",
       "      <th>38161</th>\n",
       "      <td>0.051473</td>\n",
       "      <td>0.064426</td>\n",
       "      <td>0.255687</td>\n",
       "      <td>[0.309, 0.245, 0.22, 0.026, 0.007, 0.02, 0.173]</td>\n",
       "    </tr>\n",
       "    <tr>\n",
       "      <th>15241</th>\n",
       "      <td>0.05133</td>\n",
       "      <td>0.063035</td>\n",
       "      <td>0.25906</td>\n",
       "      <td>[0.187, 0.358, 0.36, 0.012, 0.037, 0.005, 0.04]</td>\n",
       "    </tr>\n",
       "    <tr>\n",
       "      <th>14144</th>\n",
       "      <td>0.05099</td>\n",
       "      <td>0.064875</td>\n",
       "      <td>0.246473</td>\n",
       "      <td>[0.261, 0.36, 0.076, 0.01, 0.108, 0.029, 0.156]</td>\n",
       "    </tr>\n",
       "    <tr>\n",
       "      <th>13698</th>\n",
       "      <td>0.050907</td>\n",
       "      <td>0.062557</td>\n",
       "      <td>0.254281</td>\n",
       "      <td>[0.349, 0.196, 0.269, 0.016, 0.024, 0.033, 0.113]</td>\n",
       "    </tr>\n",
       "    <tr>\n",
       "      <th>16459</th>\n",
       "      <td>0.050858</td>\n",
       "      <td>0.063416</td>\n",
       "      <td>0.250061</td>\n",
       "      <td>[0.303, 0.28, 0.215, 0.02, 0.033, 0.064, 0.086]</td>\n",
       "    </tr>\n",
       "    <tr>\n",
       "      <th>39890</th>\n",
       "      <td>0.050837</td>\n",
       "      <td>0.063631</td>\n",
       "      <td>0.248887</td>\n",
       "      <td>[0.239, 0.313, 0.297, 0.046, 0.035, 0.007, 0.063]</td>\n",
       "    </tr>\n",
       "    <tr>\n",
       "      <th>34063</th>\n",
       "      <td>0.050756</td>\n",
       "      <td>0.063044</td>\n",
       "      <td>0.249921</td>\n",
       "      <td>[0.252, 0.285, 0.35, 0.031, 0.052, 0.008, 0.022]</td>\n",
       "    </tr>\n",
       "    <tr>\n",
       "      <th>25951</th>\n",
       "      <td>0.050722</td>\n",
       "      <td>0.064577</td>\n",
       "      <td>0.243462</td>\n",
       "      <td>[0.318, 0.269, 0.145, 0.052, 0.009, 0.026, 0.182]</td>\n",
       "    </tr>\n",
       "    <tr>\n",
       "      <th>38795</th>\n",
       "      <td>0.050651</td>\n",
       "      <td>0.063084</td>\n",
       "      <td>0.248098</td>\n",
       "      <td>[0.278, 0.291, 0.256, 0.025, 0.052, 0.04, 0.057]</td>\n",
       "    </tr>\n",
       "  </tbody>\n",
       "</table>\n",
       "</div>"
      ]
     },
     "execution_count": 37,
     "metadata": {},
     "output_type": "execute_result"
    }
   ],
   "execution_count": 37
  },
  {
   "cell_type": "code",
   "metadata": {
    "ExecuteTime": {
     "end_time": "2024-05-29T15:52:46.851134Z",
     "start_time": "2024-05-29T15:52:46.838140Z"
    }
   },
   "source": [
    "rtn_risk_df_exp[['LEG1TREU','LEGATREH', 'LG30TREH', 'MXWOHEUR','NDDUWI', 'NCUDWI', 'NDUEEGF']] = pd.DataFrame(rtn_risk_df_exp.Weights.tolist(), index=rtn_risk_df_exp.index)\n",
    "rtn_risk_df_exp.drop(['Weights'], axis=1, inplace=True)"
   ],
   "outputs": [],
   "execution_count": 38
  },
  {
   "cell_type": "code",
   "metadata": {
    "ExecuteTime": {
     "end_time": "2024-05-29T15:52:46.881534Z",
     "start_time": "2024-05-29T15:52:46.853101Z"
    }
   },
   "source": [
    "rtn_risk_df_exp.to_excel('tolerance_risk_returns_exp.xlsx', sheet_name='Best Returns', index=False, startrow=0)"
   ],
   "outputs": [],
   "execution_count": 39
  },
  {
   "cell_type": "code",
   "metadata": {
    "ExecuteTime": {
     "end_time": "2024-05-29T15:52:46.896522Z",
     "start_time": "2024-05-29T15:52:46.883533Z"
    }
   },
   "source": [
    "sharpe_risk_df_exp = risk_df_exp.sort_values(by = 'Sharpe', ascending=False)"
   ],
   "outputs": [],
   "execution_count": 40
  },
  {
   "cell_type": "code",
   "metadata": {
    "ExecuteTime": {
     "end_time": "2024-05-29T15:52:46.912453Z",
     "start_time": "2024-05-29T15:52:46.898491Z"
    }
   },
   "source": [
    "sharpe_risk_df_exp = sharpe_risk_df_exp.head(10)\n",
    "sharpe_risk_df_exp"
   ],
   "outputs": [
    {
     "data": {
      "text/plain": [
       "         Return      Risk    Sharpe  \\\n",
       "15241   0.05133  0.063035   0.25906   \n",
       "3445   0.051555  0.064397  0.257076   \n",
       "38161  0.051473  0.064426  0.255687   \n",
       "13698  0.050907  0.062557  0.254281   \n",
       "16459  0.050858  0.063416  0.250061   \n",
       "34063  0.050756  0.063044  0.249921   \n",
       "39890  0.050837  0.063631  0.248887   \n",
       "38795  0.050651  0.063084  0.248098   \n",
       "14144   0.05099  0.064875  0.246473   \n",
       "10453  0.050468  0.063503  0.243577   \n",
       "\n",
       "                                                 Weights  \n",
       "15241    [0.187, 0.358, 0.36, 0.012, 0.037, 0.005, 0.04]  \n",
       "3445   [0.263, 0.287, 0.312, 0.016, 0.011, 0.068, 0.043]  \n",
       "38161    [0.309, 0.245, 0.22, 0.026, 0.007, 0.02, 0.173]  \n",
       "13698  [0.349, 0.196, 0.269, 0.016, 0.024, 0.033, 0.113]  \n",
       "16459    [0.303, 0.28, 0.215, 0.02, 0.033, 0.064, 0.086]  \n",
       "34063   [0.252, 0.285, 0.35, 0.031, 0.052, 0.008, 0.022]  \n",
       "39890  [0.239, 0.313, 0.297, 0.046, 0.035, 0.007, 0.063]  \n",
       "38795   [0.278, 0.291, 0.256, 0.025, 0.052, 0.04, 0.057]  \n",
       "14144    [0.261, 0.36, 0.076, 0.01, 0.108, 0.029, 0.156]  \n",
       "10453  [0.391, 0.159, 0.273, 0.023, 0.034, 0.086, 0.034]  "
      ],
      "text/html": [
       "<div>\n",
       "<style scoped>\n",
       "    .dataframe tbody tr th:only-of-type {\n",
       "        vertical-align: middle;\n",
       "    }\n",
       "\n",
       "    .dataframe tbody tr th {\n",
       "        vertical-align: top;\n",
       "    }\n",
       "\n",
       "    .dataframe thead th {\n",
       "        text-align: right;\n",
       "    }\n",
       "</style>\n",
       "<table border=\"1\" class=\"dataframe\">\n",
       "  <thead>\n",
       "    <tr style=\"text-align: right;\">\n",
       "      <th></th>\n",
       "      <th>Return</th>\n",
       "      <th>Risk</th>\n",
       "      <th>Sharpe</th>\n",
       "      <th>Weights</th>\n",
       "    </tr>\n",
       "  </thead>\n",
       "  <tbody>\n",
       "    <tr>\n",
       "      <th>15241</th>\n",
       "      <td>0.05133</td>\n",
       "      <td>0.063035</td>\n",
       "      <td>0.25906</td>\n",
       "      <td>[0.187, 0.358, 0.36, 0.012, 0.037, 0.005, 0.04]</td>\n",
       "    </tr>\n",
       "    <tr>\n",
       "      <th>3445</th>\n",
       "      <td>0.051555</td>\n",
       "      <td>0.064397</td>\n",
       "      <td>0.257076</td>\n",
       "      <td>[0.263, 0.287, 0.312, 0.016, 0.011, 0.068, 0.043]</td>\n",
       "    </tr>\n",
       "    <tr>\n",
       "      <th>38161</th>\n",
       "      <td>0.051473</td>\n",
       "      <td>0.064426</td>\n",
       "      <td>0.255687</td>\n",
       "      <td>[0.309, 0.245, 0.22, 0.026, 0.007, 0.02, 0.173]</td>\n",
       "    </tr>\n",
       "    <tr>\n",
       "      <th>13698</th>\n",
       "      <td>0.050907</td>\n",
       "      <td>0.062557</td>\n",
       "      <td>0.254281</td>\n",
       "      <td>[0.349, 0.196, 0.269, 0.016, 0.024, 0.033, 0.113]</td>\n",
       "    </tr>\n",
       "    <tr>\n",
       "      <th>16459</th>\n",
       "      <td>0.050858</td>\n",
       "      <td>0.063416</td>\n",
       "      <td>0.250061</td>\n",
       "      <td>[0.303, 0.28, 0.215, 0.02, 0.033, 0.064, 0.086]</td>\n",
       "    </tr>\n",
       "    <tr>\n",
       "      <th>34063</th>\n",
       "      <td>0.050756</td>\n",
       "      <td>0.063044</td>\n",
       "      <td>0.249921</td>\n",
       "      <td>[0.252, 0.285, 0.35, 0.031, 0.052, 0.008, 0.022]</td>\n",
       "    </tr>\n",
       "    <tr>\n",
       "      <th>39890</th>\n",
       "      <td>0.050837</td>\n",
       "      <td>0.063631</td>\n",
       "      <td>0.248887</td>\n",
       "      <td>[0.239, 0.313, 0.297, 0.046, 0.035, 0.007, 0.063]</td>\n",
       "    </tr>\n",
       "    <tr>\n",
       "      <th>38795</th>\n",
       "      <td>0.050651</td>\n",
       "      <td>0.063084</td>\n",
       "      <td>0.248098</td>\n",
       "      <td>[0.278, 0.291, 0.256, 0.025, 0.052, 0.04, 0.057]</td>\n",
       "    </tr>\n",
       "    <tr>\n",
       "      <th>14144</th>\n",
       "      <td>0.05099</td>\n",
       "      <td>0.064875</td>\n",
       "      <td>0.246473</td>\n",
       "      <td>[0.261, 0.36, 0.076, 0.01, 0.108, 0.029, 0.156]</td>\n",
       "    </tr>\n",
       "    <tr>\n",
       "      <th>10453</th>\n",
       "      <td>0.050468</td>\n",
       "      <td>0.063503</td>\n",
       "      <td>0.243577</td>\n",
       "      <td>[0.391, 0.159, 0.273, 0.023, 0.034, 0.086, 0.034]</td>\n",
       "    </tr>\n",
       "  </tbody>\n",
       "</table>\n",
       "</div>"
      ]
     },
     "execution_count": 41,
     "metadata": {},
     "output_type": "execute_result"
    }
   ],
   "execution_count": 41
  },
  {
   "cell_type": "code",
   "metadata": {
    "ExecuteTime": {
     "end_time": "2024-05-29T15:52:46.927412Z",
     "start_time": "2024-05-29T15:52:46.914448Z"
    }
   },
   "source": [
    "sharpe_risk_df_exp[['LEG1TREU','LEGATREH', 'LG30TREH', 'MXWOHEUR','NDDUWI', 'NCUDWI', 'NDUEEGF']] = pd.DataFrame(sharpe_risk_df_exp.Weights.tolist(), index= sharpe_risk_df_exp.index)\n",
    "sharpe_risk_df_exp.drop(['Weights'], axis=1, inplace=True)"
   ],
   "outputs": [],
   "execution_count": 42
  },
  {
   "cell_type": "code",
   "metadata": {
    "ExecuteTime": {
     "end_time": "2024-05-29T15:52:46.959327Z",
     "start_time": "2024-05-29T15:52:46.928409Z"
    }
   },
   "source": [
    "sharpe_risk_df_exp.to_excel('tolerance_risk_sharpe_exp.xlsx', sheet_name='Best Sharpes', index=False, startrow=0)"
   ],
   "outputs": [],
   "execution_count": 43
  },
  {
   "cell_type": "code",
   "metadata": {
    "ExecuteTime": {
     "end_time": "2024-05-29T15:52:47.005204Z",
     "start_time": "2024-05-29T15:52:46.961321Z"
    }
   },
   "source": [
    "print('Lowest risk')\n",
    "print(min_risk)\n",
    "print(list(returns))\n",
    "min_risk.to_excel('min_risk_exp.xlsx', sheet_name='Lowest risk', startrow=0)\n",
    "\n",
    "print('')\n",
    "\n",
    "print('Highest return')\n",
    "print(highest_return)\n",
    "print(list(returns))\n",
    "highest_return.to_excel('high_ret_exp.xlsx', sheet_name='Highest return', startrow=0)\n",
    "\n",
    "\n",
    "print('')\n",
    "      \n",
    "print('Highest Sharpe ratio')\n",
    "print(highest_sharpe)\n",
    "highest_sharpe.to_excel('high_sharpe_exp.xlsx', sheet_name='Highest Sharpe ', startrow=0)\n",
    "print(list(returns))\n",
    "\n",
    "print('')\n"
   ],
   "outputs": [
    {
     "name": "stdout",
     "output_type": "stream",
     "text": [
      "Lowest risk\n",
      "Return                                              0.043599\n",
      "Risk                                                0.046267\n",
      "Sharpe                                              0.185857\n",
      "Weights    [0.555, 0.174, 0.074, 0.003, 0.014, 0.034, 0.145]\n",
      "Name: 5659, dtype: object\n",
      "['LEG1TREU', 'LEGATREH', 'LG30TREH', 'MXWOHEUR', 'NDDUWI', 'NCUDWI', 'NDUEEGF']\n",
      "\n",
      "Highest return\n",
      "Return                                             0.080235\n",
      "Risk                                               0.158854\n",
      "Sharpe                                             0.284759\n",
      "Weights    [0.01, 0.004, 0.003, 0.148, 0.178, 0.333, 0.325]\n",
      "Name: 19056, dtype: object\n",
      "['LEG1TREU', 'LEGATREH', 'LG30TREH', 'MXWOHEUR', 'NDDUWI', 'NCUDWI', 'NDUEEGF']\n",
      "\n",
      "Highest Sharpe ratio\n",
      "Return                                            0.069954\n",
      "Risk                                              0.109217\n",
      "Sharpe                                            0.320041\n",
      "Weights    [0.012, 0.054, 0.589, 0.011, 0.145, 0.03, 0.16]\n",
      "Name: 25952, dtype: object\n",
      "['LEG1TREU', 'LEGATREH', 'LG30TREH', 'MXWOHEUR', 'NDDUWI', 'NCUDWI', 'NDUEEGF']\n",
      "\n"
     ]
    }
   ],
   "execution_count": 44
  },
  {
   "cell_type": "code",
   "metadata": {
    "ExecuteTime": {
     "end_time": "2024-05-29T15:52:47.958975Z",
     "start_time": "2024-05-29T15:52:47.006202Z"
    }
   },
   "source": [
    "plt.figure(figsize = (10,5))\n",
    "plt.scatter(portfolio_risks, portfolio_returns, \n",
    "           c = (portfolio_returns - rf)/ portfolio_risks)\n",
    "plt.title('Portfolio optimization - Expected returns', fontsize = 20)\n",
    "plt.xlabel('Volatility', fontsize = 18)\n",
    "plt.ylabel('Return', fontsize = 18)\n",
    "plt.xticks(fontsize = 15)\n",
    "plt.yticks(fontsize = 15)\n",
    "plt.colorbar(label = 'Sharpe ratio')\n",
    "plt.show()"
   ],
   "outputs": [
    {
     "data": {
      "text/plain": [
       "<Figure size 1000x500 with 2 Axes>"
      ],
      "image/png": "[encoded data removed]"
     },
     "metadata": {},
     "output_type": "display_data"
    }
   ],
   "execution_count": 45
  },
  {
   "cell_type": "code",
   "metadata": {
    "ExecuteTime": {
     "end_time": "2024-05-29T15:52:47.973936Z",
     "start_time": "2024-05-29T15:52:47.960971Z"
    }
   },
   "source": [
    "rf"
   ],
   "outputs": [
    {
     "data": {
      "text/plain": [
       "0.004276919806061063"
      ]
     },
     "execution_count": 46,
     "metadata": {},
     "output_type": "execute_result"
    }
   ],
   "execution_count": 46
  },
  {
   "cell_type": "code",
   "metadata": {
    "ExecuteTime": {
     "end_time": "2024-05-29T15:52:47.989893Z",
     "start_time": "2024-05-29T15:52:47.975931Z"
    }
   },
   "source": [
    "rf_exp"
   ],
   "outputs": [
    {
     "data": {
      "text/plain": [
       "0.035"
      ]
     },
     "execution_count": 47,
     "metadata": {},
     "output_type": "execute_result"
    }
   ],
   "execution_count": 47
  }
 ],
 "metadata": {
  "kernelspec": {
   "display_name": "Python 3 (ipykernel)",
   "language": "python",
   "name": "python3"
  },
  "language_info": {
   "codemirror_mode": {
    "name": "ipython",
    "version": 3
   },
   "file_extension": ".py",
   "mimetype": "text/x-python",
   "name": "python",
   "nbconvert_exporter": "python",
   "pygments_lexer": "ipython3",
   "version": "3.11.7"
  }
 },
 "nbformat": 4,
 "nbformat_minor": 4
}
