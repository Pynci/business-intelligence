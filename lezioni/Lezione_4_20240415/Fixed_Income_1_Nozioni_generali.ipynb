{
 "cells": [
  {
   "cell_type": "code",
   "id": "956766cd",
   "metadata": {
    "ExecuteTime": {
     "end_time": "2024-05-03T09:04:52.836986Z",
     "start_time": "2024-05-03T09:04:50.963319Z"
    }
   },
   "source": [
    "%matplotlib inline\n",
    "import matplotlib.pyplot as plt\n",
    "import numpy as np\n"
   ],
   "outputs": [],
   "execution_count": 1
  },
  {
   "metadata": {},
   "cell_type": "markdown",
   "source": [
    "# Obbligazioni (titoli a reddito fisso)\n",
    "\n",
    "In questo file vengono trattate le obbligazioni a tasso di rendimento fisso."
   ],
   "id": "a800838927a18aab"
  },
  {
   "cell_type": "markdown",
   "id": "d9d52792",
   "metadata": {},
   "source": [
    "### Valore futuro"
   ]
  },
  {
   "cell_type": "code",
   "id": "5a0aec12",
   "metadata": {
    "ExecuteTime": {
     "end_time": "2024-05-03T09:04:52.852947Z",
     "start_time": "2024-05-03T09:04:52.838008Z"
    }
   },
   "source": [
    "# pv = principal, somma investita inizialmente\n",
    "# r = tasso di interesse annuo\n",
    "# n = numero di anni\n",
    "# viene applicata la formula per calcolare il valore futuro di un'obbligazione soggetta ad interesse composto e pagamento annuo\n",
    "def fv_f(pv,r,n):\n",
    "    return pv*(1+r)**n\n",
    "fv=fv_f(100,0.04,10)\n",
    "print(fv)"
   ],
   "outputs": [
    {
     "name": "stdout",
     "output_type": "stream",
     "text": [
      "148.02442849183444\n"
     ]
    }
   ],
   "execution_count": 2
  },
  {
   "cell_type": "markdown",
   "id": "bce09e2c",
   "metadata": {},
   "source": [
    "### Valore attuale"
   ]
  },
  {
   "cell_type": "code",
   "id": "1dcbf234",
   "metadata": {
    "ExecuteTime": {
     "end_time": "2024-05-03T09:04:52.868926Z",
     "start_time": "2024-05-03T09:04:52.853941Z"
    }
   },
   "source": [
    "# viene applicata la formula del discounted cash flow model senza dividendi (quindi senza la parte con la sommatoria)\n",
    "def pv_f(fv,r,n):\n",
    "    \"\"\"Objective: estimate present value\n",
    "              fv: fture value\n",
    "              r : discount period rate\n",
    "              n : number of periods\n",
    "        formula : fv/(1+r)**n      \n",
    "           e.g.,\n",
    "           >>>pv_f(100,0.1,1)\n",
    "           90.9090909090909\n",
    "           >>>pv_f(r=0.1,fv=100,n=1)\n",
    "           90.9090909090909\n",
    "           >>>pv_f(n=1,fv=100,r=0.1)\n",
    "           90.9090909090909\n",
    "    \"\"\"\n",
    "    return fv/(1+r)**n"
   ],
   "outputs": [],
   "execution_count": 3
  },
  {
   "cell_type": "code",
   "id": "7aceaa3c",
   "metadata": {
    "ExecuteTime": {
     "end_time": "2024-05-03T09:04:52.884859Z",
     "start_time": "2024-05-03T09:04:52.870896Z"
    }
   },
   "source": [
    "pv_f(100, 0.02, 10)"
   ],
   "outputs": [
    {
     "data": {
      "text/plain": [
       "82.03482998751551"
      ]
     },
     "execution_count": 4,
     "metadata": {},
     "output_type": "execute_result"
    }
   ],
   "execution_count": 4
  },
  {
   "cell_type": "markdown",
   "id": "d1a6261c",
   "metadata": {},
   "source": [
    "### Cash flows\n",
    "\n",
    "Creiamo un array che rappresenta una serie di flussi di cassa: in questo caso stiamo facendo riferimento all'investimento precedente, con somma iniziale 100."
   ]
  },
  {
   "cell_type": "code",
   "id": "0d749e55",
   "metadata": {
    "ExecuteTime": {
     "end_time": "2024-05-03T09:04:52.900380Z",
     "start_time": "2024-05-03T09:04:52.885858Z"
    }
   },
   "source": [
    "cashFlows=np.array([-100,50,40,30])\n",
    "for cash in cashFlows:\n",
    "    print(cash)"
   ],
   "outputs": [
    {
     "name": "stdout",
     "output_type": "stream",
     "text": [
      "-100\n",
      "50\n",
      "40\n",
      "30\n"
     ]
    }
   ],
   "execution_count": 5
  },
  {
   "cell_type": "markdown",
   "id": "7c12ce68",
   "metadata": {},
   "source": [
    "### Valore attuale netto (NPV) di una serie di flussi di cassa\n",
    "\n",
    "Consideriamo la serie dei flussi di cassa generati dall'investimento. <br>\n",
    "Per ciascun flusso di cassa viene calcolato il suo valore presente utilizzando il tasso di sconto indicato (più un flusso di cassa è lontano nel tempo, minore è il suo valore oggi); tutti i valori attualizzati dei flussi di cassa vengono poi sommati per restituire l'attuale valore dell'investimento."
   ]
  },
  {
   "cell_type": "code",
   "id": "6e16d17a",
   "metadata": {
    "ExecuteTime": {
     "end_time": "2024-05-03T09:04:52.916360Z",
     "start_time": "2024-05-03T09:04:52.902376Z"
    }
   },
   "source": [
    "def npv_f(rate, cashflows):\n",
    "    total = 0.0\n",
    "    for i in range(0,len(cashflows)):\n",
    "        total += cashflows[i] / (1 + rate)**i\n",
    "        #print(total)\n",
    "    return total"
   ],
   "outputs": [],
   "execution_count": 6
  },
  {
   "cell_type": "code",
   "id": "5976250a",
   "metadata": {
    "ExecuteTime": {
     "end_time": "2024-05-03T09:04:52.931324Z",
     "start_time": "2024-05-03T09:04:52.917335Z"
    }
   },
   "source": "round(npv_f(0.106517, cashFlows),3) # con questo tasso di sconto le entrate attese attualizzate corrispondono alle uscite attese attualizzate (somma 0)",
   "outputs": [
    {
     "data": {
      "text/plain": [
       "-0.0"
      ]
     },
     "execution_count": 7,
     "metadata": {},
     "output_type": "execute_result"
    }
   ],
   "execution_count": 7
  },
  {
   "cell_type": "markdown",
   "id": "5d936b58",
   "metadata": {},
   "source": [
    "### Ricerca del tasso interno di rendimento (IRR) con un ciclo while\n",
    "\n",
    "Il tasso interno di rendimento è quel tasso di sconto che permette di eguagliare i flussi di cassa attesi (attualizzati) in uscita e i flussi di cassa attesi (attualizzati) in entrata. <br>\n",
    "__PER CAPIRE__: se si calcola il valore attuale netto (formula precedente) con il tasso interno di rendimento, allora si ottiene 0 <br>\n",
    "__NB__: un investimento che ha tasso interno di rendimento maggiore del tasso di rendimento minimo desiderato è redditizio, altrimenti no.\n"
   ]
  },
  {
   "cell_type": "code",
   "id": "bbb2eee0",
   "metadata": {
    "ExecuteTime": {
     "end_time": "2024-05-03T09:04:54.114092Z",
     "start_time": "2024-05-03T09:04:52.933293Z"
    }
   },
   "source": [
    "cashFlows=(-100,50,40,30)\n",
    "r=0\n",
    "while(r<1.0):\n",
    "    r+=0.000001\n",
    "    npv=npv_f(r,cashFlows)\n",
    "    if(abs(npv)<=0.0001):\n",
    "        print(round(r, 6))"
   ],
   "outputs": [
    {
     "name": "stdout",
     "output_type": "stream",
     "text": [
      "0.106517\n"
     ]
    }
   ],
   "execution_count": 8
  },
  {
   "cell_type": "code",
   "id": "f47b7524",
   "metadata": {
    "ExecuteTime": {
     "end_time": "2024-05-03T09:04:54.253797Z",
     "start_time": "2024-05-03T09:04:54.114965Z"
    }
   },
   "source": [
    "cashFlows=(-100,50,40,30)\n",
    "r=0\n",
    "npv = 100\n",
    "while (abs(npv)>=0.0001):\n",
    "    r+=0.000001\n",
    "    npv=npv_f(r,cashFlows)\n",
    "\n",
    "print(round(r, 6))"
   ],
   "outputs": [
    {
     "name": "stdout",
     "output_type": "stream",
     "text": [
      "0.106517\n"
     ]
    }
   ],
   "execution_count": 9
  },
  {
   "cell_type": "code",
   "id": "ef2b7987",
   "metadata": {
    "ExecuteTime": {
     "end_time": "2024-05-03T09:04:55.630440Z",
     "start_time": "2024-05-03T09:04:54.256790Z"
    }
   },
   "source": [
    "#problemi con i segni dei flussi di cassa TODO: chiedere che minchia significa\n",
    "\n",
    "cashFlows=(550,-500,-500,-500,1000)\n",
    "r=0\n",
    "while(r<1.0):\n",
    "    r+=0.000001\n",
    "    npv=npv_f(r,cashFlows)\n",
    "    if(abs(npv)<=0.0001):\n",
    "        print(round(r, 6))\n"
   ],
   "outputs": [
    {
     "name": "stdout",
     "output_type": "stream",
     "text": [
      "0.071639\n",
      "0.336733\n"
     ]
    }
   ],
   "execution_count": 10
  },
  {
   "cell_type": "markdown",
   "id": "f90af75a",
   "metadata": {},
   "source": [
    "### Tasso d'interesse e frequenza di capitalizzazione"
   ]
  },
  {
   "cell_type": "code",
   "id": "2c29eef7",
   "metadata": {
    "ExecuteTime": {
     "end_time": "2024-05-03T09:04:55.646456Z",
     "start_time": "2024-05-03T09:04:55.631439Z"
    }
   },
   "source": [
    "f = [1, 2, 4, 12, 52, 365] # frequenza dei pagamenti\n",
    "r = 0.10 # tasso di interesse\n",
    "tassi = []\n",
    "\n",
    "for i in f:\n",
    "    tasso = (1+r/i)**i - 1\n",
    "    tassi.append(tasso)\n",
    "\n",
    "for i in tassi:\n",
    "    print(round(i, 5))\n",
    "\n",
    "print(round(np.exp(r)-1, 5))"
   ],
   "outputs": [
    {
     "name": "stdout",
     "output_type": "stream",
     "text": [
      "0.1\n",
      "0.1025\n",
      "0.10381\n",
      "0.10471\n",
      "0.10506\n",
      "0.10516\n",
      "0.10517\n"
     ]
    }
   ],
   "execution_count": 11
  },
  {
   "metadata": {},
   "cell_type": "markdown",
   "source": "__PER CAPIRE__: aumentando la frequenza di pagamento annuale, il tasso di interesse effettivo aumenta! Questo è dovuto alla meccanica dell'interesse composto.",
   "id": "90f588e13dadd280"
  },
  {
   "cell_type": "markdown",
   "id": "8ecba9f6",
   "metadata": {},
   "source": [
    "### Relazione prezzo / rendimento in un'obbligazione"
   ]
  },
  {
   "cell_type": "markdown",
   "id": "8723c3d5",
   "metadata": {},
   "source": [
    "https://sites.google.com/view/vinegarhill-financelabs/fixed-income-analysis/bond-pricing"
   ]
  },
  {
   "cell_type": "code",
   "id": "fbbedc2e",
   "metadata": {
    "ExecuteTime": {
     "end_time": "2024-05-03T09:04:55.864252Z",
     "start_time": "2024-05-03T09:04:55.649449Z"
    }
   },
   "source": [
    "#plt.style.use('seaborn-whitegrid')\n",
    "\n",
    "fig = plt.figure()\n",
    "ax = plt.axes()\n",
    "\n",
    "m = 2 # numero di pagamenti annui\n",
    "T = 10 # anni di scadenza\n",
    "r = 0.015 # tasso di sconto\n",
    "Face = 100 # principal, somma investita inizialmente\n",
    "cpr = 0.015\n",
    "\n",
    "# bond_price = ((Face*cpr/m*(1-(1+r/m)**(-m*T)))/(r/m)) + Face*(1+(r/m))**(-m*T)\n",
    "# print(bond_price)\n",
    "\n",
    "def bond_price(m,T,r,Face,cpr):\n",
    "\n",
    "  return ((Face*cpr/m*(1-(1+r/m)**(-m*T)))/(r/m)) + Face*(1+(r/m))**(-m*T)\n",
    "\n",
    "fig = plt.figure()\n",
    "\n",
    "x = np.linspace(0.01, 0.08, 20)\n",
    "\n",
    "ax.plot(x, bond_price(m,T,x,Face,cpr));\n",
    "\n",
    "#bond_price(m,T,x,Face,cpr), x\n"
   ],
   "outputs": [
    {
     "data": {
      "text/plain": [
       "<Figure size 640x480 with 1 Axes>"
      ],
      "image/png": "[encoded data removed]"
     },
     "metadata": {},
     "output_type": "display_data"
    },
    {
     "data": {
      "text/plain": [
       "<Figure size 640x480 with 0 Axes>"
      ]
     },
     "metadata": {},
     "output_type": "display_data"
    }
   ],
   "execution_count": 12
  },
  {
   "metadata": {},
   "cell_type": "markdown",
   "source": "__PER CAPIRE__: all'aumentare del tasso di sconto, il valore dell'obbligazione diminuisce (se aumenta il tasso di sconto, il ritorno che l'obbligazione deve generare per essere vantaggioso aumenta",
   "id": "ed8e3c5c6274b233"
  },
  {
   "cell_type": "markdown",
   "id": "7ec63690",
   "metadata": {},
   "source": [
    "### Bond pricing con le classi\n",
    "https://www.youtube.com/watch?v=R6bPKC9ftfY&list=PL62XBUmklIEXKhzCBiQGaJMzRqPMRWgKI\n"
   ]
  },
  {
   "cell_type": "markdown",
   "id": "d43d4c8f",
   "metadata": {},
   "source": [
    "Prezzo di un zero coupon bond (ZCB) con valore facciale F, durata t al tasso di rendimento r"
   ]
  },
  {
   "cell_type": "markdown",
   "id": "bfa0d09e",
   "metadata": {},
   "source": [
    "$ P(0,t) = F e^{-rt} $"
   ]
  },
  {
   "cell_type": "markdown",
   "id": "da4d604a",
   "metadata": {},
   "source": [
    "Tasso di rendimento di uno ZCB dato un valore di rimborso, il prezzo e la scadenza"
   ]
  },
  {
   "cell_type": "markdown",
   "id": "4e6b7b49",
   "metadata": {},
   "source": [
    "Se si hanno due prezzi in date diverse (t e t+delta) si può calcolare il rendimento annualizzato dell'investimento nello ZCB"
   ]
  },
  {
   "cell_type": "markdown",
   "id": "46e634fa",
   "metadata": {},
   "source": [
    "$ r_{t \\rightarrow t+\\delta} = 1/\\delta\\cdot \\log(P_{t+\\delta}/ P_t) \\approx 1/\\delta(P_{t+\\delta} / P_t -1)$"
   ]
  },
  {
   "cell_type": "code",
   "id": "8067ad9a",
   "metadata": {
    "ExecuteTime": {
     "end_time": "2024-05-03T09:04:55.880236Z",
     "start_time": "2024-05-03T09:04:55.865249Z"
    }
   },
   "source": "from numpy import log, exp",
   "outputs": [],
   "execution_count": 13
  },
  {
   "cell_type": "code",
   "id": "af6490d5",
   "metadata": {
    "ExecuteTime": {
     "end_time": "2024-05-03T09:04:55.896166Z",
     "start_time": "2024-05-03T09:04:55.881207Z"
    }
   },
   "source": [
    "bond1_price = 99.1338\n",
    "bond2_price = 97.8925\n",
    "bond3_price = 96.1531"
   ],
   "outputs": [],
   "execution_count": 14
  },
  {
   "cell_type": "code",
   "id": "9cff15a9",
   "metadata": {
    "ExecuteTime": {
     "end_time": "2024-05-03T09:04:55.912123Z",
     "start_time": "2024-05-03T09:04:55.897164Z"
    }
   },
   "source": [
    "bond1_mat = 0.5\n",
    "bond2_mat = 1.0\n",
    "bond3_mat = 1.5"
   ],
   "outputs": [],
   "execution_count": 15
  },
  {
   "cell_type": "code",
   "id": "fe1ceebd",
   "metadata": {
    "ExecuteTime": {
     "end_time": "2024-05-03T09:04:55.928081Z",
     "start_time": "2024-05-03T09:04:55.914117Z"
    }
   },
   "source": [
    "bond1_face = 100.\n",
    "bond2_face = 100.\n",
    "bond3_face = 100."
   ],
   "outputs": [],
   "execution_count": 16
  },
  {
   "cell_type": "code",
   "id": "0cd8d126",
   "metadata": {
    "ExecuteTime": {
     "end_time": "2024-05-03T09:04:55.943041Z",
     "start_time": "2024-05-03T09:04:55.929079Z"
    }
   },
   "source": [
    "bond1_ytm = log(bond1_face/bond1_price)/bond1_mat\n",
    "bond2_ytm = log(bond2_face/bond2_price)/bond2_mat\n",
    "bond3_ytm = log(bond3_face/bond3_price)/bond3_mat"
   ],
   "outputs": [],
   "execution_count": 17
  },
  {
   "cell_type": "code",
   "id": "a208ee4d",
   "metadata": {
    "ExecuteTime": {
     "end_time": "2024-05-03T09:04:55.958002Z",
     "start_time": "2024-05-03T09:04:55.945037Z"
    }
   },
   "source": [
    "print(round(bond1_ytm, 5))\n",
    "print(round(bond2_ytm, 5))\n",
    "print(round(bond3_ytm, 5))"
   ],
   "outputs": [
    {
     "name": "stdout",
     "output_type": "stream",
     "text": [
      "0.0174\n",
      "0.0213\n",
      "0.02615\n"
     ]
    }
   ],
   "execution_count": 18
  },
  {
   "cell_type": "markdown",
   "id": "9af6219c",
   "metadata": {},
   "source": [
    "Cosa sono i tassi a termine (forward rates)\n",
    "Si  immagina che un rendimenti su una data scadenza T possa essere scomposto in un rendimento da 0 a una data intermedia alpha e da questa a T\n",
    "\n",
    "$ r_{0 \\rightarrow T} \\cdot T = r_{0 \\rightarrow \\alpha} \\cdot \\alpha + r_{\\alpha \\rightarrow T} \\cdot (T - \\alpha).$\n",
    "\n",
    "\n",
    "$ r_{\\alpha \\rightarrow T} = r_{0 \\rightarrow T} \\cdot T/ (T - \\alpha) - r_{0 \\rightarrow \\alpha} \\cdot \\alpha / (T - \\alpha) $\n"
   ]
  },
  {
   "cell_type": "code",
   "id": "138a2276",
   "metadata": {
    "ExecuteTime": {
     "end_time": "2024-05-03T09:04:55.972962Z",
     "start_time": "2024-05-03T09:04:55.959996Z"
    }
   },
   "source": [
    "bond1_fwd = log(bond1_face/bond1_price)/bond1_mat\n",
    "bond2_fwd = log(bond1_price/bond2_price)/(bond2_mat - bond1_mat)\n",
    "bond3_fwd = log(bond2_price/bond3_price)/(bond3_mat - bond2_mat)"
   ],
   "outputs": [],
   "execution_count": 19
  },
  {
   "cell_type": "code",
   "id": "c677e006",
   "metadata": {
    "ExecuteTime": {
     "end_time": "2024-05-03T09:04:55.987948Z",
     "start_time": "2024-05-03T09:04:55.973959Z"
    }
   },
   "source": [
    "print(round(bond1_fwd, 5))\n",
    "print(round(bond2_fwd, 5))\n",
    "print(round(bond3_fwd, 5))"
   ],
   "outputs": [
    {
     "name": "stdout",
     "output_type": "stream",
     "text": [
      "0.0174\n",
      "0.0252\n",
      "0.03586\n"
     ]
    }
   ],
   "execution_count": 20
  },
  {
   "cell_type": "markdown",
   "id": "523b3a78",
   "metadata": {},
   "source": [
    "$ r_{fwd, t \\rightarrow \\delta} = 1/\\delta \\cdot \\log[P(0,t)/P(0,t+\\delta)] .$"
   ]
  },
  {
   "cell_type": "markdown",
   "id": "0a14b1f2",
   "metadata": {},
   "source": [
    "Costruiamo una   classe per fare le stesse cose"
   ]
  },
  {
   "cell_type": "code",
   "id": "06766909",
   "metadata": {
    "ExecuteTime": {
     "end_time": "2024-05-03T09:04:56.003898Z",
     "start_time": "2024-05-03T09:04:55.988917Z"
    }
   },
   "source": [
    "class Bond:\n",
    "    def __init__(self, face, maturity, price):\n",
    "        self.face  = face\n",
    "        self.maturity = maturity\n",
    "        self.price = price\n",
    "        self.ytm = log(face/price)/maturity\n",
    "    def bond_value(self, face, maturity, ytm):\n",
    "        return face*exp(-maturity*ytm)\n",
    "\n",
    "bond1 = Bond(100., .5, 99.1338)\n",
    "bond2 = Bond(100., 1., 97.8925)\n",
    "bond3 = Bond(100., 1.5, 96.1531)\n"
   ],
   "outputs": [],
   "execution_count": 21
  },
  {
   "cell_type": "code",
   "id": "ea8bb8ec",
   "metadata": {
    "ExecuteTime": {
     "end_time": "2024-05-03T09:04:56.019835Z",
     "start_time": "2024-05-03T09:04:56.004876Z"
    }
   },
   "source": [
    "print(bond1.ytm)"
   ],
   "outputs": [
    {
     "name": "stdout",
     "output_type": "stream",
     "text": [
      "0.017399466353064774\n"
     ]
    }
   ],
   "execution_count": 22
  },
  {
   "cell_type": "code",
   "id": "eea916c8",
   "metadata": {
    "ExecuteTime": {
     "end_time": "2024-05-03T09:04:56.034796Z",
     "start_time": "2024-05-03T09:04:56.021830Z"
    }
   },
   "source": [
    "print(bond1.bond_value(bond1.face, bond1.maturity, bond1.ytm).round(4))\n",
    "print(bond2.bond_value(bond1.face, bond2.maturity, bond2.ytm).round(4))\n",
    "print(bond3.bond_value(bond3.face, bond1.maturity, bond1.ytm).round(4))"
   ],
   "outputs": [
    {
     "name": "stdout",
     "output_type": "stream",
     "text": [
      "99.1338\n",
      "97.8925\n",
      "99.1338\n"
     ]
    }
   ],
   "execution_count": 23
  },
  {
   "cell_type": "markdown",
   "id": "db449516",
   "metadata": {},
   "source": [
    "### La curva dei rendimenti"
   ]
  },
  {
   "cell_type": "code",
   "id": "0ccb3c8b",
   "metadata": {
    "ExecuteTime": {
     "end_time": "2024-05-03T09:04:56.049755Z",
     "start_time": "2024-05-03T09:04:56.035794Z"
    }
   },
   "source": [
    "import math as m\n",
    "import matplotlib.pyplot as plt"
   ],
   "outputs": [],
   "execution_count": 24
  },
  {
   "cell_type": "code",
   "id": "7591e6e9",
   "metadata": {
    "ExecuteTime": {
     "end_time": "2024-05-03T09:04:56.065713Z",
     "start_time": "2024-05-03T09:04:56.050754Z"
    }
   },
   "source": [
    "class Zero:\n",
    "    def __init__(self,maturity):\n",
    "        self.maturity = maturity\n",
    "    def YTM(self, price):\n",
    "        return m.pow(100/price, 1/self.maturity) - 1\n",
    "    def Price(self, ytm):\n",
    "        return 100/m.pow(1 + ytm, self.maturity)"
   ],
   "outputs": [],
   "execution_count": 25
  },
  {
   "cell_type": "code",
   "id": "98535245",
   "metadata": {
    "ExecuteTime": {
     "end_time": "2024-05-03T09:04:56.081671Z",
     "start_time": "2024-05-03T09:04:56.067709Z"
    }
   },
   "source": [
    "maturities = [1, 2, 5, 10, 15, 30]"
   ],
   "outputs": [],
   "execution_count": 26
  },
  {
   "cell_type": "code",
   "id": "974fd27a",
   "metadata": {
    "ExecuteTime": {
     "end_time": "2024-05-03T09:04:56.097628Z",
     "start_time": "2024-05-03T09:04:56.083665Z"
    }
   },
   "source": [
    "yields = [0.012, 0.015, 0.0180, 0.025, 0.028, 0.0306]"
   ],
   "outputs": [],
   "execution_count": 27
  },
  {
   "cell_type": "code",
   "id": "05ebb511",
   "metadata": {
    "ExecuteTime": {
     "end_time": "2024-05-03T09:04:56.236763Z",
     "start_time": "2024-05-03T09:04:56.104608Z"
    }
   },
   "source": [
    "plt.plot(maturities, yields)\n",
    "plt.grid(True)\n",
    "plt.show()"
   ],
   "outputs": [
    {
     "data": {
      "text/plain": [
       "<Figure size 640x480 with 1 Axes>"
      ],
      "image/png": "[encoded data removed]"
     },
     "metadata": {},
     "output_type": "display_data"
    }
   ],
   "execution_count": 28
  },
  {
   "cell_type": "code",
   "id": "d5c8eca5",
   "metadata": {
    "ExecuteTime": {
     "end_time": "2024-05-03T09:04:56.251747Z",
     "start_time": "2024-05-03T09:04:56.237762Z"
    }
   },
   "source": [
    "bonds = [Zero(i) for i in maturities]\n",
    "bonds"
   ],
   "outputs": [
    {
     "data": {
      "text/plain": [
       "[<__main__.Zero at 0x18948c20670>,\n",
       " <__main__.Zero at 0x18948c20970>,\n",
       " <__main__.Zero at 0x18948c20d00>,\n",
       " <__main__.Zero at 0x18948c209a0>,\n",
       " <__main__.Zero at 0x18948c20d90>,\n",
       " <__main__.Zero at 0x18948c20ca0>]"
      ]
     },
     "execution_count": 29,
     "metadata": {},
     "output_type": "execute_result"
    }
   ],
   "execution_count": 29
  },
  {
   "cell_type": "code",
   "id": "463a251e",
   "metadata": {
    "ExecuteTime": {
     "end_time": "2024-05-03T09:04:56.266684Z",
     "start_time": "2024-05-03T09:04:56.252721Z"
    }
   },
   "source": [
    "prices = [bonds[i].Price(yields[i]) for i in range(0, len(bonds))]\n",
    "prices"
   ],
   "outputs": [
    {
     "data": {
      "text/plain": [
       "[98.81422924901186,\n",
       " 97.06617486471404,\n",
       " 91.46629971802828,\n",
       " 78.11984017257274,\n",
       " 66.08505870225574,\n",
       " 40.485159652524025]"
      ]
     },
     "execution_count": 30,
     "metadata": {},
     "output_type": "execute_result"
    }
   ],
   "execution_count": 30
  },
  {
   "cell_type": "markdown",
   "id": "673f5c53",
   "metadata": {},
   "source": [
    "Come eliminare un elemento da una lista"
   ]
  },
  {
   "cell_type": "code",
   "id": "3c4216dd",
   "metadata": {
    "ExecuteTime": {
     "end_time": "2024-05-03T09:04:56.281669Z",
     "start_time": "2024-05-03T09:04:56.268678Z"
    }
   },
   "source": [
    "maturities.pop(2)"
   ],
   "outputs": [
    {
     "data": {
      "text/plain": [
       "5"
      ]
     },
     "execution_count": 31,
     "metadata": {},
     "output_type": "execute_result"
    }
   ],
   "execution_count": 31
  },
  {
   "cell_type": "code",
   "id": "3d29508f",
   "metadata": {
    "ExecuteTime": {
     "end_time": "2024-05-03T09:04:56.297601Z",
     "start_time": "2024-05-03T09:04:56.283639Z"
    }
   },
   "source": [
    "maturities"
   ],
   "outputs": [
    {
     "data": {
      "text/plain": [
       "[1, 2, 10, 15, 30]"
      ]
     },
     "execution_count": 32,
     "metadata": {},
     "output_type": "execute_result"
    }
   ],
   "execution_count": 32
  },
  {
   "cell_type": "code",
   "id": "250dbde3",
   "metadata": {
    "ExecuteTime": {
     "end_time": "2024-05-03T09:04:56.313606Z",
     "start_time": "2024-05-03T09:04:56.298598Z"
    }
   },
   "source": [
    "marketYield = yields.pop(2)\n",
    "marketYield"
   ],
   "outputs": [
    {
     "data": {
      "text/plain": [
       "0.018"
      ]
     },
     "execution_count": 33,
     "metadata": {},
     "output_type": "execute_result"
    }
   ],
   "execution_count": 33
  },
  {
   "cell_type": "code",
   "id": "e010bcda",
   "metadata": {
    "ExecuteTime": {
     "end_time": "2024-05-03T09:04:56.329563Z",
     "start_time": "2024-05-03T09:04:56.314604Z"
    }
   },
   "source": [
    "yields"
   ],
   "outputs": [
    {
     "data": {
      "text/plain": [
       "[0.012, 0.015, 0.025, 0.028, 0.0306]"
      ]
     },
     "execution_count": 34,
     "metadata": {},
     "output_type": "execute_result"
    }
   ],
   "execution_count": 34
  },
  {
   "cell_type": "code",
   "id": "39e3e2aa",
   "metadata": {
    "ExecuteTime": {
     "end_time": "2024-05-03T09:04:56.345549Z",
     "start_time": "2024-05-03T09:04:56.330560Z"
    }
   },
   "source": [
    "marketPrice = prices.pop(2)\n",
    "marketPrice"
   ],
   "outputs": [
    {
     "data": {
      "text/plain": [
       "91.46629971802828"
      ]
     },
     "execution_count": 35,
     "metadata": {},
     "output_type": "execute_result"
    }
   ],
   "execution_count": 35
  },
  {
   "cell_type": "code",
   "id": "c11092ca",
   "metadata": {
    "ExecuteTime": {
     "end_time": "2024-05-03T09:04:56.361505Z",
     "start_time": "2024-05-03T09:04:56.346519Z"
    }
   },
   "source": [
    "prices"
   ],
   "outputs": [
    {
     "data": {
      "text/plain": [
       "[98.81422924901186,\n",
       " 97.06617486471404,\n",
       " 78.11984017257274,\n",
       " 66.08505870225574,\n",
       " 40.485159652524025]"
      ]
     },
     "execution_count": 36,
     "metadata": {},
     "output_type": "execute_result"
    }
   ],
   "execution_count": 36
  },
  {
   "cell_type": "markdown",
   "id": "217ff25f",
   "metadata": {},
   "source": [
    "Trovare un prezzo dove manca con l'interpolazione lineare"
   ]
  },
  {
   "cell_type": "code",
   "id": "d5a17603",
   "metadata": {
    "ExecuteTime": {
     "end_time": "2024-05-03T09:04:56.377436Z",
     "start_time": "2024-05-03T09:04:56.363474Z"
    }
   },
   "source": [
    "import numpy as np"
   ],
   "outputs": [],
   "execution_count": 37
  },
  {
   "cell_type": "code",
   "id": "0e6ea9a3",
   "metadata": {
    "ExecuteTime": {
     "end_time": "2024-05-03T09:04:56.393392Z",
     "start_time": "2024-05-03T09:04:56.378435Z"
    }
   },
   "source": [
    "interpolatedPrice = np.interp(10, maturities, prices)\n",
    "interpolatedPrice"
   ],
   "outputs": [
    {
     "data": {
      "text/plain": [
       "78.11984017257274"
      ]
     },
     "execution_count": 38,
     "metadata": {},
     "output_type": "execute_result"
    }
   ],
   "execution_count": 38
  },
  {
   "cell_type": "code",
   "id": "9921dbd2",
   "metadata": {
    "ExecuteTime": {
     "end_time": "2024-05-03T09:04:56.408352Z",
     "start_time": "2024-05-03T09:04:56.394390Z"
    }
   },
   "source": [
    "interpolatedYield = np.interp(10,maturities, yields)\n",
    "interpolatedYield"
   ],
   "outputs": [
    {
     "data": {
      "text/plain": [
       "0.025"
      ]
     },
     "execution_count": 39,
     "metadata": {},
     "output_type": "execute_result"
    }
   ],
   "execution_count": 39
  },
  {
   "cell_type": "markdown",
   "id": "9a403b87",
   "metadata": {},
   "source": [
    "Interpoliamo i rendimenti"
   ]
  },
  {
   "cell_type": "code",
   "id": "e1ae6938",
   "metadata": {
    "ExecuteTime": {
     "end_time": "2024-05-03T09:04:56.423312Z",
     "start_time": "2024-05-03T09:04:56.409350Z"
    }
   },
   "source": [
    "PriceFromInterpolatedYields = bonds[2].Price(interpolatedYield)\n",
    "PriceFromInterpolatedYields"
   ],
   "outputs": [
    {
     "data": {
      "text/plain": [
       "88.38542876095174"
      ]
     },
     "execution_count": 40,
     "metadata": {},
     "output_type": "execute_result"
    }
   ],
   "execution_count": 40
  },
  {
   "cell_type": "code",
   "id": "99ef1445",
   "metadata": {
    "ExecuteTime": {
     "end_time": "2024-05-03T09:04:56.565560Z",
     "start_time": "2024-05-03T09:04:56.424310Z"
    }
   },
   "source": [
    "plt.show()\n",
    "plt.plot(maturities,yields)"
   ],
   "outputs": [
    {
     "data": {
      "text/plain": [
       "[<matplotlib.lines.Line2D at 0x1894692d5a0>]"
      ]
     },
     "execution_count": 41,
     "metadata": {},
     "output_type": "execute_result"
    },
    {
     "data": {
      "text/plain": [
       "<Figure size 640x480 with 1 Axes>"
      ],
      "image/png": "[encoded data removed]"
     },
     "metadata": {},
     "output_type": "display_data"
    }
   ],
   "execution_count": 41
  },
  {
   "cell_type": "code",
   "id": "c068cf4f",
   "metadata": {
    "ExecuteTime": {
     "end_time": "2024-05-03T09:04:56.581516Z",
     "start_time": "2024-05-03T09:04:56.567529Z"
    }
   },
   "source": [
    "maturities = [2,5,10,30]\n",
    "yields = [0.0249, 0.0246, 0.0266, 0.0306]"
   ],
   "outputs": [],
   "execution_count": 42
  },
  {
   "cell_type": "code",
   "id": "2e81e93c",
   "metadata": {
    "ExecuteTime": {
     "end_time": "2024-05-03T09:04:56.690201Z",
     "start_time": "2024-05-03T09:04:56.582490Z"
    }
   },
   "source": [
    "plt.plot(maturities, yields)\n",
    "plt.show();"
   ],
   "outputs": [
    {
     "data": {
      "text/plain": [
       "<Figure size 640x480 with 1 Axes>"
      ],
      "image/png": "[encoded data removed]"
     },
     "metadata": {},
     "output_type": "display_data"
    }
   ],
   "execution_count": 43
  },
  {
   "cell_type": "markdown",
   "id": "4af6fd2a",
   "metadata": {},
   "source": [
    "### Duration"
   ]
  },
  {
   "cell_type": "code",
   "id": "996e4cad",
   "metadata": {
    "ExecuteTime": {
     "end_time": "2024-05-03T09:04:56.706159Z",
     "start_time": "2024-05-03T09:04:56.692236Z"
    }
   },
   "source": [
    "\n",
    "r = 0.02\n",
    "CashFlows = [-100, 2, 2, 2, 2, 2, 2, 2, 2, 102]\n",
    "Years = list(range(0,len(CashFlows)))"
   ],
   "outputs": [],
   "execution_count": 44
  },
  {
   "cell_type": "code",
   "id": "7995d588",
   "metadata": {
    "ExecuteTime": {
     "end_time": "2024-05-03T09:04:56.721141Z",
     "start_time": "2024-05-03T09:04:56.708152Z"
    }
   },
   "source": [
    "Years"
   ],
   "outputs": [
    {
     "data": {
      "text/plain": [
       "[0, 1, 2, 3, 4, 5, 6, 7, 8, 9]"
      ]
     },
     "execution_count": 45,
     "metadata": {},
     "output_type": "execute_result"
    }
   ],
   "execution_count": 45
  },
  {
   "cell_type": "code",
   "id": "98f6d459",
   "metadata": {
    "ExecuteTime": {
     "end_time": "2024-05-03T09:04:56.737076Z",
     "start_time": "2024-05-03T09:04:56.722139Z"
    }
   },
   "source": [
    "PVT = []\n",
    "NPV = []\n",
    "for i in Years:\n",
    "    pay = CashFlows[i]*i/(1+r)**i\n",
    "    npv = CashFlows[i]/(1+r)**i\n",
    "    PVT.append(pay)\n",
    "    NPV.append(npv)\n",
    "duration = sum(PVT)/sum(NPV[1:])"
   ],
   "outputs": [],
   "execution_count": 46
  },
  {
   "cell_type": "code",
   "id": "d52d80d2",
   "metadata": {
    "ExecuteTime": {
     "end_time": "2024-05-03T09:04:56.752035Z",
     "start_time": "2024-05-03T09:04:56.739070Z"
    }
   },
   "source": [
    "PVT"
   ],
   "outputs": [
    {
     "data": {
      "text/plain": [
       "[0.0,\n",
       " 1.9607843137254901,\n",
       " 3.8446751249519417,\n",
       " 5.653934007282266,\n",
       " 7.390763408212114,\n",
       " 9.057308098299158,\n",
       " 10.655656586234304,\n",
       " 12.187842500594792,\n",
       " 13.655845939041782,\n",
       " 768.1413340711003]"
      ]
     },
     "execution_count": 47,
     "metadata": {},
     "output_type": "execute_result"
    }
   ],
   "execution_count": 47
  },
  {
   "cell_type": "code",
   "id": "69d0a1fe",
   "metadata": {
    "ExecuteTime": {
     "end_time": "2024-05-03T09:04:56.766996Z",
     "start_time": "2024-05-03T09:04:56.754030Z"
    }
   },
   "source": [
    "NPV"
   ],
   "outputs": [
    {
     "data": {
      "text/plain": [
       "[-100.0,\n",
       " 1.9607843137254901,\n",
       " 1.9223375624759709,\n",
       " 1.8846446690940888,\n",
       " 1.8476908520530284,\n",
       " 1.8114616196598319,\n",
       " 1.775942764372384,\n",
       " 1.7411203572278275,\n",
       " 1.7069807423802228,\n",
       " 85.34903711901114]"
      ]
     },
     "execution_count": 48,
     "metadata": {},
     "output_type": "execute_result"
    }
   ],
   "execution_count": 48
  },
  {
   "cell_type": "code",
   "id": "9acb6835",
   "metadata": {
    "ExecuteTime": {
     "end_time": "2024-05-03T09:04:56.782953Z",
     "start_time": "2024-05-03T09:04:56.767993Z"
    }
   },
   "source": [
    "duration"
   ],
   "outputs": [
    {
     "data": {
      "text/plain": [
       "8.325481440494423"
      ]
     },
     "execution_count": 49,
     "metadata": {},
     "output_type": "execute_result"
    }
   ],
   "execution_count": 49
  },
  {
   "cell_type": "code",
   "id": "633679bb",
   "metadata": {
    "ExecuteTime": {
     "end_time": "2024-05-03T09:04:56.798959Z",
     "start_time": "2024-05-03T09:04:56.783951Z"
    }
   },
   "source": [
    "round(sum(NPV[1:]),5)"
   ],
   "outputs": [
    {
     "data": {
      "text/plain": [
       "100.0"
      ]
     },
     "execution_count": 50,
     "metadata": {},
     "output_type": "execute_result"
    }
   ],
   "execution_count": 50
  },
  {
   "cell_type": "code",
   "id": "bddac821",
   "metadata": {
    "ExecuteTime": {
     "end_time": "2024-05-03T09:04:56.830874Z",
     "start_time": "2024-05-03T09:04:56.800956Z"
    }
   },
   "source": [
    "c = 5\n",
    "d = 10\n",
    "p = 100\n",
    "nv = 100\n",
    "CashFlows = np.repeat(c, d+1)\n",
    "CashFlows"
   ],
   "outputs": [
    {
     "data": {
      "text/plain": [
       "array([5, 5, 5, 5, 5, 5, 5, 5, 5, 5, 5])"
      ]
     },
     "execution_count": 51,
     "metadata": {},
     "output_type": "execute_result"
    }
   ],
   "execution_count": 51
  },
  {
   "cell_type": "code",
   "id": "c224e87b",
   "metadata": {
    "ExecuteTime": {
     "end_time": "2024-05-03T09:04:56.846831Z",
     "start_time": "2024-05-03T09:04:56.832870Z"
    }
   },
   "source": [
    "CashFlows[0] = -p\n",
    "CashFlows"
   ],
   "outputs": [
    {
     "data": {
      "text/plain": [
       "array([-100,    5,    5,    5,    5,    5,    5,    5,    5,    5,    5])"
      ]
     },
     "execution_count": 52,
     "metadata": {},
     "output_type": "execute_result"
    }
   ],
   "execution_count": 52
  },
  {
   "cell_type": "code",
   "id": "b40b233b",
   "metadata": {
    "ExecuteTime": {
     "end_time": "2024-05-03T09:04:56.862789Z",
     "start_time": "2024-05-03T09:04:56.847829Z"
    }
   },
   "source": [
    "CashFlows[-1] = CashFlows[-1] + nv"
   ],
   "outputs": [],
   "execution_count": 53
  },
  {
   "cell_type": "code",
   "id": "c555c950",
   "metadata": {
    "ExecuteTime": {
     "end_time": "2024-05-03T09:04:56.878748Z",
     "start_time": "2024-05-03T09:04:56.863787Z"
    }
   },
   "source": [
    "CashFlows"
   ],
   "outputs": [
    {
     "data": {
      "text/plain": [
       "array([-100,    5,    5,    5,    5,    5,    5,    5,    5,    5,  105])"
      ]
     },
     "execution_count": 54,
     "metadata": {},
     "output_type": "execute_result"
    }
   ],
   "execution_count": 54
  },
  {
   "cell_type": "code",
   "id": "718f44f8",
   "metadata": {
    "ExecuteTime": {
     "end_time": "2024-05-03T09:04:56.893708Z",
     "start_time": "2024-05-03T09:04:56.879745Z"
    }
   },
   "source": [
    "len(CashFlows)"
   ],
   "outputs": [
    {
     "data": {
      "text/plain": [
       "11"
      ]
     },
     "execution_count": 55,
     "metadata": {},
     "output_type": "execute_result"
    }
   ],
   "execution_count": 55
  },
  {
   "cell_type": "code",
   "id": "fb1b1c57",
   "metadata": {
    "ExecuteTime": {
     "end_time": "2024-05-03T09:04:56.909690Z",
     "start_time": "2024-05-03T09:04:56.894705Z"
    }
   },
   "source": [
    "def duration(p, nv, c, d, r):\n",
    "    CashFlows = np.repeat(c, d+1)\n",
    "    CashFlows[0] = -p\n",
    "    CashFlows[-1] = CashFlows[-1] + nv\n",
    "    PVT = []\n",
    "    NPV = []\n",
    "    for d in range(len(CashFlows)):\n",
    "        pay = CashFlows[d]*d/(1+r)**d\n",
    "        #print(pay)\n",
    "        npv = CashFlows[d]/(1+r)**d\n",
    "        #print(npv)\n",
    "        PVT.append(pay)\n",
    "        NPV.append(npv)\n",
    "    duration = sum(PVT)/sum(NPV[1:])\n",
    "    return duration#, PVT, NPV\n",
    "        "
   ],
   "outputs": [],
   "execution_count": 56
  },
  {
   "cell_type": "markdown",
   "id": "f2b230cd",
   "metadata": {},
   "source": [
    "Calcolo della duration"
   ]
  },
  {
   "cell_type": "code",
   "id": "df91fe79",
   "metadata": {
    "ExecuteTime": {
     "end_time": "2024-05-03T09:04:56.925620Z",
     "start_time": "2024-05-03T09:04:56.910688Z"
    }
   },
   "source": [
    "duration(100, 100, 10, 10, 0.10)"
   ],
   "outputs": [
    {
     "data": {
      "text/plain": [
       "6.75902381627515"
      ]
     },
     "execution_count": 57,
     "metadata": {},
     "output_type": "execute_result"
    }
   ],
   "execution_count": 57
  },
  {
   "cell_type": "markdown",
   "id": "9ffc7515",
   "metadata": {},
   "source": [
    "duration di una rendita\n",
    "(1 + r) / r"
   ]
  },
  {
   "cell_type": "code",
   "id": "5aaacfaf",
   "metadata": {
    "ExecuteTime": {
     "end_time": "2024-05-03T09:04:56.940580Z",
     "start_time": "2024-05-03T09:04:56.927616Z"
    }
   },
   "source": [
    "duration(100, 100, 5, 10, 0.05)"
   ],
   "outputs": [
    {
     "data": {
      "text/plain": [
       "8.107821675644052"
      ]
     },
     "execution_count": 58,
     "metadata": {},
     "output_type": "execute_result"
    }
   ],
   "execution_count": 58
  },
  {
   "cell_type": "markdown",
   "id": "a989a604",
   "metadata": {},
   "source": [
    "duration di uno zero coupon T"
   ]
  },
  {
   "cell_type": "code",
   "id": "44244761",
   "metadata": {
    "ExecuteTime": {
     "end_time": "2024-05-03T09:04:56.956562Z",
     "start_time": "2024-05-03T09:04:56.941578Z"
    }
   },
   "source": [
    "duration(14.86, 100, 0, 10, 0.1)"
   ],
   "outputs": [
    {
     "data": {
      "text/plain": [
       "10.0"
      ]
     },
     "execution_count": 59,
     "metadata": {},
     "output_type": "execute_result"
    }
   ],
   "execution_count": 59
  },
  {
   "metadata": {},
   "cell_type": "markdown",
   "source": "https://www.milanofinanza.it/news/formazione-bond-guida-basi-mercato-obbligazionario-202310142302455329",
   "id": "2e6e42744b9dc4ab"
  }
 ],
 "metadata": {
  "kernelspec": {
   "display_name": "Python 3 (ipykernel)",
   "language": "python",
   "name": "python3"
  },
  "language_info": {
   "codemirror_mode": {
    "name": "ipython",
    "version": 3
   },
   "file_extension": ".py",
   "mimetype": "text/x-python",
   "name": "python",
   "nbconvert_exporter": "python",
   "pygments_lexer": "ipython3",
   "version": "3.11.7"
  }
 },
 "nbformat": 4,
 "nbformat_minor": 5
}
