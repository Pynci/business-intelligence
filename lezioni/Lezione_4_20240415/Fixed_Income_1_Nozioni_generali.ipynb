{
 "cells": [
  {
   "cell_type": "code",
   "execution_count": 1,
   "id": "956766cd",
   "metadata": {},
   "outputs": [],
   "source": [
    "%matplotlib inline\n",
    "\n",
    "import matplotlib.pyplot as plt\n",
    "import math\n",
    "import numpy as np\n"
   ]
  },
  {
   "cell_type": "markdown",
   "id": "d9d52792",
   "metadata": {},
   "source": [
    "### Valore futuro"
   ]
  },
  {
   "cell_type": "code",
   "execution_count": 2,
   "id": "5a0aec12",
   "metadata": {},
   "outputs": [
    {
     "name": "stdout",
     "output_type": "stream",
     "text": [
      "148.02442849183444\n"
     ]
    }
   ],
   "source": [
    "def fv_f(pv,r,n):\n",
    "    return pv*(1+r)**n\n",
    "#\n",
    "fv=fv_f(100,0.04,10)\n",
    "print(fv)"
   ]
  },
  {
   "cell_type": "markdown",
   "id": "bce09e2c",
   "metadata": {},
   "source": [
    "### Valore attuale"
   ]
  },
  {
   "cell_type": "code",
   "execution_count": 3,
   "id": "1dcbf234",
   "metadata": {},
   "outputs": [],
   "source": [
    "def pv_f(fv,r,n):\n",
    "    \"\"\"Objective: estimate present value\n",
    "              fv: fture value\n",
    "              r : discount period rate\n",
    "              n : number of periods\n",
    "        formula : fv/(1+r)**n      \n",
    "           e.g.,\n",
    "           >>>pv_f(100,0.1,1)\n",
    "           90.9090909090909\n",
    "           >>>pv_f(r=0.1,fv=100,n=1)\n",
    "           90.9090909090909\n",
    "           >>>pv_f(n=1,fv=100,r=0.1)\n",
    "           90.9090909090909\n",
    "    \"\"\"\n",
    "    return fv/(1+r)**n"
   ]
  },
  {
   "cell_type": "code",
   "execution_count": 7,
   "id": "7aceaa3c",
   "metadata": {},
   "outputs": [
    {
     "data": {
      "text/plain": [
       "82.03482998751551"
      ]
     },
     "execution_count": 7,
     "metadata": {},
     "output_type": "execute_result"
    }
   ],
   "source": [
    "pv_f(100, 0.02, 10)"
   ]
  },
  {
   "cell_type": "markdown",
   "id": "d1a6261c",
   "metadata": {},
   "source": [
    "### Cash flows"
   ]
  },
  {
   "cell_type": "code",
   "execution_count": 8,
   "id": "0d749e55",
   "metadata": {},
   "outputs": [
    {
     "name": "stdout",
     "output_type": "stream",
     "text": [
      "-100\n",
      "50\n",
      "40\n",
      "30\n"
     ]
    }
   ],
   "source": [
    "cashFlows=np.array([-100,50,40,30])\n",
    "for cash in cashFlows:\n",
    "    print(cash)"
   ]
  },
  {
   "cell_type": "markdown",
   "id": "7c12ce68",
   "metadata": {},
   "source": [
    "### NPV di una serie di flussi di cassa"
   ]
  },
  {
   "cell_type": "code",
   "execution_count": 9,
   "id": "6e16d17a",
   "metadata": {},
   "outputs": [],
   "source": [
    "def npv_f(rate, cashflows):\n",
    "    total = 0.0\n",
    "    for i in range(0,len(cashflows)):\n",
    "        total += cashflows[i] / (1 + rate)**i\n",
    "        #print(total)\n",
    "    return total"
   ]
  },
  {
   "cell_type": "code",
   "execution_count": 12,
   "id": "5976250a",
   "metadata": {},
   "outputs": [
    {
     "name": "stdout",
     "output_type": "stream",
     "text": [
      "-0.0\n"
     ]
    }
   ],
   "source": [
    "print(round(npv_f(0.106517, cashFlows),3))"
   ]
  },
  {
   "cell_type": "markdown",
   "id": "33bba768-94de-4973-ab6a-6afca243d885",
   "metadata": {},
   "source": [
    "0.106517"
   ]
  },
  {
   "cell_type": "markdown",
   "id": "5d936b58",
   "metadata": {},
   "source": [
    "### Ricerca del tasso interno di rendimento (IRR) con un ciclo while"
   ]
  },
  {
   "cell_type": "code",
   "execution_count": 13,
   "id": "1d658fc8",
   "metadata": {},
   "outputs": [
    {
     "name": "stdout",
     "output_type": "stream",
     "text": [
      "1\n",
      "2\n",
      "3\n",
      "4\n",
      "5\n",
      "6\n",
      "7\n",
      "8\n",
      "9\n"
     ]
    }
   ],
   "source": [
    "# cos'è un ciclo \"while\"\n",
    "i=1\n",
    "while(i<10):\n",
    "    print(i)\n",
    "    i+=1"
   ]
  },
  {
   "cell_type": "code",
   "execution_count": 14,
   "id": "bbb2eee0",
   "metadata": {},
   "outputs": [
    {
     "name": "stdout",
     "output_type": "stream",
     "text": [
      "0.106517\n"
     ]
    }
   ],
   "source": [
    "cashFlows=(-100,50,40,30)\n",
    "r=0\n",
    "while(r<1.0):\n",
    "    r+=0.000001\n",
    "    npv=npv_f(r,cashFlows)\n",
    "    if(abs(npv)<=0.0001):\n",
    "        print(round(r, 6))"
   ]
  },
  {
   "cell_type": "code",
   "execution_count": 15,
   "id": "f47b7524",
   "metadata": {},
   "outputs": [
    {
     "name": "stdout",
     "output_type": "stream",
     "text": [
      "0.106517\n"
     ]
    }
   ],
   "source": [
    "cashFlows=(-100,50,40,30)\n",
    "r=0\n",
    "npv = 100\n",
    "while (abs(npv)>=0.0001):\n",
    "    r+=0.000001\n",
    "    npv=npv_f(r,cashFlows)\n",
    "\n",
    "print(round(r, 6))"
   ]
  },
  {
   "cell_type": "code",
   "execution_count": 16,
   "id": "ef2b7987",
   "metadata": {},
   "outputs": [
    {
     "name": "stdout",
     "output_type": "stream",
     "text": [
      "0.07163900000005098\n",
      "0.33673299999790873\n"
     ]
    }
   ],
   "source": [
    "#problemi con i segni dei flussi di cassa\n",
    "cashFlows=(550,-500,-500,-500,1000)\n",
    "r=0\n",
    "while(r<1.0):\n",
    "    r+=0.000001\n",
    "    npv=npv_f(r,cashFlows)\n",
    "    if(abs(npv)<=0.0001):\n",
    "        print(r)\n"
   ]
  },
  {
   "cell_type": "markdown",
   "id": "f90af75a",
   "metadata": {},
   "source": [
    "### Tasso d'interesse e frequenza di capitalizzazione"
   ]
  },
  {
   "cell_type": "code",
   "execution_count": 17,
   "id": "2c29eef7",
   "metadata": {},
   "outputs": [
    {
     "name": "stdout",
     "output_type": "stream",
     "text": [
      "0.1\n",
      "0.1025\n",
      "0.10381\n",
      "0.10471\n",
      "0.10506\n",
      "0.10516\n",
      "0.10517\n"
     ]
    }
   ],
   "source": [
    "f = [1, 2, 4, 12, 52, 365]\n",
    "r = 0.10\n",
    "tassi = []\n",
    "\n",
    "for i in f:\n",
    "    tasso = (1+r/i)**i - 1\n",
    "    tassi.append(tasso)\n",
    "\n",
    "for i in tassi:\n",
    "    print(round(i, 5))\n",
    "\n",
    "print(round(np.exp(r)-1, 5))"
   ]
  },
  {
   "cell_type": "markdown",
   "id": "8ecba9f6",
   "metadata": {},
   "source": [
    "### Relazione prezzo / rendimento in un'obbligazione"
   ]
  },
  {
   "cell_type": "markdown",
   "id": "8723c3d5",
   "metadata": {},
   "source": [
    "https://sites.google.com/view/vinegarhill-financelabs/fixed-income-analysis/bond-pricing"
   ]
  },
  {
   "cell_type": "code",
   "execution_count": 19,
   "id": "fbbedc2e",
   "metadata": {},
   "outputs": [
    {
     "data": {
      "image/png": "[encoded data removed]",
      "text/plain": [
       "<Figure size 640x480 with 1 Axes>"
      ]
     },
     "metadata": {},
     "output_type": "display_data"
    },
    {
     "data": {
      "text/plain": [
       "<Figure size 640x480 with 0 Axes>"
      ]
     },
     "metadata": {},
     "output_type": "display_data"
    }
   ],
   "source": [
    "#plt.style.use('seaborn-whitegrid')\n",
    "\n",
    "fig = plt.figure()\n",
    "ax = plt.axes()\n",
    "\n",
    "m = 2\n",
    "T = 10\n",
    "r = 0.015\n",
    "Face = 100\n",
    "cpr = 0.015\n",
    "\n",
    "def bond_price(m,T,r,Face,cpr):\n",
    "\n",
    "  return ((Face*cpr/m*(1-(1+r/m)**(-m*T)))/(r/m)) + Face*(1+(r/m))**(-m*T)\n",
    "\n",
    "fig = plt.figure()\n",
    "\n",
    "x = np.linspace(0.01, 0.08, 20)\n",
    "\n",
    "ax.plot(x, bond_price(m,T,x,Face,cpr));\n",
    "\n",
    "#bond_price(m,T,x,Face,cpr), x\n"
   ]
  },
  {
   "cell_type": "markdown",
   "id": "7ec63690",
   "metadata": {},
   "source": [
    "### Bond pricing con le classi\n",
    "https://www.youtube.com/watch?v=R6bPKC9ftfY&list=PL62XBUmklIEXKhzCBiQGaJMzRqPMRWgKI\n"
   ]
  },
  {
   "cell_type": "markdown",
   "id": "d43d4c8f",
   "metadata": {},
   "source": [
    "Prezzo di un zero coupon bond (ZCB) con valore facciale F, durata t al tasso di rendimento r"
   ]
  },
  {
   "cell_type": "markdown",
   "id": "bfa0d09e",
   "metadata": {},
   "source": [
    "$ P(0,t) = F e^{-rt} $"
   ]
  },
  {
   "cell_type": "markdown",
   "id": "da4d604a",
   "metadata": {},
   "source": [
    "Tasso di rendimento di uno ZCB dato un valore di rimborso, il prezzo e la scadenza"
   ]
  },
  {
   "cell_type": "markdown",
   "id": "22f6eced",
   "metadata": {},
   "source": [
    "$ r = \\frac{1}{t}\\log(\\frac{F}{P(0,t}) $"
   ]
  },
  {
   "cell_type": "markdown",
   "id": "4e6b7b49",
   "metadata": {},
   "source": [
    "Se si hanno due prezzi in date diverse (t e t+delta) si può calcolare il rendimento annualizzato dell'investimento nello ZCB"
   ]
  },
  {
   "cell_type": "markdown",
   "id": "46e634fa",
   "metadata": {},
   "source": [
    "$ r_{t \\rightarrow t+\\delta} = 1/\\delta\\cdot \\log(P_{t+\\delta}/ P_t) \\approx 1/\\delta(P_{t+\\delta} / P_t -1)$"
   ]
  },
  {
   "cell_type": "code",
   "execution_count": 20,
   "id": "8067ad9a",
   "metadata": {},
   "outputs": [],
   "source": [
    "import numpy as  np\n",
    "from numpy import log, exp"
   ]
  },
  {
   "cell_type": "code",
   "execution_count": 21,
   "id": "af6490d5",
   "metadata": {},
   "outputs": [],
   "source": [
    "bond1_price = 99.1338\n",
    "bond2_price = 97.8925\n",
    "bond3_price = 96.1531"
   ]
  },
  {
   "cell_type": "code",
   "execution_count": 22,
   "id": "9cff15a9",
   "metadata": {},
   "outputs": [],
   "source": [
    "bond1_mat = 0.5\n",
    "bond2_mat = 1.0\n",
    "bond3_mat = 1.5"
   ]
  },
  {
   "cell_type": "code",
   "execution_count": 23,
   "id": "fe1ceebd",
   "metadata": {},
   "outputs": [],
   "source": [
    "bond1_face = 100.\n",
    "bond2_face = 100.\n",
    "bond3_face = 100."
   ]
  },
  {
   "cell_type": "code",
   "execution_count": 24,
   "id": "0cd8d126",
   "metadata": {},
   "outputs": [],
   "source": [
    "bond1_ytm = log(bond1_face/bond1_price)/bond1_mat\n",
    "bond2_ytm = log(bond2_face/bond2_price)/bond2_mat\n",
    "bond3_ytm = log(bond3_face/bond3_price)/bond3_mat"
   ]
  },
  {
   "cell_type": "code",
   "execution_count": 25,
   "id": "a208ee4d",
   "metadata": {},
   "outputs": [
    {
     "name": "stdout",
     "output_type": "stream",
     "text": [
      "0.0174\n",
      "0.0213\n",
      "0.02615\n"
     ]
    }
   ],
   "source": [
    "print(round(bond1_ytm, 5))\n",
    "print(round(bond2_ytm, 5))\n",
    "print(round(bond3_ytm, 5))"
   ]
  },
  {
   "cell_type": "markdown",
   "id": "9af6219c",
   "metadata": {},
   "source": [
    "Cosa sono i tassi a termine (forward rates)\n",
    "Si  immagina che un rendimenti su una data scadenza T possa essere scomposto in un rendimento da 0 a una data intermedia alpha e da questa a T\n",
    "\n",
    "$ r_{0 \\rightarrow T} \\cdot T = r_{0 \\rightarrow \\alpha} \\cdot \\alpha + r_{\\alpha \\rightarrow T} \\cdot (T - \\alpha).$\n",
    "\n",
    "\n",
    "$ r_{\\alpha \\rightarrow T} = r_{0 \\rightarrow T} \\cdot T/ (T - \\alpha) - r_{0 \\rightarrow \\alpha} \\cdot \\alpha / (T - \\alpha) $\n"
   ]
  },
  {
   "cell_type": "code",
   "execution_count": 26,
   "id": "138a2276",
   "metadata": {},
   "outputs": [],
   "source": [
    "bond1_fwd = log(bond1_face/bond1_price)/bond1_mat\n",
    "bond2_fwd = log(bond1_price/bond2_price)/(bond2_mat - bond1_mat)\n",
    "bond3_fwd = log(bond2_price/bond3_price)/(bond3_mat - bond2_mat)"
   ]
  },
  {
   "cell_type": "code",
   "execution_count": 27,
   "id": "c677e006",
   "metadata": {},
   "outputs": [
    {
     "name": "stdout",
     "output_type": "stream",
     "text": [
      "0.0174\n",
      "0.0252\n",
      "0.03586\n"
     ]
    }
   ],
   "source": [
    "print(round(bond1_fwd, 5))\n",
    "print(round(bond2_fwd, 5))\n",
    "print(round(bond3_fwd, 5))"
   ]
  },
  {
   "cell_type": "markdown",
   "id": "523b3a78",
   "metadata": {},
   "source": [
    "$ r_{fwd, t \\rightarrow \\delta} = 1/\\delta \\cdot \\log[P(0,t)/P(0,t+\\delta)] .$"
   ]
  },
  {
   "cell_type": "markdown",
   "id": "0a14b1f2",
   "metadata": {},
   "source": [
    "Costruiamo una   classe per fare le stesse cose"
   ]
  },
  {
   "cell_type": "code",
   "execution_count": 28,
   "id": "06766909",
   "metadata": {},
   "outputs": [],
   "source": [
    "class Bond:\n",
    "    def __init__(self, face, maturity, price):\n",
    "        self.face  = face\n",
    "        self.maturity = maturity\n",
    "        self.price = price\n",
    "        self.ytm = log(face/price)/maturity\n",
    "    def bond_value(self, face, maturity, ytm):\n",
    "        return face*exp(-maturity*ytm)\n",
    "\n",
    "bond1 = Bond(100., .5, 99.1338)\n",
    "bond2 = Bond(100., 1., 97.8925)\n",
    "bond3 = Bond(100., 1.5, 96.1531)\n"
   ]
  },
  {
   "cell_type": "code",
   "execution_count": 29,
   "id": "ea8bb8ec",
   "metadata": {},
   "outputs": [
    {
     "name": "stdout",
     "output_type": "stream",
     "text": [
      "0.017399466353064774\n"
     ]
    }
   ],
   "source": [
    "print(bond1.ytm)"
   ]
  },
  {
   "cell_type": "code",
   "execution_count": 30,
   "id": "eea916c8",
   "metadata": {},
   "outputs": [
    {
     "name": "stdout",
     "output_type": "stream",
     "text": [
      "99.1338\n",
      "97.8925\n",
      "99.1338\n"
     ]
    }
   ],
   "source": [
    "print(bond1.bond_value(bond1.face, bond1.maturity, bond1.ytm).round(4))\n",
    "print(bond2.bond_value(bond1.face, bond2.maturity, bond2.ytm).round(4))\n",
    "print(bond3.bond_value(bond3.face, bond1.maturity, bond1.ytm).round(4))"
   ]
  },
  {
   "cell_type": "markdown",
   "id": "db449516",
   "metadata": {},
   "source": [
    "### La curva dei rendimenti"
   ]
  },
  {
   "cell_type": "code",
   "execution_count": 31,
   "id": "0ccb3c8b",
   "metadata": {},
   "outputs": [],
   "source": [
    "import math as m\n",
    "import matplotlib.pyplot as plt"
   ]
  },
  {
   "cell_type": "code",
   "execution_count": 32,
   "id": "7591e6e9",
   "metadata": {},
   "outputs": [],
   "source": [
    "class Zero:\n",
    "    def __init__(self,maturity):\n",
    "        self.maturity = maturity\n",
    "    def YTM(self, price):\n",
    "        return m.pow(100/price, 1/self.maturity) - 1\n",
    "    def Price(self, ytm):\n",
    "        return 100/m.pow(1 + ytm, self.maturity)"
   ]
  },
  {
   "cell_type": "code",
   "execution_count": 33,
   "id": "98535245",
   "metadata": {},
   "outputs": [],
   "source": [
    "maturities = [1, 2, 5, 10, 15, 30]"
   ]
  },
  {
   "cell_type": "code",
   "execution_count": 34,
   "id": "974fd27a",
   "metadata": {},
   "outputs": [],
   "source": [
    "yields = [0.012, 0.015, 0.0180, 0.025, 0.028, 0.0306]"
   ]
  },
  {
   "cell_type": "code",
   "execution_count": 35,
   "id": "05ebb511",
   "metadata": {},
   "outputs": [
    {
     "data": {
      "image/png": "[encoded data removed]",
      "text/plain": [
       "<Figure size 640x480 with 1 Axes>"
      ]
     },
     "metadata": {},
     "output_type": "display_data"
    }
   ],
   "source": [
    "plt.plot(maturities, yields)\n",
    "plt.grid(True)\n",
    "plt.show()"
   ]
  },
  {
   "cell_type": "code",
   "execution_count": 36,
   "id": "d5c8eca5",
   "metadata": {},
   "outputs": [
    {
     "data": {
      "text/plain": [
       "[<__main__.Zero at 0x1787a96e490>,\n",
       " <__main__.Zero at 0x1787a8b2e50>,\n",
       " <__main__.Zero at 0x17800049dd0>,\n",
       " <__main__.Zero at 0x178000ab090>,\n",
       " <__main__.Zero at 0x178000aa850>,\n",
       " <__main__.Zero at 0x1787e20d790>]"
      ]
     },
     "execution_count": 36,
     "metadata": {},
     "output_type": "execute_result"
    }
   ],
   "source": [
    "bonds = [Zero(i) for i in maturities]\n",
    "bonds"
   ]
  },
  {
   "cell_type": "code",
   "execution_count": 38,
   "id": "463a251e",
   "metadata": {},
   "outputs": [
    {
     "data": {
      "text/plain": [
       "[98.81422924901186,\n",
       " 97.06617486471404,\n",
       " 91.46629971802828,\n",
       " 78.11984017257274,\n",
       " 66.08505870225574,\n",
       " 40.485159652524025]"
      ]
     },
     "execution_count": 38,
     "metadata": {},
     "output_type": "execute_result"
    }
   ],
   "source": [
    "prices = [bonds[i].Price(yields[i]) for i in range(0, len(bonds))]\n",
    "prices"
   ]
  },
  {
   "cell_type": "markdown",
   "id": "673f5c53",
   "metadata": {},
   "source": [
    "Come eliminare un elemento da una lista"
   ]
  },
  {
   "cell_type": "code",
   "execution_count": 39,
   "id": "3c4216dd",
   "metadata": {},
   "outputs": [
    {
     "data": {
      "text/plain": [
       "5"
      ]
     },
     "execution_count": 39,
     "metadata": {},
     "output_type": "execute_result"
    }
   ],
   "source": [
    "maturities.pop(2)"
   ]
  },
  {
   "cell_type": "code",
   "execution_count": 40,
   "id": "3d29508f",
   "metadata": {},
   "outputs": [
    {
     "data": {
      "text/plain": [
       "[1, 2, 10, 15, 30]"
      ]
     },
     "execution_count": 40,
     "metadata": {},
     "output_type": "execute_result"
    }
   ],
   "source": [
    "maturities"
   ]
  },
  {
   "cell_type": "code",
   "execution_count": 41,
   "id": "250dbde3",
   "metadata": {},
   "outputs": [
    {
     "data": {
      "text/plain": [
       "0.018"
      ]
     },
     "execution_count": 41,
     "metadata": {},
     "output_type": "execute_result"
    }
   ],
   "source": [
    "marketYield = yields.pop(2)\n",
    "marketYield"
   ]
  },
  {
   "cell_type": "code",
   "execution_count": 42,
   "id": "e010bcda",
   "metadata": {},
   "outputs": [
    {
     "data": {
      "text/plain": [
       "[0.012, 0.015, 0.025, 0.028, 0.0306]"
      ]
     },
     "execution_count": 42,
     "metadata": {},
     "output_type": "execute_result"
    }
   ],
   "source": [
    "yields"
   ]
  },
  {
   "cell_type": "code",
   "execution_count": 43,
   "id": "39e3e2aa",
   "metadata": {},
   "outputs": [
    {
     "data": {
      "text/plain": [
       "91.46629971802828"
      ]
     },
     "execution_count": 43,
     "metadata": {},
     "output_type": "execute_result"
    }
   ],
   "source": [
    "marketPrice = prices.pop(2)\n",
    "marketPrice"
   ]
  },
  {
   "cell_type": "code",
   "execution_count": 44,
   "id": "c11092ca",
   "metadata": {},
   "outputs": [
    {
     "data": {
      "text/plain": [
       "[98.81422924901186,\n",
       " 97.06617486471404,\n",
       " 78.11984017257274,\n",
       " 66.08505870225574,\n",
       " 40.485159652524025]"
      ]
     },
     "execution_count": 44,
     "metadata": {},
     "output_type": "execute_result"
    }
   ],
   "source": [
    "prices"
   ]
  },
  {
   "cell_type": "markdown",
   "id": "217ff25f",
   "metadata": {},
   "source": [
    "Trovare un prezzo dove manca con l'interpolazione lineare"
   ]
  },
  {
   "cell_type": "code",
   "execution_count": 45,
   "id": "d5a17603",
   "metadata": {},
   "outputs": [],
   "source": [
    "import numpy as np"
   ]
  },
  {
   "cell_type": "code",
   "execution_count": 46,
   "id": "0e6ea9a3",
   "metadata": {},
   "outputs": [
    {
     "data": {
      "text/plain": [
       "78.11984017257274"
      ]
     },
     "execution_count": 46,
     "metadata": {},
     "output_type": "execute_result"
    }
   ],
   "source": [
    "interpolatedPrice = np.interp(10, maturities, prices)\n",
    "interpolatedPrice"
   ]
  },
  {
   "cell_type": "code",
   "execution_count": 47,
   "id": "9921dbd2",
   "metadata": {},
   "outputs": [
    {
     "data": {
      "text/plain": [
       "0.025"
      ]
     },
     "execution_count": 47,
     "metadata": {},
     "output_type": "execute_result"
    }
   ],
   "source": [
    "interpolatedYield = np.interp(10,maturities, yields)\n",
    "interpolatedYield"
   ]
  },
  {
   "cell_type": "markdown",
   "id": "9a403b87",
   "metadata": {},
   "source": [
    "Interpoliamo i rendimenti"
   ]
  },
  {
   "cell_type": "code",
   "execution_count": 48,
   "id": "e1ae6938",
   "metadata": {},
   "outputs": [
    {
     "data": {
      "text/plain": [
       "88.38542876095174"
      ]
     },
     "execution_count": 48,
     "metadata": {},
     "output_type": "execute_result"
    }
   ],
   "source": [
    "PriceFromInterpolatedYields = bonds[2].Price(interpolatedYield)\n",
    "PriceFromInterpolatedYields"
   ]
  },
  {
   "cell_type": "code",
   "execution_count": 49,
   "id": "99ef1445",
   "metadata": {},
   "outputs": [
    {
     "data": {
      "text/plain": [
       "[<matplotlib.lines.Line2D at 0x178000b8890>]"
      ]
     },
     "execution_count": 49,
     "metadata": {},
     "output_type": "execute_result"
    },
    {
     "data": {
      "image/png": "[encoded data removed]",
      "text/plain": [
       "<Figure size 640x480 with 1 Axes>"
      ]
     },
     "metadata": {},
     "output_type": "display_data"
    }
   ],
   "source": [
    "plt.show()\n",
    "plt.plot(maturities,yields)"
   ]
  },
  {
   "cell_type": "code",
   "execution_count": 50,
   "id": "c068cf4f",
   "metadata": {},
   "outputs": [],
   "source": [
    "maturities = [2,5,10,30]\n",
    "yields = [0.0249, 0.0246, 0.0266, 0.0306]"
   ]
  },
  {
   "cell_type": "code",
   "execution_count": 51,
   "id": "2e81e93c",
   "metadata": {},
   "outputs": [
    {
     "data": {
      "image/png": "[encoded data removed]",
      "text/plain": [
       "<Figure size 640x480 with 1 Axes>"
      ]
     },
     "metadata": {},
     "output_type": "display_data"
    }
   ],
   "source": [
    "plt.plot(maturities, yields)\n",
    "plt.show();"
   ]
  },
  {
   "cell_type": "markdown",
   "id": "4af6fd2a",
   "metadata": {},
   "source": [
    "### Duration"
   ]
  },
  {
   "cell_type": "code",
   "execution_count": 52,
   "id": "996e4cad",
   "metadata": {},
   "outputs": [],
   "source": [
    "\n",
    "r = 0.02\n",
    "CashFlows = [-100, 2, 2, 2, 2, 2, 2, 2, 2, 102]\n",
    "Years = list(range(0,len(CashFlows)))"
   ]
  },
  {
   "cell_type": "code",
   "execution_count": 53,
   "id": "7995d588",
   "metadata": {},
   "outputs": [
    {
     "data": {
      "text/plain": [
       "[0, 1, 2, 3, 4, 5, 6, 7, 8, 9]"
      ]
     },
     "execution_count": 53,
     "metadata": {},
     "output_type": "execute_result"
    }
   ],
   "source": [
    "Years"
   ]
  },
  {
   "cell_type": "code",
   "execution_count": 54,
   "id": "98f6d459",
   "metadata": {},
   "outputs": [],
   "source": [
    "PVT = []\n",
    "NPV = []\n",
    "for i in Years:\n",
    "    pay = CashFlows[i]*i/(1+r)**i\n",
    "    npv = CashFlows[i]/(1+r)**i\n",
    "    PVT.append(pay)\n",
    "    NPV.append(npv)\n",
    "duration = sum(PVT)/sum(NPV[1:])"
   ]
  },
  {
   "cell_type": "code",
   "execution_count": 75,
   "id": "d52d80d2",
   "metadata": {},
   "outputs": [
    {
     "data": {
      "text/plain": [
       "[0.0,\n",
       " 1.9607843137254901,\n",
       " 3.8446751249519417,\n",
       " 5.653934007282266,\n",
       " 7.390763408212114,\n",
       " 9.057308098299158,\n",
       " 10.655656586234304,\n",
       " 12.187842500594792,\n",
       " 13.655845939041782,\n",
       " 768.1413340711003]"
      ]
     },
     "execution_count": 75,
     "metadata": {},
     "output_type": "execute_result"
    }
   ],
   "source": [
    "PVT"
   ]
  },
  {
   "cell_type": "code",
   "execution_count": 76,
   "id": "69d0a1fe",
   "metadata": {},
   "outputs": [
    {
     "data": {
      "text/plain": [
       "[-100.0,\n",
       " 1.9607843137254901,\n",
       " 1.9223375624759709,\n",
       " 1.8846446690940888,\n",
       " 1.8476908520530284,\n",
       " 1.8114616196598319,\n",
       " 1.775942764372384,\n",
       " 1.7411203572278275,\n",
       " 1.7069807423802228,\n",
       " 85.34903711901114]"
      ]
     },
     "execution_count": 76,
     "metadata": {},
     "output_type": "execute_result"
    }
   ],
   "source": [
    "NPV"
   ]
  },
  {
   "cell_type": "code",
   "execution_count": 77,
   "id": "9acb6835",
   "metadata": {},
   "outputs": [
    {
     "data": {
      "text/plain": [
       "8.325481440494423"
      ]
     },
     "execution_count": 77,
     "metadata": {},
     "output_type": "execute_result"
    }
   ],
   "source": [
    "duration"
   ]
  },
  {
   "cell_type": "code",
   "execution_count": 79,
   "id": "633679bb",
   "metadata": {},
   "outputs": [
    {
     "data": {
      "text/plain": [
       "100.0"
      ]
     },
     "execution_count": 79,
     "metadata": {},
     "output_type": "execute_result"
    }
   ],
   "source": [
    "round(sum(NPV[1:]),5)"
   ]
  },
  {
   "cell_type": "code",
   "execution_count": 80,
   "id": "bddac821",
   "metadata": {},
   "outputs": [
    {
     "data": {
      "text/plain": [
       "array([5, 5, 5, 5, 5, 5, 5, 5, 5, 5, 5])"
      ]
     },
     "execution_count": 80,
     "metadata": {},
     "output_type": "execute_result"
    }
   ],
   "source": [
    "c = 5\n",
    "d = 10\n",
    "p = 100\n",
    "nv = 100\n",
    "CashFlows = np.repeat(c, d+1)\n",
    "CashFlows"
   ]
  },
  {
   "cell_type": "code",
   "execution_count": 81,
   "id": "c224e87b",
   "metadata": {},
   "outputs": [
    {
     "data": {
      "text/plain": [
       "array([-100,    5,    5,    5,    5,    5,    5,    5,    5,    5,    5])"
      ]
     },
     "execution_count": 81,
     "metadata": {},
     "output_type": "execute_result"
    }
   ],
   "source": [
    "CashFlows[0] = -p\n",
    "CashFlows"
   ]
  },
  {
   "cell_type": "code",
   "execution_count": 82,
   "id": "b40b233b",
   "metadata": {},
   "outputs": [],
   "source": [
    "CashFlows[-1] = CashFlows[-1] + nv"
   ]
  },
  {
   "cell_type": "code",
   "execution_count": 83,
   "id": "c555c950",
   "metadata": {},
   "outputs": [
    {
     "data": {
      "text/plain": [
       "array([-100,    5,    5,    5,    5,    5,    5,    5,    5,    5,  105])"
      ]
     },
     "execution_count": 83,
     "metadata": {},
     "output_type": "execute_result"
    }
   ],
   "source": [
    "CashFlows"
   ]
  },
  {
   "cell_type": "code",
   "execution_count": 84,
   "id": "718f44f8",
   "metadata": {},
   "outputs": [
    {
     "data": {
      "text/plain": [
       "11"
      ]
     },
     "execution_count": 84,
     "metadata": {},
     "output_type": "execute_result"
    }
   ],
   "source": [
    "len(CashFlows)"
   ]
  },
  {
   "cell_type": "code",
   "execution_count": 55,
   "id": "fb1b1c57",
   "metadata": {},
   "outputs": [],
   "source": [
    "def duration(p, nv, c, d, r):\n",
    "    CashFlows = np.repeat(c, d+1)\n",
    "    CashFlows[0] = -p\n",
    "    CashFlows[-1] = CashFlows[-1] + nv\n",
    "    PVT = []\n",
    "    NPV = []\n",
    "    for d in range(len(CashFlows)):\n",
    "        pay = CashFlows[d]*d/(1+r)**d\n",
    "        #print(pay)\n",
    "        npv = CashFlows[d]/(1+r)**d\n",
    "        #print(npv)\n",
    "        PVT.append(pay)\n",
    "        NPV.append(npv)\n",
    "    duration = sum(PVT)/sum(NPV[1:])\n",
    "    return duration#, PVT, NPV\n",
    "        "
   ]
  },
  {
   "cell_type": "markdown",
   "id": "f2b230cd",
   "metadata": {},
   "source": [
    "Calcolo della duration"
   ]
  },
  {
   "cell_type": "code",
   "execution_count": 60,
   "id": "df91fe79",
   "metadata": {},
   "outputs": [
    {
     "data": {
      "text/plain": [
       "6.75902381627515"
      ]
     },
     "execution_count": 60,
     "metadata": {},
     "output_type": "execute_result"
    }
   ],
   "source": [
    "duration(100, 100, 10, 10, 0.10)"
   ]
  },
  {
   "cell_type": "markdown",
   "id": "9ffc7515",
   "metadata": {},
   "source": [
    "duration di una rendita\n",
    "(1 + r) / r"
   ]
  },
  {
   "cell_type": "code",
   "execution_count": 96,
   "id": "5aaacfaf",
   "metadata": {},
   "outputs": [
    {
     "data": {
      "text/plain": [
       "8.107821675644052"
      ]
     },
     "execution_count": 96,
     "metadata": {},
     "output_type": "execute_result"
    }
   ],
   "source": [
    "duration(100, 100, 5, 10, 0.05)"
   ]
  },
  {
   "cell_type": "markdown",
   "id": "a989a604",
   "metadata": {},
   "source": [
    "duration di uno zero coupon T"
   ]
  },
  {
   "cell_type": "code",
   "execution_count": 61,
   "id": "44244761",
   "metadata": {},
   "outputs": [
    {
     "data": {
      "text/plain": [
       "10.0"
      ]
     },
     "execution_count": 61,
     "metadata": {},
     "output_type": "execute_result"
    }
   ],
   "source": [
    "duration(14.86, 100, 0, 10, 0.1)"
   ]
  },
  {
   "cell_type": "code",
   "execution_count": null,
   "id": "0d4b6605",
   "metadata": {},
   "outputs": [],
   "source": []
  }
 ],
 "metadata": {
  "kernelspec": {
   "display_name": "Python 3 (ipykernel)",
   "language": "python",
   "name": "python3"
  },
  "language_info": {
   "codemirror_mode": {
    "name": "ipython",
    "version": 3
   },
   "file_extension": ".py",
   "mimetype": "text/x-python",
   "name": "python",
   "nbconvert_exporter": "python",
   "pygments_lexer": "ipython3",
   "version": "3.11.7"
  }
 },
 "nbformat": 4,
 "nbformat_minor": 5
}
