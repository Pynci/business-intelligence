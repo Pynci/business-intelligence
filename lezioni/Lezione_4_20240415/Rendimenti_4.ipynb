{
 "cells": [
  {
   "cell_type": "code",
   "metadata": {
    "ExecuteTime": {
     "end_time": "2024-04-27T09:06:55.012370Z",
     "start_time": "2024-04-27T09:06:54.532564Z"
    }
   },
   "source": [
    "import pandas as pd\n",
    "from matplotlib import style\n",
    "import numpy as np\n",
    "style.use('ggplot')"
   ],
   "outputs": [],
   "execution_count": 1
  },
  {
   "cell_type": "markdown",
   "metadata": {},
   "source": [
    "#### Indici di mercato (asset class)\n",
    "I seguenti indici sono indici globali rappresentativi di mercati azionari o obbligazionari (contengono titoli in tutte le valute, la principale è il dollaro).\n",
    "\n",
    "- JPCAEU3M - JP Morgan liquidità a 3 mesi\n",
    "- LEG1TREU - Bloomberg titoli di Stato euro 1-3 anni\n",
    "- LEGATREH - Bloomberg \"global aggregate\" Investment grade\n",
    "- LG30TREH - Bloomberg \"global aggregate\" High Yield\n",
    "- MXWOHEUR - MSCI World Developed euro hedged\n",
    "- NDDUWI - MSCI World Developed in dollari convertito in euro\n",
    "- NCUDWI - MSCI World Developed Small Cap in dollari convertito in euro\n",
    "- NDUEEGF - MSCI Emerging Markets in dollari convertito in euro\n",
    "- INF_EURO_HCPI - Inflazione area euro\n",
    "\n",
    "Ci possono \n"
   ]
  },
  {
   "cell_type": "code",
   "metadata": {
    "ExecuteTime": {
     "end_time": "2024-04-27T09:06:55.243018Z",
     "start_time": "2024-04-27T09:06:55.014365Z"
    }
   },
   "source": [
    "data = pd.read_excel('index_values_202312.xlsx', index_col = 0, parse_dates = True)"
   ],
   "outputs": [],
   "execution_count": 2
  },
  {
   "cell_type": "code",
   "metadata": {
    "ExecuteTime": {
     "end_time": "2024-04-27T09:06:55.258993Z",
     "start_time": "2024-04-27T09:06:55.244017Z"
    }
   },
   "source": [
    "returns = (data/data.shift(1)) - 1\n",
    "returns.dropna(inplace=True)"
   ],
   "outputs": [],
   "execution_count": 3
  },
  {
   "cell_type": "code",
   "metadata": {
    "ExecuteTime": {
     "end_time": "2024-04-27T09:06:55.290052Z",
     "start_time": "2024-04-27T09:06:55.259973Z"
    }
   },
   "source": [
    "returns"
   ],
   "outputs": [
    {
     "data": {
      "text/plain": [
       "            JPCAEU3M  LEG1TREU  LEGATREH  LG30TREH  MXWOHEUR    NDDUWI  \\\n",
       "Data                                                                     \n",
       "1999-01-31  0.002894  0.009671  0.014568  0.007475  0.033060  0.060804   \n",
       "1999-02-28  0.002295 -0.001862 -0.014557  0.000902 -0.014425  0.003298   \n",
       "1999-03-31  0.003112  0.006381  0.006532  0.026846  0.044016  0.061535   \n",
       "1999-04-30  0.003203  0.005820  0.006090  0.034631  0.043849  0.061479   \n",
       "1999-05-31  0.002236  0.002124 -0.007740 -0.025834 -0.030806 -0.024039   \n",
       "...              ...       ...       ...       ...       ...       ...   \n",
       "2023-08-31  0.003220  0.003695 -0.002981 -0.003497 -0.018723 -0.008756   \n",
       "2023-09-30  0.002863 -0.002450 -0.019140 -0.012404 -0.038738 -0.019529   \n",
       "2023-10-31  0.003583  0.005422 -0.008357 -0.010109 -0.026898 -0.028740   \n",
       "2023-11-30  0.003465  0.007274  0.032175  0.044699  0.080261  0.062115   \n",
       "2023-12-31  0.003384  0.010967  0.030226  0.036364  0.040441  0.032595   \n",
       "\n",
       "              NCUDWI   NDUEEGF  INF_EURO_HCPI  \n",
       "Data                                           \n",
       "1999-01-31  0.039463  0.027897      -0.000680  \n",
       "1999-02-28 -0.014921  0.040799       0.002315  \n",
       "1999-03-31  0.058550  0.153928       0.003260  \n",
       "1999-04-30  0.100637  0.147651       0.003521  \n",
       "1999-05-31  0.001808  0.007252       0.000675  \n",
       "...              ...       ...            ...  \n",
       "2023-08-31 -0.023204 -0.047056       0.005431  \n",
       "2023-09-30 -0.029093 -0.002123       0.003225  \n",
       "2023-10-31 -0.061091 -0.038581       0.000884  \n",
       "2023-11-30  0.061481  0.048789      -0.005540  \n",
       "2023-12-31  0.078959  0.022752       0.001615  \n",
       "\n",
       "[300 rows x 9 columns]"
      ],
      "text/html": [
       "<div>\n",
       "<style scoped>\n",
       "    .dataframe tbody tr th:only-of-type {\n",
       "        vertical-align: middle;\n",
       "    }\n",
       "\n",
       "    .dataframe tbody tr th {\n",
       "        vertical-align: top;\n",
       "    }\n",
       "\n",
       "    .dataframe thead th {\n",
       "        text-align: right;\n",
       "    }\n",
       "</style>\n",
       "<table border=\"1\" class=\"dataframe\">\n",
       "  <thead>\n",
       "    <tr style=\"text-align: right;\">\n",
       "      <th></th>\n",
       "      <th>JPCAEU3M</th>\n",
       "      <th>LEG1TREU</th>\n",
       "      <th>LEGATREH</th>\n",
       "      <th>LG30TREH</th>\n",
       "      <th>MXWOHEUR</th>\n",
       "      <th>NDDUWI</th>\n",
       "      <th>NCUDWI</th>\n",
       "      <th>NDUEEGF</th>\n",
       "      <th>INF_EURO_HCPI</th>\n",
       "    </tr>\n",
       "    <tr>\n",
       "      <th>Data</th>\n",
       "      <th></th>\n",
       "      <th></th>\n",
       "      <th></th>\n",
       "      <th></th>\n",
       "      <th></th>\n",
       "      <th></th>\n",
       "      <th></th>\n",
       "      <th></th>\n",
       "      <th></th>\n",
       "    </tr>\n",
       "  </thead>\n",
       "  <tbody>\n",
       "    <tr>\n",
       "      <th>1999-01-31</th>\n",
       "      <td>0.002894</td>\n",
       "      <td>0.009671</td>\n",
       "      <td>0.014568</td>\n",
       "      <td>0.007475</td>\n",
       "      <td>0.033060</td>\n",
       "      <td>0.060804</td>\n",
       "      <td>0.039463</td>\n",
       "      <td>0.027897</td>\n",
       "      <td>-0.000680</td>\n",
       "    </tr>\n",
       "    <tr>\n",
       "      <th>1999-02-28</th>\n",
       "      <td>0.002295</td>\n",
       "      <td>-0.001862</td>\n",
       "      <td>-0.014557</td>\n",
       "      <td>0.000902</td>\n",
       "      <td>-0.014425</td>\n",
       "      <td>0.003298</td>\n",
       "      <td>-0.014921</td>\n",
       "      <td>0.040799</td>\n",
       "      <td>0.002315</td>\n",
       "    </tr>\n",
       "    <tr>\n",
       "      <th>1999-03-31</th>\n",
       "      <td>0.003112</td>\n",
       "      <td>0.006381</td>\n",
       "      <td>0.006532</td>\n",
       "      <td>0.026846</td>\n",
       "      <td>0.044016</td>\n",
       "      <td>0.061535</td>\n",
       "      <td>0.058550</td>\n",
       "      <td>0.153928</td>\n",
       "      <td>0.003260</td>\n",
       "    </tr>\n",
       "    <tr>\n",
       "      <th>1999-04-30</th>\n",
       "      <td>0.003203</td>\n",
       "      <td>0.005820</td>\n",
       "      <td>0.006090</td>\n",
       "      <td>0.034631</td>\n",
       "      <td>0.043849</td>\n",
       "      <td>0.061479</td>\n",
       "      <td>0.100637</td>\n",
       "      <td>0.147651</td>\n",
       "      <td>0.003521</td>\n",
       "    </tr>\n",
       "    <tr>\n",
       "      <th>1999-05-31</th>\n",
       "      <td>0.002236</td>\n",
       "      <td>0.002124</td>\n",
       "      <td>-0.007740</td>\n",
       "      <td>-0.025834</td>\n",
       "      <td>-0.030806</td>\n",
       "      <td>-0.024039</td>\n",
       "      <td>0.001808</td>\n",
       "      <td>0.007252</td>\n",
       "      <td>0.000675</td>\n",
       "    </tr>\n",
       "    <tr>\n",
       "      <th>...</th>\n",
       "      <td>...</td>\n",
       "      <td>...</td>\n",
       "      <td>...</td>\n",
       "      <td>...</td>\n",
       "      <td>...</td>\n",
       "      <td>...</td>\n",
       "      <td>...</td>\n",
       "      <td>...</td>\n",
       "      <td>...</td>\n",
       "    </tr>\n",
       "    <tr>\n",
       "      <th>2023-08-31</th>\n",
       "      <td>0.003220</td>\n",
       "      <td>0.003695</td>\n",
       "      <td>-0.002981</td>\n",
       "      <td>-0.003497</td>\n",
       "      <td>-0.018723</td>\n",
       "      <td>-0.008756</td>\n",
       "      <td>-0.023204</td>\n",
       "      <td>-0.047056</td>\n",
       "      <td>0.005431</td>\n",
       "    </tr>\n",
       "    <tr>\n",
       "      <th>2023-09-30</th>\n",
       "      <td>0.002863</td>\n",
       "      <td>-0.002450</td>\n",
       "      <td>-0.019140</td>\n",
       "      <td>-0.012404</td>\n",
       "      <td>-0.038738</td>\n",
       "      <td>-0.019529</td>\n",
       "      <td>-0.029093</td>\n",
       "      <td>-0.002123</td>\n",
       "      <td>0.003225</td>\n",
       "    </tr>\n",
       "    <tr>\n",
       "      <th>2023-10-31</th>\n",
       "      <td>0.003583</td>\n",
       "      <td>0.005422</td>\n",
       "      <td>-0.008357</td>\n",
       "      <td>-0.010109</td>\n",
       "      <td>-0.026898</td>\n",
       "      <td>-0.028740</td>\n",
       "      <td>-0.061091</td>\n",
       "      <td>-0.038581</td>\n",
       "      <td>0.000884</td>\n",
       "    </tr>\n",
       "    <tr>\n",
       "      <th>2023-11-30</th>\n",
       "      <td>0.003465</td>\n",
       "      <td>0.007274</td>\n",
       "      <td>0.032175</td>\n",
       "      <td>0.044699</td>\n",
       "      <td>0.080261</td>\n",
       "      <td>0.062115</td>\n",
       "      <td>0.061481</td>\n",
       "      <td>0.048789</td>\n",
       "      <td>-0.005540</td>\n",
       "    </tr>\n",
       "    <tr>\n",
       "      <th>2023-12-31</th>\n",
       "      <td>0.003384</td>\n",
       "      <td>0.010967</td>\n",
       "      <td>0.030226</td>\n",
       "      <td>0.036364</td>\n",
       "      <td>0.040441</td>\n",
       "      <td>0.032595</td>\n",
       "      <td>0.078959</td>\n",
       "      <td>0.022752</td>\n",
       "      <td>0.001615</td>\n",
       "    </tr>\n",
       "  </tbody>\n",
       "</table>\n",
       "<p>300 rows × 9 columns</p>\n",
       "</div>"
      ]
     },
     "execution_count": 4,
     "metadata": {},
     "output_type": "execute_result"
    }
   ],
   "execution_count": 4
  },
  {
   "cell_type": "code",
   "metadata": {
    "ExecuteTime": {
     "end_time": "2024-04-27T09:06:55.305040Z",
     "start_time": "2024-04-27T09:06:55.292049Z"
    }
   },
   "source": [
    "means = returns.mean()*12*100 # media percentuale\n",
    "means"
   ],
   "outputs": [
    {
     "data": {
      "text/plain": [
       "JPCAEU3M          1.738769\n",
       "LEG1TREU          2.134127\n",
       "LEGATREH          3.054448\n",
       "LG30TREH          6.309887\n",
       "MXWOHEUR          6.044307\n",
       "NDDUWI            7.179465\n",
       "NCUDWI           10.147591\n",
       "NDUEEGF           9.432866\n",
       "INF_EURO_HCPI     2.108421\n",
       "dtype: float64"
      ]
     },
     "execution_count": 5,
     "metadata": {},
     "output_type": "execute_result"
    }
   ],
   "execution_count": 5
  },
  {
   "cell_type": "code",
   "metadata": {
    "ExecuteTime": {
     "end_time": "2024-04-27T09:06:55.319974Z",
     "start_time": "2024-04-27T09:06:55.306011Z"
    }
   },
   "source": [
    "vola = returns.std()*np.sqrt(12) # volatilità\n",
    "vola"
   ],
   "outputs": [
    {
     "data": {
      "text/plain": [
       "JPCAEU3M         0.005525\n",
       "LEG1TREU         0.014218\n",
       "LEGATREH         0.033303\n",
       "LG30TREH         0.093539\n",
       "MXWOHEUR         0.144818\n",
       "NDDUWI           0.145481\n",
       "NCUDWI           0.170924\n",
       "NDUEEGF          0.193084\n",
       "INF_EURO_HCPI    0.015819\n",
       "dtype: float64"
      ]
     },
     "execution_count": 6,
     "metadata": {},
     "output_type": "execute_result"
    }
   ],
   "execution_count": 6
  },
  {
   "cell_type": "code",
   "metadata": {
    "ExecuteTime": {
     "end_time": "2024-04-27T09:06:55.334933Z",
     "start_time": "2024-04-27T09:06:55.320972Z"
    }
   },
   "source": [
    "real_means = means - means['INF_EURO_HCPI'] # rimuove l'inflazione dalla media per ottenere i valori reali (al posto dei nominali)\n",
    "real_means"
   ],
   "outputs": [
    {
     "data": {
      "text/plain": [
       "JPCAEU3M        -0.369652\n",
       "LEG1TREU         0.025705\n",
       "LEGATREH         0.946027\n",
       "LG30TREH         4.201466\n",
       "MXWOHEUR         3.935886\n",
       "NDDUWI           5.071043\n",
       "NCUDWI           8.039170\n",
       "NDUEEGF          7.324445\n",
       "INF_EURO_HCPI    0.000000\n",
       "dtype: float64"
      ]
     },
     "execution_count": 7,
     "metadata": {},
     "output_type": "execute_result"
    }
   ],
   "execution_count": 7
  },
  {
   "cell_type": "code",
   "metadata": {
    "ExecuteTime": {
     "end_time": "2024-04-27T09:06:55.349989Z",
     "start_time": "2024-04-27T09:06:55.335930Z"
    }
   },
   "source": [
    "excess_means = means - means['JPCAEU3M']\n",
    "excess_means"
   ],
   "outputs": [
    {
     "data": {
      "text/plain": [
       "JPCAEU3M         0.000000\n",
       "LEG1TREU         0.395357\n",
       "LEGATREH         1.315679\n",
       "LG30TREH         4.571118\n",
       "MXWOHEUR         4.305538\n",
       "NDDUWI           5.440695\n",
       "NCUDWI           8.408822\n",
       "NDUEEGF          7.694097\n",
       "INF_EURO_HCPI    0.369652\n",
       "dtype: float64"
      ]
     },
     "execution_count": 8,
     "metadata": {},
     "output_type": "execute_result"
    }
   ],
   "execution_count": 8
  },
  {
   "cell_type": "code",
   "metadata": {
    "ExecuteTime": {
     "end_time": "2024-04-27T09:10:58.043849Z",
     "start_time": "2024-04-27T09:10:58.031407Z"
    }
   },
   "source": [
    "mat_corr = returns.corr() # correlazione\n",
    "mat_corr"
   ],
   "outputs": [
    {
     "data": {
      "text/plain": [
       "               JPCAEU3M  LEG1TREU  LEGATREH  LG30TREH  MXWOHEUR    NDDUWI  \\\n",
       "JPCAEU3M       1.000000  0.469347  0.226307 -0.039324 -0.169316 -0.181803   \n",
       "LEG1TREU       0.469347  1.000000  0.654079  0.044585 -0.142098 -0.166764   \n",
       "LEGATREH       0.226307  0.654079  1.000000  0.298540  0.079708  0.004768   \n",
       "LG30TREH      -0.039324  0.044585  0.298540  1.000000  0.712558  0.575156   \n",
       "MXWOHEUR      -0.169316 -0.142098  0.079708  0.712558  1.000000  0.892777   \n",
       "NDDUWI        -0.181803 -0.166764  0.004768  0.575156  0.892777  1.000000   \n",
       "NCUDWI        -0.120582 -0.145279  0.021742  0.640633  0.822013  0.899550   \n",
       "NDUEEGF       -0.052435 -0.130274  0.024876  0.651102  0.733299  0.764688   \n",
       "INF_EURO_HCPI -0.042785 -0.192914 -0.273141 -0.110372 -0.005303 -0.026898   \n",
       "\n",
       "                 NCUDWI   NDUEEGF  INF_EURO_HCPI  \n",
       "JPCAEU3M      -0.120582 -0.052435      -0.042785  \n",
       "LEG1TREU      -0.145279 -0.130274      -0.192914  \n",
       "LEGATREH       0.021742  0.024876      -0.273141  \n",
       "LG30TREH       0.640633  0.651102      -0.110372  \n",
       "MXWOHEUR       0.822013  0.733299      -0.005303  \n",
       "NDDUWI         0.899550  0.764688      -0.026898  \n",
       "NCUDWI         1.000000  0.774427      -0.028670  \n",
       "NDUEEGF        0.774427  1.000000      -0.058326  \n",
       "INF_EURO_HCPI -0.028670 -0.058326       1.000000  "
      ],
      "text/html": [
       "<div>\n",
       "<style scoped>\n",
       "    .dataframe tbody tr th:only-of-type {\n",
       "        vertical-align: middle;\n",
       "    }\n",
       "\n",
       "    .dataframe tbody tr th {\n",
       "        vertical-align: top;\n",
       "    }\n",
       "\n",
       "    .dataframe thead th {\n",
       "        text-align: right;\n",
       "    }\n",
       "</style>\n",
       "<table border=\"1\" class=\"dataframe\">\n",
       "  <thead>\n",
       "    <tr style=\"text-align: right;\">\n",
       "      <th></th>\n",
       "      <th>JPCAEU3M</th>\n",
       "      <th>LEG1TREU</th>\n",
       "      <th>LEGATREH</th>\n",
       "      <th>LG30TREH</th>\n",
       "      <th>MXWOHEUR</th>\n",
       "      <th>NDDUWI</th>\n",
       "      <th>NCUDWI</th>\n",
       "      <th>NDUEEGF</th>\n",
       "      <th>INF_EURO_HCPI</th>\n",
       "    </tr>\n",
       "  </thead>\n",
       "  <tbody>\n",
       "    <tr>\n",
       "      <th>JPCAEU3M</th>\n",
       "      <td>1.000000</td>\n",
       "      <td>0.469347</td>\n",
       "      <td>0.226307</td>\n",
       "      <td>-0.039324</td>\n",
       "      <td>-0.169316</td>\n",
       "      <td>-0.181803</td>\n",
       "      <td>-0.120582</td>\n",
       "      <td>-0.052435</td>\n",
       "      <td>-0.042785</td>\n",
       "    </tr>\n",
       "    <tr>\n",
       "      <th>LEG1TREU</th>\n",
       "      <td>0.469347</td>\n",
       "      <td>1.000000</td>\n",
       "      <td>0.654079</td>\n",
       "      <td>0.044585</td>\n",
       "      <td>-0.142098</td>\n",
       "      <td>-0.166764</td>\n",
       "      <td>-0.145279</td>\n",
       "      <td>-0.130274</td>\n",
       "      <td>-0.192914</td>\n",
       "    </tr>\n",
       "    <tr>\n",
       "      <th>LEGATREH</th>\n",
       "      <td>0.226307</td>\n",
       "      <td>0.654079</td>\n",
       "      <td>1.000000</td>\n",
       "      <td>0.298540</td>\n",
       "      <td>0.079708</td>\n",
       "      <td>0.004768</td>\n",
       "      <td>0.021742</td>\n",
       "      <td>0.024876</td>\n",
       "      <td>-0.273141</td>\n",
       "    </tr>\n",
       "    <tr>\n",
       "      <th>LG30TREH</th>\n",
       "      <td>-0.039324</td>\n",
       "      <td>0.044585</td>\n",
       "      <td>0.298540</td>\n",
       "      <td>1.000000</td>\n",
       "      <td>0.712558</td>\n",
       "      <td>0.575156</td>\n",
       "      <td>0.640633</td>\n",
       "      <td>0.651102</td>\n",
       "      <td>-0.110372</td>\n",
       "    </tr>\n",
       "    <tr>\n",
       "      <th>MXWOHEUR</th>\n",
       "      <td>-0.169316</td>\n",
       "      <td>-0.142098</td>\n",
       "      <td>0.079708</td>\n",
       "      <td>0.712558</td>\n",
       "      <td>1.000000</td>\n",
       "      <td>0.892777</td>\n",
       "      <td>0.822013</td>\n",
       "      <td>0.733299</td>\n",
       "      <td>-0.005303</td>\n",
       "    </tr>\n",
       "    <tr>\n",
       "      <th>NDDUWI</th>\n",
       "      <td>-0.181803</td>\n",
       "      <td>-0.166764</td>\n",
       "      <td>0.004768</td>\n",
       "      <td>0.575156</td>\n",
       "      <td>0.892777</td>\n",
       "      <td>1.000000</td>\n",
       "      <td>0.899550</td>\n",
       "      <td>0.764688</td>\n",
       "      <td>-0.026898</td>\n",
       "    </tr>\n",
       "    <tr>\n",
       "      <th>NCUDWI</th>\n",
       "      <td>-0.120582</td>\n",
       "      <td>-0.145279</td>\n",
       "      <td>0.021742</td>\n",
       "      <td>0.640633</td>\n",
       "      <td>0.822013</td>\n",
       "      <td>0.899550</td>\n",
       "      <td>1.000000</td>\n",
       "      <td>0.774427</td>\n",
       "      <td>-0.028670</td>\n",
       "    </tr>\n",
       "    <tr>\n",
       "      <th>NDUEEGF</th>\n",
       "      <td>-0.052435</td>\n",
       "      <td>-0.130274</td>\n",
       "      <td>0.024876</td>\n",
       "      <td>0.651102</td>\n",
       "      <td>0.733299</td>\n",
       "      <td>0.764688</td>\n",
       "      <td>0.774427</td>\n",
       "      <td>1.000000</td>\n",
       "      <td>-0.058326</td>\n",
       "    </tr>\n",
       "    <tr>\n",
       "      <th>INF_EURO_HCPI</th>\n",
       "      <td>-0.042785</td>\n",
       "      <td>-0.192914</td>\n",
       "      <td>-0.273141</td>\n",
       "      <td>-0.110372</td>\n",
       "      <td>-0.005303</td>\n",
       "      <td>-0.026898</td>\n",
       "      <td>-0.028670</td>\n",
       "      <td>-0.058326</td>\n",
       "      <td>1.000000</td>\n",
       "    </tr>\n",
       "  </tbody>\n",
       "</table>\n",
       "</div>"
      ]
     },
     "execution_count": 11,
     "metadata": {},
     "output_type": "execute_result"
    }
   ],
   "execution_count": 11
  },
  {
   "metadata": {},
   "cell_type": "code",
   "outputs": [],
   "execution_count": null,
   "source": ""
  }
 ],
 "metadata": {
  "kernelspec": {
   "display_name": "Python 3 (ipykernel)",
   "language": "python",
   "name": "python3"
  },
  "language_info": {
   "codemirror_mode": {
    "name": "ipython",
    "version": 3
   },
   "file_extension": ".py",
   "mimetype": "text/x-python",
   "name": "python",
   "nbconvert_exporter": "python",
   "pygments_lexer": "ipython3",
   "version": "3.11.7"
  }
 },
 "nbformat": 4,
 "nbformat_minor": 4
}
