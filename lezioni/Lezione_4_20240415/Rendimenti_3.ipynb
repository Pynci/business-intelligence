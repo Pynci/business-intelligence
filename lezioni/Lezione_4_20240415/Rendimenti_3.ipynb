{
 "cells": [
  {
   "cell_type": "markdown",
   "id": "246c3d11-5b4f-491d-b9b5-75e4c5ddaa8b",
   "metadata": {},
   "source": [
    "### L'impatto dei dividendi sul rendimento totale\n",
    "\n",
    "Esaminiamo il valore cumulato di due portafogli: uno investito nell'indice S&P 500 dei prezzi delle azioni americane (ticker Bloomberg SPX) e l'altro investito nell'indice S&P 500 con i dividendi reinvestiti (ticker Bloomberg SPXT)"
   ]
  },
  {
   "cell_type": "code",
   "id": "7b392569-be4a-493f-a4e9-5c5645459831",
   "metadata": {
    "ExecuteTime": {
     "end_time": "2024-04-27T07:47:33.154232Z",
     "start_time": "2024-04-27T07:47:33.136574Z"
    }
   },
   "source": [
    "import pandas as pd\n",
    "from matplotlib import style\n",
    "style.use('ggplot')"
   ],
   "outputs": [],
   "execution_count": 11
  },
  {
   "cell_type": "code",
   "id": "7fdca0b7-de2c-4bbe-97de-755c42bb94b0",
   "metadata": {
    "ExecuteTime": {
     "end_time": "2024-04-27T07:47:33.590545Z",
     "start_time": "2024-04-27T07:47:33.156200Z"
    }
   },
   "source": [
    "data = pd.read_excel('SPX.xlsx', index_col = 0, parse_dates = True)"
   ],
   "outputs": [],
   "execution_count": 12
  },
  {
   "cell_type": "code",
   "id": "5948fdf0-b42a-4683-8a12-5220a4dbadb4",
   "metadata": {
    "ExecuteTime": {
     "end_time": "2024-04-27T07:47:33.621471Z",
     "start_time": "2024-04-27T07:47:33.592540Z"
    }
   },
   "source": [
    "data.head()"
   ],
   "outputs": [
    {
     "data": {
      "text/plain": [
       "                SPX     SPXT\n",
       "Data                        \n",
       "1998-12-31  1229.23  1670.01\n",
       "1999-01-29  1279.64  1739.84\n",
       "1999-02-26  1238.33  1685.77\n",
       "1999-03-31  1286.37  1753.21\n",
       "1999-04-30  1335.18  1821.11"
      ],
      "text/html": [
       "<div>\n",
       "<style scoped>\n",
       "    .dataframe tbody tr th:only-of-type {\n",
       "        vertical-align: middle;\n",
       "    }\n",
       "\n",
       "    .dataframe tbody tr th {\n",
       "        vertical-align: top;\n",
       "    }\n",
       "\n",
       "    .dataframe thead th {\n",
       "        text-align: right;\n",
       "    }\n",
       "</style>\n",
       "<table border=\"1\" class=\"dataframe\">\n",
       "  <thead>\n",
       "    <tr style=\"text-align: right;\">\n",
       "      <th></th>\n",
       "      <th>SPX</th>\n",
       "      <th>SPXT</th>\n",
       "    </tr>\n",
       "    <tr>\n",
       "      <th>Data</th>\n",
       "      <th></th>\n",
       "      <th></th>\n",
       "    </tr>\n",
       "  </thead>\n",
       "  <tbody>\n",
       "    <tr>\n",
       "      <th>1998-12-31</th>\n",
       "      <td>1229.23</td>\n",
       "      <td>1670.01</td>\n",
       "    </tr>\n",
       "    <tr>\n",
       "      <th>1999-01-29</th>\n",
       "      <td>1279.64</td>\n",
       "      <td>1739.84</td>\n",
       "    </tr>\n",
       "    <tr>\n",
       "      <th>1999-02-26</th>\n",
       "      <td>1238.33</td>\n",
       "      <td>1685.77</td>\n",
       "    </tr>\n",
       "    <tr>\n",
       "      <th>1999-03-31</th>\n",
       "      <td>1286.37</td>\n",
       "      <td>1753.21</td>\n",
       "    </tr>\n",
       "    <tr>\n",
       "      <th>1999-04-30</th>\n",
       "      <td>1335.18</td>\n",
       "      <td>1821.11</td>\n",
       "    </tr>\n",
       "  </tbody>\n",
       "</table>\n",
       "</div>"
      ]
     },
     "execution_count": 13,
     "metadata": {},
     "output_type": "execute_result"
    }
   ],
   "execution_count": 13
  },
  {
   "metadata": {
    "ExecuteTime": {
     "end_time": "2024-04-27T08:01:57.316874Z",
     "start_time": "2024-04-27T08:01:57.299920Z"
    }
   },
   "cell_type": "code",
   "source": "data.tail()",
   "id": "6fcbb6c87fd22a6e",
   "outputs": [
    {
     "data": {
      "text/plain": [
       "                SPX      SPXT\n",
       "Data                         \n",
       "2023-08-31  4507.66   9709.68\n",
       "2023-09-29  4288.05   9246.74\n",
       "2023-10-31  4193.80   9052.31\n",
       "2023-11-30  4567.80   9879.02\n",
       "2023-12-29  4769.83  10327.83"
      ],
      "text/html": [
       "<div>\n",
       "<style scoped>\n",
       "    .dataframe tbody tr th:only-of-type {\n",
       "        vertical-align: middle;\n",
       "    }\n",
       "\n",
       "    .dataframe tbody tr th {\n",
       "        vertical-align: top;\n",
       "    }\n",
       "\n",
       "    .dataframe thead th {\n",
       "        text-align: right;\n",
       "    }\n",
       "</style>\n",
       "<table border=\"1\" class=\"dataframe\">\n",
       "  <thead>\n",
       "    <tr style=\"text-align: right;\">\n",
       "      <th></th>\n",
       "      <th>SPX</th>\n",
       "      <th>SPXT</th>\n",
       "    </tr>\n",
       "    <tr>\n",
       "      <th>Data</th>\n",
       "      <th></th>\n",
       "      <th></th>\n",
       "    </tr>\n",
       "  </thead>\n",
       "  <tbody>\n",
       "    <tr>\n",
       "      <th>2023-08-31</th>\n",
       "      <td>4507.66</td>\n",
       "      <td>9709.68</td>\n",
       "    </tr>\n",
       "    <tr>\n",
       "      <th>2023-09-29</th>\n",
       "      <td>4288.05</td>\n",
       "      <td>9246.74</td>\n",
       "    </tr>\n",
       "    <tr>\n",
       "      <th>2023-10-31</th>\n",
       "      <td>4193.80</td>\n",
       "      <td>9052.31</td>\n",
       "    </tr>\n",
       "    <tr>\n",
       "      <th>2023-11-30</th>\n",
       "      <td>4567.80</td>\n",
       "      <td>9879.02</td>\n",
       "    </tr>\n",
       "    <tr>\n",
       "      <th>2023-12-29</th>\n",
       "      <td>4769.83</td>\n",
       "      <td>10327.83</td>\n",
       "    </tr>\n",
       "  </tbody>\n",
       "</table>\n",
       "</div>"
      ]
     },
     "execution_count": 24,
     "metadata": {},
     "output_type": "execute_result"
    }
   ],
   "execution_count": 24
  },
  {
   "cell_type": "code",
   "id": "177d92b7-5710-48d0-b697-ac8b110f0872",
   "metadata": {
    "ExecuteTime": {
     "end_time": "2024-04-27T07:47:33.637426Z",
     "start_time": "2024-04-27T07:47:33.623464Z"
    }
   },
   "source": [
    "returns = (data/data.shift(1)) - 1 # ritorno netto\n",
    "returns.dropna(inplace=True)"
   ],
   "outputs": [],
   "execution_count": 14
  },
  {
   "cell_type": "code",
   "id": "dfc31e65-7fe0-4211-b004-7dc146ccff64",
   "metadata": {
    "ExecuteTime": {
     "end_time": "2024-04-27T07:47:33.653383Z",
     "start_time": "2024-04-27T07:47:33.640419Z"
    }
   },
   "source": [
    "returns"
   ],
   "outputs": [
    {
     "data": {
      "text/plain": [
       "                 SPX      SPXT\n",
       "Data                          \n",
       "1999-01-29  0.041009  0.041814\n",
       "1999-02-26 -0.032283 -0.031078\n",
       "1999-03-31  0.038794  0.040005\n",
       "1999-04-30  0.037944  0.038729\n",
       "1999-05-28 -0.024970 -0.023617\n",
       "...              ...       ...\n",
       "2023-08-31 -0.017716 -0.015921\n",
       "2023-09-29 -0.048719 -0.047678\n",
       "2023-10-31 -0.021980 -0.021027\n",
       "2023-11-30  0.089179  0.091326\n",
       "2023-12-29  0.044229  0.045431\n",
       "\n",
       "[300 rows x 2 columns]"
      ],
      "text/html": [
       "<div>\n",
       "<style scoped>\n",
       "    .dataframe tbody tr th:only-of-type {\n",
       "        vertical-align: middle;\n",
       "    }\n",
       "\n",
       "    .dataframe tbody tr th {\n",
       "        vertical-align: top;\n",
       "    }\n",
       "\n",
       "    .dataframe thead th {\n",
       "        text-align: right;\n",
       "    }\n",
       "</style>\n",
       "<table border=\"1\" class=\"dataframe\">\n",
       "  <thead>\n",
       "    <tr style=\"text-align: right;\">\n",
       "      <th></th>\n",
       "      <th>SPX</th>\n",
       "      <th>SPXT</th>\n",
       "    </tr>\n",
       "    <tr>\n",
       "      <th>Data</th>\n",
       "      <th></th>\n",
       "      <th></th>\n",
       "    </tr>\n",
       "  </thead>\n",
       "  <tbody>\n",
       "    <tr>\n",
       "      <th>1999-01-29</th>\n",
       "      <td>0.041009</td>\n",
       "      <td>0.041814</td>\n",
       "    </tr>\n",
       "    <tr>\n",
       "      <th>1999-02-26</th>\n",
       "      <td>-0.032283</td>\n",
       "      <td>-0.031078</td>\n",
       "    </tr>\n",
       "    <tr>\n",
       "      <th>1999-03-31</th>\n",
       "      <td>0.038794</td>\n",
       "      <td>0.040005</td>\n",
       "    </tr>\n",
       "    <tr>\n",
       "      <th>1999-04-30</th>\n",
       "      <td>0.037944</td>\n",
       "      <td>0.038729</td>\n",
       "    </tr>\n",
       "    <tr>\n",
       "      <th>1999-05-28</th>\n",
       "      <td>-0.024970</td>\n",
       "      <td>-0.023617</td>\n",
       "    </tr>\n",
       "    <tr>\n",
       "      <th>...</th>\n",
       "      <td>...</td>\n",
       "      <td>...</td>\n",
       "    </tr>\n",
       "    <tr>\n",
       "      <th>2023-08-31</th>\n",
       "      <td>-0.017716</td>\n",
       "      <td>-0.015921</td>\n",
       "    </tr>\n",
       "    <tr>\n",
       "      <th>2023-09-29</th>\n",
       "      <td>-0.048719</td>\n",
       "      <td>-0.047678</td>\n",
       "    </tr>\n",
       "    <tr>\n",
       "      <th>2023-10-31</th>\n",
       "      <td>-0.021980</td>\n",
       "      <td>-0.021027</td>\n",
       "    </tr>\n",
       "    <tr>\n",
       "      <th>2023-11-30</th>\n",
       "      <td>0.089179</td>\n",
       "      <td>0.091326</td>\n",
       "    </tr>\n",
       "    <tr>\n",
       "      <th>2023-12-29</th>\n",
       "      <td>0.044229</td>\n",
       "      <td>0.045431</td>\n",
       "    </tr>\n",
       "  </tbody>\n",
       "</table>\n",
       "<p>300 rows × 2 columns</p>\n",
       "</div>"
      ]
     },
     "execution_count": 15,
     "metadata": {},
     "output_type": "execute_result"
    }
   ],
   "execution_count": 15
  },
  {
   "cell_type": "code",
   "id": "a358fc74-3b02-41d9-ba17-d1fd6ff47351",
   "metadata": {
    "ExecuteTime": {
     "end_time": "2024-04-27T07:47:33.685297Z",
     "start_time": "2024-04-27T07:47:33.654380Z"
    }
   },
   "source": [
    "returns.describe()"
   ],
   "outputs": [
    {
     "data": {
      "text/plain": [
       "              SPX        SPXT\n",
       "count  300.000000  300.000000\n",
       "mean     0.005534    0.007096\n",
       "std      0.044629    0.044659\n",
       "min     -0.169425   -0.167951\n",
       "25%     -0.019195   -0.017839\n",
       "50%      0.011028    0.012836\n",
       "75%      0.034079    0.036403\n",
       "max      0.126844    0.128194"
      ],
      "text/html": [
       "<div>\n",
       "<style scoped>\n",
       "    .dataframe tbody tr th:only-of-type {\n",
       "        vertical-align: middle;\n",
       "    }\n",
       "\n",
       "    .dataframe tbody tr th {\n",
       "        vertical-align: top;\n",
       "    }\n",
       "\n",
       "    .dataframe thead th {\n",
       "        text-align: right;\n",
       "    }\n",
       "</style>\n",
       "<table border=\"1\" class=\"dataframe\">\n",
       "  <thead>\n",
       "    <tr style=\"text-align: right;\">\n",
       "      <th></th>\n",
       "      <th>SPX</th>\n",
       "      <th>SPXT</th>\n",
       "    </tr>\n",
       "  </thead>\n",
       "  <tbody>\n",
       "    <tr>\n",
       "      <th>count</th>\n",
       "      <td>300.000000</td>\n",
       "      <td>300.000000</td>\n",
       "    </tr>\n",
       "    <tr>\n",
       "      <th>mean</th>\n",
       "      <td>0.005534</td>\n",
       "      <td>0.007096</td>\n",
       "    </tr>\n",
       "    <tr>\n",
       "      <th>std</th>\n",
       "      <td>0.044629</td>\n",
       "      <td>0.044659</td>\n",
       "    </tr>\n",
       "    <tr>\n",
       "      <th>min</th>\n",
       "      <td>-0.169425</td>\n",
       "      <td>-0.167951</td>\n",
       "    </tr>\n",
       "    <tr>\n",
       "      <th>25%</th>\n",
       "      <td>-0.019195</td>\n",
       "      <td>-0.017839</td>\n",
       "    </tr>\n",
       "    <tr>\n",
       "      <th>50%</th>\n",
       "      <td>0.011028</td>\n",
       "      <td>0.012836</td>\n",
       "    </tr>\n",
       "    <tr>\n",
       "      <th>75%</th>\n",
       "      <td>0.034079</td>\n",
       "      <td>0.036403</td>\n",
       "    </tr>\n",
       "    <tr>\n",
       "      <th>max</th>\n",
       "      <td>0.126844</td>\n",
       "      <td>0.128194</td>\n",
       "    </tr>\n",
       "  </tbody>\n",
       "</table>\n",
       "</div>"
      ]
     },
     "execution_count": 16,
     "metadata": {},
     "output_type": "execute_result"
    }
   ],
   "execution_count": 16
  },
  {
   "metadata": {
    "ExecuteTime": {
     "end_time": "2024-04-27T08:18:28.780449Z",
     "start_time": "2024-04-27T08:18:28.759506Z"
    }
   },
   "cell_type": "code",
   "source": [
    "returns_marco = returns.groupby(pd.Grouper(freq = 'YE')).last()\n",
    "returns_marco.mean()"
   ],
   "id": "a44fd593ab2549cc",
   "outputs": [
    {
     "data": {
      "text/plain": [
       "SPX     0.010102\n",
       "SPXT    0.011618\n",
       "dtype: float64"
      ]
     },
     "execution_count": 28,
     "metadata": {},
     "output_type": "execute_result"
    }
   ],
   "execution_count": 28
  },
  {
   "cell_type": "code",
   "id": "4de4be2a-bd12-4ca7-872a-3a48e26d2daa",
   "metadata": {
    "ExecuteTime": {
     "end_time": "2024-04-27T07:47:33.700260Z",
     "start_time": "2024-04-27T07:47:33.687293Z"
    }
   },
   "source": [
    "SPXT_ann_ret = returns['SPXT'].mean()*12 # ritorno medio annualizzato (da mese si passa ad anno) [non ha senso questa formula]\n",
    "SPXT_ann_ret\n"
   ],
   "outputs": [
    {
     "data": {
      "text/plain": [
       "0.08514673556661077"
      ]
     },
     "execution_count": 17,
     "metadata": {},
     "output_type": "execute_result"
    }
   ],
   "execution_count": 17
  },
  {
   "cell_type": "code",
   "id": "ef58ec38-8bb3-42be-99ee-84c93e81099e",
   "metadata": {
    "ExecuteTime": {
     "end_time": "2024-04-27T07:47:33.716214Z",
     "start_time": "2024-04-27T07:47:33.702251Z"
    }
   },
   "source": [
    "SPX_ann_ret = returns['SPX'].mean()*12 # ritorno medio annualizzato (da mese si passa ad anno) [non ha senso questa formula]\n",
    "SPX_ann_ret"
   ],
   "outputs": [
    {
     "data": {
      "text/plain": [
       "0.06640659589849979"
      ]
     },
     "execution_count": 18,
     "metadata": {},
     "output_type": "execute_result"
    }
   ],
   "execution_count": 18
  },
  {
   "cell_type": "code",
   "id": "f755e30c-d249-44fd-9aa0-da86063ba238",
   "metadata": {
    "ExecuteTime": {
     "end_time": "2024-04-27T07:47:33.732172Z",
     "start_time": "2024-04-27T07:47:33.717213Z"
    }
   },
   "source": [
    "diff = SPXT_ann_ret - SPX_ann_ret # SPXT_ann_ret > SPX_ann_ret\n",
    "diff"
   ],
   "outputs": [
    {
     "data": {
      "text/plain": [
       "0.018740139668110986"
      ]
     },
     "execution_count": 19,
     "metadata": {},
     "output_type": "execute_result"
    }
   ],
   "execution_count": 19
  },
  {
   "cell_type": "code",
   "id": "f55a9e86-b4bf-4539-a833-694c4d9d6032",
   "metadata": {
    "ExecuteTime": {
     "end_time": "2024-04-27T07:47:33.748130Z",
     "start_time": "2024-04-27T07:47:33.734168Z"
    }
   },
   "source": [
    "diff_cum = (1 + diff)**25 # calcola come la differenza tra i ritorni di SPXT e SPX si accumula nel tempo (vedi ritorno annuale lordo composto, pag 29)\n",
    "diff_cum"
   ],
   "outputs": [
    {
     "data": {
      "text/plain": [
       "1.590689653954617"
      ]
     },
     "execution_count": 20,
     "metadata": {},
     "output_type": "execute_result"
    }
   ],
   "execution_count": 20
  },
  {
   "cell_type": "code",
   "id": "71a416d7-cd67-4d3c-85e5-02493a19ccde",
   "metadata": {
    "ExecuteTime": {
     "end_time": "2024-04-27T07:47:33.764087Z",
     "start_time": "2024-04-27T07:47:33.752119Z"
    }
   },
   "source": [
    "SPX_cum = (1+returns).cumprod()"
   ],
   "outputs": [],
   "execution_count": 21
  },
  {
   "cell_type": "code",
   "id": "d09185eb-0299-4c59-8d43-f603e4d6007d",
   "metadata": {
    "ExecuteTime": {
     "end_time": "2024-04-27T07:47:33.780045Z",
     "start_time": "2024-04-27T07:47:33.766082Z"
    }
   },
   "source": [
    "SPX_cum"
   ],
   "outputs": [
    {
     "data": {
      "text/plain": [
       "                 SPX      SPXT\n",
       "Data                          \n",
       "1999-01-29  1.041009  1.041814\n",
       "1999-02-26  1.007403  1.009437\n",
       "1999-03-31  1.046484  1.049820\n",
       "1999-04-30  1.086192  1.090479\n",
       "1999-05-28  1.059069  1.064724\n",
       "...              ...       ...\n",
       "2023-08-31  3.667060  5.814145\n",
       "2023-09-29  3.488403  5.536937\n",
       "2023-10-31  3.411729  5.420512\n",
       "2023-11-30  3.715985  5.915545\n",
       "2023-12-29  3.880340  6.184292\n",
       "\n",
       "[300 rows x 2 columns]"
      ],
      "text/html": [
       "<div>\n",
       "<style scoped>\n",
       "    .dataframe tbody tr th:only-of-type {\n",
       "        vertical-align: middle;\n",
       "    }\n",
       "\n",
       "    .dataframe tbody tr th {\n",
       "        vertical-align: top;\n",
       "    }\n",
       "\n",
       "    .dataframe thead th {\n",
       "        text-align: right;\n",
       "    }\n",
       "</style>\n",
       "<table border=\"1\" class=\"dataframe\">\n",
       "  <thead>\n",
       "    <tr style=\"text-align: right;\">\n",
       "      <th></th>\n",
       "      <th>SPX</th>\n",
       "      <th>SPXT</th>\n",
       "    </tr>\n",
       "    <tr>\n",
       "      <th>Data</th>\n",
       "      <th></th>\n",
       "      <th></th>\n",
       "    </tr>\n",
       "  </thead>\n",
       "  <tbody>\n",
       "    <tr>\n",
       "      <th>1999-01-29</th>\n",
       "      <td>1.041009</td>\n",
       "      <td>1.041814</td>\n",
       "    </tr>\n",
       "    <tr>\n",
       "      <th>1999-02-26</th>\n",
       "      <td>1.007403</td>\n",
       "      <td>1.009437</td>\n",
       "    </tr>\n",
       "    <tr>\n",
       "      <th>1999-03-31</th>\n",
       "      <td>1.046484</td>\n",
       "      <td>1.049820</td>\n",
       "    </tr>\n",
       "    <tr>\n",
       "      <th>1999-04-30</th>\n",
       "      <td>1.086192</td>\n",
       "      <td>1.090479</td>\n",
       "    </tr>\n",
       "    <tr>\n",
       "      <th>1999-05-28</th>\n",
       "      <td>1.059069</td>\n",
       "      <td>1.064724</td>\n",
       "    </tr>\n",
       "    <tr>\n",
       "      <th>...</th>\n",
       "      <td>...</td>\n",
       "      <td>...</td>\n",
       "    </tr>\n",
       "    <tr>\n",
       "      <th>2023-08-31</th>\n",
       "      <td>3.667060</td>\n",
       "      <td>5.814145</td>\n",
       "    </tr>\n",
       "    <tr>\n",
       "      <th>2023-09-29</th>\n",
       "      <td>3.488403</td>\n",
       "      <td>5.536937</td>\n",
       "    </tr>\n",
       "    <tr>\n",
       "      <th>2023-10-31</th>\n",
       "      <td>3.411729</td>\n",
       "      <td>5.420512</td>\n",
       "    </tr>\n",
       "    <tr>\n",
       "      <th>2023-11-30</th>\n",
       "      <td>3.715985</td>\n",
       "      <td>5.915545</td>\n",
       "    </tr>\n",
       "    <tr>\n",
       "      <th>2023-12-29</th>\n",
       "      <td>3.880340</td>\n",
       "      <td>6.184292</td>\n",
       "    </tr>\n",
       "  </tbody>\n",
       "</table>\n",
       "<p>300 rows × 2 columns</p>\n",
       "</div>"
      ]
     },
     "execution_count": 22,
     "metadata": {},
     "output_type": "execute_result"
    }
   ],
   "execution_count": 22
  },
  {
   "cell_type": "code",
   "id": "15a6df31-e1ea-4d35-9748-15b736ed8cb8",
   "metadata": {
    "ExecuteTime": {
     "end_time": "2024-04-27T07:47:34.327579Z",
     "start_time": "2024-04-27T07:47:33.782039Z"
    }
   },
   "source": [
    "SPX_cum.plot()"
   ],
   "outputs": [
    {
     "data": {
      "text/plain": [
       "<Axes: xlabel='Data'>"
      ]
     },
     "execution_count": 23,
     "metadata": {},
     "output_type": "execute_result"
    },
    {
     "data": {
      "text/plain": [
       "<Figure size 640x480 with 1 Axes>"
      ],
      "image/png": "[encoded data removed]"
     },
     "metadata": {},
     "output_type": "display_data"
    }
   ],
   "execution_count": 23
  }
 ],
 "metadata": {
  "kernelspec": {
   "display_name": "Python 3 (ipykernel)",
   "language": "python",
   "name": "python3"
  },
  "language_info": {
   "codemirror_mode": {
    "name": "ipython",
    "version": 3
   },
   "file_extension": ".py",
   "mimetype": "text/x-python",
   "name": "python",
   "nbconvert_exporter": "python",
   "pygments_lexer": "ipython3",
   "version": "3.11.7"
  }
 },
 "nbformat": 4,
 "nbformat_minor": 5
}
