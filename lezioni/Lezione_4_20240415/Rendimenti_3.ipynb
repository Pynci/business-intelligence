{
 "cells": [
  {
   "cell_type": "markdown",
   "id": "246c3d11-5b4f-491d-b9b5-75e4c5ddaa8b",
   "metadata": {},
   "source": [
    "### L'impatto dei dividendi sul rendimento totale\n",
    "\n",
    "Esaminiamo il valore cumulato di due portafogli: uno investito nell'indice S&P 500 dei prezzi delle azioni americane (ticker Bloomberg SPX) e l'altro investito nell'indice S&P 500 con i dividendi reinvestiti (ticker Bloomberg SPXT)"
   ]
  },
  {
   "cell_type": "code",
   "id": "7b392569-be4a-493f-a4e9-5c5645459831",
   "metadata": {},
   "source": [
    "import pandas as pd\n",
    "import matplotlib.pyplot as plt\n",
    "from matplotlib import style\n",
    "import numpy as np\n",
    "style.use('ggplot')"
   ],
   "outputs": [],
   "execution_count": null
  },
  {
   "cell_type": "code",
   "id": "7fdca0b7-de2c-4bbe-97de-755c42bb94b0",
   "metadata": {},
   "source": [
    "data = pd.read_excel('SPX.xlsx', index_col = 0, parse_dates = True)"
   ],
   "outputs": [],
   "execution_count": null
  },
  {
   "cell_type": "code",
   "id": "5948fdf0-b42a-4683-8a12-5220a4dbadb4",
   "metadata": {},
   "source": [
    "data.head()"
   ],
   "outputs": [],
   "execution_count": null
  },
  {
   "cell_type": "code",
   "id": "177d92b7-5710-48d0-b697-ac8b110f0872",
   "metadata": {},
   "source": [
    "returns = (data/data.shift(1)) - 1\n",
    "returns.dropna(inplace=True)"
   ],
   "outputs": [],
   "execution_count": null
  },
  {
   "cell_type": "code",
   "id": "dfc31e65-7fe0-4211-b004-7dc146ccff64",
   "metadata": {},
   "source": [
    "returns"
   ],
   "outputs": [],
   "execution_count": null
  },
  {
   "cell_type": "code",
   "id": "a358fc74-3b02-41d9-ba17-d1fd6ff47351",
   "metadata": {},
   "source": [
    "returns.describe()"
   ],
   "outputs": [],
   "execution_count": null
  },
  {
   "cell_type": "code",
   "id": "4de4be2a-bd12-4ca7-872a-3a48e26d2daa",
   "metadata": {},
   "source": [
    "SPXT_ann_ret = returns['SPXT'].mean()*12\n",
    "SPXT_ann_ret\n"
   ],
   "outputs": [],
   "execution_count": null
  },
  {
   "cell_type": "code",
   "id": "ef58ec38-8bb3-42be-99ee-84c93e81099e",
   "metadata": {},
   "source": [
    "SPX_ann_ret = returns['SPX'].mean()*12\n",
    "SPX_ann_ret"
   ],
   "outputs": [],
   "execution_count": null
  },
  {
   "cell_type": "code",
   "id": "f755e30c-d249-44fd-9aa0-da86063ba238",
   "metadata": {},
   "source": [
    "diff = SPXT_ann_ret - SPX_ann_ret\n",
    "diff"
   ],
   "outputs": [],
   "execution_count": null
  },
  {
   "cell_type": "code",
   "id": "f55a9e86-b4bf-4539-a833-694c4d9d6032",
   "metadata": {},
   "source": [
    "diff_cum = (1 + diff)**25\n",
    "diff_cum"
   ],
   "outputs": [],
   "execution_count": null
  },
  {
   "cell_type": "code",
   "id": "71a416d7-cd67-4d3c-85e5-02493a19ccde",
   "metadata": {},
   "source": [
    "SPX_cum = (1+returns).cumprod()"
   ],
   "outputs": [],
   "execution_count": null
  },
  {
   "cell_type": "code",
   "id": "d09185eb-0299-4c59-8d43-f603e4d6007d",
   "metadata": {},
   "source": [
    "SPX_cum"
   ],
   "outputs": [],
   "execution_count": null
  },
  {
   "cell_type": "code",
   "id": "15a6df31-e1ea-4d35-9748-15b736ed8cb8",
   "metadata": {},
   "source": [
    "SPX_cum.plot()"
   ],
   "outputs": [],
   "execution_count": null
  },
  {
   "cell_type": "code",
   "id": "2815d018-c827-4135-8c87-a46a7c634738",
   "metadata": {},
   "source": [],
   "outputs": [],
   "execution_count": null
  }
 ],
 "metadata": {
  "kernelspec": {
   "display_name": "Python 3 (ipykernel)",
   "language": "python",
   "name": "python3"
  },
  "language_info": {
   "codemirror_mode": {
    "name": "ipython",
    "version": 3
   },
   "file_extension": ".py",
   "mimetype": "text/x-python",
   "name": "python",
   "nbconvert_exporter": "python",
   "pygments_lexer": "ipython3",
   "version": "3.11.7"
  }
 },
 "nbformat": 4,
 "nbformat_minor": 5
}
