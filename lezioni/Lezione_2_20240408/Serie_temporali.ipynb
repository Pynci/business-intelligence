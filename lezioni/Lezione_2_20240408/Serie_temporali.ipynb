{
 "cells": [
  {
   "cell_type": "code",
   "id": "acd9c4c1",
   "metadata": {
    "ExecuteTime": {
     "end_time": "2024-04-19T07:50:20.146368Z",
     "start_time": "2024-04-19T07:50:20.126496Z"
    }
   },
   "source": [
    "import numpy as np\n",
    "import pandas as pd\n",
    "import datetime\n",
    "from datetime import datetime\n",
    "import matplotlib.pyplot as plt"
   ],
   "outputs": [],
   "execution_count": 81
  },
  {
   "cell_type": "markdown",
   "id": "36031082",
   "metadata": {},
   "source": [
    "# Serie temporali\n",
    "\n",
    "Le date in pandas sono rappresentate con la classe Timestamp. <br>\n",
    "Per creare una serie temporale (in cui gli indici sono quindi date) spesso si usa un particolare oggetto della libreria chiamato DatetimeIndex: questo oggetto è utilizzato in maniera specifica per formattare e utilizzare delle date come indici di una serie. <br>\n",
    "__PER CAPIRE__: una serie (creata con l'oggetto Series di Pandas) che prende in ingresso un insieme di dati e un oggetto DatetimeIndex che ne definisce gli indici può essere considerata una _serie temporale_. "
   ]
  },
  {
   "cell_type": "code",
   "id": "697e4767",
   "metadata": {
    "ExecuteTime": {
     "end_time": "2024-04-19T07:50:20.460609Z",
     "start_time": "2024-04-19T07:50:20.446565Z"
    }
   },
   "source": [
    "dates = [datetime(2014,8,1), datetime(2014,8,2)]\n",
    "dti = pd.DatetimeIndex(dates)\n",
    "dti"
   ],
   "outputs": [
    {
     "data": {
      "text/plain": [
       "DatetimeIndex(['2014-08-01', '2014-08-02'], dtype='datetime64[ns]', freq=None)"
      ]
     },
     "execution_count": 82,
     "metadata": {},
     "output_type": "execute_result"
    }
   ],
   "execution_count": 82
  },
  {
   "cell_type": "code",
   "id": "9670498c",
   "metadata": {
    "ExecuteTime": {
     "end_time": "2024-04-19T07:50:20.491870Z",
     "start_time": "2024-04-19T07:50:20.478905Z"
    }
   },
   "source": [
    "np.random.seed(123456)\n",
    "ts = pd.Series(np.random.randn(2), dates) # prima si passano i dati, poi i nomi degli indici\n",
    "ts"
   ],
   "outputs": [
    {
     "data": {
      "text/plain": [
       "2014-08-01    0.469112\n",
       "2014-08-02   -0.282863\n",
       "dtype: float64"
      ]
     },
     "execution_count": 83,
     "metadata": {},
     "output_type": "execute_result"
    }
   ],
   "execution_count": 83
  },
  {
   "cell_type": "code",
   "id": "7d428d2f",
   "metadata": {
    "ExecuteTime": {
     "end_time": "2024-04-19T07:50:20.537747Z",
     "start_time": "2024-04-19T07:50:20.520793Z"
    }
   },
   "source": "type(ts.index) # serve a capire quale tipologia di dato è presente su una colonna",
   "outputs": [
    {
     "data": {
      "text/plain": [
       "pandas.core.indexes.datetimes.DatetimeIndex"
      ]
     },
     "execution_count": 84,
     "metadata": {},
     "output_type": "execute_result"
    }
   ],
   "execution_count": 84
  },
  {
   "cell_type": "markdown",
   "id": "b8af5b2d",
   "metadata": {},
   "source": "Per accedere ai valori di una serie temporale è possibile utilizzare la data sia in forma datetime che sotto forma di stringa."
  },
  {
   "metadata": {},
   "cell_type": "code",
   "outputs": [
    {
     "data": {
      "text/plain": [
       "-0.2828633443286633"
      ]
     },
     "execution_count": 114,
     "metadata": {},
     "output_type": "execute_result"
    }
   ],
   "execution_count": 114,
   "source": "ts.loc['2014-08-02']",
   "id": "af53df42c8c89d1d"
  },
  {
   "cell_type": "code",
   "id": "a3ca00b0",
   "metadata": {
    "ExecuteTime": {
     "end_time": "2024-04-19T07:50:20.616536Z",
     "start_time": "2024-04-19T07:50:20.594595Z"
    }
   },
   "source": [
    "ts[datetime(2014,8,2)]"
   ],
   "outputs": [
    {
     "data": {
      "text/plain": [
       "-0.2828633443286633"
      ]
     },
     "execution_count": 85,
     "metadata": {},
     "output_type": "execute_result"
    }
   ],
   "execution_count": 85
  },
  {
   "cell_type": "code",
   "id": "c846ae04",
   "metadata": {
    "ExecuteTime": {
     "end_time": "2024-04-19T07:50:20.664407Z",
     "start_time": "2024-04-19T07:50:20.649448Z"
    }
   },
   "source": [
    "ts['2014-08-02']"
   ],
   "outputs": [
    {
     "data": {
      "text/plain": [
       "-0.2828633443286633"
      ]
     },
     "execution_count": 86,
     "metadata": {},
     "output_type": "execute_result"
    }
   ],
   "execution_count": 86
  },
  {
   "cell_type": "code",
   "id": "30cf93e9",
   "metadata": {
    "ExecuteTime": {
     "end_time": "2024-04-19T07:50:20.711931Z",
     "start_time": "2024-04-19T07:50:20.698317Z"
    }
   },
   "source": [
    "np.random.seed(123456)"
   ],
   "outputs": [],
   "execution_count": 87
  },
  {
   "cell_type": "code",
   "id": "3c940faf",
   "metadata": {
    "ExecuteTime": {
     "end_time": "2024-04-19T07:50:20.742843Z",
     "start_time": "2024-04-19T07:50:20.729856Z"
    }
   },
   "source": [
    "dates = ['2014-08-01', '2014-08-02']\n",
    "ts = pd.Series(np.random.randn(2), dates)\n",
    "ts"
   ],
   "outputs": [
    {
     "data": {
      "text/plain": [
       "2014-08-01    0.469112\n",
       "2014-08-02   -0.282863\n",
       "dtype: float64"
      ]
     },
     "execution_count": 88,
     "metadata": {},
     "output_type": "execute_result"
    }
   ],
   "execution_count": 88
  },
  {
   "cell_type": "markdown",
   "id": "a85096ff",
   "metadata": {},
   "source": "Con il metodo `to_datetime` è possibile convertire delle stringhe in oggetti datetime (specificando il formato con cui le stringhe sono espresse)."
  },
  {
   "cell_type": "code",
   "id": "69ab4af8",
   "metadata": {
    "ExecuteTime": {
     "end_time": "2024-04-19T07:55:25.123972Z",
     "start_time": "2024-04-19T07:55:25.100503Z"
    }
   },
   "source": [
    "dti = pd.to_datetime(['Aug 1, 2014', '2014-08-02', '2014.8.3', None], format='mixed')\n",
    "dti"
   ],
   "outputs": [
    {
     "data": {
      "text/plain": [
       "DatetimeIndex(['2014-08-01', '2014-08-02', '2014-08-03', 'NaT'], dtype='datetime64[ns]', freq=None)"
      ]
     },
     "execution_count": 115,
     "metadata": {},
     "output_type": "execute_result"
    }
   ],
   "execution_count": 115
  },
  {
   "cell_type": "markdown",
   "id": "a19ab8ea",
   "metadata": {},
   "source": "Di default Pandas riconosce il mese come primo valore; se il primo valore è il giorno occorre imporre la condizione dayfirst = True."
  },
  {
   "cell_type": "code",
   "id": "7892882b",
   "metadata": {
    "ExecuteTime": {
     "end_time": "2024-04-19T07:56:07.871568Z",
     "start_time": "2024-04-19T07:56:07.855684Z"
    }
   },
   "source": [
    "dti1 = pd.to_datetime(['8/1/2014'])\n",
    "dti2 = pd.to_datetime(['1/8/2014'], dayfirst = True)\n",
    "dti1[0], dti2[0]"
   ],
   "outputs": [
    {
     "data": {
      "text/plain": [
       "(Timestamp('2014-08-01 00:00:00'), Timestamp('2014-08-01 00:00:00'))"
      ]
     },
     "execution_count": 117,
     "metadata": {},
     "output_type": "execute_result"
    }
   ],
   "execution_count": 117
  },
  {
   "cell_type": "markdown",
   "id": "f489f04f",
   "metadata": {},
   "source": "Mediante il comando `date_range` è possibile creare un oggetto DatetimeIndex formato da uno specifico numero di date."
  },
  {
   "cell_type": "code",
   "id": "93e79b30",
   "metadata": {
    "ExecuteTime": {
     "end_time": "2024-04-19T07:50:20.900425Z",
     "start_time": "2024-04-19T07:50:20.879454Z"
    }
   },
   "source": [
    "np.random.seed(123456)\n",
    "dates = pd.date_range('8/1/2014', periods = 10)\n",
    "s1 = pd.Series(np.random.randn(10), dates)\n",
    "s1"
   ],
   "outputs": [
    {
     "data": {
      "text/plain": [
       "2014-08-01    0.469112\n",
       "2014-08-02   -0.282863\n",
       "2014-08-03   -1.509059\n",
       "2014-08-04   -1.135632\n",
       "2014-08-05    1.212112\n",
       "2014-08-06   -0.173215\n",
       "2014-08-07    0.119209\n",
       "2014-08-08   -1.044236\n",
       "2014-08-09   -0.861849\n",
       "2014-08-10   -2.104569\n",
       "Freq: D, dtype: float64"
      ]
     },
     "execution_count": 90,
     "metadata": {},
     "output_type": "execute_result"
    }
   ],
   "execution_count": 90
  },
  {
   "cell_type": "code",
   "id": "114bbbdd",
   "metadata": {
    "ExecuteTime": {
     "end_time": "2024-04-19T07:50:21.117267Z",
     "start_time": "2024-04-19T07:50:21.109289Z"
    }
   },
   "source": [
    "import yfinance as yf"
   ],
   "outputs": [],
   "execution_count": 92
  },
  {
   "cell_type": "code",
   "id": "66f877cb",
   "metadata": {
    "ExecuteTime": {
     "end_time": "2024-04-19T07:50:21.223981Z",
     "start_time": "2024-04-19T07:50:21.176111Z"
    }
   },
   "source": [
    "msft = yf.download('MSFT', '2012-1-1','2013-12-31')\n",
    "msft.head()"
   ],
   "outputs": [
    {
     "name": "stderr",
     "output_type": "stream",
     "text": [
      "[*********************100%%**********************]  1 of 1 completed\n"
     ]
    },
    {
     "data": {
      "text/plain": [
       "                 Open       High        Low      Close  Adj Close    Volume\n",
       "Date                                                                       \n",
       "2012-01-03  26.549999  26.959999  26.389999  26.770000  21.238750  64731500\n",
       "2012-01-04  26.820000  27.469999  26.780001  27.400000  21.738579  80516100\n",
       "2012-01-05  27.379999  27.730000  27.290001  27.680000  21.960726  56081400\n",
       "2012-01-06  27.530001  28.190001  27.530001  28.110001  22.301882  99455500\n",
       "2012-01-09  28.049999  28.100000  27.719999  27.740000  22.008329  59706800"
      ],
      "text/html": [
       "<div>\n",
       "<style scoped>\n",
       "    .dataframe tbody tr th:only-of-type {\n",
       "        vertical-align: middle;\n",
       "    }\n",
       "\n",
       "    .dataframe tbody tr th {\n",
       "        vertical-align: top;\n",
       "    }\n",
       "\n",
       "    .dataframe thead th {\n",
       "        text-align: right;\n",
       "    }\n",
       "</style>\n",
       "<table border=\"1\" class=\"dataframe\">\n",
       "  <thead>\n",
       "    <tr style=\"text-align: right;\">\n",
       "      <th></th>\n",
       "      <th>Open</th>\n",
       "      <th>High</th>\n",
       "      <th>Low</th>\n",
       "      <th>Close</th>\n",
       "      <th>Adj Close</th>\n",
       "      <th>Volume</th>\n",
       "    </tr>\n",
       "    <tr>\n",
       "      <th>Date</th>\n",
       "      <th></th>\n",
       "      <th></th>\n",
       "      <th></th>\n",
       "      <th></th>\n",
       "      <th></th>\n",
       "      <th></th>\n",
       "    </tr>\n",
       "  </thead>\n",
       "  <tbody>\n",
       "    <tr>\n",
       "      <th>2012-01-03</th>\n",
       "      <td>26.549999</td>\n",
       "      <td>26.959999</td>\n",
       "      <td>26.389999</td>\n",
       "      <td>26.770000</td>\n",
       "      <td>21.238750</td>\n",
       "      <td>64731500</td>\n",
       "    </tr>\n",
       "    <tr>\n",
       "      <th>2012-01-04</th>\n",
       "      <td>26.820000</td>\n",
       "      <td>27.469999</td>\n",
       "      <td>26.780001</td>\n",
       "      <td>27.400000</td>\n",
       "      <td>21.738579</td>\n",
       "      <td>80516100</td>\n",
       "    </tr>\n",
       "    <tr>\n",
       "      <th>2012-01-05</th>\n",
       "      <td>27.379999</td>\n",
       "      <td>27.730000</td>\n",
       "      <td>27.290001</td>\n",
       "      <td>27.680000</td>\n",
       "      <td>21.960726</td>\n",
       "      <td>56081400</td>\n",
       "    </tr>\n",
       "    <tr>\n",
       "      <th>2012-01-06</th>\n",
       "      <td>27.530001</td>\n",
       "      <td>28.190001</td>\n",
       "      <td>27.530001</td>\n",
       "      <td>28.110001</td>\n",
       "      <td>22.301882</td>\n",
       "      <td>99455500</td>\n",
       "    </tr>\n",
       "    <tr>\n",
       "      <th>2012-01-09</th>\n",
       "      <td>28.049999</td>\n",
       "      <td>28.100000</td>\n",
       "      <td>27.719999</td>\n",
       "      <td>27.740000</td>\n",
       "      <td>22.008329</td>\n",
       "      <td>59706800</td>\n",
       "    </tr>\n",
       "  </tbody>\n",
       "</table>\n",
       "</div>"
      ]
     },
     "execution_count": 93,
     "metadata": {},
     "output_type": "execute_result"
    }
   ],
   "execution_count": 93
  },
  {
   "cell_type": "code",
   "id": "95788827",
   "metadata": {
    "ExecuteTime": {
     "end_time": "2024-04-19T07:50:21.239937Z",
     "start_time": "2024-04-19T07:50:21.225975Z"
    }
   },
   "source": [
    "msft.head()"
   ],
   "outputs": [
    {
     "data": {
      "text/plain": [
       "                 Open       High        Low      Close  Adj Close    Volume\n",
       "Date                                                                       \n",
       "2012-01-03  26.549999  26.959999  26.389999  26.770000  21.238750  64731500\n",
       "2012-01-04  26.820000  27.469999  26.780001  27.400000  21.738579  80516100\n",
       "2012-01-05  27.379999  27.730000  27.290001  27.680000  21.960726  56081400\n",
       "2012-01-06  27.530001  28.190001  27.530001  28.110001  22.301882  99455500\n",
       "2012-01-09  28.049999  28.100000  27.719999  27.740000  22.008329  59706800"
      ],
      "text/html": [
       "<div>\n",
       "<style scoped>\n",
       "    .dataframe tbody tr th:only-of-type {\n",
       "        vertical-align: middle;\n",
       "    }\n",
       "\n",
       "    .dataframe tbody tr th {\n",
       "        vertical-align: top;\n",
       "    }\n",
       "\n",
       "    .dataframe thead th {\n",
       "        text-align: right;\n",
       "    }\n",
       "</style>\n",
       "<table border=\"1\" class=\"dataframe\">\n",
       "  <thead>\n",
       "    <tr style=\"text-align: right;\">\n",
       "      <th></th>\n",
       "      <th>Open</th>\n",
       "      <th>High</th>\n",
       "      <th>Low</th>\n",
       "      <th>Close</th>\n",
       "      <th>Adj Close</th>\n",
       "      <th>Volume</th>\n",
       "    </tr>\n",
       "    <tr>\n",
       "      <th>Date</th>\n",
       "      <th></th>\n",
       "      <th></th>\n",
       "      <th></th>\n",
       "      <th></th>\n",
       "      <th></th>\n",
       "      <th></th>\n",
       "    </tr>\n",
       "  </thead>\n",
       "  <tbody>\n",
       "    <tr>\n",
       "      <th>2012-01-03</th>\n",
       "      <td>26.549999</td>\n",
       "      <td>26.959999</td>\n",
       "      <td>26.389999</td>\n",
       "      <td>26.770000</td>\n",
       "      <td>21.238750</td>\n",
       "      <td>64731500</td>\n",
       "    </tr>\n",
       "    <tr>\n",
       "      <th>2012-01-04</th>\n",
       "      <td>26.820000</td>\n",
       "      <td>27.469999</td>\n",
       "      <td>26.780001</td>\n",
       "      <td>27.400000</td>\n",
       "      <td>21.738579</td>\n",
       "      <td>80516100</td>\n",
       "    </tr>\n",
       "    <tr>\n",
       "      <th>2012-01-05</th>\n",
       "      <td>27.379999</td>\n",
       "      <td>27.730000</td>\n",
       "      <td>27.290001</td>\n",
       "      <td>27.680000</td>\n",
       "      <td>21.960726</td>\n",
       "      <td>56081400</td>\n",
       "    </tr>\n",
       "    <tr>\n",
       "      <th>2012-01-06</th>\n",
       "      <td>27.530001</td>\n",
       "      <td>28.190001</td>\n",
       "      <td>27.530001</td>\n",
       "      <td>28.110001</td>\n",
       "      <td>22.301882</td>\n",
       "      <td>99455500</td>\n",
       "    </tr>\n",
       "    <tr>\n",
       "      <th>2012-01-09</th>\n",
       "      <td>28.049999</td>\n",
       "      <td>28.100000</td>\n",
       "      <td>27.719999</td>\n",
       "      <td>27.740000</td>\n",
       "      <td>22.008329</td>\n",
       "      <td>59706800</td>\n",
       "    </tr>\n",
       "  </tbody>\n",
       "</table>\n",
       "</div>"
      ]
     },
     "execution_count": 94,
     "metadata": {},
     "output_type": "execute_result"
    }
   ],
   "execution_count": 94
  },
  {
   "cell_type": "markdown",
   "id": "c73faffb",
   "metadata": {},
   "source": "Consideriamo la serie formata soltanto dai prezzi di chiusura del titolo."
  },
  {
   "cell_type": "code",
   "id": "f0a0437f",
   "metadata": {
    "ExecuteTime": {
     "end_time": "2024-04-19T08:04:05.023670Z",
     "start_time": "2024-04-19T08:04:05.009680Z"
    }
   },
   "source": [
    "msftAC = msft['Adj Close']\n",
    "msftAC.head()"
   ],
   "outputs": [
    {
     "data": {
      "text/plain": [
       "Date\n",
       "2012-01-03    21.238750\n",
       "2012-01-04    21.738579\n",
       "2012-01-05    21.960726\n",
       "2012-01-06    22.301882\n",
       "2012-01-09    22.008329\n",
       "Name: Adj Close, dtype: float64"
      ]
     },
     "execution_count": 119,
     "metadata": {},
     "output_type": "execute_result"
    }
   ],
   "execution_count": 119
  },
  {
   "cell_type": "code",
   "id": "e708c85e",
   "metadata": {
    "ExecuteTime": {
     "end_time": "2024-04-19T07:50:21.270856Z",
     "start_time": "2024-04-19T07:50:21.256892Z"
    }
   },
   "source": [
    "msft['2012-01-01':'2012-01-10']"
   ],
   "outputs": [
    {
     "data": {
      "text/plain": [
       "                 Open       High        Low      Close  Adj Close    Volume\n",
       "Date                                                                       \n",
       "2012-01-03  26.549999  26.959999  26.389999  26.770000  21.238750  64731500\n",
       "2012-01-04  26.820000  27.469999  26.780001  27.400000  21.738579  80516100\n",
       "2012-01-05  27.379999  27.730000  27.290001  27.680000  21.960726  56081400\n",
       "2012-01-06  27.530001  28.190001  27.530001  28.110001  22.301882  99455500\n",
       "2012-01-09  28.049999  28.100000  27.719999  27.740000  22.008329  59706800\n",
       "2012-01-10  27.930000  28.150000  27.750000  27.840000  22.087671  60014400"
      ],
      "text/html": [
       "<div>\n",
       "<style scoped>\n",
       "    .dataframe tbody tr th:only-of-type {\n",
       "        vertical-align: middle;\n",
       "    }\n",
       "\n",
       "    .dataframe tbody tr th {\n",
       "        vertical-align: top;\n",
       "    }\n",
       "\n",
       "    .dataframe thead th {\n",
       "        text-align: right;\n",
       "    }\n",
       "</style>\n",
       "<table border=\"1\" class=\"dataframe\">\n",
       "  <thead>\n",
       "    <tr style=\"text-align: right;\">\n",
       "      <th></th>\n",
       "      <th>Open</th>\n",
       "      <th>High</th>\n",
       "      <th>Low</th>\n",
       "      <th>Close</th>\n",
       "      <th>Adj Close</th>\n",
       "      <th>Volume</th>\n",
       "    </tr>\n",
       "    <tr>\n",
       "      <th>Date</th>\n",
       "      <th></th>\n",
       "      <th></th>\n",
       "      <th></th>\n",
       "      <th></th>\n",
       "      <th></th>\n",
       "      <th></th>\n",
       "    </tr>\n",
       "  </thead>\n",
       "  <tbody>\n",
       "    <tr>\n",
       "      <th>2012-01-03</th>\n",
       "      <td>26.549999</td>\n",
       "      <td>26.959999</td>\n",
       "      <td>26.389999</td>\n",
       "      <td>26.770000</td>\n",
       "      <td>21.238750</td>\n",
       "      <td>64731500</td>\n",
       "    </tr>\n",
       "    <tr>\n",
       "      <th>2012-01-04</th>\n",
       "      <td>26.820000</td>\n",
       "      <td>27.469999</td>\n",
       "      <td>26.780001</td>\n",
       "      <td>27.400000</td>\n",
       "      <td>21.738579</td>\n",
       "      <td>80516100</td>\n",
       "    </tr>\n",
       "    <tr>\n",
       "      <th>2012-01-05</th>\n",
       "      <td>27.379999</td>\n",
       "      <td>27.730000</td>\n",
       "      <td>27.290001</td>\n",
       "      <td>27.680000</td>\n",
       "      <td>21.960726</td>\n",
       "      <td>56081400</td>\n",
       "    </tr>\n",
       "    <tr>\n",
       "      <th>2012-01-06</th>\n",
       "      <td>27.530001</td>\n",
       "      <td>28.190001</td>\n",
       "      <td>27.530001</td>\n",
       "      <td>28.110001</td>\n",
       "      <td>22.301882</td>\n",
       "      <td>99455500</td>\n",
       "    </tr>\n",
       "    <tr>\n",
       "      <th>2012-01-09</th>\n",
       "      <td>28.049999</td>\n",
       "      <td>28.100000</td>\n",
       "      <td>27.719999</td>\n",
       "      <td>27.740000</td>\n",
       "      <td>22.008329</td>\n",
       "      <td>59706800</td>\n",
       "    </tr>\n",
       "    <tr>\n",
       "      <th>2012-01-10</th>\n",
       "      <td>27.930000</td>\n",
       "      <td>28.150000</td>\n",
       "      <td>27.750000</td>\n",
       "      <td>27.840000</td>\n",
       "      <td>22.087671</td>\n",
       "      <td>60014400</td>\n",
       "    </tr>\n",
       "  </tbody>\n",
       "</table>\n",
       "</div>"
      ]
     },
     "execution_count": 96,
     "metadata": {},
     "output_type": "execute_result"
    }
   ],
   "execution_count": 96
  },
  {
   "cell_type": "code",
   "id": "5ed83485",
   "metadata": {
    "ExecuteTime": {
     "end_time": "2024-04-19T07:50:21.301774Z",
     "start_time": "2024-04-19T07:50:21.287812Z"
    }
   },
   "source": [
    "msft.loc['2012-01-06']"
   ],
   "outputs": [
    {
     "data": {
      "text/plain": [
       "Open         2.753000e+01\n",
       "High         2.819000e+01\n",
       "Low          2.753000e+01\n",
       "Close        2.811000e+01\n",
       "Adj Close    2.230188e+01\n",
       "Volume       9.945550e+07\n",
       "Name: 2012-01-06 00:00:00, dtype: float64"
      ]
     },
     "execution_count": 97,
     "metadata": {},
     "output_type": "execute_result"
    }
   ],
   "execution_count": 97
  },
  {
   "cell_type": "code",
   "id": "879a6e7e",
   "metadata": {
    "ExecuteTime": {
     "end_time": "2024-04-19T07:50:21.395443Z",
     "start_time": "2024-04-19T07:50:21.374476Z"
    }
   },
   "source": "msftAC['2012-01-10'] # questo comando non funzionerebbe su un DataFrame (la stringa verrebbe considerata come il nome di una colonna), ma su una serie funziona (cerca la riga)",
   "outputs": [
    {
     "data": {
      "text/plain": [
       "22.087671279907227"
      ]
     },
     "execution_count": 98,
     "metadata": {},
     "output_type": "execute_result"
    }
   ],
   "execution_count": 98
  },
  {
   "cell_type": "markdown",
   "id": "645b958e",
   "metadata": {},
   "source": "### Creazione di serie temporali con frequenze specifiche"
  },
  {
   "cell_type": "code",
   "id": "f9f47210",
   "metadata": {
    "ExecuteTime": {
     "end_time": "2024-04-19T08:06:59.561024Z",
     "start_time": "2024-04-19T08:06:59.548042Z"
    }
   },
   "source": [
    "bymin = pd.Series(np.arange(0, 90*60*24), pd.date_range('2014-08-01',\n",
    "                                                       '2014-10-29 23:59:00', freq = 'min')) # min sta per 'minute'\n",
    "bymin"
   ],
   "outputs": [
    {
     "data": {
      "text/plain": [
       "2014-08-01 00:00:00         0\n",
       "2014-08-01 00:01:00         1\n",
       "2014-08-01 00:02:00         2\n",
       "2014-08-01 00:03:00         3\n",
       "2014-08-01 00:04:00         4\n",
       "                        ...  \n",
       "2014-10-29 23:55:00    129595\n",
       "2014-10-29 23:56:00    129596\n",
       "2014-10-29 23:57:00    129597\n",
       "2014-10-29 23:58:00    129598\n",
       "2014-10-29 23:59:00    129599\n",
       "Freq: min, Length: 129600, dtype: int32"
      ]
     },
     "execution_count": 120,
     "metadata": {},
     "output_type": "execute_result"
    }
   ],
   "execution_count": 120
  },
  {
   "cell_type": "code",
   "id": "ca8ca3cf",
   "metadata": {
    "ExecuteTime": {
     "end_time": "2024-04-19T07:50:21.741494Z",
     "start_time": "2024-04-19T07:50:21.718556Z"
    }
   },
   "source": [
    "bymin['2014-08-01 12:30':'2014-08-01 12:59']"
   ],
   "outputs": [
    {
     "data": {
      "text/plain": [
       "2014-08-01 12:30:00    750\n",
       "2014-08-01 12:31:00    751\n",
       "2014-08-01 12:32:00    752\n",
       "2014-08-01 12:33:00    753\n",
       "2014-08-01 12:34:00    754\n",
       "2014-08-01 12:35:00    755\n",
       "2014-08-01 12:36:00    756\n",
       "2014-08-01 12:37:00    757\n",
       "2014-08-01 12:38:00    758\n",
       "2014-08-01 12:39:00    759\n",
       "2014-08-01 12:40:00    760\n",
       "2014-08-01 12:41:00    761\n",
       "2014-08-01 12:42:00    762\n",
       "2014-08-01 12:43:00    763\n",
       "2014-08-01 12:44:00    764\n",
       "2014-08-01 12:45:00    765\n",
       "2014-08-01 12:46:00    766\n",
       "2014-08-01 12:47:00    767\n",
       "2014-08-01 12:48:00    768\n",
       "2014-08-01 12:49:00    769\n",
       "2014-08-01 12:50:00    770\n",
       "2014-08-01 12:51:00    771\n",
       "2014-08-01 12:52:00    772\n",
       "2014-08-01 12:53:00    773\n",
       "2014-08-01 12:54:00    774\n",
       "2014-08-01 12:55:00    775\n",
       "2014-08-01 12:56:00    776\n",
       "2014-08-01 12:57:00    777\n",
       "2014-08-01 12:58:00    778\n",
       "2014-08-01 12:59:00    779\n",
       "Freq: min, dtype: int32"
      ]
     },
     "execution_count": 100,
     "metadata": {},
     "output_type": "execute_result"
    }
   ],
   "execution_count": 100
  },
  {
   "cell_type": "code",
   "id": "03738fcd",
   "metadata": {
    "ExecuteTime": {
     "end_time": "2024-04-19T08:09:01.543938Z",
     "start_time": "2024-04-19T08:09:01.533965Z"
    }
   },
   "source": [
    "aug2014 = pd.Period('2014-08', freq ='M') # M sta per 'month'\n",
    "aug2014"
   ],
   "outputs": [
    {
     "data": {
      "text/plain": [
       "Period('2014-08', 'M')"
      ]
     },
     "execution_count": 123,
     "metadata": {},
     "output_type": "execute_result"
    }
   ],
   "execution_count": 123
  },
  {
   "cell_type": "code",
   "id": "13d9d0fb",
   "metadata": {
    "ExecuteTime": {
     "end_time": "2024-04-19T07:50:21.832784Z",
     "start_time": "2024-04-19T07:50:21.816294Z"
    }
   },
   "source": [
    "aug2014.start_time, aug2014.end_time"
   ],
   "outputs": [
    {
     "data": {
      "text/plain": [
       "(Timestamp('2014-08-01 00:00:00'), Timestamp('2014-08-31 23:59:59.999999999'))"
      ]
     },
     "execution_count": 102,
     "metadata": {},
     "output_type": "execute_result"
    }
   ],
   "execution_count": 102
  },
  {
   "cell_type": "code",
   "id": "b33df7d6",
   "metadata": {
    "ExecuteTime": {
     "end_time": "2024-04-19T07:50:21.848714Z",
     "start_time": "2024-04-19T07:50:21.834779Z"
    }
   },
   "source": [
    "sept2014 = aug2014 + 1\n",
    "sept2014"
   ],
   "outputs": [
    {
     "data": {
      "text/plain": [
       "Period('2014-09', 'M')"
      ]
     },
     "execution_count": 103,
     "metadata": {},
     "output_type": "execute_result"
    }
   ],
   "execution_count": 103
  },
  {
   "cell_type": "code",
   "id": "540fe5a2",
   "metadata": {
    "ExecuteTime": {
     "end_time": "2024-04-19T07:50:21.893594Z",
     "start_time": "2024-04-19T07:50:21.872674Z"
    }
   },
   "source": [
    "sept2014.start_time, sept2014.end_time"
   ],
   "outputs": [
    {
     "data": {
      "text/plain": [
       "(Timestamp('2014-09-01 00:00:00'), Timestamp('2014-09-30 23:59:59.999999999'))"
      ]
     },
     "execution_count": 104,
     "metadata": {},
     "output_type": "execute_result"
    }
   ],
   "execution_count": 104
  },
  {
   "metadata": {},
   "cell_type": "markdown",
   "source": [
    "Un elenco di periodi può essere espresso tramite l'oggetto PeriodIndex, il quale consente di usare tali periodi per indicizzare una serie. <br>\n",
    "Nell'esempio seguente, la funzione `period_range()` restituisce un oggetto PeriodIndex con frequenza fissata (in questo caso mensile), che viene poi usato per indicizzare una serie."
   ],
   "id": "a366ec83d54d681a"
  },
  {
   "cell_type": "code",
   "id": "54499cd5",
   "metadata": {
    "ExecuteTime": {
     "end_time": "2024-04-19T07:50:21.908555Z",
     "start_time": "2024-04-19T07:50:21.895590Z"
    }
   },
   "source": [
    "mp2013 = pd.period_range('1/1/2013','12/31/2013', freq = \"M\")\n",
    "mp2013"
   ],
   "outputs": [
    {
     "data": {
      "text/plain": [
       "PeriodIndex(['2013-01', '2013-02', '2013-03', '2013-04', '2013-05', '2013-06',\n",
       "             '2013-07', '2013-08', '2013-09', '2013-10', '2013-11', '2013-12'],\n",
       "            dtype='period[M]')"
      ]
     },
     "execution_count": 105,
     "metadata": {},
     "output_type": "execute_result"
    }
   ],
   "execution_count": 105
  },
  {
   "cell_type": "code",
   "id": "a500c90f",
   "metadata": {
    "ExecuteTime": {
     "end_time": "2024-04-19T07:50:21.985376Z",
     "start_time": "2024-04-19T07:50:21.972383Z"
    }
   },
   "source": [
    "for p in mp2013:\n",
    "    print(\"{0} {1} {2} {3}\".format(p, p.freq, p.start_time, p.end_time))"
   ],
   "outputs": [
    {
     "name": "stdout",
     "output_type": "stream",
     "text": [
      "2013-01 <MonthEnd> 2013-01-01 00:00:00 2013-01-31 23:59:59.999999999\n",
      "2013-02 <MonthEnd> 2013-02-01 00:00:00 2013-02-28 23:59:59.999999999\n",
      "2013-03 <MonthEnd> 2013-03-01 00:00:00 2013-03-31 23:59:59.999999999\n",
      "2013-04 <MonthEnd> 2013-04-01 00:00:00 2013-04-30 23:59:59.999999999\n",
      "2013-05 <MonthEnd> 2013-05-01 00:00:00 2013-05-31 23:59:59.999999999\n",
      "2013-06 <MonthEnd> 2013-06-01 00:00:00 2013-06-30 23:59:59.999999999\n",
      "2013-07 <MonthEnd> 2013-07-01 00:00:00 2013-07-31 23:59:59.999999999\n",
      "2013-08 <MonthEnd> 2013-08-01 00:00:00 2013-08-31 23:59:59.999999999\n",
      "2013-09 <MonthEnd> 2013-09-01 00:00:00 2013-09-30 23:59:59.999999999\n",
      "2013-10 <MonthEnd> 2013-10-01 00:00:00 2013-10-31 23:59:59.999999999\n",
      "2013-11 <MonthEnd> 2013-11-01 00:00:00 2013-11-30 23:59:59.999999999\n",
      "2013-12 <MonthEnd> 2013-12-01 00:00:00 2013-12-31 23:59:59.999999999\n"
     ]
    }
   ],
   "execution_count": 106
  },
  {
   "cell_type": "code",
   "id": "272acb60",
   "metadata": {
    "ExecuteTime": {
     "end_time": "2024-04-19T07:50:22.032223Z",
     "start_time": "2024-04-19T07:50:22.011279Z"
    }
   },
   "source": [
    "np.random.seed(123456)\n",
    "ps = pd.Series(np.random.randn(12), mp2013)\n",
    "ps"
   ],
   "outputs": [
    {
     "data": {
      "text/plain": [
       "2013-01    0.469112\n",
       "2013-02   -0.282863\n",
       "2013-03   -1.509059\n",
       "2013-04   -1.135632\n",
       "2013-05    1.212112\n",
       "2013-06   -0.173215\n",
       "2013-07    0.119209\n",
       "2013-08   -1.044236\n",
       "2013-09   -0.861849\n",
       "2013-10   -2.104569\n",
       "2013-11   -0.494929\n",
       "2013-12    1.071804\n",
       "Freq: M, dtype: float64"
      ]
     },
     "execution_count": 107,
     "metadata": {},
     "output_type": "execute_result"
    }
   ],
   "execution_count": 107
  },
  {
   "cell_type": "markdown",
   "id": "91efc3d3",
   "metadata": {},
   "source": [
    "### Valori ritardati\n",
    "\n",
    "Con la funzione `shift()` si può far shiftare (avanti oppure indietro) i valori di una serie per un certo numero di posti che viene passato come argomento. <br>\n",
    "Nell'esempio viene effettuato uno shift avanti di un posto; in prima posizione il dato è mancante, pertanto viene inserito il valore NaN."
   ]
  },
  {
   "cell_type": "code",
   "id": "ff9051fb",
   "metadata": {
    "ExecuteTime": {
     "end_time": "2024-04-19T07:50:22.080095Z",
     "start_time": "2024-04-19T07:50:22.068127Z"
    }
   },
   "source": [
    "msftAC[:5]"
   ],
   "outputs": [
    {
     "data": {
      "text/plain": [
       "Date\n",
       "2012-01-03    21.238750\n",
       "2012-01-04    21.738579\n",
       "2012-01-05    21.960726\n",
       "2012-01-06    22.301882\n",
       "2012-01-09    22.008329\n",
       "Name: Adj Close, dtype: float64"
      ]
     },
     "execution_count": 108,
     "metadata": {},
     "output_type": "execute_result"
    }
   ],
   "execution_count": 108
  },
  {
   "cell_type": "code",
   "id": "83c73bec",
   "metadata": {
    "ExecuteTime": {
     "end_time": "2024-04-19T07:50:22.124974Z",
     "start_time": "2024-04-19T07:50:22.115999Z"
    }
   },
   "source": [
    "shifted_forward = msftAC.shift(1)\n",
    "shifted_forward"
   ],
   "outputs": [
    {
     "data": {
      "text/plain": [
       "Date\n",
       "2012-01-03          NaN\n",
       "2012-01-04    21.238750\n",
       "2012-01-05    21.738579\n",
       "2012-01-06    21.960726\n",
       "2012-01-09    22.301882\n",
       "                ...    \n",
       "2013-12-23    30.930489\n",
       "2013-12-24    30.779188\n",
       "2013-12-26    31.165827\n",
       "2013-12-27    31.468397\n",
       "2013-12-30    31.342342\n",
       "Name: Adj Close, Length: 501, dtype: float64"
      ]
     },
     "execution_count": 109,
     "metadata": {},
     "output_type": "execute_result"
    }
   ],
   "execution_count": 109
  },
  {
   "cell_type": "code",
   "id": "fbdbafdb",
   "metadata": {
    "ExecuteTime": {
     "end_time": "2024-04-19T07:50:22.203763Z",
     "start_time": "2024-04-19T07:50:22.189802Z"
    }
   },
   "source": [
    "msftAC.tail(5), shifted_forward.tail(5)"
   ],
   "outputs": [
    {
     "data": {
      "text/plain": [
       "(Date\n",
       " 2013-12-23    30.779188\n",
       " 2013-12-24    31.165827\n",
       " 2013-12-26    31.468397\n",
       " 2013-12-27    31.342342\n",
       " 2013-12-30    31.342342\n",
       " Name: Adj Close, dtype: float64,\n",
       " Date\n",
       " 2013-12-23    30.930489\n",
       " 2013-12-24    30.779188\n",
       " 2013-12-26    31.165827\n",
       " 2013-12-27    31.468397\n",
       " 2013-12-30    31.342342\n",
       " Name: Adj Close, dtype: float64)"
      ]
     },
     "execution_count": 110,
     "metadata": {},
     "output_type": "execute_result"
    }
   ],
   "execution_count": 110
  },
  {
   "cell_type": "markdown",
   "id": "91fd0294",
   "metadata": {},
   "source": "Il metodo `shift()` viene spesso utilizzato per calcolare le variazioni percentuali di un indice rispetto a uno o più giorni prededenti."
  },
  {
   "cell_type": "code",
   "id": "73f938b2",
   "metadata": {
    "ExecuteTime": {
     "end_time": "2024-04-19T07:50:22.235678Z",
     "start_time": "2024-04-19T07:50:22.221716Z"
    }
   },
   "source": "msftAC/msftAC.shift(1) - 1 # in questo modo si passa da serie dei prezzi a serie dei ritorni",
   "outputs": [
    {
     "data": {
      "text/plain": [
       "Date\n",
       "2012-01-03         NaN\n",
       "2012-01-04    0.023534\n",
       "2012-01-05    0.010219\n",
       "2012-01-06    0.015535\n",
       "2012-01-09   -0.013163\n",
       "                ...   \n",
       "2013-12-23   -0.004892\n",
       "2013-12-24    0.012562\n",
       "2013-12-26    0.009708\n",
       "2013-12-27   -0.004006\n",
       "2013-12-30    0.000000\n",
       "Name: Adj Close, Length: 501, dtype: float64"
      ]
     },
     "execution_count": 111,
     "metadata": {},
     "output_type": "execute_result"
    }
   ],
   "execution_count": 111
  },
  {
   "cell_type": "code",
   "id": "4056a434",
   "metadata": {
    "ExecuteTime": {
     "end_time": "2024-04-19T07:50:22.283550Z",
     "start_time": "2024-04-19T07:50:22.269616Z"
    }
   },
   "source": [
    "pd.DataFrame(msftAC)"
   ],
   "outputs": [
    {
     "data": {
      "text/plain": [
       "            Adj Close\n",
       "Date                 \n",
       "2012-01-03  21.238750\n",
       "2012-01-04  21.738579\n",
       "2012-01-05  21.960726\n",
       "2012-01-06  22.301882\n",
       "2012-01-09  22.008329\n",
       "...               ...\n",
       "2013-12-23  30.779188\n",
       "2013-12-24  31.165827\n",
       "2013-12-26  31.468397\n",
       "2013-12-27  31.342342\n",
       "2013-12-30  31.342342\n",
       "\n",
       "[501 rows x 1 columns]"
      ],
      "text/html": [
       "<div>\n",
       "<style scoped>\n",
       "    .dataframe tbody tr th:only-of-type {\n",
       "        vertical-align: middle;\n",
       "    }\n",
       "\n",
       "    .dataframe tbody tr th {\n",
       "        vertical-align: top;\n",
       "    }\n",
       "\n",
       "    .dataframe thead th {\n",
       "        text-align: right;\n",
       "    }\n",
       "</style>\n",
       "<table border=\"1\" class=\"dataframe\">\n",
       "  <thead>\n",
       "    <tr style=\"text-align: right;\">\n",
       "      <th></th>\n",
       "      <th>Adj Close</th>\n",
       "    </tr>\n",
       "    <tr>\n",
       "      <th>Date</th>\n",
       "      <th></th>\n",
       "    </tr>\n",
       "  </thead>\n",
       "  <tbody>\n",
       "    <tr>\n",
       "      <th>2012-01-03</th>\n",
       "      <td>21.238750</td>\n",
       "    </tr>\n",
       "    <tr>\n",
       "      <th>2012-01-04</th>\n",
       "      <td>21.738579</td>\n",
       "    </tr>\n",
       "    <tr>\n",
       "      <th>2012-01-05</th>\n",
       "      <td>21.960726</td>\n",
       "    </tr>\n",
       "    <tr>\n",
       "      <th>2012-01-06</th>\n",
       "      <td>22.301882</td>\n",
       "    </tr>\n",
       "    <tr>\n",
       "      <th>2012-01-09</th>\n",
       "      <td>22.008329</td>\n",
       "    </tr>\n",
       "    <tr>\n",
       "      <th>...</th>\n",
       "      <td>...</td>\n",
       "    </tr>\n",
       "    <tr>\n",
       "      <th>2013-12-23</th>\n",
       "      <td>30.779188</td>\n",
       "    </tr>\n",
       "    <tr>\n",
       "      <th>2013-12-24</th>\n",
       "      <td>31.165827</td>\n",
       "    </tr>\n",
       "    <tr>\n",
       "      <th>2013-12-26</th>\n",
       "      <td>31.468397</td>\n",
       "    </tr>\n",
       "    <tr>\n",
       "      <th>2013-12-27</th>\n",
       "      <td>31.342342</td>\n",
       "    </tr>\n",
       "    <tr>\n",
       "      <th>2013-12-30</th>\n",
       "      <td>31.342342</td>\n",
       "    </tr>\n",
       "  </tbody>\n",
       "</table>\n",
       "<p>501 rows × 1 columns</p>\n",
       "</div>"
      ]
     },
     "execution_count": 112,
     "metadata": {},
     "output_type": "execute_result"
    }
   ],
   "execution_count": 112
  },
  {
   "cell_type": "markdown",
   "id": "23c41fda",
   "metadata": {},
   "source": "Calcolo del ritorno cumulato (lordo)."
  },
  {
   "cell_type": "code",
   "id": "02ec5d9b",
   "metadata": {
    "ExecuteTime": {
     "end_time": "2024-04-19T08:34:21.278639Z",
     "start_time": "2024-04-19T08:34:21.259668Z"
    }
   },
   "source": [
    "msft_cum_ret = (msftAC / msftAC.shift(1)).cumprod()\n",
    "msft_cum_ret\n",
    "# shift(1) è uguale a shift()"
   ],
   "outputs": [
    {
     "data": {
      "text/plain": [
       "Date\n",
       "2012-01-03         NaN\n",
       "2012-01-04    1.023534\n",
       "2012-01-05    1.033993\n",
       "2012-01-06    1.050056\n",
       "2012-01-09    1.036235\n",
       "                ...   \n",
       "2013-12-23    1.449200\n",
       "2013-12-24    1.467404\n",
       "2013-12-26    1.481650\n",
       "2013-12-27    1.475715\n",
       "2013-12-30    1.475715\n",
       "Name: Adj Close, Length: 501, dtype: float64"
      ]
     },
     "execution_count": 126,
     "metadata": {},
     "output_type": "execute_result"
    }
   ],
   "execution_count": 126
  }
 ],
 "metadata": {
  "kernelspec": {
   "display_name": "Python 3 (ipykernel)",
   "language": "python",
   "name": "python3"
  },
  "language_info": {
   "codemirror_mode": {
    "name": "ipython",
    "version": 3
   },
   "file_extension": ".py",
   "mimetype": "text/x-python",
   "name": "python",
   "nbconvert_exporter": "python",
   "pygments_lexer": "ipython3",
   "version": "3.11.3"
  }
 },
 "nbformat": 4,
 "nbformat_minor": 5
}
