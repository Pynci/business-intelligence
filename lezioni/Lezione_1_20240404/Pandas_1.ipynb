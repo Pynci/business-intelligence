{
 "cells": [
  {
   "attachments": {},
   "cell_type": "markdown",
   "id": "7ff05fa0",
   "metadata": {},
   "source": [
    "# Pandas 1"
   ]
  },
  {
   "cell_type": "code",
   "id": "a484a50c",
   "metadata": {
    "ExecuteTime": {
     "end_time": "2024-04-16T06:55:41.626815Z",
     "start_time": "2024-04-16T06:55:41.612853Z"
    }
   },
   "source": [
    "import pandas as pd\n",
    "import numpy as np"
   ],
   "outputs": [],
   "execution_count": 84
  },
  {
   "cell_type": "markdown",
   "id": "6ea3d8d3",
   "metadata": {},
   "source": [
    "### Creare una serie\n",
    "Proviamo a creare una serie pandas utilizzando dei numeri casuali generati con la libreria numpy. <br>\n",
    "Utilizziamo la proprietà random, con cui è possibile generare numeri pseudocasuali: specificando il medesimo seed è possibile generare sempre gli stessi numeri pseudocasuali (in questo caso utilizziamo sempre \"1\" come seed)."
   ]
  },
  {
   "cell_type": "code",
   "id": "9c834e57",
   "metadata": {
    "ExecuteTime": {
     "end_time": "2024-04-16T06:55:44.398530Z",
     "start_time": "2024-04-16T06:55:44.382471Z"
    }
   },
   "source": [
    "np.random.seed(1)\n",
    "s = pd.Series(np.random.randn(100))"
   ],
   "outputs": [],
   "execution_count": 85
  },
  {
   "cell_type": "code",
   "id": "389118a6",
   "metadata": {
    "ExecuteTime": {
     "end_time": "2024-04-16T06:55:44.478352Z",
     "start_time": "2024-04-16T06:55:44.460388Z"
    }
   },
   "source": [
    "s.head(21) # restituisce i primi 21 valori della serie (da 0 a 20)"
   ],
   "outputs": [
    {
     "data": {
      "text/plain": [
       "0     1.624345\n",
       "1    -0.611756\n",
       "2    -0.528172\n",
       "3    -1.072969\n",
       "4     0.865408\n",
       "5    -2.301539\n",
       "6     1.744812\n",
       "7    -0.761207\n",
       "8     0.319039\n",
       "9    -0.249370\n",
       "10    1.462108\n",
       "11   -2.060141\n",
       "12   -0.322417\n",
       "13   -0.384054\n",
       "14    1.133769\n",
       "15   -1.099891\n",
       "16   -0.172428\n",
       "17   -0.877858\n",
       "18    0.042214\n",
       "19    0.582815\n",
       "20   -1.100619\n",
       "dtype: float64"
      ]
     },
     "execution_count": 86,
     "metadata": {},
     "output_type": "execute_result"
    }
   ],
   "execution_count": 86
  },
  {
   "cell_type": "code",
   "id": "541c1430",
   "metadata": {
    "ExecuteTime": {
     "end_time": "2024-04-16T06:55:44.602994Z",
     "start_time": "2024-04-16T06:55:44.591027Z"
    }
   },
   "source": [
    "s[2] # restituisce il terzo elemento della serie (le serie sono indicizzate a partire da 0)"
   ],
   "outputs": [
    {
     "data": {
      "text/plain": [
       "-0.5281717522634557"
      ]
     },
     "execution_count": 87,
     "metadata": {},
     "output_type": "execute_result"
    }
   ],
   "execution_count": 87
  },
  {
   "cell_type": "code",
   "id": "c641cede",
   "metadata": {
    "ExecuteTime": {
     "end_time": "2024-04-16T06:55:44.696743Z",
     "start_time": "2024-04-16T06:55:44.687768Z"
    }
   },
   "source": [
    "s[[2,5,20]] # è possibile passare tra le quadre un array di posizioni per far restituire soltanto le posizioni di interesse"
   ],
   "outputs": [
    {
     "data": {
      "text/plain": [
       "2    -0.528172\n",
       "5    -2.301539\n",
       "20   -1.100619\n",
       "dtype: float64"
      ]
     },
     "execution_count": 88,
     "metadata": {},
     "output_type": "execute_result"
    }
   ],
   "execution_count": 88
  },
  {
   "cell_type": "code",
   "id": "61434f61",
   "metadata": {
    "ExecuteTime": {
     "end_time": "2024-04-16T06:55:44.886265Z",
     "start_time": "2024-04-16T06:55:44.867290Z"
    }
   },
   "source": [
    "s[3:8] # restituisce gli elementi compresi tra le posizioni specificate (estremo finale escluso)"
   ],
   "outputs": [
    {
     "data": {
      "text/plain": [
       "3   -1.072969\n",
       "4    0.865408\n",
       "5   -2.301539\n",
       "6    1.744812\n",
       "7   -0.761207\n",
       "dtype: float64"
      ]
     },
     "execution_count": 89,
     "metadata": {},
     "output_type": "execute_result"
    }
   ],
   "execution_count": 89
  },
  {
   "cell_type": "code",
   "id": "dcf5ac6f",
   "metadata": {
    "ExecuteTime": {
     "end_time": "2024-04-16T06:55:44.979986Z",
     "start_time": "2024-04-16T06:55:44.968018Z"
    }
   },
   "source": [
    "s.tail(10) # restituisce gli ultimi 10 elementi della serie"
   ],
   "outputs": [
    {
     "data": {
      "text/plain": [
       "90    1.198918\n",
       "91    0.185156\n",
       "92   -0.375285\n",
       "93   -0.638730\n",
       "94    0.423494\n",
       "95    0.077340\n",
       "96   -0.343854\n",
       "97    0.043597\n",
       "98   -0.620001\n",
       "99    0.698032\n",
       "dtype: float64"
      ]
     },
     "execution_count": 90,
     "metadata": {},
     "output_type": "execute_result"
    }
   ],
   "execution_count": 90
  },
  {
   "cell_type": "code",
   "id": "519d6150",
   "metadata": {
    "ExecuteTime": {
     "end_time": "2024-04-16T06:55:45.121636Z",
     "start_time": "2024-04-16T06:55:45.103657Z"
    }
   },
   "source": [
    "s.index # proprietà che permette di conoscere come la serie è indicizzata"
   ],
   "outputs": [
    {
     "data": {
      "text/plain": [
       "RangeIndex(start=0, stop=100, step=1)"
      ]
     },
     "execution_count": 91,
     "metadata": {},
     "output_type": "execute_result"
    }
   ],
   "execution_count": 91
  },
  {
   "cell_type": "code",
   "id": "d5d3b115",
   "metadata": {
    "ExecuteTime": {
     "end_time": "2024-04-16T06:55:45.295802Z",
     "start_time": "2024-04-16T06:55:45.288822Z"
    }
   },
   "source": [
    "s.values # proprietà che elenca i valori della serie in un array"
   ],
   "outputs": [
    {
     "data": {
      "text/plain": [
       "array([ 1.62434536, -0.61175641, -0.52817175, -1.07296862,  0.86540763,\n",
       "       -2.3015387 ,  1.74481176, -0.7612069 ,  0.3190391 , -0.24937038,\n",
       "        1.46210794, -2.06014071, -0.3224172 , -0.38405435,  1.13376944,\n",
       "       -1.09989127, -0.17242821, -0.87785842,  0.04221375,  0.58281521,\n",
       "       -1.10061918,  1.14472371,  0.90159072,  0.50249434,  0.90085595,\n",
       "       -0.68372786, -0.12289023, -0.93576943, -0.26788808,  0.53035547,\n",
       "       -0.69166075, -0.39675353, -0.6871727 , -0.84520564, -0.67124613,\n",
       "       -0.0126646 , -1.11731035,  0.2344157 ,  1.65980218,  0.74204416,\n",
       "       -0.19183555, -0.88762896, -0.74715829,  1.6924546 ,  0.05080775,\n",
       "       -0.63699565,  0.19091548,  2.10025514,  0.12015895,  0.61720311,\n",
       "        0.30017032, -0.35224985, -1.1425182 , -0.34934272, -0.20889423,\n",
       "        0.58662319,  0.83898341,  0.93110208,  0.28558733,  0.88514116,\n",
       "       -0.75439794,  1.25286816,  0.51292982, -0.29809284,  0.48851815,\n",
       "       -0.07557171,  1.13162939,  1.51981682,  2.18557541, -1.39649634,\n",
       "       -1.44411381, -0.50446586,  0.16003707,  0.87616892,  0.31563495,\n",
       "       -2.02220122, -0.30620401,  0.82797464,  0.23009474,  0.76201118,\n",
       "       -0.22232814, -0.20075807,  0.18656139,  0.41005165,  0.19829972,\n",
       "        0.11900865, -0.67066229,  0.37756379,  0.12182127,  1.12948391,\n",
       "        1.19891788,  0.18515642, -0.37528495, -0.63873041,  0.42349435,\n",
       "        0.07734007, -0.34385368,  0.04359686, -0.62000084,  0.69803203])"
      ]
     },
     "execution_count": 92,
     "metadata": {},
     "output_type": "execute_result"
    }
   ],
   "execution_count": 92
  },
  {
   "cell_type": "markdown",
   "id": "69e1a402",
   "metadata": {},
   "source": [
    "È possibile decidiere di indicizzare una serie in maniera diversa da quella default"
   ]
  },
  {
   "cell_type": "code",
   "id": "f2892c15",
   "metadata": {
    "ExecuteTime": {
     "end_time": "2024-04-16T06:55:45.391656Z",
     "start_time": "2024-04-16T06:55:45.375700Z"
    }
   },
   "source": [
    "s2 = pd.Series([1,2,3,4], index = ['a', 'b', 'c', 'd'])\n",
    "s2"
   ],
   "outputs": [
    {
     "data": {
      "text/plain": [
       "a    1\n",
       "b    2\n",
       "c    3\n",
       "d    4\n",
       "dtype: int64"
      ]
     },
     "execution_count": 93,
     "metadata": {},
     "output_type": "execute_result"
    }
   ],
   "execution_count": 93
  },
  {
   "cell_type": "markdown",
   "id": "dc9ccf7c",
   "metadata": {},
   "source": [
    "Anche a partire da un dizionario chiave:valore può essere creata una serie, in cui la chiave di ciascun elemento del dizionario corrisponderà all'indice di tale elemento nella serie"
   ]
  },
  {
   "cell_type": "code",
   "id": "878ce824",
   "metadata": {
    "ExecuteTime": {
     "end_time": "2024-04-16T06:55:45.567187Z",
     "start_time": "2024-04-16T06:55:45.556217Z"
    }
   },
   "source": [
    "\n",
    "s3 = pd.Series({'a':1, 'b':2, 'c':3, 'd':4})"
   ],
   "outputs": [],
   "execution_count": 94
  },
  {
   "cell_type": "markdown",
   "id": "af286ee2",
   "metadata": {},
   "source": [
    "Il numero di elementi di una serie può essere determinato utilizzando la funzione `len()`."
   ]
  },
  {
   "cell_type": "code",
   "id": "4c056163",
   "metadata": {
    "ExecuteTime": {
     "end_time": "2024-04-16T06:55:45.646001Z",
     "start_time": "2024-04-16T06:55:45.629023Z"
    }
   },
   "source": [
    "s = pd.Series([10,0,1,1,2,3,4,5,6,np.nan])\n",
    "s"
   ],
   "outputs": [
    {
     "data": {
      "text/plain": [
       "0    10.0\n",
       "1     0.0\n",
       "2     1.0\n",
       "3     1.0\n",
       "4     2.0\n",
       "5     3.0\n",
       "6     4.0\n",
       "7     5.0\n",
       "8     6.0\n",
       "9     NaN\n",
       "dtype: float64"
      ]
     },
     "execution_count": 95,
     "metadata": {},
     "output_type": "execute_result"
    }
   ],
   "execution_count": 95
  },
  {
   "cell_type": "code",
   "id": "3dba4f89",
   "metadata": {
    "ExecuteTime": {
     "end_time": "2024-04-16T06:55:45.820537Z",
     "start_time": "2024-04-16T06:55:45.813529Z"
    }
   },
   "source": [
    "len(s)"
   ],
   "outputs": [
    {
     "data": {
      "text/plain": [
       "10"
      ]
     },
     "execution_count": 96,
     "metadata": {},
     "output_type": "execute_result"
    }
   ],
   "execution_count": 96
  },
  {
   "cell_type": "markdown",
   "id": "bb1386ed",
   "metadata": {},
   "source": [
    "Un altro modo per determinare la dimensione di una serie è utilizzare la proprietà `shape` che restituisce una tupla con le dimensioni, numero righe e numero colonne.<br>\n",
    "Nel caso di una serie avente una sola dimensione, si ottiene una tupla contenente un solo valore."
   ]
  },
  {
   "cell_type": "code",
   "id": "f74c9c29",
   "metadata": {
    "ExecuteTime": {
     "end_time": "2024-04-16T06:55:45.914259Z",
     "start_time": "2024-04-16T06:55:45.894313Z"
    }
   },
   "source": [
    "s.shape"
   ],
   "outputs": [
    {
     "data": {
      "text/plain": [
       "(10,)"
      ]
     },
     "execution_count": 97,
     "metadata": {},
     "output_type": "execute_result"
    }
   ],
   "execution_count": 97
  },
  {
   "cell_type": "markdown",
   "id": "2bd55636",
   "metadata": {},
   "source": [
    "Nella serie di esempio abbiamo un valore che non è un numero (np.nan): per contare solo i valori numerici si utilizza il metodo `count()`."
   ]
  },
  {
   "cell_type": "code",
   "id": "e0d5ecbf",
   "metadata": {
    "ExecuteTime": {
     "end_time": "2024-04-16T06:55:46.085045Z",
     "start_time": "2024-04-16T06:55:46.069088Z"
    }
   },
   "source": [
    "s.count()"
   ],
   "outputs": [
    {
     "data": {
      "text/plain": [
       "9"
      ]
     },
     "execution_count": 98,
     "metadata": {},
     "output_type": "execute_result"
    }
   ],
   "execution_count": 98
  },
  {
   "cell_type": "markdown",
   "id": "49726aec",
   "metadata": {},
   "source": [
    "Per conoscere invece i valori unici di una serie si utilizza il metodo `unique()`."
   ]
  },
  {
   "cell_type": "code",
   "id": "2a60ee55",
   "metadata": {
    "ExecuteTime": {
     "end_time": "2024-04-16T06:55:46.147666Z",
     "start_time": "2024-04-16T06:55:46.139688Z"
    }
   },
   "source": [
    "s.unique()"
   ],
   "outputs": [
    {
     "data": {
      "text/plain": [
       "array([10.,  0.,  1.,  2.,  3.,  4.,  5.,  6., nan])"
      ]
     },
     "execution_count": 99,
     "metadata": {},
     "output_type": "execute_result"
    }
   ],
   "execution_count": 99
  },
  {
   "cell_type": "markdown",
   "id": "7fa25c80",
   "metadata": {},
   "source": [
    "E per contare invece il numero di volte in cui appaiono tali valori unici nella serie si usa il metodo `value_counts()`, il quale restituisce i valori già ordinati in ordine decrescente."
   ]
  },
  {
   "cell_type": "code",
   "id": "ce358c1e",
   "metadata": {
    "ExecuteTime": {
     "end_time": "2024-04-16T06:55:46.353218Z",
     "start_time": "2024-04-16T06:55:46.331274Z"
    }
   },
   "source": [
    "s.value_counts()"
   ],
   "outputs": [
    {
     "data": {
      "text/plain": [
       "1.0     2\n",
       "10.0    1\n",
       "0.0     1\n",
       "2.0     1\n",
       "3.0     1\n",
       "4.0     1\n",
       "5.0     1\n",
       "6.0     1\n",
       "Name: count, dtype: int64"
      ]
     },
     "execution_count": 100,
     "metadata": {},
     "output_type": "execute_result"
    }
   ],
   "execution_count": 100
  },
  {
   "cell_type": "markdown",
   "id": "e22bd1ba",
   "metadata": {},
   "source": [
    "__NB__: una differenza fondamentale fra gli array di Numpy e le serie di Pandas è che le serie sono in grado di effettuare l'allineamento automatico sulla base dell'etichette poste come indici; questo significa che gli elementi appartenenti a due diverse serie vengono fatti corrispondere sulla base dell'etichetta, non sulla base della sola posizione come invece avviene negli array Numpy."
   ]
  },
  {
   "cell_type": "code",
   "id": "c512be88",
   "metadata": {
    "ExecuteTime": {
     "end_time": "2024-04-16T06:55:46.429987Z",
     "start_time": "2024-04-16T06:55:46.423006Z"
    }
   },
   "source": [
    "s3 = pd.Series([1,2,3,4], index = ['a','b','c','d'])"
   ],
   "outputs": [],
   "execution_count": 101
  },
  {
   "cell_type": "code",
   "id": "a269d494",
   "metadata": {
    "ExecuteTime": {
     "end_time": "2024-04-16T06:55:46.620503Z",
     "start_time": "2024-04-16T06:55:46.608509Z"
    }
   },
   "source": [
    "s3"
   ],
   "outputs": [
    {
     "data": {
      "text/plain": [
       "a    1\n",
       "b    2\n",
       "c    3\n",
       "d    4\n",
       "dtype: int64"
      ]
     },
     "execution_count": 102,
     "metadata": {},
     "output_type": "execute_result"
    }
   ],
   "execution_count": 102
  },
  {
   "cell_type": "code",
   "id": "9745a7e3",
   "metadata": {
    "ExecuteTime": {
     "end_time": "2024-04-16T06:55:46.746168Z",
     "start_time": "2024-04-16T06:55:46.729214Z"
    }
   },
   "source": [
    "s4 = pd.Series([4,3,2,1], index = ['d','c','b','a'])\n",
    "s4"
   ],
   "outputs": [
    {
     "data": {
      "text/plain": [
       "d    4\n",
       "c    3\n",
       "b    2\n",
       "a    1\n",
       "dtype: int64"
      ]
     },
     "execution_count": 103,
     "metadata": {},
     "output_type": "execute_result"
    }
   ],
   "execution_count": 103
  },
  {
   "cell_type": "markdown",
   "id": "c8b78807",
   "metadata": {},
   "source": [
    "Avendo gli stessi indici è possibile sommare le due serie, ottenendo una nuova serie contenente in ciascun elemento la somma degli elementi delle due serie sommate. <br>\n",
    "__NB__: nonostante le etichette siano state assegnate agli indici in un ordine differente nelle due serie, la somma avviene comunque facendo combaciare tali etichette."
   ]
  },
  {
   "cell_type": "code",
   "id": "a3fb0a28",
   "metadata": {
    "ExecuteTime": {
     "end_time": "2024-04-16T06:55:46.823959Z",
     "start_time": "2024-04-16T06:55:46.804983Z"
    }
   },
   "source": [
    "s3 + s4"
   ],
   "outputs": [
    {
     "data": {
      "text/plain": [
       "a    2\n",
       "b    4\n",
       "c    6\n",
       "d    8\n",
       "dtype: int64"
      ]
     },
     "execution_count": 104,
     "metadata": {},
     "output_type": "execute_result"
    }
   ],
   "execution_count": 104
  },
  {
   "cell_type": "markdown",
   "id": "9581030b",
   "metadata": {},
   "source": [
    "Negli array Numpy invece, l'operazione viene effettuata solo sulla base della posizione: sommare due array significa quindi ottenere un nuovo array dove ciascun elemento è dato dalla somma degli elementi posti in nella medesima posizione nei due array."
   ]
  },
  {
   "cell_type": "code",
   "id": "77b9f3cc",
   "metadata": {
    "ExecuteTime": {
     "end_time": "2024-04-16T06:55:46.980542Z",
     "start_time": "2024-04-16T06:55:46.965554Z"
    }
   },
   "source": [
    "np3 = np.array([1,2,3,4])\n",
    "np4 = np.array([4,3,2,1])"
   ],
   "outputs": [],
   "execution_count": 105
  },
  {
   "cell_type": "code",
   "id": "55cb63d4",
   "metadata": {
    "ExecuteTime": {
     "end_time": "2024-04-16T06:55:47.060300Z",
     "start_time": "2024-04-16T06:55:47.053320Z"
    }
   },
   "source": [
    "np3 + np4"
   ],
   "outputs": [
    {
     "data": {
      "text/plain": [
       "array([5, 5, 5, 5])"
      ]
     },
     "execution_count": 106,
     "metadata": {},
     "output_type": "execute_result"
    }
   ],
   "execution_count": 106
  },
  {
   "cell_type": "markdown",
   "id": "d01b23a0",
   "metadata": {},
   "source": [
    "### Creare un dataframe"
   ]
  },
  {
   "cell_type": "markdown",
   "id": "ff4c23f5",
   "metadata": {},
   "source": [
    "Un DataFrame può essere creato combinando diversi array Numpy."
   ]
  },
  {
   "cell_type": "code",
   "id": "f8c33fa4",
   "metadata": {
    "ExecuteTime": {
     "end_time": "2024-04-16T06:55:47.234833Z",
     "start_time": "2024-04-16T06:55:47.220870Z"
    }
   },
   "source": [
    "pd.DataFrame(np.array([[10,11],[20,21],[30,31]]))"
   ],
   "outputs": [
    {
     "data": {
      "text/plain": [
       "    0   1\n",
       "0  10  11\n",
       "1  20  21\n",
       "2  30  31"
      ],
      "text/html": [
       "<div>\n",
       "<style scoped>\n",
       "    .dataframe tbody tr th:only-of-type {\n",
       "        vertical-align: middle;\n",
       "    }\n",
       "\n",
       "    .dataframe tbody tr th {\n",
       "        vertical-align: top;\n",
       "    }\n",
       "\n",
       "    .dataframe thead th {\n",
       "        text-align: right;\n",
       "    }\n",
       "</style>\n",
       "<table border=\"1\" class=\"dataframe\">\n",
       "  <thead>\n",
       "    <tr style=\"text-align: right;\">\n",
       "      <th></th>\n",
       "      <th>0</th>\n",
       "      <th>1</th>\n",
       "    </tr>\n",
       "  </thead>\n",
       "  <tbody>\n",
       "    <tr>\n",
       "      <th>0</th>\n",
       "      <td>10</td>\n",
       "      <td>11</td>\n",
       "    </tr>\n",
       "    <tr>\n",
       "      <th>1</th>\n",
       "      <td>20</td>\n",
       "      <td>21</td>\n",
       "    </tr>\n",
       "    <tr>\n",
       "      <th>2</th>\n",
       "      <td>30</td>\n",
       "      <td>31</td>\n",
       "    </tr>\n",
       "  </tbody>\n",
       "</table>\n",
       "</div>"
      ]
     },
     "execution_count": 107,
     "metadata": {},
     "output_type": "execute_result"
    }
   ],
   "execution_count": 107
  },
  {
   "cell_type": "markdown",
   "id": "7daabb3d",
   "metadata": {},
   "source": [
    "Se non si specificano i valori degli indici e i nomi delle colonne, Pandas utilizza numeri interi."
   ]
  },
  {
   "cell_type": "markdown",
   "id": "c6ecac5a",
   "metadata": {},
   "source": [
    "Un DataFrame può anche essere creato combinando diverse serie Pandas."
   ]
  },
  {
   "cell_type": "code",
   "id": "a5b7e75f",
   "metadata": {
    "ExecuteTime": {
     "end_time": "2024-04-16T06:55:47.314620Z",
     "start_time": "2024-04-16T06:55:47.301655Z"
    }
   },
   "source": [
    "df1 = pd.DataFrame([pd.Series(np.arange(10,15)),\n",
    "                   pd.Series(np.arange(15,20))])\n",
    "df1"
   ],
   "outputs": [
    {
     "data": {
      "text/plain": [
       "    0   1   2   3   4\n",
       "0  10  11  12  13  14\n",
       "1  15  16  17  18  19"
      ],
      "text/html": [
       "<div>\n",
       "<style scoped>\n",
       "    .dataframe tbody tr th:only-of-type {\n",
       "        vertical-align: middle;\n",
       "    }\n",
       "\n",
       "    .dataframe tbody tr th {\n",
       "        vertical-align: top;\n",
       "    }\n",
       "\n",
       "    .dataframe thead th {\n",
       "        text-align: right;\n",
       "    }\n",
       "</style>\n",
       "<table border=\"1\" class=\"dataframe\">\n",
       "  <thead>\n",
       "    <tr style=\"text-align: right;\">\n",
       "      <th></th>\n",
       "      <th>0</th>\n",
       "      <th>1</th>\n",
       "      <th>2</th>\n",
       "      <th>3</th>\n",
       "      <th>4</th>\n",
       "    </tr>\n",
       "  </thead>\n",
       "  <tbody>\n",
       "    <tr>\n",
       "      <th>0</th>\n",
       "      <td>10</td>\n",
       "      <td>11</td>\n",
       "      <td>12</td>\n",
       "      <td>13</td>\n",
       "      <td>14</td>\n",
       "    </tr>\n",
       "    <tr>\n",
       "      <th>1</th>\n",
       "      <td>15</td>\n",
       "      <td>16</td>\n",
       "      <td>17</td>\n",
       "      <td>18</td>\n",
       "      <td>19</td>\n",
       "    </tr>\n",
       "  </tbody>\n",
       "</table>\n",
       "</div>"
      ]
     },
     "execution_count": 108,
     "metadata": {},
     "output_type": "execute_result"
    }
   ],
   "execution_count": 108
  },
  {
   "cell_type": "markdown",
   "id": "f6b8e296",
   "metadata": {},
   "source": [
    "Per conoscere le dimensioni di un DataFrame è possibile nuovamente fare uso della proprietà `shape`. <br>\n",
    "__NB__: un DataFrame ha solo due dimensioni, quindi `shape` restituisce sempre una tupla del tipo (numero_righe, numero_colonne)."
   ]
  },
  {
   "cell_type": "code",
   "id": "14677a18",
   "metadata": {
    "ExecuteTime": {
     "end_time": "2024-04-16T06:55:47.521196Z",
     "start_time": "2024-04-16T06:55:47.507421Z"
    }
   },
   "source": [
    "df1.shape"
   ],
   "outputs": [
    {
     "data": {
      "text/plain": [
       "(2, 5)"
      ]
     },
     "execution_count": 109,
     "metadata": {},
     "output_type": "execute_result"
    }
   ],
   "execution_count": 109
  },
  {
   "cell_type": "markdown",
   "id": "a8726c94",
   "metadata": {},
   "source": [
    "Per associare un nome alle colonne si fa uso del parametro `columns`."
   ]
  },
  {
   "cell_type": "code",
   "id": "994aaa2c",
   "metadata": {
    "ExecuteTime": {
     "end_time": "2024-04-16T06:55:47.677365Z",
     "start_time": "2024-04-16T06:55:47.660384Z"
    }
   },
   "source": [
    "df = pd.DataFrame(np.array([[10,11],[20,21],[30,31]]), columns = ['a','b'])\n",
    "df"
   ],
   "outputs": [
    {
     "data": {
      "text/plain": [
       "    a   b\n",
       "0  10  11\n",
       "1  20  21\n",
       "2  30  31"
      ],
      "text/html": [
       "<div>\n",
       "<style scoped>\n",
       "    .dataframe tbody tr th:only-of-type {\n",
       "        vertical-align: middle;\n",
       "    }\n",
       "\n",
       "    .dataframe tbody tr th {\n",
       "        vertical-align: top;\n",
       "    }\n",
       "\n",
       "    .dataframe thead th {\n",
       "        text-align: right;\n",
       "    }\n",
       "</style>\n",
       "<table border=\"1\" class=\"dataframe\">\n",
       "  <thead>\n",
       "    <tr style=\"text-align: right;\">\n",
       "      <th></th>\n",
       "      <th>a</th>\n",
       "      <th>b</th>\n",
       "    </tr>\n",
       "  </thead>\n",
       "  <tbody>\n",
       "    <tr>\n",
       "      <th>0</th>\n",
       "      <td>10</td>\n",
       "      <td>11</td>\n",
       "    </tr>\n",
       "    <tr>\n",
       "      <th>1</th>\n",
       "      <td>20</td>\n",
       "      <td>21</td>\n",
       "    </tr>\n",
       "    <tr>\n",
       "      <th>2</th>\n",
       "      <td>30</td>\n",
       "      <td>31</td>\n",
       "    </tr>\n",
       "  </tbody>\n",
       "</table>\n",
       "</div>"
      ]
     },
     "execution_count": 110,
     "metadata": {},
     "output_type": "execute_result"
    }
   ],
   "execution_count": 110
  },
  {
   "cell_type": "markdown",
   "id": "aaad8815",
   "metadata": {},
   "source": [
    "E per conoscere il nome delle colonne di un DataFrame si usa l'omonima proprietà."
   ]
  },
  {
   "cell_type": "code",
   "id": "fe11ad16",
   "metadata": {
    "ExecuteTime": {
     "end_time": "2024-04-16T06:55:47.911755Z",
     "start_time": "2024-04-16T06:55:47.898735Z"
    }
   },
   "source": [
    "df.columns"
   ],
   "outputs": [
    {
     "data": {
      "text/plain": [
       "Index(['a', 'b'], dtype='object')"
      ]
     },
     "execution_count": 111,
     "metadata": {},
     "output_type": "execute_result"
    }
   ],
   "execution_count": 111
  },
  {
   "cell_type": "markdown",
   "id": "db531e76",
   "metadata": {},
   "source": [
    "__NB__: è possibile sovrascrivere i nomi delle colonne di un DataFrame assegnando i nuovi nomi alla sua proprietà `columns`."
   ]
  },
  {
   "cell_type": "code",
   "id": "d8960625",
   "metadata": {
    "ExecuteTime": {
     "end_time": "2024-04-16T06:55:48.068766Z",
     "start_time": "2024-04-16T06:55:48.054806Z"
    }
   },
   "source": [
    "df.columns = ['c1', 'c2']\n",
    "df"
   ],
   "outputs": [
    {
     "data": {
      "text/plain": [
       "   c1  c2\n",
       "0  10  11\n",
       "1  20  21\n",
       "2  30  31"
      ],
      "text/html": [
       "<div>\n",
       "<style scoped>\n",
       "    .dataframe tbody tr th:only-of-type {\n",
       "        vertical-align: middle;\n",
       "    }\n",
       "\n",
       "    .dataframe tbody tr th {\n",
       "        vertical-align: top;\n",
       "    }\n",
       "\n",
       "    .dataframe thead th {\n",
       "        text-align: right;\n",
       "    }\n",
       "</style>\n",
       "<table border=\"1\" class=\"dataframe\">\n",
       "  <thead>\n",
       "    <tr style=\"text-align: right;\">\n",
       "      <th></th>\n",
       "      <th>c1</th>\n",
       "      <th>c2</th>\n",
       "    </tr>\n",
       "  </thead>\n",
       "  <tbody>\n",
       "    <tr>\n",
       "      <th>0</th>\n",
       "      <td>10</td>\n",
       "      <td>11</td>\n",
       "    </tr>\n",
       "    <tr>\n",
       "      <th>1</th>\n",
       "      <td>20</td>\n",
       "      <td>21</td>\n",
       "    </tr>\n",
       "    <tr>\n",
       "      <th>2</th>\n",
       "      <td>30</td>\n",
       "      <td>31</td>\n",
       "    </tr>\n",
       "  </tbody>\n",
       "</table>\n",
       "</div>"
      ]
     },
     "execution_count": 112,
     "metadata": {},
     "output_type": "execute_result"
    }
   ],
   "execution_count": 112
  },
  {
   "cell_type": "markdown",
   "id": "d499717e",
   "metadata": {},
   "source": [
    "__NB__: vale lo stesso identico discorso per le righe, questa volta usando la proprietà `index`."
   ]
  },
  {
   "cell_type": "code",
   "id": "c9cec395",
   "metadata": {
    "ExecuteTime": {
     "end_time": "2024-04-16T06:55:48.319952Z",
     "start_time": "2024-04-16T06:55:48.302143Z"
    }
   },
   "source": [
    "df.index = ['r1', 'r2', 'r3']\n",
    "df"
   ],
   "outputs": [
    {
     "data": {
      "text/plain": [
       "    c1  c2\n",
       "r1  10  11\n",
       "r2  20  21\n",
       "r3  30  31"
      ],
      "text/html": [
       "<div>\n",
       "<style scoped>\n",
       "    .dataframe tbody tr th:only-of-type {\n",
       "        vertical-align: middle;\n",
       "    }\n",
       "\n",
       "    .dataframe tbody tr th {\n",
       "        vertical-align: top;\n",
       "    }\n",
       "\n",
       "    .dataframe thead th {\n",
       "        text-align: right;\n",
       "    }\n",
       "</style>\n",
       "<table border=\"1\" class=\"dataframe\">\n",
       "  <thead>\n",
       "    <tr style=\"text-align: right;\">\n",
       "      <th></th>\n",
       "      <th>c1</th>\n",
       "      <th>c2</th>\n",
       "    </tr>\n",
       "  </thead>\n",
       "  <tbody>\n",
       "    <tr>\n",
       "      <th>r1</th>\n",
       "      <td>10</td>\n",
       "      <td>11</td>\n",
       "    </tr>\n",
       "    <tr>\n",
       "      <th>r2</th>\n",
       "      <td>20</td>\n",
       "      <td>21</td>\n",
       "    </tr>\n",
       "    <tr>\n",
       "      <th>r3</th>\n",
       "      <td>30</td>\n",
       "      <td>31</td>\n",
       "    </tr>\n",
       "  </tbody>\n",
       "</table>\n",
       "</div>"
      ]
     },
     "execution_count": 113,
     "metadata": {},
     "output_type": "execute_result"
    }
   ],
   "execution_count": 113
  },
  {
   "cell_type": "markdown",
   "id": "f5ae1927",
   "metadata": {},
   "source": [
    "La proprietà `index` serve anche per conoscere i nomi degli indici del DataFrame."
   ]
  },
  {
   "cell_type": "code",
   "id": "c250cde4",
   "metadata": {
    "ExecuteTime": {
     "end_time": "2024-04-16T06:55:48.475535Z",
     "start_time": "2024-04-16T06:55:48.464566Z"
    }
   },
   "source": [
    "df.index"
   ],
   "outputs": [
    {
     "data": {
      "text/plain": [
       "Index(['r1', 'r2', 'r3'], dtype='object')"
      ]
     },
     "execution_count": 114,
     "metadata": {},
     "output_type": "execute_result"
    }
   ],
   "execution_count": 114
  },
  {
   "cell_type": "markdown",
   "id": "51135c10",
   "metadata": {},
   "source": [
    "### Esempi\n",
    "\n",
    "Creiamo un DataFrame partendo da un file csv che contiene dati sulle 500 società che costituiscono l'indice della borsa americana Standard & Poors 500.<br>\n",
    "Con il parametro `index_col` specifichiamo quale colonna del file csv dovrà rappresentare l'indice del DataFrame che stiamo creando: in questo caso scegliamo la colonna \"Symbol\", che contiene i tickers dei titoli."
   ]
  },
  {
   "cell_type": "code",
   "id": "024d3f21",
   "metadata": {
    "ExecuteTime": {
     "end_time": "2024-04-16T06:55:48.774735Z",
     "start_time": "2024-04-16T06:55:48.751797Z"
    }
   },
   "source": [
    "sp500 = pd.read_csv(\"sp500.csv\", index_col='Symbol')"
   ],
   "outputs": [],
   "execution_count": 115
  },
  {
   "cell_type": "code",
   "id": "62746541",
   "metadata": {
    "ExecuteTime": {
     "end_time": "2024-04-16T06:55:48.991620Z",
     "start_time": "2024-04-16T06:55:48.974669Z"
    }
   },
   "source": [
    "sp500.shape # dimensioni del dataframe: 500 righe e 14 colonne"
   ],
   "outputs": [
    {
     "data": {
      "text/plain": [
       "(500, 14)"
      ]
     },
     "execution_count": 116,
     "metadata": {},
     "output_type": "execute_result"
    }
   ],
   "execution_count": 116
  },
  {
   "cell_type": "code",
   "id": "258faf12",
   "metadata": {
    "ExecuteTime": {
     "end_time": "2024-04-16T06:55:49.288825Z",
     "start_time": "2024-04-16T06:55:49.267882Z"
    }
   },
   "source": [
    "sp500.index # indici del dataframe, ovvero i tickers dei titoli"
   ],
   "outputs": [
    {
     "data": {
      "text/plain": [
       "Index(['MMM', 'ABT', 'ABBV', 'ACN', 'ACE', 'ACT', 'ADBE', 'AES', 'AET', 'AFL',\n",
       "       ...\n",
       "       'XEL', 'XRX', 'XLNX', 'XL', 'XYL', 'YHOO', 'YUM', 'ZMH', 'ZION', 'ZTS'],\n",
       "      dtype='object', name='Symbol', length=500)"
      ]
     },
     "execution_count": 117,
     "metadata": {},
     "output_type": "execute_result"
    }
   ],
   "execution_count": 117
  },
  {
   "cell_type": "code",
   "id": "a6ea1c2b",
   "metadata": {
    "ExecuteTime": {
     "end_time": "2024-04-16T06:55:49.460812Z",
     "start_time": "2024-04-16T06:55:49.441862Z"
    }
   },
   "source": [
    "sp500.columns"
   ],
   "outputs": [
    {
     "data": {
      "text/plain": [
       "Index(['Name', 'Sector', 'Price', 'Dividend Yield', 'Price/Earnings',\n",
       "       'Earnings/Share', 'Book Value', '52 week low', '52 week high',\n",
       "       'Market Cap', 'EBITDA', 'Price/Sales', 'Price/Book', 'SEC Filings'],\n",
       "      dtype='object')"
      ]
     },
     "execution_count": 118,
     "metadata": {},
     "output_type": "execute_result"
    }
   ],
   "execution_count": 118
  },
  {
   "cell_type": "markdown",
   "id": "a32fc0f9",
   "metadata": {},
   "source": [
    "Per ora ci interessano solo alcune colonne: per filtrarle possiamo agire in due modi. <br>\n",
    "Il primo modo è leggere il file csv indicando quali colonne ci interessano con il parametro `usecols`."
   ]
  },
  {
   "cell_type": "code",
   "id": "f936235d",
   "metadata": {
    "ExecuteTime": {
     "end_time": "2024-04-16T06:55:49.523644Z",
     "start_time": "2024-04-16T06:55:49.509681Z"
    }
   },
   "source": [
    "sp500_1 = pd.read_csv(\"sp500.csv\", index_col='Symbol', usecols = [0, 2, 3])"
   ],
   "outputs": [],
   "execution_count": 119
  },
  {
   "cell_type": "code",
   "id": "c5fa2cff",
   "metadata": {
    "ExecuteTime": {
     "end_time": "2024-04-16T06:55:49.728097Z",
     "start_time": "2024-04-16T06:55:49.714135Z"
    }
   },
   "source": [
    "sp500_1.head(10)"
   ],
   "outputs": [
    {
     "data": {
      "text/plain": [
       "                        Sector   Price\n",
       "Symbol                                \n",
       "MMM                Industrials  141.14\n",
       "ABT                Health Care   39.60\n",
       "ABBV               Health Care   53.95\n",
       "ACN     Information Technology   79.79\n",
       "ACE                 Financials  102.91\n",
       "ACT                Health Care  213.77\n",
       "ADBE    Information Technology   64.30\n",
       "AES                  Utilities   13.61\n",
       "AET                Health Care   76.39\n",
       "AFL                 Financials   61.31"
      ],
      "text/html": [
       "<div>\n",
       "<style scoped>\n",
       "    .dataframe tbody tr th:only-of-type {\n",
       "        vertical-align: middle;\n",
       "    }\n",
       "\n",
       "    .dataframe tbody tr th {\n",
       "        vertical-align: top;\n",
       "    }\n",
       "\n",
       "    .dataframe thead th {\n",
       "        text-align: right;\n",
       "    }\n",
       "</style>\n",
       "<table border=\"1\" class=\"dataframe\">\n",
       "  <thead>\n",
       "    <tr style=\"text-align: right;\">\n",
       "      <th></th>\n",
       "      <th>Sector</th>\n",
       "      <th>Price</th>\n",
       "    </tr>\n",
       "    <tr>\n",
       "      <th>Symbol</th>\n",
       "      <th></th>\n",
       "      <th></th>\n",
       "    </tr>\n",
       "  </thead>\n",
       "  <tbody>\n",
       "    <tr>\n",
       "      <th>MMM</th>\n",
       "      <td>Industrials</td>\n",
       "      <td>141.14</td>\n",
       "    </tr>\n",
       "    <tr>\n",
       "      <th>ABT</th>\n",
       "      <td>Health Care</td>\n",
       "      <td>39.60</td>\n",
       "    </tr>\n",
       "    <tr>\n",
       "      <th>ABBV</th>\n",
       "      <td>Health Care</td>\n",
       "      <td>53.95</td>\n",
       "    </tr>\n",
       "    <tr>\n",
       "      <th>ACN</th>\n",
       "      <td>Information Technology</td>\n",
       "      <td>79.79</td>\n",
       "    </tr>\n",
       "    <tr>\n",
       "      <th>ACE</th>\n",
       "      <td>Financials</td>\n",
       "      <td>102.91</td>\n",
       "    </tr>\n",
       "    <tr>\n",
       "      <th>ACT</th>\n",
       "      <td>Health Care</td>\n",
       "      <td>213.77</td>\n",
       "    </tr>\n",
       "    <tr>\n",
       "      <th>ADBE</th>\n",
       "      <td>Information Technology</td>\n",
       "      <td>64.30</td>\n",
       "    </tr>\n",
       "    <tr>\n",
       "      <th>AES</th>\n",
       "      <td>Utilities</td>\n",
       "      <td>13.61</td>\n",
       "    </tr>\n",
       "    <tr>\n",
       "      <th>AET</th>\n",
       "      <td>Health Care</td>\n",
       "      <td>76.39</td>\n",
       "    </tr>\n",
       "    <tr>\n",
       "      <th>AFL</th>\n",
       "      <td>Financials</td>\n",
       "      <td>61.31</td>\n",
       "    </tr>\n",
       "  </tbody>\n",
       "</table>\n",
       "</div>"
      ]
     },
     "execution_count": 120,
     "metadata": {},
     "output_type": "execute_result"
    }
   ],
   "execution_count": 120
  },
  {
   "cell_type": "raw",
   "id": "f54c3348",
   "metadata": {},
   "source": [
    "Il secondo modo è passare una lista di colonne al DataFrame e farci restituire il DataFrame composto dalle sole colonne di nostro interesse."
   ]
  },
  {
   "cell_type": "code",
   "id": "8cc7b3b5",
   "metadata": {
    "ExecuteTime": {
     "end_time": "2024-04-16T06:55:49.897644Z",
     "start_time": "2024-04-16T06:55:49.883682Z"
    }
   },
   "source": [
    "sp500_2 = sp500[['Sector','Price','Book Value']]"
   ],
   "outputs": [],
   "execution_count": 121
  },
  {
   "cell_type": "code",
   "id": "8fbf64c9",
   "metadata": {
    "ExecuteTime": {
     "end_time": "2024-04-16T06:55:49.991413Z",
     "start_time": "2024-04-16T06:55:49.971446Z"
    }
   },
   "source": [
    "sp500_2.head()"
   ],
   "outputs": [
    {
     "data": {
      "text/plain": [
       "                        Sector   Price  Book Value\n",
       "Symbol                                            \n",
       "MMM                Industrials  141.14      26.668\n",
       "ABT                Health Care   39.60      15.573\n",
       "ABBV               Health Care   53.95       2.954\n",
       "ACN     Information Technology   79.79       8.326\n",
       "ACE                 Financials  102.91      86.897"
      ],
      "text/html": [
       "<div>\n",
       "<style scoped>\n",
       "    .dataframe tbody tr th:only-of-type {\n",
       "        vertical-align: middle;\n",
       "    }\n",
       "\n",
       "    .dataframe tbody tr th {\n",
       "        vertical-align: top;\n",
       "    }\n",
       "\n",
       "    .dataframe thead th {\n",
       "        text-align: right;\n",
       "    }\n",
       "</style>\n",
       "<table border=\"1\" class=\"dataframe\">\n",
       "  <thead>\n",
       "    <tr style=\"text-align: right;\">\n",
       "      <th></th>\n",
       "      <th>Sector</th>\n",
       "      <th>Price</th>\n",
       "      <th>Book Value</th>\n",
       "    </tr>\n",
       "    <tr>\n",
       "      <th>Symbol</th>\n",
       "      <th></th>\n",
       "      <th></th>\n",
       "      <th></th>\n",
       "    </tr>\n",
       "  </thead>\n",
       "  <tbody>\n",
       "    <tr>\n",
       "      <th>MMM</th>\n",
       "      <td>Industrials</td>\n",
       "      <td>141.14</td>\n",
       "      <td>26.668</td>\n",
       "    </tr>\n",
       "    <tr>\n",
       "      <th>ABT</th>\n",
       "      <td>Health Care</td>\n",
       "      <td>39.60</td>\n",
       "      <td>15.573</td>\n",
       "    </tr>\n",
       "    <tr>\n",
       "      <th>ABBV</th>\n",
       "      <td>Health Care</td>\n",
       "      <td>53.95</td>\n",
       "      <td>2.954</td>\n",
       "    </tr>\n",
       "    <tr>\n",
       "      <th>ACN</th>\n",
       "      <td>Information Technology</td>\n",
       "      <td>79.79</td>\n",
       "      <td>8.326</td>\n",
       "    </tr>\n",
       "    <tr>\n",
       "      <th>ACE</th>\n",
       "      <td>Financials</td>\n",
       "      <td>102.91</td>\n",
       "      <td>86.897</td>\n",
       "    </tr>\n",
       "  </tbody>\n",
       "</table>\n",
       "</div>"
      ]
     },
     "execution_count": 122,
     "metadata": {},
     "output_type": "execute_result"
    }
   ],
   "execution_count": 122
  },
  {
   "cell_type": "markdown",
   "id": "6617bda16fb24754",
   "metadata": {},
   "source": [
    "Possiamo anche usare la proprietà `iloc` che consente di specificare quali righe e colonne si vuole selezionare all'interno del DataFrame: nel nostro caso vogliamo selezionare tutte le righe (e specifichiamo `:` alla proprietà proprio per dire questo) e vogliamo selezionare le sole colonne nelle posizioni 1, 2 e 6."
   ]
  },
  {
   "cell_type": "code",
   "id": "a09f64dd",
   "metadata": {
    "ExecuteTime": {
     "end_time": "2024-04-16T06:55:50.147796Z",
     "start_time": "2024-04-16T06:55:50.131839Z"
    }
   },
   "source": [
    "sp500_3 = sp500.iloc[:,[1,2,6]] # la sintassi è iloc[righe, colonne]"
   ],
   "outputs": [],
   "execution_count": 123
  },
  {
   "cell_type": "code",
   "id": "63c854a8",
   "metadata": {
    "ExecuteTime": {
     "end_time": "2024-04-16T06:55:50.321332Z",
     "start_time": "2024-04-16T06:55:50.307370Z"
    }
   },
   "source": [
    "sp500_3"
   ],
   "outputs": [
    {
     "data": {
      "text/plain": [
       "                        Sector   Price  Book Value\n",
       "Symbol                                            \n",
       "MMM                Industrials  141.14      26.668\n",
       "ABT                Health Care   39.60      15.573\n",
       "ABBV               Health Care   53.95       2.954\n",
       "ACN     Information Technology   79.79       8.326\n",
       "ACE                 Financials  102.91      86.897\n",
       "...                        ...     ...         ...\n",
       "YHOO    Information Technology   35.02      12.768\n",
       "YUM     Consumer Discretionary   74.77       5.147\n",
       "ZMH                Health Care  101.84      37.181\n",
       "ZION                Financials   28.43      30.191\n",
       "ZTS                Health Care   30.53       2.150\n",
       "\n",
       "[500 rows x 3 columns]"
      ],
      "text/html": [
       "<div>\n",
       "<style scoped>\n",
       "    .dataframe tbody tr th:only-of-type {\n",
       "        vertical-align: middle;\n",
       "    }\n",
       "\n",
       "    .dataframe tbody tr th {\n",
       "        vertical-align: top;\n",
       "    }\n",
       "\n",
       "    .dataframe thead th {\n",
       "        text-align: right;\n",
       "    }\n",
       "</style>\n",
       "<table border=\"1\" class=\"dataframe\">\n",
       "  <thead>\n",
       "    <tr style=\"text-align: right;\">\n",
       "      <th></th>\n",
       "      <th>Sector</th>\n",
       "      <th>Price</th>\n",
       "      <th>Book Value</th>\n",
       "    </tr>\n",
       "    <tr>\n",
       "      <th>Symbol</th>\n",
       "      <th></th>\n",
       "      <th></th>\n",
       "      <th></th>\n",
       "    </tr>\n",
       "  </thead>\n",
       "  <tbody>\n",
       "    <tr>\n",
       "      <th>MMM</th>\n",
       "      <td>Industrials</td>\n",
       "      <td>141.14</td>\n",
       "      <td>26.668</td>\n",
       "    </tr>\n",
       "    <tr>\n",
       "      <th>ABT</th>\n",
       "      <td>Health Care</td>\n",
       "      <td>39.60</td>\n",
       "      <td>15.573</td>\n",
       "    </tr>\n",
       "    <tr>\n",
       "      <th>ABBV</th>\n",
       "      <td>Health Care</td>\n",
       "      <td>53.95</td>\n",
       "      <td>2.954</td>\n",
       "    </tr>\n",
       "    <tr>\n",
       "      <th>ACN</th>\n",
       "      <td>Information Technology</td>\n",
       "      <td>79.79</td>\n",
       "      <td>8.326</td>\n",
       "    </tr>\n",
       "    <tr>\n",
       "      <th>ACE</th>\n",
       "      <td>Financials</td>\n",
       "      <td>102.91</td>\n",
       "      <td>86.897</td>\n",
       "    </tr>\n",
       "    <tr>\n",
       "      <th>...</th>\n",
       "      <td>...</td>\n",
       "      <td>...</td>\n",
       "      <td>...</td>\n",
       "    </tr>\n",
       "    <tr>\n",
       "      <th>YHOO</th>\n",
       "      <td>Information Technology</td>\n",
       "      <td>35.02</td>\n",
       "      <td>12.768</td>\n",
       "    </tr>\n",
       "    <tr>\n",
       "      <th>YUM</th>\n",
       "      <td>Consumer Discretionary</td>\n",
       "      <td>74.77</td>\n",
       "      <td>5.147</td>\n",
       "    </tr>\n",
       "    <tr>\n",
       "      <th>ZMH</th>\n",
       "      <td>Health Care</td>\n",
       "      <td>101.84</td>\n",
       "      <td>37.181</td>\n",
       "    </tr>\n",
       "    <tr>\n",
       "      <th>ZION</th>\n",
       "      <td>Financials</td>\n",
       "      <td>28.43</td>\n",
       "      <td>30.191</td>\n",
       "    </tr>\n",
       "    <tr>\n",
       "      <th>ZTS</th>\n",
       "      <td>Health Care</td>\n",
       "      <td>30.53</td>\n",
       "      <td>2.150</td>\n",
       "    </tr>\n",
       "  </tbody>\n",
       "</table>\n",
       "<p>500 rows × 3 columns</p>\n",
       "</div>"
      ]
     },
     "execution_count": 124,
     "metadata": {},
     "output_type": "execute_result"
    }
   ],
   "execution_count": 124
  },
  {
   "cell_type": "markdown",
   "id": "13255046",
   "metadata": {},
   "source": [
    "__NB__: i DataFrame creati fino a questo momento non sono nuovi DataFrame, ma sono soltanto viste che fanno riferimento a quello originale; per creare effettivamente un nuovo DataFrame occorre invocare il metodo `copy()`."
   ]
  },
  {
   "cell_type": "code",
   "id": "0ea00192",
   "metadata": {
    "ExecuteTime": {
     "end_time": "2024-04-16T06:55:50.541131Z",
     "start_time": "2024-04-16T06:55:50.528166Z"
    }
   },
   "source": [
    "sp500_4 = sp500.iloc[:,[1,2,6]].copy()"
   ],
   "outputs": [],
   "execution_count": 125
  },
  {
   "cell_type": "markdown",
   "id": "b0b01d06",
   "metadata": {},
   "source": [
    "Le colonne di un DataFrame di Pandas altro non sono che delle serie, motivo per cui è possibile estrapolare una serie a partire da una colonna di un DataFrame (questo però è possibile soltanto se il nome della colonna è privo di spazi)."
   ]
  },
  {
   "cell_type": "code",
   "id": "6319edd9",
   "metadata": {
    "ExecuteTime": {
     "end_time": "2024-04-16T06:55:50.649636Z",
     "start_time": "2024-04-16T06:55:50.638667Z"
    }
   },
   "source": [
    "sp500.Price"
   ],
   "outputs": [
    {
     "data": {
      "text/plain": [
       "Symbol\n",
       "MMM     141.14\n",
       "ABT      39.60\n",
       "ABBV     53.95\n",
       "ACN      79.79\n",
       "ACE     102.91\n",
       "         ...  \n",
       "YHOO     35.02\n",
       "YUM      74.77\n",
       "ZMH     101.84\n",
       "ZION     28.43\n",
       "ZTS      30.53\n",
       "Name: Price, Length: 500, dtype: float64"
      ]
     },
     "execution_count": 126,
     "metadata": {},
     "output_type": "execute_result"
    }
   ],
   "execution_count": 126
  },
  {
   "cell_type": "code",
   "id": "9cbe0866",
   "metadata": {
    "ExecuteTime": {
     "end_time": "2024-04-16T06:55:50.960002Z",
     "start_time": "2024-04-16T06:55:50.903548Z"
    }
   },
   "source": [
    "sp500.BookValue # errore, perché il nome della colonna è Book Value (con lo spazio)"
   ],
   "outputs": [
    {
     "ename": "AttributeError",
     "evalue": "'DataFrame' object has no attribute 'BookValue'",
     "output_type": "error",
     "traceback": [
      "\u001B[1;31m---------------------------------------------------------------------------\u001B[0m",
      "\u001B[1;31mAttributeError\u001B[0m                            Traceback (most recent call last)",
      "\u001B[1;32m~\\AppData\\Local\\Temp\\ipykernel_14888\\1079391735.py\u001B[0m in \u001B[0;36m?\u001B[1;34m()\u001B[0m\n\u001B[1;32m----> 1\u001B[1;33m \u001B[0msp500\u001B[0m\u001B[1;33m.\u001B[0m\u001B[0mBookValue\u001B[0m \u001B[1;31m# errore, perché il nome della colonna è Book Value (con lo spazio)\u001B[0m\u001B[1;33m\u001B[0m\u001B[1;33m\u001B[0m\u001B[0m\n\u001B[0m",
      "\u001B[1;32mG:\\Documents\\PycharmProjects\\business-intelligence\\.venv\\lib\\site-packages\\pandas\\core\\generic.py\u001B[0m in \u001B[0;36m?\u001B[1;34m(self, name)\u001B[0m\n\u001B[0;32m   6295\u001B[0m             \u001B[1;32mand\u001B[0m \u001B[0mname\u001B[0m \u001B[1;32mnot\u001B[0m \u001B[1;32min\u001B[0m \u001B[0mself\u001B[0m\u001B[1;33m.\u001B[0m\u001B[0m_accessors\u001B[0m\u001B[1;33m\u001B[0m\u001B[1;33m\u001B[0m\u001B[0m\n\u001B[0;32m   6296\u001B[0m             \u001B[1;32mand\u001B[0m \u001B[0mself\u001B[0m\u001B[1;33m.\u001B[0m\u001B[0m_info_axis\u001B[0m\u001B[1;33m.\u001B[0m\u001B[0m_can_hold_identifiers_and_holds_name\u001B[0m\u001B[1;33m(\u001B[0m\u001B[0mname\u001B[0m\u001B[1;33m)\u001B[0m\u001B[1;33m\u001B[0m\u001B[1;33m\u001B[0m\u001B[0m\n\u001B[0;32m   6297\u001B[0m         ):\n\u001B[0;32m   6298\u001B[0m             \u001B[1;32mreturn\u001B[0m \u001B[0mself\u001B[0m\u001B[1;33m[\u001B[0m\u001B[0mname\u001B[0m\u001B[1;33m]\u001B[0m\u001B[1;33m\u001B[0m\u001B[1;33m\u001B[0m\u001B[0m\n\u001B[1;32m-> 6299\u001B[1;33m         \u001B[1;32mreturn\u001B[0m \u001B[0mobject\u001B[0m\u001B[1;33m.\u001B[0m\u001B[0m__getattribute__\u001B[0m\u001B[1;33m(\u001B[0m\u001B[0mself\u001B[0m\u001B[1;33m,\u001B[0m \u001B[0mname\u001B[0m\u001B[1;33m)\u001B[0m\u001B[1;33m\u001B[0m\u001B[1;33m\u001B[0m\u001B[0m\n\u001B[0m",
      "\u001B[1;31mAttributeError\u001B[0m: 'DataFrame' object has no attribute 'BookValue'"
     ]
    }
   ],
   "execution_count": 127
  },
  {
   "cell_type": "markdown",
   "id": "0f826603",
   "metadata": {},
   "source": [
    "### Selezionare righe in un DataFrame\n",
    "\n",
    "Per selezionare determinate righe in un DataFrame ci sono tre modi:\n",
    "- individuare una fetta di DataFrame (\"slicing\") con []\n",
    "- cercare gli elementi sulla base dell'etichetta o del numero indice con gli operatori `loc` e `iloc`\n",
    "- ricerca scalare con gli operatori `at` e `iat`\n",
    "\n",
    "L'utilizzo dell'operatore [] va bene per selezionare elementi di una serie, tuttavia è sconsigliato (fatto salvo per casi particolari) per selezionare righe di un DataFrame."
   ]
  },
  {
   "cell_type": "markdown",
   "id": "ae1eb03a",
   "metadata": {},
   "source": "Selezione delle prime tre righe utilizzando l'operatore []:"
  },
  {
   "cell_type": "code",
   "id": "ed15f5ad",
   "metadata": {
    "ExecuteTime": {
     "end_time": "2024-04-16T06:55:51.054748Z",
     "start_time": "2024-04-16T06:55:51.045773Z"
    }
   },
   "source": "sp500_1[:3] # la sintassi è [start:end] dove l'indice di inizio è omesso in questo caso (di default si parte da indice 0)",
   "outputs": [
    {
     "data": {
      "text/plain": [
       "             Sector   Price\n",
       "Symbol                     \n",
       "MMM     Industrials  141.14\n",
       "ABT     Health Care   39.60\n",
       "ABBV    Health Care   53.95"
      ],
      "text/html": [
       "<div>\n",
       "<style scoped>\n",
       "    .dataframe tbody tr th:only-of-type {\n",
       "        vertical-align: middle;\n",
       "    }\n",
       "\n",
       "    .dataframe tbody tr th {\n",
       "        vertical-align: top;\n",
       "    }\n",
       "\n",
       "    .dataframe thead th {\n",
       "        text-align: right;\n",
       "    }\n",
       "</style>\n",
       "<table border=\"1\" class=\"dataframe\">\n",
       "  <thead>\n",
       "    <tr style=\"text-align: right;\">\n",
       "      <th></th>\n",
       "      <th>Sector</th>\n",
       "      <th>Price</th>\n",
       "    </tr>\n",
       "    <tr>\n",
       "      <th>Symbol</th>\n",
       "      <th></th>\n",
       "      <th></th>\n",
       "    </tr>\n",
       "  </thead>\n",
       "  <tbody>\n",
       "    <tr>\n",
       "      <th>MMM</th>\n",
       "      <td>Industrials</td>\n",
       "      <td>141.14</td>\n",
       "    </tr>\n",
       "    <tr>\n",
       "      <th>ABT</th>\n",
       "      <td>Health Care</td>\n",
       "      <td>39.60</td>\n",
       "    </tr>\n",
       "    <tr>\n",
       "      <th>ABBV</th>\n",
       "      <td>Health Care</td>\n",
       "      <td>53.95</td>\n",
       "    </tr>\n",
       "  </tbody>\n",
       "</table>\n",
       "</div>"
      ]
     },
     "execution_count": 128,
     "metadata": {},
     "output_type": "execute_result"
    }
   ],
   "execution_count": 128
  },
  {
   "metadata": {},
   "cell_type": "markdown",
   "source": "Selezione delle righe che vanno da XYL a YUM utilizzando l'operatore []:",
   "id": "8f2be2c551a328c8"
  },
  {
   "cell_type": "code",
   "id": "702d2064",
   "metadata": {
    "ExecuteTime": {
     "end_time": "2024-04-16T06:55:51.288921Z",
     "start_time": "2024-04-16T06:55:51.273963Z"
    }
   },
   "source": [
    "sp500_1['XYL':'YUM']"
   ],
   "outputs": [
    {
     "data": {
      "text/plain": [
       "                        Sector  Price\n",
       "Symbol                               \n",
       "XYL                Industrials  38.42\n",
       "YHOO    Information Technology  35.02\n",
       "YUM     Consumer Discretionary  74.77"
      ],
      "text/html": [
       "<div>\n",
       "<style scoped>\n",
       "    .dataframe tbody tr th:only-of-type {\n",
       "        vertical-align: middle;\n",
       "    }\n",
       "\n",
       "    .dataframe tbody tr th {\n",
       "        vertical-align: top;\n",
       "    }\n",
       "\n",
       "    .dataframe thead th {\n",
       "        text-align: right;\n",
       "    }\n",
       "</style>\n",
       "<table border=\"1\" class=\"dataframe\">\n",
       "  <thead>\n",
       "    <tr style=\"text-align: right;\">\n",
       "      <th></th>\n",
       "      <th>Sector</th>\n",
       "      <th>Price</th>\n",
       "    </tr>\n",
       "    <tr>\n",
       "      <th>Symbol</th>\n",
       "      <th></th>\n",
       "      <th></th>\n",
       "    </tr>\n",
       "  </thead>\n",
       "  <tbody>\n",
       "    <tr>\n",
       "      <th>XYL</th>\n",
       "      <td>Industrials</td>\n",
       "      <td>38.42</td>\n",
       "    </tr>\n",
       "    <tr>\n",
       "      <th>YHOO</th>\n",
       "      <td>Information Technology</td>\n",
       "      <td>35.02</td>\n",
       "    </tr>\n",
       "    <tr>\n",
       "      <th>YUM</th>\n",
       "      <td>Consumer Discretionary</td>\n",
       "      <td>74.77</td>\n",
       "    </tr>\n",
       "  </tbody>\n",
       "</table>\n",
       "</div>"
      ]
     },
     "execution_count": 129,
     "metadata": {},
     "output_type": "execute_result"
    }
   ],
   "execution_count": 129
  },
  {
   "cell_type": "markdown",
   "id": "22bdf53e",
   "metadata": {},
   "source": [
    "Selezione utilizzando `loc[]` e `iloc[]`:\n",
    "- `loc` basa la selezione sull'etichetta \n",
    "- `iloc` basa la selezione sull'indice (di posizione)"
   ]
  },
  {
   "cell_type": "code",
   "id": "b50c178b",
   "metadata": {
    "ExecuteTime": {
     "end_time": "2024-04-16T06:55:53.145959Z",
     "start_time": "2024-04-16T06:55:53.130002Z"
    }
   },
   "source": "sp500_1.loc['MMM']",
   "outputs": [
    {
     "data": {
      "text/plain": [
       "Sector    Industrials\n",
       "Price          141.14\n",
       "Name: MMM, dtype: object"
      ]
     },
     "execution_count": 130,
     "metadata": {},
     "output_type": "execute_result"
    }
   ],
   "execution_count": 130
  },
  {
   "cell_type": "code",
   "id": "c80adcec",
   "metadata": {
    "ExecuteTime": {
     "end_time": "2024-04-16T06:55:53.303540Z",
     "start_time": "2024-04-16T06:55:53.292569Z"
    }
   },
   "source": [
    "sp500_1.loc[['MMM','MSFT']]"
   ],
   "outputs": [
    {
     "data": {
      "text/plain": [
       "                        Sector   Price\n",
       "Symbol                                \n",
       "MMM                Industrials  141.14\n",
       "MSFT    Information Technology   40.12"
      ],
      "text/html": [
       "<div>\n",
       "<style scoped>\n",
       "    .dataframe tbody tr th:only-of-type {\n",
       "        vertical-align: middle;\n",
       "    }\n",
       "\n",
       "    .dataframe tbody tr th {\n",
       "        vertical-align: top;\n",
       "    }\n",
       "\n",
       "    .dataframe thead th {\n",
       "        text-align: right;\n",
       "    }\n",
       "</style>\n",
       "<table border=\"1\" class=\"dataframe\">\n",
       "  <thead>\n",
       "    <tr style=\"text-align: right;\">\n",
       "      <th></th>\n",
       "      <th>Sector</th>\n",
       "      <th>Price</th>\n",
       "    </tr>\n",
       "    <tr>\n",
       "      <th>Symbol</th>\n",
       "      <th></th>\n",
       "      <th></th>\n",
       "    </tr>\n",
       "  </thead>\n",
       "  <tbody>\n",
       "    <tr>\n",
       "      <th>MMM</th>\n",
       "      <td>Industrials</td>\n",
       "      <td>141.14</td>\n",
       "    </tr>\n",
       "    <tr>\n",
       "      <th>MSFT</th>\n",
       "      <td>Information Technology</td>\n",
       "      <td>40.12</td>\n",
       "    </tr>\n",
       "  </tbody>\n",
       "</table>\n",
       "</div>"
      ]
     },
     "execution_count": 131,
     "metadata": {},
     "output_type": "execute_result"
    }
   ],
   "execution_count": 131
  },
  {
   "metadata": {},
   "cell_type": "markdown",
   "source": "__NB__: scrivendo ad esempio `sp500_1.loc[3]` si sta chiedendo di selezionare la riga avente come _etichetta_ 3, non la riga in _posizione_ 3.",
   "id": "ad91279033787660"
  },
  {
   "cell_type": "code",
   "id": "c023c267",
   "metadata": {
    "ExecuteTime": {
     "end_time": "2024-04-16T06:55:53.538909Z",
     "start_time": "2024-04-16T06:55:53.524947Z"
    }
   },
   "source": [
    "sp500_1.iloc[[0,5]]"
   ],
   "outputs": [
    {
     "data": {
      "text/plain": [
       "             Sector   Price\n",
       "Symbol                     \n",
       "MMM     Industrials  141.14\n",
       "ACT     Health Care  213.77"
      ],
      "text/html": [
       "<div>\n",
       "<style scoped>\n",
       "    .dataframe tbody tr th:only-of-type {\n",
       "        vertical-align: middle;\n",
       "    }\n",
       "\n",
       "    .dataframe tbody tr th {\n",
       "        vertical-align: top;\n",
       "    }\n",
       "\n",
       "    .dataframe thead th {\n",
       "        text-align: right;\n",
       "    }\n",
       "</style>\n",
       "<table border=\"1\" class=\"dataframe\">\n",
       "  <thead>\n",
       "    <tr style=\"text-align: right;\">\n",
       "      <th></th>\n",
       "      <th>Sector</th>\n",
       "      <th>Price</th>\n",
       "    </tr>\n",
       "    <tr>\n",
       "      <th>Symbol</th>\n",
       "      <th></th>\n",
       "      <th></th>\n",
       "    </tr>\n",
       "  </thead>\n",
       "  <tbody>\n",
       "    <tr>\n",
       "      <th>MMM</th>\n",
       "      <td>Industrials</td>\n",
       "      <td>141.14</td>\n",
       "    </tr>\n",
       "    <tr>\n",
       "      <th>ACT</th>\n",
       "      <td>Health Care</td>\n",
       "      <td>213.77</td>\n",
       "    </tr>\n",
       "  </tbody>\n",
       "</table>\n",
       "</div>"
      ]
     },
     "execution_count": 132,
     "metadata": {},
     "output_type": "execute_result"
    }
   ],
   "execution_count": 132
  },
  {
   "cell_type": "code",
   "id": "571e79db",
   "metadata": {
    "ExecuteTime": {
     "end_time": "2024-04-16T06:55:53.664571Z",
     "start_time": "2024-04-16T06:55:53.652604Z"
    }
   },
   "source": [
    "sp500_1.iloc[0:5]"
   ],
   "outputs": [
    {
     "data": {
      "text/plain": [
       "                        Sector   Price\n",
       "Symbol                                \n",
       "MMM                Industrials  141.14\n",
       "ABT                Health Care   39.60\n",
       "ABBV               Health Care   53.95\n",
       "ACN     Information Technology   79.79\n",
       "ACE                 Financials  102.91"
      ],
      "text/html": [
       "<div>\n",
       "<style scoped>\n",
       "    .dataframe tbody tr th:only-of-type {\n",
       "        vertical-align: middle;\n",
       "    }\n",
       "\n",
       "    .dataframe tbody tr th {\n",
       "        vertical-align: top;\n",
       "    }\n",
       "\n",
       "    .dataframe thead th {\n",
       "        text-align: right;\n",
       "    }\n",
       "</style>\n",
       "<table border=\"1\" class=\"dataframe\">\n",
       "  <thead>\n",
       "    <tr style=\"text-align: right;\">\n",
       "      <th></th>\n",
       "      <th>Sector</th>\n",
       "      <th>Price</th>\n",
       "    </tr>\n",
       "    <tr>\n",
       "      <th>Symbol</th>\n",
       "      <th></th>\n",
       "      <th></th>\n",
       "    </tr>\n",
       "  </thead>\n",
       "  <tbody>\n",
       "    <tr>\n",
       "      <th>MMM</th>\n",
       "      <td>Industrials</td>\n",
       "      <td>141.14</td>\n",
       "    </tr>\n",
       "    <tr>\n",
       "      <th>ABT</th>\n",
       "      <td>Health Care</td>\n",
       "      <td>39.60</td>\n",
       "    </tr>\n",
       "    <tr>\n",
       "      <th>ABBV</th>\n",
       "      <td>Health Care</td>\n",
       "      <td>53.95</td>\n",
       "    </tr>\n",
       "    <tr>\n",
       "      <th>ACN</th>\n",
       "      <td>Information Technology</td>\n",
       "      <td>79.79</td>\n",
       "    </tr>\n",
       "    <tr>\n",
       "      <th>ACE</th>\n",
       "      <td>Financials</td>\n",
       "      <td>102.91</td>\n",
       "    </tr>\n",
       "  </tbody>\n",
       "</table>\n",
       "</div>"
      ]
     },
     "execution_count": 133,
     "metadata": {},
     "output_type": "execute_result"
    }
   ],
   "execution_count": 133
  },
  {
   "cell_type": "markdown",
   "id": "57db5f04",
   "metadata": {},
   "source": "Con il metodo `index.get_loc` si può sapere qual è il valore dell'indice (di posizione) associato a una specifica etichetta."
  },
  {
   "cell_type": "code",
   "id": "ad947bef",
   "metadata": {
    "ExecuteTime": {
     "end_time": "2024-04-16T06:55:53.914905Z",
     "start_time": "2024-04-16T06:55:53.905927Z"
    }
   },
   "source": [
    "sp500_1.index.get_loc('MSFT')"
   ],
   "outputs": [
    {
     "data": {
      "text/plain": [
       "302"
      ]
     },
     "execution_count": 134,
     "metadata": {},
     "output_type": "execute_result"
    }
   ],
   "execution_count": 134
  },
  {
   "cell_type": "code",
   "id": "a2660614",
   "metadata": {
    "ExecuteTime": {
     "end_time": "2024-04-16T06:55:54.101437Z",
     "start_time": "2024-04-16T06:55:54.087476Z"
    }
   },
   "source": [
    "i1 = sp500_1.index.get_loc('MMM')\n",
    "i2 = sp500_1.index.get_loc('A')\n",
    "i1, i2"
   ],
   "outputs": [
    {
     "data": {
      "text/plain": [
       "(0, 10)"
      ]
     },
     "execution_count": 135,
     "metadata": {},
     "output_type": "execute_result"
    }
   ],
   "execution_count": 135
  },
  {
   "cell_type": "code",
   "id": "e093e081",
   "metadata": {
    "ExecuteTime": {
     "end_time": "2024-04-16T06:55:54.414600Z",
     "start_time": "2024-04-16T06:55:54.400636Z"
    }
   },
   "source": [
    "sp500_1.iloc[[i1,i2]]"
   ],
   "outputs": [
    {
     "data": {
      "text/plain": [
       "             Sector   Price\n",
       "Symbol                     \n",
       "MMM     Industrials  141.14\n",
       "A       Health Care   56.18"
      ],
      "text/html": [
       "<div>\n",
       "<style scoped>\n",
       "    .dataframe tbody tr th:only-of-type {\n",
       "        vertical-align: middle;\n",
       "    }\n",
       "\n",
       "    .dataframe tbody tr th {\n",
       "        vertical-align: top;\n",
       "    }\n",
       "\n",
       "    .dataframe thead th {\n",
       "        text-align: right;\n",
       "    }\n",
       "</style>\n",
       "<table border=\"1\" class=\"dataframe\">\n",
       "  <thead>\n",
       "    <tr style=\"text-align: right;\">\n",
       "      <th></th>\n",
       "      <th>Sector</th>\n",
       "      <th>Price</th>\n",
       "    </tr>\n",
       "    <tr>\n",
       "      <th>Symbol</th>\n",
       "      <th></th>\n",
       "      <th></th>\n",
       "    </tr>\n",
       "  </thead>\n",
       "  <tbody>\n",
       "    <tr>\n",
       "      <th>MMM</th>\n",
       "      <td>Industrials</td>\n",
       "      <td>141.14</td>\n",
       "    </tr>\n",
       "    <tr>\n",
       "      <th>A</th>\n",
       "      <td>Health Care</td>\n",
       "      <td>56.18</td>\n",
       "    </tr>\n",
       "  </tbody>\n",
       "</table>\n",
       "</div>"
      ]
     },
     "execution_count": 136,
     "metadata": {},
     "output_type": "execute_result"
    }
   ],
   "execution_count": 136
  },
  {
   "cell_type": "markdown",
   "id": "3136a9c2",
   "metadata": {},
   "source": [
    "Ricerca scalare utilizzando `at[]` e `iat[]`:\n",
    "- `at[]` effettua la ricerca sulla base delle etichette di riga e colonna specificate\n",
    "- `iat[]` effettua la ricerca sulla base degli indici numerici di posizione di riga e colonna specificati"
   ]
  },
  {
   "cell_type": "code",
   "id": "ded2ee9d",
   "metadata": {
    "ExecuteTime": {
     "end_time": "2024-04-16T06:55:54.648262Z",
     "start_time": "2024-04-16T06:55:54.636039Z"
    }
   },
   "source": [
    "sp500_1.head()"
   ],
   "outputs": [
    {
     "data": {
      "text/plain": [
       "                        Sector   Price\n",
       "Symbol                                \n",
       "MMM                Industrials  141.14\n",
       "ABT                Health Care   39.60\n",
       "ABBV               Health Care   53.95\n",
       "ACN     Information Technology   79.79\n",
       "ACE                 Financials  102.91"
      ],
      "text/html": [
       "<div>\n",
       "<style scoped>\n",
       "    .dataframe tbody tr th:only-of-type {\n",
       "        vertical-align: middle;\n",
       "    }\n",
       "\n",
       "    .dataframe tbody tr th {\n",
       "        vertical-align: top;\n",
       "    }\n",
       "\n",
       "    .dataframe thead th {\n",
       "        text-align: right;\n",
       "    }\n",
       "</style>\n",
       "<table border=\"1\" class=\"dataframe\">\n",
       "  <thead>\n",
       "    <tr style=\"text-align: right;\">\n",
       "      <th></th>\n",
       "      <th>Sector</th>\n",
       "      <th>Price</th>\n",
       "    </tr>\n",
       "    <tr>\n",
       "      <th>Symbol</th>\n",
       "      <th></th>\n",
       "      <th></th>\n",
       "    </tr>\n",
       "  </thead>\n",
       "  <tbody>\n",
       "    <tr>\n",
       "      <th>MMM</th>\n",
       "      <td>Industrials</td>\n",
       "      <td>141.14</td>\n",
       "    </tr>\n",
       "    <tr>\n",
       "      <th>ABT</th>\n",
       "      <td>Health Care</td>\n",
       "      <td>39.60</td>\n",
       "    </tr>\n",
       "    <tr>\n",
       "      <th>ABBV</th>\n",
       "      <td>Health Care</td>\n",
       "      <td>53.95</td>\n",
       "    </tr>\n",
       "    <tr>\n",
       "      <th>ACN</th>\n",
       "      <td>Information Technology</td>\n",
       "      <td>79.79</td>\n",
       "    </tr>\n",
       "    <tr>\n",
       "      <th>ACE</th>\n",
       "      <td>Financials</td>\n",
       "      <td>102.91</td>\n",
       "    </tr>\n",
       "  </tbody>\n",
       "</table>\n",
       "</div>"
      ]
     },
     "execution_count": 137,
     "metadata": {},
     "output_type": "execute_result"
    }
   ],
   "execution_count": 137
  },
  {
   "cell_type": "code",
   "id": "4c044b00",
   "metadata": {
    "ExecuteTime": {
     "end_time": "2024-04-16T06:55:54.964878Z",
     "start_time": "2024-04-16T06:55:54.950916Z"
    }
   },
   "source": [
    "sp500_1.at['MMM', 'Sector']"
   ],
   "outputs": [
    {
     "data": {
      "text/plain": [
       "'Industrials'"
      ]
     },
     "execution_count": 138,
     "metadata": {},
     "output_type": "execute_result"
    }
   ],
   "execution_count": 138
  },
  {
   "cell_type": "code",
   "id": "668874b4",
   "metadata": {
    "ExecuteTime": {
     "end_time": "2024-04-16T06:55:55.168628Z",
     "start_time": "2024-04-16T06:55:55.154632Z"
    }
   },
   "source": [
    "sp500_1.iat[0,1]"
   ],
   "outputs": [
    {
     "data": {
      "text/plain": [
       "141.14"
      ]
     },
     "execution_count": 139,
     "metadata": {},
     "output_type": "execute_result"
    }
   ],
   "execution_count": 139
  },
  {
   "cell_type": "markdown",
   "id": "8e3a2e60",
   "metadata": {},
   "source": "C'è anche la possibilità di effettuare una selezione che comprenda soltanto le righe che soddisfano una determinata condizione booleana."
  },
  {
   "cell_type": "code",
   "id": "404d5874",
   "metadata": {
    "ExecuteTime": {
     "end_time": "2024-04-16T06:55:55.404653Z",
     "start_time": "2024-04-16T06:55:55.391687Z"
    }
   },
   "source": [
    "sp500_1[sp500_1.Price < 20]"
   ],
   "outputs": [
    {
     "data": {
      "text/plain": [
       "                             Sector  Price\n",
       "Symbol                                    \n",
       "AES                       Utilities  13.61\n",
       "AA                        Materials  13.52\n",
       "AVP                Consumer Staples  14.14\n",
       "BAC                      Financials  14.72\n",
       "BEAM         Consumer Discretionary   0.00\n",
       "BSX                     Health Care  12.83\n",
       "CVC          Consumer Discretionary  17.45\n",
       "CLF                       Materials  16.34\n",
       "DNR                          Energy  16.71\n",
       "F            Consumer Discretionary  16.02\n",
       "FTR     Telecommunications Services   5.81\n",
       "GNW                      Financials  17.28\n",
       "HCBK                     Financials   9.80\n",
       "HBAN                     Financials   9.10\n",
       "IPG          Consumer Discretionary  18.56\n",
       "IGT          Consumer Discretionary  12.66\n",
       "JBL          Information Technology  18.50\n",
       "KEY                      Financials  13.37\n",
       "LSI          Information Technology  11.14\n",
       "NWSA         Consumer Discretionary  17.09\n",
       "NVDA         Information Technology  18.49\n",
       "BTU                          Energy  17.22\n",
       "PBCT                     Financials  14.43\n",
       "PHM          Consumer Discretionary  19.70\n",
       "RF                       Financials  10.07\n",
       "SLM                      Financials   8.82\n",
       "SPLS         Consumer Discretionary  11.65\n",
       "TE                        Utilities  17.06\n",
       "WU           Information Technology  15.77\n",
       "WIN     Telecommunications Services   9.38\n",
       "XRX          Information Technology  12.06"
      ],
      "text/html": [
       "<div>\n",
       "<style scoped>\n",
       "    .dataframe tbody tr th:only-of-type {\n",
       "        vertical-align: middle;\n",
       "    }\n",
       "\n",
       "    .dataframe tbody tr th {\n",
       "        vertical-align: top;\n",
       "    }\n",
       "\n",
       "    .dataframe thead th {\n",
       "        text-align: right;\n",
       "    }\n",
       "</style>\n",
       "<table border=\"1\" class=\"dataframe\">\n",
       "  <thead>\n",
       "    <tr style=\"text-align: right;\">\n",
       "      <th></th>\n",
       "      <th>Sector</th>\n",
       "      <th>Price</th>\n",
       "    </tr>\n",
       "    <tr>\n",
       "      <th>Symbol</th>\n",
       "      <th></th>\n",
       "      <th></th>\n",
       "    </tr>\n",
       "  </thead>\n",
       "  <tbody>\n",
       "    <tr>\n",
       "      <th>AES</th>\n",
       "      <td>Utilities</td>\n",
       "      <td>13.61</td>\n",
       "    </tr>\n",
       "    <tr>\n",
       "      <th>AA</th>\n",
       "      <td>Materials</td>\n",
       "      <td>13.52</td>\n",
       "    </tr>\n",
       "    <tr>\n",
       "      <th>AVP</th>\n",
       "      <td>Consumer Staples</td>\n",
       "      <td>14.14</td>\n",
       "    </tr>\n",
       "    <tr>\n",
       "      <th>BAC</th>\n",
       "      <td>Financials</td>\n",
       "      <td>14.72</td>\n",
       "    </tr>\n",
       "    <tr>\n",
       "      <th>BEAM</th>\n",
       "      <td>Consumer Discretionary</td>\n",
       "      <td>0.00</td>\n",
       "    </tr>\n",
       "    <tr>\n",
       "      <th>BSX</th>\n",
       "      <td>Health Care</td>\n",
       "      <td>12.83</td>\n",
       "    </tr>\n",
       "    <tr>\n",
       "      <th>CVC</th>\n",
       "      <td>Consumer Discretionary</td>\n",
       "      <td>17.45</td>\n",
       "    </tr>\n",
       "    <tr>\n",
       "      <th>CLF</th>\n",
       "      <td>Materials</td>\n",
       "      <td>16.34</td>\n",
       "    </tr>\n",
       "    <tr>\n",
       "      <th>DNR</th>\n",
       "      <td>Energy</td>\n",
       "      <td>16.71</td>\n",
       "    </tr>\n",
       "    <tr>\n",
       "      <th>F</th>\n",
       "      <td>Consumer Discretionary</td>\n",
       "      <td>16.02</td>\n",
       "    </tr>\n",
       "    <tr>\n",
       "      <th>FTR</th>\n",
       "      <td>Telecommunications Services</td>\n",
       "      <td>5.81</td>\n",
       "    </tr>\n",
       "    <tr>\n",
       "      <th>GNW</th>\n",
       "      <td>Financials</td>\n",
       "      <td>17.28</td>\n",
       "    </tr>\n",
       "    <tr>\n",
       "      <th>HCBK</th>\n",
       "      <td>Financials</td>\n",
       "      <td>9.80</td>\n",
       "    </tr>\n",
       "    <tr>\n",
       "      <th>HBAN</th>\n",
       "      <td>Financials</td>\n",
       "      <td>9.10</td>\n",
       "    </tr>\n",
       "    <tr>\n",
       "      <th>IPG</th>\n",
       "      <td>Consumer Discretionary</td>\n",
       "      <td>18.56</td>\n",
       "    </tr>\n",
       "    <tr>\n",
       "      <th>IGT</th>\n",
       "      <td>Consumer Discretionary</td>\n",
       "      <td>12.66</td>\n",
       "    </tr>\n",
       "    <tr>\n",
       "      <th>JBL</th>\n",
       "      <td>Information Technology</td>\n",
       "      <td>18.50</td>\n",
       "    </tr>\n",
       "    <tr>\n",
       "      <th>KEY</th>\n",
       "      <td>Financials</td>\n",
       "      <td>13.37</td>\n",
       "    </tr>\n",
       "    <tr>\n",
       "      <th>LSI</th>\n",
       "      <td>Information Technology</td>\n",
       "      <td>11.14</td>\n",
       "    </tr>\n",
       "    <tr>\n",
       "      <th>NWSA</th>\n",
       "      <td>Consumer Discretionary</td>\n",
       "      <td>17.09</td>\n",
       "    </tr>\n",
       "    <tr>\n",
       "      <th>NVDA</th>\n",
       "      <td>Information Technology</td>\n",
       "      <td>18.49</td>\n",
       "    </tr>\n",
       "    <tr>\n",
       "      <th>BTU</th>\n",
       "      <td>Energy</td>\n",
       "      <td>17.22</td>\n",
       "    </tr>\n",
       "    <tr>\n",
       "      <th>PBCT</th>\n",
       "      <td>Financials</td>\n",
       "      <td>14.43</td>\n",
       "    </tr>\n",
       "    <tr>\n",
       "      <th>PHM</th>\n",
       "      <td>Consumer Discretionary</td>\n",
       "      <td>19.70</td>\n",
       "    </tr>\n",
       "    <tr>\n",
       "      <th>RF</th>\n",
       "      <td>Financials</td>\n",
       "      <td>10.07</td>\n",
       "    </tr>\n",
       "    <tr>\n",
       "      <th>SLM</th>\n",
       "      <td>Financials</td>\n",
       "      <td>8.82</td>\n",
       "    </tr>\n",
       "    <tr>\n",
       "      <th>SPLS</th>\n",
       "      <td>Consumer Discretionary</td>\n",
       "      <td>11.65</td>\n",
       "    </tr>\n",
       "    <tr>\n",
       "      <th>TE</th>\n",
       "      <td>Utilities</td>\n",
       "      <td>17.06</td>\n",
       "    </tr>\n",
       "    <tr>\n",
       "      <th>WU</th>\n",
       "      <td>Information Technology</td>\n",
       "      <td>15.77</td>\n",
       "    </tr>\n",
       "    <tr>\n",
       "      <th>WIN</th>\n",
       "      <td>Telecommunications Services</td>\n",
       "      <td>9.38</td>\n",
       "    </tr>\n",
       "    <tr>\n",
       "      <th>XRX</th>\n",
       "      <td>Information Technology</td>\n",
       "      <td>12.06</td>\n",
       "    </tr>\n",
       "  </tbody>\n",
       "</table>\n",
       "</div>"
      ]
     },
     "execution_count": 140,
     "metadata": {},
     "output_type": "execute_result"
    }
   ],
   "execution_count": 140
  },
  {
   "cell_type": "markdown",
   "id": "0e6be36e",
   "metadata": {},
   "source": "Le ricerche poi possono diventare anche più dettagliate, combinando condizioni booleani e altre tipologie di selezione."
  },
  {
   "cell_type": "code",
   "id": "a23d167c",
   "metadata": {
    "ExecuteTime": {
     "end_time": "2024-04-16T06:55:55.608132Z",
     "start_time": "2024-04-16T06:55:55.593148Z"
    }
   },
   "source": [
    "sp500_1[(sp500_1.Price < 20) & (sp500_1.Price > 10)][['Sector','Price']]"
   ],
   "outputs": [
    {
     "data": {
      "text/plain": [
       "                        Sector  Price\n",
       "Symbol                               \n",
       "AES                  Utilities  13.61\n",
       "AA                   Materials  13.52\n",
       "AVP           Consumer Staples  14.14\n",
       "BAC                 Financials  14.72\n",
       "BSX                Health Care  12.83\n",
       "CVC     Consumer Discretionary  17.45\n",
       "CLF                  Materials  16.34\n",
       "DNR                     Energy  16.71\n",
       "F       Consumer Discretionary  16.02\n",
       "GNW                 Financials  17.28\n",
       "IPG     Consumer Discretionary  18.56\n",
       "IGT     Consumer Discretionary  12.66\n",
       "JBL     Information Technology  18.50\n",
       "KEY                 Financials  13.37\n",
       "LSI     Information Technology  11.14\n",
       "NWSA    Consumer Discretionary  17.09\n",
       "NVDA    Information Technology  18.49\n",
       "BTU                     Energy  17.22\n",
       "PBCT                Financials  14.43\n",
       "PHM     Consumer Discretionary  19.70\n",
       "RF                  Financials  10.07\n",
       "SPLS    Consumer Discretionary  11.65\n",
       "TE                   Utilities  17.06\n",
       "WU      Information Technology  15.77\n",
       "XRX     Information Technology  12.06"
      ],
      "text/html": [
       "<div>\n",
       "<style scoped>\n",
       "    .dataframe tbody tr th:only-of-type {\n",
       "        vertical-align: middle;\n",
       "    }\n",
       "\n",
       "    .dataframe tbody tr th {\n",
       "        vertical-align: top;\n",
       "    }\n",
       "\n",
       "    .dataframe thead th {\n",
       "        text-align: right;\n",
       "    }\n",
       "</style>\n",
       "<table border=\"1\" class=\"dataframe\">\n",
       "  <thead>\n",
       "    <tr style=\"text-align: right;\">\n",
       "      <th></th>\n",
       "      <th>Sector</th>\n",
       "      <th>Price</th>\n",
       "    </tr>\n",
       "    <tr>\n",
       "      <th>Symbol</th>\n",
       "      <th></th>\n",
       "      <th></th>\n",
       "    </tr>\n",
       "  </thead>\n",
       "  <tbody>\n",
       "    <tr>\n",
       "      <th>AES</th>\n",
       "      <td>Utilities</td>\n",
       "      <td>13.61</td>\n",
       "    </tr>\n",
       "    <tr>\n",
       "      <th>AA</th>\n",
       "      <td>Materials</td>\n",
       "      <td>13.52</td>\n",
       "    </tr>\n",
       "    <tr>\n",
       "      <th>AVP</th>\n",
       "      <td>Consumer Staples</td>\n",
       "      <td>14.14</td>\n",
       "    </tr>\n",
       "    <tr>\n",
       "      <th>BAC</th>\n",
       "      <td>Financials</td>\n",
       "      <td>14.72</td>\n",
       "    </tr>\n",
       "    <tr>\n",
       "      <th>BSX</th>\n",
       "      <td>Health Care</td>\n",
       "      <td>12.83</td>\n",
       "    </tr>\n",
       "    <tr>\n",
       "      <th>CVC</th>\n",
       "      <td>Consumer Discretionary</td>\n",
       "      <td>17.45</td>\n",
       "    </tr>\n",
       "    <tr>\n",
       "      <th>CLF</th>\n",
       "      <td>Materials</td>\n",
       "      <td>16.34</td>\n",
       "    </tr>\n",
       "    <tr>\n",
       "      <th>DNR</th>\n",
       "      <td>Energy</td>\n",
       "      <td>16.71</td>\n",
       "    </tr>\n",
       "    <tr>\n",
       "      <th>F</th>\n",
       "      <td>Consumer Discretionary</td>\n",
       "      <td>16.02</td>\n",
       "    </tr>\n",
       "    <tr>\n",
       "      <th>GNW</th>\n",
       "      <td>Financials</td>\n",
       "      <td>17.28</td>\n",
       "    </tr>\n",
       "    <tr>\n",
       "      <th>IPG</th>\n",
       "      <td>Consumer Discretionary</td>\n",
       "      <td>18.56</td>\n",
       "    </tr>\n",
       "    <tr>\n",
       "      <th>IGT</th>\n",
       "      <td>Consumer Discretionary</td>\n",
       "      <td>12.66</td>\n",
       "    </tr>\n",
       "    <tr>\n",
       "      <th>JBL</th>\n",
       "      <td>Information Technology</td>\n",
       "      <td>18.50</td>\n",
       "    </tr>\n",
       "    <tr>\n",
       "      <th>KEY</th>\n",
       "      <td>Financials</td>\n",
       "      <td>13.37</td>\n",
       "    </tr>\n",
       "    <tr>\n",
       "      <th>LSI</th>\n",
       "      <td>Information Technology</td>\n",
       "      <td>11.14</td>\n",
       "    </tr>\n",
       "    <tr>\n",
       "      <th>NWSA</th>\n",
       "      <td>Consumer Discretionary</td>\n",
       "      <td>17.09</td>\n",
       "    </tr>\n",
       "    <tr>\n",
       "      <th>NVDA</th>\n",
       "      <td>Information Technology</td>\n",
       "      <td>18.49</td>\n",
       "    </tr>\n",
       "    <tr>\n",
       "      <th>BTU</th>\n",
       "      <td>Energy</td>\n",
       "      <td>17.22</td>\n",
       "    </tr>\n",
       "    <tr>\n",
       "      <th>PBCT</th>\n",
       "      <td>Financials</td>\n",
       "      <td>14.43</td>\n",
       "    </tr>\n",
       "    <tr>\n",
       "      <th>PHM</th>\n",
       "      <td>Consumer Discretionary</td>\n",
       "      <td>19.70</td>\n",
       "    </tr>\n",
       "    <tr>\n",
       "      <th>RF</th>\n",
       "      <td>Financials</td>\n",
       "      <td>10.07</td>\n",
       "    </tr>\n",
       "    <tr>\n",
       "      <th>SPLS</th>\n",
       "      <td>Consumer Discretionary</td>\n",
       "      <td>11.65</td>\n",
       "    </tr>\n",
       "    <tr>\n",
       "      <th>TE</th>\n",
       "      <td>Utilities</td>\n",
       "      <td>17.06</td>\n",
       "    </tr>\n",
       "    <tr>\n",
       "      <th>WU</th>\n",
       "      <td>Information Technology</td>\n",
       "      <td>15.77</td>\n",
       "    </tr>\n",
       "    <tr>\n",
       "      <th>XRX</th>\n",
       "      <td>Information Technology</td>\n",
       "      <td>12.06</td>\n",
       "    </tr>\n",
       "  </tbody>\n",
       "</table>\n",
       "</div>"
      ]
     },
     "execution_count": 141,
     "metadata": {},
     "output_type": "execute_result"
    }
   ],
   "execution_count": 141
  },
  {
   "cell_type": "markdown",
   "id": "43884223",
   "metadata": {},
   "source": [
    "### Operazioni su DataFrame\n",
    "\n",
    "Le operazioni aritmetiche che coinvolgono il DataFrame ed uno scalare vengono effettuate su tutte le celle del DataFrame."
   ]
  },
  {
   "cell_type": "code",
   "id": "ff4ff4bf",
   "metadata": {
    "ExecuteTime": {
     "end_time": "2024-04-16T06:55:55.874395Z",
     "start_time": "2024-04-16T06:55:55.862427Z"
    }
   },
   "source": [
    "np.random.seed(123456)"
   ],
   "outputs": [],
   "execution_count": 142
  },
  {
   "cell_type": "code",
   "id": "7ce219ee",
   "metadata": {
    "ExecuteTime": {
     "end_time": "2024-04-16T06:55:56.076854Z",
     "start_time": "2024-04-16T06:55:56.063890Z"
    }
   },
   "source": [
    "df = pd.DataFrame(np.random.randn(5,4), columns = ['A','B','C','D'])\n",
    "df"
   ],
   "outputs": [
    {
     "data": {
      "text/plain": [
       "          A         B         C         D\n",
       "0  0.469112 -0.282863 -1.509059 -1.135632\n",
       "1  1.212112 -0.173215  0.119209 -1.044236\n",
       "2 -0.861849 -2.104569 -0.494929  1.071804\n",
       "3  0.721555 -0.706771 -1.039575  0.271860\n",
       "4 -0.424972  0.567020  0.276232 -1.087401"
      ],
      "text/html": [
       "<div>\n",
       "<style scoped>\n",
       "    .dataframe tbody tr th:only-of-type {\n",
       "        vertical-align: middle;\n",
       "    }\n",
       "\n",
       "    .dataframe tbody tr th {\n",
       "        vertical-align: top;\n",
       "    }\n",
       "\n",
       "    .dataframe thead th {\n",
       "        text-align: right;\n",
       "    }\n",
       "</style>\n",
       "<table border=\"1\" class=\"dataframe\">\n",
       "  <thead>\n",
       "    <tr style=\"text-align: right;\">\n",
       "      <th></th>\n",
       "      <th>A</th>\n",
       "      <th>B</th>\n",
       "      <th>C</th>\n",
       "      <th>D</th>\n",
       "    </tr>\n",
       "  </thead>\n",
       "  <tbody>\n",
       "    <tr>\n",
       "      <th>0</th>\n",
       "      <td>0.469112</td>\n",
       "      <td>-0.282863</td>\n",
       "      <td>-1.509059</td>\n",
       "      <td>-1.135632</td>\n",
       "    </tr>\n",
       "    <tr>\n",
       "      <th>1</th>\n",
       "      <td>1.212112</td>\n",
       "      <td>-0.173215</td>\n",
       "      <td>0.119209</td>\n",
       "      <td>-1.044236</td>\n",
       "    </tr>\n",
       "    <tr>\n",
       "      <th>2</th>\n",
       "      <td>-0.861849</td>\n",
       "      <td>-2.104569</td>\n",
       "      <td>-0.494929</td>\n",
       "      <td>1.071804</td>\n",
       "    </tr>\n",
       "    <tr>\n",
       "      <th>3</th>\n",
       "      <td>0.721555</td>\n",
       "      <td>-0.706771</td>\n",
       "      <td>-1.039575</td>\n",
       "      <td>0.271860</td>\n",
       "    </tr>\n",
       "    <tr>\n",
       "      <th>4</th>\n",
       "      <td>-0.424972</td>\n",
       "      <td>0.567020</td>\n",
       "      <td>0.276232</td>\n",
       "      <td>-1.087401</td>\n",
       "    </tr>\n",
       "  </tbody>\n",
       "</table>\n",
       "</div>"
      ]
     },
     "execution_count": 143,
     "metadata": {},
     "output_type": "execute_result"
    }
   ],
   "execution_count": 143
  },
  {
   "cell_type": "code",
   "id": "2a2d3fe2",
   "metadata": {
    "ExecuteTime": {
     "end_time": "2024-04-16T06:55:56.404976Z",
     "start_time": "2024-04-16T06:55:56.394006Z"
    }
   },
   "source": "df*2 # ogni valore presente nelle celle del DataFrame viene moltiplicato per 2",
   "outputs": [
    {
     "data": {
      "text/plain": [
       "          A         B         C         D\n",
       "0  0.938225 -0.565727 -3.018117 -2.271265\n",
       "1  2.424224 -0.346429  0.238417 -2.088472\n",
       "2 -1.723698 -4.209138 -0.989859  2.143608\n",
       "3  1.443110 -1.413542 -2.079150  0.543720\n",
       "4 -0.849945  1.134041  0.552464 -2.174801"
      ],
      "text/html": [
       "<div>\n",
       "<style scoped>\n",
       "    .dataframe tbody tr th:only-of-type {\n",
       "        vertical-align: middle;\n",
       "    }\n",
       "\n",
       "    .dataframe tbody tr th {\n",
       "        vertical-align: top;\n",
       "    }\n",
       "\n",
       "    .dataframe thead th {\n",
       "        text-align: right;\n",
       "    }\n",
       "</style>\n",
       "<table border=\"1\" class=\"dataframe\">\n",
       "  <thead>\n",
       "    <tr style=\"text-align: right;\">\n",
       "      <th></th>\n",
       "      <th>A</th>\n",
       "      <th>B</th>\n",
       "      <th>C</th>\n",
       "      <th>D</th>\n",
       "    </tr>\n",
       "  </thead>\n",
       "  <tbody>\n",
       "    <tr>\n",
       "      <th>0</th>\n",
       "      <td>0.938225</td>\n",
       "      <td>-0.565727</td>\n",
       "      <td>-3.018117</td>\n",
       "      <td>-2.271265</td>\n",
       "    </tr>\n",
       "    <tr>\n",
       "      <th>1</th>\n",
       "      <td>2.424224</td>\n",
       "      <td>-0.346429</td>\n",
       "      <td>0.238417</td>\n",
       "      <td>-2.088472</td>\n",
       "    </tr>\n",
       "    <tr>\n",
       "      <th>2</th>\n",
       "      <td>-1.723698</td>\n",
       "      <td>-4.209138</td>\n",
       "      <td>-0.989859</td>\n",
       "      <td>2.143608</td>\n",
       "    </tr>\n",
       "    <tr>\n",
       "      <th>3</th>\n",
       "      <td>1.443110</td>\n",
       "      <td>-1.413542</td>\n",
       "      <td>-2.079150</td>\n",
       "      <td>0.543720</td>\n",
       "    </tr>\n",
       "    <tr>\n",
       "      <th>4</th>\n",
       "      <td>-0.849945</td>\n",
       "      <td>1.134041</td>\n",
       "      <td>0.552464</td>\n",
       "      <td>-2.174801</td>\n",
       "    </tr>\n",
       "  </tbody>\n",
       "</table>\n",
       "</div>"
      ]
     },
     "execution_count": 144,
     "metadata": {},
     "output_type": "execute_result"
    }
   ],
   "execution_count": 144
  },
  {
   "cell_type": "markdown",
   "id": "cf75464b",
   "metadata": {},
   "source": "Si possono effettuare operazioni sul DataFrame a partire dai valori contenuti in una sua riga."
  },
  {
   "cell_type": "code",
   "id": "5cd1c783",
   "metadata": {
    "ExecuteTime": {
     "end_time": "2024-04-16T06:55:56.592500Z",
     "start_time": "2024-04-16T06:55:56.567543Z"
    }
   },
   "source": "df - df.iloc[0] # ad ogni riga del DataFrame sottrai i valori contenuti nella prima riga (facendo corrispondere le celle)",
   "outputs": [
    {
     "data": {
      "text/plain": [
       "          A         B         C         D\n",
       "0  0.000000  0.000000  0.000000  0.000000\n",
       "1  0.743000  0.109649  1.628267  0.091396\n",
       "2 -1.330961 -1.821706  1.014129  2.207436\n",
       "3  0.252443 -0.423908  0.469484  1.407492\n",
       "4 -0.894085  0.849884  1.785291  0.048232"
      ],
      "text/html": [
       "<div>\n",
       "<style scoped>\n",
       "    .dataframe tbody tr th:only-of-type {\n",
       "        vertical-align: middle;\n",
       "    }\n",
       "\n",
       "    .dataframe tbody tr th {\n",
       "        vertical-align: top;\n",
       "    }\n",
       "\n",
       "    .dataframe thead th {\n",
       "        text-align: right;\n",
       "    }\n",
       "</style>\n",
       "<table border=\"1\" class=\"dataframe\">\n",
       "  <thead>\n",
       "    <tr style=\"text-align: right;\">\n",
       "      <th></th>\n",
       "      <th>A</th>\n",
       "      <th>B</th>\n",
       "      <th>C</th>\n",
       "      <th>D</th>\n",
       "    </tr>\n",
       "  </thead>\n",
       "  <tbody>\n",
       "    <tr>\n",
       "      <th>0</th>\n",
       "      <td>0.000000</td>\n",
       "      <td>0.000000</td>\n",
       "      <td>0.000000</td>\n",
       "      <td>0.000000</td>\n",
       "    </tr>\n",
       "    <tr>\n",
       "      <th>1</th>\n",
       "      <td>0.743000</td>\n",
       "      <td>0.109649</td>\n",
       "      <td>1.628267</td>\n",
       "      <td>0.091396</td>\n",
       "    </tr>\n",
       "    <tr>\n",
       "      <th>2</th>\n",
       "      <td>-1.330961</td>\n",
       "      <td>-1.821706</td>\n",
       "      <td>1.014129</td>\n",
       "      <td>2.207436</td>\n",
       "    </tr>\n",
       "    <tr>\n",
       "      <th>3</th>\n",
       "      <td>0.252443</td>\n",
       "      <td>-0.423908</td>\n",
       "      <td>0.469484</td>\n",
       "      <td>1.407492</td>\n",
       "    </tr>\n",
       "    <tr>\n",
       "      <th>4</th>\n",
       "      <td>-0.894085</td>\n",
       "      <td>0.849884</td>\n",
       "      <td>1.785291</td>\n",
       "      <td>0.048232</td>\n",
       "    </tr>\n",
       "  </tbody>\n",
       "</table>\n",
       "</div>"
      ]
     },
     "execution_count": 145,
     "metadata": {},
     "output_type": "execute_result"
    }
   ],
   "execution_count": 145
  },
  {
   "cell_type": "markdown",
   "id": "a1d23d46",
   "metadata": {},
   "source": "Nel caso in cui si voglia effettuare operazioni a partire dai valori contenuti in una porzione del DataFrame, è possibile creare un nuovo DataFrame che sia un \"sotto-dataframe\" di quello originale: per farlo, effettuiamo la selezione delle righe e colonne di interesse mediante l'operatore []."
  },
  {
   "cell_type": "code",
   "id": "925a670e",
   "metadata": {
    "ExecuteTime": {
     "end_time": "2024-04-16T07:23:46.031385Z",
     "start_time": "2024-04-16T07:23:46.008447Z"
    }
   },
   "source": [
    "subframe = df[1:4][['B','C']]\n",
    "subframe"
   ],
   "outputs": [
    {
     "data": {
      "text/plain": [
       "          B         C\n",
       "1 -0.173215  0.119209\n",
       "2 -2.104569 -0.494929\n",
       "3 -0.706771 -1.039575"
      ],
      "text/html": [
       "<div>\n",
       "<style scoped>\n",
       "    .dataframe tbody tr th:only-of-type {\n",
       "        vertical-align: middle;\n",
       "    }\n",
       "\n",
       "    .dataframe tbody tr th {\n",
       "        vertical-align: top;\n",
       "    }\n",
       "\n",
       "    .dataframe thead th {\n",
       "        text-align: right;\n",
       "    }\n",
       "</style>\n",
       "<table border=\"1\" class=\"dataframe\">\n",
       "  <thead>\n",
       "    <tr style=\"text-align: right;\">\n",
       "      <th></th>\n",
       "      <th>B</th>\n",
       "      <th>C</th>\n",
       "    </tr>\n",
       "  </thead>\n",
       "  <tbody>\n",
       "    <tr>\n",
       "      <th>1</th>\n",
       "      <td>-0.173215</td>\n",
       "      <td>0.119209</td>\n",
       "    </tr>\n",
       "    <tr>\n",
       "      <th>2</th>\n",
       "      <td>-2.104569</td>\n",
       "      <td>-0.494929</td>\n",
       "    </tr>\n",
       "    <tr>\n",
       "      <th>3</th>\n",
       "      <td>-0.706771</td>\n",
       "      <td>-1.039575</td>\n",
       "    </tr>\n",
       "  </tbody>\n",
       "</table>\n",
       "</div>"
      ]
     },
     "execution_count": 213,
     "metadata": {},
     "output_type": "execute_result"
    }
   ],
   "execution_count": 213
  },
  {
   "cell_type": "code",
   "id": "2db7fb25",
   "metadata": {
    "ExecuteTime": {
     "end_time": "2024-04-16T07:28:50.765635Z",
     "start_time": "2024-04-16T07:28:50.751203Z"
    }
   },
   "source": "df - subframe # l'operazione viene effettuata solo dove ci sono valori da sottrarre, altrimenti rerstituisce NaN",
   "outputs": [
    {
     "data": {
      "text/plain": [
       "    A    B    C   D\n",
       "0 NaN  NaN  NaN NaN\n",
       "1 NaN  0.0  0.0 NaN\n",
       "2 NaN  0.0  0.0 NaN\n",
       "3 NaN  0.0  0.0 NaN\n",
       "4 NaN  NaN  NaN NaN"
      ],
      "text/html": [
       "<div>\n",
       "<style scoped>\n",
       "    .dataframe tbody tr th:only-of-type {\n",
       "        vertical-align: middle;\n",
       "    }\n",
       "\n",
       "    .dataframe tbody tr th {\n",
       "        vertical-align: top;\n",
       "    }\n",
       "\n",
       "    .dataframe thead th {\n",
       "        text-align: right;\n",
       "    }\n",
       "</style>\n",
       "<table border=\"1\" class=\"dataframe\">\n",
       "  <thead>\n",
       "    <tr style=\"text-align: right;\">\n",
       "      <th></th>\n",
       "      <th>A</th>\n",
       "      <th>B</th>\n",
       "      <th>C</th>\n",
       "      <th>D</th>\n",
       "    </tr>\n",
       "  </thead>\n",
       "  <tbody>\n",
       "    <tr>\n",
       "      <th>0</th>\n",
       "      <td>NaN</td>\n",
       "      <td>NaN</td>\n",
       "      <td>NaN</td>\n",
       "      <td>NaN</td>\n",
       "    </tr>\n",
       "    <tr>\n",
       "      <th>1</th>\n",
       "      <td>NaN</td>\n",
       "      <td>0.0</td>\n",
       "      <td>0.0</td>\n",
       "      <td>NaN</td>\n",
       "    </tr>\n",
       "    <tr>\n",
       "      <th>2</th>\n",
       "      <td>NaN</td>\n",
       "      <td>0.0</td>\n",
       "      <td>0.0</td>\n",
       "      <td>NaN</td>\n",
       "    </tr>\n",
       "    <tr>\n",
       "      <th>3</th>\n",
       "      <td>NaN</td>\n",
       "      <td>0.0</td>\n",
       "      <td>0.0</td>\n",
       "      <td>NaN</td>\n",
       "    </tr>\n",
       "    <tr>\n",
       "      <th>4</th>\n",
       "      <td>NaN</td>\n",
       "      <td>NaN</td>\n",
       "      <td>NaN</td>\n",
       "      <td>NaN</td>\n",
       "    </tr>\n",
       "  </tbody>\n",
       "</table>\n",
       "</div>"
      ]
     },
     "execution_count": 214,
     "metadata": {},
     "output_type": "execute_result"
    }
   ],
   "execution_count": 214
  },
  {
   "metadata": {},
   "cell_type": "markdown",
   "source": "__NB__: il DataFrame `df` ha dimensioni 5x4, mentre il DataFrame `subframe` ha dimensioni 3x2; questo implica che per alcune celle di `df` non è presente il corrispondente valore di `subframe` da sottrarre, quindi il risultato è un DataFrame 5x4 in cui le celle dove non è stato possibile effettuare l'operazione contengono NaN (Not a Number).",
   "id": "88cb7f78b01182e"
  },
  {
   "cell_type": "markdown",
   "id": "af41a0dd",
   "metadata": {},
   "source": "Si possono anche effettuare operazioni che coinvolgono intere colonne."
  },
  {
   "cell_type": "code",
   "id": "a29175dd",
   "metadata": {
    "ExecuteTime": {
     "end_time": "2024-04-16T06:55:57.396558Z",
     "start_time": "2024-04-16T06:55:57.383078Z"
    }
   },
   "source": [
    "a_col = df['A']"
   ],
   "outputs": [],
   "execution_count": 148
  },
  {
   "cell_type": "code",
   "id": "ea2e7404",
   "metadata": {
    "ExecuteTime": {
     "end_time": "2024-04-16T07:43:27.316588Z",
     "start_time": "2024-04-16T07:43:27.303624Z"
    }
   },
   "source": "df.sub(a_col, axis=0) # sottrae il contenuto della colonna 'A' a tutte le altre colonne del DataFrame",
   "outputs": [
    {
     "data": {
      "text/plain": [
       "     A         B         C         D\n",
       "0  0.0 -0.751976 -1.978171 -1.604745\n",
       "1  0.0 -1.385327 -1.092903 -2.256348\n",
       "2  0.0 -1.242720  0.366920  1.933653\n",
       "3  0.0 -1.428326 -1.761130 -0.449695\n",
       "4  0.0  0.991993  0.701204 -0.662428"
      ],
      "text/html": [
       "<div>\n",
       "<style scoped>\n",
       "    .dataframe tbody tr th:only-of-type {\n",
       "        vertical-align: middle;\n",
       "    }\n",
       "\n",
       "    .dataframe tbody tr th {\n",
       "        vertical-align: top;\n",
       "    }\n",
       "\n",
       "    .dataframe thead th {\n",
       "        text-align: right;\n",
       "    }\n",
       "</style>\n",
       "<table border=\"1\" class=\"dataframe\">\n",
       "  <thead>\n",
       "    <tr style=\"text-align: right;\">\n",
       "      <th></th>\n",
       "      <th>A</th>\n",
       "      <th>B</th>\n",
       "      <th>C</th>\n",
       "      <th>D</th>\n",
       "    </tr>\n",
       "  </thead>\n",
       "  <tbody>\n",
       "    <tr>\n",
       "      <th>0</th>\n",
       "      <td>0.0</td>\n",
       "      <td>-0.751976</td>\n",
       "      <td>-1.978171</td>\n",
       "      <td>-1.604745</td>\n",
       "    </tr>\n",
       "    <tr>\n",
       "      <th>1</th>\n",
       "      <td>0.0</td>\n",
       "      <td>-1.385327</td>\n",
       "      <td>-1.092903</td>\n",
       "      <td>-2.256348</td>\n",
       "    </tr>\n",
       "    <tr>\n",
       "      <th>2</th>\n",
       "      <td>0.0</td>\n",
       "      <td>-1.242720</td>\n",
       "      <td>0.366920</td>\n",
       "      <td>1.933653</td>\n",
       "    </tr>\n",
       "    <tr>\n",
       "      <th>3</th>\n",
       "      <td>0.0</td>\n",
       "      <td>-1.428326</td>\n",
       "      <td>-1.761130</td>\n",
       "      <td>-0.449695</td>\n",
       "    </tr>\n",
       "    <tr>\n",
       "      <th>4</th>\n",
       "      <td>0.0</td>\n",
       "      <td>0.991993</td>\n",
       "      <td>0.701204</td>\n",
       "      <td>-0.662428</td>\n",
       "    </tr>\n",
       "  </tbody>\n",
       "</table>\n",
       "</div>"
      ]
     },
     "execution_count": 215,
     "metadata": {},
     "output_type": "execute_result"
    }
   ],
   "execution_count": 215
  },
  {
   "metadata": {},
   "cell_type": "markdown",
   "source": [
    "__NB__: il parametro `axis` consente di decidere lungo quale asse eseguire l'operazione: axis=0 significa \"esegui l'operazione lungo l'asse delle righe\", mentre axis=1 significa \"esegui l'operazione lungo l'asse delle colonne\". <br>\n",
    "__PER CAPIRE__: con axis=0 agisco sulle colonne, con axis=1 agisco sulle righe."
   ],
   "id": "50c104f17fbc7cba"
  },
  {
   "cell_type": "markdown",
   "id": "376470c6",
   "metadata": {},
   "source": [
    "### Reindicizzazione\n",
    "La reindicizzazione fa tre cose:\n",
    "- riordina i dati per corrispondere a un insieme di etichette\n",
    "- inserisce NaN dove per una etichetta mancano dati\n",
    "- inserisce NaN dove mancano alcuni dati"
   ]
  },
  {
   "cell_type": "code",
   "id": "4f5b1338",
   "metadata": {
    "ExecuteTime": {
     "end_time": "2024-04-16T06:55:57.867592Z",
     "start_time": "2024-04-16T06:55:57.853602Z"
    }
   },
   "source": [
    "np.random.seed(1)\n",
    "s = pd.Series(np.random.randn(5))\n",
    "s"
   ],
   "outputs": [
    {
     "data": {
      "text/plain": [
       "0    1.624345\n",
       "1   -0.611756\n",
       "2   -0.528172\n",
       "3   -1.072969\n",
       "4    0.865408\n",
       "dtype: float64"
      ]
     },
     "execution_count": 150,
     "metadata": {},
     "output_type": "execute_result"
    }
   ],
   "execution_count": 150
  },
  {
   "cell_type": "code",
   "id": "e68d600d",
   "metadata": {
    "ExecuteTime": {
     "end_time": "2024-04-16T06:55:58.070410Z",
     "start_time": "2024-04-16T06:55:58.052430Z"
    }
   },
   "source": [
    "s.index = ['a','b','c','d','e']\n",
    "s"
   ],
   "outputs": [
    {
     "data": {
      "text/plain": [
       "a    1.624345\n",
       "b   -0.611756\n",
       "c   -0.528172\n",
       "d   -1.072969\n",
       "e    0.865408\n",
       "dtype: float64"
      ]
     },
     "execution_count": 151,
     "metadata": {},
     "output_type": "execute_result"
    }
   ],
   "execution_count": 151
  },
  {
   "cell_type": "code",
   "id": "3b40b833",
   "metadata": {
    "ExecuteTime": {
     "end_time": "2024-04-16T06:55:58.336697Z",
     "start_time": "2024-04-16T06:55:58.325700Z"
    }
   },
   "source": [
    "s = pd.Series(np.random.randn(5))\n",
    "s"
   ],
   "outputs": [
    {
     "data": {
      "text/plain": [
       "0   -2.301539\n",
       "1    1.744812\n",
       "2   -0.761207\n",
       "3    0.319039\n",
       "4   -0.249370\n",
       "dtype: float64"
      ]
     },
     "execution_count": 152,
     "metadata": {},
     "output_type": "execute_result"
    }
   ],
   "execution_count": 152
  },
  {
   "cell_type": "code",
   "id": "99d74a31",
   "metadata": {
    "ExecuteTime": {
     "end_time": "2024-04-16T06:55:58.478290Z",
     "start_time": "2024-04-16T06:55:58.465325Z"
    }
   },
   "source": [
    "s.index = ['a', 'b', 'c', 'd', 'e']"
   ],
   "outputs": [],
   "execution_count": 153
  },
  {
   "cell_type": "code",
   "id": "7cbf24f4",
   "metadata": {
    "ExecuteTime": {
     "end_time": "2024-04-16T06:55:58.760587Z",
     "start_time": "2024-04-16T06:55:58.744632Z"
    }
   },
   "source": [
    "s"
   ],
   "outputs": [
    {
     "data": {
      "text/plain": [
       "a   -2.301539\n",
       "b    1.744812\n",
       "c   -0.761207\n",
       "d    0.319039\n",
       "e   -0.249370\n",
       "dtype: float64"
      ]
     },
     "execution_count": 154,
     "metadata": {},
     "output_type": "execute_result"
    }
   ],
   "execution_count": 154
  },
  {
   "cell_type": "markdown",
   "id": "c9afa3c6",
   "metadata": {},
   "source": [
    "Con il metodo .reindex() si può creare una nuova serie di lunghezza diversa. Se non ci sono valori per un certo indice si ottiene NaN"
   ]
  },
  {
   "cell_type": "code",
   "id": "c47fd35b",
   "metadata": {
    "ExecuteTime": {
     "end_time": "2024-04-16T06:55:58.885283Z",
     "start_time": "2024-04-16T06:55:58.871292Z"
    }
   },
   "source": [
    "s2 = s.reindex(['a','c','e','g'])\n",
    "s2"
   ],
   "outputs": [
    {
     "data": {
      "text/plain": [
       "a   -2.301539\n",
       "c   -0.761207\n",
       "e   -0.249370\n",
       "g         NaN\n",
       "dtype: float64"
      ]
     },
     "execution_count": 155,
     "metadata": {},
     "output_type": "execute_result"
    }
   ],
   "execution_count": 155
  },
  {
   "cell_type": "code",
   "id": "74b9bd4b",
   "metadata": {
    "ExecuteTime": {
     "end_time": "2024-04-16T06:55:59.044855Z",
     "start_time": "2024-04-16T06:55:59.030867Z"
    }
   },
   "source": [
    "s2['a']"
   ],
   "outputs": [
    {
     "data": {
      "text/plain": [
       "-2.3015386968802827"
      ]
     },
     "execution_count": 156,
     "metadata": {},
     "output_type": "execute_result"
    }
   ],
   "execution_count": 156
  },
  {
   "cell_type": "code",
   "id": "ce53439b",
   "metadata": {
    "ExecuteTime": {
     "end_time": "2024-04-16T06:55:59.186473Z",
     "start_time": "2024-04-16T06:55:59.174505Z"
    }
   },
   "source": [
    "s1 = pd.Series([0,1,2], index = [0,1,2])\n",
    "s2 = pd.Series([3,4,5], index = ['0','1','2'])\n",
    "s1+s2\n",
    "# non unifica gli indici perché i primi sono numeri interi e i secondi stringhe"
   ],
   "outputs": [
    {
     "data": {
      "text/plain": [
       "0   NaN\n",
       "1   NaN\n",
       "2   NaN\n",
       "0   NaN\n",
       "1   NaN\n",
       "2   NaN\n",
       "dtype: float64"
      ]
     },
     "execution_count": 157,
     "metadata": {},
     "output_type": "execute_result"
    }
   ],
   "execution_count": 157
  },
  {
   "cell_type": "markdown",
   "id": "c821004b",
   "metadata": {},
   "source": [
    "con il metodo .astype() si può modificare il tipo di valore"
   ]
  },
  {
   "cell_type": "code",
   "id": "b8761d11",
   "metadata": {
    "ExecuteTime": {
     "end_time": "2024-04-16T06:55:59.373601Z",
     "start_time": "2024-04-16T06:55:59.359639Z"
    }
   },
   "source": [
    "s2.index = s2.index.values.astype(int)\n",
    "s1+s2"
   ],
   "outputs": [
    {
     "data": {
      "text/plain": [
       "0    3\n",
       "1    5\n",
       "2    7\n",
       "dtype: int64"
      ]
     },
     "execution_count": 158,
     "metadata": {},
     "output_type": "execute_result"
    }
   ],
   "execution_count": 158
  },
  {
   "cell_type": "markdown",
   "id": "410689d0",
   "metadata": {},
   "source": [
    "### Reindicizzare e inserire valori mancanti"
   ]
  },
  {
   "cell_type": "code",
   "id": "6f013fee",
   "metadata": {
    "ExecuteTime": {
     "end_time": "2024-04-16T06:55:59.498440Z",
     "start_time": "2024-04-16T06:55:59.478468Z"
    }
   },
   "source": [
    "s2 = s.copy()\n",
    "s2.reindex(['a', 'f'], fill_value = 0)"
   ],
   "outputs": [
    {
     "data": {
      "text/plain": [
       "a   -2.301539\n",
       "f    0.000000\n",
       "dtype: float64"
      ]
     },
     "execution_count": 159,
     "metadata": {},
     "output_type": "execute_result"
    }
   ],
   "execution_count": 159
  },
  {
   "cell_type": "markdown",
   "id": "27317e0a",
   "metadata": {},
   "source": [
    "L'inserimento di valori mancanti verrà trattato meglio vedendo le serie temporali"
   ]
  },
  {
   "cell_type": "code",
   "id": "952772c2",
   "metadata": {
    "ExecuteTime": {
     "end_time": "2024-04-16T06:55:59.701626Z",
     "start_time": "2024-04-16T06:55:59.688624Z"
    }
   },
   "source": [
    "s3 = pd.Series(['red', 'green', 'blue'], index = [0, 3, 5])\n",
    "s3"
   ],
   "outputs": [
    {
     "data": {
      "text/plain": [
       "0      red\n",
       "3    green\n",
       "5     blue\n",
       "dtype: object"
      ]
     },
     "execution_count": 160,
     "metadata": {},
     "output_type": "execute_result"
    }
   ],
   "execution_count": 160
  },
  {
   "cell_type": "markdown",
   "id": "98b319c5",
   "metadata": {},
   "source": [
    "forward e backword fill"
   ]
  },
  {
   "cell_type": "code",
   "id": "3b4733d5",
   "metadata": {
    "ExecuteTime": {
     "end_time": "2024-04-16T06:55:59.827580Z",
     "start_time": "2024-04-16T06:55:59.815585Z"
    }
   },
   "source": [
    "s3.reindex(np.arange(0,7), method = 'ffill')"
   ],
   "outputs": [
    {
     "data": {
      "text/plain": [
       "0      red\n",
       "1      red\n",
       "2      red\n",
       "3    green\n",
       "4    green\n",
       "5     blue\n",
       "6     blue\n",
       "dtype: object"
      ]
     },
     "execution_count": 161,
     "metadata": {},
     "output_type": "execute_result"
    }
   ],
   "execution_count": 161
  },
  {
   "cell_type": "code",
   "id": "1026ad30",
   "metadata": {
    "ExecuteTime": {
     "end_time": "2024-04-16T06:56:00.016563Z",
     "start_time": "2024-04-16T06:56:00.002601Z"
    }
   },
   "source": [
    "s3.reindex(np.arange(0,7), method = 'bfill')"
   ],
   "outputs": [
    {
     "data": {
      "text/plain": [
       "0      red\n",
       "1    green\n",
       "2    green\n",
       "3    green\n",
       "4     blue\n",
       "5     blue\n",
       "6      NaN\n",
       "dtype: object"
      ]
     },
     "execution_count": 162,
     "metadata": {},
     "output_type": "execute_result"
    }
   ],
   "execution_count": 162
  },
  {
   "cell_type": "markdown",
   "id": "0e95fd53",
   "metadata": {},
   "source": [
    "### Riorganizzare e aggregare i dati\n",
    "######  pag. 45 - 72"
   ]
  },
  {
   "cell_type": "code",
   "id": "508a8067",
   "metadata": {
    "ExecuteTime": {
     "end_time": "2024-04-16T06:56:01.266370Z",
     "start_time": "2024-04-16T06:56:00.128471Z"
    }
   },
   "source": [
    "import pandas as pd\n",
    "import numpy as np\n",
    "import datetime\n",
    "import matplotlib.pyplot as plt\n",
    "%matplotlib inline\n"
   ],
   "outputs": [],
   "execution_count": 163
  },
  {
   "cell_type": "code",
   "id": "bac557fb",
   "metadata": {
    "ExecuteTime": {
     "end_time": "2024-04-16T06:56:01.811552Z",
     "start_time": "2024-04-16T06:56:01.268365Z"
    }
   },
   "source": [
    "import yfinance as yf"
   ],
   "outputs": [],
   "execution_count": 164
  },
  {
   "cell_type": "code",
   "id": "cc6ee00f",
   "metadata": {
    "ExecuteTime": {
     "end_time": "2024-04-16T06:56:01.827506Z",
     "start_time": "2024-04-16T06:56:01.813544Z"
    }
   },
   "source": [
    "start = datetime.datetime(2012, 1, 1)\n",
    "end = datetime.datetime(2012, 12, 30)"
   ],
   "outputs": [],
   "execution_count": 165
  },
  {
   "cell_type": "code",
   "id": "f31b8b3a",
   "metadata": {
    "ExecuteTime": {
     "end_time": "2024-04-16T06:56:07.001178Z",
     "start_time": "2024-04-16T06:56:01.829501Z"
    }
   },
   "source": [
    "msft = yf.download('MSFT', start, end)\n",
    "aapl = yf.download('AAPL', start, end)\n"
   ],
   "outputs": [
    {
     "name": "stderr",
     "output_type": "stream",
     "text": [
      "[*********************100%%**********************]  1 of 1 completed\n",
      "[*********************100%%**********************]  1 of 1 completed\n"
     ]
    }
   ],
   "execution_count": 166
  },
  {
   "cell_type": "code",
   "id": "31ad53b8",
   "metadata": {
    "ExecuteTime": {
     "end_time": "2024-04-16T06:56:07.016442Z",
     "start_time": "2024-04-16T06:56:07.002153Z"
    }
   },
   "source": [
    "msft.to_csv(\"msft.csv\")\n",
    "aapl.to_csv(\"aapl.csv\")"
   ],
   "outputs": [],
   "execution_count": 167
  },
  {
   "cell_type": "code",
   "id": "6d2a37c1",
   "metadata": {
    "ExecuteTime": {
     "end_time": "2024-04-16T06:56:07.032427Z",
     "start_time": "2024-04-16T06:56:07.017442Z"
    }
   },
   "source": [
    "msft.head()"
   ],
   "outputs": [
    {
     "data": {
      "text/plain": [
       "                 Open       High        Low      Close  Adj Close    Volume\n",
       "Date                                                                       \n",
       "2012-01-03  26.549999  26.959999  26.389999  26.770000  21.238752  64731500\n",
       "2012-01-04  26.820000  27.469999  26.780001  27.400000  21.738583  80516100\n",
       "2012-01-05  27.379999  27.730000  27.290001  27.680000  21.960728  56081400\n",
       "2012-01-06  27.530001  28.190001  27.530001  28.110001  22.301882  99455500\n",
       "2012-01-09  28.049999  28.100000  27.719999  27.740000  22.008331  59706800"
      ],
      "text/html": [
       "<div>\n",
       "<style scoped>\n",
       "    .dataframe tbody tr th:only-of-type {\n",
       "        vertical-align: middle;\n",
       "    }\n",
       "\n",
       "    .dataframe tbody tr th {\n",
       "        vertical-align: top;\n",
       "    }\n",
       "\n",
       "    .dataframe thead th {\n",
       "        text-align: right;\n",
       "    }\n",
       "</style>\n",
       "<table border=\"1\" class=\"dataframe\">\n",
       "  <thead>\n",
       "    <tr style=\"text-align: right;\">\n",
       "      <th></th>\n",
       "      <th>Open</th>\n",
       "      <th>High</th>\n",
       "      <th>Low</th>\n",
       "      <th>Close</th>\n",
       "      <th>Adj Close</th>\n",
       "      <th>Volume</th>\n",
       "    </tr>\n",
       "    <tr>\n",
       "      <th>Date</th>\n",
       "      <th></th>\n",
       "      <th></th>\n",
       "      <th></th>\n",
       "      <th></th>\n",
       "      <th></th>\n",
       "      <th></th>\n",
       "    </tr>\n",
       "  </thead>\n",
       "  <tbody>\n",
       "    <tr>\n",
       "      <th>2012-01-03</th>\n",
       "      <td>26.549999</td>\n",
       "      <td>26.959999</td>\n",
       "      <td>26.389999</td>\n",
       "      <td>26.770000</td>\n",
       "      <td>21.238752</td>\n",
       "      <td>64731500</td>\n",
       "    </tr>\n",
       "    <tr>\n",
       "      <th>2012-01-04</th>\n",
       "      <td>26.820000</td>\n",
       "      <td>27.469999</td>\n",
       "      <td>26.780001</td>\n",
       "      <td>27.400000</td>\n",
       "      <td>21.738583</td>\n",
       "      <td>80516100</td>\n",
       "    </tr>\n",
       "    <tr>\n",
       "      <th>2012-01-05</th>\n",
       "      <td>27.379999</td>\n",
       "      <td>27.730000</td>\n",
       "      <td>27.290001</td>\n",
       "      <td>27.680000</td>\n",
       "      <td>21.960728</td>\n",
       "      <td>56081400</td>\n",
       "    </tr>\n",
       "    <tr>\n",
       "      <th>2012-01-06</th>\n",
       "      <td>27.530001</td>\n",
       "      <td>28.190001</td>\n",
       "      <td>27.530001</td>\n",
       "      <td>28.110001</td>\n",
       "      <td>22.301882</td>\n",
       "      <td>99455500</td>\n",
       "    </tr>\n",
       "    <tr>\n",
       "      <th>2012-01-09</th>\n",
       "      <td>28.049999</td>\n",
       "      <td>28.100000</td>\n",
       "      <td>27.719999</td>\n",
       "      <td>27.740000</td>\n",
       "      <td>22.008331</td>\n",
       "      <td>59706800</td>\n",
       "    </tr>\n",
       "  </tbody>\n",
       "</table>\n",
       "</div>"
      ]
     },
     "execution_count": 168,
     "metadata": {},
     "output_type": "execute_result"
    }
   ],
   "execution_count": 168
  },
  {
   "cell_type": "code",
   "id": "82985262",
   "metadata": {
    "ExecuteTime": {
     "end_time": "2024-04-16T06:56:07.047595Z",
     "start_time": "2024-04-16T06:56:07.033396Z"
    }
   },
   "source": [
    "msft.tail()"
   ],
   "outputs": [
    {
     "data": {
      "text/plain": [
       "                 Open       High        Low      Close  Adj Close    Volume\n",
       "Date                                                                       \n",
       "2012-12-21  27.450001  27.490000  27.000000  27.450001  22.394157  98776500\n",
       "2012-12-24  27.200001  27.250000  27.000000  27.059999  22.075996  20842400\n",
       "2012-12-26  27.030001  27.200001  26.700001  26.860001  21.912830  31631100\n",
       "2012-12-27  26.889999  27.090000  26.570000  26.959999  21.994410  39394000\n",
       "2012-12-28  26.709999  26.900000  26.549999  26.549999  21.659929  28239900"
      ],
      "text/html": [
       "<div>\n",
       "<style scoped>\n",
       "    .dataframe tbody tr th:only-of-type {\n",
       "        vertical-align: middle;\n",
       "    }\n",
       "\n",
       "    .dataframe tbody tr th {\n",
       "        vertical-align: top;\n",
       "    }\n",
       "\n",
       "    .dataframe thead th {\n",
       "        text-align: right;\n",
       "    }\n",
       "</style>\n",
       "<table border=\"1\" class=\"dataframe\">\n",
       "  <thead>\n",
       "    <tr style=\"text-align: right;\">\n",
       "      <th></th>\n",
       "      <th>Open</th>\n",
       "      <th>High</th>\n",
       "      <th>Low</th>\n",
       "      <th>Close</th>\n",
       "      <th>Adj Close</th>\n",
       "      <th>Volume</th>\n",
       "    </tr>\n",
       "    <tr>\n",
       "      <th>Date</th>\n",
       "      <th></th>\n",
       "      <th></th>\n",
       "      <th></th>\n",
       "      <th></th>\n",
       "      <th></th>\n",
       "      <th></th>\n",
       "    </tr>\n",
       "  </thead>\n",
       "  <tbody>\n",
       "    <tr>\n",
       "      <th>2012-12-21</th>\n",
       "      <td>27.450001</td>\n",
       "      <td>27.490000</td>\n",
       "      <td>27.000000</td>\n",
       "      <td>27.450001</td>\n",
       "      <td>22.394157</td>\n",
       "      <td>98776500</td>\n",
       "    </tr>\n",
       "    <tr>\n",
       "      <th>2012-12-24</th>\n",
       "      <td>27.200001</td>\n",
       "      <td>27.250000</td>\n",
       "      <td>27.000000</td>\n",
       "      <td>27.059999</td>\n",
       "      <td>22.075996</td>\n",
       "      <td>20842400</td>\n",
       "    </tr>\n",
       "    <tr>\n",
       "      <th>2012-12-26</th>\n",
       "      <td>27.030001</td>\n",
       "      <td>27.200001</td>\n",
       "      <td>26.700001</td>\n",
       "      <td>26.860001</td>\n",
       "      <td>21.912830</td>\n",
       "      <td>31631100</td>\n",
       "    </tr>\n",
       "    <tr>\n",
       "      <th>2012-12-27</th>\n",
       "      <td>26.889999</td>\n",
       "      <td>27.090000</td>\n",
       "      <td>26.570000</td>\n",
       "      <td>26.959999</td>\n",
       "      <td>21.994410</td>\n",
       "      <td>39394000</td>\n",
       "    </tr>\n",
       "    <tr>\n",
       "      <th>2012-12-28</th>\n",
       "      <td>26.709999</td>\n",
       "      <td>26.900000</td>\n",
       "      <td>26.549999</td>\n",
       "      <td>26.549999</td>\n",
       "      <td>21.659929</td>\n",
       "      <td>28239900</td>\n",
       "    </tr>\n",
       "  </tbody>\n",
       "</table>\n",
       "</div>"
      ]
     },
     "execution_count": 169,
     "metadata": {},
     "output_type": "execute_result"
    }
   ],
   "execution_count": 169
  },
  {
   "cell_type": "code",
   "id": "ccaa7e3c",
   "metadata": {
    "ExecuteTime": {
     "end_time": "2024-04-16T06:56:07.063516Z",
     "start_time": "2024-04-16T06:56:07.048593Z"
    }
   },
   "source": [
    "msft = pd.read_csv(\"msft.csv\", index_col = 0, parse_dates = True)\n",
    "aapl = pd.read_csv(\"aapl.csv\", index_col = 0, parse_dates = True)"
   ],
   "outputs": [],
   "execution_count": 170
  },
  {
   "cell_type": "code",
   "id": "094d327c",
   "metadata": {
    "ExecuteTime": {
     "end_time": "2024-04-16T06:56:07.079473Z",
     "start_time": "2024-04-16T06:56:07.064513Z"
    }
   },
   "source": [
    "msft[:3]"
   ],
   "outputs": [
    {
     "data": {
      "text/plain": [
       "                 Open       High        Low  Close  Adj Close    Volume\n",
       "Date                                                                   \n",
       "2012-01-03  26.549999  26.959999  26.389999  26.77  21.238752  64731500\n",
       "2012-01-04  26.820000  27.469999  26.780001  27.40  21.738583  80516100\n",
       "2012-01-05  27.379999  27.730000  27.290001  27.68  21.960728  56081400"
      ],
      "text/html": [
       "<div>\n",
       "<style scoped>\n",
       "    .dataframe tbody tr th:only-of-type {\n",
       "        vertical-align: middle;\n",
       "    }\n",
       "\n",
       "    .dataframe tbody tr th {\n",
       "        vertical-align: top;\n",
       "    }\n",
       "\n",
       "    .dataframe thead th {\n",
       "        text-align: right;\n",
       "    }\n",
       "</style>\n",
       "<table border=\"1\" class=\"dataframe\">\n",
       "  <thead>\n",
       "    <tr style=\"text-align: right;\">\n",
       "      <th></th>\n",
       "      <th>Open</th>\n",
       "      <th>High</th>\n",
       "      <th>Low</th>\n",
       "      <th>Close</th>\n",
       "      <th>Adj Close</th>\n",
       "      <th>Volume</th>\n",
       "    </tr>\n",
       "    <tr>\n",
       "      <th>Date</th>\n",
       "      <th></th>\n",
       "      <th></th>\n",
       "      <th></th>\n",
       "      <th></th>\n",
       "      <th></th>\n",
       "      <th></th>\n",
       "    </tr>\n",
       "  </thead>\n",
       "  <tbody>\n",
       "    <tr>\n",
       "      <th>2012-01-03</th>\n",
       "      <td>26.549999</td>\n",
       "      <td>26.959999</td>\n",
       "      <td>26.389999</td>\n",
       "      <td>26.77</td>\n",
       "      <td>21.238752</td>\n",
       "      <td>64731500</td>\n",
       "    </tr>\n",
       "    <tr>\n",
       "      <th>2012-01-04</th>\n",
       "      <td>26.820000</td>\n",
       "      <td>27.469999</td>\n",
       "      <td>26.780001</td>\n",
       "      <td>27.40</td>\n",
       "      <td>21.738583</td>\n",
       "      <td>80516100</td>\n",
       "    </tr>\n",
       "    <tr>\n",
       "      <th>2012-01-05</th>\n",
       "      <td>27.379999</td>\n",
       "      <td>27.730000</td>\n",
       "      <td>27.290001</td>\n",
       "      <td>27.68</td>\n",
       "      <td>21.960728</td>\n",
       "      <td>56081400</td>\n",
       "    </tr>\n",
       "  </tbody>\n",
       "</table>\n",
       "</div>"
      ]
     },
     "execution_count": 171,
     "metadata": {},
     "output_type": "execute_result"
    }
   ],
   "execution_count": 171
  },
  {
   "cell_type": "code",
   "id": "5d740625",
   "metadata": {
    "ExecuteTime": {
     "end_time": "2024-04-16T06:56:07.094433Z",
     "start_time": "2024-04-16T06:56:07.082467Z"
    }
   },
   "source": [
    "aapl[:3]"
   ],
   "outputs": [
    {
     "data": {
      "text/plain": [
       "                 Open       High        Low      Close  Adj Close     Volume\n",
       "Date                                                                        \n",
       "2012-01-03  14.621429  14.732143  14.607143  14.686786  12.433825  302220800\n",
       "2012-01-04  14.642857  14.810000  14.617143  14.765714  12.500644  260022000\n",
       "2012-01-05  14.819643  14.948214  14.738214  14.929643  12.639430  271269600"
      ],
      "text/html": [
       "<div>\n",
       "<style scoped>\n",
       "    .dataframe tbody tr th:only-of-type {\n",
       "        vertical-align: middle;\n",
       "    }\n",
       "\n",
       "    .dataframe tbody tr th {\n",
       "        vertical-align: top;\n",
       "    }\n",
       "\n",
       "    .dataframe thead th {\n",
       "        text-align: right;\n",
       "    }\n",
       "</style>\n",
       "<table border=\"1\" class=\"dataframe\">\n",
       "  <thead>\n",
       "    <tr style=\"text-align: right;\">\n",
       "      <th></th>\n",
       "      <th>Open</th>\n",
       "      <th>High</th>\n",
       "      <th>Low</th>\n",
       "      <th>Close</th>\n",
       "      <th>Adj Close</th>\n",
       "      <th>Volume</th>\n",
       "    </tr>\n",
       "    <tr>\n",
       "      <th>Date</th>\n",
       "      <th></th>\n",
       "      <th></th>\n",
       "      <th></th>\n",
       "      <th></th>\n",
       "      <th></th>\n",
       "      <th></th>\n",
       "    </tr>\n",
       "  </thead>\n",
       "  <tbody>\n",
       "    <tr>\n",
       "      <th>2012-01-03</th>\n",
       "      <td>14.621429</td>\n",
       "      <td>14.732143</td>\n",
       "      <td>14.607143</td>\n",
       "      <td>14.686786</td>\n",
       "      <td>12.433825</td>\n",
       "      <td>302220800</td>\n",
       "    </tr>\n",
       "    <tr>\n",
       "      <th>2012-01-04</th>\n",
       "      <td>14.642857</td>\n",
       "      <td>14.810000</td>\n",
       "      <td>14.617143</td>\n",
       "      <td>14.765714</td>\n",
       "      <td>12.500644</td>\n",
       "      <td>260022000</td>\n",
       "    </tr>\n",
       "    <tr>\n",
       "      <th>2012-01-05</th>\n",
       "      <td>14.819643</td>\n",
       "      <td>14.948214</td>\n",
       "      <td>14.738214</td>\n",
       "      <td>14.929643</td>\n",
       "      <td>12.639430</td>\n",
       "      <td>271269600</td>\n",
       "    </tr>\n",
       "  </tbody>\n",
       "</table>\n",
       "</div>"
      ]
     },
     "execution_count": 172,
     "metadata": {},
     "output_type": "execute_result"
    }
   ],
   "execution_count": 172
  },
  {
   "cell_type": "markdown",
   "id": "d2239334",
   "metadata": {},
   "source": [
    "#### Concatenare i DF"
   ]
  },
  {
   "cell_type": "code",
   "id": "f91d86c8",
   "metadata": {
    "ExecuteTime": {
     "end_time": "2024-04-16T06:56:07.109394Z",
     "start_time": "2024-04-16T06:56:07.095431Z"
    }
   },
   "source": [
    "msftA01 = msft.loc['2012-01'][['Adj Close']]\n",
    "msftA02 = msft.loc['2012-02'][['Adj Close']]"
   ],
   "outputs": [],
   "execution_count": 173
  },
  {
   "cell_type": "code",
   "id": "36850d7c",
   "metadata": {
    "ExecuteTime": {
     "end_time": "2024-04-16T06:56:07.125351Z",
     "start_time": "2024-04-16T06:56:07.110392Z"
    }
   },
   "source": [
    "msftA01[:3]"
   ],
   "outputs": [
    {
     "data": {
      "text/plain": [
       "            Adj Close\n",
       "Date                 \n",
       "2012-01-03  21.238752\n",
       "2012-01-04  21.738583\n",
       "2012-01-05  21.960728"
      ],
      "text/html": [
       "<div>\n",
       "<style scoped>\n",
       "    .dataframe tbody tr th:only-of-type {\n",
       "        vertical-align: middle;\n",
       "    }\n",
       "\n",
       "    .dataframe tbody tr th {\n",
       "        vertical-align: top;\n",
       "    }\n",
       "\n",
       "    .dataframe thead th {\n",
       "        text-align: right;\n",
       "    }\n",
       "</style>\n",
       "<table border=\"1\" class=\"dataframe\">\n",
       "  <thead>\n",
       "    <tr style=\"text-align: right;\">\n",
       "      <th></th>\n",
       "      <th>Adj Close</th>\n",
       "    </tr>\n",
       "    <tr>\n",
       "      <th>Date</th>\n",
       "      <th></th>\n",
       "    </tr>\n",
       "  </thead>\n",
       "  <tbody>\n",
       "    <tr>\n",
       "      <th>2012-01-03</th>\n",
       "      <td>21.238752</td>\n",
       "    </tr>\n",
       "    <tr>\n",
       "      <th>2012-01-04</th>\n",
       "      <td>21.738583</td>\n",
       "    </tr>\n",
       "    <tr>\n",
       "      <th>2012-01-05</th>\n",
       "      <td>21.960728</td>\n",
       "    </tr>\n",
       "  </tbody>\n",
       "</table>\n",
       "</div>"
      ]
     },
     "execution_count": 174,
     "metadata": {},
     "output_type": "execute_result"
    }
   ],
   "execution_count": 174
  },
  {
   "cell_type": "code",
   "id": "29532e73",
   "metadata": {
    "ExecuteTime": {
     "end_time": "2024-04-16T06:56:07.141308Z",
     "start_time": "2024-04-16T06:56:07.126349Z"
    }
   },
   "source": [
    "msftA02[:3]"
   ],
   "outputs": [
    {
     "data": {
      "text/plain": [
       "            Adj Close\n",
       "Date                 \n",
       "2012-02-01  23.714092\n",
       "2012-02-02  23.761698\n",
       "2012-02-03  23.991776"
      ],
      "text/html": [
       "<div>\n",
       "<style scoped>\n",
       "    .dataframe tbody tr th:only-of-type {\n",
       "        vertical-align: middle;\n",
       "    }\n",
       "\n",
       "    .dataframe tbody tr th {\n",
       "        vertical-align: top;\n",
       "    }\n",
       "\n",
       "    .dataframe thead th {\n",
       "        text-align: right;\n",
       "    }\n",
       "</style>\n",
       "<table border=\"1\" class=\"dataframe\">\n",
       "  <thead>\n",
       "    <tr style=\"text-align: right;\">\n",
       "      <th></th>\n",
       "      <th>Adj Close</th>\n",
       "    </tr>\n",
       "    <tr>\n",
       "      <th>Date</th>\n",
       "      <th></th>\n",
       "    </tr>\n",
       "  </thead>\n",
       "  <tbody>\n",
       "    <tr>\n",
       "      <th>2012-02-01</th>\n",
       "      <td>23.714092</td>\n",
       "    </tr>\n",
       "    <tr>\n",
       "      <th>2012-02-02</th>\n",
       "      <td>23.761698</td>\n",
       "    </tr>\n",
       "    <tr>\n",
       "      <th>2012-02-03</th>\n",
       "      <td>23.991776</td>\n",
       "    </tr>\n",
       "  </tbody>\n",
       "</table>\n",
       "</div>"
      ]
     },
     "execution_count": 175,
     "metadata": {},
     "output_type": "execute_result"
    }
   ],
   "execution_count": 175
  },
  {
   "cell_type": "markdown",
   "id": "ca2759ec",
   "metadata": {},
   "source": [
    "concateniamo due df con indici diversi limitandoci alle prime 3 righe"
   ]
  },
  {
   "cell_type": "code",
   "id": "3971514b",
   "metadata": {
    "ExecuteTime": {
     "end_time": "2024-04-16T06:56:07.156268Z",
     "start_time": "2024-04-16T06:56:07.142306Z"
    }
   },
   "source": [
    "pd.concat([msftA01.head(3),msftA02.head(3)])"
   ],
   "outputs": [
    {
     "data": {
      "text/plain": [
       "            Adj Close\n",
       "Date                 \n",
       "2012-01-03  21.238752\n",
       "2012-01-04  21.738583\n",
       "2012-01-05  21.960728\n",
       "2012-02-01  23.714092\n",
       "2012-02-02  23.761698\n",
       "2012-02-03  23.991776"
      ],
      "text/html": [
       "<div>\n",
       "<style scoped>\n",
       "    .dataframe tbody tr th:only-of-type {\n",
       "        vertical-align: middle;\n",
       "    }\n",
       "\n",
       "    .dataframe tbody tr th {\n",
       "        vertical-align: top;\n",
       "    }\n",
       "\n",
       "    .dataframe thead th {\n",
       "        text-align: right;\n",
       "    }\n",
       "</style>\n",
       "<table border=\"1\" class=\"dataframe\">\n",
       "  <thead>\n",
       "    <tr style=\"text-align: right;\">\n",
       "      <th></th>\n",
       "      <th>Adj Close</th>\n",
       "    </tr>\n",
       "    <tr>\n",
       "      <th>Date</th>\n",
       "      <th></th>\n",
       "    </tr>\n",
       "  </thead>\n",
       "  <tbody>\n",
       "    <tr>\n",
       "      <th>2012-01-03</th>\n",
       "      <td>21.238752</td>\n",
       "    </tr>\n",
       "    <tr>\n",
       "      <th>2012-01-04</th>\n",
       "      <td>21.738583</td>\n",
       "    </tr>\n",
       "    <tr>\n",
       "      <th>2012-01-05</th>\n",
       "      <td>21.960728</td>\n",
       "    </tr>\n",
       "    <tr>\n",
       "      <th>2012-02-01</th>\n",
       "      <td>23.714092</td>\n",
       "    </tr>\n",
       "    <tr>\n",
       "      <th>2012-02-02</th>\n",
       "      <td>23.761698</td>\n",
       "    </tr>\n",
       "    <tr>\n",
       "      <th>2012-02-03</th>\n",
       "      <td>23.991776</td>\n",
       "    </tr>\n",
       "  </tbody>\n",
       "</table>\n",
       "</div>"
      ]
     },
     "execution_count": 176,
     "metadata": {},
     "output_type": "execute_result"
    }
   ],
   "execution_count": 176
  },
  {
   "cell_type": "markdown",
   "id": "5c9cdc1b",
   "metadata": {},
   "source": [
    "concateniamo due df con gli stessi indici "
   ]
  },
  {
   "cell_type": "code",
   "id": "8c04b08a",
   "metadata": {
    "ExecuteTime": {
     "end_time": "2024-04-16T06:56:07.171231Z",
     "start_time": "2024-04-16T06:56:07.158263Z"
    }
   },
   "source": [
    "aaplA01 = aapl.loc['2012-01'][['Adj Close']]\n",
    "withDups = pd.concat([msftA01[:3], aaplA01[:3]])\n",
    "withDups"
   ],
   "outputs": [
    {
     "data": {
      "text/plain": [
       "            Adj Close\n",
       "Date                 \n",
       "2012-01-03  21.238752\n",
       "2012-01-04  21.738583\n",
       "2012-01-05  21.960728\n",
       "2012-01-03  12.433825\n",
       "2012-01-04  12.500644\n",
       "2012-01-05  12.639430"
      ],
      "text/html": [
       "<div>\n",
       "<style scoped>\n",
       "    .dataframe tbody tr th:only-of-type {\n",
       "        vertical-align: middle;\n",
       "    }\n",
       "\n",
       "    .dataframe tbody tr th {\n",
       "        vertical-align: top;\n",
       "    }\n",
       "\n",
       "    .dataframe thead th {\n",
       "        text-align: right;\n",
       "    }\n",
       "</style>\n",
       "<table border=\"1\" class=\"dataframe\">\n",
       "  <thead>\n",
       "    <tr style=\"text-align: right;\">\n",
       "      <th></th>\n",
       "      <th>Adj Close</th>\n",
       "    </tr>\n",
       "    <tr>\n",
       "      <th>Date</th>\n",
       "      <th></th>\n",
       "    </tr>\n",
       "  </thead>\n",
       "  <tbody>\n",
       "    <tr>\n",
       "      <th>2012-01-03</th>\n",
       "      <td>21.238752</td>\n",
       "    </tr>\n",
       "    <tr>\n",
       "      <th>2012-01-04</th>\n",
       "      <td>21.738583</td>\n",
       "    </tr>\n",
       "    <tr>\n",
       "      <th>2012-01-05</th>\n",
       "      <td>21.960728</td>\n",
       "    </tr>\n",
       "    <tr>\n",
       "      <th>2012-01-03</th>\n",
       "      <td>12.433825</td>\n",
       "    </tr>\n",
       "    <tr>\n",
       "      <th>2012-01-04</th>\n",
       "      <td>12.500644</td>\n",
       "    </tr>\n",
       "    <tr>\n",
       "      <th>2012-01-05</th>\n",
       "      <td>12.639430</td>\n",
       "    </tr>\n",
       "  </tbody>\n",
       "</table>\n",
       "</div>"
      ]
     },
     "execution_count": 177,
     "metadata": {},
     "output_type": "execute_result"
    }
   ],
   "execution_count": 177
  },
  {
   "cell_type": "code",
   "id": "2c4ec908",
   "metadata": {
    "ExecuteTime": {
     "end_time": "2024-04-16T06:56:07.187185Z",
     "start_time": "2024-04-16T06:56:07.172228Z"
    }
   },
   "source": [
    "withDups.loc['2012-01-03']"
   ],
   "outputs": [
    {
     "data": {
      "text/plain": [
       "            Adj Close\n",
       "Date                 \n",
       "2012-01-03  21.238752\n",
       "2012-01-03  12.433825"
      ],
      "text/html": [
       "<div>\n",
       "<style scoped>\n",
       "    .dataframe tbody tr th:only-of-type {\n",
       "        vertical-align: middle;\n",
       "    }\n",
       "\n",
       "    .dataframe tbody tr th {\n",
       "        vertical-align: top;\n",
       "    }\n",
       "\n",
       "    .dataframe thead th {\n",
       "        text-align: right;\n",
       "    }\n",
       "</style>\n",
       "<table border=\"1\" class=\"dataframe\">\n",
       "  <thead>\n",
       "    <tr style=\"text-align: right;\">\n",
       "      <th></th>\n",
       "      <th>Adj Close</th>\n",
       "    </tr>\n",
       "    <tr>\n",
       "      <th>Date</th>\n",
       "      <th></th>\n",
       "    </tr>\n",
       "  </thead>\n",
       "  <tbody>\n",
       "    <tr>\n",
       "      <th>2012-01-03</th>\n",
       "      <td>21.238752</td>\n",
       "    </tr>\n",
       "    <tr>\n",
       "      <th>2012-01-03</th>\n",
       "      <td>12.433825</td>\n",
       "    </tr>\n",
       "  </tbody>\n",
       "</table>\n",
       "</div>"
      ]
     },
     "execution_count": 178,
     "metadata": {},
     "output_type": "execute_result"
    }
   ],
   "execution_count": 178
  },
  {
   "cell_type": "markdown",
   "id": "a2b19ae4",
   "metadata": {},
   "source": [
    "con questa concatenazione abbiamo perso un'informazione, non sappiamo più a quale società si riferiscono i prezzi.\n",
    "\n",
    "Per risolvere il problema utilizziamo il MultiIndex"
   ]
  },
  {
   "cell_type": "code",
   "id": "fa161376",
   "metadata": {
    "ExecuteTime": {
     "end_time": "2024-04-16T06:56:07.202146Z",
     "start_time": "2024-04-16T06:56:07.189182Z"
    }
   },
   "source": [
    "closes = pd.concat([msftA01[:3], aaplA01[:3]], keys = ['MSFT','AAPL'])"
   ],
   "outputs": [],
   "execution_count": 179
  },
  {
   "cell_type": "code",
   "id": "ae2263a5",
   "metadata": {
    "ExecuteTime": {
     "end_time": "2024-04-16T06:56:07.218103Z",
     "start_time": "2024-04-16T06:56:07.204141Z"
    }
   },
   "source": [
    "closes"
   ],
   "outputs": [
    {
     "data": {
      "text/plain": [
       "                 Adj Close\n",
       "     Date                 \n",
       "MSFT 2012-01-03  21.238752\n",
       "     2012-01-04  21.738583\n",
       "     2012-01-05  21.960728\n",
       "AAPL 2012-01-03  12.433825\n",
       "     2012-01-04  12.500644\n",
       "     2012-01-05  12.639430"
      ],
      "text/html": [
       "<div>\n",
       "<style scoped>\n",
       "    .dataframe tbody tr th:only-of-type {\n",
       "        vertical-align: middle;\n",
       "    }\n",
       "\n",
       "    .dataframe tbody tr th {\n",
       "        vertical-align: top;\n",
       "    }\n",
       "\n",
       "    .dataframe thead th {\n",
       "        text-align: right;\n",
       "    }\n",
       "</style>\n",
       "<table border=\"1\" class=\"dataframe\">\n",
       "  <thead>\n",
       "    <tr style=\"text-align: right;\">\n",
       "      <th></th>\n",
       "      <th></th>\n",
       "      <th>Adj Close</th>\n",
       "    </tr>\n",
       "    <tr>\n",
       "      <th></th>\n",
       "      <th>Date</th>\n",
       "      <th></th>\n",
       "    </tr>\n",
       "  </thead>\n",
       "  <tbody>\n",
       "    <tr>\n",
       "      <th rowspan=\"3\" valign=\"top\">MSFT</th>\n",
       "      <th>2012-01-03</th>\n",
       "      <td>21.238752</td>\n",
       "    </tr>\n",
       "    <tr>\n",
       "      <th>2012-01-04</th>\n",
       "      <td>21.738583</td>\n",
       "    </tr>\n",
       "    <tr>\n",
       "      <th>2012-01-05</th>\n",
       "      <td>21.960728</td>\n",
       "    </tr>\n",
       "    <tr>\n",
       "      <th rowspan=\"3\" valign=\"top\">AAPL</th>\n",
       "      <th>2012-01-03</th>\n",
       "      <td>12.433825</td>\n",
       "    </tr>\n",
       "    <tr>\n",
       "      <th>2012-01-04</th>\n",
       "      <td>12.500644</td>\n",
       "    </tr>\n",
       "    <tr>\n",
       "      <th>2012-01-05</th>\n",
       "      <td>12.639430</td>\n",
       "    </tr>\n",
       "  </tbody>\n",
       "</table>\n",
       "</div>"
      ]
     },
     "execution_count": 180,
     "metadata": {},
     "output_type": "execute_result"
    }
   ],
   "execution_count": 180
  },
  {
   "cell_type": "code",
   "id": "0ecdf2c1",
   "metadata": {
    "ExecuteTime": {
     "end_time": "2024-04-16T06:56:07.234060Z",
     "start_time": "2024-04-16T06:56:07.219101Z"
    }
   },
   "source": [
    "closes.loc['MSFT'][:3]"
   ],
   "outputs": [
    {
     "data": {
      "text/plain": [
       "            Adj Close\n",
       "Date                 \n",
       "2012-01-03  21.238752\n",
       "2012-01-04  21.738583\n",
       "2012-01-05  21.960728"
      ],
      "text/html": [
       "<div>\n",
       "<style scoped>\n",
       "    .dataframe tbody tr th:only-of-type {\n",
       "        vertical-align: middle;\n",
       "    }\n",
       "\n",
       "    .dataframe tbody tr th {\n",
       "        vertical-align: top;\n",
       "    }\n",
       "\n",
       "    .dataframe thead th {\n",
       "        text-align: right;\n",
       "    }\n",
       "</style>\n",
       "<table border=\"1\" class=\"dataframe\">\n",
       "  <thead>\n",
       "    <tr style=\"text-align: right;\">\n",
       "      <th></th>\n",
       "      <th>Adj Close</th>\n",
       "    </tr>\n",
       "    <tr>\n",
       "      <th>Date</th>\n",
       "      <th></th>\n",
       "    </tr>\n",
       "  </thead>\n",
       "  <tbody>\n",
       "    <tr>\n",
       "      <th>2012-01-03</th>\n",
       "      <td>21.238752</td>\n",
       "    </tr>\n",
       "    <tr>\n",
       "      <th>2012-01-04</th>\n",
       "      <td>21.738583</td>\n",
       "    </tr>\n",
       "    <tr>\n",
       "      <th>2012-01-05</th>\n",
       "      <td>21.960728</td>\n",
       "    </tr>\n",
       "  </tbody>\n",
       "</table>\n",
       "</div>"
      ]
     },
     "execution_count": 181,
     "metadata": {},
     "output_type": "execute_result"
    }
   ],
   "execution_count": 181
  },
  {
   "cell_type": "markdown",
   "id": "d45af38f",
   "metadata": {},
   "source": [
    "concatenazione su più colonne"
   ]
  },
  {
   "cell_type": "code",
   "id": "b87ba452",
   "metadata": {
    "ExecuteTime": {
     "end_time": "2024-04-16T06:56:07.249019Z",
     "start_time": "2024-04-16T06:56:07.236055Z"
    }
   },
   "source": [
    "msftAV = msft[['Adj Close','Volume']]\n",
    "aaplAV = aapl[['Adj Close', 'Volume']]\n",
    "pd.concat([msftAV,aaplAV])"
   ],
   "outputs": [
    {
     "data": {
      "text/plain": [
       "            Adj Close     Volume\n",
       "Date                            \n",
       "2012-01-03  21.238752   64731500\n",
       "2012-01-04  21.738583   80516100\n",
       "2012-01-05  21.960728   56081400\n",
       "2012-01-06  22.301882   99455500\n",
       "2012-01-09  22.008331   59706800\n",
       "...               ...        ...\n",
       "2012-12-21  15.841752  596268400\n",
       "2012-12-24  15.867363  175753200\n",
       "2012-12-26  15.648655  302436400\n",
       "2012-12-27  15.711494  455120400\n",
       "2012-12-28  15.544634  354278400\n",
       "\n",
       "[498 rows x 2 columns]"
      ],
      "text/html": [
       "<div>\n",
       "<style scoped>\n",
       "    .dataframe tbody tr th:only-of-type {\n",
       "        vertical-align: middle;\n",
       "    }\n",
       "\n",
       "    .dataframe tbody tr th {\n",
       "        vertical-align: top;\n",
       "    }\n",
       "\n",
       "    .dataframe thead th {\n",
       "        text-align: right;\n",
       "    }\n",
       "</style>\n",
       "<table border=\"1\" class=\"dataframe\">\n",
       "  <thead>\n",
       "    <tr style=\"text-align: right;\">\n",
       "      <th></th>\n",
       "      <th>Adj Close</th>\n",
       "      <th>Volume</th>\n",
       "    </tr>\n",
       "    <tr>\n",
       "      <th>Date</th>\n",
       "      <th></th>\n",
       "      <th></th>\n",
       "    </tr>\n",
       "  </thead>\n",
       "  <tbody>\n",
       "    <tr>\n",
       "      <th>2012-01-03</th>\n",
       "      <td>21.238752</td>\n",
       "      <td>64731500</td>\n",
       "    </tr>\n",
       "    <tr>\n",
       "      <th>2012-01-04</th>\n",
       "      <td>21.738583</td>\n",
       "      <td>80516100</td>\n",
       "    </tr>\n",
       "    <tr>\n",
       "      <th>2012-01-05</th>\n",
       "      <td>21.960728</td>\n",
       "      <td>56081400</td>\n",
       "    </tr>\n",
       "    <tr>\n",
       "      <th>2012-01-06</th>\n",
       "      <td>22.301882</td>\n",
       "      <td>99455500</td>\n",
       "    </tr>\n",
       "    <tr>\n",
       "      <th>2012-01-09</th>\n",
       "      <td>22.008331</td>\n",
       "      <td>59706800</td>\n",
       "    </tr>\n",
       "    <tr>\n",
       "      <th>...</th>\n",
       "      <td>...</td>\n",
       "      <td>...</td>\n",
       "    </tr>\n",
       "    <tr>\n",
       "      <th>2012-12-21</th>\n",
       "      <td>15.841752</td>\n",
       "      <td>596268400</td>\n",
       "    </tr>\n",
       "    <tr>\n",
       "      <th>2012-12-24</th>\n",
       "      <td>15.867363</td>\n",
       "      <td>175753200</td>\n",
       "    </tr>\n",
       "    <tr>\n",
       "      <th>2012-12-26</th>\n",
       "      <td>15.648655</td>\n",
       "      <td>302436400</td>\n",
       "    </tr>\n",
       "    <tr>\n",
       "      <th>2012-12-27</th>\n",
       "      <td>15.711494</td>\n",
       "      <td>455120400</td>\n",
       "    </tr>\n",
       "    <tr>\n",
       "      <th>2012-12-28</th>\n",
       "      <td>15.544634</td>\n",
       "      <td>354278400</td>\n",
       "    </tr>\n",
       "  </tbody>\n",
       "</table>\n",
       "<p>498 rows × 2 columns</p>\n",
       "</div>"
      ]
     },
     "execution_count": 182,
     "metadata": {},
     "output_type": "execute_result"
    }
   ],
   "execution_count": 182
  },
  {
   "cell_type": "markdown",
   "id": "cd2003b3",
   "metadata": {},
   "source": [
    "i due df non devono avere necessariamente le stesse colonne"
   ]
  },
  {
   "cell_type": "code",
   "id": "9fed312e",
   "metadata": {
    "ExecuteTime": {
     "end_time": "2024-04-16T06:56:07.264977Z",
     "start_time": "2024-04-16T06:56:07.251015Z"
    }
   },
   "source": [
    "aaplA = aapl[['Adj Close']]\n",
    "pd.concat([msftAV, aaplA])"
   ],
   "outputs": [
    {
     "data": {
      "text/plain": [
       "            Adj Close      Volume\n",
       "Date                             \n",
       "2012-01-03  21.238752  64731500.0\n",
       "2012-01-04  21.738583  80516100.0\n",
       "2012-01-05  21.960728  56081400.0\n",
       "2012-01-06  22.301882  99455500.0\n",
       "2012-01-09  22.008331  59706800.0\n",
       "...               ...         ...\n",
       "2012-12-21  15.841752         NaN\n",
       "2012-12-24  15.867363         NaN\n",
       "2012-12-26  15.648655         NaN\n",
       "2012-12-27  15.711494         NaN\n",
       "2012-12-28  15.544634         NaN\n",
       "\n",
       "[498 rows x 2 columns]"
      ],
      "text/html": [
       "<div>\n",
       "<style scoped>\n",
       "    .dataframe tbody tr th:only-of-type {\n",
       "        vertical-align: middle;\n",
       "    }\n",
       "\n",
       "    .dataframe tbody tr th {\n",
       "        vertical-align: top;\n",
       "    }\n",
       "\n",
       "    .dataframe thead th {\n",
       "        text-align: right;\n",
       "    }\n",
       "</style>\n",
       "<table border=\"1\" class=\"dataframe\">\n",
       "  <thead>\n",
       "    <tr style=\"text-align: right;\">\n",
       "      <th></th>\n",
       "      <th>Adj Close</th>\n",
       "      <th>Volume</th>\n",
       "    </tr>\n",
       "    <tr>\n",
       "      <th>Date</th>\n",
       "      <th></th>\n",
       "      <th></th>\n",
       "    </tr>\n",
       "  </thead>\n",
       "  <tbody>\n",
       "    <tr>\n",
       "      <th>2012-01-03</th>\n",
       "      <td>21.238752</td>\n",
       "      <td>64731500.0</td>\n",
       "    </tr>\n",
       "    <tr>\n",
       "      <th>2012-01-04</th>\n",
       "      <td>21.738583</td>\n",
       "      <td>80516100.0</td>\n",
       "    </tr>\n",
       "    <tr>\n",
       "      <th>2012-01-05</th>\n",
       "      <td>21.960728</td>\n",
       "      <td>56081400.0</td>\n",
       "    </tr>\n",
       "    <tr>\n",
       "      <th>2012-01-06</th>\n",
       "      <td>22.301882</td>\n",
       "      <td>99455500.0</td>\n",
       "    </tr>\n",
       "    <tr>\n",
       "      <th>2012-01-09</th>\n",
       "      <td>22.008331</td>\n",
       "      <td>59706800.0</td>\n",
       "    </tr>\n",
       "    <tr>\n",
       "      <th>...</th>\n",
       "      <td>...</td>\n",
       "      <td>...</td>\n",
       "    </tr>\n",
       "    <tr>\n",
       "      <th>2012-12-21</th>\n",
       "      <td>15.841752</td>\n",
       "      <td>NaN</td>\n",
       "    </tr>\n",
       "    <tr>\n",
       "      <th>2012-12-24</th>\n",
       "      <td>15.867363</td>\n",
       "      <td>NaN</td>\n",
       "    </tr>\n",
       "    <tr>\n",
       "      <th>2012-12-26</th>\n",
       "      <td>15.648655</td>\n",
       "      <td>NaN</td>\n",
       "    </tr>\n",
       "    <tr>\n",
       "      <th>2012-12-27</th>\n",
       "      <td>15.711494</td>\n",
       "      <td>NaN</td>\n",
       "    </tr>\n",
       "    <tr>\n",
       "      <th>2012-12-28</th>\n",
       "      <td>15.544634</td>\n",
       "      <td>NaN</td>\n",
       "    </tr>\n",
       "  </tbody>\n",
       "</table>\n",
       "<p>498 rows × 2 columns</p>\n",
       "</div>"
      ]
     },
     "execution_count": 183,
     "metadata": {},
     "output_type": "execute_result"
    }
   ],
   "execution_count": 183
  },
  {
   "cell_type": "markdown",
   "id": "b28c44df",
   "metadata": {},
   "source": [
    "se vogliamo che il risultato sia solo ciò che i due df hanno in comune utilizziamo una funzione simile a quella di SQL inner join"
   ]
  },
  {
   "cell_type": "code",
   "id": "a0dbf93f",
   "metadata": {
    "ExecuteTime": {
     "end_time": "2024-04-16T06:56:07.279937Z",
     "start_time": "2024-04-16T06:56:07.266973Z"
    }
   },
   "source": [
    "pd.concat([msftAV, aaplA], join='inner')"
   ],
   "outputs": [
    {
     "data": {
      "text/plain": [
       "            Adj Close\n",
       "Date                 \n",
       "2012-01-03  21.238752\n",
       "2012-01-04  21.738583\n",
       "2012-01-05  21.960728\n",
       "2012-01-06  22.301882\n",
       "2012-01-09  22.008331\n",
       "...               ...\n",
       "2012-12-21  15.841752\n",
       "2012-12-24  15.867363\n",
       "2012-12-26  15.648655\n",
       "2012-12-27  15.711494\n",
       "2012-12-28  15.544634\n",
       "\n",
       "[498 rows x 1 columns]"
      ],
      "text/html": [
       "<div>\n",
       "<style scoped>\n",
       "    .dataframe tbody tr th:only-of-type {\n",
       "        vertical-align: middle;\n",
       "    }\n",
       "\n",
       "    .dataframe tbody tr th {\n",
       "        vertical-align: top;\n",
       "    }\n",
       "\n",
       "    .dataframe thead th {\n",
       "        text-align: right;\n",
       "    }\n",
       "</style>\n",
       "<table border=\"1\" class=\"dataframe\">\n",
       "  <thead>\n",
       "    <tr style=\"text-align: right;\">\n",
       "      <th></th>\n",
       "      <th>Adj Close</th>\n",
       "    </tr>\n",
       "    <tr>\n",
       "      <th>Date</th>\n",
       "      <th></th>\n",
       "    </tr>\n",
       "  </thead>\n",
       "  <tbody>\n",
       "    <tr>\n",
       "      <th>2012-01-03</th>\n",
       "      <td>21.238752</td>\n",
       "    </tr>\n",
       "    <tr>\n",
       "      <th>2012-01-04</th>\n",
       "      <td>21.738583</td>\n",
       "    </tr>\n",
       "    <tr>\n",
       "      <th>2012-01-05</th>\n",
       "      <td>21.960728</td>\n",
       "    </tr>\n",
       "    <tr>\n",
       "      <th>2012-01-06</th>\n",
       "      <td>22.301882</td>\n",
       "    </tr>\n",
       "    <tr>\n",
       "      <th>2012-01-09</th>\n",
       "      <td>22.008331</td>\n",
       "    </tr>\n",
       "    <tr>\n",
       "      <th>...</th>\n",
       "      <td>...</td>\n",
       "    </tr>\n",
       "    <tr>\n",
       "      <th>2012-12-21</th>\n",
       "      <td>15.841752</td>\n",
       "    </tr>\n",
       "    <tr>\n",
       "      <th>2012-12-24</th>\n",
       "      <td>15.867363</td>\n",
       "    </tr>\n",
       "    <tr>\n",
       "      <th>2012-12-26</th>\n",
       "      <td>15.648655</td>\n",
       "    </tr>\n",
       "    <tr>\n",
       "      <th>2012-12-27</th>\n",
       "      <td>15.711494</td>\n",
       "    </tr>\n",
       "    <tr>\n",
       "      <th>2012-12-28</th>\n",
       "      <td>15.544634</td>\n",
       "    </tr>\n",
       "  </tbody>\n",
       "</table>\n",
       "<p>498 rows × 1 columns</p>\n",
       "</div>"
      ]
     },
     "execution_count": 184,
     "metadata": {},
     "output_type": "execute_result"
    }
   ],
   "execution_count": 184
  },
  {
   "cell_type": "markdown",
   "id": "469986cd",
   "metadata": {},
   "source": [
    "modificando l'asse lungo il quale avviene il concatenamento possiamo vedere le colonne affiancate"
   ]
  },
  {
   "cell_type": "code",
   "id": "44f1bbef",
   "metadata": {
    "ExecuteTime": {
     "end_time": "2024-04-16T06:56:07.294898Z",
     "start_time": "2024-04-16T06:56:07.281933Z"
    }
   },
   "source": [
    "msftA = msft[['Adj Close']]\n",
    "closes = pd.concat([msftA, aaplA], axis = 1)\n",
    "closes[:3]"
   ],
   "outputs": [
    {
     "data": {
      "text/plain": [
       "            Adj Close  Adj Close\n",
       "Date                            \n",
       "2012-01-03  21.238752  12.433825\n",
       "2012-01-04  21.738583  12.500644\n",
       "2012-01-05  21.960728  12.639430"
      ],
      "text/html": [
       "<div>\n",
       "<style scoped>\n",
       "    .dataframe tbody tr th:only-of-type {\n",
       "        vertical-align: middle;\n",
       "    }\n",
       "\n",
       "    .dataframe tbody tr th {\n",
       "        vertical-align: top;\n",
       "    }\n",
       "\n",
       "    .dataframe thead th {\n",
       "        text-align: right;\n",
       "    }\n",
       "</style>\n",
       "<table border=\"1\" class=\"dataframe\">\n",
       "  <thead>\n",
       "    <tr style=\"text-align: right;\">\n",
       "      <th></th>\n",
       "      <th>Adj Close</th>\n",
       "      <th>Adj Close</th>\n",
       "    </tr>\n",
       "    <tr>\n",
       "      <th>Date</th>\n",
       "      <th></th>\n",
       "      <th></th>\n",
       "    </tr>\n",
       "  </thead>\n",
       "  <tbody>\n",
       "    <tr>\n",
       "      <th>2012-01-03</th>\n",
       "      <td>21.238752</td>\n",
       "      <td>12.433825</td>\n",
       "    </tr>\n",
       "    <tr>\n",
       "      <th>2012-01-04</th>\n",
       "      <td>21.738583</td>\n",
       "      <td>12.500644</td>\n",
       "    </tr>\n",
       "    <tr>\n",
       "      <th>2012-01-05</th>\n",
       "      <td>21.960728</td>\n",
       "      <td>12.639430</td>\n",
       "    </tr>\n",
       "  </tbody>\n",
       "</table>\n",
       "</div>"
      ]
     },
     "execution_count": 185,
     "metadata": {},
     "output_type": "execute_result"
    }
   ],
   "execution_count": 185
  },
  {
   "cell_type": "code",
   "id": "896111f7",
   "metadata": {
    "ExecuteTime": {
     "end_time": "2024-04-16T06:56:07.309857Z",
     "start_time": "2024-04-16T06:56:07.296892Z"
    }
   },
   "source": [
    "closes = pd.concat([msftA, aaplA], axis = 1, keys = ['MSFT','AAPL'])\n",
    "closes[:3]"
   ],
   "outputs": [
    {
     "data": {
      "text/plain": [
       "                 MSFT       AAPL\n",
       "            Adj Close  Adj Close\n",
       "Date                            \n",
       "2012-01-03  21.238752  12.433825\n",
       "2012-01-04  21.738583  12.500644\n",
       "2012-01-05  21.960728  12.639430"
      ],
      "text/html": [
       "<div>\n",
       "<style scoped>\n",
       "    .dataframe tbody tr th:only-of-type {\n",
       "        vertical-align: middle;\n",
       "    }\n",
       "\n",
       "    .dataframe tbody tr th {\n",
       "        vertical-align: top;\n",
       "    }\n",
       "\n",
       "    .dataframe thead tr th {\n",
       "        text-align: left;\n",
       "    }\n",
       "\n",
       "    .dataframe thead tr:last-of-type th {\n",
       "        text-align: right;\n",
       "    }\n",
       "</style>\n",
       "<table border=\"1\" class=\"dataframe\">\n",
       "  <thead>\n",
       "    <tr>\n",
       "      <th></th>\n",
       "      <th>MSFT</th>\n",
       "      <th>AAPL</th>\n",
       "    </tr>\n",
       "    <tr>\n",
       "      <th></th>\n",
       "      <th>Adj Close</th>\n",
       "      <th>Adj Close</th>\n",
       "    </tr>\n",
       "    <tr>\n",
       "      <th>Date</th>\n",
       "      <th></th>\n",
       "      <th></th>\n",
       "    </tr>\n",
       "  </thead>\n",
       "  <tbody>\n",
       "    <tr>\n",
       "      <th>2012-01-03</th>\n",
       "      <td>21.238752</td>\n",
       "      <td>12.433825</td>\n",
       "    </tr>\n",
       "    <tr>\n",
       "      <th>2012-01-04</th>\n",
       "      <td>21.738583</td>\n",
       "      <td>12.500644</td>\n",
       "    </tr>\n",
       "    <tr>\n",
       "      <th>2012-01-05</th>\n",
       "      <td>21.960728</td>\n",
       "      <td>12.639430</td>\n",
       "    </tr>\n",
       "  </tbody>\n",
       "</table>\n",
       "</div>"
      ]
     },
     "execution_count": 186,
     "metadata": {},
     "output_type": "execute_result"
    }
   ],
   "execution_count": 186
  },
  {
   "cell_type": "code",
   "id": "3b9bd1c7",
   "metadata": {
    "ExecuteTime": {
     "end_time": "2024-04-16T06:56:07.325815Z",
     "start_time": "2024-04-16T06:56:07.310855Z"
    }
   },
   "source": [
    "pd.concat([msftAV[:5], aaplAV[:3]], axis = 1, keys = ['MSFT','AAPL'])"
   ],
   "outputs": [
    {
     "data": {
      "text/plain": [
       "                 MSFT                 AAPL             \n",
       "            Adj Close    Volume  Adj Close       Volume\n",
       "Date                                                   \n",
       "2012-01-03  21.238752  64731500  12.433825  302220800.0\n",
       "2012-01-04  21.738583  80516100  12.500644  260022000.0\n",
       "2012-01-05  21.960728  56081400  12.639430  271269600.0\n",
       "2012-01-06  22.301882  99455500        NaN          NaN\n",
       "2012-01-09  22.008331  59706800        NaN          NaN"
      ],
      "text/html": [
       "<div>\n",
       "<style scoped>\n",
       "    .dataframe tbody tr th:only-of-type {\n",
       "        vertical-align: middle;\n",
       "    }\n",
       "\n",
       "    .dataframe tbody tr th {\n",
       "        vertical-align: top;\n",
       "    }\n",
       "\n",
       "    .dataframe thead tr th {\n",
       "        text-align: left;\n",
       "    }\n",
       "\n",
       "    .dataframe thead tr:last-of-type th {\n",
       "        text-align: right;\n",
       "    }\n",
       "</style>\n",
       "<table border=\"1\" class=\"dataframe\">\n",
       "  <thead>\n",
       "    <tr>\n",
       "      <th></th>\n",
       "      <th colspan=\"2\" halign=\"left\">MSFT</th>\n",
       "      <th colspan=\"2\" halign=\"left\">AAPL</th>\n",
       "    </tr>\n",
       "    <tr>\n",
       "      <th></th>\n",
       "      <th>Adj Close</th>\n",
       "      <th>Volume</th>\n",
       "      <th>Adj Close</th>\n",
       "      <th>Volume</th>\n",
       "    </tr>\n",
       "    <tr>\n",
       "      <th>Date</th>\n",
       "      <th></th>\n",
       "      <th></th>\n",
       "      <th></th>\n",
       "      <th></th>\n",
       "    </tr>\n",
       "  </thead>\n",
       "  <tbody>\n",
       "    <tr>\n",
       "      <th>2012-01-03</th>\n",
       "      <td>21.238752</td>\n",
       "      <td>64731500</td>\n",
       "      <td>12.433825</td>\n",
       "      <td>302220800.0</td>\n",
       "    </tr>\n",
       "    <tr>\n",
       "      <th>2012-01-04</th>\n",
       "      <td>21.738583</td>\n",
       "      <td>80516100</td>\n",
       "      <td>12.500644</td>\n",
       "      <td>260022000.0</td>\n",
       "    </tr>\n",
       "    <tr>\n",
       "      <th>2012-01-05</th>\n",
       "      <td>21.960728</td>\n",
       "      <td>56081400</td>\n",
       "      <td>12.639430</td>\n",
       "      <td>271269600.0</td>\n",
       "    </tr>\n",
       "    <tr>\n",
       "      <th>2012-01-06</th>\n",
       "      <td>22.301882</td>\n",
       "      <td>99455500</td>\n",
       "      <td>NaN</td>\n",
       "      <td>NaN</td>\n",
       "    </tr>\n",
       "    <tr>\n",
       "      <th>2012-01-09</th>\n",
       "      <td>22.008331</td>\n",
       "      <td>59706800</td>\n",
       "      <td>NaN</td>\n",
       "      <td>NaN</td>\n",
       "    </tr>\n",
       "  </tbody>\n",
       "</table>\n",
       "</div>"
      ]
     },
     "execution_count": 187,
     "metadata": {},
     "output_type": "execute_result"
    }
   ],
   "execution_count": 187
  },
  {
   "cell_type": "markdown",
   "id": "6f565a3b",
   "metadata": {},
   "source": [
    "se vogliamo solo i valori che le due serie hanno in comune (\"intersezione\") usiamo il parametro 'join' (pag. 55)"
   ]
  },
  {
   "cell_type": "code",
   "id": "0954c05f",
   "metadata": {
    "ExecuteTime": {
     "end_time": "2024-04-16T06:56:07.341772Z",
     "start_time": "2024-04-16T06:56:07.327810Z"
    }
   },
   "source": [
    "pd.concat([msftAV[:5], aaplAV[:3]], axis = 1, join = 'inner', keys = ['MSFT','AAPL'])"
   ],
   "outputs": [
    {
     "data": {
      "text/plain": [
       "                 MSFT                 AAPL           \n",
       "            Adj Close    Volume  Adj Close     Volume\n",
       "Date                                                 \n",
       "2012-01-03  21.238752  64731500  12.433825  302220800\n",
       "2012-01-04  21.738583  80516100  12.500644  260022000\n",
       "2012-01-05  21.960728  56081400  12.639430  271269600"
      ],
      "text/html": [
       "<div>\n",
       "<style scoped>\n",
       "    .dataframe tbody tr th:only-of-type {\n",
       "        vertical-align: middle;\n",
       "    }\n",
       "\n",
       "    .dataframe tbody tr th {\n",
       "        vertical-align: top;\n",
       "    }\n",
       "\n",
       "    .dataframe thead tr th {\n",
       "        text-align: left;\n",
       "    }\n",
       "\n",
       "    .dataframe thead tr:last-of-type th {\n",
       "        text-align: right;\n",
       "    }\n",
       "</style>\n",
       "<table border=\"1\" class=\"dataframe\">\n",
       "  <thead>\n",
       "    <tr>\n",
       "      <th></th>\n",
       "      <th colspan=\"2\" halign=\"left\">MSFT</th>\n",
       "      <th colspan=\"2\" halign=\"left\">AAPL</th>\n",
       "    </tr>\n",
       "    <tr>\n",
       "      <th></th>\n",
       "      <th>Adj Close</th>\n",
       "      <th>Volume</th>\n",
       "      <th>Adj Close</th>\n",
       "      <th>Volume</th>\n",
       "    </tr>\n",
       "    <tr>\n",
       "      <th>Date</th>\n",
       "      <th></th>\n",
       "      <th></th>\n",
       "      <th></th>\n",
       "      <th></th>\n",
       "    </tr>\n",
       "  </thead>\n",
       "  <tbody>\n",
       "    <tr>\n",
       "      <th>2012-01-03</th>\n",
       "      <td>21.238752</td>\n",
       "      <td>64731500</td>\n",
       "      <td>12.433825</td>\n",
       "      <td>302220800</td>\n",
       "    </tr>\n",
       "    <tr>\n",
       "      <th>2012-01-04</th>\n",
       "      <td>21.738583</td>\n",
       "      <td>80516100</td>\n",
       "      <td>12.500644</td>\n",
       "      <td>260022000</td>\n",
       "    </tr>\n",
       "    <tr>\n",
       "      <th>2012-01-05</th>\n",
       "      <td>21.960728</td>\n",
       "      <td>56081400</td>\n",
       "      <td>12.639430</td>\n",
       "      <td>271269600</td>\n",
       "    </tr>\n",
       "  </tbody>\n",
       "</table>\n",
       "</div>"
      ]
     },
     "execution_count": 188,
     "metadata": {},
     "output_type": "execute_result"
    }
   ],
   "execution_count": 188
  },
  {
   "cell_type": "markdown",
   "id": "93bd9ddb",
   "metadata": {},
   "source": [
    "Si può anche concatenare le due serie ignorando l'indice"
   ]
  },
  {
   "cell_type": "code",
   "id": "e8c766de",
   "metadata": {
    "ExecuteTime": {
     "end_time": "2024-04-16T06:56:07.357729Z",
     "start_time": "2024-04-16T06:56:07.343767Z"
    }
   },
   "source": [
    "pd.concat([msftAV[:3], aaplAV[:3]], ignore_index = True)"
   ],
   "outputs": [
    {
     "data": {
      "text/plain": [
       "   Adj Close     Volume\n",
       "0  21.238752   64731500\n",
       "1  21.738583   80516100\n",
       "2  21.960728   56081400\n",
       "3  12.433825  302220800\n",
       "4  12.500644  260022000\n",
       "5  12.639430  271269600"
      ],
      "text/html": [
       "<div>\n",
       "<style scoped>\n",
       "    .dataframe tbody tr th:only-of-type {\n",
       "        vertical-align: middle;\n",
       "    }\n",
       "\n",
       "    .dataframe tbody tr th {\n",
       "        vertical-align: top;\n",
       "    }\n",
       "\n",
       "    .dataframe thead th {\n",
       "        text-align: right;\n",
       "    }\n",
       "</style>\n",
       "<table border=\"1\" class=\"dataframe\">\n",
       "  <thead>\n",
       "    <tr style=\"text-align: right;\">\n",
       "      <th></th>\n",
       "      <th>Adj Close</th>\n",
       "      <th>Volume</th>\n",
       "    </tr>\n",
       "  </thead>\n",
       "  <tbody>\n",
       "    <tr>\n",
       "      <th>0</th>\n",
       "      <td>21.238752</td>\n",
       "      <td>64731500</td>\n",
       "    </tr>\n",
       "    <tr>\n",
       "      <th>1</th>\n",
       "      <td>21.738583</td>\n",
       "      <td>80516100</td>\n",
       "    </tr>\n",
       "    <tr>\n",
       "      <th>2</th>\n",
       "      <td>21.960728</td>\n",
       "      <td>56081400</td>\n",
       "    </tr>\n",
       "    <tr>\n",
       "      <th>3</th>\n",
       "      <td>12.433825</td>\n",
       "      <td>302220800</td>\n",
       "    </tr>\n",
       "    <tr>\n",
       "      <th>4</th>\n",
       "      <td>12.500644</td>\n",
       "      <td>260022000</td>\n",
       "    </tr>\n",
       "    <tr>\n",
       "      <th>5</th>\n",
       "      <td>12.639430</td>\n",
       "      <td>271269600</td>\n",
       "    </tr>\n",
       "  </tbody>\n",
       "</table>\n",
       "</div>"
      ]
     },
     "execution_count": 189,
     "metadata": {},
     "output_type": "execute_result"
    }
   ],
   "execution_count": 189
  },
  {
   "cell_type": "markdown",
   "id": "5603133d",
   "metadata": {},
   "source": [
    "#### Fondere i DF pag. 56"
   ]
  },
  {
   "cell_type": "markdown",
   "id": "d7c5e289",
   "metadata": {},
   "source": [
    "La funzione pd.merge() combina i dati basandosi sui valori di una colonna invece che sull'indice"
   ]
  },
  {
   "cell_type": "code",
   "id": "06ec8c88",
   "metadata": {
    "ExecuteTime": {
     "end_time": "2024-04-16T06:56:07.372690Z",
     "start_time": "2024-04-16T06:56:07.362716Z"
    }
   },
   "source": [
    "msftAR = msftA.reset_index()\n",
    "msftAR"
   ],
   "outputs": [
    {
     "data": {
      "text/plain": [
       "          Date  Adj Close\n",
       "0   2012-01-03  21.238752\n",
       "1   2012-01-04  21.738583\n",
       "2   2012-01-05  21.960728\n",
       "3   2012-01-06  22.301882\n",
       "4   2012-01-09  22.008331\n",
       "..         ...        ...\n",
       "244 2012-12-21  22.394157\n",
       "245 2012-12-24  22.075996\n",
       "246 2012-12-26  21.912830\n",
       "247 2012-12-27  21.994410\n",
       "248 2012-12-28  21.659929\n",
       "\n",
       "[249 rows x 2 columns]"
      ],
      "text/html": [
       "<div>\n",
       "<style scoped>\n",
       "    .dataframe tbody tr th:only-of-type {\n",
       "        vertical-align: middle;\n",
       "    }\n",
       "\n",
       "    .dataframe tbody tr th {\n",
       "        vertical-align: top;\n",
       "    }\n",
       "\n",
       "    .dataframe thead th {\n",
       "        text-align: right;\n",
       "    }\n",
       "</style>\n",
       "<table border=\"1\" class=\"dataframe\">\n",
       "  <thead>\n",
       "    <tr style=\"text-align: right;\">\n",
       "      <th></th>\n",
       "      <th>Date</th>\n",
       "      <th>Adj Close</th>\n",
       "    </tr>\n",
       "  </thead>\n",
       "  <tbody>\n",
       "    <tr>\n",
       "      <th>0</th>\n",
       "      <td>2012-01-03</td>\n",
       "      <td>21.238752</td>\n",
       "    </tr>\n",
       "    <tr>\n",
       "      <th>1</th>\n",
       "      <td>2012-01-04</td>\n",
       "      <td>21.738583</td>\n",
       "    </tr>\n",
       "    <tr>\n",
       "      <th>2</th>\n",
       "      <td>2012-01-05</td>\n",
       "      <td>21.960728</td>\n",
       "    </tr>\n",
       "    <tr>\n",
       "      <th>3</th>\n",
       "      <td>2012-01-06</td>\n",
       "      <td>22.301882</td>\n",
       "    </tr>\n",
       "    <tr>\n",
       "      <th>4</th>\n",
       "      <td>2012-01-09</td>\n",
       "      <td>22.008331</td>\n",
       "    </tr>\n",
       "    <tr>\n",
       "      <th>...</th>\n",
       "      <td>...</td>\n",
       "      <td>...</td>\n",
       "    </tr>\n",
       "    <tr>\n",
       "      <th>244</th>\n",
       "      <td>2012-12-21</td>\n",
       "      <td>22.394157</td>\n",
       "    </tr>\n",
       "    <tr>\n",
       "      <th>245</th>\n",
       "      <td>2012-12-24</td>\n",
       "      <td>22.075996</td>\n",
       "    </tr>\n",
       "    <tr>\n",
       "      <th>246</th>\n",
       "      <td>2012-12-26</td>\n",
       "      <td>21.912830</td>\n",
       "    </tr>\n",
       "    <tr>\n",
       "      <th>247</th>\n",
       "      <td>2012-12-27</td>\n",
       "      <td>21.994410</td>\n",
       "    </tr>\n",
       "    <tr>\n",
       "      <th>248</th>\n",
       "      <td>2012-12-28</td>\n",
       "      <td>21.659929</td>\n",
       "    </tr>\n",
       "  </tbody>\n",
       "</table>\n",
       "<p>249 rows × 2 columns</p>\n",
       "</div>"
      ]
     },
     "execution_count": 190,
     "metadata": {},
     "output_type": "execute_result"
    }
   ],
   "execution_count": 190
  },
  {
   "cell_type": "code",
   "id": "e4709628",
   "metadata": {
    "ExecuteTime": {
     "end_time": "2024-04-16T06:56:07.388647Z",
     "start_time": "2024-04-16T06:56:07.373687Z"
    }
   },
   "source": [
    "msftVR = msft[['Volume']].reset_index()\n",
    "msftVR"
   ],
   "outputs": [
    {
     "data": {
      "text/plain": [
       "          Date    Volume\n",
       "0   2012-01-03  64731500\n",
       "1   2012-01-04  80516100\n",
       "2   2012-01-05  56081400\n",
       "3   2012-01-06  99455500\n",
       "4   2012-01-09  59706800\n",
       "..         ...       ...\n",
       "244 2012-12-21  98776500\n",
       "245 2012-12-24  20842400\n",
       "246 2012-12-26  31631100\n",
       "247 2012-12-27  39394000\n",
       "248 2012-12-28  28239900\n",
       "\n",
       "[249 rows x 2 columns]"
      ],
      "text/html": [
       "<div>\n",
       "<style scoped>\n",
       "    .dataframe tbody tr th:only-of-type {\n",
       "        vertical-align: middle;\n",
       "    }\n",
       "\n",
       "    .dataframe tbody tr th {\n",
       "        vertical-align: top;\n",
       "    }\n",
       "\n",
       "    .dataframe thead th {\n",
       "        text-align: right;\n",
       "    }\n",
       "</style>\n",
       "<table border=\"1\" class=\"dataframe\">\n",
       "  <thead>\n",
       "    <tr style=\"text-align: right;\">\n",
       "      <th></th>\n",
       "      <th>Date</th>\n",
       "      <th>Volume</th>\n",
       "    </tr>\n",
       "  </thead>\n",
       "  <tbody>\n",
       "    <tr>\n",
       "      <th>0</th>\n",
       "      <td>2012-01-03</td>\n",
       "      <td>64731500</td>\n",
       "    </tr>\n",
       "    <tr>\n",
       "      <th>1</th>\n",
       "      <td>2012-01-04</td>\n",
       "      <td>80516100</td>\n",
       "    </tr>\n",
       "    <tr>\n",
       "      <th>2</th>\n",
       "      <td>2012-01-05</td>\n",
       "      <td>56081400</td>\n",
       "    </tr>\n",
       "    <tr>\n",
       "      <th>3</th>\n",
       "      <td>2012-01-06</td>\n",
       "      <td>99455500</td>\n",
       "    </tr>\n",
       "    <tr>\n",
       "      <th>4</th>\n",
       "      <td>2012-01-09</td>\n",
       "      <td>59706800</td>\n",
       "    </tr>\n",
       "    <tr>\n",
       "      <th>...</th>\n",
       "      <td>...</td>\n",
       "      <td>...</td>\n",
       "    </tr>\n",
       "    <tr>\n",
       "      <th>244</th>\n",
       "      <td>2012-12-21</td>\n",
       "      <td>98776500</td>\n",
       "    </tr>\n",
       "    <tr>\n",
       "      <th>245</th>\n",
       "      <td>2012-12-24</td>\n",
       "      <td>20842400</td>\n",
       "    </tr>\n",
       "    <tr>\n",
       "      <th>246</th>\n",
       "      <td>2012-12-26</td>\n",
       "      <td>31631100</td>\n",
       "    </tr>\n",
       "    <tr>\n",
       "      <th>247</th>\n",
       "      <td>2012-12-27</td>\n",
       "      <td>39394000</td>\n",
       "    </tr>\n",
       "    <tr>\n",
       "      <th>248</th>\n",
       "      <td>2012-12-28</td>\n",
       "      <td>28239900</td>\n",
       "    </tr>\n",
       "  </tbody>\n",
       "</table>\n",
       "<p>249 rows × 2 columns</p>\n",
       "</div>"
      ]
     },
     "execution_count": 191,
     "metadata": {},
     "output_type": "execute_result"
    }
   ],
   "execution_count": 191
  },
  {
   "cell_type": "code",
   "id": "66d47bee",
   "metadata": {
    "ExecuteTime": {
     "end_time": "2024-04-16T06:56:07.403606Z",
     "start_time": "2024-04-16T06:56:07.389644Z"
    }
   },
   "source": [
    "msftCVR = pd.merge(msftAR, msftVR)\n",
    "msftCVR.head()"
   ],
   "outputs": [
    {
     "data": {
      "text/plain": [
       "        Date  Adj Close    Volume\n",
       "0 2012-01-03  21.238752  64731500\n",
       "1 2012-01-04  21.738583  80516100\n",
       "2 2012-01-05  21.960728  56081400\n",
       "3 2012-01-06  22.301882  99455500\n",
       "4 2012-01-09  22.008331  59706800"
      ],
      "text/html": [
       "<div>\n",
       "<style scoped>\n",
       "    .dataframe tbody tr th:only-of-type {\n",
       "        vertical-align: middle;\n",
       "    }\n",
       "\n",
       "    .dataframe tbody tr th {\n",
       "        vertical-align: top;\n",
       "    }\n",
       "\n",
       "    .dataframe thead th {\n",
       "        text-align: right;\n",
       "    }\n",
       "</style>\n",
       "<table border=\"1\" class=\"dataframe\">\n",
       "  <thead>\n",
       "    <tr style=\"text-align: right;\">\n",
       "      <th></th>\n",
       "      <th>Date</th>\n",
       "      <th>Adj Close</th>\n",
       "      <th>Volume</th>\n",
       "    </tr>\n",
       "  </thead>\n",
       "  <tbody>\n",
       "    <tr>\n",
       "      <th>0</th>\n",
       "      <td>2012-01-03</td>\n",
       "      <td>21.238752</td>\n",
       "      <td>64731500</td>\n",
       "    </tr>\n",
       "    <tr>\n",
       "      <th>1</th>\n",
       "      <td>2012-01-04</td>\n",
       "      <td>21.738583</td>\n",
       "      <td>80516100</td>\n",
       "    </tr>\n",
       "    <tr>\n",
       "      <th>2</th>\n",
       "      <td>2012-01-05</td>\n",
       "      <td>21.960728</td>\n",
       "      <td>56081400</td>\n",
       "    </tr>\n",
       "    <tr>\n",
       "      <th>3</th>\n",
       "      <td>2012-01-06</td>\n",
       "      <td>22.301882</td>\n",
       "      <td>99455500</td>\n",
       "    </tr>\n",
       "    <tr>\n",
       "      <th>4</th>\n",
       "      <td>2012-01-09</td>\n",
       "      <td>22.008331</td>\n",
       "      <td>59706800</td>\n",
       "    </tr>\n",
       "  </tbody>\n",
       "</table>\n",
       "</div>"
      ]
     },
     "execution_count": 192,
     "metadata": {},
     "output_type": "execute_result"
    }
   ],
   "execution_count": 192
  },
  {
   "cell_type": "markdown",
   "id": "1edc8af5",
   "metadata": {},
   "source": [
    "Diversi tipi di \"join\":\n",
    "- left - usa le chiavi del df di sinistra (eq SQL LEFT-OUTER JOIN)\n",
    "- right - usa le chiavi del df a destra (eq SQL RISHT-OUTER JOIN)\n",
    "- outer - usa l'union delle chiavi dei due df (eq SQL FULL OUTER JOIN)\n",
    "- inner - usa l'intersezione delle chiavi dei due df (eq SQL INNER JOIN)"
   ]
  },
  {
   "cell_type": "code",
   "id": "9d096317",
   "metadata": {
    "ExecuteTime": {
     "end_time": "2024-04-16T06:56:07.419564Z",
     "start_time": "2024-04-16T06:56:07.404604Z"
    }
   },
   "source": [
    "msftAR0_5 = msftAR[0:5]\n",
    "msftAR0_5"
   ],
   "outputs": [
    {
     "data": {
      "text/plain": [
       "        Date  Adj Close\n",
       "0 2012-01-03  21.238752\n",
       "1 2012-01-04  21.738583\n",
       "2 2012-01-05  21.960728\n",
       "3 2012-01-06  22.301882\n",
       "4 2012-01-09  22.008331"
      ],
      "text/html": [
       "<div>\n",
       "<style scoped>\n",
       "    .dataframe tbody tr th:only-of-type {\n",
       "        vertical-align: middle;\n",
       "    }\n",
       "\n",
       "    .dataframe tbody tr th {\n",
       "        vertical-align: top;\n",
       "    }\n",
       "\n",
       "    .dataframe thead th {\n",
       "        text-align: right;\n",
       "    }\n",
       "</style>\n",
       "<table border=\"1\" class=\"dataframe\">\n",
       "  <thead>\n",
       "    <tr style=\"text-align: right;\">\n",
       "      <th></th>\n",
       "      <th>Date</th>\n",
       "      <th>Adj Close</th>\n",
       "    </tr>\n",
       "  </thead>\n",
       "  <tbody>\n",
       "    <tr>\n",
       "      <th>0</th>\n",
       "      <td>2012-01-03</td>\n",
       "      <td>21.238752</td>\n",
       "    </tr>\n",
       "    <tr>\n",
       "      <th>1</th>\n",
       "      <td>2012-01-04</td>\n",
       "      <td>21.738583</td>\n",
       "    </tr>\n",
       "    <tr>\n",
       "      <th>2</th>\n",
       "      <td>2012-01-05</td>\n",
       "      <td>21.960728</td>\n",
       "    </tr>\n",
       "    <tr>\n",
       "      <th>3</th>\n",
       "      <td>2012-01-06</td>\n",
       "      <td>22.301882</td>\n",
       "    </tr>\n",
       "    <tr>\n",
       "      <th>4</th>\n",
       "      <td>2012-01-09</td>\n",
       "      <td>22.008331</td>\n",
       "    </tr>\n",
       "  </tbody>\n",
       "</table>\n",
       "</div>"
      ]
     },
     "execution_count": 193,
     "metadata": {},
     "output_type": "execute_result"
    }
   ],
   "execution_count": 193
  },
  {
   "cell_type": "code",
   "id": "d92bf424",
   "metadata": {
    "ExecuteTime": {
     "end_time": "2024-04-16T06:56:07.435521Z",
     "start_time": "2024-04-16T06:56:07.421559Z"
    }
   },
   "source": [
    "msftVR2_4 = msftVR[2:4]\n",
    "msftVR2_4"
   ],
   "outputs": [
    {
     "data": {
      "text/plain": [
       "        Date    Volume\n",
       "2 2012-01-05  56081400\n",
       "3 2012-01-06  99455500"
      ],
      "text/html": [
       "<div>\n",
       "<style scoped>\n",
       "    .dataframe tbody tr th:only-of-type {\n",
       "        vertical-align: middle;\n",
       "    }\n",
       "\n",
       "    .dataframe tbody tr th {\n",
       "        vertical-align: top;\n",
       "    }\n",
       "\n",
       "    .dataframe thead th {\n",
       "        text-align: right;\n",
       "    }\n",
       "</style>\n",
       "<table border=\"1\" class=\"dataframe\">\n",
       "  <thead>\n",
       "    <tr style=\"text-align: right;\">\n",
       "      <th></th>\n",
       "      <th>Date</th>\n",
       "      <th>Volume</th>\n",
       "    </tr>\n",
       "  </thead>\n",
       "  <tbody>\n",
       "    <tr>\n",
       "      <th>2</th>\n",
       "      <td>2012-01-05</td>\n",
       "      <td>56081400</td>\n",
       "    </tr>\n",
       "    <tr>\n",
       "      <th>3</th>\n",
       "      <td>2012-01-06</td>\n",
       "      <td>99455500</td>\n",
       "    </tr>\n",
       "  </tbody>\n",
       "</table>\n",
       "</div>"
      ]
     },
     "execution_count": 194,
     "metadata": {},
     "output_type": "execute_result"
    }
   ],
   "execution_count": 194
  },
  {
   "cell_type": "code",
   "id": "e884a0bc",
   "metadata": {
    "ExecuteTime": {
     "end_time": "2024-04-16T06:56:07.451479Z",
     "start_time": "2024-04-16T06:56:07.436519Z"
    }
   },
   "source": [
    "pd.merge(msftAR0_5, msftVR2_4)"
   ],
   "outputs": [
    {
     "data": {
      "text/plain": [
       "        Date  Adj Close    Volume\n",
       "0 2012-01-05  21.960728  56081400\n",
       "1 2012-01-06  22.301882  99455500"
      ],
      "text/html": [
       "<div>\n",
       "<style scoped>\n",
       "    .dataframe tbody tr th:only-of-type {\n",
       "        vertical-align: middle;\n",
       "    }\n",
       "\n",
       "    .dataframe tbody tr th {\n",
       "        vertical-align: top;\n",
       "    }\n",
       "\n",
       "    .dataframe thead th {\n",
       "        text-align: right;\n",
       "    }\n",
       "</style>\n",
       "<table border=\"1\" class=\"dataframe\">\n",
       "  <thead>\n",
       "    <tr style=\"text-align: right;\">\n",
       "      <th></th>\n",
       "      <th>Date</th>\n",
       "      <th>Adj Close</th>\n",
       "      <th>Volume</th>\n",
       "    </tr>\n",
       "  </thead>\n",
       "  <tbody>\n",
       "    <tr>\n",
       "      <th>0</th>\n",
       "      <td>2012-01-05</td>\n",
       "      <td>21.960728</td>\n",
       "      <td>56081400</td>\n",
       "    </tr>\n",
       "    <tr>\n",
       "      <th>1</th>\n",
       "      <td>2012-01-06</td>\n",
       "      <td>22.301882</td>\n",
       "      <td>99455500</td>\n",
       "    </tr>\n",
       "  </tbody>\n",
       "</table>\n",
       "</div>"
      ]
     },
     "execution_count": 195,
     "metadata": {},
     "output_type": "execute_result"
    }
   ],
   "execution_count": 195
  },
  {
   "cell_type": "code",
   "id": "a6acd31c",
   "metadata": {
    "ExecuteTime": {
     "end_time": "2024-04-16T06:56:07.467436Z",
     "start_time": "2024-04-16T06:56:07.452476Z"
    }
   },
   "source": [
    "pd.merge(msftAR0_5, msftVR2_4, how = 'outer')"
   ],
   "outputs": [
    {
     "data": {
      "text/plain": [
       "        Date  Adj Close      Volume\n",
       "0 2012-01-03  21.238752         NaN\n",
       "1 2012-01-04  21.738583         NaN\n",
       "2 2012-01-05  21.960728  56081400.0\n",
       "3 2012-01-06  22.301882  99455500.0\n",
       "4 2012-01-09  22.008331         NaN"
      ],
      "text/html": [
       "<div>\n",
       "<style scoped>\n",
       "    .dataframe tbody tr th:only-of-type {\n",
       "        vertical-align: middle;\n",
       "    }\n",
       "\n",
       "    .dataframe tbody tr th {\n",
       "        vertical-align: top;\n",
       "    }\n",
       "\n",
       "    .dataframe thead th {\n",
       "        text-align: right;\n",
       "    }\n",
       "</style>\n",
       "<table border=\"1\" class=\"dataframe\">\n",
       "  <thead>\n",
       "    <tr style=\"text-align: right;\">\n",
       "      <th></th>\n",
       "      <th>Date</th>\n",
       "      <th>Adj Close</th>\n",
       "      <th>Volume</th>\n",
       "    </tr>\n",
       "  </thead>\n",
       "  <tbody>\n",
       "    <tr>\n",
       "      <th>0</th>\n",
       "      <td>2012-01-03</td>\n",
       "      <td>21.238752</td>\n",
       "      <td>NaN</td>\n",
       "    </tr>\n",
       "    <tr>\n",
       "      <th>1</th>\n",
       "      <td>2012-01-04</td>\n",
       "      <td>21.738583</td>\n",
       "      <td>NaN</td>\n",
       "    </tr>\n",
       "    <tr>\n",
       "      <th>2</th>\n",
       "      <td>2012-01-05</td>\n",
       "      <td>21.960728</td>\n",
       "      <td>56081400.0</td>\n",
       "    </tr>\n",
       "    <tr>\n",
       "      <th>3</th>\n",
       "      <td>2012-01-06</td>\n",
       "      <td>22.301882</td>\n",
       "      <td>99455500.0</td>\n",
       "    </tr>\n",
       "    <tr>\n",
       "      <th>4</th>\n",
       "      <td>2012-01-09</td>\n",
       "      <td>22.008331</td>\n",
       "      <td>NaN</td>\n",
       "    </tr>\n",
       "  </tbody>\n",
       "</table>\n",
       "</div>"
      ]
     },
     "execution_count": 196,
     "metadata": {},
     "output_type": "execute_result"
    }
   ],
   "execution_count": 196
  },
  {
   "cell_type": "markdown",
   "id": "f647b41e",
   "metadata": {},
   "source": [
    "### Pivoting\n",
    "\n",
    "#### pag. 59"
   ]
  },
  {
   "cell_type": "code",
   "id": "7ecc4cd7",
   "metadata": {
    "ExecuteTime": {
     "end_time": "2024-04-16T06:56:07.483393Z",
     "start_time": "2024-04-16T06:56:07.468434Z"
    }
   },
   "source": [
    "msft.insert(0, 'Symbol', 'MSFT')\n",
    "msft"
   ],
   "outputs": [
    {
     "data": {
      "text/plain": [
       "           Symbol       Open       High        Low      Close  Adj Close  \\\n",
       "Date                                                                       \n",
       "2012-01-03   MSFT  26.549999  26.959999  26.389999  26.770000  21.238752   \n",
       "2012-01-04   MSFT  26.820000  27.469999  26.780001  27.400000  21.738583   \n",
       "2012-01-05   MSFT  27.379999  27.730000  27.290001  27.680000  21.960728   \n",
       "2012-01-06   MSFT  27.530001  28.190001  27.530001  28.110001  22.301882   \n",
       "2012-01-09   MSFT  28.049999  28.100000  27.719999  27.740000  22.008331   \n",
       "...           ...        ...        ...        ...        ...        ...   \n",
       "2012-12-21   MSFT  27.450001  27.490000  27.000000  27.450001  22.394157   \n",
       "2012-12-24   MSFT  27.200001  27.250000  27.000000  27.059999  22.075996   \n",
       "2012-12-26   MSFT  27.030001  27.200001  26.700001  26.860001  21.912830   \n",
       "2012-12-27   MSFT  26.889999  27.090000  26.570000  26.959999  21.994410   \n",
       "2012-12-28   MSFT  26.709999  26.900000  26.549999  26.549999  21.659929   \n",
       "\n",
       "              Volume  \n",
       "Date                  \n",
       "2012-01-03  64731500  \n",
       "2012-01-04  80516100  \n",
       "2012-01-05  56081400  \n",
       "2012-01-06  99455500  \n",
       "2012-01-09  59706800  \n",
       "...              ...  \n",
       "2012-12-21  98776500  \n",
       "2012-12-24  20842400  \n",
       "2012-12-26  31631100  \n",
       "2012-12-27  39394000  \n",
       "2012-12-28  28239900  \n",
       "\n",
       "[249 rows x 7 columns]"
      ],
      "text/html": [
       "<div>\n",
       "<style scoped>\n",
       "    .dataframe tbody tr th:only-of-type {\n",
       "        vertical-align: middle;\n",
       "    }\n",
       "\n",
       "    .dataframe tbody tr th {\n",
       "        vertical-align: top;\n",
       "    }\n",
       "\n",
       "    .dataframe thead th {\n",
       "        text-align: right;\n",
       "    }\n",
       "</style>\n",
       "<table border=\"1\" class=\"dataframe\">\n",
       "  <thead>\n",
       "    <tr style=\"text-align: right;\">\n",
       "      <th></th>\n",
       "      <th>Symbol</th>\n",
       "      <th>Open</th>\n",
       "      <th>High</th>\n",
       "      <th>Low</th>\n",
       "      <th>Close</th>\n",
       "      <th>Adj Close</th>\n",
       "      <th>Volume</th>\n",
       "    </tr>\n",
       "    <tr>\n",
       "      <th>Date</th>\n",
       "      <th></th>\n",
       "      <th></th>\n",
       "      <th></th>\n",
       "      <th></th>\n",
       "      <th></th>\n",
       "      <th></th>\n",
       "      <th></th>\n",
       "    </tr>\n",
       "  </thead>\n",
       "  <tbody>\n",
       "    <tr>\n",
       "      <th>2012-01-03</th>\n",
       "      <td>MSFT</td>\n",
       "      <td>26.549999</td>\n",
       "      <td>26.959999</td>\n",
       "      <td>26.389999</td>\n",
       "      <td>26.770000</td>\n",
       "      <td>21.238752</td>\n",
       "      <td>64731500</td>\n",
       "    </tr>\n",
       "    <tr>\n",
       "      <th>2012-01-04</th>\n",
       "      <td>MSFT</td>\n",
       "      <td>26.820000</td>\n",
       "      <td>27.469999</td>\n",
       "      <td>26.780001</td>\n",
       "      <td>27.400000</td>\n",
       "      <td>21.738583</td>\n",
       "      <td>80516100</td>\n",
       "    </tr>\n",
       "    <tr>\n",
       "      <th>2012-01-05</th>\n",
       "      <td>MSFT</td>\n",
       "      <td>27.379999</td>\n",
       "      <td>27.730000</td>\n",
       "      <td>27.290001</td>\n",
       "      <td>27.680000</td>\n",
       "      <td>21.960728</td>\n",
       "      <td>56081400</td>\n",
       "    </tr>\n",
       "    <tr>\n",
       "      <th>2012-01-06</th>\n",
       "      <td>MSFT</td>\n",
       "      <td>27.530001</td>\n",
       "      <td>28.190001</td>\n",
       "      <td>27.530001</td>\n",
       "      <td>28.110001</td>\n",
       "      <td>22.301882</td>\n",
       "      <td>99455500</td>\n",
       "    </tr>\n",
       "    <tr>\n",
       "      <th>2012-01-09</th>\n",
       "      <td>MSFT</td>\n",
       "      <td>28.049999</td>\n",
       "      <td>28.100000</td>\n",
       "      <td>27.719999</td>\n",
       "      <td>27.740000</td>\n",
       "      <td>22.008331</td>\n",
       "      <td>59706800</td>\n",
       "    </tr>\n",
       "    <tr>\n",
       "      <th>...</th>\n",
       "      <td>...</td>\n",
       "      <td>...</td>\n",
       "      <td>...</td>\n",
       "      <td>...</td>\n",
       "      <td>...</td>\n",
       "      <td>...</td>\n",
       "      <td>...</td>\n",
       "    </tr>\n",
       "    <tr>\n",
       "      <th>2012-12-21</th>\n",
       "      <td>MSFT</td>\n",
       "      <td>27.450001</td>\n",
       "      <td>27.490000</td>\n",
       "      <td>27.000000</td>\n",
       "      <td>27.450001</td>\n",
       "      <td>22.394157</td>\n",
       "      <td>98776500</td>\n",
       "    </tr>\n",
       "    <tr>\n",
       "      <th>2012-12-24</th>\n",
       "      <td>MSFT</td>\n",
       "      <td>27.200001</td>\n",
       "      <td>27.250000</td>\n",
       "      <td>27.000000</td>\n",
       "      <td>27.059999</td>\n",
       "      <td>22.075996</td>\n",
       "      <td>20842400</td>\n",
       "    </tr>\n",
       "    <tr>\n",
       "      <th>2012-12-26</th>\n",
       "      <td>MSFT</td>\n",
       "      <td>27.030001</td>\n",
       "      <td>27.200001</td>\n",
       "      <td>26.700001</td>\n",
       "      <td>26.860001</td>\n",
       "      <td>21.912830</td>\n",
       "      <td>31631100</td>\n",
       "    </tr>\n",
       "    <tr>\n",
       "      <th>2012-12-27</th>\n",
       "      <td>MSFT</td>\n",
       "      <td>26.889999</td>\n",
       "      <td>27.090000</td>\n",
       "      <td>26.570000</td>\n",
       "      <td>26.959999</td>\n",
       "      <td>21.994410</td>\n",
       "      <td>39394000</td>\n",
       "    </tr>\n",
       "    <tr>\n",
       "      <th>2012-12-28</th>\n",
       "      <td>MSFT</td>\n",
       "      <td>26.709999</td>\n",
       "      <td>26.900000</td>\n",
       "      <td>26.549999</td>\n",
       "      <td>26.549999</td>\n",
       "      <td>21.659929</td>\n",
       "      <td>28239900</td>\n",
       "    </tr>\n",
       "  </tbody>\n",
       "</table>\n",
       "<p>249 rows × 7 columns</p>\n",
       "</div>"
      ]
     },
     "execution_count": 197,
     "metadata": {},
     "output_type": "execute_result"
    }
   ],
   "execution_count": 197
  },
  {
   "cell_type": "code",
   "id": "124b03d0",
   "metadata": {
    "ExecuteTime": {
     "end_time": "2024-04-16T06:56:07.500348Z",
     "start_time": "2024-04-16T06:56:07.484390Z"
    }
   },
   "source": [
    "aapl.insert(0, 'Symbol', 'AAPL')\n",
    "aapl"
   ],
   "outputs": [
    {
     "data": {
      "text/plain": [
       "           Symbol       Open       High        Low      Close  Adj Close  \\\n",
       "Date                                                                       \n",
       "2012-01-03   AAPL  14.621429  14.732143  14.607143  14.686786  12.433825   \n",
       "2012-01-04   AAPL  14.642857  14.810000  14.617143  14.765714  12.500644   \n",
       "2012-01-05   AAPL  14.819643  14.948214  14.738214  14.929643  12.639430   \n",
       "2012-01-06   AAPL  14.991786  15.098214  14.972143  15.085714  12.771559   \n",
       "2012-01-09   AAPL  15.196429  15.276786  15.048214  15.061786  12.751298   \n",
       "...           ...        ...        ...        ...        ...        ...   \n",
       "2012-12-21   AAPL  18.302500  18.559643  18.222857  18.547501  15.841752   \n",
       "2012-12-24   AAPL  18.583929  18.723213  18.525356  18.577499  15.867363   \n",
       "2012-12-26   AAPL  18.535713  18.552143  18.254286  18.321428  15.648655   \n",
       "2012-12-27   AAPL  18.340714  18.437500  18.023571  18.395000  15.711494   \n",
       "2012-12-28   AAPL  18.224644  18.374287  18.147142  18.199642  15.544634   \n",
       "\n",
       "               Volume  \n",
       "Date                   \n",
       "2012-01-03  302220800  \n",
       "2012-01-04  260022000  \n",
       "2012-01-05  271269600  \n",
       "2012-01-06  318292800  \n",
       "2012-01-09  394024400  \n",
       "...               ...  \n",
       "2012-12-21  596268400  \n",
       "2012-12-24  175753200  \n",
       "2012-12-26  302436400  \n",
       "2012-12-27  455120400  \n",
       "2012-12-28  354278400  \n",
       "\n",
       "[249 rows x 7 columns]"
      ],
      "text/html": [
       "<div>\n",
       "<style scoped>\n",
       "    .dataframe tbody tr th:only-of-type {\n",
       "        vertical-align: middle;\n",
       "    }\n",
       "\n",
       "    .dataframe tbody tr th {\n",
       "        vertical-align: top;\n",
       "    }\n",
       "\n",
       "    .dataframe thead th {\n",
       "        text-align: right;\n",
       "    }\n",
       "</style>\n",
       "<table border=\"1\" class=\"dataframe\">\n",
       "  <thead>\n",
       "    <tr style=\"text-align: right;\">\n",
       "      <th></th>\n",
       "      <th>Symbol</th>\n",
       "      <th>Open</th>\n",
       "      <th>High</th>\n",
       "      <th>Low</th>\n",
       "      <th>Close</th>\n",
       "      <th>Adj Close</th>\n",
       "      <th>Volume</th>\n",
       "    </tr>\n",
       "    <tr>\n",
       "      <th>Date</th>\n",
       "      <th></th>\n",
       "      <th></th>\n",
       "      <th></th>\n",
       "      <th></th>\n",
       "      <th></th>\n",
       "      <th></th>\n",
       "      <th></th>\n",
       "    </tr>\n",
       "  </thead>\n",
       "  <tbody>\n",
       "    <tr>\n",
       "      <th>2012-01-03</th>\n",
       "      <td>AAPL</td>\n",
       "      <td>14.621429</td>\n",
       "      <td>14.732143</td>\n",
       "      <td>14.607143</td>\n",
       "      <td>14.686786</td>\n",
       "      <td>12.433825</td>\n",
       "      <td>302220800</td>\n",
       "    </tr>\n",
       "    <tr>\n",
       "      <th>2012-01-04</th>\n",
       "      <td>AAPL</td>\n",
       "      <td>14.642857</td>\n",
       "      <td>14.810000</td>\n",
       "      <td>14.617143</td>\n",
       "      <td>14.765714</td>\n",
       "      <td>12.500644</td>\n",
       "      <td>260022000</td>\n",
       "    </tr>\n",
       "    <tr>\n",
       "      <th>2012-01-05</th>\n",
       "      <td>AAPL</td>\n",
       "      <td>14.819643</td>\n",
       "      <td>14.948214</td>\n",
       "      <td>14.738214</td>\n",
       "      <td>14.929643</td>\n",
       "      <td>12.639430</td>\n",
       "      <td>271269600</td>\n",
       "    </tr>\n",
       "    <tr>\n",
       "      <th>2012-01-06</th>\n",
       "      <td>AAPL</td>\n",
       "      <td>14.991786</td>\n",
       "      <td>15.098214</td>\n",
       "      <td>14.972143</td>\n",
       "      <td>15.085714</td>\n",
       "      <td>12.771559</td>\n",
       "      <td>318292800</td>\n",
       "    </tr>\n",
       "    <tr>\n",
       "      <th>2012-01-09</th>\n",
       "      <td>AAPL</td>\n",
       "      <td>15.196429</td>\n",
       "      <td>15.276786</td>\n",
       "      <td>15.048214</td>\n",
       "      <td>15.061786</td>\n",
       "      <td>12.751298</td>\n",
       "      <td>394024400</td>\n",
       "    </tr>\n",
       "    <tr>\n",
       "      <th>...</th>\n",
       "      <td>...</td>\n",
       "      <td>...</td>\n",
       "      <td>...</td>\n",
       "      <td>...</td>\n",
       "      <td>...</td>\n",
       "      <td>...</td>\n",
       "      <td>...</td>\n",
       "    </tr>\n",
       "    <tr>\n",
       "      <th>2012-12-21</th>\n",
       "      <td>AAPL</td>\n",
       "      <td>18.302500</td>\n",
       "      <td>18.559643</td>\n",
       "      <td>18.222857</td>\n",
       "      <td>18.547501</td>\n",
       "      <td>15.841752</td>\n",
       "      <td>596268400</td>\n",
       "    </tr>\n",
       "    <tr>\n",
       "      <th>2012-12-24</th>\n",
       "      <td>AAPL</td>\n",
       "      <td>18.583929</td>\n",
       "      <td>18.723213</td>\n",
       "      <td>18.525356</td>\n",
       "      <td>18.577499</td>\n",
       "      <td>15.867363</td>\n",
       "      <td>175753200</td>\n",
       "    </tr>\n",
       "    <tr>\n",
       "      <th>2012-12-26</th>\n",
       "      <td>AAPL</td>\n",
       "      <td>18.535713</td>\n",
       "      <td>18.552143</td>\n",
       "      <td>18.254286</td>\n",
       "      <td>18.321428</td>\n",
       "      <td>15.648655</td>\n",
       "      <td>302436400</td>\n",
       "    </tr>\n",
       "    <tr>\n",
       "      <th>2012-12-27</th>\n",
       "      <td>AAPL</td>\n",
       "      <td>18.340714</td>\n",
       "      <td>18.437500</td>\n",
       "      <td>18.023571</td>\n",
       "      <td>18.395000</td>\n",
       "      <td>15.711494</td>\n",
       "      <td>455120400</td>\n",
       "    </tr>\n",
       "    <tr>\n",
       "      <th>2012-12-28</th>\n",
       "      <td>AAPL</td>\n",
       "      <td>18.224644</td>\n",
       "      <td>18.374287</td>\n",
       "      <td>18.147142</td>\n",
       "      <td>18.199642</td>\n",
       "      <td>15.544634</td>\n",
       "      <td>354278400</td>\n",
       "    </tr>\n",
       "  </tbody>\n",
       "</table>\n",
       "<p>249 rows × 7 columns</p>\n",
       "</div>"
      ]
     },
     "execution_count": 198,
     "metadata": {},
     "output_type": "execute_result"
    }
   ],
   "execution_count": 198
  },
  {
   "cell_type": "code",
   "id": "fd32ed24",
   "metadata": {
    "ExecuteTime": {
     "end_time": "2024-04-16T06:56:07.515307Z",
     "start_time": "2024-04-16T06:56:07.502343Z"
    }
   },
   "source": [
    "combined = pd.concat([msft, aapl]).sort_index()\n",
    "s4p = combined.reset_index()\n",
    "s4p.head()"
   ],
   "outputs": [
    {
     "data": {
      "text/plain": [
       "        Date Symbol       Open       High        Low      Close  Adj Close  \\\n",
       "0 2012-01-03   MSFT  26.549999  26.959999  26.389999  26.770000  21.238752   \n",
       "1 2012-01-03   AAPL  14.621429  14.732143  14.607143  14.686786  12.433825   \n",
       "2 2012-01-04   MSFT  26.820000  27.469999  26.780001  27.400000  21.738583   \n",
       "3 2012-01-04   AAPL  14.642857  14.810000  14.617143  14.765714  12.500644   \n",
       "4 2012-01-05   MSFT  27.379999  27.730000  27.290001  27.680000  21.960728   \n",
       "\n",
       "      Volume  \n",
       "0   64731500  \n",
       "1  302220800  \n",
       "2   80516100  \n",
       "3  260022000  \n",
       "4   56081400  "
      ],
      "text/html": [
       "<div>\n",
       "<style scoped>\n",
       "    .dataframe tbody tr th:only-of-type {\n",
       "        vertical-align: middle;\n",
       "    }\n",
       "\n",
       "    .dataframe tbody tr th {\n",
       "        vertical-align: top;\n",
       "    }\n",
       "\n",
       "    .dataframe thead th {\n",
       "        text-align: right;\n",
       "    }\n",
       "</style>\n",
       "<table border=\"1\" class=\"dataframe\">\n",
       "  <thead>\n",
       "    <tr style=\"text-align: right;\">\n",
       "      <th></th>\n",
       "      <th>Date</th>\n",
       "      <th>Symbol</th>\n",
       "      <th>Open</th>\n",
       "      <th>High</th>\n",
       "      <th>Low</th>\n",
       "      <th>Close</th>\n",
       "      <th>Adj Close</th>\n",
       "      <th>Volume</th>\n",
       "    </tr>\n",
       "  </thead>\n",
       "  <tbody>\n",
       "    <tr>\n",
       "      <th>0</th>\n",
       "      <td>2012-01-03</td>\n",
       "      <td>MSFT</td>\n",
       "      <td>26.549999</td>\n",
       "      <td>26.959999</td>\n",
       "      <td>26.389999</td>\n",
       "      <td>26.770000</td>\n",
       "      <td>21.238752</td>\n",
       "      <td>64731500</td>\n",
       "    </tr>\n",
       "    <tr>\n",
       "      <th>1</th>\n",
       "      <td>2012-01-03</td>\n",
       "      <td>AAPL</td>\n",
       "      <td>14.621429</td>\n",
       "      <td>14.732143</td>\n",
       "      <td>14.607143</td>\n",
       "      <td>14.686786</td>\n",
       "      <td>12.433825</td>\n",
       "      <td>302220800</td>\n",
       "    </tr>\n",
       "    <tr>\n",
       "      <th>2</th>\n",
       "      <td>2012-01-04</td>\n",
       "      <td>MSFT</td>\n",
       "      <td>26.820000</td>\n",
       "      <td>27.469999</td>\n",
       "      <td>26.780001</td>\n",
       "      <td>27.400000</td>\n",
       "      <td>21.738583</td>\n",
       "      <td>80516100</td>\n",
       "    </tr>\n",
       "    <tr>\n",
       "      <th>3</th>\n",
       "      <td>2012-01-04</td>\n",
       "      <td>AAPL</td>\n",
       "      <td>14.642857</td>\n",
       "      <td>14.810000</td>\n",
       "      <td>14.617143</td>\n",
       "      <td>14.765714</td>\n",
       "      <td>12.500644</td>\n",
       "      <td>260022000</td>\n",
       "    </tr>\n",
       "    <tr>\n",
       "      <th>4</th>\n",
       "      <td>2012-01-05</td>\n",
       "      <td>MSFT</td>\n",
       "      <td>27.379999</td>\n",
       "      <td>27.730000</td>\n",
       "      <td>27.290001</td>\n",
       "      <td>27.680000</td>\n",
       "      <td>21.960728</td>\n",
       "      <td>56081400</td>\n",
       "    </tr>\n",
       "  </tbody>\n",
       "</table>\n",
       "</div>"
      ]
     },
     "execution_count": 199,
     "metadata": {},
     "output_type": "execute_result"
    }
   ],
   "execution_count": 199
  },
  {
   "cell_type": "raw",
   "id": "b7d9f5cf",
   "metadata": {},
   "source": [
    "Vogliamo creare un nuovo DF nel quale AAPL e MSFT sia il titolo di due colonne con a fianco i prezzi di chiusura"
   ]
  },
  {
   "cell_type": "code",
   "id": "a7f89710",
   "metadata": {
    "ExecuteTime": {
     "end_time": "2024-04-16T06:56:07.546225Z",
     "start_time": "2024-04-16T06:56:07.516305Z"
    }
   },
   "source": [
    "closes= s4p.pivot(index = 'Date', columns = 'Symbol', values = 'Adj Close')\n",
    "closes.head()"
   ],
   "outputs": [
    {
     "data": {
      "text/plain": [
       "Symbol           AAPL       MSFT\n",
       "Date                            \n",
       "2012-01-03  12.433825  21.238752\n",
       "2012-01-04  12.500644  21.738583\n",
       "2012-01-05  12.639430  21.960728\n",
       "2012-01-06  12.771559  22.301882\n",
       "2012-01-09  12.751298  22.008331"
      ],
      "text/html": [
       "<div>\n",
       "<style scoped>\n",
       "    .dataframe tbody tr th:only-of-type {\n",
       "        vertical-align: middle;\n",
       "    }\n",
       "\n",
       "    .dataframe tbody tr th {\n",
       "        vertical-align: top;\n",
       "    }\n",
       "\n",
       "    .dataframe thead th {\n",
       "        text-align: right;\n",
       "    }\n",
       "</style>\n",
       "<table border=\"1\" class=\"dataframe\">\n",
       "  <thead>\n",
       "    <tr style=\"text-align: right;\">\n",
       "      <th>Symbol</th>\n",
       "      <th>AAPL</th>\n",
       "      <th>MSFT</th>\n",
       "    </tr>\n",
       "    <tr>\n",
       "      <th>Date</th>\n",
       "      <th></th>\n",
       "      <th></th>\n",
       "    </tr>\n",
       "  </thead>\n",
       "  <tbody>\n",
       "    <tr>\n",
       "      <th>2012-01-03</th>\n",
       "      <td>12.433825</td>\n",
       "      <td>21.238752</td>\n",
       "    </tr>\n",
       "    <tr>\n",
       "      <th>2012-01-04</th>\n",
       "      <td>12.500644</td>\n",
       "      <td>21.738583</td>\n",
       "    </tr>\n",
       "    <tr>\n",
       "      <th>2012-01-05</th>\n",
       "      <td>12.639430</td>\n",
       "      <td>21.960728</td>\n",
       "    </tr>\n",
       "    <tr>\n",
       "      <th>2012-01-06</th>\n",
       "      <td>12.771559</td>\n",
       "      <td>22.301882</td>\n",
       "    </tr>\n",
       "    <tr>\n",
       "      <th>2012-01-09</th>\n",
       "      <td>12.751298</td>\n",
       "      <td>22.008331</td>\n",
       "    </tr>\n",
       "  </tbody>\n",
       "</table>\n",
       "</div>"
      ]
     },
     "execution_count": 200,
     "metadata": {},
     "output_type": "execute_result"
    }
   ],
   "execution_count": 200
  },
  {
   "cell_type": "markdown",
   "id": "53e94f56",
   "metadata": {},
   "source": [
    "### Stacking e unstacking\n",
    "- stack smonta la pivot\n",
    "- unstack torna indietro"
   ]
  },
  {
   "cell_type": "code",
   "id": "cd10b696",
   "metadata": {
    "ExecuteTime": {
     "end_time": "2024-04-16T06:56:07.562182Z",
     "start_time": "2024-04-16T06:56:07.547223Z"
    }
   },
   "source": [
    "stackedCloses = closes.stack()\n",
    "stackedCloses"
   ],
   "outputs": [
    {
     "data": {
      "text/plain": [
       "Date        Symbol\n",
       "2012-01-03  AAPL      12.433825\n",
       "            MSFT      21.238752\n",
       "2012-01-04  AAPL      12.500644\n",
       "            MSFT      21.738583\n",
       "2012-01-05  AAPL      12.639430\n",
       "                        ...    \n",
       "2012-12-26  MSFT      21.912830\n",
       "2012-12-27  AAPL      15.711494\n",
       "            MSFT      21.994410\n",
       "2012-12-28  AAPL      15.544634\n",
       "            MSFT      21.659929\n",
       "Length: 498, dtype: float64"
      ]
     },
     "execution_count": 201,
     "metadata": {},
     "output_type": "execute_result"
    }
   ],
   "execution_count": 201
  },
  {
   "cell_type": "code",
   "id": "f25592c4",
   "metadata": {
    "ExecuteTime": {
     "end_time": "2024-04-16T06:56:07.578140Z",
     "start_time": "2024-04-16T06:56:07.563180Z"
    }
   },
   "source": [
    "stackedCloses.loc['2012-01-03','AAPL']"
   ],
   "outputs": [
    {
     "data": {
      "text/plain": [
       "12.433825492858888"
      ]
     },
     "execution_count": 202,
     "metadata": {},
     "output_type": "execute_result"
    }
   ],
   "execution_count": 202
  },
  {
   "cell_type": "code",
   "id": "5b63d804",
   "metadata": {
    "ExecuteTime": {
     "end_time": "2024-04-16T06:56:07.594097Z",
     "start_time": "2024-04-16T06:56:07.579138Z"
    }
   },
   "source": [
    "stackedCloses.loc['2012-08-31']"
   ],
   "outputs": [
    {
     "data": {
      "text/plain": [
       "Symbol\n",
       "AAPL    20.200352\n",
       "MSFT    24.938536\n",
       "dtype: float64"
      ]
     },
     "execution_count": 203,
     "metadata": {},
     "output_type": "execute_result"
    }
   ],
   "execution_count": 203
  },
  {
   "cell_type": "code",
   "id": "fe45e4b4",
   "metadata": {
    "ExecuteTime": {
     "end_time": "2024-04-16T06:56:07.610055Z",
     "start_time": "2024-04-16T06:56:07.595096Z"
    }
   },
   "source": [
    "stackedCloses.loc[:,'MSFT']"
   ],
   "outputs": [
    {
     "data": {
      "text/plain": [
       "Date\n",
       "2012-01-03    21.238752\n",
       "2012-01-04    21.738583\n",
       "2012-01-05    21.960728\n",
       "2012-01-06    22.301882\n",
       "2012-01-09    22.008331\n",
       "                ...    \n",
       "2012-12-21    22.394157\n",
       "2012-12-24    22.075996\n",
       "2012-12-26    21.912830\n",
       "2012-12-27    21.994410\n",
       "2012-12-28    21.659929\n",
       "Length: 249, dtype: float64"
      ]
     },
     "execution_count": 204,
     "metadata": {},
     "output_type": "execute_result"
    }
   ],
   "execution_count": 204
  },
  {
   "cell_type": "code",
   "id": "c00cc251",
   "metadata": {
    "ExecuteTime": {
     "end_time": "2024-04-16T06:56:07.626013Z",
     "start_time": "2024-04-16T06:56:07.612051Z"
    }
   },
   "source": [
    "unstackedCloses = stackedCloses.unstack()\n",
    "unstackedCloses.head()"
   ],
   "outputs": [
    {
     "data": {
      "text/plain": [
       "Symbol           AAPL       MSFT\n",
       "Date                            \n",
       "2012-01-03  12.433825  21.238752\n",
       "2012-01-04  12.500644  21.738583\n",
       "2012-01-05  12.639430  21.960728\n",
       "2012-01-06  12.771559  22.301882\n",
       "2012-01-09  12.751298  22.008331"
      ],
      "text/html": [
       "<div>\n",
       "<style scoped>\n",
       "    .dataframe tbody tr th:only-of-type {\n",
       "        vertical-align: middle;\n",
       "    }\n",
       "\n",
       "    .dataframe tbody tr th {\n",
       "        vertical-align: top;\n",
       "    }\n",
       "\n",
       "    .dataframe thead th {\n",
       "        text-align: right;\n",
       "    }\n",
       "</style>\n",
       "<table border=\"1\" class=\"dataframe\">\n",
       "  <thead>\n",
       "    <tr style=\"text-align: right;\">\n",
       "      <th>Symbol</th>\n",
       "      <th>AAPL</th>\n",
       "      <th>MSFT</th>\n",
       "    </tr>\n",
       "    <tr>\n",
       "      <th>Date</th>\n",
       "      <th></th>\n",
       "      <th></th>\n",
       "    </tr>\n",
       "  </thead>\n",
       "  <tbody>\n",
       "    <tr>\n",
       "      <th>2012-01-03</th>\n",
       "      <td>12.433825</td>\n",
       "      <td>21.238752</td>\n",
       "    </tr>\n",
       "    <tr>\n",
       "      <th>2012-01-04</th>\n",
       "      <td>12.500644</td>\n",
       "      <td>21.738583</td>\n",
       "    </tr>\n",
       "    <tr>\n",
       "      <th>2012-01-05</th>\n",
       "      <td>12.639430</td>\n",
       "      <td>21.960728</td>\n",
       "    </tr>\n",
       "    <tr>\n",
       "      <th>2012-01-06</th>\n",
       "      <td>12.771559</td>\n",
       "      <td>22.301882</td>\n",
       "    </tr>\n",
       "    <tr>\n",
       "      <th>2012-01-09</th>\n",
       "      <td>12.751298</td>\n",
       "      <td>22.008331</td>\n",
       "    </tr>\n",
       "  </tbody>\n",
       "</table>\n",
       "</div>"
      ]
     },
     "execution_count": 205,
     "metadata": {},
     "output_type": "execute_result"
    }
   ],
   "execution_count": 205
  },
  {
   "cell_type": "markdown",
   "id": "fdbae724",
   "metadata": {},
   "source": [
    "### Melting"
   ]
  },
  {
   "cell_type": "markdown",
   "id": "dd19740a",
   "metadata": {},
   "source": [
    "Trasforma un df in un altro df dove ogni riga è una combinazione di id e variabile"
   ]
  },
  {
   "cell_type": "code",
   "id": "1b752b8e",
   "metadata": {
    "ExecuteTime": {
     "end_time": "2024-04-16T06:56:07.640971Z",
     "start_time": "2024-04-16T06:56:07.627010Z"
    }
   },
   "source": [
    "melted = pd.melt(s4p, id_vars = ['Date', 'Symbol'])\n",
    "melted.head()"
   ],
   "outputs": [
    {
     "data": {
      "text/plain": [
       "        Date Symbol variable      value\n",
       "0 2012-01-03   MSFT     Open  26.549999\n",
       "1 2012-01-03   AAPL     Open  14.621429\n",
       "2 2012-01-04   MSFT     Open  26.820000\n",
       "3 2012-01-04   AAPL     Open  14.642857\n",
       "4 2012-01-05   MSFT     Open  27.379999"
      ],
      "text/html": [
       "<div>\n",
       "<style scoped>\n",
       "    .dataframe tbody tr th:only-of-type {\n",
       "        vertical-align: middle;\n",
       "    }\n",
       "\n",
       "    .dataframe tbody tr th {\n",
       "        vertical-align: top;\n",
       "    }\n",
       "\n",
       "    .dataframe thead th {\n",
       "        text-align: right;\n",
       "    }\n",
       "</style>\n",
       "<table border=\"1\" class=\"dataframe\">\n",
       "  <thead>\n",
       "    <tr style=\"text-align: right;\">\n",
       "      <th></th>\n",
       "      <th>Date</th>\n",
       "      <th>Symbol</th>\n",
       "      <th>variable</th>\n",
       "      <th>value</th>\n",
       "    </tr>\n",
       "  </thead>\n",
       "  <tbody>\n",
       "    <tr>\n",
       "      <th>0</th>\n",
       "      <td>2012-01-03</td>\n",
       "      <td>MSFT</td>\n",
       "      <td>Open</td>\n",
       "      <td>26.549999</td>\n",
       "    </tr>\n",
       "    <tr>\n",
       "      <th>1</th>\n",
       "      <td>2012-01-03</td>\n",
       "      <td>AAPL</td>\n",
       "      <td>Open</td>\n",
       "      <td>14.621429</td>\n",
       "    </tr>\n",
       "    <tr>\n",
       "      <th>2</th>\n",
       "      <td>2012-01-04</td>\n",
       "      <td>MSFT</td>\n",
       "      <td>Open</td>\n",
       "      <td>26.820000</td>\n",
       "    </tr>\n",
       "    <tr>\n",
       "      <th>3</th>\n",
       "      <td>2012-01-04</td>\n",
       "      <td>AAPL</td>\n",
       "      <td>Open</td>\n",
       "      <td>14.642857</td>\n",
       "    </tr>\n",
       "    <tr>\n",
       "      <th>4</th>\n",
       "      <td>2012-01-05</td>\n",
       "      <td>MSFT</td>\n",
       "      <td>Open</td>\n",
       "      <td>27.379999</td>\n",
       "    </tr>\n",
       "  </tbody>\n",
       "</table>\n",
       "</div>"
      ]
     },
     "execution_count": 206,
     "metadata": {},
     "output_type": "execute_result"
    }
   ],
   "execution_count": 206
  },
  {
   "cell_type": "code",
   "id": "ec73e011",
   "metadata": {
    "ExecuteTime": {
     "end_time": "2024-04-16T06:56:07.656929Z",
     "start_time": "2024-04-16T06:56:07.641969Z"
    }
   },
   "source": [
    "melted[(melted.Date == '2012-01-03') & (melted.Symbol == 'MSFT')]"
   ],
   "outputs": [
    {
     "data": {
      "text/plain": [
       "           Date Symbol   variable         value\n",
       "0    2012-01-03   MSFT       Open  2.655000e+01\n",
       "498  2012-01-03   MSFT       High  2.696000e+01\n",
       "996  2012-01-03   MSFT        Low  2.639000e+01\n",
       "1494 2012-01-03   MSFT      Close  2.677000e+01\n",
       "1992 2012-01-03   MSFT  Adj Close  2.123875e+01\n",
       "2490 2012-01-03   MSFT     Volume  6.473150e+07"
      ],
      "text/html": [
       "<div>\n",
       "<style scoped>\n",
       "    .dataframe tbody tr th:only-of-type {\n",
       "        vertical-align: middle;\n",
       "    }\n",
       "\n",
       "    .dataframe tbody tr th {\n",
       "        vertical-align: top;\n",
       "    }\n",
       "\n",
       "    .dataframe thead th {\n",
       "        text-align: right;\n",
       "    }\n",
       "</style>\n",
       "<table border=\"1\" class=\"dataframe\">\n",
       "  <thead>\n",
       "    <tr style=\"text-align: right;\">\n",
       "      <th></th>\n",
       "      <th>Date</th>\n",
       "      <th>Symbol</th>\n",
       "      <th>variable</th>\n",
       "      <th>value</th>\n",
       "    </tr>\n",
       "  </thead>\n",
       "  <tbody>\n",
       "    <tr>\n",
       "      <th>0</th>\n",
       "      <td>2012-01-03</td>\n",
       "      <td>MSFT</td>\n",
       "      <td>Open</td>\n",
       "      <td>2.655000e+01</td>\n",
       "    </tr>\n",
       "    <tr>\n",
       "      <th>498</th>\n",
       "      <td>2012-01-03</td>\n",
       "      <td>MSFT</td>\n",
       "      <td>High</td>\n",
       "      <td>2.696000e+01</td>\n",
       "    </tr>\n",
       "    <tr>\n",
       "      <th>996</th>\n",
       "      <td>2012-01-03</td>\n",
       "      <td>MSFT</td>\n",
       "      <td>Low</td>\n",
       "      <td>2.639000e+01</td>\n",
       "    </tr>\n",
       "    <tr>\n",
       "      <th>1494</th>\n",
       "      <td>2012-01-03</td>\n",
       "      <td>MSFT</td>\n",
       "      <td>Close</td>\n",
       "      <td>2.677000e+01</td>\n",
       "    </tr>\n",
       "    <tr>\n",
       "      <th>1992</th>\n",
       "      <td>2012-01-03</td>\n",
       "      <td>MSFT</td>\n",
       "      <td>Adj Close</td>\n",
       "      <td>2.123875e+01</td>\n",
       "    </tr>\n",
       "    <tr>\n",
       "      <th>2490</th>\n",
       "      <td>2012-01-03</td>\n",
       "      <td>MSFT</td>\n",
       "      <td>Volume</td>\n",
       "      <td>6.473150e+07</td>\n",
       "    </tr>\n",
       "  </tbody>\n",
       "</table>\n",
       "</div>"
      ]
     },
     "execution_count": 207,
     "metadata": {},
     "output_type": "execute_result"
    }
   ],
   "execution_count": 207
  },
  {
   "cell_type": "markdown",
   "id": "f3494933",
   "metadata": {},
   "source": [
    "### Split - Combine - Apply\n",
    "\n",
    "#### pag. 63"
   ]
  },
  {
   "cell_type": "code",
   "id": "c6f71d0e",
   "metadata": {
    "ExecuteTime": {
     "end_time": "2024-04-16T06:56:07.672886Z",
     "start_time": "2024-04-16T06:56:07.657927Z"
    }
   },
   "source": [
    "s4g = combined[['Symbol', 'Adj Close']].reset_index()\n",
    "s4g"
   ],
   "outputs": [
    {
     "data": {
      "text/plain": [
       "          Date Symbol  Adj Close\n",
       "0   2012-01-03   MSFT  21.238752\n",
       "1   2012-01-03   AAPL  12.433825\n",
       "2   2012-01-04   MSFT  21.738583\n",
       "3   2012-01-04   AAPL  12.500644\n",
       "4   2012-01-05   MSFT  21.960728\n",
       "..         ...    ...        ...\n",
       "493 2012-12-26   MSFT  21.912830\n",
       "494 2012-12-27   AAPL  15.711494\n",
       "495 2012-12-27   MSFT  21.994410\n",
       "496 2012-12-28   MSFT  21.659929\n",
       "497 2012-12-28   AAPL  15.544634\n",
       "\n",
       "[498 rows x 3 columns]"
      ],
      "text/html": [
       "<div>\n",
       "<style scoped>\n",
       "    .dataframe tbody tr th:only-of-type {\n",
       "        vertical-align: middle;\n",
       "    }\n",
       "\n",
       "    .dataframe tbody tr th {\n",
       "        vertical-align: top;\n",
       "    }\n",
       "\n",
       "    .dataframe thead th {\n",
       "        text-align: right;\n",
       "    }\n",
       "</style>\n",
       "<table border=\"1\" class=\"dataframe\">\n",
       "  <thead>\n",
       "    <tr style=\"text-align: right;\">\n",
       "      <th></th>\n",
       "      <th>Date</th>\n",
       "      <th>Symbol</th>\n",
       "      <th>Adj Close</th>\n",
       "    </tr>\n",
       "  </thead>\n",
       "  <tbody>\n",
       "    <tr>\n",
       "      <th>0</th>\n",
       "      <td>2012-01-03</td>\n",
       "      <td>MSFT</td>\n",
       "      <td>21.238752</td>\n",
       "    </tr>\n",
       "    <tr>\n",
       "      <th>1</th>\n",
       "      <td>2012-01-03</td>\n",
       "      <td>AAPL</td>\n",
       "      <td>12.433825</td>\n",
       "    </tr>\n",
       "    <tr>\n",
       "      <th>2</th>\n",
       "      <td>2012-01-04</td>\n",
       "      <td>MSFT</td>\n",
       "      <td>21.738583</td>\n",
       "    </tr>\n",
       "    <tr>\n",
       "      <th>3</th>\n",
       "      <td>2012-01-04</td>\n",
       "      <td>AAPL</td>\n",
       "      <td>12.500644</td>\n",
       "    </tr>\n",
       "    <tr>\n",
       "      <th>4</th>\n",
       "      <td>2012-01-05</td>\n",
       "      <td>MSFT</td>\n",
       "      <td>21.960728</td>\n",
       "    </tr>\n",
       "    <tr>\n",
       "      <th>...</th>\n",
       "      <td>...</td>\n",
       "      <td>...</td>\n",
       "      <td>...</td>\n",
       "    </tr>\n",
       "    <tr>\n",
       "      <th>493</th>\n",
       "      <td>2012-12-26</td>\n",
       "      <td>MSFT</td>\n",
       "      <td>21.912830</td>\n",
       "    </tr>\n",
       "    <tr>\n",
       "      <th>494</th>\n",
       "      <td>2012-12-27</td>\n",
       "      <td>AAPL</td>\n",
       "      <td>15.711494</td>\n",
       "    </tr>\n",
       "    <tr>\n",
       "      <th>495</th>\n",
       "      <td>2012-12-27</td>\n",
       "      <td>MSFT</td>\n",
       "      <td>21.994410</td>\n",
       "    </tr>\n",
       "    <tr>\n",
       "      <th>496</th>\n",
       "      <td>2012-12-28</td>\n",
       "      <td>MSFT</td>\n",
       "      <td>21.659929</td>\n",
       "    </tr>\n",
       "    <tr>\n",
       "      <th>497</th>\n",
       "      <td>2012-12-28</td>\n",
       "      <td>AAPL</td>\n",
       "      <td>15.544634</td>\n",
       "    </tr>\n",
       "  </tbody>\n",
       "</table>\n",
       "<p>498 rows × 3 columns</p>\n",
       "</div>"
      ]
     },
     "execution_count": 208,
     "metadata": {},
     "output_type": "execute_result"
    }
   ],
   "execution_count": 208
  },
  {
   "cell_type": "code",
   "id": "067206d0",
   "metadata": {
    "ExecuteTime": {
     "end_time": "2024-04-16T06:56:07.687847Z",
     "start_time": "2024-04-16T06:56:07.673884Z"
    }
   },
   "source": [
    "s4g.insert(1,'Year',pd.DatetimeIndex(s4g['Date']).year)"
   ],
   "outputs": [],
   "execution_count": 209
  },
  {
   "cell_type": "code",
   "id": "45f19796",
   "metadata": {
    "ExecuteTime": {
     "end_time": "2024-04-16T06:56:07.703803Z",
     "start_time": "2024-04-16T06:56:07.688844Z"
    }
   },
   "source": [
    "s4g.insert(2,'Month',pd.DatetimeIndex(s4g['Date']).month)\n",
    "s4g"
   ],
   "outputs": [
    {
     "data": {
      "text/plain": [
       "          Date  Year  Month Symbol  Adj Close\n",
       "0   2012-01-03  2012      1   MSFT  21.238752\n",
       "1   2012-01-03  2012      1   AAPL  12.433825\n",
       "2   2012-01-04  2012      1   MSFT  21.738583\n",
       "3   2012-01-04  2012      1   AAPL  12.500644\n",
       "4   2012-01-05  2012      1   MSFT  21.960728\n",
       "..         ...   ...    ...    ...        ...\n",
       "493 2012-12-26  2012     12   MSFT  21.912830\n",
       "494 2012-12-27  2012     12   AAPL  15.711494\n",
       "495 2012-12-27  2012     12   MSFT  21.994410\n",
       "496 2012-12-28  2012     12   MSFT  21.659929\n",
       "497 2012-12-28  2012     12   AAPL  15.544634\n",
       "\n",
       "[498 rows x 5 columns]"
      ],
      "text/html": [
       "<div>\n",
       "<style scoped>\n",
       "    .dataframe tbody tr th:only-of-type {\n",
       "        vertical-align: middle;\n",
       "    }\n",
       "\n",
       "    .dataframe tbody tr th {\n",
       "        vertical-align: top;\n",
       "    }\n",
       "\n",
       "    .dataframe thead th {\n",
       "        text-align: right;\n",
       "    }\n",
       "</style>\n",
       "<table border=\"1\" class=\"dataframe\">\n",
       "  <thead>\n",
       "    <tr style=\"text-align: right;\">\n",
       "      <th></th>\n",
       "      <th>Date</th>\n",
       "      <th>Year</th>\n",
       "      <th>Month</th>\n",
       "      <th>Symbol</th>\n",
       "      <th>Adj Close</th>\n",
       "    </tr>\n",
       "  </thead>\n",
       "  <tbody>\n",
       "    <tr>\n",
       "      <th>0</th>\n",
       "      <td>2012-01-03</td>\n",
       "      <td>2012</td>\n",
       "      <td>1</td>\n",
       "      <td>MSFT</td>\n",
       "      <td>21.238752</td>\n",
       "    </tr>\n",
       "    <tr>\n",
       "      <th>1</th>\n",
       "      <td>2012-01-03</td>\n",
       "      <td>2012</td>\n",
       "      <td>1</td>\n",
       "      <td>AAPL</td>\n",
       "      <td>12.433825</td>\n",
       "    </tr>\n",
       "    <tr>\n",
       "      <th>2</th>\n",
       "      <td>2012-01-04</td>\n",
       "      <td>2012</td>\n",
       "      <td>1</td>\n",
       "      <td>MSFT</td>\n",
       "      <td>21.738583</td>\n",
       "    </tr>\n",
       "    <tr>\n",
       "      <th>3</th>\n",
       "      <td>2012-01-04</td>\n",
       "      <td>2012</td>\n",
       "      <td>1</td>\n",
       "      <td>AAPL</td>\n",
       "      <td>12.500644</td>\n",
       "    </tr>\n",
       "    <tr>\n",
       "      <th>4</th>\n",
       "      <td>2012-01-05</td>\n",
       "      <td>2012</td>\n",
       "      <td>1</td>\n",
       "      <td>MSFT</td>\n",
       "      <td>21.960728</td>\n",
       "    </tr>\n",
       "    <tr>\n",
       "      <th>...</th>\n",
       "      <td>...</td>\n",
       "      <td>...</td>\n",
       "      <td>...</td>\n",
       "      <td>...</td>\n",
       "      <td>...</td>\n",
       "    </tr>\n",
       "    <tr>\n",
       "      <th>493</th>\n",
       "      <td>2012-12-26</td>\n",
       "      <td>2012</td>\n",
       "      <td>12</td>\n",
       "      <td>MSFT</td>\n",
       "      <td>21.912830</td>\n",
       "    </tr>\n",
       "    <tr>\n",
       "      <th>494</th>\n",
       "      <td>2012-12-27</td>\n",
       "      <td>2012</td>\n",
       "      <td>12</td>\n",
       "      <td>AAPL</td>\n",
       "      <td>15.711494</td>\n",
       "    </tr>\n",
       "    <tr>\n",
       "      <th>495</th>\n",
       "      <td>2012-12-27</td>\n",
       "      <td>2012</td>\n",
       "      <td>12</td>\n",
       "      <td>MSFT</td>\n",
       "      <td>21.994410</td>\n",
       "    </tr>\n",
       "    <tr>\n",
       "      <th>496</th>\n",
       "      <td>2012-12-28</td>\n",
       "      <td>2012</td>\n",
       "      <td>12</td>\n",
       "      <td>MSFT</td>\n",
       "      <td>21.659929</td>\n",
       "    </tr>\n",
       "    <tr>\n",
       "      <th>497</th>\n",
       "      <td>2012-12-28</td>\n",
       "      <td>2012</td>\n",
       "      <td>12</td>\n",
       "      <td>AAPL</td>\n",
       "      <td>15.544634</td>\n",
       "    </tr>\n",
       "  </tbody>\n",
       "</table>\n",
       "<p>498 rows × 5 columns</p>\n",
       "</div>"
      ]
     },
     "execution_count": 210,
     "metadata": {},
     "output_type": "execute_result"
    }
   ],
   "execution_count": 210
  },
  {
   "cell_type": "code",
   "id": "8ef07b07",
   "metadata": {
    "ExecuteTime": {
     "end_time": "2024-04-16T06:56:07.719761Z",
     "start_time": "2024-04-16T06:56:07.704801Z"
    }
   },
   "source": [
    "s4g.groupby('Symbol')"
   ],
   "outputs": [
    {
     "data": {
      "text/plain": [
       "<pandas.core.groupby.generic.DataFrameGroupBy object at 0x000001664354B430>"
      ]
     },
     "execution_count": 211,
     "metadata": {},
     "output_type": "execute_result"
    }
   ],
   "execution_count": 211
  },
  {
   "cell_type": "code",
   "id": "b637beaf",
   "metadata": {
    "ExecuteTime": {
     "end_time": "2024-04-16T06:56:07.734721Z",
     "start_time": "2024-04-16T06:56:07.721756Z"
    }
   },
   "source": [],
   "outputs": [],
   "execution_count": 211
  }
 ],
 "metadata": {
  "kernelspec": {
   "display_name": "Python 3 (ipykernel)",
   "language": "python",
   "name": "python3"
  },
  "language_info": {
   "codemirror_mode": {
    "name": "ipython",
    "version": 3
   },
   "file_extension": ".py",
   "mimetype": "text/x-python",
   "name": "python",
   "nbconvert_exporter": "python",
   "pygments_lexer": "ipython3",
   "version": "3.10.2"
  }
 },
 "nbformat": 4,
 "nbformat_minor": 5
}
