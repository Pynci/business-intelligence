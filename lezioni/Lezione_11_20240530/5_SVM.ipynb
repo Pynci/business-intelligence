{
 "cells": [
  {
   "cell_type": "code",
   "execution_count": 1,
   "metadata": {
    "id": "t1k2uM3xGXXD"
   },
   "outputs": [],
   "source": [
    "from sklearn.svm import SVR\n",
    "import numpy as np\n",
    "import pandas as pd\n",
    "import matplotlib.pyplot as plt\n",
    "plt.style.use('fivethirtyeight')\n"
   ]
  },
  {
   "cell_type": "markdown",
   "metadata": {
    "id": "lBPAqV7DCoNV"
   },
   "source": [
    "Carichiamo un file csv con i prezzi di Facebook (Meta Platforms)"
   ]
  },
  {
   "cell_type": "code",
   "execution_count": 2,
   "metadata": {
    "colab": {
     "base_uri": "https://localhost:8080/",
     "height": 708
    },
    "id": "mbx4eb44IrXw",
    "outputId": "bfdfa1fd-5dfa-4095-cd37-98c29d792884"
   },
   "outputs": [
    {
     "data": {
      "text/html": [
       "<div>\n",
       "<style scoped>\n",
       "    .dataframe tbody tr th:only-of-type {\n",
       "        vertical-align: middle;\n",
       "    }\n",
       "\n",
       "    .dataframe tbody tr th {\n",
       "        vertical-align: top;\n",
       "    }\n",
       "\n",
       "    .dataframe thead th {\n",
       "        text-align: right;\n",
       "    }\n",
       "</style>\n",
       "<table border=\"1\" class=\"dataframe\">\n",
       "  <thead>\n",
       "    <tr style=\"text-align: right;\">\n",
       "      <th></th>\n",
       "      <th>Date</th>\n",
       "      <th>Open</th>\n",
       "      <th>High</th>\n",
       "      <th>Low</th>\n",
       "      <th>Close</th>\n",
       "      <th>Adj Close</th>\n",
       "      <th>Volume</th>\n",
       "    </tr>\n",
       "  </thead>\n",
       "  <tbody>\n",
       "    <tr>\n",
       "      <th>0</th>\n",
       "      <td>2019-05-01</td>\n",
       "      <td>194.779999</td>\n",
       "      <td>196.179993</td>\n",
       "      <td>193.009995</td>\n",
       "      <td>193.029999</td>\n",
       "      <td>193.029999</td>\n",
       "      <td>15996600</td>\n",
       "    </tr>\n",
       "    <tr>\n",
       "      <th>1</th>\n",
       "      <td>2019-05-02</td>\n",
       "      <td>193.000000</td>\n",
       "      <td>194.000000</td>\n",
       "      <td>189.750000</td>\n",
       "      <td>192.529999</td>\n",
       "      <td>192.529999</td>\n",
       "      <td>13209500</td>\n",
       "    </tr>\n",
       "    <tr>\n",
       "      <th>2</th>\n",
       "      <td>2019-05-03</td>\n",
       "      <td>194.380005</td>\n",
       "      <td>196.160004</td>\n",
       "      <td>193.710007</td>\n",
       "      <td>195.470001</td>\n",
       "      <td>195.470001</td>\n",
       "      <td>14575400</td>\n",
       "    </tr>\n",
       "    <tr>\n",
       "      <th>3</th>\n",
       "      <td>2019-05-06</td>\n",
       "      <td>191.240005</td>\n",
       "      <td>194.279999</td>\n",
       "      <td>190.550003</td>\n",
       "      <td>193.880005</td>\n",
       "      <td>193.880005</td>\n",
       "      <td>13994900</td>\n",
       "    </tr>\n",
       "    <tr>\n",
       "      <th>4</th>\n",
       "      <td>2019-05-07</td>\n",
       "      <td>192.539993</td>\n",
       "      <td>192.899994</td>\n",
       "      <td>187.850006</td>\n",
       "      <td>189.770004</td>\n",
       "      <td>189.770004</td>\n",
       "      <td>16253000</td>\n",
       "    </tr>\n",
       "    <tr>\n",
       "      <th>5</th>\n",
       "      <td>2019-05-08</td>\n",
       "      <td>189.389999</td>\n",
       "      <td>190.720001</td>\n",
       "      <td>188.550003</td>\n",
       "      <td>189.539993</td>\n",
       "      <td>189.539993</td>\n",
       "      <td>12505700</td>\n",
       "    </tr>\n",
       "    <tr>\n",
       "      <th>6</th>\n",
       "      <td>2019-05-09</td>\n",
       "      <td>187.199997</td>\n",
       "      <td>189.770004</td>\n",
       "      <td>186.259995</td>\n",
       "      <td>188.649994</td>\n",
       "      <td>188.649994</td>\n",
       "      <td>12967000</td>\n",
       "    </tr>\n",
       "    <tr>\n",
       "      <th>7</th>\n",
       "      <td>2019-05-10</td>\n",
       "      <td>188.250000</td>\n",
       "      <td>190.000000</td>\n",
       "      <td>184.589996</td>\n",
       "      <td>188.339996</td>\n",
       "      <td>188.339996</td>\n",
       "      <td>12578500</td>\n",
       "    </tr>\n",
       "    <tr>\n",
       "      <th>8</th>\n",
       "      <td>2019-05-13</td>\n",
       "      <td>183.500000</td>\n",
       "      <td>185.429993</td>\n",
       "      <td>180.839996</td>\n",
       "      <td>181.539993</td>\n",
       "      <td>181.539993</td>\n",
       "      <td>16833300</td>\n",
       "    </tr>\n",
       "    <tr>\n",
       "      <th>9</th>\n",
       "      <td>2019-05-14</td>\n",
       "      <td>182.520004</td>\n",
       "      <td>183.490005</td>\n",
       "      <td>178.100006</td>\n",
       "      <td>180.729996</td>\n",
       "      <td>180.729996</td>\n",
       "      <td>17628100</td>\n",
       "    </tr>\n",
       "    <tr>\n",
       "      <th>10</th>\n",
       "      <td>2019-05-15</td>\n",
       "      <td>180.419998</td>\n",
       "      <td>187.279999</td>\n",
       "      <td>180.020004</td>\n",
       "      <td>186.270004</td>\n",
       "      <td>186.270004</td>\n",
       "      <td>16746900</td>\n",
       "    </tr>\n",
       "    <tr>\n",
       "      <th>11</th>\n",
       "      <td>2019-05-16</td>\n",
       "      <td>185.050003</td>\n",
       "      <td>188.580002</td>\n",
       "      <td>185.050003</td>\n",
       "      <td>186.990005</td>\n",
       "      <td>186.990005</td>\n",
       "      <td>12953100</td>\n",
       "    </tr>\n",
       "    <tr>\n",
       "      <th>12</th>\n",
       "      <td>2019-05-17</td>\n",
       "      <td>184.839996</td>\n",
       "      <td>187.580002</td>\n",
       "      <td>184.279999</td>\n",
       "      <td>185.300003</td>\n",
       "      <td>185.300003</td>\n",
       "      <td>10485400</td>\n",
       "    </tr>\n",
       "    <tr>\n",
       "      <th>13</th>\n",
       "      <td>2019-05-20</td>\n",
       "      <td>181.880005</td>\n",
       "      <td>184.229996</td>\n",
       "      <td>181.369995</td>\n",
       "      <td>182.720001</td>\n",
       "      <td>182.720001</td>\n",
       "      <td>10352000</td>\n",
       "    </tr>\n",
       "    <tr>\n",
       "      <th>14</th>\n",
       "      <td>2019-05-21</td>\n",
       "      <td>184.570007</td>\n",
       "      <td>185.699997</td>\n",
       "      <td>183.889999</td>\n",
       "      <td>184.820007</td>\n",
       "      <td>184.820007</td>\n",
       "      <td>7502800</td>\n",
       "    </tr>\n",
       "    <tr>\n",
       "      <th>15</th>\n",
       "      <td>2019-05-22</td>\n",
       "      <td>184.729996</td>\n",
       "      <td>186.740005</td>\n",
       "      <td>183.610001</td>\n",
       "      <td>185.320007</td>\n",
       "      <td>185.320007</td>\n",
       "      <td>9213800</td>\n",
       "    </tr>\n",
       "    <tr>\n",
       "      <th>16</th>\n",
       "      <td>2019-05-23</td>\n",
       "      <td>182.419998</td>\n",
       "      <td>183.899994</td>\n",
       "      <td>179.669998</td>\n",
       "      <td>180.869995</td>\n",
       "      <td>180.869995</td>\n",
       "      <td>12768800</td>\n",
       "    </tr>\n",
       "    <tr>\n",
       "      <th>17</th>\n",
       "      <td>2019-05-24</td>\n",
       "      <td>182.330002</td>\n",
       "      <td>183.630005</td>\n",
       "      <td>180.830002</td>\n",
       "      <td>181.059998</td>\n",
       "      <td>181.059998</td>\n",
       "      <td>8807700</td>\n",
       "    </tr>\n",
       "    <tr>\n",
       "      <th>18</th>\n",
       "      <td>2019-05-28</td>\n",
       "      <td>181.539993</td>\n",
       "      <td>184.710007</td>\n",
       "      <td>181.449997</td>\n",
       "      <td>184.309998</td>\n",
       "      <td>184.309998</td>\n",
       "      <td>14843300</td>\n",
       "    </tr>\n",
       "    <tr>\n",
       "      <th>19</th>\n",
       "      <td>2019-05-29</td>\n",
       "      <td>183.500000</td>\n",
       "      <td>184.559998</td>\n",
       "      <td>181.350006</td>\n",
       "      <td>182.190002</td>\n",
       "      <td>182.190002</td>\n",
       "      <td>12797700</td>\n",
       "    </tr>\n",
       "    <tr>\n",
       "      <th>20</th>\n",
       "      <td>2019-05-30</td>\n",
       "      <td>183.080002</td>\n",
       "      <td>183.479996</td>\n",
       "      <td>180.889999</td>\n",
       "      <td>183.009995</td>\n",
       "      <td>183.009995</td>\n",
       "      <td>8581500</td>\n",
       "    </tr>\n",
       "    <tr>\n",
       "      <th>21</th>\n",
       "      <td>2019-05-31</td>\n",
       "      <td>180.279999</td>\n",
       "      <td>180.539993</td>\n",
       "      <td>177.160004</td>\n",
       "      <td>177.470001</td>\n",
       "      <td>177.470001</td>\n",
       "      <td>15226500</td>\n",
       "    </tr>\n",
       "  </tbody>\n",
       "</table>\n",
       "</div>"
      ],
      "text/plain": [
       "          Date        Open        High         Low       Close   Adj Close  \\\n",
       "0   2019-05-01  194.779999  196.179993  193.009995  193.029999  193.029999   \n",
       "1   2019-05-02  193.000000  194.000000  189.750000  192.529999  192.529999   \n",
       "2   2019-05-03  194.380005  196.160004  193.710007  195.470001  195.470001   \n",
       "3   2019-05-06  191.240005  194.279999  190.550003  193.880005  193.880005   \n",
       "4   2019-05-07  192.539993  192.899994  187.850006  189.770004  189.770004   \n",
       "5   2019-05-08  189.389999  190.720001  188.550003  189.539993  189.539993   \n",
       "6   2019-05-09  187.199997  189.770004  186.259995  188.649994  188.649994   \n",
       "7   2019-05-10  188.250000  190.000000  184.589996  188.339996  188.339996   \n",
       "8   2019-05-13  183.500000  185.429993  180.839996  181.539993  181.539993   \n",
       "9   2019-05-14  182.520004  183.490005  178.100006  180.729996  180.729996   \n",
       "10  2019-05-15  180.419998  187.279999  180.020004  186.270004  186.270004   \n",
       "11  2019-05-16  185.050003  188.580002  185.050003  186.990005  186.990005   \n",
       "12  2019-05-17  184.839996  187.580002  184.279999  185.300003  185.300003   \n",
       "13  2019-05-20  181.880005  184.229996  181.369995  182.720001  182.720001   \n",
       "14  2019-05-21  184.570007  185.699997  183.889999  184.820007  184.820007   \n",
       "15  2019-05-22  184.729996  186.740005  183.610001  185.320007  185.320007   \n",
       "16  2019-05-23  182.419998  183.899994  179.669998  180.869995  180.869995   \n",
       "17  2019-05-24  182.330002  183.630005  180.830002  181.059998  181.059998   \n",
       "18  2019-05-28  181.539993  184.710007  181.449997  184.309998  184.309998   \n",
       "19  2019-05-29  183.500000  184.559998  181.350006  182.190002  182.190002   \n",
       "20  2019-05-30  183.080002  183.479996  180.889999  183.009995  183.009995   \n",
       "21  2019-05-31  180.279999  180.539993  177.160004  177.470001  177.470001   \n",
       "\n",
       "      Volume  \n",
       "0   15996600  \n",
       "1   13209500  \n",
       "2   14575400  \n",
       "3   13994900  \n",
       "4   16253000  \n",
       "5   12505700  \n",
       "6   12967000  \n",
       "7   12578500  \n",
       "8   16833300  \n",
       "9   17628100  \n",
       "10  16746900  \n",
       "11  12953100  \n",
       "12  10485400  \n",
       "13  10352000  \n",
       "14   7502800  \n",
       "15   9213800  \n",
       "16  12768800  \n",
       "17   8807700  \n",
       "18  14843300  \n",
       "19  12797700  \n",
       "20   8581500  \n",
       "21  15226500  "
      ]
     },
     "execution_count": 2,
     "metadata": {},
     "output_type": "execute_result"
    }
   ],
   "source": [
    "df = pd.read_csv('FB.csv')\n",
    "df"
   ]
  },
  {
   "cell_type": "code",
   "execution_count": 3,
   "metadata": {
    "colab": {
     "base_uri": "https://localhost:8080/"
    },
    "id": "NqYyWZ3_JASh",
    "outputId": "7b9abf69-aa2b-4f87-ee48-8cfa44c7e816"
   },
   "outputs": [
    {
     "data": {
      "text/plain": [
       "(22, 7)"
      ]
     },
     "execution_count": 3,
     "metadata": {},
     "output_type": "execute_result"
    }
   ],
   "source": [
    "df.shape"
   ]
  },
  {
   "cell_type": "markdown",
   "metadata": {
    "id": "wbT6mu7ZCoNY"
   },
   "source": [
    "Estraiamo dal df l'ultima riga che contiene il valore che vogliamo prevedere"
   ]
  },
  {
   "cell_type": "code",
   "execution_count": 4,
   "metadata": {
    "id": "9Vg6aqPMJHNa"
   },
   "outputs": [],
   "source": [
    "actual_price = df.tail(1)"
   ]
  },
  {
   "cell_type": "code",
   "execution_count": 5,
   "metadata": {
    "colab": {
     "base_uri": "https://localhost:8080/",
     "height": 81
    },
    "id": "WZrp0ahrJQu_",
    "outputId": "c64810b5-3951-42b3-b478-ea055fd2655f"
   },
   "outputs": [
    {
     "data": {
      "text/html": [
       "<div>\n",
       "<style scoped>\n",
       "    .dataframe tbody tr th:only-of-type {\n",
       "        vertical-align: middle;\n",
       "    }\n",
       "\n",
       "    .dataframe tbody tr th {\n",
       "        vertical-align: top;\n",
       "    }\n",
       "\n",
       "    .dataframe thead th {\n",
       "        text-align: right;\n",
       "    }\n",
       "</style>\n",
       "<table border=\"1\" class=\"dataframe\">\n",
       "  <thead>\n",
       "    <tr style=\"text-align: right;\">\n",
       "      <th></th>\n",
       "      <th>Date</th>\n",
       "      <th>Open</th>\n",
       "      <th>High</th>\n",
       "      <th>Low</th>\n",
       "      <th>Close</th>\n",
       "      <th>Adj Close</th>\n",
       "      <th>Volume</th>\n",
       "    </tr>\n",
       "  </thead>\n",
       "  <tbody>\n",
       "    <tr>\n",
       "      <th>21</th>\n",
       "      <td>2019-05-31</td>\n",
       "      <td>180.279999</td>\n",
       "      <td>180.539993</td>\n",
       "      <td>177.160004</td>\n",
       "      <td>177.470001</td>\n",
       "      <td>177.470001</td>\n",
       "      <td>15226500</td>\n",
       "    </tr>\n",
       "  </tbody>\n",
       "</table>\n",
       "</div>"
      ],
      "text/plain": [
       "          Date        Open        High         Low       Close   Adj Close  \\\n",
       "21  2019-05-31  180.279999  180.539993  177.160004  177.470001  177.470001   \n",
       "\n",
       "      Volume  \n",
       "21  15226500  "
      ]
     },
     "execution_count": 5,
     "metadata": {},
     "output_type": "execute_result"
    }
   ],
   "source": [
    "actual_price"
   ]
  },
  {
   "cell_type": "code",
   "execution_count": 6,
   "metadata": {
    "colab": {
     "base_uri": "https://localhost:8080/"
    },
    "id": "GelYCnTrJUXl",
    "outputId": "d6d05f50-9e7a-4e30-ae39-1aab3caca25e"
   },
   "outputs": [
    {
     "name": "stdout",
     "output_type": "stream",
     "text": [
      "          Date        Open        High         Low       Close   Adj Close  \\\n",
      "0   2019-05-01  194.779999  196.179993  193.009995  193.029999  193.029999   \n",
      "1   2019-05-02  193.000000  194.000000  189.750000  192.529999  192.529999   \n",
      "2   2019-05-03  194.380005  196.160004  193.710007  195.470001  195.470001   \n",
      "3   2019-05-06  191.240005  194.279999  190.550003  193.880005  193.880005   \n",
      "4   2019-05-07  192.539993  192.899994  187.850006  189.770004  189.770004   \n",
      "5   2019-05-08  189.389999  190.720001  188.550003  189.539993  189.539993   \n",
      "6   2019-05-09  187.199997  189.770004  186.259995  188.649994  188.649994   \n",
      "7   2019-05-10  188.250000  190.000000  184.589996  188.339996  188.339996   \n",
      "8   2019-05-13  183.500000  185.429993  180.839996  181.539993  181.539993   \n",
      "9   2019-05-14  182.520004  183.490005  178.100006  180.729996  180.729996   \n",
      "10  2019-05-15  180.419998  187.279999  180.020004  186.270004  186.270004   \n",
      "11  2019-05-16  185.050003  188.580002  185.050003  186.990005  186.990005   \n",
      "12  2019-05-17  184.839996  187.580002  184.279999  185.300003  185.300003   \n",
      "13  2019-05-20  181.880005  184.229996  181.369995  182.720001  182.720001   \n",
      "14  2019-05-21  184.570007  185.699997  183.889999  184.820007  184.820007   \n",
      "15  2019-05-22  184.729996  186.740005  183.610001  185.320007  185.320007   \n",
      "16  2019-05-23  182.419998  183.899994  179.669998  180.869995  180.869995   \n",
      "17  2019-05-24  182.330002  183.630005  180.830002  181.059998  181.059998   \n",
      "18  2019-05-28  181.539993  184.710007  181.449997  184.309998  184.309998   \n",
      "19  2019-05-29  183.500000  184.559998  181.350006  182.190002  182.190002   \n",
      "20  2019-05-30  183.080002  183.479996  180.889999  183.009995  183.009995   \n",
      "\n",
      "      Volume  \n",
      "0   15996600  \n",
      "1   13209500  \n",
      "2   14575400  \n",
      "3   13994900  \n",
      "4   16253000  \n",
      "5   12505700  \n",
      "6   12967000  \n",
      "7   12578500  \n",
      "8   16833300  \n",
      "9   17628100  \n",
      "10  16746900  \n",
      "11  12953100  \n",
      "12  10485400  \n",
      "13  10352000  \n",
      "14   7502800  \n",
      "15   9213800  \n",
      "16  12768800  \n",
      "17   8807700  \n",
      "18  14843300  \n",
      "19  12797700  \n",
      "20   8581500  \n"
     ]
    }
   ],
   "source": [
    "df = df.head(len(df)-1)\n",
    "print(df)"
   ]
  },
  {
   "cell_type": "markdown",
   "metadata": {
    "id": "OArMvWDACoNZ"
   },
   "source": [
    "Creiamo due liste vuote dove mettere le variabili indipendente e dipendente"
   ]
  },
  {
   "cell_type": "code",
   "execution_count": 7,
   "metadata": {
    "id": "Feqhz4tRJjHQ"
   },
   "outputs": [],
   "source": [
    "days = list()\n",
    "adj_close_prices = list()"
   ]
  },
  {
   "cell_type": "markdown",
   "metadata": {
    "id": "k0jw8hcWCoNa"
   },
   "source": [
    "Estraiamo i dati"
   ]
  },
  {
   "cell_type": "code",
   "execution_count": 8,
   "metadata": {
    "id": "I_gaeAtxKID8"
   },
   "outputs": [],
   "source": [
    "df_days = df.loc[:,'Date']\n",
    "df_adj_close = df.loc[:,'Adj Close']"
   ]
  },
  {
   "cell_type": "code",
   "execution_count": 9,
   "metadata": {
    "id": "pfXeBP_eKf15"
   },
   "outputs": [],
   "source": [
    "# Variabile indipendente\n",
    "for day in df_days:\n",
    "  days.append([int(day.split('-')[2])])"
   ]
  },
  {
   "cell_type": "code",
   "execution_count": 10,
   "metadata": {
    "id": "zwU3izrzL4-4"
   },
   "outputs": [],
   "source": [
    "#Variabile dipendente\n",
    "for adj_close_price in df_adj_close:\n",
    "    adj_close_prices.append(float(adj_close_price))"
   ]
  },
  {
   "cell_type": "markdown",
   "metadata": {
    "id": "KUsnZ0_JCoNb"
   },
   "source": [
    "Stampiamo i dati"
   ]
  },
  {
   "cell_type": "code",
   "execution_count": 11,
   "metadata": {
    "id": "jSALEMFqCoNb",
    "outputId": "d44024b7-66db-4d2b-9dee-cbdfae1d9415"
   },
   "outputs": [
    {
     "name": "stdout",
     "output_type": "stream",
     "text": [
      "[193.029999, 192.529999, 195.470001, 193.880005, 189.770004, 189.539993, 188.649994, 188.339996, 181.539993, 180.729996, 186.270004, 186.990005, 185.300003, 182.720001, 184.820007, 185.320007, 180.869995, 181.059998, 184.309998, 182.190002, 183.009995]\n",
      "[[1], [2], [3], [6], [7], [8], [9], [10], [13], [14], [15], [16], [17], [20], [21], [22], [23], [24], [28], [29], [30]]\n"
     ]
    }
   ],
   "source": [
    "print(adj_close_prices)\n",
    "print(days)"
   ]
  },
  {
   "cell_type": "markdown",
   "metadata": {
    "id": "g2YNocTHCoNb"
   },
   "source": [
    "Creiamo i 3 Support Vector Regression Models"
   ]
  },
  {
   "cell_type": "markdown",
   "metadata": {
    "id": "-sD-6_rSCoNc"
   },
   "source": [
    "SVR 1 - Kernel lineare"
   ]
  },
  {
   "cell_type": "code",
   "execution_count": 17,
   "metadata": {
    "id": "rTp6Q4w4CoNc",
    "outputId": "d755e2ee-5edf-4d1d-a791-b69c95c6aed7"
   },
   "outputs": [
    {
     "data": {
      "text/html": [
       "<style>#sk-container-id-4 {color: black;background-color: white;}#sk-container-id-4 pre{padding: 0;}#sk-container-id-4 div.sk-toggleable {background-color: white;}#sk-container-id-4 label.sk-toggleable__label {cursor: pointer;display: block;width: 100%;margin-bottom: 0;padding: 0.3em;box-sizing: border-box;text-align: center;}#sk-container-id-4 label.sk-toggleable__label-arrow:before {content: \"▸\";float: left;margin-right: 0.25em;color: #696969;}#sk-container-id-4 label.sk-toggleable__label-arrow:hover:before {color: black;}#sk-container-id-4 div.sk-estimator:hover label.sk-toggleable__label-arrow:before {color: black;}#sk-container-id-4 div.sk-toggleable__content {max-height: 0;max-width: 0;overflow: hidden;text-align: left;background-color: #f0f8ff;}#sk-container-id-4 div.sk-toggleable__content pre {margin: 0.2em;color: black;border-radius: 0.25em;background-color: #f0f8ff;}#sk-container-id-4 input.sk-toggleable__control:checked~div.sk-toggleable__content {max-height: 200px;max-width: 100%;overflow: auto;}#sk-container-id-4 input.sk-toggleable__control:checked~label.sk-toggleable__label-arrow:before {content: \"▾\";}#sk-container-id-4 div.sk-estimator input.sk-toggleable__control:checked~label.sk-toggleable__label {background-color: #d4ebff;}#sk-container-id-4 div.sk-label input.sk-toggleable__control:checked~label.sk-toggleable__label {background-color: #d4ebff;}#sk-container-id-4 input.sk-hidden--visually {border: 0;clip: rect(1px 1px 1px 1px);clip: rect(1px, 1px, 1px, 1px);height: 1px;margin: -1px;overflow: hidden;padding: 0;position: absolute;width: 1px;}#sk-container-id-4 div.sk-estimator {font-family: monospace;background-color: #f0f8ff;border: 1px dotted black;border-radius: 0.25em;box-sizing: border-box;margin-bottom: 0.5em;}#sk-container-id-4 div.sk-estimator:hover {background-color: #d4ebff;}#sk-container-id-4 div.sk-parallel-item::after {content: \"\";width: 100%;border-bottom: 1px solid gray;flex-grow: 1;}#sk-container-id-4 div.sk-label:hover label.sk-toggleable__label {background-color: #d4ebff;}#sk-container-id-4 div.sk-serial::before {content: \"\";position: absolute;border-left: 1px solid gray;box-sizing: border-box;top: 0;bottom: 0;left: 50%;z-index: 0;}#sk-container-id-4 div.sk-serial {display: flex;flex-direction: column;align-items: center;background-color: white;padding-right: 0.2em;padding-left: 0.2em;position: relative;}#sk-container-id-4 div.sk-item {position: relative;z-index: 1;}#sk-container-id-4 div.sk-parallel {display: flex;align-items: stretch;justify-content: center;background-color: white;position: relative;}#sk-container-id-4 div.sk-item::before, #sk-container-id-4 div.sk-parallel-item::before {content: \"\";position: absolute;border-left: 1px solid gray;box-sizing: border-box;top: 0;bottom: 0;left: 50%;z-index: -1;}#sk-container-id-4 div.sk-parallel-item {display: flex;flex-direction: column;z-index: 1;position: relative;background-color: white;}#sk-container-id-4 div.sk-parallel-item:first-child::after {align-self: flex-end;width: 50%;}#sk-container-id-4 div.sk-parallel-item:last-child::after {align-self: flex-start;width: 50%;}#sk-container-id-4 div.sk-parallel-item:only-child::after {width: 0;}#sk-container-id-4 div.sk-dashed-wrapped {border: 1px dashed gray;margin: 0 0.4em 0.5em 0.4em;box-sizing: border-box;padding-bottom: 0.4em;background-color: white;}#sk-container-id-4 div.sk-label label {font-family: monospace;font-weight: bold;display: inline-block;line-height: 1.2em;}#sk-container-id-4 div.sk-label-container {text-align: center;}#sk-container-id-4 div.sk-container {/* jupyter's `normalize.less` sets `[hidden] { display: none; }` but bootstrap.min.css set `[hidden] { display: none !important; }` so we also need the `!important` here to be able to override the default hidden behavior on the sphinx rendered scikit-learn.org. See: https://github.com/scikit-learn/scikit-learn/issues/21755 */display: inline-block !important;position: relative;}#sk-container-id-4 div.sk-text-repr-fallback {display: none;}</style><div id=\"sk-container-id-4\" class=\"sk-top-container\"><div class=\"sk-text-repr-fallback\"><pre>SVR(C=1000.0, kernel=&#x27;linear&#x27;)</pre><b>In a Jupyter environment, please rerun this cell to show the HTML representation or trust the notebook. <br />On GitHub, the HTML representation is unable to render, please try loading this page with nbviewer.org.</b></div><div class=\"sk-container\" hidden><div class=\"sk-item\"><div class=\"sk-estimator sk-toggleable\"><input class=\"sk-toggleable__control sk-hidden--visually\" id=\"sk-estimator-id-4\" type=\"checkbox\" checked><label for=\"sk-estimator-id-4\" class=\"sk-toggleable__label sk-toggleable__label-arrow\">SVR</label><div class=\"sk-toggleable__content\"><pre>SVR(C=1000.0, kernel=&#x27;linear&#x27;)</pre></div></div></div></div></div>"
      ],
      "text/plain": [
       "SVR(C=1000.0, kernel='linear')"
      ]
     },
     "execution_count": 17,
     "metadata": {},
     "output_type": "execute_result"
    }
   ],
   "source": [
    "lin_svr = SVR(kernel='linear', C = 1000.0)\n",
    "lin_svr.fit(days, adj_close_prices)"
   ]
  },
  {
   "cell_type": "markdown",
   "metadata": {
    "id": "ofYdDerpCoNc"
   },
   "source": [
    "SVR 2 - Kernel polinomiale"
   ]
  },
  {
   "cell_type": "code",
   "execution_count": 18,
   "metadata": {
    "id": "evpITXd_CoNc",
    "outputId": "ab6870d6-6e45-4196-b236-df498cc8f5d5"
   },
   "outputs": [
    {
     "data": {
      "text/html": [
       "<style>#sk-container-id-5 {color: black;background-color: white;}#sk-container-id-5 pre{padding: 0;}#sk-container-id-5 div.sk-toggleable {background-color: white;}#sk-container-id-5 label.sk-toggleable__label {cursor: pointer;display: block;width: 100%;margin-bottom: 0;padding: 0.3em;box-sizing: border-box;text-align: center;}#sk-container-id-5 label.sk-toggleable__label-arrow:before {content: \"▸\";float: left;margin-right: 0.25em;color: #696969;}#sk-container-id-5 label.sk-toggleable__label-arrow:hover:before {color: black;}#sk-container-id-5 div.sk-estimator:hover label.sk-toggleable__label-arrow:before {color: black;}#sk-container-id-5 div.sk-toggleable__content {max-height: 0;max-width: 0;overflow: hidden;text-align: left;background-color: #f0f8ff;}#sk-container-id-5 div.sk-toggleable__content pre {margin: 0.2em;color: black;border-radius: 0.25em;background-color: #f0f8ff;}#sk-container-id-5 input.sk-toggleable__control:checked~div.sk-toggleable__content {max-height: 200px;max-width: 100%;overflow: auto;}#sk-container-id-5 input.sk-toggleable__control:checked~label.sk-toggleable__label-arrow:before {content: \"▾\";}#sk-container-id-5 div.sk-estimator input.sk-toggleable__control:checked~label.sk-toggleable__label {background-color: #d4ebff;}#sk-container-id-5 div.sk-label input.sk-toggleable__control:checked~label.sk-toggleable__label {background-color: #d4ebff;}#sk-container-id-5 input.sk-hidden--visually {border: 0;clip: rect(1px 1px 1px 1px);clip: rect(1px, 1px, 1px, 1px);height: 1px;margin: -1px;overflow: hidden;padding: 0;position: absolute;width: 1px;}#sk-container-id-5 div.sk-estimator {font-family: monospace;background-color: #f0f8ff;border: 1px dotted black;border-radius: 0.25em;box-sizing: border-box;margin-bottom: 0.5em;}#sk-container-id-5 div.sk-estimator:hover {background-color: #d4ebff;}#sk-container-id-5 div.sk-parallel-item::after {content: \"\";width: 100%;border-bottom: 1px solid gray;flex-grow: 1;}#sk-container-id-5 div.sk-label:hover label.sk-toggleable__label {background-color: #d4ebff;}#sk-container-id-5 div.sk-serial::before {content: \"\";position: absolute;border-left: 1px solid gray;box-sizing: border-box;top: 0;bottom: 0;left: 50%;z-index: 0;}#sk-container-id-5 div.sk-serial {display: flex;flex-direction: column;align-items: center;background-color: white;padding-right: 0.2em;padding-left: 0.2em;position: relative;}#sk-container-id-5 div.sk-item {position: relative;z-index: 1;}#sk-container-id-5 div.sk-parallel {display: flex;align-items: stretch;justify-content: center;background-color: white;position: relative;}#sk-container-id-5 div.sk-item::before, #sk-container-id-5 div.sk-parallel-item::before {content: \"\";position: absolute;border-left: 1px solid gray;box-sizing: border-box;top: 0;bottom: 0;left: 50%;z-index: -1;}#sk-container-id-5 div.sk-parallel-item {display: flex;flex-direction: column;z-index: 1;position: relative;background-color: white;}#sk-container-id-5 div.sk-parallel-item:first-child::after {align-self: flex-end;width: 50%;}#sk-container-id-5 div.sk-parallel-item:last-child::after {align-self: flex-start;width: 50%;}#sk-container-id-5 div.sk-parallel-item:only-child::after {width: 0;}#sk-container-id-5 div.sk-dashed-wrapped {border: 1px dashed gray;margin: 0 0.4em 0.5em 0.4em;box-sizing: border-box;padding-bottom: 0.4em;background-color: white;}#sk-container-id-5 div.sk-label label {font-family: monospace;font-weight: bold;display: inline-block;line-height: 1.2em;}#sk-container-id-5 div.sk-label-container {text-align: center;}#sk-container-id-5 div.sk-container {/* jupyter's `normalize.less` sets `[hidden] { display: none; }` but bootstrap.min.css set `[hidden] { display: none !important; }` so we also need the `!important` here to be able to override the default hidden behavior on the sphinx rendered scikit-learn.org. See: https://github.com/scikit-learn/scikit-learn/issues/21755 */display: inline-block !important;position: relative;}#sk-container-id-5 div.sk-text-repr-fallback {display: none;}</style><div id=\"sk-container-id-5\" class=\"sk-top-container\"><div class=\"sk-text-repr-fallback\"><pre>SVR(C=1000.0, degree=2, kernel=&#x27;poly&#x27;)</pre><b>In a Jupyter environment, please rerun this cell to show the HTML representation or trust the notebook. <br />On GitHub, the HTML representation is unable to render, please try loading this page with nbviewer.org.</b></div><div class=\"sk-container\" hidden><div class=\"sk-item\"><div class=\"sk-estimator sk-toggleable\"><input class=\"sk-toggleable__control sk-hidden--visually\" id=\"sk-estimator-id-5\" type=\"checkbox\" checked><label for=\"sk-estimator-id-5\" class=\"sk-toggleable__label sk-toggleable__label-arrow\">SVR</label><div class=\"sk-toggleable__content\"><pre>SVR(C=1000.0, degree=2, kernel=&#x27;poly&#x27;)</pre></div></div></div></div></div>"
      ],
      "text/plain": [
       "SVR(C=1000.0, degree=2, kernel='poly')"
      ]
     },
     "execution_count": 18,
     "metadata": {},
     "output_type": "execute_result"
    }
   ],
   "source": [
    "poly_svr = SVR(kernel='poly', C = 1000.0, degree = 2)\n",
    "poly_svr.fit(days, adj_close_prices)"
   ]
  },
  {
   "cell_type": "markdown",
   "metadata": {
    "id": "wrc3kHzoCoNc"
   },
   "source": [
    "SVR 3 - Kernel RBF (Radial Basis Function)"
   ]
  },
  {
   "cell_type": "code",
   "execution_count": 19,
   "metadata": {
    "id": "0m48nlI0CoNc",
    "outputId": "22428fc2-f63f-468e-c6ba-fe3c775055b9"
   },
   "outputs": [
    {
     "data": {
      "text/html": [
       "<style>#sk-container-id-6 {color: black;background-color: white;}#sk-container-id-6 pre{padding: 0;}#sk-container-id-6 div.sk-toggleable {background-color: white;}#sk-container-id-6 label.sk-toggleable__label {cursor: pointer;display: block;width: 100%;margin-bottom: 0;padding: 0.3em;box-sizing: border-box;text-align: center;}#sk-container-id-6 label.sk-toggleable__label-arrow:before {content: \"▸\";float: left;margin-right: 0.25em;color: #696969;}#sk-container-id-6 label.sk-toggleable__label-arrow:hover:before {color: black;}#sk-container-id-6 div.sk-estimator:hover label.sk-toggleable__label-arrow:before {color: black;}#sk-container-id-6 div.sk-toggleable__content {max-height: 0;max-width: 0;overflow: hidden;text-align: left;background-color: #f0f8ff;}#sk-container-id-6 div.sk-toggleable__content pre {margin: 0.2em;color: black;border-radius: 0.25em;background-color: #f0f8ff;}#sk-container-id-6 input.sk-toggleable__control:checked~div.sk-toggleable__content {max-height: 200px;max-width: 100%;overflow: auto;}#sk-container-id-6 input.sk-toggleable__control:checked~label.sk-toggleable__label-arrow:before {content: \"▾\";}#sk-container-id-6 div.sk-estimator input.sk-toggleable__control:checked~label.sk-toggleable__label {background-color: #d4ebff;}#sk-container-id-6 div.sk-label input.sk-toggleable__control:checked~label.sk-toggleable__label {background-color: #d4ebff;}#sk-container-id-6 input.sk-hidden--visually {border: 0;clip: rect(1px 1px 1px 1px);clip: rect(1px, 1px, 1px, 1px);height: 1px;margin: -1px;overflow: hidden;padding: 0;position: absolute;width: 1px;}#sk-container-id-6 div.sk-estimator {font-family: monospace;background-color: #f0f8ff;border: 1px dotted black;border-radius: 0.25em;box-sizing: border-box;margin-bottom: 0.5em;}#sk-container-id-6 div.sk-estimator:hover {background-color: #d4ebff;}#sk-container-id-6 div.sk-parallel-item::after {content: \"\";width: 100%;border-bottom: 1px solid gray;flex-grow: 1;}#sk-container-id-6 div.sk-label:hover label.sk-toggleable__label {background-color: #d4ebff;}#sk-container-id-6 div.sk-serial::before {content: \"\";position: absolute;border-left: 1px solid gray;box-sizing: border-box;top: 0;bottom: 0;left: 50%;z-index: 0;}#sk-container-id-6 div.sk-serial {display: flex;flex-direction: column;align-items: center;background-color: white;padding-right: 0.2em;padding-left: 0.2em;position: relative;}#sk-container-id-6 div.sk-item {position: relative;z-index: 1;}#sk-container-id-6 div.sk-parallel {display: flex;align-items: stretch;justify-content: center;background-color: white;position: relative;}#sk-container-id-6 div.sk-item::before, #sk-container-id-6 div.sk-parallel-item::before {content: \"\";position: absolute;border-left: 1px solid gray;box-sizing: border-box;top: 0;bottom: 0;left: 50%;z-index: -1;}#sk-container-id-6 div.sk-parallel-item {display: flex;flex-direction: column;z-index: 1;position: relative;background-color: white;}#sk-container-id-6 div.sk-parallel-item:first-child::after {align-self: flex-end;width: 50%;}#sk-container-id-6 div.sk-parallel-item:last-child::after {align-self: flex-start;width: 50%;}#sk-container-id-6 div.sk-parallel-item:only-child::after {width: 0;}#sk-container-id-6 div.sk-dashed-wrapped {border: 1px dashed gray;margin: 0 0.4em 0.5em 0.4em;box-sizing: border-box;padding-bottom: 0.4em;background-color: white;}#sk-container-id-6 div.sk-label label {font-family: monospace;font-weight: bold;display: inline-block;line-height: 1.2em;}#sk-container-id-6 div.sk-label-container {text-align: center;}#sk-container-id-6 div.sk-container {/* jupyter's `normalize.less` sets `[hidden] { display: none; }` but bootstrap.min.css set `[hidden] { display: none !important; }` so we also need the `!important` here to be able to override the default hidden behavior on the sphinx rendered scikit-learn.org. See: https://github.com/scikit-learn/scikit-learn/issues/21755 */display: inline-block !important;position: relative;}#sk-container-id-6 div.sk-text-repr-fallback {display: none;}</style><div id=\"sk-container-id-6\" class=\"sk-top-container\"><div class=\"sk-text-repr-fallback\"><pre>SVR(C=1000.0, gamma=0.15)</pre><b>In a Jupyter environment, please rerun this cell to show the HTML representation or trust the notebook. <br />On GitHub, the HTML representation is unable to render, please try loading this page with nbviewer.org.</b></div><div class=\"sk-container\" hidden><div class=\"sk-item\"><div class=\"sk-estimator sk-toggleable\"><input class=\"sk-toggleable__control sk-hidden--visually\" id=\"sk-estimator-id-6\" type=\"checkbox\" checked><label for=\"sk-estimator-id-6\" class=\"sk-toggleable__label sk-toggleable__label-arrow\">SVR</label><div class=\"sk-toggleable__content\"><pre>SVR(C=1000.0, gamma=0.15)</pre></div></div></div></div></div>"
      ],
      "text/plain": [
       "SVR(C=1000.0, gamma=0.15)"
      ]
     },
     "execution_count": 19,
     "metadata": {},
     "output_type": "execute_result"
    }
   ],
   "source": [
    "rbf_svr = SVR(kernel='rbf', C = 1000.0, gamma = 0.15)\n",
    "rbf_svr.fit(days, adj_close_prices)"
   ]
  },
  {
   "cell_type": "markdown",
   "metadata": {
    "id": "X3pnKJxFCoNd"
   },
   "source": [
    "Grafico dei tre modelli per vedere qual è il più conforme ai dati"
   ]
  },
  {
   "cell_type": "code",
   "execution_count": 20,
   "metadata": {
    "id": "mUFFrN0DCoNd",
    "outputId": "cba3b571-f29c-4f77-c703-93e1cdfb8ade"
   },
   "outputs": [
    {
     "data": {
      "image/png": "[encoded data removed]",
      "text/plain": [
       "<Figure size 1600x800 with 1 Axes>"
      ]
     },
     "metadata": {},
     "output_type": "display_data"
    }
   ],
   "source": [
    "plt.figure(figsize=(16,8))\n",
    "plt.scatter(days, adj_close_prices, color = 'red', label = 'Days')\n",
    "plt.plot(days, rbf_svr.predict(days), color = 'green', label = 'RBF')\n",
    "plt.plot(days, poly_svr.predict(days), color = 'orange', label = 'Polynomial')\n",
    "plt.plot(days, lin_svr.predict(days), color = 'blue', label = 'Linear')\n",
    "plt.grid(True)\n",
    "plt.legend()\n",
    "plt.show()"
   ]
  },
  {
   "cell_type": "markdown",
   "metadata": {
    "id": "tng8EMb1CoNd"
   },
   "source": [
    "Prezzo previsto per il giorno successivo"
   ]
  },
  {
   "cell_type": "code",
   "execution_count": 21,
   "metadata": {
    "id": "WjzTAa0ACoNd",
    "outputId": "eb164a3b-4ab4-423b-f047-65f6dfe9721f"
   },
   "outputs": [
    {
     "name": "stdout",
     "output_type": "stream",
     "text": [
      "Prezzo previsto con il modello RBF:  [185.04502179]\n",
      "Prezzo previsto con il modello polinomiale:  [180.39533267]\n",
      "Prezzo previsto con il modello lineare:  [181.04143771]\n"
     ]
    }
   ],
   "source": [
    "day = [[31]]\n",
    "\n",
    "print('Prezzo previsto con il modello RBF: ', rbf_svr.predict(day))\n",
    "print('Prezzo previsto con il modello polinomiale: ', poly_svr.predict(day))\n",
    "print('Prezzo previsto con il modello lineare: ', lin_svr.predict(day))"
   ]
  },
  {
   "cell_type": "markdown",
   "metadata": {
    "id": "oYVIbndcCoNd"
   },
   "source": [
    "Prezzo del giorno successivo"
   ]
  },
  {
   "cell_type": "code",
   "execution_count": 22,
   "metadata": {
    "id": "wjiZOXjPCoNe",
    "outputId": "a5410957-7065-42be-9ad1-cf6e2509c8b1"
   },
   "outputs": [
    {
     "name": "stdout",
     "output_type": "stream",
     "text": [
      "Prezzo effettivo:  177.470001\n"
     ]
    }
   ],
   "source": [
    "print('Prezzo effettivo: ', actual_price['Adj Close'][21])"
   ]
  },
  {
   "cell_type": "code",
   "execution_count": null,
   "metadata": {
    "id": "i7otutwZCoNe"
   },
   "outputs": [],
   "source": []
  }
 ],
 "metadata": {
  "colab": {
   "name": "ML_SVM_2.ipynb",
   "provenance": []
  },
  "kernelspec": {
   "display_name": "Python 3 (ipykernel)",
   "language": "python",
   "name": "python3"
  },
  "language_info": {
   "codemirror_mode": {
    "name": "ipython",
    "version": 3
   },
   "file_extension": ".py",
   "mimetype": "text/x-python",
   "name": "python",
   "nbconvert_exporter": "python",
   "pygments_lexer": "ipython3",
   "version": "3.11.7"
  }
 },
 "nbformat": 4,
 "nbformat_minor": 4
}
