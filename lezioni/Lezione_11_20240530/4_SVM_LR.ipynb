{
 "cells": [
  {
   "cell_type": "markdown",
   "id": "08e6b8a1",
   "metadata": {
    "id": "08e6b8a1"
   },
   "source": [
    "#### Previsione del prezzo di un'azione con regressione lineare e support vector machine\n",
    "\n",
    "https://www.youtube.com/watch?v=EYnC4ACIt2g&ab_channel=ComputerScience"
   ]
  },
  {
   "cell_type": "code",
   "id": "dbb6ec52",
   "metadata": {
    "id": "dbb6ec52",
    "ExecuteTime": {
     "end_time": "2024-06-05T15:34:39.283177Z",
     "start_time": "2024-06-05T15:34:39.268051Z"
    }
   },
   "source": [
    "\n",
    "import numpy as np\n",
    "import pandas as pd\n",
    "from sklearn.linear_model import LinearRegression\n",
    "from sklearn.svm import SVR\n",
    "from sklearn.model_selection import train_test_split\n",
    "import matplotlib.pyplot as plt\n",
    "import yfinance as yf\n"
   ],
   "outputs": [],
   "execution_count": 821
  },
  {
   "cell_type": "markdown",
   "id": "f8636640",
   "metadata": {
    "id": "f8636640"
   },
   "source": [
    "importiamo i dati"
   ]
  },
  {
   "cell_type": "code",
   "id": "a9ec70fd",
   "metadata": {
    "id": "a9ec70fd",
    "ExecuteTime": {
     "end_time": "2024-06-05T15:34:39.959035Z",
     "start_time": "2024-06-05T15:34:39.897106Z"
    }
   },
   "source": [
    "start_date = '2014-5-31'\n",
    "end_date = '2024-5-31'\n",
    "df = yf.download('AMZN', start_date, end_date) \n",
    "#^GSPC"
   ],
   "outputs": [
    {
     "name": "stderr",
     "output_type": "stream",
     "text": [
      "[*********************100%%**********************]  1 of 1 completed\n"
     ]
    }
   ],
   "execution_count": 822
  },
  {
   "cell_type": "code",
   "id": "4c6e4ba9",
   "metadata": {
    "id": "4c6e4ba9",
    "outputId": "f92bc7e3-23e3-4dc7-f4f4-505b6a212c3c",
    "ExecuteTime": {
     "end_time": "2024-06-05T15:34:39.973967Z",
     "start_time": "2024-06-05T15:34:39.961003Z"
    }
   },
   "source": [
    "len(df)"
   ],
   "outputs": [
    {
     "data": {
      "text/plain": [
       "2517"
      ]
     },
     "execution_count": 823,
     "metadata": {},
     "output_type": "execute_result"
    }
   ],
   "execution_count": 823
  },
  {
   "cell_type": "code",
   "id": "4db126ac",
   "metadata": {
    "ExecuteTime": {
     "end_time": "2024-06-05T15:34:39.989924Z",
     "start_time": "2024-06-05T15:34:39.975962Z"
    }
   },
   "source": [
    "df.head(10)"
   ],
   "outputs": [
    {
     "data": {
      "text/plain": [
       "                 Open       High        Low      Close  Adj Close     Volume\n",
       "Date                                                                        \n",
       "2014-06-02  15.629500  15.630000  15.350000  15.442000  15.442000   44068000\n",
       "2014-06-03  15.287500  15.396000  15.253500  15.359500  15.359500   47584000\n",
       "2014-06-04  15.342500  15.475000  15.192000  15.339000  15.339000   42142000\n",
       "2014-06-05  15.405000  16.396999  15.345000  16.178499  16.178499  155934000\n",
       "2014-06-06  16.250000  16.544001  16.246500  16.483500  16.483500  104880000\n",
       "2014-06-09  16.578501  16.650000  16.282499  16.375000  16.375000   64244000\n",
       "2014-06-10  16.382500  16.775000  16.375000  16.620501  16.620501   73268000\n",
       "2014-06-11  16.799999  17.035999  16.694000  16.760000  16.760000   88736000\n",
       "2014-06-12  16.777500  16.777500  16.233000  16.295500  16.295500   85526000\n",
       "2014-06-13  16.352501  16.465000  16.176500  16.313499  16.313499   55296000"
      ],
      "text/html": [
       "<div>\n",
       "<style scoped>\n",
       "    .dataframe tbody tr th:only-of-type {\n",
       "        vertical-align: middle;\n",
       "    }\n",
       "\n",
       "    .dataframe tbody tr th {\n",
       "        vertical-align: top;\n",
       "    }\n",
       "\n",
       "    .dataframe thead th {\n",
       "        text-align: right;\n",
       "    }\n",
       "</style>\n",
       "<table border=\"1\" class=\"dataframe\">\n",
       "  <thead>\n",
       "    <tr style=\"text-align: right;\">\n",
       "      <th></th>\n",
       "      <th>Open</th>\n",
       "      <th>High</th>\n",
       "      <th>Low</th>\n",
       "      <th>Close</th>\n",
       "      <th>Adj Close</th>\n",
       "      <th>Volume</th>\n",
       "    </tr>\n",
       "    <tr>\n",
       "      <th>Date</th>\n",
       "      <th></th>\n",
       "      <th></th>\n",
       "      <th></th>\n",
       "      <th></th>\n",
       "      <th></th>\n",
       "      <th></th>\n",
       "    </tr>\n",
       "  </thead>\n",
       "  <tbody>\n",
       "    <tr>\n",
       "      <th>2014-06-02</th>\n",
       "      <td>15.629500</td>\n",
       "      <td>15.630000</td>\n",
       "      <td>15.350000</td>\n",
       "      <td>15.442000</td>\n",
       "      <td>15.442000</td>\n",
       "      <td>44068000</td>\n",
       "    </tr>\n",
       "    <tr>\n",
       "      <th>2014-06-03</th>\n",
       "      <td>15.287500</td>\n",
       "      <td>15.396000</td>\n",
       "      <td>15.253500</td>\n",
       "      <td>15.359500</td>\n",
       "      <td>15.359500</td>\n",
       "      <td>47584000</td>\n",
       "    </tr>\n",
       "    <tr>\n",
       "      <th>2014-06-04</th>\n",
       "      <td>15.342500</td>\n",
       "      <td>15.475000</td>\n",
       "      <td>15.192000</td>\n",
       "      <td>15.339000</td>\n",
       "      <td>15.339000</td>\n",
       "      <td>42142000</td>\n",
       "    </tr>\n",
       "    <tr>\n",
       "      <th>2014-06-05</th>\n",
       "      <td>15.405000</td>\n",
       "      <td>16.396999</td>\n",
       "      <td>15.345000</td>\n",
       "      <td>16.178499</td>\n",
       "      <td>16.178499</td>\n",
       "      <td>155934000</td>\n",
       "    </tr>\n",
       "    <tr>\n",
       "      <th>2014-06-06</th>\n",
       "      <td>16.250000</td>\n",
       "      <td>16.544001</td>\n",
       "      <td>16.246500</td>\n",
       "      <td>16.483500</td>\n",
       "      <td>16.483500</td>\n",
       "      <td>104880000</td>\n",
       "    </tr>\n",
       "    <tr>\n",
       "      <th>2014-06-09</th>\n",
       "      <td>16.578501</td>\n",
       "      <td>16.650000</td>\n",
       "      <td>16.282499</td>\n",
       "      <td>16.375000</td>\n",
       "      <td>16.375000</td>\n",
       "      <td>64244000</td>\n",
       "    </tr>\n",
       "    <tr>\n",
       "      <th>2014-06-10</th>\n",
       "      <td>16.382500</td>\n",
       "      <td>16.775000</td>\n",
       "      <td>16.375000</td>\n",
       "      <td>16.620501</td>\n",
       "      <td>16.620501</td>\n",
       "      <td>73268000</td>\n",
       "    </tr>\n",
       "    <tr>\n",
       "      <th>2014-06-11</th>\n",
       "      <td>16.799999</td>\n",
       "      <td>17.035999</td>\n",
       "      <td>16.694000</td>\n",
       "      <td>16.760000</td>\n",
       "      <td>16.760000</td>\n",
       "      <td>88736000</td>\n",
       "    </tr>\n",
       "    <tr>\n",
       "      <th>2014-06-12</th>\n",
       "      <td>16.777500</td>\n",
       "      <td>16.777500</td>\n",
       "      <td>16.233000</td>\n",
       "      <td>16.295500</td>\n",
       "      <td>16.295500</td>\n",
       "      <td>85526000</td>\n",
       "    </tr>\n",
       "    <tr>\n",
       "      <th>2014-06-13</th>\n",
       "      <td>16.352501</td>\n",
       "      <td>16.465000</td>\n",
       "      <td>16.176500</td>\n",
       "      <td>16.313499</td>\n",
       "      <td>16.313499</td>\n",
       "      <td>55296000</td>\n",
       "    </tr>\n",
       "  </tbody>\n",
       "</table>\n",
       "</div>"
      ]
     },
     "execution_count": 824,
     "metadata": {},
     "output_type": "execute_result"
    }
   ],
   "execution_count": 824
  },
  {
   "cell_type": "code",
   "id": "e225aac9",
   "metadata": {
    "id": "e225aac9",
    "outputId": "2de805d8-1652-430c-fee7-30dd5ccdaa9e",
    "ExecuteTime": {
     "end_time": "2024-06-05T15:34:40.084670Z",
     "start_time": "2024-06-05T15:34:40.063727Z"
    }
   },
   "source": [
    "df.tail()"
   ],
   "outputs": [
    {
     "data": {
      "text/plain": [
       "                  Open        High         Low       Close   Adj Close  \\\n",
       "Date                                                                     \n",
       "2024-05-23  183.660004  184.759995  180.080002  181.050003  181.050003   \n",
       "2024-05-24  181.649994  182.440002  180.300003  180.750000  180.750000   \n",
       "2024-05-28  179.929993  182.240005  179.490005  182.149994  182.149994   \n",
       "2024-05-29  181.699997  184.080002  181.550003  182.020004  182.020004   \n",
       "2024-05-30  181.309998  181.339996  178.360001  179.320007  179.320007   \n",
       "\n",
       "              Volume  \n",
       "Date                  \n",
       "2024-05-23  33670200  \n",
       "2024-05-24  27434100  \n",
       "2024-05-28  29927000  \n",
       "2024-05-29  32009300  \n",
       "2024-05-30  29249200  "
      ],
      "text/html": [
       "<div>\n",
       "<style scoped>\n",
       "    .dataframe tbody tr th:only-of-type {\n",
       "        vertical-align: middle;\n",
       "    }\n",
       "\n",
       "    .dataframe tbody tr th {\n",
       "        vertical-align: top;\n",
       "    }\n",
       "\n",
       "    .dataframe thead th {\n",
       "        text-align: right;\n",
       "    }\n",
       "</style>\n",
       "<table border=\"1\" class=\"dataframe\">\n",
       "  <thead>\n",
       "    <tr style=\"text-align: right;\">\n",
       "      <th></th>\n",
       "      <th>Open</th>\n",
       "      <th>High</th>\n",
       "      <th>Low</th>\n",
       "      <th>Close</th>\n",
       "      <th>Adj Close</th>\n",
       "      <th>Volume</th>\n",
       "    </tr>\n",
       "    <tr>\n",
       "      <th>Date</th>\n",
       "      <th></th>\n",
       "      <th></th>\n",
       "      <th></th>\n",
       "      <th></th>\n",
       "      <th></th>\n",
       "      <th></th>\n",
       "    </tr>\n",
       "  </thead>\n",
       "  <tbody>\n",
       "    <tr>\n",
       "      <th>2024-05-23</th>\n",
       "      <td>183.660004</td>\n",
       "      <td>184.759995</td>\n",
       "      <td>180.080002</td>\n",
       "      <td>181.050003</td>\n",
       "      <td>181.050003</td>\n",
       "      <td>33670200</td>\n",
       "    </tr>\n",
       "    <tr>\n",
       "      <th>2024-05-24</th>\n",
       "      <td>181.649994</td>\n",
       "      <td>182.440002</td>\n",
       "      <td>180.300003</td>\n",
       "      <td>180.750000</td>\n",
       "      <td>180.750000</td>\n",
       "      <td>27434100</td>\n",
       "    </tr>\n",
       "    <tr>\n",
       "      <th>2024-05-28</th>\n",
       "      <td>179.929993</td>\n",
       "      <td>182.240005</td>\n",
       "      <td>179.490005</td>\n",
       "      <td>182.149994</td>\n",
       "      <td>182.149994</td>\n",
       "      <td>29927000</td>\n",
       "    </tr>\n",
       "    <tr>\n",
       "      <th>2024-05-29</th>\n",
       "      <td>181.699997</td>\n",
       "      <td>184.080002</td>\n",
       "      <td>181.550003</td>\n",
       "      <td>182.020004</td>\n",
       "      <td>182.020004</td>\n",
       "      <td>32009300</td>\n",
       "    </tr>\n",
       "    <tr>\n",
       "      <th>2024-05-30</th>\n",
       "      <td>181.309998</td>\n",
       "      <td>181.339996</td>\n",
       "      <td>178.360001</td>\n",
       "      <td>179.320007</td>\n",
       "      <td>179.320007</td>\n",
       "      <td>29249200</td>\n",
       "    </tr>\n",
       "  </tbody>\n",
       "</table>\n",
       "</div>"
      ]
     },
     "execution_count": 825,
     "metadata": {},
     "output_type": "execute_result"
    }
   ],
   "execution_count": 825
  },
  {
   "cell_type": "markdown",
   "id": "e1a7c9f0",
   "metadata": {
    "id": "e1a7c9f0"
   },
   "source": [
    "Selezioniamo la colonna Adj Close"
   ]
  },
  {
   "cell_type": "code",
   "id": "5c73aa22",
   "metadata": {
    "id": "5c73aa22",
    "ExecuteTime": {
     "end_time": "2024-06-05T15:34:40.116585Z",
     "start_time": "2024-06-05T15:34:40.098633Z"
    }
   },
   "source": [
    "df = df[['Adj Close']]"
   ],
   "outputs": [],
   "execution_count": 826
  },
  {
   "cell_type": "code",
   "id": "9b07a233",
   "metadata": {
    "id": "9b07a233",
    "outputId": "be87ac8c-8e4c-4cf3-ee86-6317185371be",
    "ExecuteTime": {
     "end_time": "2024-06-05T15:34:40.240471Z",
     "start_time": "2024-06-05T15:34:40.223518Z"
    }
   },
   "source": [
    "len(df)"
   ],
   "outputs": [
    {
     "data": {
      "text/plain": [
       "2517"
      ]
     },
     "execution_count": 827,
     "metadata": {},
     "output_type": "execute_result"
    }
   ],
   "execution_count": 827
  },
  {
   "cell_type": "code",
   "id": "a8d15ef4",
   "metadata": {
    "id": "a8d15ef4",
    "outputId": "fd26bea4-f891-4f38-8d09-e2456439d0d1",
    "ExecuteTime": {
     "end_time": "2024-06-05T15:34:40.335218Z",
     "start_time": "2024-06-05T15:34:40.324247Z"
    }
   },
   "source": [
    "df.head()"
   ],
   "outputs": [
    {
     "data": {
      "text/plain": [
       "            Adj Close\n",
       "Date                 \n",
       "2014-06-02  15.442000\n",
       "2014-06-03  15.359500\n",
       "2014-06-04  15.339000\n",
       "2014-06-05  16.178499\n",
       "2014-06-06  16.483500"
      ],
      "text/html": [
       "<div>\n",
       "<style scoped>\n",
       "    .dataframe tbody tr th:only-of-type {\n",
       "        vertical-align: middle;\n",
       "    }\n",
       "\n",
       "    .dataframe tbody tr th {\n",
       "        vertical-align: top;\n",
       "    }\n",
       "\n",
       "    .dataframe thead th {\n",
       "        text-align: right;\n",
       "    }\n",
       "</style>\n",
       "<table border=\"1\" class=\"dataframe\">\n",
       "  <thead>\n",
       "    <tr style=\"text-align: right;\">\n",
       "      <th></th>\n",
       "      <th>Adj Close</th>\n",
       "    </tr>\n",
       "    <tr>\n",
       "      <th>Date</th>\n",
       "      <th></th>\n",
       "    </tr>\n",
       "  </thead>\n",
       "  <tbody>\n",
       "    <tr>\n",
       "      <th>2014-06-02</th>\n",
       "      <td>15.442000</td>\n",
       "    </tr>\n",
       "    <tr>\n",
       "      <th>2014-06-03</th>\n",
       "      <td>15.359500</td>\n",
       "    </tr>\n",
       "    <tr>\n",
       "      <th>2014-06-04</th>\n",
       "      <td>15.339000</td>\n",
       "    </tr>\n",
       "    <tr>\n",
       "      <th>2014-06-05</th>\n",
       "      <td>16.178499</td>\n",
       "    </tr>\n",
       "    <tr>\n",
       "      <th>2014-06-06</th>\n",
       "      <td>16.483500</td>\n",
       "    </tr>\n",
       "  </tbody>\n",
       "</table>\n",
       "</div>"
      ]
     },
     "execution_count": 828,
     "metadata": {},
     "output_type": "execute_result"
    }
   ],
   "execution_count": 828
  },
  {
   "cell_type": "code",
   "id": "2f5d9a25",
   "metadata": {
    "id": "2f5d9a25",
    "ExecuteTime": {
     "end_time": "2024-06-05T15:34:40.477836Z",
     "start_time": "2024-06-05T15:34:40.469857Z"
    }
   },
   "source": [
    "# Creiamo una colonna con la variabile da prevedere\n",
    "df.loc[:,'Prediction1'] = df['Adj Close'].shift(-1).values"
   ],
   "outputs": [
    {
     "name": "stderr",
     "output_type": "stream",
     "text": [
      "C:\\Users\\utente\\AppData\\Local\\Temp\\ipykernel_13944\\816681620.py:2: SettingWithCopyWarning: \n",
      "A value is trying to be set on a copy of a slice from a DataFrame.\n",
      "Try using .loc[row_indexer,col_indexer] = value instead\n",
      "\n",
      "See the caveats in the documentation: https://pandas.pydata.org/pandas-docs/stable/user_guide/indexing.html#returning-a-view-versus-a-copy\n",
      "  df.loc[:,'Prediction1'] = df['Adj Close'].shift(-1).values\n"
     ]
    }
   ],
   "execution_count": 829
  },
  {
   "cell_type": "code",
   "id": "d29a55c1",
   "metadata": {
    "id": "d29a55c1",
    "outputId": "f784e8ec-ba55-44c3-a9ef-779db4dddc7d",
    "ExecuteTime": {
     "end_time": "2024-06-05T15:34:40.633548Z",
     "start_time": "2024-06-05T15:34:40.619563Z"
    }
   },
   "source": [
    "df.head()"
   ],
   "outputs": [
    {
     "data": {
      "text/plain": [
       "            Adj Close  Prediction1\n",
       "Date                              \n",
       "2014-06-02  15.442000    15.359500\n",
       "2014-06-03  15.359500    15.339000\n",
       "2014-06-04  15.339000    16.178499\n",
       "2014-06-05  16.178499    16.483500\n",
       "2014-06-06  16.483500    16.375000"
      ],
      "text/html": [
       "<div>\n",
       "<style scoped>\n",
       "    .dataframe tbody tr th:only-of-type {\n",
       "        vertical-align: middle;\n",
       "    }\n",
       "\n",
       "    .dataframe tbody tr th {\n",
       "        vertical-align: top;\n",
       "    }\n",
       "\n",
       "    .dataframe thead th {\n",
       "        text-align: right;\n",
       "    }\n",
       "</style>\n",
       "<table border=\"1\" class=\"dataframe\">\n",
       "  <thead>\n",
       "    <tr style=\"text-align: right;\">\n",
       "      <th></th>\n",
       "      <th>Adj Close</th>\n",
       "      <th>Prediction1</th>\n",
       "    </tr>\n",
       "    <tr>\n",
       "      <th>Date</th>\n",
       "      <th></th>\n",
       "      <th></th>\n",
       "    </tr>\n",
       "  </thead>\n",
       "  <tbody>\n",
       "    <tr>\n",
       "      <th>2014-06-02</th>\n",
       "      <td>15.442000</td>\n",
       "      <td>15.359500</td>\n",
       "    </tr>\n",
       "    <tr>\n",
       "      <th>2014-06-03</th>\n",
       "      <td>15.359500</td>\n",
       "      <td>15.339000</td>\n",
       "    </tr>\n",
       "    <tr>\n",
       "      <th>2014-06-04</th>\n",
       "      <td>15.339000</td>\n",
       "      <td>16.178499</td>\n",
       "    </tr>\n",
       "    <tr>\n",
       "      <th>2014-06-05</th>\n",
       "      <td>16.178499</td>\n",
       "      <td>16.483500</td>\n",
       "    </tr>\n",
       "    <tr>\n",
       "      <th>2014-06-06</th>\n",
       "      <td>16.483500</td>\n",
       "      <td>16.375000</td>\n",
       "    </tr>\n",
       "  </tbody>\n",
       "</table>\n",
       "</div>"
      ]
     },
     "execution_count": 830,
     "metadata": {},
     "output_type": "execute_result"
    }
   ],
   "execution_count": 830
  },
  {
   "cell_type": "code",
   "id": "15afabb3",
   "metadata": {
    "id": "15afabb3",
    "outputId": "a4e28482-d370-454a-ecec-b095d6ea2046",
    "ExecuteTime": {
     "end_time": "2024-06-05T15:34:40.791104Z",
     "start_time": "2024-06-05T15:34:40.767167Z"
    }
   },
   "source": [
    "df.tail()"
   ],
   "outputs": [
    {
     "data": {
      "text/plain": [
       "             Adj Close  Prediction1\n",
       "Date                               \n",
       "2024-05-23  181.050003   180.750000\n",
       "2024-05-24  180.750000   182.149994\n",
       "2024-05-28  182.149994   182.020004\n",
       "2024-05-29  182.020004   179.320007\n",
       "2024-05-30  179.320007          NaN"
      ],
      "text/html": [
       "<div>\n",
       "<style scoped>\n",
       "    .dataframe tbody tr th:only-of-type {\n",
       "        vertical-align: middle;\n",
       "    }\n",
       "\n",
       "    .dataframe tbody tr th {\n",
       "        vertical-align: top;\n",
       "    }\n",
       "\n",
       "    .dataframe thead th {\n",
       "        text-align: right;\n",
       "    }\n",
       "</style>\n",
       "<table border=\"1\" class=\"dataframe\">\n",
       "  <thead>\n",
       "    <tr style=\"text-align: right;\">\n",
       "      <th></th>\n",
       "      <th>Adj Close</th>\n",
       "      <th>Prediction1</th>\n",
       "    </tr>\n",
       "    <tr>\n",
       "      <th>Date</th>\n",
       "      <th></th>\n",
       "      <th></th>\n",
       "    </tr>\n",
       "  </thead>\n",
       "  <tbody>\n",
       "    <tr>\n",
       "      <th>2024-05-23</th>\n",
       "      <td>181.050003</td>\n",
       "      <td>180.750000</td>\n",
       "    </tr>\n",
       "    <tr>\n",
       "      <th>2024-05-24</th>\n",
       "      <td>180.750000</td>\n",
       "      <td>182.149994</td>\n",
       "    </tr>\n",
       "    <tr>\n",
       "      <th>2024-05-28</th>\n",
       "      <td>182.149994</td>\n",
       "      <td>182.020004</td>\n",
       "    </tr>\n",
       "    <tr>\n",
       "      <th>2024-05-29</th>\n",
       "      <td>182.020004</td>\n",
       "      <td>179.320007</td>\n",
       "    </tr>\n",
       "    <tr>\n",
       "      <th>2024-05-30</th>\n",
       "      <td>179.320007</td>\n",
       "      <td>NaN</td>\n",
       "    </tr>\n",
       "  </tbody>\n",
       "</table>\n",
       "</div>"
      ]
     },
     "execution_count": 831,
     "metadata": {},
     "output_type": "execute_result"
    }
   ],
   "execution_count": 831
  },
  {
   "cell_type": "markdown",
   "id": "3471875b-d0ec-48f5-9a52-bd9a7f8eaf1f",
   "metadata": {},
   "source": [
    "#### Previsione prossimi 10 giorni"
   ]
  },
  {
   "cell_type": "code",
   "id": "6b3c355d",
   "metadata": {
    "id": "6b3c355d",
    "ExecuteTime": {
     "end_time": "2024-06-05T15:34:40.962677Z",
     "start_time": "2024-06-05T15:34:40.940705Z"
    }
   },
   "source": [
    "# Stabiliamo quanti \"n\" giorni in avanti vogliamo prevedere\n",
    "forecast_out = 10\n",
    "df.loc[:,'Prediction'] = df['Adj Close'].shift(-forecast_out)"
   ],
   "outputs": [
    {
     "name": "stderr",
     "output_type": "stream",
     "text": [
      "C:\\Users\\utente\\AppData\\Local\\Temp\\ipykernel_13944\\1223747075.py:3: SettingWithCopyWarning: \n",
      "A value is trying to be set on a copy of a slice from a DataFrame.\n",
      "Try using .loc[row_indexer,col_indexer] = value instead\n",
      "\n",
      "See the caveats in the documentation: https://pandas.pydata.org/pandas-docs/stable/user_guide/indexing.html#returning-a-view-versus-a-copy\n",
      "  df.loc[:,'Prediction'] = df['Adj Close'].shift(-forecast_out)\n"
     ]
    }
   ],
   "execution_count": 832
  },
  {
   "cell_type": "code",
   "id": "e698f8da",
   "metadata": {
    "id": "e698f8da",
    "outputId": "b38a646f-6ced-42a6-c6bc-53ca0c3ec3ff",
    "ExecuteTime": {
     "end_time": "2024-06-05T15:34:41.070417Z",
     "start_time": "2024-06-05T15:34:41.056427Z"
    }
   },
   "source": [
    "df.head()"
   ],
   "outputs": [
    {
     "data": {
      "text/plain": [
       "            Adj Close  Prediction1  Prediction\n",
       "Date                                          \n",
       "2014-06-02  15.442000    15.359500   16.381001\n",
       "2014-06-03  15.359500    15.339000   16.281000\n",
       "2014-06-04  15.339000    16.178499   16.719000\n",
       "2014-06-05  16.178499    16.483500   16.350000\n",
       "2014-06-06  16.483500    16.375000   16.209999"
      ],
      "text/html": [
       "<div>\n",
       "<style scoped>\n",
       "    .dataframe tbody tr th:only-of-type {\n",
       "        vertical-align: middle;\n",
       "    }\n",
       "\n",
       "    .dataframe tbody tr th {\n",
       "        vertical-align: top;\n",
       "    }\n",
       "\n",
       "    .dataframe thead th {\n",
       "        text-align: right;\n",
       "    }\n",
       "</style>\n",
       "<table border=\"1\" class=\"dataframe\">\n",
       "  <thead>\n",
       "    <tr style=\"text-align: right;\">\n",
       "      <th></th>\n",
       "      <th>Adj Close</th>\n",
       "      <th>Prediction1</th>\n",
       "      <th>Prediction</th>\n",
       "    </tr>\n",
       "    <tr>\n",
       "      <th>Date</th>\n",
       "      <th></th>\n",
       "      <th></th>\n",
       "      <th></th>\n",
       "    </tr>\n",
       "  </thead>\n",
       "  <tbody>\n",
       "    <tr>\n",
       "      <th>2014-06-02</th>\n",
       "      <td>15.442000</td>\n",
       "      <td>15.359500</td>\n",
       "      <td>16.381001</td>\n",
       "    </tr>\n",
       "    <tr>\n",
       "      <th>2014-06-03</th>\n",
       "      <td>15.359500</td>\n",
       "      <td>15.339000</td>\n",
       "      <td>16.281000</td>\n",
       "    </tr>\n",
       "    <tr>\n",
       "      <th>2014-06-04</th>\n",
       "      <td>15.339000</td>\n",
       "      <td>16.178499</td>\n",
       "      <td>16.719000</td>\n",
       "    </tr>\n",
       "    <tr>\n",
       "      <th>2014-06-05</th>\n",
       "      <td>16.178499</td>\n",
       "      <td>16.483500</td>\n",
       "      <td>16.350000</td>\n",
       "    </tr>\n",
       "    <tr>\n",
       "      <th>2014-06-06</th>\n",
       "      <td>16.483500</td>\n",
       "      <td>16.375000</td>\n",
       "      <td>16.209999</td>\n",
       "    </tr>\n",
       "  </tbody>\n",
       "</table>\n",
       "</div>"
      ]
     },
     "execution_count": 833,
     "metadata": {},
     "output_type": "execute_result"
    }
   ],
   "execution_count": 833
  },
  {
   "cell_type": "code",
   "id": "e5164349-e494-416b-b117-a1803a9b08bb",
   "metadata": {
    "ExecuteTime": {
     "end_time": "2024-06-05T15:34:41.227463Z",
     "start_time": "2024-06-05T15:34:41.211479Z"
    }
   },
   "source": [
    "df.tail(15)"
   ],
   "outputs": [
    {
     "data": {
      "text/plain": [
       "             Adj Close  Prediction1  Prediction\n",
       "Date                                           \n",
       "2024-05-09  189.500000   187.479996  181.050003\n",
       "2024-05-10  187.479996   186.570007  180.750000\n",
       "2024-05-13  186.570007   187.070007  182.149994\n",
       "2024-05-14  187.070007   185.990005  182.020004\n",
       "2024-05-15  185.990005   183.630005  179.320007\n",
       "2024-05-16  183.630005   184.699997         NaN\n",
       "2024-05-17  184.699997   183.539993         NaN\n",
       "2024-05-20  183.539993   183.149994         NaN\n",
       "2024-05-21  183.149994   183.130005         NaN\n",
       "2024-05-22  183.130005   181.050003         NaN\n",
       "2024-05-23  181.050003   180.750000         NaN\n",
       "2024-05-24  180.750000   182.149994         NaN\n",
       "2024-05-28  182.149994   182.020004         NaN\n",
       "2024-05-29  182.020004   179.320007         NaN\n",
       "2024-05-30  179.320007          NaN         NaN"
      ],
      "text/html": [
       "<div>\n",
       "<style scoped>\n",
       "    .dataframe tbody tr th:only-of-type {\n",
       "        vertical-align: middle;\n",
       "    }\n",
       "\n",
       "    .dataframe tbody tr th {\n",
       "        vertical-align: top;\n",
       "    }\n",
       "\n",
       "    .dataframe thead th {\n",
       "        text-align: right;\n",
       "    }\n",
       "</style>\n",
       "<table border=\"1\" class=\"dataframe\">\n",
       "  <thead>\n",
       "    <tr style=\"text-align: right;\">\n",
       "      <th></th>\n",
       "      <th>Adj Close</th>\n",
       "      <th>Prediction1</th>\n",
       "      <th>Prediction</th>\n",
       "    </tr>\n",
       "    <tr>\n",
       "      <th>Date</th>\n",
       "      <th></th>\n",
       "      <th></th>\n",
       "      <th></th>\n",
       "    </tr>\n",
       "  </thead>\n",
       "  <tbody>\n",
       "    <tr>\n",
       "      <th>2024-05-09</th>\n",
       "      <td>189.500000</td>\n",
       "      <td>187.479996</td>\n",
       "      <td>181.050003</td>\n",
       "    </tr>\n",
       "    <tr>\n",
       "      <th>2024-05-10</th>\n",
       "      <td>187.479996</td>\n",
       "      <td>186.570007</td>\n",
       "      <td>180.750000</td>\n",
       "    </tr>\n",
       "    <tr>\n",
       "      <th>2024-05-13</th>\n",
       "      <td>186.570007</td>\n",
       "      <td>187.070007</td>\n",
       "      <td>182.149994</td>\n",
       "    </tr>\n",
       "    <tr>\n",
       "      <th>2024-05-14</th>\n",
       "      <td>187.070007</td>\n",
       "      <td>185.990005</td>\n",
       "      <td>182.020004</td>\n",
       "    </tr>\n",
       "    <tr>\n",
       "      <th>2024-05-15</th>\n",
       "      <td>185.990005</td>\n",
       "      <td>183.630005</td>\n",
       "      <td>179.320007</td>\n",
       "    </tr>\n",
       "    <tr>\n",
       "      <th>2024-05-16</th>\n",
       "      <td>183.630005</td>\n",
       "      <td>184.699997</td>\n",
       "      <td>NaN</td>\n",
       "    </tr>\n",
       "    <tr>\n",
       "      <th>2024-05-17</th>\n",
       "      <td>184.699997</td>\n",
       "      <td>183.539993</td>\n",
       "      <td>NaN</td>\n",
       "    </tr>\n",
       "    <tr>\n",
       "      <th>2024-05-20</th>\n",
       "      <td>183.539993</td>\n",
       "      <td>183.149994</td>\n",
       "      <td>NaN</td>\n",
       "    </tr>\n",
       "    <tr>\n",
       "      <th>2024-05-21</th>\n",
       "      <td>183.149994</td>\n",
       "      <td>183.130005</td>\n",
       "      <td>NaN</td>\n",
       "    </tr>\n",
       "    <tr>\n",
       "      <th>2024-05-22</th>\n",
       "      <td>183.130005</td>\n",
       "      <td>181.050003</td>\n",
       "      <td>NaN</td>\n",
       "    </tr>\n",
       "    <tr>\n",
       "      <th>2024-05-23</th>\n",
       "      <td>181.050003</td>\n",
       "      <td>180.750000</td>\n",
       "      <td>NaN</td>\n",
       "    </tr>\n",
       "    <tr>\n",
       "      <th>2024-05-24</th>\n",
       "      <td>180.750000</td>\n",
       "      <td>182.149994</td>\n",
       "      <td>NaN</td>\n",
       "    </tr>\n",
       "    <tr>\n",
       "      <th>2024-05-28</th>\n",
       "      <td>182.149994</td>\n",
       "      <td>182.020004</td>\n",
       "      <td>NaN</td>\n",
       "    </tr>\n",
       "    <tr>\n",
       "      <th>2024-05-29</th>\n",
       "      <td>182.020004</td>\n",
       "      <td>179.320007</td>\n",
       "      <td>NaN</td>\n",
       "    </tr>\n",
       "    <tr>\n",
       "      <th>2024-05-30</th>\n",
       "      <td>179.320007</td>\n",
       "      <td>NaN</td>\n",
       "      <td>NaN</td>\n",
       "    </tr>\n",
       "  </tbody>\n",
       "</table>\n",
       "</div>"
      ]
     },
     "execution_count": 834,
     "metadata": {},
     "output_type": "execute_result"
    }
   ],
   "execution_count": 834
  },
  {
   "cell_type": "markdown",
   "id": "5693c2d9-7235-4247-99c1-bfd970a76b58",
   "metadata": {
    "id": "9c455dfd"
   },
   "source": [
    "Creiamo un data set indipendente (X), trasformando il df in un array\n",
    "X = np.array(df.drop(['Prediction'],1))"
   ]
  },
  {
   "cell_type": "code",
   "id": "124bc19e-9470-418c-8167-27becf3896a9",
   "metadata": {
    "ExecuteTime": {
     "end_time": "2024-06-05T15:34:41.366604Z",
     "start_time": "2024-06-05T15:34:41.352560Z"
    }
   },
   "source": [
    "X = np.array(df['Adj Close']).reshape(-1,1)\n",
    "X"
   ],
   "outputs": [
    {
     "data": {
      "text/plain": [
       "array([[ 15.44200039],\n",
       "       [ 15.35949993],\n",
       "       [ 15.33899975],\n",
       "       ...,\n",
       "       [182.1499939 ],\n",
       "       [182.02000427],\n",
       "       [179.32000732]])"
      ]
     },
     "execution_count": 835,
     "metadata": {},
     "output_type": "execute_result"
    }
   ],
   "execution_count": 835
  },
  {
   "cell_type": "code",
   "id": "cca5fa1f",
   "metadata": {
    "id": "cca5fa1f",
    "ExecuteTime": {
     "end_time": "2024-06-05T15:34:41.537113Z",
     "start_time": "2024-06-05T15:34:41.523151Z"
    }
   },
   "source": [
    "# Eliminiamo le ultime \"n\" righe\n",
    "X = X[:-forecast_out]"
   ],
   "outputs": [],
   "execution_count": 836
  },
  {
   "cell_type": "code",
   "id": "aa3e84f6",
   "metadata": {
    "id": "aa3e84f6",
    "outputId": "48b65e2a-0bd6-43b7-9c0f-20d2d505921a",
    "ExecuteTime": {
     "end_time": "2024-06-05T15:34:41.724612Z",
     "start_time": "2024-06-05T15:34:41.711647Z"
    }
   },
   "source": [
    "print(X)\n",
    "# attenzione, abbiamo creato una lista di liste"
   ],
   "outputs": [
    {
     "name": "stdout",
     "output_type": "stream",
     "text": [
      "[[ 15.44200039]\n",
      " [ 15.35949993]\n",
      " [ 15.33899975]\n",
      " ...\n",
      " [186.57000732]\n",
      " [187.07000732]\n",
      " [185.99000549]]\n"
     ]
    }
   ],
   "execution_count": 837
  },
  {
   "cell_type": "code",
   "id": "3900c42d",
   "metadata": {
    "id": "3900c42d",
    "outputId": "6cb5ea7a-9fc6-473a-c91e-2fb6184889dd",
    "ExecuteTime": {
     "end_time": "2024-06-05T15:34:41.832324Z",
     "start_time": "2024-06-05T15:34:41.821355Z"
    }
   },
   "source": [
    "len(X)"
   ],
   "outputs": [
    {
     "data": {
      "text/plain": [
       "2507"
      ]
     },
     "execution_count": 838,
     "metadata": {},
     "output_type": "execute_result"
    }
   ],
   "execution_count": 838
  },
  {
   "cell_type": "code",
   "id": "cf376344",
   "metadata": {
    "id": "cf376344",
    "outputId": "b313ab3e-01ff-492f-e31a-9b27b50620ea",
    "ExecuteTime": {
     "end_time": "2024-06-05T15:34:42.020330Z",
     "start_time": "2024-06-05T15:34:42.005370Z"
    }
   },
   "source": [
    "# Creiamo il data set dipendente (y)\n",
    "# Creiamo un altro array (tutti i valori compresi gli NaN)\n",
    "y = np.array(df['Prediction'])\n",
    "print(y)"
   ],
   "outputs": [
    {
     "name": "stdout",
     "output_type": "stream",
     "text": [
      "[16.38100052 16.28100014 16.71899986 ...         nan         nan\n",
      "         nan]\n"
     ]
    }
   ],
   "execution_count": 839
  },
  {
   "cell_type": "code",
   "id": "63fc660b",
   "metadata": {
    "id": "63fc660b",
    "outputId": "ca18f951-3ced-4565-dbd6-d8beee78a4e9",
    "ExecuteTime": {
     "end_time": "2024-06-05T15:34:42.113081Z",
     "start_time": "2024-06-05T15:34:42.098121Z"
    }
   },
   "source": [
    "# Eliminiamo gli NaN\n",
    "y = y[:-forecast_out]\n",
    "print(y)"
   ],
   "outputs": [
    {
     "name": "stdout",
     "output_type": "stream",
     "text": [
      "[ 16.38100052  16.28100014  16.71899986 ... 182.1499939  182.02000427\n",
      " 179.32000732]\n"
     ]
    }
   ],
   "execution_count": 840
  },
  {
   "cell_type": "code",
   "id": "e104e349-25bd-4b42-bc1e-2e39ce0d9937",
   "metadata": {
    "ExecuteTime": {
     "end_time": "2024-06-05T15:34:42.222933Z",
     "start_time": "2024-06-05T15:34:42.208972Z"
    }
   },
   "source": [
    "len(y)"
   ],
   "outputs": [
    {
     "data": {
      "text/plain": [
       "2507"
      ]
     },
     "execution_count": 841,
     "metadata": {},
     "output_type": "execute_result"
    }
   ],
   "execution_count": 841
  },
  {
   "cell_type": "markdown",
   "id": "26d2cd16",
   "metadata": {
    "id": "26d2cd16"
   },
   "source": [
    "Creiamo i due data set di addestramento e prova (train, test)"
   ]
  },
  {
   "cell_type": "code",
   "id": "115c82d9",
   "metadata": {
    "id": "115c82d9",
    "ExecuteTime": {
     "end_time": "2024-06-05T15:34:42.268810Z",
     "start_time": "2024-06-05T15:34:42.256843Z"
    }
   },
   "source": [
    "x_train, x_test, y_train, y_test = train_test_split(X, y, test_size=0.2)"
   ],
   "outputs": [],
   "execution_count": 842
  },
  {
   "cell_type": "code",
   "id": "0fd5b5e5-ac3a-491f-a52d-3f22d79235b0",
   "metadata": {
    "ExecuteTime": {
     "end_time": "2024-06-05T15:34:42.409434Z",
     "start_time": "2024-06-05T15:34:42.396469Z"
    }
   },
   "source": [
    "x_train"
   ],
   "outputs": [
    {
     "data": {
      "text/plain": [
       "array([[159.00349426],\n",
       "       [ 79.61949921],\n",
       "       [166.73449707],\n",
       "       ...,\n",
       "       [ 78.6309967 ],\n",
       "       [121.38999939],\n",
       "       [ 40.94950104]])"
      ]
     },
     "execution_count": 843,
     "metadata": {},
     "output_type": "execute_result"
    }
   ],
   "execution_count": 843
  },
  {
   "cell_type": "code",
   "id": "a23092f8-9c4a-4a9b-a3d9-12794608d7e1",
   "metadata": {
    "ExecuteTime": {
     "end_time": "2024-06-05T15:34:42.471268Z",
     "start_time": "2024-06-05T15:34:42.452322Z"
    }
   },
   "source": "y_train",
   "outputs": [
    {
     "data": {
      "text/plain": [
       "array([153.78849792,  79.06999969, 165.59350586, ...,  80.14550018,\n",
       "       142.08000183,  37.75249863])"
      ]
     },
     "execution_count": 844,
     "metadata": {},
     "output_type": "execute_result"
    }
   ],
   "execution_count": 844
  },
  {
   "cell_type": "markdown",
   "id": "bdf169ea",
   "metadata": {
    "id": "bdf169ea"
   },
   "source": [
    "### Support Vector Regressor"
   ]
  },
  {
   "cell_type": "code",
   "id": "046c6616",
   "metadata": {
    "id": "046c6616",
    "ExecuteTime": {
     "end_time": "2024-06-05T15:34:42.579489Z",
     "start_time": "2024-06-05T15:34:42.569516Z"
    }
   },
   "source": [
    "svr_rbf = SVR(kernel='rbf', C = 1e3, gamma = 0.1)"
   ],
   "outputs": [],
   "execution_count": 845
  },
  {
   "cell_type": "code",
   "id": "a9be2faf",
   "metadata": {
    "id": "a9be2faf",
    "outputId": "732df99f-2b88-4fed-e2a4-918f0c043393",
    "ExecuteTime": {
     "end_time": "2024-06-05T15:34:43.795229Z",
     "start_time": "2024-06-05T15:34:42.671480Z"
    }
   },
   "source": [
    "svr_rbf.fit(x_train, y_train)"
   ],
   "outputs": [
    {
     "data": {
      "text/plain": [
       "SVR(C=1000.0, gamma=0.1)"
      ],
      "text/html": [
       "<style>#sk-container-id-42 {\n",
       "  /* Definition of color scheme common for light and dark mode */\n",
       "  --sklearn-color-text: black;\n",
       "  --sklearn-color-line: gray;\n",
       "  /* Definition of color scheme for unfitted estimators */\n",
       "  --sklearn-color-unfitted-level-0: #fff5e6;\n",
       "  --sklearn-color-unfitted-level-1: #f6e4d2;\n",
       "  --sklearn-color-unfitted-level-2: #ffe0b3;\n",
       "  --sklearn-color-unfitted-level-3: chocolate;\n",
       "  /* Definition of color scheme for fitted estimators */\n",
       "  --sklearn-color-fitted-level-0: #f0f8ff;\n",
       "  --sklearn-color-fitted-level-1: #d4ebff;\n",
       "  --sklearn-color-fitted-level-2: #b3dbfd;\n",
       "  --sklearn-color-fitted-level-3: cornflowerblue;\n",
       "\n",
       "  /* Specific color for light theme */\n",
       "  --sklearn-color-text-on-default-background: var(--sg-text-color, var(--theme-code-foreground, var(--jp-content-font-color1, black)));\n",
       "  --sklearn-color-background: var(--sg-background-color, var(--theme-background, var(--jp-layout-color0, white)));\n",
       "  --sklearn-color-border-box: var(--sg-text-color, var(--theme-code-foreground, var(--jp-content-font-color1, black)));\n",
       "  --sklearn-color-icon: #696969;\n",
       "\n",
       "  @media (prefers-color-scheme: dark) {\n",
       "    /* Redefinition of color scheme for dark theme */\n",
       "    --sklearn-color-text-on-default-background: var(--sg-text-color, var(--theme-code-foreground, var(--jp-content-font-color1, white)));\n",
       "    --sklearn-color-background: var(--sg-background-color, var(--theme-background, var(--jp-layout-color0, #111)));\n",
       "    --sklearn-color-border-box: var(--sg-text-color, var(--theme-code-foreground, var(--jp-content-font-color1, white)));\n",
       "    --sklearn-color-icon: #878787;\n",
       "  }\n",
       "}\n",
       "\n",
       "#sk-container-id-42 {\n",
       "  color: var(--sklearn-color-text);\n",
       "}\n",
       "\n",
       "#sk-container-id-42 pre {\n",
       "  padding: 0;\n",
       "}\n",
       "\n",
       "#sk-container-id-42 input.sk-hidden--visually {\n",
       "  border: 0;\n",
       "  clip: rect(1px 1px 1px 1px);\n",
       "  clip: rect(1px, 1px, 1px, 1px);\n",
       "  height: 1px;\n",
       "  margin: -1px;\n",
       "  overflow: hidden;\n",
       "  padding: 0;\n",
       "  position: absolute;\n",
       "  width: 1px;\n",
       "}\n",
       "\n",
       "#sk-container-id-42 div.sk-dashed-wrapped {\n",
       "  border: 1px dashed var(--sklearn-color-line);\n",
       "  margin: 0 0.4em 0.5em 0.4em;\n",
       "  box-sizing: border-box;\n",
       "  padding-bottom: 0.4em;\n",
       "  background-color: var(--sklearn-color-background);\n",
       "}\n",
       "\n",
       "#sk-container-id-42 div.sk-container {\n",
       "  /* jupyter's `normalize.less` sets `[hidden] { display: none; }`\n",
       "     but bootstrap.min.css set `[hidden] { display: none !important; }`\n",
       "     so we also need the `!important` here to be able to override the\n",
       "     default hidden behavior on the sphinx rendered scikit-learn.org.\n",
       "     See: https://github.com/scikit-learn/scikit-learn/issues/21755 */\n",
       "  display: inline-block !important;\n",
       "  position: relative;\n",
       "}\n",
       "\n",
       "#sk-container-id-42 div.sk-text-repr-fallback {\n",
       "  display: none;\n",
       "}\n",
       "\n",
       "div.sk-parallel-item,\n",
       "div.sk-serial,\n",
       "div.sk-item {\n",
       "  /* draw centered vertical line to link estimators */\n",
       "  background-image: linear-gradient(var(--sklearn-color-text-on-default-background), var(--sklearn-color-text-on-default-background));\n",
       "  background-size: 2px 100%;\n",
       "  background-repeat: no-repeat;\n",
       "  background-position: center center;\n",
       "}\n",
       "\n",
       "/* Parallel-specific style estimator block */\n",
       "\n",
       "#sk-container-id-42 div.sk-parallel-item::after {\n",
       "  content: \"\";\n",
       "  width: 100%;\n",
       "  border-bottom: 2px solid var(--sklearn-color-text-on-default-background);\n",
       "  flex-grow: 1;\n",
       "}\n",
       "\n",
       "#sk-container-id-42 div.sk-parallel {\n",
       "  display: flex;\n",
       "  align-items: stretch;\n",
       "  justify-content: center;\n",
       "  background-color: var(--sklearn-color-background);\n",
       "  position: relative;\n",
       "}\n",
       "\n",
       "#sk-container-id-42 div.sk-parallel-item {\n",
       "  display: flex;\n",
       "  flex-direction: column;\n",
       "}\n",
       "\n",
       "#sk-container-id-42 div.sk-parallel-item:first-child::after {\n",
       "  align-self: flex-end;\n",
       "  width: 50%;\n",
       "}\n",
       "\n",
       "#sk-container-id-42 div.sk-parallel-item:last-child::after {\n",
       "  align-self: flex-start;\n",
       "  width: 50%;\n",
       "}\n",
       "\n",
       "#sk-container-id-42 div.sk-parallel-item:only-child::after {\n",
       "  width: 0;\n",
       "}\n",
       "\n",
       "/* Serial-specific style estimator block */\n",
       "\n",
       "#sk-container-id-42 div.sk-serial {\n",
       "  display: flex;\n",
       "  flex-direction: column;\n",
       "  align-items: center;\n",
       "  background-color: var(--sklearn-color-background);\n",
       "  padding-right: 1em;\n",
       "  padding-left: 1em;\n",
       "}\n",
       "\n",
       "\n",
       "/* Toggleable style: style used for estimator/Pipeline/ColumnTransformer box that is\n",
       "clickable and can be expanded/collapsed.\n",
       "- Pipeline and ColumnTransformer use this feature and define the default style\n",
       "- Estimators will overwrite some part of the style using the `sk-estimator` class\n",
       "*/\n",
       "\n",
       "/* Pipeline and ColumnTransformer style (default) */\n",
       "\n",
       "#sk-container-id-42 div.sk-toggleable {\n",
       "  /* Default theme specific background. It is overwritten whether we have a\n",
       "  specific estimator or a Pipeline/ColumnTransformer */\n",
       "  background-color: var(--sklearn-color-background);\n",
       "}\n",
       "\n",
       "/* Toggleable label */\n",
       "#sk-container-id-42 label.sk-toggleable__label {\n",
       "  cursor: pointer;\n",
       "  display: block;\n",
       "  width: 100%;\n",
       "  margin-bottom: 0;\n",
       "  padding: 0.5em;\n",
       "  box-sizing: border-box;\n",
       "  text-align: center;\n",
       "}\n",
       "\n",
       "#sk-container-id-42 label.sk-toggleable__label-arrow:before {\n",
       "  /* Arrow on the left of the label */\n",
       "  content: \"▸\";\n",
       "  float: left;\n",
       "  margin-right: 0.25em;\n",
       "  color: var(--sklearn-color-icon);\n",
       "}\n",
       "\n",
       "#sk-container-id-42 label.sk-toggleable__label-arrow:hover:before {\n",
       "  color: var(--sklearn-color-text);\n",
       "}\n",
       "\n",
       "/* Toggleable content - dropdown */\n",
       "\n",
       "#sk-container-id-42 div.sk-toggleable__content {\n",
       "  max-height: 0;\n",
       "  max-width: 0;\n",
       "  overflow: hidden;\n",
       "  text-align: left;\n",
       "  /* unfitted */\n",
       "  background-color: var(--sklearn-color-unfitted-level-0);\n",
       "}\n",
       "\n",
       "#sk-container-id-42 div.sk-toggleable__content.fitted {\n",
       "  /* fitted */\n",
       "  background-color: var(--sklearn-color-fitted-level-0);\n",
       "}\n",
       "\n",
       "#sk-container-id-42 div.sk-toggleable__content pre {\n",
       "  margin: 0.2em;\n",
       "  border-radius: 0.25em;\n",
       "  color: var(--sklearn-color-text);\n",
       "  /* unfitted */\n",
       "  background-color: var(--sklearn-color-unfitted-level-0);\n",
       "}\n",
       "\n",
       "#sk-container-id-42 div.sk-toggleable__content.fitted pre {\n",
       "  /* unfitted */\n",
       "  background-color: var(--sklearn-color-fitted-level-0);\n",
       "}\n",
       "\n",
       "#sk-container-id-42 input.sk-toggleable__control:checked~div.sk-toggleable__content {\n",
       "  /* Expand drop-down */\n",
       "  max-height: 200px;\n",
       "  max-width: 100%;\n",
       "  overflow: auto;\n",
       "}\n",
       "\n",
       "#sk-container-id-42 input.sk-toggleable__control:checked~label.sk-toggleable__label-arrow:before {\n",
       "  content: \"▾\";\n",
       "}\n",
       "\n",
       "/* Pipeline/ColumnTransformer-specific style */\n",
       "\n",
       "#sk-container-id-42 div.sk-label input.sk-toggleable__control:checked~label.sk-toggleable__label {\n",
       "  color: var(--sklearn-color-text);\n",
       "  background-color: var(--sklearn-color-unfitted-level-2);\n",
       "}\n",
       "\n",
       "#sk-container-id-42 div.sk-label.fitted input.sk-toggleable__control:checked~label.sk-toggleable__label {\n",
       "  background-color: var(--sklearn-color-fitted-level-2);\n",
       "}\n",
       "\n",
       "/* Estimator-specific style */\n",
       "\n",
       "/* Colorize estimator box */\n",
       "#sk-container-id-42 div.sk-estimator input.sk-toggleable__control:checked~label.sk-toggleable__label {\n",
       "  /* unfitted */\n",
       "  background-color: var(--sklearn-color-unfitted-level-2);\n",
       "}\n",
       "\n",
       "#sk-container-id-42 div.sk-estimator.fitted input.sk-toggleable__control:checked~label.sk-toggleable__label {\n",
       "  /* fitted */\n",
       "  background-color: var(--sklearn-color-fitted-level-2);\n",
       "}\n",
       "\n",
       "#sk-container-id-42 div.sk-label label.sk-toggleable__label,\n",
       "#sk-container-id-42 div.sk-label label {\n",
       "  /* The background is the default theme color */\n",
       "  color: var(--sklearn-color-text-on-default-background);\n",
       "}\n",
       "\n",
       "/* On hover, darken the color of the background */\n",
       "#sk-container-id-42 div.sk-label:hover label.sk-toggleable__label {\n",
       "  color: var(--sklearn-color-text);\n",
       "  background-color: var(--sklearn-color-unfitted-level-2);\n",
       "}\n",
       "\n",
       "/* Label box, darken color on hover, fitted */\n",
       "#sk-container-id-42 div.sk-label.fitted:hover label.sk-toggleable__label.fitted {\n",
       "  color: var(--sklearn-color-text);\n",
       "  background-color: var(--sklearn-color-fitted-level-2);\n",
       "}\n",
       "\n",
       "/* Estimator label */\n",
       "\n",
       "#sk-container-id-42 div.sk-label label {\n",
       "  font-family: monospace;\n",
       "  font-weight: bold;\n",
       "  display: inline-block;\n",
       "  line-height: 1.2em;\n",
       "}\n",
       "\n",
       "#sk-container-id-42 div.sk-label-container {\n",
       "  text-align: center;\n",
       "}\n",
       "\n",
       "/* Estimator-specific */\n",
       "#sk-container-id-42 div.sk-estimator {\n",
       "  font-family: monospace;\n",
       "  border: 1px dotted var(--sklearn-color-border-box);\n",
       "  border-radius: 0.25em;\n",
       "  box-sizing: border-box;\n",
       "  margin-bottom: 0.5em;\n",
       "  /* unfitted */\n",
       "  background-color: var(--sklearn-color-unfitted-level-0);\n",
       "}\n",
       "\n",
       "#sk-container-id-42 div.sk-estimator.fitted {\n",
       "  /* fitted */\n",
       "  background-color: var(--sklearn-color-fitted-level-0);\n",
       "}\n",
       "\n",
       "/* on hover */\n",
       "#sk-container-id-42 div.sk-estimator:hover {\n",
       "  /* unfitted */\n",
       "  background-color: var(--sklearn-color-unfitted-level-2);\n",
       "}\n",
       "\n",
       "#sk-container-id-42 div.sk-estimator.fitted:hover {\n",
       "  /* fitted */\n",
       "  background-color: var(--sklearn-color-fitted-level-2);\n",
       "}\n",
       "\n",
       "/* Specification for estimator info (e.g. \"i\" and \"?\") */\n",
       "\n",
       "/* Common style for \"i\" and \"?\" */\n",
       "\n",
       ".sk-estimator-doc-link,\n",
       "a:link.sk-estimator-doc-link,\n",
       "a:visited.sk-estimator-doc-link {\n",
       "  float: right;\n",
       "  font-size: smaller;\n",
       "  line-height: 1em;\n",
       "  font-family: monospace;\n",
       "  background-color: var(--sklearn-color-background);\n",
       "  border-radius: 1em;\n",
       "  height: 1em;\n",
       "  width: 1em;\n",
       "  text-decoration: none !important;\n",
       "  margin-left: 1ex;\n",
       "  /* unfitted */\n",
       "  border: var(--sklearn-color-unfitted-level-1) 1pt solid;\n",
       "  color: var(--sklearn-color-unfitted-level-1);\n",
       "}\n",
       "\n",
       ".sk-estimator-doc-link.fitted,\n",
       "a:link.sk-estimator-doc-link.fitted,\n",
       "a:visited.sk-estimator-doc-link.fitted {\n",
       "  /* fitted */\n",
       "  border: var(--sklearn-color-fitted-level-1) 1pt solid;\n",
       "  color: var(--sklearn-color-fitted-level-1);\n",
       "}\n",
       "\n",
       "/* On hover */\n",
       "div.sk-estimator:hover .sk-estimator-doc-link:hover,\n",
       ".sk-estimator-doc-link:hover,\n",
       "div.sk-label-container:hover .sk-estimator-doc-link:hover,\n",
       ".sk-estimator-doc-link:hover {\n",
       "  /* unfitted */\n",
       "  background-color: var(--sklearn-color-unfitted-level-3);\n",
       "  color: var(--sklearn-color-background);\n",
       "  text-decoration: none;\n",
       "}\n",
       "\n",
       "div.sk-estimator.fitted:hover .sk-estimator-doc-link.fitted:hover,\n",
       ".sk-estimator-doc-link.fitted:hover,\n",
       "div.sk-label-container:hover .sk-estimator-doc-link.fitted:hover,\n",
       ".sk-estimator-doc-link.fitted:hover {\n",
       "  /* fitted */\n",
       "  background-color: var(--sklearn-color-fitted-level-3);\n",
       "  color: var(--sklearn-color-background);\n",
       "  text-decoration: none;\n",
       "}\n",
       "\n",
       "/* Span, style for the box shown on hovering the info icon */\n",
       ".sk-estimator-doc-link span {\n",
       "  display: none;\n",
       "  z-index: 9999;\n",
       "  position: relative;\n",
       "  font-weight: normal;\n",
       "  right: .2ex;\n",
       "  padding: .5ex;\n",
       "  margin: .5ex;\n",
       "  width: min-content;\n",
       "  min-width: 20ex;\n",
       "  max-width: 50ex;\n",
       "  color: var(--sklearn-color-text);\n",
       "  box-shadow: 2pt 2pt 4pt #999;\n",
       "  /* unfitted */\n",
       "  background: var(--sklearn-color-unfitted-level-0);\n",
       "  border: .5pt solid var(--sklearn-color-unfitted-level-3);\n",
       "}\n",
       "\n",
       ".sk-estimator-doc-link.fitted span {\n",
       "  /* fitted */\n",
       "  background: var(--sklearn-color-fitted-level-0);\n",
       "  border: var(--sklearn-color-fitted-level-3);\n",
       "}\n",
       "\n",
       ".sk-estimator-doc-link:hover span {\n",
       "  display: block;\n",
       "}\n",
       "\n",
       "/* \"?\"-specific style due to the `<a>` HTML tag */\n",
       "\n",
       "#sk-container-id-42 a.estimator_doc_link {\n",
       "  float: right;\n",
       "  font-size: 1rem;\n",
       "  line-height: 1em;\n",
       "  font-family: monospace;\n",
       "  background-color: var(--sklearn-color-background);\n",
       "  border-radius: 1rem;\n",
       "  height: 1rem;\n",
       "  width: 1rem;\n",
       "  text-decoration: none;\n",
       "  /* unfitted */\n",
       "  color: var(--sklearn-color-unfitted-level-1);\n",
       "  border: var(--sklearn-color-unfitted-level-1) 1pt solid;\n",
       "}\n",
       "\n",
       "#sk-container-id-42 a.estimator_doc_link.fitted {\n",
       "  /* fitted */\n",
       "  border: var(--sklearn-color-fitted-level-1) 1pt solid;\n",
       "  color: var(--sklearn-color-fitted-level-1);\n",
       "}\n",
       "\n",
       "/* On hover */\n",
       "#sk-container-id-42 a.estimator_doc_link:hover {\n",
       "  /* unfitted */\n",
       "  background-color: var(--sklearn-color-unfitted-level-3);\n",
       "  color: var(--sklearn-color-background);\n",
       "  text-decoration: none;\n",
       "}\n",
       "\n",
       "#sk-container-id-42 a.estimator_doc_link.fitted:hover {\n",
       "  /* fitted */\n",
       "  background-color: var(--sklearn-color-fitted-level-3);\n",
       "}\n",
       "</style><div id=\"sk-container-id-42\" class=\"sk-top-container\"><div class=\"sk-text-repr-fallback\"><pre>SVR(C=1000.0, gamma=0.1)</pre><b>In a Jupyter environment, please rerun this cell to show the HTML representation or trust the notebook. <br />On GitHub, the HTML representation is unable to render, please try loading this page with nbviewer.org.</b></div><div class=\"sk-container\" hidden><div class=\"sk-item\"><div class=\"sk-estimator fitted sk-toggleable\"><input class=\"sk-toggleable__control sk-hidden--visually\" id=\"sk-estimator-id-42\" type=\"checkbox\" checked><label for=\"sk-estimator-id-42\" class=\"sk-toggleable__label fitted sk-toggleable__label-arrow fitted\">&nbsp;&nbsp;SVR<a class=\"sk-estimator-doc-link fitted\" rel=\"noreferrer\" target=\"_blank\" href=\"https://scikit-learn.org/1.5/modules/generated/sklearn.svm.SVR.html\">?<span>Documentation for SVR</span></a><span class=\"sk-estimator-doc-link fitted\">i<span>Fitted</span></span></label><div class=\"sk-toggleable__content fitted\"><pre>SVR(C=1000.0, gamma=0.1)</pre></div> </div></div></div></div>"
      ]
     },
     "execution_count": 846,
     "metadata": {},
     "output_type": "execute_result"
    }
   ],
   "execution_count": 846
  },
  {
   "cell_type": "markdown",
   "id": "d2bd3cf0",
   "metadata": {
    "id": "d2bd3cf0"
   },
   "source": [
    "Testiamo il modello. L'indice di capacità del modello è il coefficiente di determinazione R^2 della previsione,  che indica la percentuale di variabilità nella variable dipendente spiegata dal modello. \n",
    "\n",
    "Il valore di R^2 è compreso fra un minimo di 0 e un massimo di 1"
   ]
  },
  {
   "cell_type": "code",
   "id": "60b3d72b",
   "metadata": {
    "id": "60b3d72b",
    "outputId": "7834bc29-88b0-4c2c-b374-8c34e96a8632",
    "ExecuteTime": {
     "end_time": "2024-06-05T15:34:43.901971Z",
     "start_time": "2024-06-05T15:34:43.797224Z"
    }
   },
   "source": [
    "svm_confindence = svr_rbf.score(x_test, y_test)\n",
    "print('svm_confindence: ', svm_confindence)"
   ],
   "outputs": [
    {
     "name": "stdout",
     "output_type": "stream",
     "text": [
      "svm_confindence:  0.9833072125771892\n"
     ]
    }
   ],
   "execution_count": 847
  },
  {
   "cell_type": "markdown",
   "id": "9882c2e9",
   "metadata": {
    "id": "9882c2e9"
   },
   "source": [
    "### Modello di regressione lineare"
   ]
  },
  {
   "cell_type": "code",
   "id": "3f350cdb",
   "metadata": {
    "id": "3f350cdb",
    "ExecuteTime": {
     "end_time": "2024-06-05T15:34:43.917993Z",
     "start_time": "2024-06-05T15:34:43.902970Z"
    }
   },
   "source": [
    "lr = LinearRegression()"
   ],
   "outputs": [],
   "execution_count": 848
  },
  {
   "cell_type": "code",
   "id": "2dd2bf22",
   "metadata": {
    "id": "2dd2bf22",
    "outputId": "af2d6bee-c3c6-462a-85d9-60655a7db152",
    "ExecuteTime": {
     "end_time": "2024-06-05T15:34:43.932983Z",
     "start_time": "2024-06-05T15:34:43.919988Z"
    }
   },
   "source": [
    "lr.fit(x_test, y_test)"
   ],
   "outputs": [
    {
     "data": {
      "text/plain": [
       "LinearRegression()"
      ],
      "text/html": [
       "<style>#sk-container-id-43 {\n",
       "  /* Definition of color scheme common for light and dark mode */\n",
       "  --sklearn-color-text: black;\n",
       "  --sklearn-color-line: gray;\n",
       "  /* Definition of color scheme for unfitted estimators */\n",
       "  --sklearn-color-unfitted-level-0: #fff5e6;\n",
       "  --sklearn-color-unfitted-level-1: #f6e4d2;\n",
       "  --sklearn-color-unfitted-level-2: #ffe0b3;\n",
       "  --sklearn-color-unfitted-level-3: chocolate;\n",
       "  /* Definition of color scheme for fitted estimators */\n",
       "  --sklearn-color-fitted-level-0: #f0f8ff;\n",
       "  --sklearn-color-fitted-level-1: #d4ebff;\n",
       "  --sklearn-color-fitted-level-2: #b3dbfd;\n",
       "  --sklearn-color-fitted-level-3: cornflowerblue;\n",
       "\n",
       "  /* Specific color for light theme */\n",
       "  --sklearn-color-text-on-default-background: var(--sg-text-color, var(--theme-code-foreground, var(--jp-content-font-color1, black)));\n",
       "  --sklearn-color-background: var(--sg-background-color, var(--theme-background, var(--jp-layout-color0, white)));\n",
       "  --sklearn-color-border-box: var(--sg-text-color, var(--theme-code-foreground, var(--jp-content-font-color1, black)));\n",
       "  --sklearn-color-icon: #696969;\n",
       "\n",
       "  @media (prefers-color-scheme: dark) {\n",
       "    /* Redefinition of color scheme for dark theme */\n",
       "    --sklearn-color-text-on-default-background: var(--sg-text-color, var(--theme-code-foreground, var(--jp-content-font-color1, white)));\n",
       "    --sklearn-color-background: var(--sg-background-color, var(--theme-background, var(--jp-layout-color0, #111)));\n",
       "    --sklearn-color-border-box: var(--sg-text-color, var(--theme-code-foreground, var(--jp-content-font-color1, white)));\n",
       "    --sklearn-color-icon: #878787;\n",
       "  }\n",
       "}\n",
       "\n",
       "#sk-container-id-43 {\n",
       "  color: var(--sklearn-color-text);\n",
       "}\n",
       "\n",
       "#sk-container-id-43 pre {\n",
       "  padding: 0;\n",
       "}\n",
       "\n",
       "#sk-container-id-43 input.sk-hidden--visually {\n",
       "  border: 0;\n",
       "  clip: rect(1px 1px 1px 1px);\n",
       "  clip: rect(1px, 1px, 1px, 1px);\n",
       "  height: 1px;\n",
       "  margin: -1px;\n",
       "  overflow: hidden;\n",
       "  padding: 0;\n",
       "  position: absolute;\n",
       "  width: 1px;\n",
       "}\n",
       "\n",
       "#sk-container-id-43 div.sk-dashed-wrapped {\n",
       "  border: 1px dashed var(--sklearn-color-line);\n",
       "  margin: 0 0.4em 0.5em 0.4em;\n",
       "  box-sizing: border-box;\n",
       "  padding-bottom: 0.4em;\n",
       "  background-color: var(--sklearn-color-background);\n",
       "}\n",
       "\n",
       "#sk-container-id-43 div.sk-container {\n",
       "  /* jupyter's `normalize.less` sets `[hidden] { display: none; }`\n",
       "     but bootstrap.min.css set `[hidden] { display: none !important; }`\n",
       "     so we also need the `!important` here to be able to override the\n",
       "     default hidden behavior on the sphinx rendered scikit-learn.org.\n",
       "     See: https://github.com/scikit-learn/scikit-learn/issues/21755 */\n",
       "  display: inline-block !important;\n",
       "  position: relative;\n",
       "}\n",
       "\n",
       "#sk-container-id-43 div.sk-text-repr-fallback {\n",
       "  display: none;\n",
       "}\n",
       "\n",
       "div.sk-parallel-item,\n",
       "div.sk-serial,\n",
       "div.sk-item {\n",
       "  /* draw centered vertical line to link estimators */\n",
       "  background-image: linear-gradient(var(--sklearn-color-text-on-default-background), var(--sklearn-color-text-on-default-background));\n",
       "  background-size: 2px 100%;\n",
       "  background-repeat: no-repeat;\n",
       "  background-position: center center;\n",
       "}\n",
       "\n",
       "/* Parallel-specific style estimator block */\n",
       "\n",
       "#sk-container-id-43 div.sk-parallel-item::after {\n",
       "  content: \"\";\n",
       "  width: 100%;\n",
       "  border-bottom: 2px solid var(--sklearn-color-text-on-default-background);\n",
       "  flex-grow: 1;\n",
       "}\n",
       "\n",
       "#sk-container-id-43 div.sk-parallel {\n",
       "  display: flex;\n",
       "  align-items: stretch;\n",
       "  justify-content: center;\n",
       "  background-color: var(--sklearn-color-background);\n",
       "  position: relative;\n",
       "}\n",
       "\n",
       "#sk-container-id-43 div.sk-parallel-item {\n",
       "  display: flex;\n",
       "  flex-direction: column;\n",
       "}\n",
       "\n",
       "#sk-container-id-43 div.sk-parallel-item:first-child::after {\n",
       "  align-self: flex-end;\n",
       "  width: 50%;\n",
       "}\n",
       "\n",
       "#sk-container-id-43 div.sk-parallel-item:last-child::after {\n",
       "  align-self: flex-start;\n",
       "  width: 50%;\n",
       "}\n",
       "\n",
       "#sk-container-id-43 div.sk-parallel-item:only-child::after {\n",
       "  width: 0;\n",
       "}\n",
       "\n",
       "/* Serial-specific style estimator block */\n",
       "\n",
       "#sk-container-id-43 div.sk-serial {\n",
       "  display: flex;\n",
       "  flex-direction: column;\n",
       "  align-items: center;\n",
       "  background-color: var(--sklearn-color-background);\n",
       "  padding-right: 1em;\n",
       "  padding-left: 1em;\n",
       "}\n",
       "\n",
       "\n",
       "/* Toggleable style: style used for estimator/Pipeline/ColumnTransformer box that is\n",
       "clickable and can be expanded/collapsed.\n",
       "- Pipeline and ColumnTransformer use this feature and define the default style\n",
       "- Estimators will overwrite some part of the style using the `sk-estimator` class\n",
       "*/\n",
       "\n",
       "/* Pipeline and ColumnTransformer style (default) */\n",
       "\n",
       "#sk-container-id-43 div.sk-toggleable {\n",
       "  /* Default theme specific background. It is overwritten whether we have a\n",
       "  specific estimator or a Pipeline/ColumnTransformer */\n",
       "  background-color: var(--sklearn-color-background);\n",
       "}\n",
       "\n",
       "/* Toggleable label */\n",
       "#sk-container-id-43 label.sk-toggleable__label {\n",
       "  cursor: pointer;\n",
       "  display: block;\n",
       "  width: 100%;\n",
       "  margin-bottom: 0;\n",
       "  padding: 0.5em;\n",
       "  box-sizing: border-box;\n",
       "  text-align: center;\n",
       "}\n",
       "\n",
       "#sk-container-id-43 label.sk-toggleable__label-arrow:before {\n",
       "  /* Arrow on the left of the label */\n",
       "  content: \"▸\";\n",
       "  float: left;\n",
       "  margin-right: 0.25em;\n",
       "  color: var(--sklearn-color-icon);\n",
       "}\n",
       "\n",
       "#sk-container-id-43 label.sk-toggleable__label-arrow:hover:before {\n",
       "  color: var(--sklearn-color-text);\n",
       "}\n",
       "\n",
       "/* Toggleable content - dropdown */\n",
       "\n",
       "#sk-container-id-43 div.sk-toggleable__content {\n",
       "  max-height: 0;\n",
       "  max-width: 0;\n",
       "  overflow: hidden;\n",
       "  text-align: left;\n",
       "  /* unfitted */\n",
       "  background-color: var(--sklearn-color-unfitted-level-0);\n",
       "}\n",
       "\n",
       "#sk-container-id-43 div.sk-toggleable__content.fitted {\n",
       "  /* fitted */\n",
       "  background-color: var(--sklearn-color-fitted-level-0);\n",
       "}\n",
       "\n",
       "#sk-container-id-43 div.sk-toggleable__content pre {\n",
       "  margin: 0.2em;\n",
       "  border-radius: 0.25em;\n",
       "  color: var(--sklearn-color-text);\n",
       "  /* unfitted */\n",
       "  background-color: var(--sklearn-color-unfitted-level-0);\n",
       "}\n",
       "\n",
       "#sk-container-id-43 div.sk-toggleable__content.fitted pre {\n",
       "  /* unfitted */\n",
       "  background-color: var(--sklearn-color-fitted-level-0);\n",
       "}\n",
       "\n",
       "#sk-container-id-43 input.sk-toggleable__control:checked~div.sk-toggleable__content {\n",
       "  /* Expand drop-down */\n",
       "  max-height: 200px;\n",
       "  max-width: 100%;\n",
       "  overflow: auto;\n",
       "}\n",
       "\n",
       "#sk-container-id-43 input.sk-toggleable__control:checked~label.sk-toggleable__label-arrow:before {\n",
       "  content: \"▾\";\n",
       "}\n",
       "\n",
       "/* Pipeline/ColumnTransformer-specific style */\n",
       "\n",
       "#sk-container-id-43 div.sk-label input.sk-toggleable__control:checked~label.sk-toggleable__label {\n",
       "  color: var(--sklearn-color-text);\n",
       "  background-color: var(--sklearn-color-unfitted-level-2);\n",
       "}\n",
       "\n",
       "#sk-container-id-43 div.sk-label.fitted input.sk-toggleable__control:checked~label.sk-toggleable__label {\n",
       "  background-color: var(--sklearn-color-fitted-level-2);\n",
       "}\n",
       "\n",
       "/* Estimator-specific style */\n",
       "\n",
       "/* Colorize estimator box */\n",
       "#sk-container-id-43 div.sk-estimator input.sk-toggleable__control:checked~label.sk-toggleable__label {\n",
       "  /* unfitted */\n",
       "  background-color: var(--sklearn-color-unfitted-level-2);\n",
       "}\n",
       "\n",
       "#sk-container-id-43 div.sk-estimator.fitted input.sk-toggleable__control:checked~label.sk-toggleable__label {\n",
       "  /* fitted */\n",
       "  background-color: var(--sklearn-color-fitted-level-2);\n",
       "}\n",
       "\n",
       "#sk-container-id-43 div.sk-label label.sk-toggleable__label,\n",
       "#sk-container-id-43 div.sk-label label {\n",
       "  /* The background is the default theme color */\n",
       "  color: var(--sklearn-color-text-on-default-background);\n",
       "}\n",
       "\n",
       "/* On hover, darken the color of the background */\n",
       "#sk-container-id-43 div.sk-label:hover label.sk-toggleable__label {\n",
       "  color: var(--sklearn-color-text);\n",
       "  background-color: var(--sklearn-color-unfitted-level-2);\n",
       "}\n",
       "\n",
       "/* Label box, darken color on hover, fitted */\n",
       "#sk-container-id-43 div.sk-label.fitted:hover label.sk-toggleable__label.fitted {\n",
       "  color: var(--sklearn-color-text);\n",
       "  background-color: var(--sklearn-color-fitted-level-2);\n",
       "}\n",
       "\n",
       "/* Estimator label */\n",
       "\n",
       "#sk-container-id-43 div.sk-label label {\n",
       "  font-family: monospace;\n",
       "  font-weight: bold;\n",
       "  display: inline-block;\n",
       "  line-height: 1.2em;\n",
       "}\n",
       "\n",
       "#sk-container-id-43 div.sk-label-container {\n",
       "  text-align: center;\n",
       "}\n",
       "\n",
       "/* Estimator-specific */\n",
       "#sk-container-id-43 div.sk-estimator {\n",
       "  font-family: monospace;\n",
       "  border: 1px dotted var(--sklearn-color-border-box);\n",
       "  border-radius: 0.25em;\n",
       "  box-sizing: border-box;\n",
       "  margin-bottom: 0.5em;\n",
       "  /* unfitted */\n",
       "  background-color: var(--sklearn-color-unfitted-level-0);\n",
       "}\n",
       "\n",
       "#sk-container-id-43 div.sk-estimator.fitted {\n",
       "  /* fitted */\n",
       "  background-color: var(--sklearn-color-fitted-level-0);\n",
       "}\n",
       "\n",
       "/* on hover */\n",
       "#sk-container-id-43 div.sk-estimator:hover {\n",
       "  /* unfitted */\n",
       "  background-color: var(--sklearn-color-unfitted-level-2);\n",
       "}\n",
       "\n",
       "#sk-container-id-43 div.sk-estimator.fitted:hover {\n",
       "  /* fitted */\n",
       "  background-color: var(--sklearn-color-fitted-level-2);\n",
       "}\n",
       "\n",
       "/* Specification for estimator info (e.g. \"i\" and \"?\") */\n",
       "\n",
       "/* Common style for \"i\" and \"?\" */\n",
       "\n",
       ".sk-estimator-doc-link,\n",
       "a:link.sk-estimator-doc-link,\n",
       "a:visited.sk-estimator-doc-link {\n",
       "  float: right;\n",
       "  font-size: smaller;\n",
       "  line-height: 1em;\n",
       "  font-family: monospace;\n",
       "  background-color: var(--sklearn-color-background);\n",
       "  border-radius: 1em;\n",
       "  height: 1em;\n",
       "  width: 1em;\n",
       "  text-decoration: none !important;\n",
       "  margin-left: 1ex;\n",
       "  /* unfitted */\n",
       "  border: var(--sklearn-color-unfitted-level-1) 1pt solid;\n",
       "  color: var(--sklearn-color-unfitted-level-1);\n",
       "}\n",
       "\n",
       ".sk-estimator-doc-link.fitted,\n",
       "a:link.sk-estimator-doc-link.fitted,\n",
       "a:visited.sk-estimator-doc-link.fitted {\n",
       "  /* fitted */\n",
       "  border: var(--sklearn-color-fitted-level-1) 1pt solid;\n",
       "  color: var(--sklearn-color-fitted-level-1);\n",
       "}\n",
       "\n",
       "/* On hover */\n",
       "div.sk-estimator:hover .sk-estimator-doc-link:hover,\n",
       ".sk-estimator-doc-link:hover,\n",
       "div.sk-label-container:hover .sk-estimator-doc-link:hover,\n",
       ".sk-estimator-doc-link:hover {\n",
       "  /* unfitted */\n",
       "  background-color: var(--sklearn-color-unfitted-level-3);\n",
       "  color: var(--sklearn-color-background);\n",
       "  text-decoration: none;\n",
       "}\n",
       "\n",
       "div.sk-estimator.fitted:hover .sk-estimator-doc-link.fitted:hover,\n",
       ".sk-estimator-doc-link.fitted:hover,\n",
       "div.sk-label-container:hover .sk-estimator-doc-link.fitted:hover,\n",
       ".sk-estimator-doc-link.fitted:hover {\n",
       "  /* fitted */\n",
       "  background-color: var(--sklearn-color-fitted-level-3);\n",
       "  color: var(--sklearn-color-background);\n",
       "  text-decoration: none;\n",
       "}\n",
       "\n",
       "/* Span, style for the box shown on hovering the info icon */\n",
       ".sk-estimator-doc-link span {\n",
       "  display: none;\n",
       "  z-index: 9999;\n",
       "  position: relative;\n",
       "  font-weight: normal;\n",
       "  right: .2ex;\n",
       "  padding: .5ex;\n",
       "  margin: .5ex;\n",
       "  width: min-content;\n",
       "  min-width: 20ex;\n",
       "  max-width: 50ex;\n",
       "  color: var(--sklearn-color-text);\n",
       "  box-shadow: 2pt 2pt 4pt #999;\n",
       "  /* unfitted */\n",
       "  background: var(--sklearn-color-unfitted-level-0);\n",
       "  border: .5pt solid var(--sklearn-color-unfitted-level-3);\n",
       "}\n",
       "\n",
       ".sk-estimator-doc-link.fitted span {\n",
       "  /* fitted */\n",
       "  background: var(--sklearn-color-fitted-level-0);\n",
       "  border: var(--sklearn-color-fitted-level-3);\n",
       "}\n",
       "\n",
       ".sk-estimator-doc-link:hover span {\n",
       "  display: block;\n",
       "}\n",
       "\n",
       "/* \"?\"-specific style due to the `<a>` HTML tag */\n",
       "\n",
       "#sk-container-id-43 a.estimator_doc_link {\n",
       "  float: right;\n",
       "  font-size: 1rem;\n",
       "  line-height: 1em;\n",
       "  font-family: monospace;\n",
       "  background-color: var(--sklearn-color-background);\n",
       "  border-radius: 1rem;\n",
       "  height: 1rem;\n",
       "  width: 1rem;\n",
       "  text-decoration: none;\n",
       "  /* unfitted */\n",
       "  color: var(--sklearn-color-unfitted-level-1);\n",
       "  border: var(--sklearn-color-unfitted-level-1) 1pt solid;\n",
       "}\n",
       "\n",
       "#sk-container-id-43 a.estimator_doc_link.fitted {\n",
       "  /* fitted */\n",
       "  border: var(--sklearn-color-fitted-level-1) 1pt solid;\n",
       "  color: var(--sklearn-color-fitted-level-1);\n",
       "}\n",
       "\n",
       "/* On hover */\n",
       "#sk-container-id-43 a.estimator_doc_link:hover {\n",
       "  /* unfitted */\n",
       "  background-color: var(--sklearn-color-unfitted-level-3);\n",
       "  color: var(--sklearn-color-background);\n",
       "  text-decoration: none;\n",
       "}\n",
       "\n",
       "#sk-container-id-43 a.estimator_doc_link.fitted:hover {\n",
       "  /* fitted */\n",
       "  background-color: var(--sklearn-color-fitted-level-3);\n",
       "}\n",
       "</style><div id=\"sk-container-id-43\" class=\"sk-top-container\"><div class=\"sk-text-repr-fallback\"><pre>LinearRegression()</pre><b>In a Jupyter environment, please rerun this cell to show the HTML representation or trust the notebook. <br />On GitHub, the HTML representation is unable to render, please try loading this page with nbviewer.org.</b></div><div class=\"sk-container\" hidden><div class=\"sk-item\"><div class=\"sk-estimator fitted sk-toggleable\"><input class=\"sk-toggleable__control sk-hidden--visually\" id=\"sk-estimator-id-43\" type=\"checkbox\" checked><label for=\"sk-estimator-id-43\" class=\"sk-toggleable__label fitted sk-toggleable__label-arrow fitted\">&nbsp;&nbsp;LinearRegression<a class=\"sk-estimator-doc-link fitted\" rel=\"noreferrer\" target=\"_blank\" href=\"https://scikit-learn.org/1.5/modules/generated/sklearn.linear_model.LinearRegression.html\">?<span>Documentation for LinearRegression</span></a><span class=\"sk-estimator-doc-link fitted\">i<span>Fitted</span></span></label><div class=\"sk-toggleable__content fitted\"><pre>LinearRegression()</pre></div> </div></div></div></div>"
      ]
     },
     "execution_count": 849,
     "metadata": {},
     "output_type": "execute_result"
    }
   ],
   "execution_count": 849
  },
  {
   "cell_type": "markdown",
   "id": "44b7f46f",
   "metadata": {
    "id": "44b7f46f"
   },
   "source": [
    "Testiamo il modello. L'indice di capacità del modello è il coefficiente di determinazione R^2 della previsione, che indica la percentuale di variabilità nella variable dipendente spiegata dal modello.\n",
    "\n",
    "Il valore di R^2 è compreso fra un minimo di 0 e un massimo di 1"
   ]
  },
  {
   "cell_type": "code",
   "id": "58ca677d",
   "metadata": {
    "id": "58ca677d",
    "outputId": "c39710ae-b600-4b49-a280-75e139b467be",
    "ExecuteTime": {
     "end_time": "2024-06-05T15:34:43.948942Z",
     "start_time": "2024-06-05T15:34:43.933950Z"
    }
   },
   "source": [
    "lr_confindence = lr.score(x_test, y_test)\n",
    "print('lr_confindence: ', lr_confindence)"
   ],
   "outputs": [
    {
     "name": "stdout",
     "output_type": "stream",
     "text": [
      "lr_confindence:  0.9839900510224715\n"
     ]
    }
   ],
   "execution_count": 850
  },
  {
   "cell_type": "markdown",
   "id": "3686cfda",
   "metadata": {
    "id": "3686cfda"
   },
   "source": [
    "Creiamo la previsione degli ultimi 10 valori"
   ]
  },
  {
   "cell_type": "code",
   "id": "c8628404",
   "metadata": {
    "id": "c8628404",
    "outputId": "e2486b32-4a8e-4265-f522-60fe1c4409db",
    "ExecuteTime": {
     "end_time": "2024-06-05T15:34:43.964900Z",
     "start_time": "2024-06-05T15:34:43.949940Z"
    }
   },
   "source": [
    "x_forecast = np.array(df['Adj Close'])[-forecast_out:].reshape(-1,1)\n",
    "print(x_forecast)"
   ],
   "outputs": [
    {
     "name": "stdout",
     "output_type": "stream",
     "text": [
      "[[183.63000488]\n",
      " [184.69999695]\n",
      " [183.53999329]\n",
      " [183.1499939 ]\n",
      " [183.13000488]\n",
      " [181.05000305]\n",
      " [180.75      ]\n",
      " [182.1499939 ]\n",
      " [182.02000427]\n",
      " [179.32000732]]\n"
     ]
    }
   ],
   "execution_count": 851
  },
  {
   "cell_type": "markdown",
   "id": "ebc5cc73",
   "metadata": {
    "id": "ebc5cc73"
   },
   "source": [
    "Previsione dei prossimi n valori con il modello di regressione lineare"
   ]
  },
  {
   "cell_type": "code",
   "id": "a514fb84",
   "metadata": {
    "id": "a514fb84",
    "outputId": "11f50fbd-4f3e-4789-bbbf-23611d051b87",
    "ExecuteTime": {
     "end_time": "2024-06-05T15:34:43.979860Z",
     "start_time": "2024-06-05T15:34:43.966895Z"
    }
   },
   "source": [
    "lr_prediction = lr.predict(x_forecast)\n",
    "print(lr_prediction)"
   ],
   "outputs": [
    {
     "name": "stdout",
     "output_type": "stream",
     "text": [
      "[183.91027196 184.97665554 183.82056392 183.43187978 183.41195818\n",
      " 181.33897105 181.03997974 182.43525223 182.30570099 179.61480963]\n"
     ]
    }
   ],
   "execution_count": 852
  },
  {
   "cell_type": "markdown",
   "id": "cbfa7fb5",
   "metadata": {
    "id": "cbfa7fb5"
   },
   "source": [
    "Previsione dei prossimi n valori con il modello support vector machine"
   ]
  },
  {
   "cell_type": "code",
   "id": "5b9d4d7b",
   "metadata": {
    "id": "5b9d4d7b",
    "outputId": "1b294e95-4f5f-405f-ee11-246d210405ce",
    "ExecuteTime": {
     "end_time": "2024-06-05T15:34:43.995326Z",
     "start_time": "2024-06-05T15:34:43.981855Z"
    }
   },
   "source": [
    "svm_prediction = svr_rbf.predict(x_forecast)\n",
    "print(svm_prediction)"
   ],
   "outputs": [
    {
     "name": "stdout",
     "output_type": "stream",
     "text": [
      "[176.48792595 179.29295523 176.08972806 174.37083969 174.28986998\n",
      " 180.80256683 183.03665611 173.35802832 173.84417459 182.57021142]\n"
     ]
    }
   ],
   "execution_count": 853
  },
  {
   "cell_type": "markdown",
   "id": "cc49b1cc",
   "metadata": {
    "id": "cc49b1cc"
   },
   "source": [
    "Qual è la previsione migliore?"
   ]
  },
  {
   "cell_type": "code",
   "id": "3f8dc907",
   "metadata": {
    "id": "3f8dc907",
    "ExecuteTime": {
     "end_time": "2024-06-05T15:43:04.063874Z",
     "start_time": "2024-06-05T15:43:04.051063Z"
    }
   },
   "source": [
    "from sklearn.metrics import mean_squared_error\n",
    "from math import sqrt"
   ],
   "outputs": [
    {
     "data": {
      "text/plain": [
       "0.08102608918058615"
      ]
     },
     "execution_count": 879,
     "metadata": {},
     "output_type": "execute_result"
    }
   ],
   "execution_count": 879
  },
  {
   "cell_type": "code",
   "id": "a7141928",
   "metadata": {
    "id": "a7141928",
    "outputId": "b1aee5da-38ac-408d-a855-2bd982b95b8a",
    "ExecuteTime": {
     "end_time": "2024-06-05T15:34:44.025246Z",
     "start_time": "2024-06-05T15:34:44.013279Z"
    }
   },
   "source": [
    "lr_rmse = sqrt(mean_squared_error(x_forecast, lr_prediction))\n",
    "print(lr_rmse)"
   ],
   "outputs": [
    {
     "name": "stdout",
     "output_type": "stream",
     "text": [
      "0.28465081974339396\n"
     ]
    }
   ],
   "execution_count": 855
  },
  {
   "cell_type": "code",
   "id": "3300aecf",
   "metadata": {
    "id": "3300aecf",
    "outputId": "cd07e01e-040a-4598-e5c4-c817596d2323",
    "ExecuteTime": {
     "end_time": "2024-06-05T15:34:44.040207Z",
     "start_time": "2024-06-05T15:34:44.026244Z"
    }
   },
   "source": [
    "svm_rmse = sqrt(mean_squared_error(x_forecast, svm_prediction))\n",
    "print(svm_rmse)"
   ],
   "outputs": [
    {
     "name": "stdout",
     "output_type": "stream",
     "text": [
      "6.715430547381223\n"
     ]
    }
   ],
   "execution_count": 856
  },
  {
   "cell_type": "code",
   "id": "acd2ca67",
   "metadata": {
    "id": "acd2ca67",
    "outputId": "04f1c218-3461-4ac2-f893-67718ce74989",
    "ExecuteTime": {
     "end_time": "2024-06-05T15:34:44.195791Z",
     "start_time": "2024-06-05T15:34:44.041204Z"
    }
   },
   "source": [
    "plt.plot(x_forecast, label = 'Effettivo')\n",
    "plt.plot(lr_prediction, label = 'Prev. LR')\n",
    "plt.plot(svm_prediction, label = 'Prev. SVR')\n",
    "plt.grid(True)\n",
    "plt.legend();\n"
   ],
   "outputs": [
    {
     "data": {
      "text/plain": [
       "<Figure size 640x480 with 1 Axes>"
      ],
      "image/png": "[encoded data removed]"
     },
     "metadata": {},
     "output_type": "display_data"
    }
   ],
   "execution_count": 857
  },
  {
   "cell_type": "markdown",
   "id": "fabe8bb3",
   "metadata": {
    "id": "fabe8bb3"
   },
   "source": [
    "#### Previsione del prezzo di Ethereum con SVR\n",
    "https://www.youtube.com/watch?v=HiDEAWdAif0&ab_channel=ComputerScience"
   ]
  },
  {
   "cell_type": "code",
   "id": "50bafd2f",
   "metadata": {
    "id": "50bafd2f",
    "ExecuteTime": {
     "end_time": "2024-06-05T15:34:44.211750Z",
     "start_time": "2024-06-05T15:34:44.196788Z"
    }
   },
   "source": [
    "from datetime import date, datetime\n",
    "plt.style.use('fivethirtyeight')\n",
    "#import pandas_datareader.data as web\n",
    "import yfinance as yf\n",
    "import pandas as pd\n"
   ],
   "outputs": [],
   "execution_count": 858
  },
  {
   "cell_type": "code",
   "id": "810665c6",
   "metadata": {
    "id": "810665c6",
    "ExecuteTime": {
     "end_time": "2024-06-05T15:34:44.227705Z",
     "start_time": "2024-06-05T15:34:44.213743Z"
    }
   },
   "source": [
    "start_date = '2019-05-31'\n",
    "end_date = '2024-05-31'\n",
    "#end_date = datetime.today()"
   ],
   "outputs": [],
   "execution_count": 859
  },
  {
   "cell_type": "code",
   "id": "21bda080",
   "metadata": {
    "id": "21bda080",
    "ExecuteTime": {
     "end_time": "2024-06-05T15:34:44.272585Z",
     "start_time": "2024-06-05T15:34:44.229701Z"
    }
   },
   "source": [
    "df = yf.download('ETH-USD', start_date, end_date) "
   ],
   "outputs": [
    {
     "name": "stderr",
     "output_type": "stream",
     "text": [
      "[*********************100%%**********************]  1 of 1 completed\n"
     ]
    }
   ],
   "execution_count": 860
  },
  {
   "cell_type": "code",
   "id": "960a70ce",
   "metadata": {
    "id": "960a70ce",
    "outputId": "d455a937-72ab-458d-a0e9-2c5edd87f09d",
    "ExecuteTime": {
     "end_time": "2024-06-05T15:34:44.287545Z",
     "start_time": "2024-06-05T15:34:44.273583Z"
    }
   },
   "source": [
    "df.head()"
   ],
   "outputs": [
    {
     "data": {
      "text/plain": [
       "                  Open        High         Low       Close   Adj Close  \\\n",
       "Date                                                                     \n",
       "2019-05-31  256.015259  268.659943  249.111847  268.113556  268.113556   \n",
       "2019-06-01  268.433350  273.557983  263.524597  265.391266  265.391266   \n",
       "2019-06-02  265.512726  272.807220  265.041870  270.225525  270.225525   \n",
       "2019-06-03  270.088562  270.334106  251.262192  252.607925  252.607925   \n",
       "2019-06-04  252.511642  252.511642  236.127213  241.338791  241.338791   \n",
       "\n",
       "                 Volume  \n",
       "Date                     \n",
       "2019-05-31  11255023515  \n",
       "2019-06-01   9942869852  \n",
       "2019-06-02   8744111713  \n",
       "2019-06-03   9375712917  \n",
       "2019-06-04  10132549747  "
      ],
      "text/html": [
       "<div>\n",
       "<style scoped>\n",
       "    .dataframe tbody tr th:only-of-type {\n",
       "        vertical-align: middle;\n",
       "    }\n",
       "\n",
       "    .dataframe tbody tr th {\n",
       "        vertical-align: top;\n",
       "    }\n",
       "\n",
       "    .dataframe thead th {\n",
       "        text-align: right;\n",
       "    }\n",
       "</style>\n",
       "<table border=\"1\" class=\"dataframe\">\n",
       "  <thead>\n",
       "    <tr style=\"text-align: right;\">\n",
       "      <th></th>\n",
       "      <th>Open</th>\n",
       "      <th>High</th>\n",
       "      <th>Low</th>\n",
       "      <th>Close</th>\n",
       "      <th>Adj Close</th>\n",
       "      <th>Volume</th>\n",
       "    </tr>\n",
       "    <tr>\n",
       "      <th>Date</th>\n",
       "      <th></th>\n",
       "      <th></th>\n",
       "      <th></th>\n",
       "      <th></th>\n",
       "      <th></th>\n",
       "      <th></th>\n",
       "    </tr>\n",
       "  </thead>\n",
       "  <tbody>\n",
       "    <tr>\n",
       "      <th>2019-05-31</th>\n",
       "      <td>256.015259</td>\n",
       "      <td>268.659943</td>\n",
       "      <td>249.111847</td>\n",
       "      <td>268.113556</td>\n",
       "      <td>268.113556</td>\n",
       "      <td>11255023515</td>\n",
       "    </tr>\n",
       "    <tr>\n",
       "      <th>2019-06-01</th>\n",
       "      <td>268.433350</td>\n",
       "      <td>273.557983</td>\n",
       "      <td>263.524597</td>\n",
       "      <td>265.391266</td>\n",
       "      <td>265.391266</td>\n",
       "      <td>9942869852</td>\n",
       "    </tr>\n",
       "    <tr>\n",
       "      <th>2019-06-02</th>\n",
       "      <td>265.512726</td>\n",
       "      <td>272.807220</td>\n",
       "      <td>265.041870</td>\n",
       "      <td>270.225525</td>\n",
       "      <td>270.225525</td>\n",
       "      <td>8744111713</td>\n",
       "    </tr>\n",
       "    <tr>\n",
       "      <th>2019-06-03</th>\n",
       "      <td>270.088562</td>\n",
       "      <td>270.334106</td>\n",
       "      <td>251.262192</td>\n",
       "      <td>252.607925</td>\n",
       "      <td>252.607925</td>\n",
       "      <td>9375712917</td>\n",
       "    </tr>\n",
       "    <tr>\n",
       "      <th>2019-06-04</th>\n",
       "      <td>252.511642</td>\n",
       "      <td>252.511642</td>\n",
       "      <td>236.127213</td>\n",
       "      <td>241.338791</td>\n",
       "      <td>241.338791</td>\n",
       "      <td>10132549747</td>\n",
       "    </tr>\n",
       "  </tbody>\n",
       "</table>\n",
       "</div>"
      ]
     },
     "execution_count": 861,
     "metadata": {},
     "output_type": "execute_result"
    }
   ],
   "execution_count": 861
  },
  {
   "cell_type": "code",
   "id": "a4ed933c",
   "metadata": {
    "id": "a4ed933c",
    "ExecuteTime": {
     "end_time": "2024-06-05T15:34:44.302505Z",
     "start_time": "2024-06-05T15:34:44.288542Z"
    }
   },
   "source": [
    "future_days = 5"
   ],
   "outputs": [],
   "execution_count": 862
  },
  {
   "cell_type": "code",
   "id": "8983a471",
   "metadata": {
    "id": "8983a471",
    "ExecuteTime": {
     "end_time": "2024-06-05T15:34:44.318462Z",
     "start_time": "2024-06-05T15:34:44.304501Z"
    }
   },
   "source": [
    "# Creiamo una  nuova colonna con i prezzi futuri"
   ],
   "outputs": [],
   "execution_count": 863
  },
  {
   "cell_type": "code",
   "id": "af979e5c",
   "metadata": {
    "id": "af979e5c",
    "ExecuteTime": {
     "end_time": "2024-06-05T15:34:44.333423Z",
     "start_time": "2024-06-05T15:34:44.319460Z"
    }
   },
   "source": [
    "df[str(future_days) + '_Day_Price_Forecast'] = df[['Close']].shift(-future_days)"
   ],
   "outputs": [],
   "execution_count": 864
  },
  {
   "cell_type": "code",
   "id": "1b705357",
   "metadata": {
    "ExecuteTime": {
     "end_time": "2024-06-05T15:34:44.349379Z",
     "start_time": "2024-06-05T15:34:44.334420Z"
    }
   },
   "source": [
    "df.head(10)"
   ],
   "outputs": [
    {
     "data": {
      "text/plain": [
       "                  Open        High         Low       Close   Adj Close  \\\n",
       "Date                                                                     \n",
       "2019-05-31  256.015259  268.659943  249.111847  268.113556  268.113556   \n",
       "2019-06-01  268.433350  273.557983  263.524597  265.391266  265.391266   \n",
       "2019-06-02  265.512726  272.807220  265.041870  270.225525  270.225525   \n",
       "2019-06-03  270.088562  270.334106  251.262192  252.607925  252.607925   \n",
       "2019-06-04  252.511642  252.511642  236.127213  241.338791  241.338791   \n",
       "2019-06-05  241.497040  248.138138  239.983459  247.051010  247.051010   \n",
       "2019-06-06  246.925247  249.944504  238.501114  249.474335  249.474335   \n",
       "2019-06-07  249.335281  254.352295  246.597900  250.930359  250.930359   \n",
       "2019-06-08  251.249313  252.377396  243.229111  245.738098  245.738098   \n",
       "2019-06-09  245.540482  245.972824  229.257431  233.086700  233.086700   \n",
       "\n",
       "                 Volume  5_Day_Price_Forecast  \n",
       "Date                                           \n",
       "2019-05-31  11255023515            247.051010  \n",
       "2019-06-01   9942869852            249.474335  \n",
       "2019-06-02   8744111713            250.930359  \n",
       "2019-06-03   9375712917            245.738098  \n",
       "2019-06-04  10132549747            233.086700  \n",
       "2019-06-05   8548917062            247.520126  \n",
       "2019-06-06   8265146806            245.781830  \n",
       "2019-06-07   8379534528            260.903290  \n",
       "2019-06-08   7225996863            256.168793  \n",
       "2019-06-09   7566421456            264.087463  "
      ],
      "text/html": [
       "<div>\n",
       "<style scoped>\n",
       "    .dataframe tbody tr th:only-of-type {\n",
       "        vertical-align: middle;\n",
       "    }\n",
       "\n",
       "    .dataframe tbody tr th {\n",
       "        vertical-align: top;\n",
       "    }\n",
       "\n",
       "    .dataframe thead th {\n",
       "        text-align: right;\n",
       "    }\n",
       "</style>\n",
       "<table border=\"1\" class=\"dataframe\">\n",
       "  <thead>\n",
       "    <tr style=\"text-align: right;\">\n",
       "      <th></th>\n",
       "      <th>Open</th>\n",
       "      <th>High</th>\n",
       "      <th>Low</th>\n",
       "      <th>Close</th>\n",
       "      <th>Adj Close</th>\n",
       "      <th>Volume</th>\n",
       "      <th>5_Day_Price_Forecast</th>\n",
       "    </tr>\n",
       "    <tr>\n",
       "      <th>Date</th>\n",
       "      <th></th>\n",
       "      <th></th>\n",
       "      <th></th>\n",
       "      <th></th>\n",
       "      <th></th>\n",
       "      <th></th>\n",
       "      <th></th>\n",
       "    </tr>\n",
       "  </thead>\n",
       "  <tbody>\n",
       "    <tr>\n",
       "      <th>2019-05-31</th>\n",
       "      <td>256.015259</td>\n",
       "      <td>268.659943</td>\n",
       "      <td>249.111847</td>\n",
       "      <td>268.113556</td>\n",
       "      <td>268.113556</td>\n",
       "      <td>11255023515</td>\n",
       "      <td>247.051010</td>\n",
       "    </tr>\n",
       "    <tr>\n",
       "      <th>2019-06-01</th>\n",
       "      <td>268.433350</td>\n",
       "      <td>273.557983</td>\n",
       "      <td>263.524597</td>\n",
       "      <td>265.391266</td>\n",
       "      <td>265.391266</td>\n",
       "      <td>9942869852</td>\n",
       "      <td>249.474335</td>\n",
       "    </tr>\n",
       "    <tr>\n",
       "      <th>2019-06-02</th>\n",
       "      <td>265.512726</td>\n",
       "      <td>272.807220</td>\n",
       "      <td>265.041870</td>\n",
       "      <td>270.225525</td>\n",
       "      <td>270.225525</td>\n",
       "      <td>8744111713</td>\n",
       "      <td>250.930359</td>\n",
       "    </tr>\n",
       "    <tr>\n",
       "      <th>2019-06-03</th>\n",
       "      <td>270.088562</td>\n",
       "      <td>270.334106</td>\n",
       "      <td>251.262192</td>\n",
       "      <td>252.607925</td>\n",
       "      <td>252.607925</td>\n",
       "      <td>9375712917</td>\n",
       "      <td>245.738098</td>\n",
       "    </tr>\n",
       "    <tr>\n",
       "      <th>2019-06-04</th>\n",
       "      <td>252.511642</td>\n",
       "      <td>252.511642</td>\n",
       "      <td>236.127213</td>\n",
       "      <td>241.338791</td>\n",
       "      <td>241.338791</td>\n",
       "      <td>10132549747</td>\n",
       "      <td>233.086700</td>\n",
       "    </tr>\n",
       "    <tr>\n",
       "      <th>2019-06-05</th>\n",
       "      <td>241.497040</td>\n",
       "      <td>248.138138</td>\n",
       "      <td>239.983459</td>\n",
       "      <td>247.051010</td>\n",
       "      <td>247.051010</td>\n",
       "      <td>8548917062</td>\n",
       "      <td>247.520126</td>\n",
       "    </tr>\n",
       "    <tr>\n",
       "      <th>2019-06-06</th>\n",
       "      <td>246.925247</td>\n",
       "      <td>249.944504</td>\n",
       "      <td>238.501114</td>\n",
       "      <td>249.474335</td>\n",
       "      <td>249.474335</td>\n",
       "      <td>8265146806</td>\n",
       "      <td>245.781830</td>\n",
       "    </tr>\n",
       "    <tr>\n",
       "      <th>2019-06-07</th>\n",
       "      <td>249.335281</td>\n",
       "      <td>254.352295</td>\n",
       "      <td>246.597900</td>\n",
       "      <td>250.930359</td>\n",
       "      <td>250.930359</td>\n",
       "      <td>8379534528</td>\n",
       "      <td>260.903290</td>\n",
       "    </tr>\n",
       "    <tr>\n",
       "      <th>2019-06-08</th>\n",
       "      <td>251.249313</td>\n",
       "      <td>252.377396</td>\n",
       "      <td>243.229111</td>\n",
       "      <td>245.738098</td>\n",
       "      <td>245.738098</td>\n",
       "      <td>7225996863</td>\n",
       "      <td>256.168793</td>\n",
       "    </tr>\n",
       "    <tr>\n",
       "      <th>2019-06-09</th>\n",
       "      <td>245.540482</td>\n",
       "      <td>245.972824</td>\n",
       "      <td>229.257431</td>\n",
       "      <td>233.086700</td>\n",
       "      <td>233.086700</td>\n",
       "      <td>7566421456</td>\n",
       "      <td>264.087463</td>\n",
       "    </tr>\n",
       "  </tbody>\n",
       "</table>\n",
       "</div>"
      ]
     },
     "execution_count": 865,
     "metadata": {},
     "output_type": "execute_result"
    }
   ],
   "execution_count": 865
  },
  {
   "cell_type": "code",
   "id": "010d4748",
   "metadata": {
    "id": "010d4748",
    "outputId": "4a58811c-a663-4124-99e4-5eae2aa329c9",
    "ExecuteTime": {
     "end_time": "2024-06-05T15:34:44.365337Z",
     "start_time": "2024-06-05T15:34:44.350377Z"
    }
   },
   "source": [
    "df.tail(7)"
   ],
   "outputs": [
    {
     "data": {
      "text/plain": [
       "                   Open         High          Low        Close    Adj Close  \\\n",
       "Date                                                                          \n",
       "2024-05-24  3776.992432  3825.122559  3631.990234  3726.934570  3726.934570   \n",
       "2024-05-25  3726.975586  3776.006592  3710.528320  3749.236572  3749.236572   \n",
       "2024-05-26  3749.179932  3879.470703  3732.022949  3825.897461  3825.897461   \n",
       "2024-05-27  3826.127197  3973.556396  3821.930420  3892.006836  3892.006836   \n",
       "2024-05-28  3892.096924  3924.895752  3771.213867  3840.256348  3840.256348   \n",
       "2024-05-29  3840.235107  3880.648438  3742.041260  3763.196533  3763.196533   \n",
       "2024-05-30  3763.357666  3823.643311  3702.263672  3746.849609  3746.849609   \n",
       "\n",
       "                 Volume  5_Day_Price_Forecast  \n",
       "Date                                           \n",
       "2024-05-24  22257061429           3763.196533  \n",
       "2024-05-25  10000027764           3746.849609  \n",
       "2024-05-26  14650794791                   NaN  \n",
       "2024-05-27  18949181813                   NaN  \n",
       "2024-05-28  19846044324                   NaN  \n",
       "2024-05-29  17411416736                   NaN  \n",
       "2024-05-30  15065849797                   NaN  "
      ],
      "text/html": [
       "<div>\n",
       "<style scoped>\n",
       "    .dataframe tbody tr th:only-of-type {\n",
       "        vertical-align: middle;\n",
       "    }\n",
       "\n",
       "    .dataframe tbody tr th {\n",
       "        vertical-align: top;\n",
       "    }\n",
       "\n",
       "    .dataframe thead th {\n",
       "        text-align: right;\n",
       "    }\n",
       "</style>\n",
       "<table border=\"1\" class=\"dataframe\">\n",
       "  <thead>\n",
       "    <tr style=\"text-align: right;\">\n",
       "      <th></th>\n",
       "      <th>Open</th>\n",
       "      <th>High</th>\n",
       "      <th>Low</th>\n",
       "      <th>Close</th>\n",
       "      <th>Adj Close</th>\n",
       "      <th>Volume</th>\n",
       "      <th>5_Day_Price_Forecast</th>\n",
       "    </tr>\n",
       "    <tr>\n",
       "      <th>Date</th>\n",
       "      <th></th>\n",
       "      <th></th>\n",
       "      <th></th>\n",
       "      <th></th>\n",
       "      <th></th>\n",
       "      <th></th>\n",
       "      <th></th>\n",
       "    </tr>\n",
       "  </thead>\n",
       "  <tbody>\n",
       "    <tr>\n",
       "      <th>2024-05-24</th>\n",
       "      <td>3776.992432</td>\n",
       "      <td>3825.122559</td>\n",
       "      <td>3631.990234</td>\n",
       "      <td>3726.934570</td>\n",
       "      <td>3726.934570</td>\n",
       "      <td>22257061429</td>\n",
       "      <td>3763.196533</td>\n",
       "    </tr>\n",
       "    <tr>\n",
       "      <th>2024-05-25</th>\n",
       "      <td>3726.975586</td>\n",
       "      <td>3776.006592</td>\n",
       "      <td>3710.528320</td>\n",
       "      <td>3749.236572</td>\n",
       "      <td>3749.236572</td>\n",
       "      <td>10000027764</td>\n",
       "      <td>3746.849609</td>\n",
       "    </tr>\n",
       "    <tr>\n",
       "      <th>2024-05-26</th>\n",
       "      <td>3749.179932</td>\n",
       "      <td>3879.470703</td>\n",
       "      <td>3732.022949</td>\n",
       "      <td>3825.897461</td>\n",
       "      <td>3825.897461</td>\n",
       "      <td>14650794791</td>\n",
       "      <td>NaN</td>\n",
       "    </tr>\n",
       "    <tr>\n",
       "      <th>2024-05-27</th>\n",
       "      <td>3826.127197</td>\n",
       "      <td>3973.556396</td>\n",
       "      <td>3821.930420</td>\n",
       "      <td>3892.006836</td>\n",
       "      <td>3892.006836</td>\n",
       "      <td>18949181813</td>\n",
       "      <td>NaN</td>\n",
       "    </tr>\n",
       "    <tr>\n",
       "      <th>2024-05-28</th>\n",
       "      <td>3892.096924</td>\n",
       "      <td>3924.895752</td>\n",
       "      <td>3771.213867</td>\n",
       "      <td>3840.256348</td>\n",
       "      <td>3840.256348</td>\n",
       "      <td>19846044324</td>\n",
       "      <td>NaN</td>\n",
       "    </tr>\n",
       "    <tr>\n",
       "      <th>2024-05-29</th>\n",
       "      <td>3840.235107</td>\n",
       "      <td>3880.648438</td>\n",
       "      <td>3742.041260</td>\n",
       "      <td>3763.196533</td>\n",
       "      <td>3763.196533</td>\n",
       "      <td>17411416736</td>\n",
       "      <td>NaN</td>\n",
       "    </tr>\n",
       "    <tr>\n",
       "      <th>2024-05-30</th>\n",
       "      <td>3763.357666</td>\n",
       "      <td>3823.643311</td>\n",
       "      <td>3702.263672</td>\n",
       "      <td>3746.849609</td>\n",
       "      <td>3746.849609</td>\n",
       "      <td>15065849797</td>\n",
       "      <td>NaN</td>\n",
       "    </tr>\n",
       "  </tbody>\n",
       "</table>\n",
       "</div>"
      ]
     },
     "execution_count": 866,
     "metadata": {},
     "output_type": "execute_result"
    }
   ],
   "execution_count": 866
  },
  {
   "cell_type": "markdown",
   "id": "c37e65f0",
   "metadata": {
    "id": "c37e65f0"
   },
   "source": [
    "Creiamo il data set per la previsione"
   ]
  },
  {
   "cell_type": "code",
   "id": "1ec6ab4a",
   "metadata": {
    "id": "1ec6ab4a",
    "ExecuteTime": {
     "end_time": "2024-06-05T15:34:44.381294Z",
     "start_time": "2024-06-05T15:34:44.366335Z"
    }
   },
   "source": [
    "X = np.array(df[['Close']])\n",
    "X = X[:df.shape[0] - future_days]"
   ],
   "outputs": [],
   "execution_count": 867
  },
  {
   "cell_type": "code",
   "id": "8e3ece53",
   "metadata": {
    "id": "8e3ece53",
    "outputId": "462db5e4-3f31-4050-a4e3-00b1c92d2429",
    "ExecuteTime": {
     "end_time": "2024-06-05T15:34:44.397251Z",
     "start_time": "2024-06-05T15:34:44.382292Z"
    }
   },
   "source": [
    "df.shape"
   ],
   "outputs": [
    {
     "data": {
      "text/plain": [
       "(1827, 7)"
      ]
     },
     "execution_count": 868,
     "metadata": {},
     "output_type": "execute_result"
    }
   ],
   "execution_count": 868
  },
  {
   "cell_type": "code",
   "id": "efb2e5a3",
   "metadata": {
    "id": "efb2e5a3",
    "outputId": "cb289791-b883-4cdb-ab88-3a7045b1fa17",
    "ExecuteTime": {
     "end_time": "2024-06-05T15:34:44.413287Z",
     "start_time": "2024-06-05T15:34:44.398249Z"
    }
   },
   "source": [
    "df.shape[0]"
   ],
   "outputs": [
    {
     "data": {
      "text/plain": [
       "1827"
      ]
     },
     "execution_count": 869,
     "metadata": {},
     "output_type": "execute_result"
    }
   ],
   "execution_count": 869
  },
  {
   "cell_type": "code",
   "id": "9c7a4297",
   "metadata": {
    "ExecuteTime": {
     "end_time": "2024-06-05T15:34:44.429166Z",
     "start_time": "2024-06-05T15:34:44.414207Z"
    }
   },
   "source": [
    "len(X)"
   ],
   "outputs": [
    {
     "data": {
      "text/plain": [
       "1822"
      ]
     },
     "execution_count": 870,
     "metadata": {},
     "output_type": "execute_result"
    }
   ],
   "execution_count": 870
  },
  {
   "cell_type": "code",
   "id": "07bc3854",
   "metadata": {
    "id": "07bc3854",
    "ExecuteTime": {
     "end_time": "2024-06-05T15:34:44.444126Z",
     "start_time": "2024-06-05T15:34:44.431161Z"
    }
   },
   "source": [
    "y = np.array(df[str(future_days) + '_Day_Price_Forecast'])"
   ],
   "outputs": [],
   "execution_count": 871
  },
  {
   "cell_type": "code",
   "id": "0713d47c",
   "metadata": {
    "id": "0713d47c",
    "outputId": "3612be8e-c0f5-42fe-c5db-12768718a190",
    "scrolled": true,
    "ExecuteTime": {
     "end_time": "2024-06-05T15:34:44.460084Z",
     "start_time": "2024-06-05T15:34:44.447118Z"
    }
   },
   "source": [
    "y = y[:-future_days]\n",
    "print(y)"
   ],
   "outputs": [
    {
     "name": "stdout",
     "output_type": "stream",
     "text": [
      "[ 247.05101013  249.47433472  250.93035889 ... 3840.25634766 3763.1965332\n",
      " 3746.84960938]\n"
     ]
    }
   ],
   "execution_count": 872
  },
  {
   "cell_type": "markdown",
   "id": "c40b3de3",
   "metadata": {
    "id": "c40b3de3"
   },
   "source": [
    "Creiamo il data set di addestramento e test"
   ]
  },
  {
   "cell_type": "code",
   "id": "2d41df04",
   "metadata": {
    "id": "2d41df04",
    "ExecuteTime": {
     "end_time": "2024-06-05T15:34:44.476041Z",
     "start_time": "2024-06-05T15:34:44.461081Z"
    }
   },
   "source": [
    "x_train, x_test, y_train, y_test = train_test_split(X, y, test_size = 0.2)"
   ],
   "outputs": [],
   "execution_count": 873
  },
  {
   "cell_type": "code",
   "id": "3c9fc27e",
   "metadata": {
    "id": "3c9fc27e",
    "outputId": "5a16988c-1c72-4e20-f0a5-b73c009657ba",
    "ExecuteTime": {
     "end_time": "2024-06-05T15:34:44.602702Z",
     "start_time": "2024-06-05T15:34:44.478037Z"
    }
   },
   "source": [
    "svr_rbf = SVR(kernel='rbf', C = 1e3, gamma = 0.00001)\n",
    "svr_rbf.fit(x_train,y_train)"
   ],
   "outputs": [
    {
     "data": {
      "text/plain": [
       "SVR(C=1000.0, gamma=1e-05)"
      ],
      "text/html": [
       "<style>#sk-container-id-44 {\n",
       "  /* Definition of color scheme common for light and dark mode */\n",
       "  --sklearn-color-text: black;\n",
       "  --sklearn-color-line: gray;\n",
       "  /* Definition of color scheme for unfitted estimators */\n",
       "  --sklearn-color-unfitted-level-0: #fff5e6;\n",
       "  --sklearn-color-unfitted-level-1: #f6e4d2;\n",
       "  --sklearn-color-unfitted-level-2: #ffe0b3;\n",
       "  --sklearn-color-unfitted-level-3: chocolate;\n",
       "  /* Definition of color scheme for fitted estimators */\n",
       "  --sklearn-color-fitted-level-0: #f0f8ff;\n",
       "  --sklearn-color-fitted-level-1: #d4ebff;\n",
       "  --sklearn-color-fitted-level-2: #b3dbfd;\n",
       "  --sklearn-color-fitted-level-3: cornflowerblue;\n",
       "\n",
       "  /* Specific color for light theme */\n",
       "  --sklearn-color-text-on-default-background: var(--sg-text-color, var(--theme-code-foreground, var(--jp-content-font-color1, black)));\n",
       "  --sklearn-color-background: var(--sg-background-color, var(--theme-background, var(--jp-layout-color0, white)));\n",
       "  --sklearn-color-border-box: var(--sg-text-color, var(--theme-code-foreground, var(--jp-content-font-color1, black)));\n",
       "  --sklearn-color-icon: #696969;\n",
       "\n",
       "  @media (prefers-color-scheme: dark) {\n",
       "    /* Redefinition of color scheme for dark theme */\n",
       "    --sklearn-color-text-on-default-background: var(--sg-text-color, var(--theme-code-foreground, var(--jp-content-font-color1, white)));\n",
       "    --sklearn-color-background: var(--sg-background-color, var(--theme-background, var(--jp-layout-color0, #111)));\n",
       "    --sklearn-color-border-box: var(--sg-text-color, var(--theme-code-foreground, var(--jp-content-font-color1, white)));\n",
       "    --sklearn-color-icon: #878787;\n",
       "  }\n",
       "}\n",
       "\n",
       "#sk-container-id-44 {\n",
       "  color: var(--sklearn-color-text);\n",
       "}\n",
       "\n",
       "#sk-container-id-44 pre {\n",
       "  padding: 0;\n",
       "}\n",
       "\n",
       "#sk-container-id-44 input.sk-hidden--visually {\n",
       "  border: 0;\n",
       "  clip: rect(1px 1px 1px 1px);\n",
       "  clip: rect(1px, 1px, 1px, 1px);\n",
       "  height: 1px;\n",
       "  margin: -1px;\n",
       "  overflow: hidden;\n",
       "  padding: 0;\n",
       "  position: absolute;\n",
       "  width: 1px;\n",
       "}\n",
       "\n",
       "#sk-container-id-44 div.sk-dashed-wrapped {\n",
       "  border: 1px dashed var(--sklearn-color-line);\n",
       "  margin: 0 0.4em 0.5em 0.4em;\n",
       "  box-sizing: border-box;\n",
       "  padding-bottom: 0.4em;\n",
       "  background-color: var(--sklearn-color-background);\n",
       "}\n",
       "\n",
       "#sk-container-id-44 div.sk-container {\n",
       "  /* jupyter's `normalize.less` sets `[hidden] { display: none; }`\n",
       "     but bootstrap.min.css set `[hidden] { display: none !important; }`\n",
       "     so we also need the `!important` here to be able to override the\n",
       "     default hidden behavior on the sphinx rendered scikit-learn.org.\n",
       "     See: https://github.com/scikit-learn/scikit-learn/issues/21755 */\n",
       "  display: inline-block !important;\n",
       "  position: relative;\n",
       "}\n",
       "\n",
       "#sk-container-id-44 div.sk-text-repr-fallback {\n",
       "  display: none;\n",
       "}\n",
       "\n",
       "div.sk-parallel-item,\n",
       "div.sk-serial,\n",
       "div.sk-item {\n",
       "  /* draw centered vertical line to link estimators */\n",
       "  background-image: linear-gradient(var(--sklearn-color-text-on-default-background), var(--sklearn-color-text-on-default-background));\n",
       "  background-size: 2px 100%;\n",
       "  background-repeat: no-repeat;\n",
       "  background-position: center center;\n",
       "}\n",
       "\n",
       "/* Parallel-specific style estimator block */\n",
       "\n",
       "#sk-container-id-44 div.sk-parallel-item::after {\n",
       "  content: \"\";\n",
       "  width: 100%;\n",
       "  border-bottom: 2px solid var(--sklearn-color-text-on-default-background);\n",
       "  flex-grow: 1;\n",
       "}\n",
       "\n",
       "#sk-container-id-44 div.sk-parallel {\n",
       "  display: flex;\n",
       "  align-items: stretch;\n",
       "  justify-content: center;\n",
       "  background-color: var(--sklearn-color-background);\n",
       "  position: relative;\n",
       "}\n",
       "\n",
       "#sk-container-id-44 div.sk-parallel-item {\n",
       "  display: flex;\n",
       "  flex-direction: column;\n",
       "}\n",
       "\n",
       "#sk-container-id-44 div.sk-parallel-item:first-child::after {\n",
       "  align-self: flex-end;\n",
       "  width: 50%;\n",
       "}\n",
       "\n",
       "#sk-container-id-44 div.sk-parallel-item:last-child::after {\n",
       "  align-self: flex-start;\n",
       "  width: 50%;\n",
       "}\n",
       "\n",
       "#sk-container-id-44 div.sk-parallel-item:only-child::after {\n",
       "  width: 0;\n",
       "}\n",
       "\n",
       "/* Serial-specific style estimator block */\n",
       "\n",
       "#sk-container-id-44 div.sk-serial {\n",
       "  display: flex;\n",
       "  flex-direction: column;\n",
       "  align-items: center;\n",
       "  background-color: var(--sklearn-color-background);\n",
       "  padding-right: 1em;\n",
       "  padding-left: 1em;\n",
       "}\n",
       "\n",
       "\n",
       "/* Toggleable style: style used for estimator/Pipeline/ColumnTransformer box that is\n",
       "clickable and can be expanded/collapsed.\n",
       "- Pipeline and ColumnTransformer use this feature and define the default style\n",
       "- Estimators will overwrite some part of the style using the `sk-estimator` class\n",
       "*/\n",
       "\n",
       "/* Pipeline and ColumnTransformer style (default) */\n",
       "\n",
       "#sk-container-id-44 div.sk-toggleable {\n",
       "  /* Default theme specific background. It is overwritten whether we have a\n",
       "  specific estimator or a Pipeline/ColumnTransformer */\n",
       "  background-color: var(--sklearn-color-background);\n",
       "}\n",
       "\n",
       "/* Toggleable label */\n",
       "#sk-container-id-44 label.sk-toggleable__label {\n",
       "  cursor: pointer;\n",
       "  display: block;\n",
       "  width: 100%;\n",
       "  margin-bottom: 0;\n",
       "  padding: 0.5em;\n",
       "  box-sizing: border-box;\n",
       "  text-align: center;\n",
       "}\n",
       "\n",
       "#sk-container-id-44 label.sk-toggleable__label-arrow:before {\n",
       "  /* Arrow on the left of the label */\n",
       "  content: \"▸\";\n",
       "  float: left;\n",
       "  margin-right: 0.25em;\n",
       "  color: var(--sklearn-color-icon);\n",
       "}\n",
       "\n",
       "#sk-container-id-44 label.sk-toggleable__label-arrow:hover:before {\n",
       "  color: var(--sklearn-color-text);\n",
       "}\n",
       "\n",
       "/* Toggleable content - dropdown */\n",
       "\n",
       "#sk-container-id-44 div.sk-toggleable__content {\n",
       "  max-height: 0;\n",
       "  max-width: 0;\n",
       "  overflow: hidden;\n",
       "  text-align: left;\n",
       "  /* unfitted */\n",
       "  background-color: var(--sklearn-color-unfitted-level-0);\n",
       "}\n",
       "\n",
       "#sk-container-id-44 div.sk-toggleable__content.fitted {\n",
       "  /* fitted */\n",
       "  background-color: var(--sklearn-color-fitted-level-0);\n",
       "}\n",
       "\n",
       "#sk-container-id-44 div.sk-toggleable__content pre {\n",
       "  margin: 0.2em;\n",
       "  border-radius: 0.25em;\n",
       "  color: var(--sklearn-color-text);\n",
       "  /* unfitted */\n",
       "  background-color: var(--sklearn-color-unfitted-level-0);\n",
       "}\n",
       "\n",
       "#sk-container-id-44 div.sk-toggleable__content.fitted pre {\n",
       "  /* unfitted */\n",
       "  background-color: var(--sklearn-color-fitted-level-0);\n",
       "}\n",
       "\n",
       "#sk-container-id-44 input.sk-toggleable__control:checked~div.sk-toggleable__content {\n",
       "  /* Expand drop-down */\n",
       "  max-height: 200px;\n",
       "  max-width: 100%;\n",
       "  overflow: auto;\n",
       "}\n",
       "\n",
       "#sk-container-id-44 input.sk-toggleable__control:checked~label.sk-toggleable__label-arrow:before {\n",
       "  content: \"▾\";\n",
       "}\n",
       "\n",
       "/* Pipeline/ColumnTransformer-specific style */\n",
       "\n",
       "#sk-container-id-44 div.sk-label input.sk-toggleable__control:checked~label.sk-toggleable__label {\n",
       "  color: var(--sklearn-color-text);\n",
       "  background-color: var(--sklearn-color-unfitted-level-2);\n",
       "}\n",
       "\n",
       "#sk-container-id-44 div.sk-label.fitted input.sk-toggleable__control:checked~label.sk-toggleable__label {\n",
       "  background-color: var(--sklearn-color-fitted-level-2);\n",
       "}\n",
       "\n",
       "/* Estimator-specific style */\n",
       "\n",
       "/* Colorize estimator box */\n",
       "#sk-container-id-44 div.sk-estimator input.sk-toggleable__control:checked~label.sk-toggleable__label {\n",
       "  /* unfitted */\n",
       "  background-color: var(--sklearn-color-unfitted-level-2);\n",
       "}\n",
       "\n",
       "#sk-container-id-44 div.sk-estimator.fitted input.sk-toggleable__control:checked~label.sk-toggleable__label {\n",
       "  /* fitted */\n",
       "  background-color: var(--sklearn-color-fitted-level-2);\n",
       "}\n",
       "\n",
       "#sk-container-id-44 div.sk-label label.sk-toggleable__label,\n",
       "#sk-container-id-44 div.sk-label label {\n",
       "  /* The background is the default theme color */\n",
       "  color: var(--sklearn-color-text-on-default-background);\n",
       "}\n",
       "\n",
       "/* On hover, darken the color of the background */\n",
       "#sk-container-id-44 div.sk-label:hover label.sk-toggleable__label {\n",
       "  color: var(--sklearn-color-text);\n",
       "  background-color: var(--sklearn-color-unfitted-level-2);\n",
       "}\n",
       "\n",
       "/* Label box, darken color on hover, fitted */\n",
       "#sk-container-id-44 div.sk-label.fitted:hover label.sk-toggleable__label.fitted {\n",
       "  color: var(--sklearn-color-text);\n",
       "  background-color: var(--sklearn-color-fitted-level-2);\n",
       "}\n",
       "\n",
       "/* Estimator label */\n",
       "\n",
       "#sk-container-id-44 div.sk-label label {\n",
       "  font-family: monospace;\n",
       "  font-weight: bold;\n",
       "  display: inline-block;\n",
       "  line-height: 1.2em;\n",
       "}\n",
       "\n",
       "#sk-container-id-44 div.sk-label-container {\n",
       "  text-align: center;\n",
       "}\n",
       "\n",
       "/* Estimator-specific */\n",
       "#sk-container-id-44 div.sk-estimator {\n",
       "  font-family: monospace;\n",
       "  border: 1px dotted var(--sklearn-color-border-box);\n",
       "  border-radius: 0.25em;\n",
       "  box-sizing: border-box;\n",
       "  margin-bottom: 0.5em;\n",
       "  /* unfitted */\n",
       "  background-color: var(--sklearn-color-unfitted-level-0);\n",
       "}\n",
       "\n",
       "#sk-container-id-44 div.sk-estimator.fitted {\n",
       "  /* fitted */\n",
       "  background-color: var(--sklearn-color-fitted-level-0);\n",
       "}\n",
       "\n",
       "/* on hover */\n",
       "#sk-container-id-44 div.sk-estimator:hover {\n",
       "  /* unfitted */\n",
       "  background-color: var(--sklearn-color-unfitted-level-2);\n",
       "}\n",
       "\n",
       "#sk-container-id-44 div.sk-estimator.fitted:hover {\n",
       "  /* fitted */\n",
       "  background-color: var(--sklearn-color-fitted-level-2);\n",
       "}\n",
       "\n",
       "/* Specification for estimator info (e.g. \"i\" and \"?\") */\n",
       "\n",
       "/* Common style for \"i\" and \"?\" */\n",
       "\n",
       ".sk-estimator-doc-link,\n",
       "a:link.sk-estimator-doc-link,\n",
       "a:visited.sk-estimator-doc-link {\n",
       "  float: right;\n",
       "  font-size: smaller;\n",
       "  line-height: 1em;\n",
       "  font-family: monospace;\n",
       "  background-color: var(--sklearn-color-background);\n",
       "  border-radius: 1em;\n",
       "  height: 1em;\n",
       "  width: 1em;\n",
       "  text-decoration: none !important;\n",
       "  margin-left: 1ex;\n",
       "  /* unfitted */\n",
       "  border: var(--sklearn-color-unfitted-level-1) 1pt solid;\n",
       "  color: var(--sklearn-color-unfitted-level-1);\n",
       "}\n",
       "\n",
       ".sk-estimator-doc-link.fitted,\n",
       "a:link.sk-estimator-doc-link.fitted,\n",
       "a:visited.sk-estimator-doc-link.fitted {\n",
       "  /* fitted */\n",
       "  border: var(--sklearn-color-fitted-level-1) 1pt solid;\n",
       "  color: var(--sklearn-color-fitted-level-1);\n",
       "}\n",
       "\n",
       "/* On hover */\n",
       "div.sk-estimator:hover .sk-estimator-doc-link:hover,\n",
       ".sk-estimator-doc-link:hover,\n",
       "div.sk-label-container:hover .sk-estimator-doc-link:hover,\n",
       ".sk-estimator-doc-link:hover {\n",
       "  /* unfitted */\n",
       "  background-color: var(--sklearn-color-unfitted-level-3);\n",
       "  color: var(--sklearn-color-background);\n",
       "  text-decoration: none;\n",
       "}\n",
       "\n",
       "div.sk-estimator.fitted:hover .sk-estimator-doc-link.fitted:hover,\n",
       ".sk-estimator-doc-link.fitted:hover,\n",
       "div.sk-label-container:hover .sk-estimator-doc-link.fitted:hover,\n",
       ".sk-estimator-doc-link.fitted:hover {\n",
       "  /* fitted */\n",
       "  background-color: var(--sklearn-color-fitted-level-3);\n",
       "  color: var(--sklearn-color-background);\n",
       "  text-decoration: none;\n",
       "}\n",
       "\n",
       "/* Span, style for the box shown on hovering the info icon */\n",
       ".sk-estimator-doc-link span {\n",
       "  display: none;\n",
       "  z-index: 9999;\n",
       "  position: relative;\n",
       "  font-weight: normal;\n",
       "  right: .2ex;\n",
       "  padding: .5ex;\n",
       "  margin: .5ex;\n",
       "  width: min-content;\n",
       "  min-width: 20ex;\n",
       "  max-width: 50ex;\n",
       "  color: var(--sklearn-color-text);\n",
       "  box-shadow: 2pt 2pt 4pt #999;\n",
       "  /* unfitted */\n",
       "  background: var(--sklearn-color-unfitted-level-0);\n",
       "  border: .5pt solid var(--sklearn-color-unfitted-level-3);\n",
       "}\n",
       "\n",
       ".sk-estimator-doc-link.fitted span {\n",
       "  /* fitted */\n",
       "  background: var(--sklearn-color-fitted-level-0);\n",
       "  border: var(--sklearn-color-fitted-level-3);\n",
       "}\n",
       "\n",
       ".sk-estimator-doc-link:hover span {\n",
       "  display: block;\n",
       "}\n",
       "\n",
       "/* \"?\"-specific style due to the `<a>` HTML tag */\n",
       "\n",
       "#sk-container-id-44 a.estimator_doc_link {\n",
       "  float: right;\n",
       "  font-size: 1rem;\n",
       "  line-height: 1em;\n",
       "  font-family: monospace;\n",
       "  background-color: var(--sklearn-color-background);\n",
       "  border-radius: 1rem;\n",
       "  height: 1rem;\n",
       "  width: 1rem;\n",
       "  text-decoration: none;\n",
       "  /* unfitted */\n",
       "  color: var(--sklearn-color-unfitted-level-1);\n",
       "  border: var(--sklearn-color-unfitted-level-1) 1pt solid;\n",
       "}\n",
       "\n",
       "#sk-container-id-44 a.estimator_doc_link.fitted {\n",
       "  /* fitted */\n",
       "  border: var(--sklearn-color-fitted-level-1) 1pt solid;\n",
       "  color: var(--sklearn-color-fitted-level-1);\n",
       "}\n",
       "\n",
       "/* On hover */\n",
       "#sk-container-id-44 a.estimator_doc_link:hover {\n",
       "  /* unfitted */\n",
       "  background-color: var(--sklearn-color-unfitted-level-3);\n",
       "  color: var(--sklearn-color-background);\n",
       "  text-decoration: none;\n",
       "}\n",
       "\n",
       "#sk-container-id-44 a.estimator_doc_link.fitted:hover {\n",
       "  /* fitted */\n",
       "  background-color: var(--sklearn-color-fitted-level-3);\n",
       "}\n",
       "</style><div id=\"sk-container-id-44\" class=\"sk-top-container\"><div class=\"sk-text-repr-fallback\"><pre>SVR(C=1000.0, gamma=1e-05)</pre><b>In a Jupyter environment, please rerun this cell to show the HTML representation or trust the notebook. <br />On GitHub, the HTML representation is unable to render, please try loading this page with nbviewer.org.</b></div><div class=\"sk-container\" hidden><div class=\"sk-item\"><div class=\"sk-estimator fitted sk-toggleable\"><input class=\"sk-toggleable__control sk-hidden--visually\" id=\"sk-estimator-id-44\" type=\"checkbox\" checked><label for=\"sk-estimator-id-44\" class=\"sk-toggleable__label fitted sk-toggleable__label-arrow fitted\">&nbsp;&nbsp;SVR<a class=\"sk-estimator-doc-link fitted\" rel=\"noreferrer\" target=\"_blank\" href=\"https://scikit-learn.org/1.5/modules/generated/sklearn.svm.SVR.html\">?<span>Documentation for SVR</span></a><span class=\"sk-estimator-doc-link fitted\">i<span>Fitted</span></span></label><div class=\"sk-toggleable__content fitted\"><pre>SVR(C=1000.0, gamma=1e-05)</pre></div> </div></div></div></div>"
      ]
     },
     "execution_count": 874,
     "metadata": {},
     "output_type": "execute_result"
    }
   ],
   "execution_count": 874
  },
  {
   "cell_type": "code",
   "id": "901086bc",
   "metadata": {
    "id": "901086bc",
    "outputId": "d66c005f-464e-4d93-b7cd-0df3287f9882",
    "ExecuteTime": {
     "end_time": "2024-06-05T15:34:44.664537Z",
     "start_time": "2024-06-05T15:34:44.604698Z"
    }
   },
   "source": [
    "svr_rbf_confidence = svr_rbf.score(x_test, y_test)\n",
    "print('svr_rbf confidence score is: ', svr_rbf_confidence)"
   ],
   "outputs": [
    {
     "name": "stdout",
     "output_type": "stream",
     "text": [
      "svr_rbf confidence score is:  0.9758509337653469\n"
     ]
    }
   ],
   "execution_count": 875
  },
  {
   "cell_type": "code",
   "id": "1a379bac",
   "metadata": {
    "id": "1a379bac",
    "ExecuteTime": {
     "end_time": "2024-06-05T15:34:44.901476Z",
     "start_time": "2024-06-05T15:34:44.841001Z"
    }
   },
   "source": [
    "svm_prediction = svr_rbf.predict(x_test)"
   ],
   "outputs": [],
   "execution_count": 876
  },
  {
   "cell_type": "code",
   "id": "d240babe",
   "metadata": {
    "id": "d240babe",
    "outputId": "1babb0e9-5d67-42b1-da19-b2247ddbdeef",
    "ExecuteTime": {
     "end_time": "2024-06-05T15:34:45.040132Z",
     "start_time": "2024-06-05T15:34:45.023150Z"
    }
   },
   "source": [
    "print(y_test)"
   ],
   "outputs": [
    {
     "name": "stdout",
     "output_type": "stream",
     "text": [
      "[1191.52624512 1889.19165039 1849.04272461 1599.47668457  377.26885986\n",
      " 2178.49902344 3830.38208008 3311.44189453  204.05578613 4439.35791016\n",
      "  189.3125     4287.59375    1121.57092285 3431.08618164 3350.921875\n",
      " 2746.38012695  659.2979126  3291.57763672 1664.74560547 1567.39868164\n",
      "  130.80200195 3507.94433594 1723.15380859  435.07974243 1804.03930664\n",
      "  229.26818848  228.19487    2933.47900391 1735.32128906 1816.45898438\n",
      " 3261.91625977  395.88757324 3201.65209961 1237.59338379  344.50317383\n",
      " 1100.1697998   170.80714417 1230.99060059  386.29516602 1817.54992676\n",
      " 1633.62939453  169.13587952  241.51022339  151.26472473 1507.16589355\n",
      "  364.83920288  239.45817566 3238.11157227 3453.49462891 1622.50585938\n",
      "  265.40612793 4066.44506836  183.34835815  144.30415344 1866.75366211\n",
      " 1632.25231934 2226.11425781  393.98736572  135.06936646  133.20181274\n",
      " 1067.29882812 3735.22021484 2372.484375    188.61753845  151.71757507\n",
      " 1868.04882812  229.9289093  2201.91137695  243.52529907  287.54711914\n",
      "  133.61402893 1253.18713379  142.86923218 1860.35717773 1332.83557129\n",
      "  222.66972351 1640.81713867  182.07514954 3715.1484375   113.94274902\n",
      "  265.21643066 1542.97521973  169.69715881  269.01931763  609.81787109\n",
      " 1681.43615723 1170.08618164 3084.92016602 2210.76196289 1681.51733398\n",
      " 2078.28979492 2431.9465332  3590.88378906  384.0010376   246.99176025\n",
      " 1566.56665039  235.85119629  293.64111328 2981.05224609 1553.03735352\n",
      " 1677.2154541  2537.89111328 1677.84680176 2081.15209961 3164.02514648\n",
      " 1799.16625977 3695.29272461 1963.28503418 3928.37939453 1874.74487305\n",
      " 1678.65014648 1222.50622559  136.59385681 2642.18530273 1865.6361084\n",
      " 1549.29748535 1577.64160156 3094.11865234 1919.53405762 3182.70214844\n",
      "  212.99157715 1650.71679688 2783.47631836 1848.60314941 1839.28015137\n",
      " 1695.96948242  229.77600098 3930.25732422  603.89776611  751.61895752\n",
      " 2150.0402832   225.3870697  1890.96911621 3285.51171875 1800.09997559\n",
      " 2064.42529297 1635.22167969  170.503479    129.06388855 1445.21655273\n",
      " 1315.50048828 2936.94091797 1276.27392578  185.48963928 1899.83740234\n",
      " 4067.328125   1352.8371582   382.63262939 1820.47802734 1297.42211914\n",
      " 1823.44934082  202.37034607  310.42468262 1241.60424805 1880.55639648\n",
      " 4298.30664062 1699.35083008 1897.59924316  401.59057617 3227.00268555\n",
      " 1696.45703125 1576.74951172  234.41616821  157.59638977  337.60211182\n",
      " 2792.1171875  1776.61816406 1715.46081543 1616.82885742 1586.17675781\n",
      "  222.95979309 2973.65722656  268.09924316 2222.8659668  1306.29663086\n",
      " 3014.84594727 2534.48168945 1635.16235352  180.8266449  1264.28479004\n",
      " 2076.24291992 1775.07861328 1184.71520996 1739.03759766 2107.88720703\n",
      " 1264.27038574 2191.3737793  1171.83459473 1872.92260742  175.05033875\n",
      " 1832.79516602 3244.51928711 1916.65612793 1243.44689941 1679.27441406\n",
      " 2012.63464355  226.02064514 2367.66357422 1299.46459961 1232.4375\n",
      " 1843.53259277 2224.57885742  246.67001343 2315.16186523 4486.24316406\n",
      " 1781.06750488 2267.19970703  262.19064331 1744.2434082   233.02827454\n",
      " 2888.69873047 4340.76367188  167.12051392  161.46272278 3077.86791992\n",
      " 1514.37487793  366.22900391 2897.9765625  1669.47192383 2390.30541992\n",
      "  174.21713257 1861.64379883 2969.78466797 2945.89282227  218.05004883\n",
      " 1894.15771484  353.36227417 3037.05664062 1834.1505127   227.66459656\n",
      "  569.35418701  461.00527954 3057.60668945 2803.69140625 1859.43286133\n",
      " 1579.80664062  129.6108551   235.48381042  169.95617676 2628.6484375\n",
      " 3071.84301758 3004.90039062 1618.87451172 2226.92651367  184.21147156\n",
      " 1572.23474121  245.16725159 1752.0447998  1556.60424805 1376.11547852\n",
      " 2590.69604492 1911.20751953 2508.39160156 1871.79211426 2714.9453125\n",
      " 2471.51855469  385.19970703 2237.13696289 1787.51074219 4079.05737305\n",
      "  313.25140381 3571.29492188 1892.41247559 1482.61669922  230.56977844\n",
      "  193.29325867 3887.82836914 1552.55651855 1189.98608398 1287.22106934\n",
      "  211.48497009  268.70404053 3006.57714844 2777.90234375 4084.45239258\n",
      " 1827.46203613  245.01672363 1737.71704102 1323.43920898 2124.77661133\n",
      " 1691.35595703 2231.46533203 1805.20495605 3142.47070312 3211.86694336\n",
      "  133.9379425   276.27670288 2309.04638672  176.35151672 2950.1184082\n",
      " 2233.36669922  177.45555115  158.21601868 1369.04052734 2679.16259766\n",
      " 2419.90625    1196.77124023 3892.00683594 1814.04833984  774.53497314\n",
      " 3319.25732422  148.22517395  128.32270813  399.92147827 1940.08398438\n",
      " 4557.50390625 1515.50695801 1059.76733398  232.10116577 1665.04223633\n",
      " 2372.2019043  3242.11547852 3270.27807617 1995.06091309 1130.73937988\n",
      "  234.11470032  148.76815796 2298.33349609  200.6890564  1667.94384766\n",
      "  386.59033203  311.22610474 3550.38696289 1611.47644043 1780.04528809\n",
      "  201.92131042 1332.51696777  189.47727966 1271.65380859  179.78717041\n",
      " 1961.31567383 1633.54858398 3385.15795898 2072.10864258  168.29415894\n",
      " 2245.43041992 2983.58691406  335.2600708   352.57901001 3118.34423828\n",
      " 1320.54919434 1634.51123047 2279.51416016 1568.59130859  433.78662109\n",
      " 2013.20446777  219.84042358 3522.78320312 1746.61682129  395.87466431\n",
      " 1363.44702148  220.94186401  240.21148682 1594.76269531 2233.56176758\n",
      "  993.63677979 1441.8067627   635.83581543 2643.59106445 2455.93505859\n",
      "  153.01055908 1570.20397949 1451.61486816  589.66320801 1832.99963379]\n"
     ]
    }
   ],
   "execution_count": 877
  },
  {
   "cell_type": "code",
   "id": "f262a780",
   "metadata": {
    "id": "f262a780",
    "outputId": "7b487115-08f8-46c4-938f-dd39797e371b",
    "scrolled": true,
    "ExecuteTime": {
     "end_time": "2024-06-05T15:34:45.722925Z",
     "start_time": "2024-06-05T15:34:45.319363Z"
    }
   },
   "source": [
    "plt.figure(figsize=(16,9))\n",
    "plt.plot(svm_prediction, label = 'Previsto', linewidth = '1', color ='b', alpha = .7)\n",
    "plt.plot(y_test, label = 'Effettivo', linewidth = '1', color ='r', alpha = .7)\n",
    "plt.title('Prezzo di Ethereum - Previsto verso realizzato')\n",
    "plt.ylabel('Prezzo in US$')\n",
    "plt.xlabel('Tempo')\n",
    "plt.legend()\n",
    "plt.xticks(rotation = 45)\n",
    "plt.show();\n"
   ],
   "outputs": [
    {
     "data": {
      "text/plain": [
       "<Figure size 1600x900 with 1 Axes>"
      ],
      "image/png": "[encoded data removed]"
     },
     "metadata": {},
     "output_type": "display_data"
    }
   ],
   "execution_count": 878
  },
  {
   "cell_type": "code",
   "id": "32749754",
   "metadata": {
    "id": "32749754",
    "ExecuteTime": {
     "end_time": "2024-06-05T15:34:45.737723Z",
     "start_time": "2024-06-05T15:34:45.724758Z"
    }
   },
   "source": [],
   "outputs": [],
   "execution_count": 878
  }
 ],
 "metadata": {
  "colab": {
   "name": "ML_SVM_1.ipynb",
   "provenance": []
  },
  "kernelspec": {
   "display_name": "Python 3 (ipykernel)",
   "language": "python",
   "name": "python3"
  },
  "language_info": {
   "codemirror_mode": {
    "name": "ipython",
    "version": 3
   },
   "file_extension": ".py",
   "mimetype": "text/x-python",
   "name": "python",
   "nbconvert_exporter": "python",
   "pygments_lexer": "ipython3",
   "version": "3.11.7"
  }
 },
 "nbformat": 4,
 "nbformat_minor": 5
}
