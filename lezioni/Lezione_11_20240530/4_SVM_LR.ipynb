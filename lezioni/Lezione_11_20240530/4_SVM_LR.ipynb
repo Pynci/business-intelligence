{
 "cells": [
  {
   "cell_type": "markdown",
   "id": "08e6b8a1",
   "metadata": {
    "id": "08e6b8a1"
   },
   "source": [
    "#### Previsione del prezzo di un'azione con regressione lineare e support vector machine\n",
    "\n",
    "https://www.youtube.com/watch?v=EYnC4ACIt2g&ab_channel=ComputerScience"
   ]
  },
  {
   "cell_type": "code",
   "id": "dbb6ec52",
   "metadata": {
    "id": "dbb6ec52",
    "ExecuteTime": {
     "end_time": "2024-06-04T16:29:59.355128Z",
     "start_time": "2024-06-04T16:29:56.910566Z"
    }
   },
   "source": [
    "\n",
    "import numpy as np\n",
    "import pandas as pd\n",
    "from sklearn.linear_model import LinearRegression\n",
    "from sklearn.svm import SVR\n",
    "from sklearn.model_selection import train_test_split\n",
    "import matplotlib.pyplot as plt\n",
    "import yfinance as yf\n"
   ],
   "outputs": [],
   "execution_count": 1
  },
  {
   "cell_type": "markdown",
   "id": "f8636640",
   "metadata": {
    "id": "f8636640"
   },
   "source": [
    "importiamo i dati"
   ]
  },
  {
   "cell_type": "code",
   "id": "a9ec70fd",
   "metadata": {
    "id": "a9ec70fd",
    "ExecuteTime": {
     "end_time": "2024-06-04T16:30:00.211489Z",
     "start_time": "2024-06-04T16:29:59.356126Z"
    }
   },
   "source": [
    "start_date = '2014-5-31'\n",
    "end_date = '2024-5-31'\n",
    "df = yf.download('AMZN', start_date, end_date) \n",
    "#^GSPC"
   ],
   "outputs": [
    {
     "name": "stderr",
     "output_type": "stream",
     "text": [
      "[*********************100%%**********************]  1 of 1 completed\n"
     ]
    }
   ],
   "execution_count": 2
  },
  {
   "cell_type": "code",
   "id": "4c6e4ba9",
   "metadata": {
    "id": "4c6e4ba9",
    "outputId": "f92bc7e3-23e3-4dc7-f4f4-505b6a212c3c",
    "ExecuteTime": {
     "end_time": "2024-06-04T16:30:00.227421Z",
     "start_time": "2024-06-04T16:30:00.212490Z"
    }
   },
   "source": [
    "len(df)"
   ],
   "outputs": [
    {
     "data": {
      "text/plain": [
       "2517"
      ]
     },
     "execution_count": 3,
     "metadata": {},
     "output_type": "execute_result"
    }
   ],
   "execution_count": 3
  },
  {
   "cell_type": "code",
   "id": "4db126ac",
   "metadata": {
    "ExecuteTime": {
     "end_time": "2024-06-04T16:30:00.258340Z",
     "start_time": "2024-06-04T16:30:00.230414Z"
    }
   },
   "source": [
    "df.head(10)"
   ],
   "outputs": [
    {
     "data": {
      "text/plain": [
       "                 Open       High        Low      Close  Adj Close     Volume\n",
       "Date                                                                        \n",
       "2014-06-02  15.629500  15.630000  15.350000  15.442000  15.442000   44068000\n",
       "2014-06-03  15.287500  15.396000  15.253500  15.359500  15.359500   47584000\n",
       "2014-06-04  15.342500  15.475000  15.192000  15.339000  15.339000   42142000\n",
       "2014-06-05  15.405000  16.396999  15.345000  16.178499  16.178499  155934000\n",
       "2014-06-06  16.250000  16.544001  16.246500  16.483500  16.483500  104880000\n",
       "2014-06-09  16.578501  16.650000  16.282499  16.375000  16.375000   64244000\n",
       "2014-06-10  16.382500  16.775000  16.375000  16.620501  16.620501   73268000\n",
       "2014-06-11  16.799999  17.035999  16.694000  16.760000  16.760000   88736000\n",
       "2014-06-12  16.777500  16.777500  16.233000  16.295500  16.295500   85526000\n",
       "2014-06-13  16.352501  16.465000  16.176500  16.313499  16.313499   55296000"
      ],
      "text/html": [
       "<div>\n",
       "<style scoped>\n",
       "    .dataframe tbody tr th:only-of-type {\n",
       "        vertical-align: middle;\n",
       "    }\n",
       "\n",
       "    .dataframe tbody tr th {\n",
       "        vertical-align: top;\n",
       "    }\n",
       "\n",
       "    .dataframe thead th {\n",
       "        text-align: right;\n",
       "    }\n",
       "</style>\n",
       "<table border=\"1\" class=\"dataframe\">\n",
       "  <thead>\n",
       "    <tr style=\"text-align: right;\">\n",
       "      <th></th>\n",
       "      <th>Open</th>\n",
       "      <th>High</th>\n",
       "      <th>Low</th>\n",
       "      <th>Close</th>\n",
       "      <th>Adj Close</th>\n",
       "      <th>Volume</th>\n",
       "    </tr>\n",
       "    <tr>\n",
       "      <th>Date</th>\n",
       "      <th></th>\n",
       "      <th></th>\n",
       "      <th></th>\n",
       "      <th></th>\n",
       "      <th></th>\n",
       "      <th></th>\n",
       "    </tr>\n",
       "  </thead>\n",
       "  <tbody>\n",
       "    <tr>\n",
       "      <th>2014-06-02</th>\n",
       "      <td>15.629500</td>\n",
       "      <td>15.630000</td>\n",
       "      <td>15.350000</td>\n",
       "      <td>15.442000</td>\n",
       "      <td>15.442000</td>\n",
       "      <td>44068000</td>\n",
       "    </tr>\n",
       "    <tr>\n",
       "      <th>2014-06-03</th>\n",
       "      <td>15.287500</td>\n",
       "      <td>15.396000</td>\n",
       "      <td>15.253500</td>\n",
       "      <td>15.359500</td>\n",
       "      <td>15.359500</td>\n",
       "      <td>47584000</td>\n",
       "    </tr>\n",
       "    <tr>\n",
       "      <th>2014-06-04</th>\n",
       "      <td>15.342500</td>\n",
       "      <td>15.475000</td>\n",
       "      <td>15.192000</td>\n",
       "      <td>15.339000</td>\n",
       "      <td>15.339000</td>\n",
       "      <td>42142000</td>\n",
       "    </tr>\n",
       "    <tr>\n",
       "      <th>2014-06-05</th>\n",
       "      <td>15.405000</td>\n",
       "      <td>16.396999</td>\n",
       "      <td>15.345000</td>\n",
       "      <td>16.178499</td>\n",
       "      <td>16.178499</td>\n",
       "      <td>155934000</td>\n",
       "    </tr>\n",
       "    <tr>\n",
       "      <th>2014-06-06</th>\n",
       "      <td>16.250000</td>\n",
       "      <td>16.544001</td>\n",
       "      <td>16.246500</td>\n",
       "      <td>16.483500</td>\n",
       "      <td>16.483500</td>\n",
       "      <td>104880000</td>\n",
       "    </tr>\n",
       "    <tr>\n",
       "      <th>2014-06-09</th>\n",
       "      <td>16.578501</td>\n",
       "      <td>16.650000</td>\n",
       "      <td>16.282499</td>\n",
       "      <td>16.375000</td>\n",
       "      <td>16.375000</td>\n",
       "      <td>64244000</td>\n",
       "    </tr>\n",
       "    <tr>\n",
       "      <th>2014-06-10</th>\n",
       "      <td>16.382500</td>\n",
       "      <td>16.775000</td>\n",
       "      <td>16.375000</td>\n",
       "      <td>16.620501</td>\n",
       "      <td>16.620501</td>\n",
       "      <td>73268000</td>\n",
       "    </tr>\n",
       "    <tr>\n",
       "      <th>2014-06-11</th>\n",
       "      <td>16.799999</td>\n",
       "      <td>17.035999</td>\n",
       "      <td>16.694000</td>\n",
       "      <td>16.760000</td>\n",
       "      <td>16.760000</td>\n",
       "      <td>88736000</td>\n",
       "    </tr>\n",
       "    <tr>\n",
       "      <th>2014-06-12</th>\n",
       "      <td>16.777500</td>\n",
       "      <td>16.777500</td>\n",
       "      <td>16.233000</td>\n",
       "      <td>16.295500</td>\n",
       "      <td>16.295500</td>\n",
       "      <td>85526000</td>\n",
       "    </tr>\n",
       "    <tr>\n",
       "      <th>2014-06-13</th>\n",
       "      <td>16.352501</td>\n",
       "      <td>16.465000</td>\n",
       "      <td>16.176500</td>\n",
       "      <td>16.313499</td>\n",
       "      <td>16.313499</td>\n",
       "      <td>55296000</td>\n",
       "    </tr>\n",
       "  </tbody>\n",
       "</table>\n",
       "</div>"
      ]
     },
     "execution_count": 4,
     "metadata": {},
     "output_type": "execute_result"
    }
   ],
   "execution_count": 4
  },
  {
   "cell_type": "code",
   "id": "e225aac9",
   "metadata": {
    "id": "e225aac9",
    "outputId": "2de805d8-1652-430c-fee7-30dd5ccdaa9e",
    "ExecuteTime": {
     "end_time": "2024-06-04T16:30:00.273326Z",
     "start_time": "2024-06-04T16:30:00.260336Z"
    }
   },
   "source": [
    "df.tail()"
   ],
   "outputs": [
    {
     "data": {
      "text/plain": [
       "                  Open        High         Low       Close   Adj Close  \\\n",
       "Date                                                                     \n",
       "2024-05-23  183.660004  184.759995  180.080002  181.050003  181.050003   \n",
       "2024-05-24  181.649994  182.440002  180.300003  180.750000  180.750000   \n",
       "2024-05-28  179.929993  182.240005  179.490005  182.149994  182.149994   \n",
       "2024-05-29  181.699997  184.080002  181.550003  182.020004  182.020004   \n",
       "2024-05-30  181.309998  181.339996  178.360001  179.320007  179.320007   \n",
       "\n",
       "              Volume  \n",
       "Date                  \n",
       "2024-05-23  33670200  \n",
       "2024-05-24  27434100  \n",
       "2024-05-28  29927000  \n",
       "2024-05-29  32009300  \n",
       "2024-05-30  29249200  "
      ],
      "text/html": [
       "<div>\n",
       "<style scoped>\n",
       "    .dataframe tbody tr th:only-of-type {\n",
       "        vertical-align: middle;\n",
       "    }\n",
       "\n",
       "    .dataframe tbody tr th {\n",
       "        vertical-align: top;\n",
       "    }\n",
       "\n",
       "    .dataframe thead th {\n",
       "        text-align: right;\n",
       "    }\n",
       "</style>\n",
       "<table border=\"1\" class=\"dataframe\">\n",
       "  <thead>\n",
       "    <tr style=\"text-align: right;\">\n",
       "      <th></th>\n",
       "      <th>Open</th>\n",
       "      <th>High</th>\n",
       "      <th>Low</th>\n",
       "      <th>Close</th>\n",
       "      <th>Adj Close</th>\n",
       "      <th>Volume</th>\n",
       "    </tr>\n",
       "    <tr>\n",
       "      <th>Date</th>\n",
       "      <th></th>\n",
       "      <th></th>\n",
       "      <th></th>\n",
       "      <th></th>\n",
       "      <th></th>\n",
       "      <th></th>\n",
       "    </tr>\n",
       "  </thead>\n",
       "  <tbody>\n",
       "    <tr>\n",
       "      <th>2024-05-23</th>\n",
       "      <td>183.660004</td>\n",
       "      <td>184.759995</td>\n",
       "      <td>180.080002</td>\n",
       "      <td>181.050003</td>\n",
       "      <td>181.050003</td>\n",
       "      <td>33670200</td>\n",
       "    </tr>\n",
       "    <tr>\n",
       "      <th>2024-05-24</th>\n",
       "      <td>181.649994</td>\n",
       "      <td>182.440002</td>\n",
       "      <td>180.300003</td>\n",
       "      <td>180.750000</td>\n",
       "      <td>180.750000</td>\n",
       "      <td>27434100</td>\n",
       "    </tr>\n",
       "    <tr>\n",
       "      <th>2024-05-28</th>\n",
       "      <td>179.929993</td>\n",
       "      <td>182.240005</td>\n",
       "      <td>179.490005</td>\n",
       "      <td>182.149994</td>\n",
       "      <td>182.149994</td>\n",
       "      <td>29927000</td>\n",
       "    </tr>\n",
       "    <tr>\n",
       "      <th>2024-05-29</th>\n",
       "      <td>181.699997</td>\n",
       "      <td>184.080002</td>\n",
       "      <td>181.550003</td>\n",
       "      <td>182.020004</td>\n",
       "      <td>182.020004</td>\n",
       "      <td>32009300</td>\n",
       "    </tr>\n",
       "    <tr>\n",
       "      <th>2024-05-30</th>\n",
       "      <td>181.309998</td>\n",
       "      <td>181.339996</td>\n",
       "      <td>178.360001</td>\n",
       "      <td>179.320007</td>\n",
       "      <td>179.320007</td>\n",
       "      <td>29249200</td>\n",
       "    </tr>\n",
       "  </tbody>\n",
       "</table>\n",
       "</div>"
      ]
     },
     "execution_count": 5,
     "metadata": {},
     "output_type": "execute_result"
    }
   ],
   "execution_count": 5
  },
  {
   "cell_type": "markdown",
   "id": "e1a7c9f0",
   "metadata": {
    "id": "e1a7c9f0"
   },
   "source": [
    "Selezioniamo la colonna Adj Close"
   ]
  },
  {
   "cell_type": "code",
   "id": "5c73aa22",
   "metadata": {
    "id": "5c73aa22",
    "ExecuteTime": {
     "end_time": "2024-06-04T16:30:00.289257Z",
     "start_time": "2024-06-04T16:30:00.274296Z"
    }
   },
   "source": "df = df[['Adj Close']] # con 2 quadre otteniamo un dataframe, se mettiamo una sola quadra otteniamo una serie (piccolo tip)",
   "outputs": [],
   "execution_count": 6
  },
  {
   "cell_type": "code",
   "id": "9b07a233",
   "metadata": {
    "id": "9b07a233",
    "outputId": "be87ac8c-8e4c-4cf3-ee86-6317185371be",
    "ExecuteTime": {
     "end_time": "2024-06-04T16:30:00.305213Z",
     "start_time": "2024-06-04T16:30:00.291251Z"
    }
   },
   "source": [
    "len(df)"
   ],
   "outputs": [
    {
     "data": {
      "text/plain": [
       "2517"
      ]
     },
     "execution_count": 7,
     "metadata": {},
     "output_type": "execute_result"
    }
   ],
   "execution_count": 7
  },
  {
   "cell_type": "code",
   "id": "a8d15ef4",
   "metadata": {
    "id": "a8d15ef4",
    "outputId": "fd26bea4-f891-4f38-8d09-e2456439d0d1",
    "ExecuteTime": {
     "end_time": "2024-06-04T16:30:00.320680Z",
     "start_time": "2024-06-04T16:30:00.306719Z"
    }
   },
   "source": [
    "df.head()"
   ],
   "outputs": [
    {
     "data": {
      "text/plain": [
       "            Adj Close\n",
       "Date                 \n",
       "2014-06-02  15.442000\n",
       "2014-06-03  15.359500\n",
       "2014-06-04  15.339000\n",
       "2014-06-05  16.178499\n",
       "2014-06-06  16.483500"
      ],
      "text/html": [
       "<div>\n",
       "<style scoped>\n",
       "    .dataframe tbody tr th:only-of-type {\n",
       "        vertical-align: middle;\n",
       "    }\n",
       "\n",
       "    .dataframe tbody tr th {\n",
       "        vertical-align: top;\n",
       "    }\n",
       "\n",
       "    .dataframe thead th {\n",
       "        text-align: right;\n",
       "    }\n",
       "</style>\n",
       "<table border=\"1\" class=\"dataframe\">\n",
       "  <thead>\n",
       "    <tr style=\"text-align: right;\">\n",
       "      <th></th>\n",
       "      <th>Adj Close</th>\n",
       "    </tr>\n",
       "    <tr>\n",
       "      <th>Date</th>\n",
       "      <th></th>\n",
       "    </tr>\n",
       "  </thead>\n",
       "  <tbody>\n",
       "    <tr>\n",
       "      <th>2014-06-02</th>\n",
       "      <td>15.442000</td>\n",
       "    </tr>\n",
       "    <tr>\n",
       "      <th>2014-06-03</th>\n",
       "      <td>15.359500</td>\n",
       "    </tr>\n",
       "    <tr>\n",
       "      <th>2014-06-04</th>\n",
       "      <td>15.339000</td>\n",
       "    </tr>\n",
       "    <tr>\n",
       "      <th>2014-06-05</th>\n",
       "      <td>16.178499</td>\n",
       "    </tr>\n",
       "    <tr>\n",
       "      <th>2014-06-06</th>\n",
       "      <td>16.483500</td>\n",
       "    </tr>\n",
       "  </tbody>\n",
       "</table>\n",
       "</div>"
      ]
     },
     "execution_count": 8,
     "metadata": {},
     "output_type": "execute_result"
    }
   ],
   "execution_count": 8
  },
  {
   "cell_type": "code",
   "id": "b1ee9351",
   "metadata": {
    "id": "b1ee9351",
    "ExecuteTime": {
     "end_time": "2024-06-04T16:30:00.335640Z",
     "start_time": "2024-06-04T16:30:00.321678Z"
    }
   },
   "source": [
    "# Numero di giorni nel futuro che si vogliono prevedere\n",
    "forecast_out = 1"
   ],
   "outputs": [],
   "execution_count": 9
  },
  {
   "cell_type": "code",
   "id": "2f5d9a25",
   "metadata": {
    "id": "2f5d9a25",
    "ExecuteTime": {
     "end_time": "2024-06-04T16:30:00.351597Z",
     "start_time": "2024-06-04T16:30:00.339630Z"
    }
   },
   "source": [
    "# Creiamo una colonna con la variabile da prevedere\n",
    "df.loc[:,'Prediction'] = df['Adj Close'].shift(-1).copy()"
   ],
   "outputs": [
    {
     "name": "stderr",
     "output_type": "stream",
     "text": [
      "C:\\Users\\utente\\AppData\\Local\\Temp\\ipykernel_5196\\3900558744.py:2: SettingWithCopyWarning: \n",
      "A value is trying to be set on a copy of a slice from a DataFrame.\n",
      "Try using .loc[row_indexer,col_indexer] = value instead\n",
      "\n",
      "See the caveats in the documentation: https://pandas.pydata.org/pandas-docs/stable/user_guide/indexing.html#returning-a-view-versus-a-copy\n",
      "  df.loc[:,'Prediction'] = df['Adj Close'].shift(-1).copy()\n"
     ]
    }
   ],
   "execution_count": 10
  },
  {
   "cell_type": "code",
   "id": "d29a55c1",
   "metadata": {
    "id": "d29a55c1",
    "outputId": "f784e8ec-ba55-44c3-a9ef-779db4dddc7d",
    "ExecuteTime": {
     "end_time": "2024-06-04T16:30:00.367555Z",
     "start_time": "2024-06-04T16:30:00.353593Z"
    }
   },
   "source": [
    "df.head()"
   ],
   "outputs": [
    {
     "data": {
      "text/plain": [
       "            Adj Close  Prediction\n",
       "Date                             \n",
       "2014-06-02  15.442000   15.359500\n",
       "2014-06-03  15.359500   15.339000\n",
       "2014-06-04  15.339000   16.178499\n",
       "2014-06-05  16.178499   16.483500\n",
       "2014-06-06  16.483500   16.375000"
      ],
      "text/html": [
       "<div>\n",
       "<style scoped>\n",
       "    .dataframe tbody tr th:only-of-type {\n",
       "        vertical-align: middle;\n",
       "    }\n",
       "\n",
       "    .dataframe tbody tr th {\n",
       "        vertical-align: top;\n",
       "    }\n",
       "\n",
       "    .dataframe thead th {\n",
       "        text-align: right;\n",
       "    }\n",
       "</style>\n",
       "<table border=\"1\" class=\"dataframe\">\n",
       "  <thead>\n",
       "    <tr style=\"text-align: right;\">\n",
       "      <th></th>\n",
       "      <th>Adj Close</th>\n",
       "      <th>Prediction</th>\n",
       "    </tr>\n",
       "    <tr>\n",
       "      <th>Date</th>\n",
       "      <th></th>\n",
       "      <th></th>\n",
       "    </tr>\n",
       "  </thead>\n",
       "  <tbody>\n",
       "    <tr>\n",
       "      <th>2014-06-02</th>\n",
       "      <td>15.442000</td>\n",
       "      <td>15.359500</td>\n",
       "    </tr>\n",
       "    <tr>\n",
       "      <th>2014-06-03</th>\n",
       "      <td>15.359500</td>\n",
       "      <td>15.339000</td>\n",
       "    </tr>\n",
       "    <tr>\n",
       "      <th>2014-06-04</th>\n",
       "      <td>15.339000</td>\n",
       "      <td>16.178499</td>\n",
       "    </tr>\n",
       "    <tr>\n",
       "      <th>2014-06-05</th>\n",
       "      <td>16.178499</td>\n",
       "      <td>16.483500</td>\n",
       "    </tr>\n",
       "    <tr>\n",
       "      <th>2014-06-06</th>\n",
       "      <td>16.483500</td>\n",
       "      <td>16.375000</td>\n",
       "    </tr>\n",
       "  </tbody>\n",
       "</table>\n",
       "</div>"
      ]
     },
     "execution_count": 11,
     "metadata": {},
     "output_type": "execute_result"
    }
   ],
   "execution_count": 11
  },
  {
   "cell_type": "code",
   "id": "15afabb3",
   "metadata": {
    "id": "15afabb3",
    "outputId": "a4e28482-d370-454a-ecec-b095d6ea2046",
    "ExecuteTime": {
     "end_time": "2024-06-04T16:30:00.382515Z",
     "start_time": "2024-06-04T16:30:00.368554Z"
    }
   },
   "source": [
    "df.tail()"
   ],
   "outputs": [
    {
     "data": {
      "text/plain": [
       "             Adj Close  Prediction\n",
       "Date                              \n",
       "2024-05-23  181.050003  180.750000\n",
       "2024-05-24  180.750000  182.149994\n",
       "2024-05-28  182.149994  182.020004\n",
       "2024-05-29  182.020004  179.320007\n",
       "2024-05-30  179.320007         NaN"
      ],
      "text/html": [
       "<div>\n",
       "<style scoped>\n",
       "    .dataframe tbody tr th:only-of-type {\n",
       "        vertical-align: middle;\n",
       "    }\n",
       "\n",
       "    .dataframe tbody tr th {\n",
       "        vertical-align: top;\n",
       "    }\n",
       "\n",
       "    .dataframe thead th {\n",
       "        text-align: right;\n",
       "    }\n",
       "</style>\n",
       "<table border=\"1\" class=\"dataframe\">\n",
       "  <thead>\n",
       "    <tr style=\"text-align: right;\">\n",
       "      <th></th>\n",
       "      <th>Adj Close</th>\n",
       "      <th>Prediction</th>\n",
       "    </tr>\n",
       "    <tr>\n",
       "      <th>Date</th>\n",
       "      <th></th>\n",
       "      <th></th>\n",
       "    </tr>\n",
       "  </thead>\n",
       "  <tbody>\n",
       "    <tr>\n",
       "      <th>2024-05-23</th>\n",
       "      <td>181.050003</td>\n",
       "      <td>180.750000</td>\n",
       "    </tr>\n",
       "    <tr>\n",
       "      <th>2024-05-24</th>\n",
       "      <td>180.750000</td>\n",
       "      <td>182.149994</td>\n",
       "    </tr>\n",
       "    <tr>\n",
       "      <th>2024-05-28</th>\n",
       "      <td>182.149994</td>\n",
       "      <td>182.020004</td>\n",
       "    </tr>\n",
       "    <tr>\n",
       "      <th>2024-05-29</th>\n",
       "      <td>182.020004</td>\n",
       "      <td>179.320007</td>\n",
       "    </tr>\n",
       "    <tr>\n",
       "      <th>2024-05-30</th>\n",
       "      <td>179.320007</td>\n",
       "      <td>NaN</td>\n",
       "    </tr>\n",
       "  </tbody>\n",
       "</table>\n",
       "</div>"
      ]
     },
     "execution_count": 12,
     "metadata": {},
     "output_type": "execute_result"
    }
   ],
   "execution_count": 12
  },
  {
   "cell_type": "markdown",
   "id": "3471875b-d0ec-48f5-9a52-bd9a7f8eaf1f",
   "metadata": {},
   "source": [
    "#### Previsione prossimi 10 giorni"
   ]
  },
  {
   "cell_type": "code",
   "id": "6b3c355d",
   "metadata": {
    "id": "6b3c355d",
    "ExecuteTime": {
     "end_time": "2024-06-04T16:30:00.398472Z",
     "start_time": "2024-06-04T16:30:00.383513Z"
    }
   },
   "source": [
    "# Stabiliamo quanti \"n\" giorni in avanti vogliamo prevedere\n",
    "forecast_out = 10\n",
    "df.loc[:,'Prediction'] = df['Adj Close'].shift(-forecast_out)"
   ],
   "outputs": [],
   "execution_count": 13
  },
  {
   "cell_type": "code",
   "id": "e698f8da",
   "metadata": {
    "id": "e698f8da",
    "outputId": "b38a646f-6ced-42a6-c6bc-53ca0c3ec3ff",
    "ExecuteTime": {
     "end_time": "2024-06-04T16:30:00.413940Z",
     "start_time": "2024-06-04T16:30:00.399470Z"
    }
   },
   "source": [
    "df.head()"
   ],
   "outputs": [
    {
     "data": {
      "text/plain": [
       "            Adj Close  Prediction\n",
       "Date                             \n",
       "2014-06-02  15.442000   16.381001\n",
       "2014-06-03  15.359500   16.281000\n",
       "2014-06-04  15.339000   16.719000\n",
       "2014-06-05  16.178499   16.350000\n",
       "2014-06-06  16.483500   16.209999"
      ],
      "text/html": [
       "<div>\n",
       "<style scoped>\n",
       "    .dataframe tbody tr th:only-of-type {\n",
       "        vertical-align: middle;\n",
       "    }\n",
       "\n",
       "    .dataframe tbody tr th {\n",
       "        vertical-align: top;\n",
       "    }\n",
       "\n",
       "    .dataframe thead th {\n",
       "        text-align: right;\n",
       "    }\n",
       "</style>\n",
       "<table border=\"1\" class=\"dataframe\">\n",
       "  <thead>\n",
       "    <tr style=\"text-align: right;\">\n",
       "      <th></th>\n",
       "      <th>Adj Close</th>\n",
       "      <th>Prediction</th>\n",
       "    </tr>\n",
       "    <tr>\n",
       "      <th>Date</th>\n",
       "      <th></th>\n",
       "      <th></th>\n",
       "    </tr>\n",
       "  </thead>\n",
       "  <tbody>\n",
       "    <tr>\n",
       "      <th>2014-06-02</th>\n",
       "      <td>15.442000</td>\n",
       "      <td>16.381001</td>\n",
       "    </tr>\n",
       "    <tr>\n",
       "      <th>2014-06-03</th>\n",
       "      <td>15.359500</td>\n",
       "      <td>16.281000</td>\n",
       "    </tr>\n",
       "    <tr>\n",
       "      <th>2014-06-04</th>\n",
       "      <td>15.339000</td>\n",
       "      <td>16.719000</td>\n",
       "    </tr>\n",
       "    <tr>\n",
       "      <th>2014-06-05</th>\n",
       "      <td>16.178499</td>\n",
       "      <td>16.350000</td>\n",
       "    </tr>\n",
       "    <tr>\n",
       "      <th>2014-06-06</th>\n",
       "      <td>16.483500</td>\n",
       "      <td>16.209999</td>\n",
       "    </tr>\n",
       "  </tbody>\n",
       "</table>\n",
       "</div>"
      ]
     },
     "execution_count": 14,
     "metadata": {},
     "output_type": "execute_result"
    }
   ],
   "execution_count": 14
  },
  {
   "cell_type": "code",
   "id": "e5164349-e494-416b-b117-a1803a9b08bb",
   "metadata": {
    "ExecuteTime": {
     "end_time": "2024-06-04T16:30:00.428900Z",
     "start_time": "2024-06-04T16:30:00.414938Z"
    }
   },
   "source": [
    "df.tail(15)"
   ],
   "outputs": [
    {
     "data": {
      "text/plain": [
       "             Adj Close  Prediction\n",
       "Date                              \n",
       "2024-05-09  189.500000  181.050003\n",
       "2024-05-10  187.479996  180.750000\n",
       "2024-05-13  186.570007  182.149994\n",
       "2024-05-14  187.070007  182.020004\n",
       "2024-05-15  185.990005  179.320007\n",
       "2024-05-16  183.630005         NaN\n",
       "2024-05-17  184.699997         NaN\n",
       "2024-05-20  183.539993         NaN\n",
       "2024-05-21  183.149994         NaN\n",
       "2024-05-22  183.130005         NaN\n",
       "2024-05-23  181.050003         NaN\n",
       "2024-05-24  180.750000         NaN\n",
       "2024-05-28  182.149994         NaN\n",
       "2024-05-29  182.020004         NaN\n",
       "2024-05-30  179.320007         NaN"
      ],
      "text/html": [
       "<div>\n",
       "<style scoped>\n",
       "    .dataframe tbody tr th:only-of-type {\n",
       "        vertical-align: middle;\n",
       "    }\n",
       "\n",
       "    .dataframe tbody tr th {\n",
       "        vertical-align: top;\n",
       "    }\n",
       "\n",
       "    .dataframe thead th {\n",
       "        text-align: right;\n",
       "    }\n",
       "</style>\n",
       "<table border=\"1\" class=\"dataframe\">\n",
       "  <thead>\n",
       "    <tr style=\"text-align: right;\">\n",
       "      <th></th>\n",
       "      <th>Adj Close</th>\n",
       "      <th>Prediction</th>\n",
       "    </tr>\n",
       "    <tr>\n",
       "      <th>Date</th>\n",
       "      <th></th>\n",
       "      <th></th>\n",
       "    </tr>\n",
       "  </thead>\n",
       "  <tbody>\n",
       "    <tr>\n",
       "      <th>2024-05-09</th>\n",
       "      <td>189.500000</td>\n",
       "      <td>181.050003</td>\n",
       "    </tr>\n",
       "    <tr>\n",
       "      <th>2024-05-10</th>\n",
       "      <td>187.479996</td>\n",
       "      <td>180.750000</td>\n",
       "    </tr>\n",
       "    <tr>\n",
       "      <th>2024-05-13</th>\n",
       "      <td>186.570007</td>\n",
       "      <td>182.149994</td>\n",
       "    </tr>\n",
       "    <tr>\n",
       "      <th>2024-05-14</th>\n",
       "      <td>187.070007</td>\n",
       "      <td>182.020004</td>\n",
       "    </tr>\n",
       "    <tr>\n",
       "      <th>2024-05-15</th>\n",
       "      <td>185.990005</td>\n",
       "      <td>179.320007</td>\n",
       "    </tr>\n",
       "    <tr>\n",
       "      <th>2024-05-16</th>\n",
       "      <td>183.630005</td>\n",
       "      <td>NaN</td>\n",
       "    </tr>\n",
       "    <tr>\n",
       "      <th>2024-05-17</th>\n",
       "      <td>184.699997</td>\n",
       "      <td>NaN</td>\n",
       "    </tr>\n",
       "    <tr>\n",
       "      <th>2024-05-20</th>\n",
       "      <td>183.539993</td>\n",
       "      <td>NaN</td>\n",
       "    </tr>\n",
       "    <tr>\n",
       "      <th>2024-05-21</th>\n",
       "      <td>183.149994</td>\n",
       "      <td>NaN</td>\n",
       "    </tr>\n",
       "    <tr>\n",
       "      <th>2024-05-22</th>\n",
       "      <td>183.130005</td>\n",
       "      <td>NaN</td>\n",
       "    </tr>\n",
       "    <tr>\n",
       "      <th>2024-05-23</th>\n",
       "      <td>181.050003</td>\n",
       "      <td>NaN</td>\n",
       "    </tr>\n",
       "    <tr>\n",
       "      <th>2024-05-24</th>\n",
       "      <td>180.750000</td>\n",
       "      <td>NaN</td>\n",
       "    </tr>\n",
       "    <tr>\n",
       "      <th>2024-05-28</th>\n",
       "      <td>182.149994</td>\n",
       "      <td>NaN</td>\n",
       "    </tr>\n",
       "    <tr>\n",
       "      <th>2024-05-29</th>\n",
       "      <td>182.020004</td>\n",
       "      <td>NaN</td>\n",
       "    </tr>\n",
       "    <tr>\n",
       "      <th>2024-05-30</th>\n",
       "      <td>179.320007</td>\n",
       "      <td>NaN</td>\n",
       "    </tr>\n",
       "  </tbody>\n",
       "</table>\n",
       "</div>"
      ]
     },
     "execution_count": 15,
     "metadata": {},
     "output_type": "execute_result"
    }
   ],
   "execution_count": 15
  },
  {
   "cell_type": "markdown",
   "id": "5693c2d9-7235-4247-99c1-bfd970a76b58",
   "metadata": {
    "id": "9c455dfd"
   },
   "source": [
    "Creiamo un data set indipendente (X), trasformando il df in un array\n",
    "X = np.array(df.drop(['Prediction'],1))"
   ]
  },
  {
   "cell_type": "code",
   "id": "124bc19e-9470-418c-8167-27becf3896a9",
   "metadata": {
    "ExecuteTime": {
     "end_time": "2024-06-04T16:30:00.444858Z",
     "start_time": "2024-06-04T16:30:00.429898Z"
    }
   },
   "source": [
    "X = np.array(df['Adj Close']).reshape(-1,1) # array colonna di prezzi di chiusura\n",
    "X"
   ],
   "outputs": [
    {
     "data": {
      "text/plain": [
       "array([[ 15.44200039],\n",
       "       [ 15.35949993],\n",
       "       [ 15.33899975],\n",
       "       ...,\n",
       "       [182.1499939 ],\n",
       "       [182.02000427],\n",
       "       [179.32000732]])"
      ]
     },
     "execution_count": 16,
     "metadata": {},
     "output_type": "execute_result"
    }
   ],
   "execution_count": 16
  },
  {
   "cell_type": "code",
   "id": "cca5fa1f",
   "metadata": {
    "id": "cca5fa1f",
    "ExecuteTime": {
     "end_time": "2024-06-04T16:30:00.460328Z",
     "start_time": "2024-06-04T16:30:00.446853Z"
    }
   },
   "source": [
    "# Eliminiamo le ultime \"n\" righe\n",
    "X = X[:-forecast_out]"
   ],
   "outputs": [],
   "execution_count": 17
  },
  {
   "cell_type": "code",
   "id": "aa3e84f6",
   "metadata": {
    "id": "aa3e84f6",
    "outputId": "48b65e2a-0bd6-43b7-9c0f-20d2d505921a",
    "ExecuteTime": {
     "end_time": "2024-06-04T16:30:00.476285Z",
     "start_time": "2024-06-04T16:30:00.461325Z"
    }
   },
   "source": [
    "print(X)\n",
    "# attenzione, abbiamo creato una lista di liste"
   ],
   "outputs": [
    {
     "name": "stdout",
     "output_type": "stream",
     "text": [
      "[[ 15.44200039]\n",
      " [ 15.35949993]\n",
      " [ 15.33899975]\n",
      " ...\n",
      " [186.57000732]\n",
      " [187.07000732]\n",
      " [185.99000549]]\n"
     ]
    }
   ],
   "execution_count": 18
  },
  {
   "cell_type": "code",
   "id": "3900c42d",
   "metadata": {
    "id": "3900c42d",
    "outputId": "6cb5ea7a-9fc6-473a-c91e-2fb6184889dd",
    "ExecuteTime": {
     "end_time": "2024-06-04T16:30:00.491245Z",
     "start_time": "2024-06-04T16:30:00.477282Z"
    }
   },
   "source": [
    "len(X)"
   ],
   "outputs": [
    {
     "data": {
      "text/plain": [
       "2507"
      ]
     },
     "execution_count": 19,
     "metadata": {},
     "output_type": "execute_result"
    }
   ],
   "execution_count": 19
  },
  {
   "cell_type": "code",
   "id": "cf376344",
   "metadata": {
    "id": "cf376344",
    "outputId": "b313ab3e-01ff-492f-e31a-9b27b50620ea",
    "ExecuteTime": {
     "end_time": "2024-06-04T16:30:00.507204Z",
     "start_time": "2024-06-04T16:30:00.492242Z"
    }
   },
   "source": [
    "# Creiamo il data set dipendente (y)\n",
    "# Creiamo un altro array (tutti i valori compresi gli NaN)\n",
    "y = np.array(df['Prediction'])\n",
    "print(y)"
   ],
   "outputs": [
    {
     "name": "stdout",
     "output_type": "stream",
     "text": [
      "[16.38100052 16.28100014 16.71899986 ...         nan         nan\n",
      "         nan]\n"
     ]
    }
   ],
   "execution_count": 20
  },
  {
   "cell_type": "code",
   "id": "63fc660b",
   "metadata": {
    "id": "63fc660b",
    "outputId": "ca18f951-3ced-4565-dbd6-d8beee78a4e9",
    "ExecuteTime": {
     "end_time": "2024-06-04T16:30:00.522162Z",
     "start_time": "2024-06-04T16:30:00.508200Z"
    }
   },
   "source": [
    "# Eliminiamo gli NaN\n",
    "y = y[:-forecast_out]\n",
    "print(y)"
   ],
   "outputs": [
    {
     "name": "stdout",
     "output_type": "stream",
     "text": [
      "[ 16.38100052  16.28100014  16.71899986 ... 182.1499939  182.02000427\n",
      " 179.32000732]\n"
     ]
    }
   ],
   "execution_count": 21
  },
  {
   "cell_type": "code",
   "id": "e104e349-25bd-4b42-bc1e-2e39ce0d9937",
   "metadata": {
    "ExecuteTime": {
     "end_time": "2024-06-04T16:30:00.538120Z",
     "start_time": "2024-06-04T16:30:00.523160Z"
    }
   },
   "source": [
    "len(y)"
   ],
   "outputs": [
    {
     "data": {
      "text/plain": [
       "2507"
      ]
     },
     "execution_count": 22,
     "metadata": {},
     "output_type": "execute_result"
    }
   ],
   "execution_count": 22
  },
  {
   "cell_type": "markdown",
   "id": "26d2cd16",
   "metadata": {
    "id": "26d2cd16"
   },
   "source": [
    "Creiamo i due data set di addestramento e prova (train, test)"
   ]
  },
  {
   "cell_type": "code",
   "id": "115c82d9",
   "metadata": {
    "id": "115c82d9",
    "ExecuteTime": {
     "end_time": "2024-06-04T16:30:00.554077Z",
     "start_time": "2024-06-04T16:30:00.540115Z"
    }
   },
   "source": [
    "x_train, x_test, y_train, y_test = train_test_split(X, y, test_size=0.2)"
   ],
   "outputs": [],
   "execution_count": 23
  },
  {
   "cell_type": "code",
   "id": "0fd5b5e5-ac3a-491f-a52d-3f22d79235b0",
   "metadata": {
    "ExecuteTime": {
     "end_time": "2024-06-04T16:30:00.569738Z",
     "start_time": "2024-06-04T16:30:00.556072Z"
    }
   },
   "source": [
    "x_train"
   ],
   "outputs": [
    {
     "data": {
      "text/plain": [
       "array([[ 96.19999695],\n",
       "       [ 75.01399994],\n",
       "       [ 18.61249924],\n",
       "       ...,\n",
       "       [ 87.27649689],\n",
       "       [163.43049622],\n",
       "       [ 16.02050018]])"
      ]
     },
     "execution_count": 24,
     "metadata": {},
     "output_type": "execute_result"
    }
   ],
   "execution_count": 24
  },
  {
   "cell_type": "code",
   "id": "a23092f8-9c4a-4a9b-a3d9-12794608d7e1",
   "metadata": {
    "ExecuteTime": {
     "end_time": "2024-06-04T16:30:00.585695Z",
     "start_time": "2024-06-04T16:30:00.570734Z"
    }
   },
   "source": "y_train",
   "outputs": [
    {
     "data": {
      "text/plain": [
       "array([100.25      ,  84.66100311,  18.77799988, ...,  87.02400208,\n",
       "       149.99299622,  15.91650009])"
      ]
     },
     "execution_count": 25,
     "metadata": {},
     "output_type": "execute_result"
    }
   ],
   "execution_count": 25
  },
  {
   "cell_type": "markdown",
   "id": "bdf169ea",
   "metadata": {
    "id": "bdf169ea"
   },
   "source": [
    "### Support Vector Regressor"
   ]
  },
  {
   "cell_type": "code",
   "id": "046c6616",
   "metadata": {
    "id": "046c6616",
    "ExecuteTime": {
     "end_time": "2024-06-04T16:30:00.601652Z",
     "start_time": "2024-06-04T16:30:00.586691Z"
    }
   },
   "source": [
    "svr_rbf = SVR(kernel='rbf', C = 1e3, gamma = 0.1)"
   ],
   "outputs": [],
   "execution_count": 26
  },
  {
   "cell_type": "code",
   "id": "a9be2faf",
   "metadata": {
    "id": "a9be2faf",
    "outputId": "732df99f-2b88-4fed-e2a4-918f0c043393",
    "ExecuteTime": {
     "end_time": "2024-06-04T16:30:01.721854Z",
     "start_time": "2024-06-04T16:30:00.602650Z"
    }
   },
   "source": [
    "svr_rbf.fit(x_train, y_train)"
   ],
   "outputs": [
    {
     "data": {
      "text/plain": [
       "SVR(C=1000.0, gamma=0.1)"
      ],
      "text/html": [
       "<style>#sk-container-id-1 {\n",
       "  /* Definition of color scheme common for light and dark mode */\n",
       "  --sklearn-color-text: black;\n",
       "  --sklearn-color-line: gray;\n",
       "  /* Definition of color scheme for unfitted estimators */\n",
       "  --sklearn-color-unfitted-level-0: #fff5e6;\n",
       "  --sklearn-color-unfitted-level-1: #f6e4d2;\n",
       "  --sklearn-color-unfitted-level-2: #ffe0b3;\n",
       "  --sklearn-color-unfitted-level-3: chocolate;\n",
       "  /* Definition of color scheme for fitted estimators */\n",
       "  --sklearn-color-fitted-level-0: #f0f8ff;\n",
       "  --sklearn-color-fitted-level-1: #d4ebff;\n",
       "  --sklearn-color-fitted-level-2: #b3dbfd;\n",
       "  --sklearn-color-fitted-level-3: cornflowerblue;\n",
       "\n",
       "  /* Specific color for light theme */\n",
       "  --sklearn-color-text-on-default-background: var(--sg-text-color, var(--theme-code-foreground, var(--jp-content-font-color1, black)));\n",
       "  --sklearn-color-background: var(--sg-background-color, var(--theme-background, var(--jp-layout-color0, white)));\n",
       "  --sklearn-color-border-box: var(--sg-text-color, var(--theme-code-foreground, var(--jp-content-font-color1, black)));\n",
       "  --sklearn-color-icon: #696969;\n",
       "\n",
       "  @media (prefers-color-scheme: dark) {\n",
       "    /* Redefinition of color scheme for dark theme */\n",
       "    --sklearn-color-text-on-default-background: var(--sg-text-color, var(--theme-code-foreground, var(--jp-content-font-color1, white)));\n",
       "    --sklearn-color-background: var(--sg-background-color, var(--theme-background, var(--jp-layout-color0, #111)));\n",
       "    --sklearn-color-border-box: var(--sg-text-color, var(--theme-code-foreground, var(--jp-content-font-color1, white)));\n",
       "    --sklearn-color-icon: #878787;\n",
       "  }\n",
       "}\n",
       "\n",
       "#sk-container-id-1 {\n",
       "  color: var(--sklearn-color-text);\n",
       "}\n",
       "\n",
       "#sk-container-id-1 pre {\n",
       "  padding: 0;\n",
       "}\n",
       "\n",
       "#sk-container-id-1 input.sk-hidden--visually {\n",
       "  border: 0;\n",
       "  clip: rect(1px 1px 1px 1px);\n",
       "  clip: rect(1px, 1px, 1px, 1px);\n",
       "  height: 1px;\n",
       "  margin: -1px;\n",
       "  overflow: hidden;\n",
       "  padding: 0;\n",
       "  position: absolute;\n",
       "  width: 1px;\n",
       "}\n",
       "\n",
       "#sk-container-id-1 div.sk-dashed-wrapped {\n",
       "  border: 1px dashed var(--sklearn-color-line);\n",
       "  margin: 0 0.4em 0.5em 0.4em;\n",
       "  box-sizing: border-box;\n",
       "  padding-bottom: 0.4em;\n",
       "  background-color: var(--sklearn-color-background);\n",
       "}\n",
       "\n",
       "#sk-container-id-1 div.sk-container {\n",
       "  /* jupyter's `normalize.less` sets `[hidden] { display: none; }`\n",
       "     but bootstrap.min.css set `[hidden] { display: none !important; }`\n",
       "     so we also need the `!important` here to be able to override the\n",
       "     default hidden behavior on the sphinx rendered scikit-learn.org.\n",
       "     See: https://github.com/scikit-learn/scikit-learn/issues/21755 */\n",
       "  display: inline-block !important;\n",
       "  position: relative;\n",
       "}\n",
       "\n",
       "#sk-container-id-1 div.sk-text-repr-fallback {\n",
       "  display: none;\n",
       "}\n",
       "\n",
       "div.sk-parallel-item,\n",
       "div.sk-serial,\n",
       "div.sk-item {\n",
       "  /* draw centered vertical line to link estimators */\n",
       "  background-image: linear-gradient(var(--sklearn-color-text-on-default-background), var(--sklearn-color-text-on-default-background));\n",
       "  background-size: 2px 100%;\n",
       "  background-repeat: no-repeat;\n",
       "  background-position: center center;\n",
       "}\n",
       "\n",
       "/* Parallel-specific style estimator block */\n",
       "\n",
       "#sk-container-id-1 div.sk-parallel-item::after {\n",
       "  content: \"\";\n",
       "  width: 100%;\n",
       "  border-bottom: 2px solid var(--sklearn-color-text-on-default-background);\n",
       "  flex-grow: 1;\n",
       "}\n",
       "\n",
       "#sk-container-id-1 div.sk-parallel {\n",
       "  display: flex;\n",
       "  align-items: stretch;\n",
       "  justify-content: center;\n",
       "  background-color: var(--sklearn-color-background);\n",
       "  position: relative;\n",
       "}\n",
       "\n",
       "#sk-container-id-1 div.sk-parallel-item {\n",
       "  display: flex;\n",
       "  flex-direction: column;\n",
       "}\n",
       "\n",
       "#sk-container-id-1 div.sk-parallel-item:first-child::after {\n",
       "  align-self: flex-end;\n",
       "  width: 50%;\n",
       "}\n",
       "\n",
       "#sk-container-id-1 div.sk-parallel-item:last-child::after {\n",
       "  align-self: flex-start;\n",
       "  width: 50%;\n",
       "}\n",
       "\n",
       "#sk-container-id-1 div.sk-parallel-item:only-child::after {\n",
       "  width: 0;\n",
       "}\n",
       "\n",
       "/* Serial-specific style estimator block */\n",
       "\n",
       "#sk-container-id-1 div.sk-serial {\n",
       "  display: flex;\n",
       "  flex-direction: column;\n",
       "  align-items: center;\n",
       "  background-color: var(--sklearn-color-background);\n",
       "  padding-right: 1em;\n",
       "  padding-left: 1em;\n",
       "}\n",
       "\n",
       "\n",
       "/* Toggleable style: style used for estimator/Pipeline/ColumnTransformer box that is\n",
       "clickable and can be expanded/collapsed.\n",
       "- Pipeline and ColumnTransformer use this feature and define the default style\n",
       "- Estimators will overwrite some part of the style using the `sk-estimator` class\n",
       "*/\n",
       "\n",
       "/* Pipeline and ColumnTransformer style (default) */\n",
       "\n",
       "#sk-container-id-1 div.sk-toggleable {\n",
       "  /* Default theme specific background. It is overwritten whether we have a\n",
       "  specific estimator or a Pipeline/ColumnTransformer */\n",
       "  background-color: var(--sklearn-color-background);\n",
       "}\n",
       "\n",
       "/* Toggleable label */\n",
       "#sk-container-id-1 label.sk-toggleable__label {\n",
       "  cursor: pointer;\n",
       "  display: block;\n",
       "  width: 100%;\n",
       "  margin-bottom: 0;\n",
       "  padding: 0.5em;\n",
       "  box-sizing: border-box;\n",
       "  text-align: center;\n",
       "}\n",
       "\n",
       "#sk-container-id-1 label.sk-toggleable__label-arrow:before {\n",
       "  /* Arrow on the left of the label */\n",
       "  content: \"▸\";\n",
       "  float: left;\n",
       "  margin-right: 0.25em;\n",
       "  color: var(--sklearn-color-icon);\n",
       "}\n",
       "\n",
       "#sk-container-id-1 label.sk-toggleable__label-arrow:hover:before {\n",
       "  color: var(--sklearn-color-text);\n",
       "}\n",
       "\n",
       "/* Toggleable content - dropdown */\n",
       "\n",
       "#sk-container-id-1 div.sk-toggleable__content {\n",
       "  max-height: 0;\n",
       "  max-width: 0;\n",
       "  overflow: hidden;\n",
       "  text-align: left;\n",
       "  /* unfitted */\n",
       "  background-color: var(--sklearn-color-unfitted-level-0);\n",
       "}\n",
       "\n",
       "#sk-container-id-1 div.sk-toggleable__content.fitted {\n",
       "  /* fitted */\n",
       "  background-color: var(--sklearn-color-fitted-level-0);\n",
       "}\n",
       "\n",
       "#sk-container-id-1 div.sk-toggleable__content pre {\n",
       "  margin: 0.2em;\n",
       "  border-radius: 0.25em;\n",
       "  color: var(--sklearn-color-text);\n",
       "  /* unfitted */\n",
       "  background-color: var(--sklearn-color-unfitted-level-0);\n",
       "}\n",
       "\n",
       "#sk-container-id-1 div.sk-toggleable__content.fitted pre {\n",
       "  /* unfitted */\n",
       "  background-color: var(--sklearn-color-fitted-level-0);\n",
       "}\n",
       "\n",
       "#sk-container-id-1 input.sk-toggleable__control:checked~div.sk-toggleable__content {\n",
       "  /* Expand drop-down */\n",
       "  max-height: 200px;\n",
       "  max-width: 100%;\n",
       "  overflow: auto;\n",
       "}\n",
       "\n",
       "#sk-container-id-1 input.sk-toggleable__control:checked~label.sk-toggleable__label-arrow:before {\n",
       "  content: \"▾\";\n",
       "}\n",
       "\n",
       "/* Pipeline/ColumnTransformer-specific style */\n",
       "\n",
       "#sk-container-id-1 div.sk-label input.sk-toggleable__control:checked~label.sk-toggleable__label {\n",
       "  color: var(--sklearn-color-text);\n",
       "  background-color: var(--sklearn-color-unfitted-level-2);\n",
       "}\n",
       "\n",
       "#sk-container-id-1 div.sk-label.fitted input.sk-toggleable__control:checked~label.sk-toggleable__label {\n",
       "  background-color: var(--sklearn-color-fitted-level-2);\n",
       "}\n",
       "\n",
       "/* Estimator-specific style */\n",
       "\n",
       "/* Colorize estimator box */\n",
       "#sk-container-id-1 div.sk-estimator input.sk-toggleable__control:checked~label.sk-toggleable__label {\n",
       "  /* unfitted */\n",
       "  background-color: var(--sklearn-color-unfitted-level-2);\n",
       "}\n",
       "\n",
       "#sk-container-id-1 div.sk-estimator.fitted input.sk-toggleable__control:checked~label.sk-toggleable__label {\n",
       "  /* fitted */\n",
       "  background-color: var(--sklearn-color-fitted-level-2);\n",
       "}\n",
       "\n",
       "#sk-container-id-1 div.sk-label label.sk-toggleable__label,\n",
       "#sk-container-id-1 div.sk-label label {\n",
       "  /* The background is the default theme color */\n",
       "  color: var(--sklearn-color-text-on-default-background);\n",
       "}\n",
       "\n",
       "/* On hover, darken the color of the background */\n",
       "#sk-container-id-1 div.sk-label:hover label.sk-toggleable__label {\n",
       "  color: var(--sklearn-color-text);\n",
       "  background-color: var(--sklearn-color-unfitted-level-2);\n",
       "}\n",
       "\n",
       "/* Label box, darken color on hover, fitted */\n",
       "#sk-container-id-1 div.sk-label.fitted:hover label.sk-toggleable__label.fitted {\n",
       "  color: var(--sklearn-color-text);\n",
       "  background-color: var(--sklearn-color-fitted-level-2);\n",
       "}\n",
       "\n",
       "/* Estimator label */\n",
       "\n",
       "#sk-container-id-1 div.sk-label label {\n",
       "  font-family: monospace;\n",
       "  font-weight: bold;\n",
       "  display: inline-block;\n",
       "  line-height: 1.2em;\n",
       "}\n",
       "\n",
       "#sk-container-id-1 div.sk-label-container {\n",
       "  text-align: center;\n",
       "}\n",
       "\n",
       "/* Estimator-specific */\n",
       "#sk-container-id-1 div.sk-estimator {\n",
       "  font-family: monospace;\n",
       "  border: 1px dotted var(--sklearn-color-border-box);\n",
       "  border-radius: 0.25em;\n",
       "  box-sizing: border-box;\n",
       "  margin-bottom: 0.5em;\n",
       "  /* unfitted */\n",
       "  background-color: var(--sklearn-color-unfitted-level-0);\n",
       "}\n",
       "\n",
       "#sk-container-id-1 div.sk-estimator.fitted {\n",
       "  /* fitted */\n",
       "  background-color: var(--sklearn-color-fitted-level-0);\n",
       "}\n",
       "\n",
       "/* on hover */\n",
       "#sk-container-id-1 div.sk-estimator:hover {\n",
       "  /* unfitted */\n",
       "  background-color: var(--sklearn-color-unfitted-level-2);\n",
       "}\n",
       "\n",
       "#sk-container-id-1 div.sk-estimator.fitted:hover {\n",
       "  /* fitted */\n",
       "  background-color: var(--sklearn-color-fitted-level-2);\n",
       "}\n",
       "\n",
       "/* Specification for estimator info (e.g. \"i\" and \"?\") */\n",
       "\n",
       "/* Common style for \"i\" and \"?\" */\n",
       "\n",
       ".sk-estimator-doc-link,\n",
       "a:link.sk-estimator-doc-link,\n",
       "a:visited.sk-estimator-doc-link {\n",
       "  float: right;\n",
       "  font-size: smaller;\n",
       "  line-height: 1em;\n",
       "  font-family: monospace;\n",
       "  background-color: var(--sklearn-color-background);\n",
       "  border-radius: 1em;\n",
       "  height: 1em;\n",
       "  width: 1em;\n",
       "  text-decoration: none !important;\n",
       "  margin-left: 1ex;\n",
       "  /* unfitted */\n",
       "  border: var(--sklearn-color-unfitted-level-1) 1pt solid;\n",
       "  color: var(--sklearn-color-unfitted-level-1);\n",
       "}\n",
       "\n",
       ".sk-estimator-doc-link.fitted,\n",
       "a:link.sk-estimator-doc-link.fitted,\n",
       "a:visited.sk-estimator-doc-link.fitted {\n",
       "  /* fitted */\n",
       "  border: var(--sklearn-color-fitted-level-1) 1pt solid;\n",
       "  color: var(--sklearn-color-fitted-level-1);\n",
       "}\n",
       "\n",
       "/* On hover */\n",
       "div.sk-estimator:hover .sk-estimator-doc-link:hover,\n",
       ".sk-estimator-doc-link:hover,\n",
       "div.sk-label-container:hover .sk-estimator-doc-link:hover,\n",
       ".sk-estimator-doc-link:hover {\n",
       "  /* unfitted */\n",
       "  background-color: var(--sklearn-color-unfitted-level-3);\n",
       "  color: var(--sklearn-color-background);\n",
       "  text-decoration: none;\n",
       "}\n",
       "\n",
       "div.sk-estimator.fitted:hover .sk-estimator-doc-link.fitted:hover,\n",
       ".sk-estimator-doc-link.fitted:hover,\n",
       "div.sk-label-container:hover .sk-estimator-doc-link.fitted:hover,\n",
       ".sk-estimator-doc-link.fitted:hover {\n",
       "  /* fitted */\n",
       "  background-color: var(--sklearn-color-fitted-level-3);\n",
       "  color: var(--sklearn-color-background);\n",
       "  text-decoration: none;\n",
       "}\n",
       "\n",
       "/* Span, style for the box shown on hovering the info icon */\n",
       ".sk-estimator-doc-link span {\n",
       "  display: none;\n",
       "  z-index: 9999;\n",
       "  position: relative;\n",
       "  font-weight: normal;\n",
       "  right: .2ex;\n",
       "  padding: .5ex;\n",
       "  margin: .5ex;\n",
       "  width: min-content;\n",
       "  min-width: 20ex;\n",
       "  max-width: 50ex;\n",
       "  color: var(--sklearn-color-text);\n",
       "  box-shadow: 2pt 2pt 4pt #999;\n",
       "  /* unfitted */\n",
       "  background: var(--sklearn-color-unfitted-level-0);\n",
       "  border: .5pt solid var(--sklearn-color-unfitted-level-3);\n",
       "}\n",
       "\n",
       ".sk-estimator-doc-link.fitted span {\n",
       "  /* fitted */\n",
       "  background: var(--sklearn-color-fitted-level-0);\n",
       "  border: var(--sklearn-color-fitted-level-3);\n",
       "}\n",
       "\n",
       ".sk-estimator-doc-link:hover span {\n",
       "  display: block;\n",
       "}\n",
       "\n",
       "/* \"?\"-specific style due to the `<a>` HTML tag */\n",
       "\n",
       "#sk-container-id-1 a.estimator_doc_link {\n",
       "  float: right;\n",
       "  font-size: 1rem;\n",
       "  line-height: 1em;\n",
       "  font-family: monospace;\n",
       "  background-color: var(--sklearn-color-background);\n",
       "  border-radius: 1rem;\n",
       "  height: 1rem;\n",
       "  width: 1rem;\n",
       "  text-decoration: none;\n",
       "  /* unfitted */\n",
       "  color: var(--sklearn-color-unfitted-level-1);\n",
       "  border: var(--sklearn-color-unfitted-level-1) 1pt solid;\n",
       "}\n",
       "\n",
       "#sk-container-id-1 a.estimator_doc_link.fitted {\n",
       "  /* fitted */\n",
       "  border: var(--sklearn-color-fitted-level-1) 1pt solid;\n",
       "  color: var(--sklearn-color-fitted-level-1);\n",
       "}\n",
       "\n",
       "/* On hover */\n",
       "#sk-container-id-1 a.estimator_doc_link:hover {\n",
       "  /* unfitted */\n",
       "  background-color: var(--sklearn-color-unfitted-level-3);\n",
       "  color: var(--sklearn-color-background);\n",
       "  text-decoration: none;\n",
       "}\n",
       "\n",
       "#sk-container-id-1 a.estimator_doc_link.fitted:hover {\n",
       "  /* fitted */\n",
       "  background-color: var(--sklearn-color-fitted-level-3);\n",
       "}\n",
       "</style><div id=\"sk-container-id-1\" class=\"sk-top-container\"><div class=\"sk-text-repr-fallback\"><pre>SVR(C=1000.0, gamma=0.1)</pre><b>In a Jupyter environment, please rerun this cell to show the HTML representation or trust the notebook. <br />On GitHub, the HTML representation is unable to render, please try loading this page with nbviewer.org.</b></div><div class=\"sk-container\" hidden><div class=\"sk-item\"><div class=\"sk-estimator fitted sk-toggleable\"><input class=\"sk-toggleable__control sk-hidden--visually\" id=\"sk-estimator-id-1\" type=\"checkbox\" checked><label for=\"sk-estimator-id-1\" class=\"sk-toggleable__label fitted sk-toggleable__label-arrow fitted\">&nbsp;&nbsp;SVR<a class=\"sk-estimator-doc-link fitted\" rel=\"noreferrer\" target=\"_blank\" href=\"https://scikit-learn.org/1.5/modules/generated/sklearn.svm.SVR.html\">?<span>Documentation for SVR</span></a><span class=\"sk-estimator-doc-link fitted\">i<span>Fitted</span></span></label><div class=\"sk-toggleable__content fitted\"><pre>SVR(C=1000.0, gamma=0.1)</pre></div> </div></div></div></div>"
      ]
     },
     "execution_count": 27,
     "metadata": {},
     "output_type": "execute_result"
    }
   ],
   "execution_count": 27
  },
  {
   "cell_type": "markdown",
   "id": "d2bd3cf0",
   "metadata": {
    "id": "d2bd3cf0"
   },
   "source": [
    "Testiamo il modello. L'indice di capacità del modello è il coefficiente di determinazione R^2 della previsione,  che indica la percentuale di variabilità nella variable dipendente spiegata dal modello. \n",
    "\n",
    "Il valore di R^2 è compreso fra un minimo di 0 e un massimo di 1"
   ]
  },
  {
   "cell_type": "code",
   "id": "60b3d72b",
   "metadata": {
    "id": "60b3d72b",
    "outputId": "7834bc29-88b0-4c2c-b374-8c34e96a8632",
    "ExecuteTime": {
     "end_time": "2024-06-04T16:30:01.864471Z",
     "start_time": "2024-06-04T16:30:01.728834Z"
    }
   },
   "source": [
    "svm_confindence = svr_rbf.score(x_test, y_test)\n",
    "print('svm_confindence: ', svm_confindence)"
   ],
   "outputs": [
    {
     "name": "stdout",
     "output_type": "stream",
     "text": [
      "svm_confindence:  0.9836751452960726\n"
     ]
    }
   ],
   "execution_count": 28
  },
  {
   "cell_type": "markdown",
   "id": "9882c2e9",
   "metadata": {
    "id": "9882c2e9"
   },
   "source": [
    "### Modello di regressione lineare"
   ]
  },
  {
   "cell_type": "code",
   "id": "3f350cdb",
   "metadata": {
    "id": "3f350cdb",
    "ExecuteTime": {
     "end_time": "2024-06-04T16:30:01.880503Z",
     "start_time": "2024-06-04T16:30:01.867464Z"
    }
   },
   "source": [
    "lr = LinearRegression()"
   ],
   "outputs": [],
   "execution_count": 29
  },
  {
   "cell_type": "code",
   "id": "2dd2bf22",
   "metadata": {
    "id": "2dd2bf22",
    "outputId": "af2d6bee-c3c6-462a-85d9-60655a7db152",
    "ExecuteTime": {
     "end_time": "2024-06-04T16:30:01.912343Z",
     "start_time": "2024-06-04T16:30:01.882423Z"
    }
   },
   "source": [
    "lr.fit(x_test, y_test)"
   ],
   "outputs": [
    {
     "data": {
      "text/plain": [
       "LinearRegression()"
      ],
      "text/html": [
       "<style>#sk-container-id-2 {\n",
       "  /* Definition of color scheme common for light and dark mode */\n",
       "  --sklearn-color-text: black;\n",
       "  --sklearn-color-line: gray;\n",
       "  /* Definition of color scheme for unfitted estimators */\n",
       "  --sklearn-color-unfitted-level-0: #fff5e6;\n",
       "  --sklearn-color-unfitted-level-1: #f6e4d2;\n",
       "  --sklearn-color-unfitted-level-2: #ffe0b3;\n",
       "  --sklearn-color-unfitted-level-3: chocolate;\n",
       "  /* Definition of color scheme for fitted estimators */\n",
       "  --sklearn-color-fitted-level-0: #f0f8ff;\n",
       "  --sklearn-color-fitted-level-1: #d4ebff;\n",
       "  --sklearn-color-fitted-level-2: #b3dbfd;\n",
       "  --sklearn-color-fitted-level-3: cornflowerblue;\n",
       "\n",
       "  /* Specific color for light theme */\n",
       "  --sklearn-color-text-on-default-background: var(--sg-text-color, var(--theme-code-foreground, var(--jp-content-font-color1, black)));\n",
       "  --sklearn-color-background: var(--sg-background-color, var(--theme-background, var(--jp-layout-color0, white)));\n",
       "  --sklearn-color-border-box: var(--sg-text-color, var(--theme-code-foreground, var(--jp-content-font-color1, black)));\n",
       "  --sklearn-color-icon: #696969;\n",
       "\n",
       "  @media (prefers-color-scheme: dark) {\n",
       "    /* Redefinition of color scheme for dark theme */\n",
       "    --sklearn-color-text-on-default-background: var(--sg-text-color, var(--theme-code-foreground, var(--jp-content-font-color1, white)));\n",
       "    --sklearn-color-background: var(--sg-background-color, var(--theme-background, var(--jp-layout-color0, #111)));\n",
       "    --sklearn-color-border-box: var(--sg-text-color, var(--theme-code-foreground, var(--jp-content-font-color1, white)));\n",
       "    --sklearn-color-icon: #878787;\n",
       "  }\n",
       "}\n",
       "\n",
       "#sk-container-id-2 {\n",
       "  color: var(--sklearn-color-text);\n",
       "}\n",
       "\n",
       "#sk-container-id-2 pre {\n",
       "  padding: 0;\n",
       "}\n",
       "\n",
       "#sk-container-id-2 input.sk-hidden--visually {\n",
       "  border: 0;\n",
       "  clip: rect(1px 1px 1px 1px);\n",
       "  clip: rect(1px, 1px, 1px, 1px);\n",
       "  height: 1px;\n",
       "  margin: -1px;\n",
       "  overflow: hidden;\n",
       "  padding: 0;\n",
       "  position: absolute;\n",
       "  width: 1px;\n",
       "}\n",
       "\n",
       "#sk-container-id-2 div.sk-dashed-wrapped {\n",
       "  border: 1px dashed var(--sklearn-color-line);\n",
       "  margin: 0 0.4em 0.5em 0.4em;\n",
       "  box-sizing: border-box;\n",
       "  padding-bottom: 0.4em;\n",
       "  background-color: var(--sklearn-color-background);\n",
       "}\n",
       "\n",
       "#sk-container-id-2 div.sk-container {\n",
       "  /* jupyter's `normalize.less` sets `[hidden] { display: none; }`\n",
       "     but bootstrap.min.css set `[hidden] { display: none !important; }`\n",
       "     so we also need the `!important` here to be able to override the\n",
       "     default hidden behavior on the sphinx rendered scikit-learn.org.\n",
       "     See: https://github.com/scikit-learn/scikit-learn/issues/21755 */\n",
       "  display: inline-block !important;\n",
       "  position: relative;\n",
       "}\n",
       "\n",
       "#sk-container-id-2 div.sk-text-repr-fallback {\n",
       "  display: none;\n",
       "}\n",
       "\n",
       "div.sk-parallel-item,\n",
       "div.sk-serial,\n",
       "div.sk-item {\n",
       "  /* draw centered vertical line to link estimators */\n",
       "  background-image: linear-gradient(var(--sklearn-color-text-on-default-background), var(--sklearn-color-text-on-default-background));\n",
       "  background-size: 2px 100%;\n",
       "  background-repeat: no-repeat;\n",
       "  background-position: center center;\n",
       "}\n",
       "\n",
       "/* Parallel-specific style estimator block */\n",
       "\n",
       "#sk-container-id-2 div.sk-parallel-item::after {\n",
       "  content: \"\";\n",
       "  width: 100%;\n",
       "  border-bottom: 2px solid var(--sklearn-color-text-on-default-background);\n",
       "  flex-grow: 1;\n",
       "}\n",
       "\n",
       "#sk-container-id-2 div.sk-parallel {\n",
       "  display: flex;\n",
       "  align-items: stretch;\n",
       "  justify-content: center;\n",
       "  background-color: var(--sklearn-color-background);\n",
       "  position: relative;\n",
       "}\n",
       "\n",
       "#sk-container-id-2 div.sk-parallel-item {\n",
       "  display: flex;\n",
       "  flex-direction: column;\n",
       "}\n",
       "\n",
       "#sk-container-id-2 div.sk-parallel-item:first-child::after {\n",
       "  align-self: flex-end;\n",
       "  width: 50%;\n",
       "}\n",
       "\n",
       "#sk-container-id-2 div.sk-parallel-item:last-child::after {\n",
       "  align-self: flex-start;\n",
       "  width: 50%;\n",
       "}\n",
       "\n",
       "#sk-container-id-2 div.sk-parallel-item:only-child::after {\n",
       "  width: 0;\n",
       "}\n",
       "\n",
       "/* Serial-specific style estimator block */\n",
       "\n",
       "#sk-container-id-2 div.sk-serial {\n",
       "  display: flex;\n",
       "  flex-direction: column;\n",
       "  align-items: center;\n",
       "  background-color: var(--sklearn-color-background);\n",
       "  padding-right: 1em;\n",
       "  padding-left: 1em;\n",
       "}\n",
       "\n",
       "\n",
       "/* Toggleable style: style used for estimator/Pipeline/ColumnTransformer box that is\n",
       "clickable and can be expanded/collapsed.\n",
       "- Pipeline and ColumnTransformer use this feature and define the default style\n",
       "- Estimators will overwrite some part of the style using the `sk-estimator` class\n",
       "*/\n",
       "\n",
       "/* Pipeline and ColumnTransformer style (default) */\n",
       "\n",
       "#sk-container-id-2 div.sk-toggleable {\n",
       "  /* Default theme specific background. It is overwritten whether we have a\n",
       "  specific estimator or a Pipeline/ColumnTransformer */\n",
       "  background-color: var(--sklearn-color-background);\n",
       "}\n",
       "\n",
       "/* Toggleable label */\n",
       "#sk-container-id-2 label.sk-toggleable__label {\n",
       "  cursor: pointer;\n",
       "  display: block;\n",
       "  width: 100%;\n",
       "  margin-bottom: 0;\n",
       "  padding: 0.5em;\n",
       "  box-sizing: border-box;\n",
       "  text-align: center;\n",
       "}\n",
       "\n",
       "#sk-container-id-2 label.sk-toggleable__label-arrow:before {\n",
       "  /* Arrow on the left of the label */\n",
       "  content: \"▸\";\n",
       "  float: left;\n",
       "  margin-right: 0.25em;\n",
       "  color: var(--sklearn-color-icon);\n",
       "}\n",
       "\n",
       "#sk-container-id-2 label.sk-toggleable__label-arrow:hover:before {\n",
       "  color: var(--sklearn-color-text);\n",
       "}\n",
       "\n",
       "/* Toggleable content - dropdown */\n",
       "\n",
       "#sk-container-id-2 div.sk-toggleable__content {\n",
       "  max-height: 0;\n",
       "  max-width: 0;\n",
       "  overflow: hidden;\n",
       "  text-align: left;\n",
       "  /* unfitted */\n",
       "  background-color: var(--sklearn-color-unfitted-level-0);\n",
       "}\n",
       "\n",
       "#sk-container-id-2 div.sk-toggleable__content.fitted {\n",
       "  /* fitted */\n",
       "  background-color: var(--sklearn-color-fitted-level-0);\n",
       "}\n",
       "\n",
       "#sk-container-id-2 div.sk-toggleable__content pre {\n",
       "  margin: 0.2em;\n",
       "  border-radius: 0.25em;\n",
       "  color: var(--sklearn-color-text);\n",
       "  /* unfitted */\n",
       "  background-color: var(--sklearn-color-unfitted-level-0);\n",
       "}\n",
       "\n",
       "#sk-container-id-2 div.sk-toggleable__content.fitted pre {\n",
       "  /* unfitted */\n",
       "  background-color: var(--sklearn-color-fitted-level-0);\n",
       "}\n",
       "\n",
       "#sk-container-id-2 input.sk-toggleable__control:checked~div.sk-toggleable__content {\n",
       "  /* Expand drop-down */\n",
       "  max-height: 200px;\n",
       "  max-width: 100%;\n",
       "  overflow: auto;\n",
       "}\n",
       "\n",
       "#sk-container-id-2 input.sk-toggleable__control:checked~label.sk-toggleable__label-arrow:before {\n",
       "  content: \"▾\";\n",
       "}\n",
       "\n",
       "/* Pipeline/ColumnTransformer-specific style */\n",
       "\n",
       "#sk-container-id-2 div.sk-label input.sk-toggleable__control:checked~label.sk-toggleable__label {\n",
       "  color: var(--sklearn-color-text);\n",
       "  background-color: var(--sklearn-color-unfitted-level-2);\n",
       "}\n",
       "\n",
       "#sk-container-id-2 div.sk-label.fitted input.sk-toggleable__control:checked~label.sk-toggleable__label {\n",
       "  background-color: var(--sklearn-color-fitted-level-2);\n",
       "}\n",
       "\n",
       "/* Estimator-specific style */\n",
       "\n",
       "/* Colorize estimator box */\n",
       "#sk-container-id-2 div.sk-estimator input.sk-toggleable__control:checked~label.sk-toggleable__label {\n",
       "  /* unfitted */\n",
       "  background-color: var(--sklearn-color-unfitted-level-2);\n",
       "}\n",
       "\n",
       "#sk-container-id-2 div.sk-estimator.fitted input.sk-toggleable__control:checked~label.sk-toggleable__label {\n",
       "  /* fitted */\n",
       "  background-color: var(--sklearn-color-fitted-level-2);\n",
       "}\n",
       "\n",
       "#sk-container-id-2 div.sk-label label.sk-toggleable__label,\n",
       "#sk-container-id-2 div.sk-label label {\n",
       "  /* The background is the default theme color */\n",
       "  color: var(--sklearn-color-text-on-default-background);\n",
       "}\n",
       "\n",
       "/* On hover, darken the color of the background */\n",
       "#sk-container-id-2 div.sk-label:hover label.sk-toggleable__label {\n",
       "  color: var(--sklearn-color-text);\n",
       "  background-color: var(--sklearn-color-unfitted-level-2);\n",
       "}\n",
       "\n",
       "/* Label box, darken color on hover, fitted */\n",
       "#sk-container-id-2 div.sk-label.fitted:hover label.sk-toggleable__label.fitted {\n",
       "  color: var(--sklearn-color-text);\n",
       "  background-color: var(--sklearn-color-fitted-level-2);\n",
       "}\n",
       "\n",
       "/* Estimator label */\n",
       "\n",
       "#sk-container-id-2 div.sk-label label {\n",
       "  font-family: monospace;\n",
       "  font-weight: bold;\n",
       "  display: inline-block;\n",
       "  line-height: 1.2em;\n",
       "}\n",
       "\n",
       "#sk-container-id-2 div.sk-label-container {\n",
       "  text-align: center;\n",
       "}\n",
       "\n",
       "/* Estimator-specific */\n",
       "#sk-container-id-2 div.sk-estimator {\n",
       "  font-family: monospace;\n",
       "  border: 1px dotted var(--sklearn-color-border-box);\n",
       "  border-radius: 0.25em;\n",
       "  box-sizing: border-box;\n",
       "  margin-bottom: 0.5em;\n",
       "  /* unfitted */\n",
       "  background-color: var(--sklearn-color-unfitted-level-0);\n",
       "}\n",
       "\n",
       "#sk-container-id-2 div.sk-estimator.fitted {\n",
       "  /* fitted */\n",
       "  background-color: var(--sklearn-color-fitted-level-0);\n",
       "}\n",
       "\n",
       "/* on hover */\n",
       "#sk-container-id-2 div.sk-estimator:hover {\n",
       "  /* unfitted */\n",
       "  background-color: var(--sklearn-color-unfitted-level-2);\n",
       "}\n",
       "\n",
       "#sk-container-id-2 div.sk-estimator.fitted:hover {\n",
       "  /* fitted */\n",
       "  background-color: var(--sklearn-color-fitted-level-2);\n",
       "}\n",
       "\n",
       "/* Specification for estimator info (e.g. \"i\" and \"?\") */\n",
       "\n",
       "/* Common style for \"i\" and \"?\" */\n",
       "\n",
       ".sk-estimator-doc-link,\n",
       "a:link.sk-estimator-doc-link,\n",
       "a:visited.sk-estimator-doc-link {\n",
       "  float: right;\n",
       "  font-size: smaller;\n",
       "  line-height: 1em;\n",
       "  font-family: monospace;\n",
       "  background-color: var(--sklearn-color-background);\n",
       "  border-radius: 1em;\n",
       "  height: 1em;\n",
       "  width: 1em;\n",
       "  text-decoration: none !important;\n",
       "  margin-left: 1ex;\n",
       "  /* unfitted */\n",
       "  border: var(--sklearn-color-unfitted-level-1) 1pt solid;\n",
       "  color: var(--sklearn-color-unfitted-level-1);\n",
       "}\n",
       "\n",
       ".sk-estimator-doc-link.fitted,\n",
       "a:link.sk-estimator-doc-link.fitted,\n",
       "a:visited.sk-estimator-doc-link.fitted {\n",
       "  /* fitted */\n",
       "  border: var(--sklearn-color-fitted-level-1) 1pt solid;\n",
       "  color: var(--sklearn-color-fitted-level-1);\n",
       "}\n",
       "\n",
       "/* On hover */\n",
       "div.sk-estimator:hover .sk-estimator-doc-link:hover,\n",
       ".sk-estimator-doc-link:hover,\n",
       "div.sk-label-container:hover .sk-estimator-doc-link:hover,\n",
       ".sk-estimator-doc-link:hover {\n",
       "  /* unfitted */\n",
       "  background-color: var(--sklearn-color-unfitted-level-3);\n",
       "  color: var(--sklearn-color-background);\n",
       "  text-decoration: none;\n",
       "}\n",
       "\n",
       "div.sk-estimator.fitted:hover .sk-estimator-doc-link.fitted:hover,\n",
       ".sk-estimator-doc-link.fitted:hover,\n",
       "div.sk-label-container:hover .sk-estimator-doc-link.fitted:hover,\n",
       ".sk-estimator-doc-link.fitted:hover {\n",
       "  /* fitted */\n",
       "  background-color: var(--sklearn-color-fitted-level-3);\n",
       "  color: var(--sklearn-color-background);\n",
       "  text-decoration: none;\n",
       "}\n",
       "\n",
       "/* Span, style for the box shown on hovering the info icon */\n",
       ".sk-estimator-doc-link span {\n",
       "  display: none;\n",
       "  z-index: 9999;\n",
       "  position: relative;\n",
       "  font-weight: normal;\n",
       "  right: .2ex;\n",
       "  padding: .5ex;\n",
       "  margin: .5ex;\n",
       "  width: min-content;\n",
       "  min-width: 20ex;\n",
       "  max-width: 50ex;\n",
       "  color: var(--sklearn-color-text);\n",
       "  box-shadow: 2pt 2pt 4pt #999;\n",
       "  /* unfitted */\n",
       "  background: var(--sklearn-color-unfitted-level-0);\n",
       "  border: .5pt solid var(--sklearn-color-unfitted-level-3);\n",
       "}\n",
       "\n",
       ".sk-estimator-doc-link.fitted span {\n",
       "  /* fitted */\n",
       "  background: var(--sklearn-color-fitted-level-0);\n",
       "  border: var(--sklearn-color-fitted-level-3);\n",
       "}\n",
       "\n",
       ".sk-estimator-doc-link:hover span {\n",
       "  display: block;\n",
       "}\n",
       "\n",
       "/* \"?\"-specific style due to the `<a>` HTML tag */\n",
       "\n",
       "#sk-container-id-2 a.estimator_doc_link {\n",
       "  float: right;\n",
       "  font-size: 1rem;\n",
       "  line-height: 1em;\n",
       "  font-family: monospace;\n",
       "  background-color: var(--sklearn-color-background);\n",
       "  border-radius: 1rem;\n",
       "  height: 1rem;\n",
       "  width: 1rem;\n",
       "  text-decoration: none;\n",
       "  /* unfitted */\n",
       "  color: var(--sklearn-color-unfitted-level-1);\n",
       "  border: var(--sklearn-color-unfitted-level-1) 1pt solid;\n",
       "}\n",
       "\n",
       "#sk-container-id-2 a.estimator_doc_link.fitted {\n",
       "  /* fitted */\n",
       "  border: var(--sklearn-color-fitted-level-1) 1pt solid;\n",
       "  color: var(--sklearn-color-fitted-level-1);\n",
       "}\n",
       "\n",
       "/* On hover */\n",
       "#sk-container-id-2 a.estimator_doc_link:hover {\n",
       "  /* unfitted */\n",
       "  background-color: var(--sklearn-color-unfitted-level-3);\n",
       "  color: var(--sklearn-color-background);\n",
       "  text-decoration: none;\n",
       "}\n",
       "\n",
       "#sk-container-id-2 a.estimator_doc_link.fitted:hover {\n",
       "  /* fitted */\n",
       "  background-color: var(--sklearn-color-fitted-level-3);\n",
       "}\n",
       "</style><div id=\"sk-container-id-2\" class=\"sk-top-container\"><div class=\"sk-text-repr-fallback\"><pre>LinearRegression()</pre><b>In a Jupyter environment, please rerun this cell to show the HTML representation or trust the notebook. <br />On GitHub, the HTML representation is unable to render, please try loading this page with nbviewer.org.</b></div><div class=\"sk-container\" hidden><div class=\"sk-item\"><div class=\"sk-estimator fitted sk-toggleable\"><input class=\"sk-toggleable__control sk-hidden--visually\" id=\"sk-estimator-id-2\" type=\"checkbox\" checked><label for=\"sk-estimator-id-2\" class=\"sk-toggleable__label fitted sk-toggleable__label-arrow fitted\">&nbsp;&nbsp;LinearRegression<a class=\"sk-estimator-doc-link fitted\" rel=\"noreferrer\" target=\"_blank\" href=\"https://scikit-learn.org/1.5/modules/generated/sklearn.linear_model.LinearRegression.html\">?<span>Documentation for LinearRegression</span></a><span class=\"sk-estimator-doc-link fitted\">i<span>Fitted</span></span></label><div class=\"sk-toggleable__content fitted\"><pre>LinearRegression()</pre></div> </div></div></div></div>"
      ]
     },
     "execution_count": 30,
     "metadata": {},
     "output_type": "execute_result"
    }
   ],
   "execution_count": 30
  },
  {
   "cell_type": "markdown",
   "id": "44b7f46f",
   "metadata": {
    "id": "44b7f46f"
   },
   "source": [
    "Testiamo il modello. L'indice di capacità del modello è il coefficiente di determinazione R^2 della previsione, che indica la percentuale di variabilità nella variable dipendente spiegata dal modello.\n",
    "\n",
    "Il valore di R^2 è compreso fra un minimo di 0 e un massimo di 1"
   ]
  },
  {
   "cell_type": "code",
   "id": "58ca677d",
   "metadata": {
    "id": "58ca677d",
    "outputId": "c39710ae-b600-4b49-a280-75e139b467be",
    "ExecuteTime": {
     "end_time": "2024-06-04T16:30:01.928300Z",
     "start_time": "2024-06-04T16:30:01.916333Z"
    }
   },
   "source": [
    "lr_confindence = lr.score(x_test, y_test)\n",
    "print('lr_confindence: ', lr_confindence)"
   ],
   "outputs": [
    {
     "name": "stdout",
     "output_type": "stream",
     "text": [
      "lr_confindence:  0.9843891051223528\n"
     ]
    }
   ],
   "execution_count": 31
  },
  {
   "cell_type": "markdown",
   "id": "3686cfda",
   "metadata": {
    "id": "3686cfda"
   },
   "source": [
    "Creiamo la previsione degli ultimi 10 valori"
   ]
  },
  {
   "cell_type": "code",
   "id": "c8628404",
   "metadata": {
    "id": "c8628404",
    "outputId": "e2486b32-4a8e-4265-f522-60fe1c4409db",
    "ExecuteTime": {
     "end_time": "2024-06-04T16:30:01.960215Z",
     "start_time": "2024-06-04T16:30:01.930295Z"
    }
   },
   "source": [
    "x_forecast = np.array(df['Adj Close'])[-forecast_out:].reshape(-1,1)\n",
    "print(x_forecast)"
   ],
   "outputs": [
    {
     "name": "stdout",
     "output_type": "stream",
     "text": [
      "[[183.63000488]\n",
      " [184.69999695]\n",
      " [183.53999329]\n",
      " [183.1499939 ]\n",
      " [183.13000488]\n",
      " [181.05000305]\n",
      " [180.75      ]\n",
      " [182.1499939 ]\n",
      " [182.02000427]\n",
      " [179.32000732]]\n"
     ]
    }
   ],
   "execution_count": 32
  },
  {
   "cell_type": "markdown",
   "id": "ebc5cc73",
   "metadata": {
    "id": "ebc5cc73"
   },
   "source": [
    "Previsione dei prossimi n valori con il modello di regressione lineare"
   ]
  },
  {
   "cell_type": "code",
   "id": "a514fb84",
   "metadata": {
    "id": "a514fb84",
    "outputId": "11f50fbd-4f3e-4789-bbbf-23611d051b87",
    "ExecuteTime": {
     "end_time": "2024-06-04T16:30:01.975176Z",
     "start_time": "2024-06-04T16:30:01.964205Z"
    }
   },
   "source": [
    "lr_prediction = lr.predict(x_forecast)\n",
    "print(lr_prediction)"
   ],
   "outputs": [
    {
     "name": "stdout",
     "output_type": "stream",
     "text": [
      "[184.16521364 185.23293204 184.07539331 183.68622265 183.66627611\n",
      " 181.59069416 181.29132859 182.68834759 182.55863418 179.86437456]\n"
     ]
    }
   ],
   "execution_count": 33
  },
  {
   "cell_type": "markdown",
   "id": "cbfa7fb5",
   "metadata": {
    "id": "cbfa7fb5"
   },
   "source": [
    "Previsione dei prossimi n valori con il modello support vector machine"
   ]
  },
  {
   "cell_type": "code",
   "id": "5b9d4d7b",
   "metadata": {
    "id": "5b9d4d7b",
    "outputId": "1b294e95-4f5f-405f-ee11-246d210405ce",
    "ExecuteTime": {
     "end_time": "2024-06-04T16:30:02.006601Z",
     "start_time": "2024-06-04T16:30:01.979165Z"
    }
   },
   "source": [
    "svm_prediction = svr_rbf.predict(x_forecast)\n",
    "print(svm_prediction)"
   ],
   "outputs": [
    {
     "name": "stdout",
     "output_type": "stream",
     "text": [
      "[178.23190538 179.20562269 178.02468996 177.08899654 177.04458831\n",
      " 183.11175922 184.6387827  177.05149109 177.50658738 181.2551149 ]\n"
     ]
    }
   ],
   "execution_count": 34
  },
  {
   "cell_type": "markdown",
   "id": "cc49b1cc",
   "metadata": {
    "id": "cc49b1cc"
   },
   "source": [
    "Qual è la previsione migliore?"
   ]
  },
  {
   "cell_type": "code",
   "id": "3f8dc907",
   "metadata": {
    "id": "3f8dc907",
    "ExecuteTime": {
     "end_time": "2024-06-04T16:30:02.022558Z",
     "start_time": "2024-06-04T16:30:02.008596Z"
    }
   },
   "source": [
    "from sklearn.metrics import mean_squared_error\n",
    "from math import sqrt"
   ],
   "outputs": [],
   "execution_count": 35
  },
  {
   "cell_type": "code",
   "id": "a7141928",
   "metadata": {
    "id": "a7141928",
    "outputId": "b1aee5da-38ac-408d-a855-2bd982b95b8a",
    "ExecuteTime": {
     "end_time": "2024-06-04T16:30:02.038516Z",
     "start_time": "2024-06-04T16:30:02.024553Z"
    }
   },
   "source": [
    "lr_rmse = sqrt(mean_squared_error(x_forecast, lr_prediction))\n",
    "print(lr_rmse)"
   ],
   "outputs": [
    {
     "name": "stdout",
     "output_type": "stream",
     "text": [
      "0.5379512618329474\n"
     ]
    }
   ],
   "execution_count": 36
  },
  {
   "cell_type": "code",
   "id": "3300aecf",
   "metadata": {
    "id": "3300aecf",
    "outputId": "cd07e01e-040a-4598-e5c4-c817596d2323",
    "ExecuteTime": {
     "end_time": "2024-06-04T16:30:02.054474Z",
     "start_time": "2024-06-04T16:30:02.039513Z"
    }
   },
   "source": [
    "svm_rmse = sqrt(mean_squared_error(x_forecast, svm_prediction))\n",
    "print(svm_rmse)"
   ],
   "outputs": [
    {
     "name": "stdout",
     "output_type": "stream",
     "text": [
      "4.826986172358702\n"
     ]
    }
   ],
   "execution_count": 37
  },
  {
   "cell_type": "code",
   "id": "acd2ca67",
   "metadata": {
    "id": "acd2ca67",
    "outputId": "04f1c218-3461-4ac2-f893-67718ce74989",
    "ExecuteTime": {
     "end_time": "2024-06-04T16:30:02.290352Z",
     "start_time": "2024-06-04T16:30:02.056468Z"
    }
   },
   "source": [
    "plt.plot(x_forecast, label = 'Effettivo')\n",
    "plt.plot(lr_prediction, label = 'Prev. LR')\n",
    "plt.plot(svm_prediction, label = 'Prev. SVR')\n",
    "plt.grid(True)\n",
    "plt.legend();\n"
   ],
   "outputs": [
    {
     "data": {
      "text/plain": [
       "<Figure size 640x480 with 1 Axes>"
      ],
      "image/png": "[encoded data removed]"
     },
     "metadata": {},
     "output_type": "display_data"
    }
   ],
   "execution_count": 38
  },
  {
   "cell_type": "markdown",
   "id": "fabe8bb3",
   "metadata": {
    "id": "fabe8bb3"
   },
   "source": [
    "#### Previsione del prezzo di Ethereum con SVR\n",
    "https://www.youtube.com/watch?v=HiDEAWdAif0&ab_channel=ComputerScience"
   ]
  },
  {
   "cell_type": "code",
   "id": "50bafd2f",
   "metadata": {
    "id": "50bafd2f",
    "ExecuteTime": {
     "end_time": "2024-06-04T16:30:02.306310Z",
     "start_time": "2024-06-04T16:30:02.291350Z"
    }
   },
   "source": [
    "from datetime import date, datetime\n",
    "plt.style.use('fivethirtyeight')\n",
    "#import pandas_datareader.data as web\n",
    "import yfinance as yf\n",
    "import pandas as pd\n"
   ],
   "outputs": [],
   "execution_count": 39
  },
  {
   "cell_type": "code",
   "id": "810665c6",
   "metadata": {
    "id": "810665c6",
    "ExecuteTime": {
     "end_time": "2024-06-04T16:30:02.322268Z",
     "start_time": "2024-06-04T16:30:02.307307Z"
    }
   },
   "source": [
    "start_date = '2019-05-31'\n",
    "end_date = '2024-05-31'\n",
    "#end_date = datetime.today()"
   ],
   "outputs": [],
   "execution_count": 40
  },
  {
   "cell_type": "code",
   "id": "21bda080",
   "metadata": {
    "id": "21bda080",
    "ExecuteTime": {
     "end_time": "2024-06-04T16:30:02.618555Z",
     "start_time": "2024-06-04T16:30:02.323265Z"
    }
   },
   "source": [
    "df = yf.download('ETH-USD', start_date, end_date) "
   ],
   "outputs": [
    {
     "name": "stderr",
     "output_type": "stream",
     "text": [
      "[*********************100%%**********************]  1 of 1 completed\n"
     ]
    }
   ],
   "execution_count": 41
  },
  {
   "cell_type": "code",
   "id": "960a70ce",
   "metadata": {
    "id": "960a70ce",
    "outputId": "d455a937-72ab-458d-a0e9-2c5edd87f09d",
    "ExecuteTime": {
     "end_time": "2024-06-04T16:30:02.634513Z",
     "start_time": "2024-06-04T16:30:02.619524Z"
    }
   },
   "source": [
    "df.head()"
   ],
   "outputs": [
    {
     "data": {
      "text/plain": [
       "                  Open        High         Low       Close   Adj Close  \\\n",
       "Date                                                                     \n",
       "2019-05-31  256.015259  268.659943  249.111847  268.113556  268.113556   \n",
       "2019-06-01  268.433350  273.557983  263.524597  265.391266  265.391266   \n",
       "2019-06-02  265.512726  272.807220  265.041870  270.225525  270.225525   \n",
       "2019-06-03  270.088562  270.334106  251.262192  252.607925  252.607925   \n",
       "2019-06-04  252.511642  252.511642  236.127213  241.338791  241.338791   \n",
       "\n",
       "                 Volume  \n",
       "Date                     \n",
       "2019-05-31  11255023515  \n",
       "2019-06-01   9942869852  \n",
       "2019-06-02   8744111713  \n",
       "2019-06-03   9375712917  \n",
       "2019-06-04  10132549747  "
      ],
      "text/html": [
       "<div>\n",
       "<style scoped>\n",
       "    .dataframe tbody tr th:only-of-type {\n",
       "        vertical-align: middle;\n",
       "    }\n",
       "\n",
       "    .dataframe tbody tr th {\n",
       "        vertical-align: top;\n",
       "    }\n",
       "\n",
       "    .dataframe thead th {\n",
       "        text-align: right;\n",
       "    }\n",
       "</style>\n",
       "<table border=\"1\" class=\"dataframe\">\n",
       "  <thead>\n",
       "    <tr style=\"text-align: right;\">\n",
       "      <th></th>\n",
       "      <th>Open</th>\n",
       "      <th>High</th>\n",
       "      <th>Low</th>\n",
       "      <th>Close</th>\n",
       "      <th>Adj Close</th>\n",
       "      <th>Volume</th>\n",
       "    </tr>\n",
       "    <tr>\n",
       "      <th>Date</th>\n",
       "      <th></th>\n",
       "      <th></th>\n",
       "      <th></th>\n",
       "      <th></th>\n",
       "      <th></th>\n",
       "      <th></th>\n",
       "    </tr>\n",
       "  </thead>\n",
       "  <tbody>\n",
       "    <tr>\n",
       "      <th>2019-05-31</th>\n",
       "      <td>256.015259</td>\n",
       "      <td>268.659943</td>\n",
       "      <td>249.111847</td>\n",
       "      <td>268.113556</td>\n",
       "      <td>268.113556</td>\n",
       "      <td>11255023515</td>\n",
       "    </tr>\n",
       "    <tr>\n",
       "      <th>2019-06-01</th>\n",
       "      <td>268.433350</td>\n",
       "      <td>273.557983</td>\n",
       "      <td>263.524597</td>\n",
       "      <td>265.391266</td>\n",
       "      <td>265.391266</td>\n",
       "      <td>9942869852</td>\n",
       "    </tr>\n",
       "    <tr>\n",
       "      <th>2019-06-02</th>\n",
       "      <td>265.512726</td>\n",
       "      <td>272.807220</td>\n",
       "      <td>265.041870</td>\n",
       "      <td>270.225525</td>\n",
       "      <td>270.225525</td>\n",
       "      <td>8744111713</td>\n",
       "    </tr>\n",
       "    <tr>\n",
       "      <th>2019-06-03</th>\n",
       "      <td>270.088562</td>\n",
       "      <td>270.334106</td>\n",
       "      <td>251.262192</td>\n",
       "      <td>252.607925</td>\n",
       "      <td>252.607925</td>\n",
       "      <td>9375712917</td>\n",
       "    </tr>\n",
       "    <tr>\n",
       "      <th>2019-06-04</th>\n",
       "      <td>252.511642</td>\n",
       "      <td>252.511642</td>\n",
       "      <td>236.127213</td>\n",
       "      <td>241.338791</td>\n",
       "      <td>241.338791</td>\n",
       "      <td>10132549747</td>\n",
       "    </tr>\n",
       "  </tbody>\n",
       "</table>\n",
       "</div>"
      ]
     },
     "execution_count": 42,
     "metadata": {},
     "output_type": "execute_result"
    }
   ],
   "execution_count": 42
  },
  {
   "cell_type": "code",
   "id": "a4ed933c",
   "metadata": {
    "id": "a4ed933c",
    "ExecuteTime": {
     "end_time": "2024-06-04T16:30:02.650562Z",
     "start_time": "2024-06-04T16:30:02.635483Z"
    }
   },
   "source": [
    "future_days = 5"
   ],
   "outputs": [],
   "execution_count": 43
  },
  {
   "cell_type": "code",
   "id": "8983a471",
   "metadata": {
    "id": "8983a471",
    "ExecuteTime": {
     "end_time": "2024-06-04T16:30:02.666399Z",
     "start_time": "2024-06-04T16:30:02.651440Z"
    }
   },
   "source": [
    "# Creiamo una  nuova colonna con i prezzi futuri"
   ],
   "outputs": [],
   "execution_count": 44
  },
  {
   "cell_type": "code",
   "id": "af979e5c",
   "metadata": {
    "id": "af979e5c",
    "ExecuteTime": {
     "end_time": "2024-06-04T16:30:02.681360Z",
     "start_time": "2024-06-04T16:30:02.667396Z"
    }
   },
   "source": [
    "df[str(future_days) + '_Day_Price_Forecast'] = df[['Close']].shift(-future_days)"
   ],
   "outputs": [],
   "execution_count": 45
  },
  {
   "cell_type": "code",
   "id": "1b705357",
   "metadata": {
    "ExecuteTime": {
     "end_time": "2024-06-04T16:30:02.696347Z",
     "start_time": "2024-06-04T16:30:02.682358Z"
    }
   },
   "source": [
    "df.head(10)"
   ],
   "outputs": [
    {
     "data": {
      "text/plain": [
       "                  Open        High         Low       Close   Adj Close  \\\n",
       "Date                                                                     \n",
       "2019-05-31  256.015259  268.659943  249.111847  268.113556  268.113556   \n",
       "2019-06-01  268.433350  273.557983  263.524597  265.391266  265.391266   \n",
       "2019-06-02  265.512726  272.807220  265.041870  270.225525  270.225525   \n",
       "2019-06-03  270.088562  270.334106  251.262192  252.607925  252.607925   \n",
       "2019-06-04  252.511642  252.511642  236.127213  241.338791  241.338791   \n",
       "2019-06-05  241.497040  248.138138  239.983459  247.051010  247.051010   \n",
       "2019-06-06  246.925247  249.944504  238.501114  249.474335  249.474335   \n",
       "2019-06-07  249.335281  254.352295  246.597900  250.930359  250.930359   \n",
       "2019-06-08  251.249313  252.377396  243.229111  245.738098  245.738098   \n",
       "2019-06-09  245.540482  245.972824  229.257431  233.086700  233.086700   \n",
       "\n",
       "                 Volume  5_Day_Price_Forecast  \n",
       "Date                                           \n",
       "2019-05-31  11255023515            247.051010  \n",
       "2019-06-01   9942869852            249.474335  \n",
       "2019-06-02   8744111713            250.930359  \n",
       "2019-06-03   9375712917            245.738098  \n",
       "2019-06-04  10132549747            233.086700  \n",
       "2019-06-05   8548917062            247.520126  \n",
       "2019-06-06   8265146806            245.781830  \n",
       "2019-06-07   8379534528            260.903290  \n",
       "2019-06-08   7225996863            256.168793  \n",
       "2019-06-09   7566421456            264.087463  "
      ],
      "text/html": [
       "<div>\n",
       "<style scoped>\n",
       "    .dataframe tbody tr th:only-of-type {\n",
       "        vertical-align: middle;\n",
       "    }\n",
       "\n",
       "    .dataframe tbody tr th {\n",
       "        vertical-align: top;\n",
       "    }\n",
       "\n",
       "    .dataframe thead th {\n",
       "        text-align: right;\n",
       "    }\n",
       "</style>\n",
       "<table border=\"1\" class=\"dataframe\">\n",
       "  <thead>\n",
       "    <tr style=\"text-align: right;\">\n",
       "      <th></th>\n",
       "      <th>Open</th>\n",
       "      <th>High</th>\n",
       "      <th>Low</th>\n",
       "      <th>Close</th>\n",
       "      <th>Adj Close</th>\n",
       "      <th>Volume</th>\n",
       "      <th>5_Day_Price_Forecast</th>\n",
       "    </tr>\n",
       "    <tr>\n",
       "      <th>Date</th>\n",
       "      <th></th>\n",
       "      <th></th>\n",
       "      <th></th>\n",
       "      <th></th>\n",
       "      <th></th>\n",
       "      <th></th>\n",
       "      <th></th>\n",
       "    </tr>\n",
       "  </thead>\n",
       "  <tbody>\n",
       "    <tr>\n",
       "      <th>2019-05-31</th>\n",
       "      <td>256.015259</td>\n",
       "      <td>268.659943</td>\n",
       "      <td>249.111847</td>\n",
       "      <td>268.113556</td>\n",
       "      <td>268.113556</td>\n",
       "      <td>11255023515</td>\n",
       "      <td>247.051010</td>\n",
       "    </tr>\n",
       "    <tr>\n",
       "      <th>2019-06-01</th>\n",
       "      <td>268.433350</td>\n",
       "      <td>273.557983</td>\n",
       "      <td>263.524597</td>\n",
       "      <td>265.391266</td>\n",
       "      <td>265.391266</td>\n",
       "      <td>9942869852</td>\n",
       "      <td>249.474335</td>\n",
       "    </tr>\n",
       "    <tr>\n",
       "      <th>2019-06-02</th>\n",
       "      <td>265.512726</td>\n",
       "      <td>272.807220</td>\n",
       "      <td>265.041870</td>\n",
       "      <td>270.225525</td>\n",
       "      <td>270.225525</td>\n",
       "      <td>8744111713</td>\n",
       "      <td>250.930359</td>\n",
       "    </tr>\n",
       "    <tr>\n",
       "      <th>2019-06-03</th>\n",
       "      <td>270.088562</td>\n",
       "      <td>270.334106</td>\n",
       "      <td>251.262192</td>\n",
       "      <td>252.607925</td>\n",
       "      <td>252.607925</td>\n",
       "      <td>9375712917</td>\n",
       "      <td>245.738098</td>\n",
       "    </tr>\n",
       "    <tr>\n",
       "      <th>2019-06-04</th>\n",
       "      <td>252.511642</td>\n",
       "      <td>252.511642</td>\n",
       "      <td>236.127213</td>\n",
       "      <td>241.338791</td>\n",
       "      <td>241.338791</td>\n",
       "      <td>10132549747</td>\n",
       "      <td>233.086700</td>\n",
       "    </tr>\n",
       "    <tr>\n",
       "      <th>2019-06-05</th>\n",
       "      <td>241.497040</td>\n",
       "      <td>248.138138</td>\n",
       "      <td>239.983459</td>\n",
       "      <td>247.051010</td>\n",
       "      <td>247.051010</td>\n",
       "      <td>8548917062</td>\n",
       "      <td>247.520126</td>\n",
       "    </tr>\n",
       "    <tr>\n",
       "      <th>2019-06-06</th>\n",
       "      <td>246.925247</td>\n",
       "      <td>249.944504</td>\n",
       "      <td>238.501114</td>\n",
       "      <td>249.474335</td>\n",
       "      <td>249.474335</td>\n",
       "      <td>8265146806</td>\n",
       "      <td>245.781830</td>\n",
       "    </tr>\n",
       "    <tr>\n",
       "      <th>2019-06-07</th>\n",
       "      <td>249.335281</td>\n",
       "      <td>254.352295</td>\n",
       "      <td>246.597900</td>\n",
       "      <td>250.930359</td>\n",
       "      <td>250.930359</td>\n",
       "      <td>8379534528</td>\n",
       "      <td>260.903290</td>\n",
       "    </tr>\n",
       "    <tr>\n",
       "      <th>2019-06-08</th>\n",
       "      <td>251.249313</td>\n",
       "      <td>252.377396</td>\n",
       "      <td>243.229111</td>\n",
       "      <td>245.738098</td>\n",
       "      <td>245.738098</td>\n",
       "      <td>7225996863</td>\n",
       "      <td>256.168793</td>\n",
       "    </tr>\n",
       "    <tr>\n",
       "      <th>2019-06-09</th>\n",
       "      <td>245.540482</td>\n",
       "      <td>245.972824</td>\n",
       "      <td>229.257431</td>\n",
       "      <td>233.086700</td>\n",
       "      <td>233.086700</td>\n",
       "      <td>7566421456</td>\n",
       "      <td>264.087463</td>\n",
       "    </tr>\n",
       "  </tbody>\n",
       "</table>\n",
       "</div>"
      ]
     },
     "execution_count": 46,
     "metadata": {},
     "output_type": "execute_result"
    }
   ],
   "execution_count": 46
  },
  {
   "cell_type": "code",
   "id": "010d4748",
   "metadata": {
    "id": "010d4748",
    "outputId": "4a58811c-a663-4124-99e4-5eae2aa329c9",
    "ExecuteTime": {
     "end_time": "2024-06-04T16:30:02.712304Z",
     "start_time": "2024-06-04T16:30:02.698315Z"
    }
   },
   "source": [
    "df.tail(7)"
   ],
   "outputs": [
    {
     "data": {
      "text/plain": [
       "                   Open         High          Low        Close    Adj Close  \\\n",
       "Date                                                                          \n",
       "2024-05-24  3776.992432  3825.122559  3631.990234  3726.934570  3726.934570   \n",
       "2024-05-25  3726.975586  3776.006592  3710.528320  3749.236572  3749.236572   \n",
       "2024-05-26  3749.179932  3879.470703  3732.022949  3825.897461  3825.897461   \n",
       "2024-05-27  3826.127197  3973.556396  3821.930420  3892.006836  3892.006836   \n",
       "2024-05-28  3892.096924  3924.895752  3771.213867  3840.256348  3840.256348   \n",
       "2024-05-29  3840.235107  3880.648438  3742.041260  3763.196533  3763.196533   \n",
       "2024-05-30  3763.357666  3823.643311  3702.263672  3746.849609  3746.849609   \n",
       "\n",
       "                 Volume  5_Day_Price_Forecast  \n",
       "Date                                           \n",
       "2024-05-24  22257061429           3763.196533  \n",
       "2024-05-25  10000027764           3746.849609  \n",
       "2024-05-26  14650794791                   NaN  \n",
       "2024-05-27  18949181813                   NaN  \n",
       "2024-05-28  19846044324                   NaN  \n",
       "2024-05-29  17411416736                   NaN  \n",
       "2024-05-30  15065849797                   NaN  "
      ],
      "text/html": [
       "<div>\n",
       "<style scoped>\n",
       "    .dataframe tbody tr th:only-of-type {\n",
       "        vertical-align: middle;\n",
       "    }\n",
       "\n",
       "    .dataframe tbody tr th {\n",
       "        vertical-align: top;\n",
       "    }\n",
       "\n",
       "    .dataframe thead th {\n",
       "        text-align: right;\n",
       "    }\n",
       "</style>\n",
       "<table border=\"1\" class=\"dataframe\">\n",
       "  <thead>\n",
       "    <tr style=\"text-align: right;\">\n",
       "      <th></th>\n",
       "      <th>Open</th>\n",
       "      <th>High</th>\n",
       "      <th>Low</th>\n",
       "      <th>Close</th>\n",
       "      <th>Adj Close</th>\n",
       "      <th>Volume</th>\n",
       "      <th>5_Day_Price_Forecast</th>\n",
       "    </tr>\n",
       "    <tr>\n",
       "      <th>Date</th>\n",
       "      <th></th>\n",
       "      <th></th>\n",
       "      <th></th>\n",
       "      <th></th>\n",
       "      <th></th>\n",
       "      <th></th>\n",
       "      <th></th>\n",
       "    </tr>\n",
       "  </thead>\n",
       "  <tbody>\n",
       "    <tr>\n",
       "      <th>2024-05-24</th>\n",
       "      <td>3776.992432</td>\n",
       "      <td>3825.122559</td>\n",
       "      <td>3631.990234</td>\n",
       "      <td>3726.934570</td>\n",
       "      <td>3726.934570</td>\n",
       "      <td>22257061429</td>\n",
       "      <td>3763.196533</td>\n",
       "    </tr>\n",
       "    <tr>\n",
       "      <th>2024-05-25</th>\n",
       "      <td>3726.975586</td>\n",
       "      <td>3776.006592</td>\n",
       "      <td>3710.528320</td>\n",
       "      <td>3749.236572</td>\n",
       "      <td>3749.236572</td>\n",
       "      <td>10000027764</td>\n",
       "      <td>3746.849609</td>\n",
       "    </tr>\n",
       "    <tr>\n",
       "      <th>2024-05-26</th>\n",
       "      <td>3749.179932</td>\n",
       "      <td>3879.470703</td>\n",
       "      <td>3732.022949</td>\n",
       "      <td>3825.897461</td>\n",
       "      <td>3825.897461</td>\n",
       "      <td>14650794791</td>\n",
       "      <td>NaN</td>\n",
       "    </tr>\n",
       "    <tr>\n",
       "      <th>2024-05-27</th>\n",
       "      <td>3826.127197</td>\n",
       "      <td>3973.556396</td>\n",
       "      <td>3821.930420</td>\n",
       "      <td>3892.006836</td>\n",
       "      <td>3892.006836</td>\n",
       "      <td>18949181813</td>\n",
       "      <td>NaN</td>\n",
       "    </tr>\n",
       "    <tr>\n",
       "      <th>2024-05-28</th>\n",
       "      <td>3892.096924</td>\n",
       "      <td>3924.895752</td>\n",
       "      <td>3771.213867</td>\n",
       "      <td>3840.256348</td>\n",
       "      <td>3840.256348</td>\n",
       "      <td>19846044324</td>\n",
       "      <td>NaN</td>\n",
       "    </tr>\n",
       "    <tr>\n",
       "      <th>2024-05-29</th>\n",
       "      <td>3840.235107</td>\n",
       "      <td>3880.648438</td>\n",
       "      <td>3742.041260</td>\n",
       "      <td>3763.196533</td>\n",
       "      <td>3763.196533</td>\n",
       "      <td>17411416736</td>\n",
       "      <td>NaN</td>\n",
       "    </tr>\n",
       "    <tr>\n",
       "      <th>2024-05-30</th>\n",
       "      <td>3763.357666</td>\n",
       "      <td>3823.643311</td>\n",
       "      <td>3702.263672</td>\n",
       "      <td>3746.849609</td>\n",
       "      <td>3746.849609</td>\n",
       "      <td>15065849797</td>\n",
       "      <td>NaN</td>\n",
       "    </tr>\n",
       "  </tbody>\n",
       "</table>\n",
       "</div>"
      ]
     },
     "execution_count": 47,
     "metadata": {},
     "output_type": "execute_result"
    }
   ],
   "execution_count": 47
  },
  {
   "cell_type": "markdown",
   "id": "c37e65f0",
   "metadata": {
    "id": "c37e65f0"
   },
   "source": [
    "Creiamo il data set per la previsione"
   ]
  },
  {
   "cell_type": "code",
   "id": "1ec6ab4a",
   "metadata": {
    "id": "1ec6ab4a",
    "ExecuteTime": {
     "end_time": "2024-06-04T16:30:02.728005Z",
     "start_time": "2024-06-04T16:30:02.713274Z"
    }
   },
   "source": [
    "X = np.array(df[['Close']])\n",
    "X = X[:df.shape[0] - future_days]"
   ],
   "outputs": [],
   "execution_count": 48
  },
  {
   "cell_type": "code",
   "id": "8e3ece53",
   "metadata": {
    "id": "8e3ece53",
    "outputId": "462db5e4-3f31-4050-a4e3-00b1c92d2429",
    "ExecuteTime": {
     "end_time": "2024-06-04T16:30:02.743962Z",
     "start_time": "2024-06-04T16:30:02.729002Z"
    }
   },
   "source": [
    "df.shape"
   ],
   "outputs": [
    {
     "data": {
      "text/plain": [
       "(1827, 7)"
      ]
     },
     "execution_count": 49,
     "metadata": {},
     "output_type": "execute_result"
    }
   ],
   "execution_count": 49
  },
  {
   "cell_type": "code",
   "id": "efb2e5a3",
   "metadata": {
    "id": "efb2e5a3",
    "outputId": "cb289791-b883-4cdb-ab88-3a7045b1fa17",
    "ExecuteTime": {
     "end_time": "2024-06-04T16:30:02.759076Z",
     "start_time": "2024-06-04T16:30:02.745959Z"
    }
   },
   "source": [
    "df.shape[0]"
   ],
   "outputs": [
    {
     "data": {
      "text/plain": [
       "1827"
      ]
     },
     "execution_count": 50,
     "metadata": {},
     "output_type": "execute_result"
    }
   ],
   "execution_count": 50
  },
  {
   "cell_type": "code",
   "id": "9c7a4297",
   "metadata": {
    "ExecuteTime": {
     "end_time": "2024-06-04T16:30:02.774879Z",
     "start_time": "2024-06-04T16:30:02.759947Z"
    }
   },
   "source": [
    "len(X)"
   ],
   "outputs": [
    {
     "data": {
      "text/plain": [
       "1822"
      ]
     },
     "execution_count": 51,
     "metadata": {},
     "output_type": "execute_result"
    }
   ],
   "execution_count": 51
  },
  {
   "cell_type": "code",
   "id": "07bc3854",
   "metadata": {
    "id": "07bc3854",
    "ExecuteTime": {
     "end_time": "2024-06-04T16:30:02.790837Z",
     "start_time": "2024-06-04T16:30:02.775877Z"
    }
   },
   "source": [
    "y = np.array(df[str(future_days) + '_Day_Price_Forecast'])"
   ],
   "outputs": [],
   "execution_count": 52
  },
  {
   "cell_type": "code",
   "id": "0713d47c",
   "metadata": {
    "id": "0713d47c",
    "outputId": "3612be8e-c0f5-42fe-c5db-12768718a190",
    "scrolled": true,
    "ExecuteTime": {
     "end_time": "2024-06-04T16:30:02.806794Z",
     "start_time": "2024-06-04T16:30:02.791834Z"
    }
   },
   "source": [
    "y = y[:-future_days]\n",
    "print(y)"
   ],
   "outputs": [
    {
     "name": "stdout",
     "output_type": "stream",
     "text": [
      "[ 247.05101013  249.47433472  250.93035889 ... 3840.25634766 3763.1965332\n",
      " 3746.84960938]\n"
     ]
    }
   ],
   "execution_count": 53
  },
  {
   "cell_type": "markdown",
   "id": "c40b3de3",
   "metadata": {
    "id": "c40b3de3"
   },
   "source": [
    "Creiamo il data set di addestramento e test"
   ]
  },
  {
   "cell_type": "code",
   "id": "2d41df04",
   "metadata": {
    "id": "2d41df04",
    "ExecuteTime": {
     "end_time": "2024-06-04T16:30:02.822751Z",
     "start_time": "2024-06-04T16:30:02.808789Z"
    }
   },
   "source": [
    "x_train, x_test, y_train, y_test = train_test_split(X, y, test_size = 0.2)"
   ],
   "outputs": [],
   "execution_count": 54
  },
  {
   "cell_type": "code",
   "id": "3c9fc27e",
   "metadata": {
    "id": "3c9fc27e",
    "outputId": "5a16988c-1c72-4e20-f0a5-b73c009657ba",
    "ExecuteTime": {
     "end_time": "2024-06-04T16:30:02.947418Z",
     "start_time": "2024-06-04T16:30:02.823749Z"
    }
   },
   "source": [
    "svr_rbf = SVR(kernel='rbf', C = 1e3, gamma = 0.00001)\n",
    "svr_rbf.fit(x_train,y_train)"
   ],
   "outputs": [
    {
     "data": {
      "text/plain": [
       "SVR(C=1000.0, gamma=1e-05)"
      ],
      "text/html": [
       "<style>#sk-container-id-3 {\n",
       "  /* Definition of color scheme common for light and dark mode */\n",
       "  --sklearn-color-text: black;\n",
       "  --sklearn-color-line: gray;\n",
       "  /* Definition of color scheme for unfitted estimators */\n",
       "  --sklearn-color-unfitted-level-0: #fff5e6;\n",
       "  --sklearn-color-unfitted-level-1: #f6e4d2;\n",
       "  --sklearn-color-unfitted-level-2: #ffe0b3;\n",
       "  --sklearn-color-unfitted-level-3: chocolate;\n",
       "  /* Definition of color scheme for fitted estimators */\n",
       "  --sklearn-color-fitted-level-0: #f0f8ff;\n",
       "  --sklearn-color-fitted-level-1: #d4ebff;\n",
       "  --sklearn-color-fitted-level-2: #b3dbfd;\n",
       "  --sklearn-color-fitted-level-3: cornflowerblue;\n",
       "\n",
       "  /* Specific color for light theme */\n",
       "  --sklearn-color-text-on-default-background: var(--sg-text-color, var(--theme-code-foreground, var(--jp-content-font-color1, black)));\n",
       "  --sklearn-color-background: var(--sg-background-color, var(--theme-background, var(--jp-layout-color0, white)));\n",
       "  --sklearn-color-border-box: var(--sg-text-color, var(--theme-code-foreground, var(--jp-content-font-color1, black)));\n",
       "  --sklearn-color-icon: #696969;\n",
       "\n",
       "  @media (prefers-color-scheme: dark) {\n",
       "    /* Redefinition of color scheme for dark theme */\n",
       "    --sklearn-color-text-on-default-background: var(--sg-text-color, var(--theme-code-foreground, var(--jp-content-font-color1, white)));\n",
       "    --sklearn-color-background: var(--sg-background-color, var(--theme-background, var(--jp-layout-color0, #111)));\n",
       "    --sklearn-color-border-box: var(--sg-text-color, var(--theme-code-foreground, var(--jp-content-font-color1, white)));\n",
       "    --sklearn-color-icon: #878787;\n",
       "  }\n",
       "}\n",
       "\n",
       "#sk-container-id-3 {\n",
       "  color: var(--sklearn-color-text);\n",
       "}\n",
       "\n",
       "#sk-container-id-3 pre {\n",
       "  padding: 0;\n",
       "}\n",
       "\n",
       "#sk-container-id-3 input.sk-hidden--visually {\n",
       "  border: 0;\n",
       "  clip: rect(1px 1px 1px 1px);\n",
       "  clip: rect(1px, 1px, 1px, 1px);\n",
       "  height: 1px;\n",
       "  margin: -1px;\n",
       "  overflow: hidden;\n",
       "  padding: 0;\n",
       "  position: absolute;\n",
       "  width: 1px;\n",
       "}\n",
       "\n",
       "#sk-container-id-3 div.sk-dashed-wrapped {\n",
       "  border: 1px dashed var(--sklearn-color-line);\n",
       "  margin: 0 0.4em 0.5em 0.4em;\n",
       "  box-sizing: border-box;\n",
       "  padding-bottom: 0.4em;\n",
       "  background-color: var(--sklearn-color-background);\n",
       "}\n",
       "\n",
       "#sk-container-id-3 div.sk-container {\n",
       "  /* jupyter's `normalize.less` sets `[hidden] { display: none; }`\n",
       "     but bootstrap.min.css set `[hidden] { display: none !important; }`\n",
       "     so we also need the `!important` here to be able to override the\n",
       "     default hidden behavior on the sphinx rendered scikit-learn.org.\n",
       "     See: https://github.com/scikit-learn/scikit-learn/issues/21755 */\n",
       "  display: inline-block !important;\n",
       "  position: relative;\n",
       "}\n",
       "\n",
       "#sk-container-id-3 div.sk-text-repr-fallback {\n",
       "  display: none;\n",
       "}\n",
       "\n",
       "div.sk-parallel-item,\n",
       "div.sk-serial,\n",
       "div.sk-item {\n",
       "  /* draw centered vertical line to link estimators */\n",
       "  background-image: linear-gradient(var(--sklearn-color-text-on-default-background), var(--sklearn-color-text-on-default-background));\n",
       "  background-size: 2px 100%;\n",
       "  background-repeat: no-repeat;\n",
       "  background-position: center center;\n",
       "}\n",
       "\n",
       "/* Parallel-specific style estimator block */\n",
       "\n",
       "#sk-container-id-3 div.sk-parallel-item::after {\n",
       "  content: \"\";\n",
       "  width: 100%;\n",
       "  border-bottom: 2px solid var(--sklearn-color-text-on-default-background);\n",
       "  flex-grow: 1;\n",
       "}\n",
       "\n",
       "#sk-container-id-3 div.sk-parallel {\n",
       "  display: flex;\n",
       "  align-items: stretch;\n",
       "  justify-content: center;\n",
       "  background-color: var(--sklearn-color-background);\n",
       "  position: relative;\n",
       "}\n",
       "\n",
       "#sk-container-id-3 div.sk-parallel-item {\n",
       "  display: flex;\n",
       "  flex-direction: column;\n",
       "}\n",
       "\n",
       "#sk-container-id-3 div.sk-parallel-item:first-child::after {\n",
       "  align-self: flex-end;\n",
       "  width: 50%;\n",
       "}\n",
       "\n",
       "#sk-container-id-3 div.sk-parallel-item:last-child::after {\n",
       "  align-self: flex-start;\n",
       "  width: 50%;\n",
       "}\n",
       "\n",
       "#sk-container-id-3 div.sk-parallel-item:only-child::after {\n",
       "  width: 0;\n",
       "}\n",
       "\n",
       "/* Serial-specific style estimator block */\n",
       "\n",
       "#sk-container-id-3 div.sk-serial {\n",
       "  display: flex;\n",
       "  flex-direction: column;\n",
       "  align-items: center;\n",
       "  background-color: var(--sklearn-color-background);\n",
       "  padding-right: 1em;\n",
       "  padding-left: 1em;\n",
       "}\n",
       "\n",
       "\n",
       "/* Toggleable style: style used for estimator/Pipeline/ColumnTransformer box that is\n",
       "clickable and can be expanded/collapsed.\n",
       "- Pipeline and ColumnTransformer use this feature and define the default style\n",
       "- Estimators will overwrite some part of the style using the `sk-estimator` class\n",
       "*/\n",
       "\n",
       "/* Pipeline and ColumnTransformer style (default) */\n",
       "\n",
       "#sk-container-id-3 div.sk-toggleable {\n",
       "  /* Default theme specific background. It is overwritten whether we have a\n",
       "  specific estimator or a Pipeline/ColumnTransformer */\n",
       "  background-color: var(--sklearn-color-background);\n",
       "}\n",
       "\n",
       "/* Toggleable label */\n",
       "#sk-container-id-3 label.sk-toggleable__label {\n",
       "  cursor: pointer;\n",
       "  display: block;\n",
       "  width: 100%;\n",
       "  margin-bottom: 0;\n",
       "  padding: 0.5em;\n",
       "  box-sizing: border-box;\n",
       "  text-align: center;\n",
       "}\n",
       "\n",
       "#sk-container-id-3 label.sk-toggleable__label-arrow:before {\n",
       "  /* Arrow on the left of the label */\n",
       "  content: \"▸\";\n",
       "  float: left;\n",
       "  margin-right: 0.25em;\n",
       "  color: var(--sklearn-color-icon);\n",
       "}\n",
       "\n",
       "#sk-container-id-3 label.sk-toggleable__label-arrow:hover:before {\n",
       "  color: var(--sklearn-color-text);\n",
       "}\n",
       "\n",
       "/* Toggleable content - dropdown */\n",
       "\n",
       "#sk-container-id-3 div.sk-toggleable__content {\n",
       "  max-height: 0;\n",
       "  max-width: 0;\n",
       "  overflow: hidden;\n",
       "  text-align: left;\n",
       "  /* unfitted */\n",
       "  background-color: var(--sklearn-color-unfitted-level-0);\n",
       "}\n",
       "\n",
       "#sk-container-id-3 div.sk-toggleable__content.fitted {\n",
       "  /* fitted */\n",
       "  background-color: var(--sklearn-color-fitted-level-0);\n",
       "}\n",
       "\n",
       "#sk-container-id-3 div.sk-toggleable__content pre {\n",
       "  margin: 0.2em;\n",
       "  border-radius: 0.25em;\n",
       "  color: var(--sklearn-color-text);\n",
       "  /* unfitted */\n",
       "  background-color: var(--sklearn-color-unfitted-level-0);\n",
       "}\n",
       "\n",
       "#sk-container-id-3 div.sk-toggleable__content.fitted pre {\n",
       "  /* unfitted */\n",
       "  background-color: var(--sklearn-color-fitted-level-0);\n",
       "}\n",
       "\n",
       "#sk-container-id-3 input.sk-toggleable__control:checked~div.sk-toggleable__content {\n",
       "  /* Expand drop-down */\n",
       "  max-height: 200px;\n",
       "  max-width: 100%;\n",
       "  overflow: auto;\n",
       "}\n",
       "\n",
       "#sk-container-id-3 input.sk-toggleable__control:checked~label.sk-toggleable__label-arrow:before {\n",
       "  content: \"▾\";\n",
       "}\n",
       "\n",
       "/* Pipeline/ColumnTransformer-specific style */\n",
       "\n",
       "#sk-container-id-3 div.sk-label input.sk-toggleable__control:checked~label.sk-toggleable__label {\n",
       "  color: var(--sklearn-color-text);\n",
       "  background-color: var(--sklearn-color-unfitted-level-2);\n",
       "}\n",
       "\n",
       "#sk-container-id-3 div.sk-label.fitted input.sk-toggleable__control:checked~label.sk-toggleable__label {\n",
       "  background-color: var(--sklearn-color-fitted-level-2);\n",
       "}\n",
       "\n",
       "/* Estimator-specific style */\n",
       "\n",
       "/* Colorize estimator box */\n",
       "#sk-container-id-3 div.sk-estimator input.sk-toggleable__control:checked~label.sk-toggleable__label {\n",
       "  /* unfitted */\n",
       "  background-color: var(--sklearn-color-unfitted-level-2);\n",
       "}\n",
       "\n",
       "#sk-container-id-3 div.sk-estimator.fitted input.sk-toggleable__control:checked~label.sk-toggleable__label {\n",
       "  /* fitted */\n",
       "  background-color: var(--sklearn-color-fitted-level-2);\n",
       "}\n",
       "\n",
       "#sk-container-id-3 div.sk-label label.sk-toggleable__label,\n",
       "#sk-container-id-3 div.sk-label label {\n",
       "  /* The background is the default theme color */\n",
       "  color: var(--sklearn-color-text-on-default-background);\n",
       "}\n",
       "\n",
       "/* On hover, darken the color of the background */\n",
       "#sk-container-id-3 div.sk-label:hover label.sk-toggleable__label {\n",
       "  color: var(--sklearn-color-text);\n",
       "  background-color: var(--sklearn-color-unfitted-level-2);\n",
       "}\n",
       "\n",
       "/* Label box, darken color on hover, fitted */\n",
       "#sk-container-id-3 div.sk-label.fitted:hover label.sk-toggleable__label.fitted {\n",
       "  color: var(--sklearn-color-text);\n",
       "  background-color: var(--sklearn-color-fitted-level-2);\n",
       "}\n",
       "\n",
       "/* Estimator label */\n",
       "\n",
       "#sk-container-id-3 div.sk-label label {\n",
       "  font-family: monospace;\n",
       "  font-weight: bold;\n",
       "  display: inline-block;\n",
       "  line-height: 1.2em;\n",
       "}\n",
       "\n",
       "#sk-container-id-3 div.sk-label-container {\n",
       "  text-align: center;\n",
       "}\n",
       "\n",
       "/* Estimator-specific */\n",
       "#sk-container-id-3 div.sk-estimator {\n",
       "  font-family: monospace;\n",
       "  border: 1px dotted var(--sklearn-color-border-box);\n",
       "  border-radius: 0.25em;\n",
       "  box-sizing: border-box;\n",
       "  margin-bottom: 0.5em;\n",
       "  /* unfitted */\n",
       "  background-color: var(--sklearn-color-unfitted-level-0);\n",
       "}\n",
       "\n",
       "#sk-container-id-3 div.sk-estimator.fitted {\n",
       "  /* fitted */\n",
       "  background-color: var(--sklearn-color-fitted-level-0);\n",
       "}\n",
       "\n",
       "/* on hover */\n",
       "#sk-container-id-3 div.sk-estimator:hover {\n",
       "  /* unfitted */\n",
       "  background-color: var(--sklearn-color-unfitted-level-2);\n",
       "}\n",
       "\n",
       "#sk-container-id-3 div.sk-estimator.fitted:hover {\n",
       "  /* fitted */\n",
       "  background-color: var(--sklearn-color-fitted-level-2);\n",
       "}\n",
       "\n",
       "/* Specification for estimator info (e.g. \"i\" and \"?\") */\n",
       "\n",
       "/* Common style for \"i\" and \"?\" */\n",
       "\n",
       ".sk-estimator-doc-link,\n",
       "a:link.sk-estimator-doc-link,\n",
       "a:visited.sk-estimator-doc-link {\n",
       "  float: right;\n",
       "  font-size: smaller;\n",
       "  line-height: 1em;\n",
       "  font-family: monospace;\n",
       "  background-color: var(--sklearn-color-background);\n",
       "  border-radius: 1em;\n",
       "  height: 1em;\n",
       "  width: 1em;\n",
       "  text-decoration: none !important;\n",
       "  margin-left: 1ex;\n",
       "  /* unfitted */\n",
       "  border: var(--sklearn-color-unfitted-level-1) 1pt solid;\n",
       "  color: var(--sklearn-color-unfitted-level-1);\n",
       "}\n",
       "\n",
       ".sk-estimator-doc-link.fitted,\n",
       "a:link.sk-estimator-doc-link.fitted,\n",
       "a:visited.sk-estimator-doc-link.fitted {\n",
       "  /* fitted */\n",
       "  border: var(--sklearn-color-fitted-level-1) 1pt solid;\n",
       "  color: var(--sklearn-color-fitted-level-1);\n",
       "}\n",
       "\n",
       "/* On hover */\n",
       "div.sk-estimator:hover .sk-estimator-doc-link:hover,\n",
       ".sk-estimator-doc-link:hover,\n",
       "div.sk-label-container:hover .sk-estimator-doc-link:hover,\n",
       ".sk-estimator-doc-link:hover {\n",
       "  /* unfitted */\n",
       "  background-color: var(--sklearn-color-unfitted-level-3);\n",
       "  color: var(--sklearn-color-background);\n",
       "  text-decoration: none;\n",
       "}\n",
       "\n",
       "div.sk-estimator.fitted:hover .sk-estimator-doc-link.fitted:hover,\n",
       ".sk-estimator-doc-link.fitted:hover,\n",
       "div.sk-label-container:hover .sk-estimator-doc-link.fitted:hover,\n",
       ".sk-estimator-doc-link.fitted:hover {\n",
       "  /* fitted */\n",
       "  background-color: var(--sklearn-color-fitted-level-3);\n",
       "  color: var(--sklearn-color-background);\n",
       "  text-decoration: none;\n",
       "}\n",
       "\n",
       "/* Span, style for the box shown on hovering the info icon */\n",
       ".sk-estimator-doc-link span {\n",
       "  display: none;\n",
       "  z-index: 9999;\n",
       "  position: relative;\n",
       "  font-weight: normal;\n",
       "  right: .2ex;\n",
       "  padding: .5ex;\n",
       "  margin: .5ex;\n",
       "  width: min-content;\n",
       "  min-width: 20ex;\n",
       "  max-width: 50ex;\n",
       "  color: var(--sklearn-color-text);\n",
       "  box-shadow: 2pt 2pt 4pt #999;\n",
       "  /* unfitted */\n",
       "  background: var(--sklearn-color-unfitted-level-0);\n",
       "  border: .5pt solid var(--sklearn-color-unfitted-level-3);\n",
       "}\n",
       "\n",
       ".sk-estimator-doc-link.fitted span {\n",
       "  /* fitted */\n",
       "  background: var(--sklearn-color-fitted-level-0);\n",
       "  border: var(--sklearn-color-fitted-level-3);\n",
       "}\n",
       "\n",
       ".sk-estimator-doc-link:hover span {\n",
       "  display: block;\n",
       "}\n",
       "\n",
       "/* \"?\"-specific style due to the `<a>` HTML tag */\n",
       "\n",
       "#sk-container-id-3 a.estimator_doc_link {\n",
       "  float: right;\n",
       "  font-size: 1rem;\n",
       "  line-height: 1em;\n",
       "  font-family: monospace;\n",
       "  background-color: var(--sklearn-color-background);\n",
       "  border-radius: 1rem;\n",
       "  height: 1rem;\n",
       "  width: 1rem;\n",
       "  text-decoration: none;\n",
       "  /* unfitted */\n",
       "  color: var(--sklearn-color-unfitted-level-1);\n",
       "  border: var(--sklearn-color-unfitted-level-1) 1pt solid;\n",
       "}\n",
       "\n",
       "#sk-container-id-3 a.estimator_doc_link.fitted {\n",
       "  /* fitted */\n",
       "  border: var(--sklearn-color-fitted-level-1) 1pt solid;\n",
       "  color: var(--sklearn-color-fitted-level-1);\n",
       "}\n",
       "\n",
       "/* On hover */\n",
       "#sk-container-id-3 a.estimator_doc_link:hover {\n",
       "  /* unfitted */\n",
       "  background-color: var(--sklearn-color-unfitted-level-3);\n",
       "  color: var(--sklearn-color-background);\n",
       "  text-decoration: none;\n",
       "}\n",
       "\n",
       "#sk-container-id-3 a.estimator_doc_link.fitted:hover {\n",
       "  /* fitted */\n",
       "  background-color: var(--sklearn-color-fitted-level-3);\n",
       "}\n",
       "</style><div id=\"sk-container-id-3\" class=\"sk-top-container\"><div class=\"sk-text-repr-fallback\"><pre>SVR(C=1000.0, gamma=1e-05)</pre><b>In a Jupyter environment, please rerun this cell to show the HTML representation or trust the notebook. <br />On GitHub, the HTML representation is unable to render, please try loading this page with nbviewer.org.</b></div><div class=\"sk-container\" hidden><div class=\"sk-item\"><div class=\"sk-estimator fitted sk-toggleable\"><input class=\"sk-toggleable__control sk-hidden--visually\" id=\"sk-estimator-id-3\" type=\"checkbox\" checked><label for=\"sk-estimator-id-3\" class=\"sk-toggleable__label fitted sk-toggleable__label-arrow fitted\">&nbsp;&nbsp;SVR<a class=\"sk-estimator-doc-link fitted\" rel=\"noreferrer\" target=\"_blank\" href=\"https://scikit-learn.org/1.5/modules/generated/sklearn.svm.SVR.html\">?<span>Documentation for SVR</span></a><span class=\"sk-estimator-doc-link fitted\">i<span>Fitted</span></span></label><div class=\"sk-toggleable__content fitted\"><pre>SVR(C=1000.0, gamma=1e-05)</pre></div> </div></div></div></div>"
      ]
     },
     "execution_count": 55,
     "metadata": {},
     "output_type": "execute_result"
    }
   ],
   "execution_count": 55
  },
  {
   "cell_type": "code",
   "id": "901086bc",
   "metadata": {
    "id": "901086bc",
    "outputId": "d66c005f-464e-4d93-b7cd-0df3287f9882",
    "ExecuteTime": {
     "end_time": "2024-06-04T16:30:02.994293Z",
     "start_time": "2024-06-04T16:30:02.948416Z"
    }
   },
   "source": [
    "svr_rbf_confidence = svr_rbf.score(x_test, y_test)\n",
    "print('svr_rbf confidence score is: ', svr_rbf_confidence)"
   ],
   "outputs": [
    {
     "name": "stdout",
     "output_type": "stream",
     "text": [
      "svr_rbf confidence score is:  0.9733346834876881\n"
     ]
    }
   ],
   "execution_count": 56
  },
  {
   "cell_type": "code",
   "id": "1a379bac",
   "metadata": {
    "id": "1a379bac",
    "ExecuteTime": {
     "end_time": "2024-06-04T16:30:03.040754Z",
     "start_time": "2024-06-04T16:30:02.995290Z"
    }
   },
   "source": [
    "svm_prediction = svr_rbf.predict(x_test)"
   ],
   "outputs": [],
   "execution_count": 57
  },
  {
   "cell_type": "code",
   "id": "d240babe",
   "metadata": {
    "id": "d240babe",
    "outputId": "1babb0e9-5d67-42b1-da19-b2247ddbdeef",
    "ExecuteTime": {
     "end_time": "2024-06-04T16:30:03.056023Z",
     "start_time": "2024-06-04T16:30:03.041752Z"
    }
   },
   "source": [
    "print(y_test)"
   ],
   "outputs": [
    {
     "name": "stdout",
     "output_type": "stream",
     "text": [
      "[2224.57885742 2303.82470703 2519.11621094 1279.57568359  185.11923218\n",
      " 1657.0592041  2355.83642578 1936.40344238 3726.93457031  211.54537964\n",
      " 1791.70227051 1911.64611816  190.34257507 1720.57751465  207.40830994\n",
      " 4439.35791016  387.60217285  234.41616821  202.94909668  158.41244507\n",
      " 1134.54101562 2435.10498047 2092.46679688 2453.91308594 1216.90124512\n",
      " 2052.71386719 1291.33764648  241.51022339 1492.60876465  382.63262939\n",
      " 3418.35864258 1772.78564453 1327.68017578 1287.22106934  316.65725708\n",
      " 1256.52661133 3952.29394531 1876.05969238  113.94274902 1332.83557129\n",
      "  269.43179321  235.85119629 3139.80517578 2984.72753906  243.52529907\n",
      " 1785.57653809 2113.60546875 2268.6472168  3834.828125    175.36567688\n",
      " 1207.11218262  122.60388947 1215.60253906 1827.71289062  244.91145325\n",
      "  243.01596069 1382.27404785 3147.28857422 1564.7076416  2772.05566406\n",
      " 1981.33654785 1539.61242676 3062.72875977  259.89471436 1121.57092285\n",
      "  171.62942505 4730.38427734 1826.93884277 1857.74194336 1196.77124023\n",
      " 3122.60864258 3281.64282227 3142.47070312 4287.59375    1678.65014648\n",
      " 3940.61474609 1716.49462891  175.19934082  152.53968811 1667.94384766\n",
      " 3453.49462891 2084.41308594 1100.00610352  181.10972595 1843.53259277\n",
      " 3270.60083008 2309.04638672 2987.48071289  359.93786621 2300.69067383\n",
      "  114.8422699  1898.82519531 1332.4921875   370.67172241 2090.40917969\n",
      " 3877.65087891 2855.12646484 1849.04272461 2724.61987305  589.35559082\n",
      " 3037.05664062  246.30990601  141.25813293  395.87466431 3100.32543945\n",
      "  353.2059021   303.09997559 1859.38781738  170.779953    194.70620728\n",
      " 2576.59790039 2189.21875    1611.47644043 1897.59924316 3840.25634766\n",
      " 2792.1171875   341.80865479 3261.91625977 2909.79125977  223.14651489\n",
      " 2347.56616211  351.11001587  636.18182373  176.01350403 1888.44750977\n",
      " 4119.81591797 1826.19494629 2730.18676758  383.15673828 1598.15649414\n",
      " 3385.70385742 2193.69165039  145.60400391 1608.20581055  228.19487\n",
      " 4651.46044922 1860.35717773 3881.19311523 1280.2565918  1328.25952148\n",
      " 2292.06542969  142.83470154 3411.79248047 1667.26904297  245.01672363\n",
      "  218.97059631 4274.74316406 1813.21728516 2746.38012695  304.0567627\n",
      " 3454.63647461 1124.82458496 1351.70947266  197.11317444 1531.54174805\n",
      "  177.45555115 1593.85778809 1570.20397949  399.92147827 1643.23168945\n",
      "  176.35151672 4131.10205078  174.71099854 4093.28100586  256.16879272\n",
      " 3507.94433594 2104.53735352 3819.22631836  353.36227417 3192.07397461\n",
      " 1429.15808105  149.19444275 1252.60778809 2857.41040039  266.36343384\n",
      " 2279.51416016 1739.03759766  174.21713257  172.73770142  365.81228638\n",
      " 1575.85314941 1667.0592041   517.49371338  175.698349   4445.10498047\n",
      " 3980.27319336 1713.76525879  575.75805664 1324.38818359 1569.16760254\n",
      "  181.61495972  413.77297974 2933.47900391 1768.03503418 2597.0847168\n",
      " 1555.25683594  194.49353027 2888.9296875  1696.45703125  477.0519104\n",
      " 2881.15795898 1633.62939453  145.87393188 2946.25708008 1471.69348145\n",
      " 1781.06750488 1299.46459961 1808.01977539 3500.11523438 1910.5880127\n",
      " 1594.91491699 1931.46655273 1822.02209473 1189.98608398  167.12051392\n",
      " 3952.13354492 3238.11157227 2736.48852539  166.72712708 4324.62695312\n",
      " 2608.04858398 2573.81616211 1595.35925293 2537.89111328 1594.76269531\n",
      "  233.08670044 1168.25939941 3505.16333008 2012.63464355  355.48809814\n",
      " 1632.25231934 1626.97436523 3242.11547852  381.19076538 3333.68798828\n",
      "  153.01055908 4168.70117188  268.09924316  172.30085754 1051.421875\n",
      " 1864.91235352 3307.51611328  214.21910095 3615.28271484  393.98736572\n",
      " 2240.68603516 1727.20410156  225.63076782  538.22979736  480.3600769\n",
      "  370.96759033 3695.29272461 2945.13110352  228.5785675   437.39782715\n",
      " 1801.72851562 1556.87268066 4096.91210938 2643.59106445  150.26817322\n",
      "  227.13829041 1884.49487305 2267.88598633 2883.46337891  218.05004883\n",
      " 1955.38916016 4812.08740234 2628.6484375  1831.11828613 2517.4387207\n",
      "  416.43978882 1996.44128418  271.69500732 2403.53515625 3156.50952148\n",
      "  654.81195068  368.10189819 1243.44689941  235.77246094  182.56968689\n",
      " 1937.44921875  186.35519409 2969.78466797 1890.5135498  1776.20373535\n",
      " 1889.70336914  221.3334198   210.48890686 2231.46533203 1127.64245605\n",
      " 1800.50097656 2063.28613281  211.39303589 1691.35595703 2293.84179688\n",
      "  155.30415344 1553.03735352 1616.82885742 2639.29931641 1200.80859375\n",
      "  320.05889893 1819.68493652 1672.00354004 1995.06091309 1143.38671875\n",
      " 3224.37426758 4006.45703125 2135.94213867 1646.3067627  1640.06762695\n",
      " 2524.46020508 3492.99121094 1633.89257812  143.60800171 3009.39355469\n",
      " 1320.54919434  172.9130249  1679.27441406 2555.03735352 1761.80004883\n",
      " 3285.51171875 2952.05615234 3167.85620117 2239.54248047  223.52270508\n",
      "  180.8266449  1226.84472656 1257.27954102 2501.22827148 1718.65087891\n",
      " 2344.49365234 1619.69848633 3310.50415039 1459.97314453 2664.83105469\n",
      " 1469.74169922 1816.45898438 1834.72790527 2120.00585938  239.60458374\n",
      " 3004.90039062 4047.98291016 1793.57226562 2219.33740234 3522.78320312\n",
      " 1243.33483887 4000.65087891 2363.58618164  156.27955627 1218.96203613\n",
      " 1684.93347168 1669.47192383 1681.43615723 3749.23657227 1323.43920898\n",
      " 1892.86206055  279.21542358 3118.34423828 1849.49816895 1814.04833984\n",
      "  229.9289093  2971.00732422 1840.22521973 1963.28503418 1848.60314941]\n"
     ]
    }
   ],
   "execution_count": 58
  },
  {
   "cell_type": "code",
   "id": "f262a780",
   "metadata": {
    "id": "f262a780",
    "outputId": "7b487115-08f8-46c4-938f-dd39797e371b",
    "scrolled": true,
    "ExecuteTime": {
     "end_time": "2024-06-04T16:30:03.381960Z",
     "start_time": "2024-06-04T16:30:03.057021Z"
    }
   },
   "source": [
    "plt.figure(figsize=(16,9))\n",
    "plt.plot(svm_prediction, label = 'Previsto', linewidth = '1', color ='b', alpha = .7)\n",
    "plt.plot(y_test, label = 'Effettivo', linewidth = '1', color ='r', alpha = .7)\n",
    "plt.title('Prezzo di Ethereum - Previsto verso realizzato')\n",
    "plt.ylabel('Prezzo in US$')\n",
    "plt.xlabel('Tempo')\n",
    "plt.legend()\n",
    "plt.xticks(rotation = 45)\n",
    "plt.show();\n"
   ],
   "outputs": [
    {
     "data": {
      "text/plain": [
       "<Figure size 1600x900 with 1 Axes>"
      ],
      "image/png": "[encoded data removed]"
     },
     "metadata": {},
     "output_type": "display_data"
    }
   ],
   "execution_count": 59
  },
  {
   "cell_type": "code",
   "id": "32749754",
   "metadata": {
    "id": "32749754",
    "ExecuteTime": {
     "end_time": "2024-06-04T16:30:03.397917Z",
     "start_time": "2024-06-04T16:30:03.383955Z"
    }
   },
   "source": [],
   "outputs": [],
   "execution_count": 59
  }
 ],
 "metadata": {
  "colab": {
   "name": "ML_SVM_1.ipynb",
   "provenance": []
  },
  "kernelspec": {
   "display_name": "Python 3 (ipykernel)",
   "language": "python",
   "name": "python3"
  },
  "language_info": {
   "codemirror_mode": {
    "name": "ipython",
    "version": 3
   },
   "file_extension": ".py",
   "mimetype": "text/x-python",
   "name": "python",
   "nbconvert_exporter": "python",
   "pygments_lexer": "ipython3",
   "version": "3.11.7"
  }
 },
 "nbformat": 4,
 "nbformat_minor": 5
}
