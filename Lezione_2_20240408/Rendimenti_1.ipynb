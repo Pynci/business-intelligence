{
 "cells": [
  {
   "cell_type": "code",
   "execution_count": 1,
   "id": "86e33655",
   "metadata": {},
   "outputs": [],
   "source": [
    "import pandas as pd\n",
    "import numpy as np\n",
    "import datetime\n",
    "import matplotlib.pyplot as plt\n",
    "import yfinance as yf\n",
    "%matplotlib inline"
   ]
  },
  {
   "cell_type": "code",
   "execution_count": 2,
   "id": "865cdc18",
   "metadata": {},
   "outputs": [],
   "source": [
    "start = datetime.datetime(1982,12, 31)\n",
    "end = datetime.datetime(2023, 12, 31)"
   ]
  },
  {
   "cell_type": "code",
   "execution_count": 3,
   "id": "54152ba6",
   "metadata": {},
   "outputs": [
    {
     "name": "stderr",
     "output_type": "stream",
     "text": [
      "[*********************100%%**********************]  1 of 1 completed\n"
     ]
    }
   ],
   "source": [
    "SP500 = yf.download('^GSPC', start, end)"
   ]
  },
  {
   "cell_type": "code",
   "execution_count": 4,
   "id": "f9135cfb",
   "metadata": {},
   "outputs": [],
   "source": [
    "SP500.to_csv('SP500.csv')"
   ]
  },
  {
   "cell_type": "code",
   "execution_count": 5,
   "id": "57caf940",
   "metadata": {},
   "outputs": [],
   "source": [
    "#SP500 = pd.read_csv('SP500.csv')"
   ]
  },
  {
   "cell_type": "code",
   "execution_count": 6,
   "id": "604f022f",
   "metadata": {},
   "outputs": [
    {
     "data": {
      "text/html": [
       "<div>\n",
       "<style scoped>\n",
       "    .dataframe tbody tr th:only-of-type {\n",
       "        vertical-align: middle;\n",
       "    }\n",
       "\n",
       "    .dataframe tbody tr th {\n",
       "        vertical-align: top;\n",
       "    }\n",
       "\n",
       "    .dataframe thead th {\n",
       "        text-align: right;\n",
       "    }\n",
       "</style>\n",
       "<table border=\"1\" class=\"dataframe\">\n",
       "  <thead>\n",
       "    <tr style=\"text-align: right;\">\n",
       "      <th></th>\n",
       "      <th>Open</th>\n",
       "      <th>High</th>\n",
       "      <th>Low</th>\n",
       "      <th>Close</th>\n",
       "      <th>Adj Close</th>\n",
       "      <th>Volume</th>\n",
       "    </tr>\n",
       "    <tr>\n",
       "      <th>Date</th>\n",
       "      <th></th>\n",
       "      <th></th>\n",
       "      <th></th>\n",
       "      <th></th>\n",
       "      <th></th>\n",
       "      <th></th>\n",
       "    </tr>\n",
       "  </thead>\n",
       "  <tbody>\n",
       "    <tr>\n",
       "      <th>1982-12-31</th>\n",
       "      <td>140.339996</td>\n",
       "      <td>140.779999</td>\n",
       "      <td>140.270004</td>\n",
       "      <td>140.639999</td>\n",
       "      <td>140.639999</td>\n",
       "      <td>42110000</td>\n",
       "    </tr>\n",
       "    <tr>\n",
       "      <th>1983-01-03</th>\n",
       "      <td>140.649994</td>\n",
       "      <td>141.330002</td>\n",
       "      <td>138.199997</td>\n",
       "      <td>138.339996</td>\n",
       "      <td>138.339996</td>\n",
       "      <td>59080000</td>\n",
       "    </tr>\n",
       "    <tr>\n",
       "      <th>1983-01-04</th>\n",
       "      <td>138.330002</td>\n",
       "      <td>141.360001</td>\n",
       "      <td>138.080002</td>\n",
       "      <td>141.360001</td>\n",
       "      <td>141.360001</td>\n",
       "      <td>75530000</td>\n",
       "    </tr>\n",
       "    <tr>\n",
       "      <th>1983-01-05</th>\n",
       "      <td>141.350006</td>\n",
       "      <td>142.600006</td>\n",
       "      <td>141.149994</td>\n",
       "      <td>141.960007</td>\n",
       "      <td>141.960007</td>\n",
       "      <td>95390000</td>\n",
       "    </tr>\n",
       "    <tr>\n",
       "      <th>1983-01-06</th>\n",
       "      <td>142.009995</td>\n",
       "      <td>145.770004</td>\n",
       "      <td>142.009995</td>\n",
       "      <td>145.270004</td>\n",
       "      <td>145.270004</td>\n",
       "      <td>129410000</td>\n",
       "    </tr>\n",
       "  </tbody>\n",
       "</table>\n",
       "</div>"
      ],
      "text/plain": [
       "                  Open        High         Low       Close   Adj Close  \\\n",
       "Date                                                                     \n",
       "1982-12-31  140.339996  140.779999  140.270004  140.639999  140.639999   \n",
       "1983-01-03  140.649994  141.330002  138.199997  138.339996  138.339996   \n",
       "1983-01-04  138.330002  141.360001  138.080002  141.360001  141.360001   \n",
       "1983-01-05  141.350006  142.600006  141.149994  141.960007  141.960007   \n",
       "1983-01-06  142.009995  145.770004  142.009995  145.270004  145.270004   \n",
       "\n",
       "               Volume  \n",
       "Date                   \n",
       "1982-12-31   42110000  \n",
       "1983-01-03   59080000  \n",
       "1983-01-04   75530000  \n",
       "1983-01-05   95390000  \n",
       "1983-01-06  129410000  "
      ]
     },
     "execution_count": 6,
     "metadata": {},
     "output_type": "execute_result"
    }
   ],
   "source": [
    "SP500.head()"
   ]
  },
  {
   "cell_type": "code",
   "execution_count": 7,
   "id": "fd3af42d",
   "metadata": {},
   "outputs": [
    {
     "data": {
      "text/plain": [
       "Date\n",
       "1982-12-31    140.639999\n",
       "1983-01-03    138.339996\n",
       "1983-01-04    141.360001\n",
       "1983-01-05    141.960007\n",
       "1983-01-06    145.270004\n",
       "Name: Adj Close, dtype: float64"
      ]
     },
     "execution_count": 7,
     "metadata": {},
     "output_type": "execute_result"
    }
   ],
   "source": [
    "SP500['Adj Close'].head()"
   ]
  },
  {
   "cell_type": "code",
   "execution_count": 8,
   "id": "790a77b1",
   "metadata": {},
   "outputs": [
    {
     "data": {
      "text/plain": [
       "Date\n",
       "2023-12-22    4754.629883\n",
       "2023-12-26    4774.750000\n",
       "2023-12-27    4781.580078\n",
       "2023-12-28    4783.350098\n",
       "2023-12-29    4769.830078\n",
       "Name: Adj Close, dtype: float64"
      ]
     },
     "execution_count": 8,
     "metadata": {},
     "output_type": "execute_result"
    }
   ],
   "source": [
    "SP500['Adj Close'].tail()"
   ]
  },
  {
   "cell_type": "markdown",
   "id": "2c6acdd6",
   "metadata": {},
   "source": [
    "Calcoliamo i rendimenti semplici lordi e netti e logaritmici"
   ]
  },
  {
   "cell_type": "code",
   "execution_count": 9,
   "id": "525d0d23",
   "metadata": {},
   "outputs": [],
   "source": [
    "SP500['RS_Lordo'] = SP500['Adj Close']/SP500['Adj Close'].shift(1)"
   ]
  },
  {
   "cell_type": "code",
   "execution_count": 10,
   "id": "5dcf72ed",
   "metadata": {},
   "outputs": [
    {
     "data": {
      "text/html": [
       "<div>\n",
       "<style scoped>\n",
       "    .dataframe tbody tr th:only-of-type {\n",
       "        vertical-align: middle;\n",
       "    }\n",
       "\n",
       "    .dataframe tbody tr th {\n",
       "        vertical-align: top;\n",
       "    }\n",
       "\n",
       "    .dataframe thead th {\n",
       "        text-align: right;\n",
       "    }\n",
       "</style>\n",
       "<table border=\"1\" class=\"dataframe\">\n",
       "  <thead>\n",
       "    <tr style=\"text-align: right;\">\n",
       "      <th></th>\n",
       "      <th>Open</th>\n",
       "      <th>High</th>\n",
       "      <th>Low</th>\n",
       "      <th>Close</th>\n",
       "      <th>Adj Close</th>\n",
       "      <th>Volume</th>\n",
       "      <th>RS_Lordo</th>\n",
       "    </tr>\n",
       "    <tr>\n",
       "      <th>Date</th>\n",
       "      <th></th>\n",
       "      <th></th>\n",
       "      <th></th>\n",
       "      <th></th>\n",
       "      <th></th>\n",
       "      <th></th>\n",
       "      <th></th>\n",
       "    </tr>\n",
       "  </thead>\n",
       "  <tbody>\n",
       "    <tr>\n",
       "      <th>1982-12-31</th>\n",
       "      <td>140.339996</td>\n",
       "      <td>140.779999</td>\n",
       "      <td>140.270004</td>\n",
       "      <td>140.639999</td>\n",
       "      <td>140.639999</td>\n",
       "      <td>42110000</td>\n",
       "      <td>NaN</td>\n",
       "    </tr>\n",
       "    <tr>\n",
       "      <th>1983-01-03</th>\n",
       "      <td>140.649994</td>\n",
       "      <td>141.330002</td>\n",
       "      <td>138.199997</td>\n",
       "      <td>138.339996</td>\n",
       "      <td>138.339996</td>\n",
       "      <td>59080000</td>\n",
       "      <td>0.983646</td>\n",
       "    </tr>\n",
       "    <tr>\n",
       "      <th>1983-01-04</th>\n",
       "      <td>138.330002</td>\n",
       "      <td>141.360001</td>\n",
       "      <td>138.080002</td>\n",
       "      <td>141.360001</td>\n",
       "      <td>141.360001</td>\n",
       "      <td>75530000</td>\n",
       "      <td>1.021830</td>\n",
       "    </tr>\n",
       "    <tr>\n",
       "      <th>1983-01-05</th>\n",
       "      <td>141.350006</td>\n",
       "      <td>142.600006</td>\n",
       "      <td>141.149994</td>\n",
       "      <td>141.960007</td>\n",
       "      <td>141.960007</td>\n",
       "      <td>95390000</td>\n",
       "      <td>1.004245</td>\n",
       "    </tr>\n",
       "    <tr>\n",
       "      <th>1983-01-06</th>\n",
       "      <td>142.009995</td>\n",
       "      <td>145.770004</td>\n",
       "      <td>142.009995</td>\n",
       "      <td>145.270004</td>\n",
       "      <td>145.270004</td>\n",
       "      <td>129410000</td>\n",
       "      <td>1.023316</td>\n",
       "    </tr>\n",
       "  </tbody>\n",
       "</table>\n",
       "</div>"
      ],
      "text/plain": [
       "                  Open        High         Low       Close   Adj Close  \\\n",
       "Date                                                                     \n",
       "1982-12-31  140.339996  140.779999  140.270004  140.639999  140.639999   \n",
       "1983-01-03  140.649994  141.330002  138.199997  138.339996  138.339996   \n",
       "1983-01-04  138.330002  141.360001  138.080002  141.360001  141.360001   \n",
       "1983-01-05  141.350006  142.600006  141.149994  141.960007  141.960007   \n",
       "1983-01-06  142.009995  145.770004  142.009995  145.270004  145.270004   \n",
       "\n",
       "               Volume  RS_Lordo  \n",
       "Date                             \n",
       "1982-12-31   42110000       NaN  \n",
       "1983-01-03   59080000  0.983646  \n",
       "1983-01-04   75530000  1.021830  \n",
       "1983-01-05   95390000  1.004245  \n",
       "1983-01-06  129410000  1.023316  "
      ]
     },
     "execution_count": 10,
     "metadata": {},
     "output_type": "execute_result"
    }
   ],
   "source": [
    "SP500.head()"
   ]
  },
  {
   "cell_type": "code",
   "execution_count": 11,
   "id": "12565304",
   "metadata": {},
   "outputs": [],
   "source": [
    "SP500['RS_Netto'] = SP500['Adj Close'].pct_change(1)"
   ]
  },
  {
   "cell_type": "code",
   "execution_count": 12,
   "id": "1e66c0ae",
   "metadata": {},
   "outputs": [
    {
     "data": {
      "text/html": [
       "<div>\n",
       "<style scoped>\n",
       "    .dataframe tbody tr th:only-of-type {\n",
       "        vertical-align: middle;\n",
       "    }\n",
       "\n",
       "    .dataframe tbody tr th {\n",
       "        vertical-align: top;\n",
       "    }\n",
       "\n",
       "    .dataframe thead th {\n",
       "        text-align: right;\n",
       "    }\n",
       "</style>\n",
       "<table border=\"1\" class=\"dataframe\">\n",
       "  <thead>\n",
       "    <tr style=\"text-align: right;\">\n",
       "      <th></th>\n",
       "      <th>Open</th>\n",
       "      <th>High</th>\n",
       "      <th>Low</th>\n",
       "      <th>Close</th>\n",
       "      <th>Adj Close</th>\n",
       "      <th>Volume</th>\n",
       "      <th>RS_Lordo</th>\n",
       "      <th>RS_Netto</th>\n",
       "    </tr>\n",
       "    <tr>\n",
       "      <th>Date</th>\n",
       "      <th></th>\n",
       "      <th></th>\n",
       "      <th></th>\n",
       "      <th></th>\n",
       "      <th></th>\n",
       "      <th></th>\n",
       "      <th></th>\n",
       "      <th></th>\n",
       "    </tr>\n",
       "  </thead>\n",
       "  <tbody>\n",
       "    <tr>\n",
       "      <th>1982-12-31</th>\n",
       "      <td>140.339996</td>\n",
       "      <td>140.779999</td>\n",
       "      <td>140.270004</td>\n",
       "      <td>140.639999</td>\n",
       "      <td>140.639999</td>\n",
       "      <td>42110000</td>\n",
       "      <td>NaN</td>\n",
       "      <td>NaN</td>\n",
       "    </tr>\n",
       "    <tr>\n",
       "      <th>1983-01-03</th>\n",
       "      <td>140.649994</td>\n",
       "      <td>141.330002</td>\n",
       "      <td>138.199997</td>\n",
       "      <td>138.339996</td>\n",
       "      <td>138.339996</td>\n",
       "      <td>59080000</td>\n",
       "      <td>0.983646</td>\n",
       "      <td>-0.016354</td>\n",
       "    </tr>\n",
       "    <tr>\n",
       "      <th>1983-01-04</th>\n",
       "      <td>138.330002</td>\n",
       "      <td>141.360001</td>\n",
       "      <td>138.080002</td>\n",
       "      <td>141.360001</td>\n",
       "      <td>141.360001</td>\n",
       "      <td>75530000</td>\n",
       "      <td>1.021830</td>\n",
       "      <td>0.021830</td>\n",
       "    </tr>\n",
       "    <tr>\n",
       "      <th>1983-01-05</th>\n",
       "      <td>141.350006</td>\n",
       "      <td>142.600006</td>\n",
       "      <td>141.149994</td>\n",
       "      <td>141.960007</td>\n",
       "      <td>141.960007</td>\n",
       "      <td>95390000</td>\n",
       "      <td>1.004245</td>\n",
       "      <td>0.004245</td>\n",
       "    </tr>\n",
       "    <tr>\n",
       "      <th>1983-01-06</th>\n",
       "      <td>142.009995</td>\n",
       "      <td>145.770004</td>\n",
       "      <td>142.009995</td>\n",
       "      <td>145.270004</td>\n",
       "      <td>145.270004</td>\n",
       "      <td>129410000</td>\n",
       "      <td>1.023316</td>\n",
       "      <td>0.023316</td>\n",
       "    </tr>\n",
       "  </tbody>\n",
       "</table>\n",
       "</div>"
      ],
      "text/plain": [
       "                  Open        High         Low       Close   Adj Close  \\\n",
       "Date                                                                     \n",
       "1982-12-31  140.339996  140.779999  140.270004  140.639999  140.639999   \n",
       "1983-01-03  140.649994  141.330002  138.199997  138.339996  138.339996   \n",
       "1983-01-04  138.330002  141.360001  138.080002  141.360001  141.360001   \n",
       "1983-01-05  141.350006  142.600006  141.149994  141.960007  141.960007   \n",
       "1983-01-06  142.009995  145.770004  142.009995  145.270004  145.270004   \n",
       "\n",
       "               Volume  RS_Lordo  RS_Netto  \n",
       "Date                                       \n",
       "1982-12-31   42110000       NaN       NaN  \n",
       "1983-01-03   59080000  0.983646 -0.016354  \n",
       "1983-01-04   75530000  1.021830  0.021830  \n",
       "1983-01-05   95390000  1.004245  0.004245  \n",
       "1983-01-06  129410000  1.023316  0.023316  "
      ]
     },
     "execution_count": 12,
     "metadata": {},
     "output_type": "execute_result"
    }
   ],
   "source": [
    "SP500.head()"
   ]
  },
  {
   "cell_type": "code",
   "execution_count": 13,
   "id": "cd411b98",
   "metadata": {},
   "outputs": [],
   "source": [
    "SP500['RL'] = np.log(SP500['Adj Close']/SP500['Adj Close'].shift(1))"
   ]
  },
  {
   "cell_type": "code",
   "execution_count": 14,
   "id": "cad9321a",
   "metadata": {},
   "outputs": [
    {
     "data": {
      "text/html": [
       "<div>\n",
       "<style scoped>\n",
       "    .dataframe tbody tr th:only-of-type {\n",
       "        vertical-align: middle;\n",
       "    }\n",
       "\n",
       "    .dataframe tbody tr th {\n",
       "        vertical-align: top;\n",
       "    }\n",
       "\n",
       "    .dataframe thead th {\n",
       "        text-align: right;\n",
       "    }\n",
       "</style>\n",
       "<table border=\"1\" class=\"dataframe\">\n",
       "  <thead>\n",
       "    <tr style=\"text-align: right;\">\n",
       "      <th></th>\n",
       "      <th>Open</th>\n",
       "      <th>High</th>\n",
       "      <th>Low</th>\n",
       "      <th>Close</th>\n",
       "      <th>Adj Close</th>\n",
       "      <th>Volume</th>\n",
       "      <th>RS_Lordo</th>\n",
       "      <th>RS_Netto</th>\n",
       "      <th>RL</th>\n",
       "    </tr>\n",
       "    <tr>\n",
       "      <th>Date</th>\n",
       "      <th></th>\n",
       "      <th></th>\n",
       "      <th></th>\n",
       "      <th></th>\n",
       "      <th></th>\n",
       "      <th></th>\n",
       "      <th></th>\n",
       "      <th></th>\n",
       "      <th></th>\n",
       "    </tr>\n",
       "  </thead>\n",
       "  <tbody>\n",
       "    <tr>\n",
       "      <th>1982-12-31</th>\n",
       "      <td>140.339996</td>\n",
       "      <td>140.779999</td>\n",
       "      <td>140.270004</td>\n",
       "      <td>140.639999</td>\n",
       "      <td>140.639999</td>\n",
       "      <td>42110000</td>\n",
       "      <td>NaN</td>\n",
       "      <td>NaN</td>\n",
       "      <td>NaN</td>\n",
       "    </tr>\n",
       "    <tr>\n",
       "      <th>1983-01-03</th>\n",
       "      <td>140.649994</td>\n",
       "      <td>141.330002</td>\n",
       "      <td>138.199997</td>\n",
       "      <td>138.339996</td>\n",
       "      <td>138.339996</td>\n",
       "      <td>59080000</td>\n",
       "      <td>0.983646</td>\n",
       "      <td>-0.016354</td>\n",
       "      <td>-0.016489</td>\n",
       "    </tr>\n",
       "    <tr>\n",
       "      <th>1983-01-04</th>\n",
       "      <td>138.330002</td>\n",
       "      <td>141.360001</td>\n",
       "      <td>138.080002</td>\n",
       "      <td>141.360001</td>\n",
       "      <td>141.360001</td>\n",
       "      <td>75530000</td>\n",
       "      <td>1.021830</td>\n",
       "      <td>0.021830</td>\n",
       "      <td>0.021595</td>\n",
       "    </tr>\n",
       "    <tr>\n",
       "      <th>1983-01-05</th>\n",
       "      <td>141.350006</td>\n",
       "      <td>142.600006</td>\n",
       "      <td>141.149994</td>\n",
       "      <td>141.960007</td>\n",
       "      <td>141.960007</td>\n",
       "      <td>95390000</td>\n",
       "      <td>1.004245</td>\n",
       "      <td>0.004245</td>\n",
       "      <td>0.004236</td>\n",
       "    </tr>\n",
       "    <tr>\n",
       "      <th>1983-01-06</th>\n",
       "      <td>142.009995</td>\n",
       "      <td>145.770004</td>\n",
       "      <td>142.009995</td>\n",
       "      <td>145.270004</td>\n",
       "      <td>145.270004</td>\n",
       "      <td>129410000</td>\n",
       "      <td>1.023316</td>\n",
       "      <td>0.023316</td>\n",
       "      <td>0.023049</td>\n",
       "    </tr>\n",
       "  </tbody>\n",
       "</table>\n",
       "</div>"
      ],
      "text/plain": [
       "                  Open        High         Low       Close   Adj Close  \\\n",
       "Date                                                                     \n",
       "1982-12-31  140.339996  140.779999  140.270004  140.639999  140.639999   \n",
       "1983-01-03  140.649994  141.330002  138.199997  138.339996  138.339996   \n",
       "1983-01-04  138.330002  141.360001  138.080002  141.360001  141.360001   \n",
       "1983-01-05  141.350006  142.600006  141.149994  141.960007  141.960007   \n",
       "1983-01-06  142.009995  145.770004  142.009995  145.270004  145.270004   \n",
       "\n",
       "               Volume  RS_Lordo  RS_Netto        RL  \n",
       "Date                                                 \n",
       "1982-12-31   42110000       NaN       NaN       NaN  \n",
       "1983-01-03   59080000  0.983646 -0.016354 -0.016489  \n",
       "1983-01-04   75530000  1.021830  0.021830  0.021595  \n",
       "1983-01-05   95390000  1.004245  0.004245  0.004236  \n",
       "1983-01-06  129410000  1.023316  0.023316  0.023049  "
      ]
     },
     "execution_count": 14,
     "metadata": {},
     "output_type": "execute_result"
    }
   ],
   "source": [
    "SP500.head()"
   ]
  },
  {
   "cell_type": "markdown",
   "id": "be388459",
   "metadata": {},
   "source": [
    "Qual é il collegamento fra rendimenti semplici e logaritmici.\n",
    "Aumentando la frequenza di capitalizzazione il rendimento composto semplice si avvicina a quello logaritmico.\n"
   ]
  },
  {
   "cell_type": "code",
   "execution_count": 15,
   "id": "041d1715",
   "metadata": {},
   "outputs": [
    {
     "name": "stdout",
     "output_type": "stream",
     "text": [
      "0.1\n",
      "0.1025\n",
      "0.1038129\n",
      "0.1047131\n",
      "0.1050648\n",
      "0.1051558\n",
      "0.1051633\n",
      "0.1051671\n",
      "0.1051709\n"
     ]
    }
   ],
   "source": [
    "f = [1, 2, 4, 12, 52, 365, 730, 1460]\n",
    "r = 0.10\n",
    "tassi = []\n",
    "\n",
    "for i in f:\n",
    "    tasso = (1+r/i)**i - 1\n",
    "    tassi.append(tasso)\n",
    "\n",
    "for i in tassi:\n",
    "    print(round(i, 7))\n",
    "\n",
    "print(round(np.exp(r)-1, 7))"
   ]
  },
  {
   "cell_type": "markdown",
   "id": "a3b425c1",
   "metadata": {},
   "source": []
  },
  {
   "cell_type": "markdown",
   "id": "59a9d563",
   "metadata": {},
   "source": [
    "Differenze fra rendimenti semplici e logaritmici\n",
    "\n",
    "o\tRendimenti semplici non si sommano nel tempo, logaritmici sì\n",
    "\n",
    "o\tRendimenti semplici si sommano nel portafoglio, logaritmici no\n",
    "\n",
    "o\tRendimenti semplici sono sensibili alla frequenza di calcolo, logaritmici no\n"
   ]
  },
  {
   "cell_type": "markdown",
   "id": "3164cae6",
   "metadata": {},
   "source": [
    "Il prodotto dei rendimenti lordi è il valore capitalizzato dell'investimento di una unità al rendimento della serie"
   ]
  },
  {
   "cell_type": "code",
   "execution_count": 16,
   "id": "4f5c273b",
   "metadata": {},
   "outputs": [],
   "source": [
    "SP500['Cum'] = np.cumprod(SP500['RS_Lordo'])"
   ]
  },
  {
   "cell_type": "code",
   "execution_count": 38,
   "id": "ac76f9f0",
   "metadata": {},
   "outputs": [
    {
     "data": {
      "text/html": [
       "<div>\n",
       "<style scoped>\n",
       "    .dataframe tbody tr th:only-of-type {\n",
       "        vertical-align: middle;\n",
       "    }\n",
       "\n",
       "    .dataframe tbody tr th {\n",
       "        vertical-align: top;\n",
       "    }\n",
       "\n",
       "    .dataframe thead th {\n",
       "        text-align: right;\n",
       "    }\n",
       "</style>\n",
       "<table border=\"1\" class=\"dataframe\">\n",
       "  <thead>\n",
       "    <tr style=\"text-align: right;\">\n",
       "      <th></th>\n",
       "      <th>Open</th>\n",
       "      <th>High</th>\n",
       "      <th>Low</th>\n",
       "      <th>Close</th>\n",
       "      <th>Adj Close</th>\n",
       "      <th>Volume</th>\n",
       "      <th>RS_Lordo</th>\n",
       "      <th>RS_Netto</th>\n",
       "      <th>RL</th>\n",
       "      <th>Cum</th>\n",
       "    </tr>\n",
       "    <tr>\n",
       "      <th>Date</th>\n",
       "      <th></th>\n",
       "      <th></th>\n",
       "      <th></th>\n",
       "      <th></th>\n",
       "      <th></th>\n",
       "      <th></th>\n",
       "      <th></th>\n",
       "      <th></th>\n",
       "      <th></th>\n",
       "      <th></th>\n",
       "    </tr>\n",
       "  </thead>\n",
       "  <tbody>\n",
       "    <tr>\n",
       "      <th>1982-12-31</th>\n",
       "      <td>140.339996</td>\n",
       "      <td>140.779999</td>\n",
       "      <td>140.270004</td>\n",
       "      <td>140.639999</td>\n",
       "      <td>140.639999</td>\n",
       "      <td>42110000</td>\n",
       "      <td>NaN</td>\n",
       "      <td>NaN</td>\n",
       "      <td>NaN</td>\n",
       "      <td>NaN</td>\n",
       "    </tr>\n",
       "    <tr>\n",
       "      <th>1983-01-03</th>\n",
       "      <td>140.649994</td>\n",
       "      <td>141.330002</td>\n",
       "      <td>138.199997</td>\n",
       "      <td>138.339996</td>\n",
       "      <td>138.339996</td>\n",
       "      <td>59080000</td>\n",
       "      <td>0.983646</td>\n",
       "      <td>-0.016354</td>\n",
       "      <td>-0.016489</td>\n",
       "      <td>0.983646</td>\n",
       "    </tr>\n",
       "    <tr>\n",
       "      <th>1983-01-04</th>\n",
       "      <td>138.330002</td>\n",
       "      <td>141.360001</td>\n",
       "      <td>138.080002</td>\n",
       "      <td>141.360001</td>\n",
       "      <td>141.360001</td>\n",
       "      <td>75530000</td>\n",
       "      <td>1.021830</td>\n",
       "      <td>0.021830</td>\n",
       "      <td>0.021595</td>\n",
       "      <td>1.005119</td>\n",
       "    </tr>\n",
       "    <tr>\n",
       "      <th>1983-01-05</th>\n",
       "      <td>141.350006</td>\n",
       "      <td>142.600006</td>\n",
       "      <td>141.149994</td>\n",
       "      <td>141.960007</td>\n",
       "      <td>141.960007</td>\n",
       "      <td>95390000</td>\n",
       "      <td>1.004245</td>\n",
       "      <td>0.004245</td>\n",
       "      <td>0.004236</td>\n",
       "      <td>1.009386</td>\n",
       "    </tr>\n",
       "    <tr>\n",
       "      <th>1983-01-06</th>\n",
       "      <td>142.009995</td>\n",
       "      <td>145.770004</td>\n",
       "      <td>142.009995</td>\n",
       "      <td>145.270004</td>\n",
       "      <td>145.270004</td>\n",
       "      <td>129410000</td>\n",
       "      <td>1.023316</td>\n",
       "      <td>0.023316</td>\n",
       "      <td>0.023049</td>\n",
       "      <td>1.032921</td>\n",
       "    </tr>\n",
       "  </tbody>\n",
       "</table>\n",
       "</div>"
      ],
      "text/plain": [
       "                  Open        High         Low       Close   Adj Close  \\\n",
       "Date                                                                     \n",
       "1982-12-31  140.339996  140.779999  140.270004  140.639999  140.639999   \n",
       "1983-01-03  140.649994  141.330002  138.199997  138.339996  138.339996   \n",
       "1983-01-04  138.330002  141.360001  138.080002  141.360001  141.360001   \n",
       "1983-01-05  141.350006  142.600006  141.149994  141.960007  141.960007   \n",
       "1983-01-06  142.009995  145.770004  142.009995  145.270004  145.270004   \n",
       "\n",
       "               Volume  RS_Lordo  RS_Netto        RL       Cum  \n",
       "Date                                                           \n",
       "1982-12-31   42110000       NaN       NaN       NaN       NaN  \n",
       "1983-01-03   59080000  0.983646 -0.016354 -0.016489  0.983646  \n",
       "1983-01-04   75530000  1.021830  0.021830  0.021595  1.005119  \n",
       "1983-01-05   95390000  1.004245  0.004245  0.004236  1.009386  \n",
       "1983-01-06  129410000  1.023316  0.023316  0.023049  1.032921  "
      ]
     },
     "execution_count": 38,
     "metadata": {},
     "output_type": "execute_result"
    }
   ],
   "source": [
    "SP500.head()"
   ]
  },
  {
   "cell_type": "code",
   "execution_count": 17,
   "id": "b6bdb9cf",
   "metadata": {},
   "outputs": [
    {
     "data": {
      "text/html": [
       "<div>\n",
       "<style scoped>\n",
       "    .dataframe tbody tr th:only-of-type {\n",
       "        vertical-align: middle;\n",
       "    }\n",
       "\n",
       "    .dataframe tbody tr th {\n",
       "        vertical-align: top;\n",
       "    }\n",
       "\n",
       "    .dataframe thead th {\n",
       "        text-align: right;\n",
       "    }\n",
       "</style>\n",
       "<table border=\"1\" class=\"dataframe\">\n",
       "  <thead>\n",
       "    <tr style=\"text-align: right;\">\n",
       "      <th></th>\n",
       "      <th>Open</th>\n",
       "      <th>High</th>\n",
       "      <th>Low</th>\n",
       "      <th>Close</th>\n",
       "      <th>Adj Close</th>\n",
       "      <th>Volume</th>\n",
       "      <th>RS_Lordo</th>\n",
       "      <th>RS_Netto</th>\n",
       "      <th>RL</th>\n",
       "      <th>Cum</th>\n",
       "    </tr>\n",
       "    <tr>\n",
       "      <th>Date</th>\n",
       "      <th></th>\n",
       "      <th></th>\n",
       "      <th></th>\n",
       "      <th></th>\n",
       "      <th></th>\n",
       "      <th></th>\n",
       "      <th></th>\n",
       "      <th></th>\n",
       "      <th></th>\n",
       "      <th></th>\n",
       "    </tr>\n",
       "  </thead>\n",
       "  <tbody>\n",
       "    <tr>\n",
       "      <th>2023-12-22</th>\n",
       "      <td>4753.919922</td>\n",
       "      <td>4772.939941</td>\n",
       "      <td>4736.770020</td>\n",
       "      <td>4754.629883</td>\n",
       "      <td>4754.629883</td>\n",
       "      <td>3046770000</td>\n",
       "      <td>1.001660</td>\n",
       "      <td>0.001660</td>\n",
       "      <td>0.001659</td>\n",
       "      <td>33.807095</td>\n",
       "    </tr>\n",
       "    <tr>\n",
       "      <th>2023-12-26</th>\n",
       "      <td>4758.859863</td>\n",
       "      <td>4784.720215</td>\n",
       "      <td>4758.450195</td>\n",
       "      <td>4774.750000</td>\n",
       "      <td>4774.750000</td>\n",
       "      <td>2513910000</td>\n",
       "      <td>1.004232</td>\n",
       "      <td>0.004232</td>\n",
       "      <td>0.004223</td>\n",
       "      <td>33.950157</td>\n",
       "    </tr>\n",
       "    <tr>\n",
       "      <th>2023-12-27</th>\n",
       "      <td>4773.450195</td>\n",
       "      <td>4785.390137</td>\n",
       "      <td>4768.899902</td>\n",
       "      <td>4781.580078</td>\n",
       "      <td>4781.580078</td>\n",
       "      <td>2748450000</td>\n",
       "      <td>1.001430</td>\n",
       "      <td>0.001430</td>\n",
       "      <td>0.001429</td>\n",
       "      <td>33.998721</td>\n",
       "    </tr>\n",
       "    <tr>\n",
       "      <th>2023-12-28</th>\n",
       "      <td>4786.439941</td>\n",
       "      <td>4793.299805</td>\n",
       "      <td>4780.979980</td>\n",
       "      <td>4783.350098</td>\n",
       "      <td>4783.350098</td>\n",
       "      <td>2698860000</td>\n",
       "      <td>1.000370</td>\n",
       "      <td>0.000370</td>\n",
       "      <td>0.000370</td>\n",
       "      <td>34.011306</td>\n",
       "    </tr>\n",
       "    <tr>\n",
       "      <th>2023-12-29</th>\n",
       "      <td>4782.879883</td>\n",
       "      <td>4788.430176</td>\n",
       "      <td>4751.990234</td>\n",
       "      <td>4769.830078</td>\n",
       "      <td>4769.830078</td>\n",
       "      <td>3126060000</td>\n",
       "      <td>0.997174</td>\n",
       "      <td>-0.002826</td>\n",
       "      <td>-0.002830</td>\n",
       "      <td>33.915174</td>\n",
       "    </tr>\n",
       "  </tbody>\n",
       "</table>\n",
       "</div>"
      ],
      "text/plain": [
       "                   Open         High          Low        Close    Adj Close  \\\n",
       "Date                                                                          \n",
       "2023-12-22  4753.919922  4772.939941  4736.770020  4754.629883  4754.629883   \n",
       "2023-12-26  4758.859863  4784.720215  4758.450195  4774.750000  4774.750000   \n",
       "2023-12-27  4773.450195  4785.390137  4768.899902  4781.580078  4781.580078   \n",
       "2023-12-28  4786.439941  4793.299805  4780.979980  4783.350098  4783.350098   \n",
       "2023-12-29  4782.879883  4788.430176  4751.990234  4769.830078  4769.830078   \n",
       "\n",
       "                Volume  RS_Lordo  RS_Netto        RL        Cum  \n",
       "Date                                                             \n",
       "2023-12-22  3046770000  1.001660  0.001660  0.001659  33.807095  \n",
       "2023-12-26  2513910000  1.004232  0.004232  0.004223  33.950157  \n",
       "2023-12-27  2748450000  1.001430  0.001430  0.001429  33.998721  \n",
       "2023-12-28  2698860000  1.000370  0.000370  0.000370  34.011306  \n",
       "2023-12-29  3126060000  0.997174 -0.002826 -0.002830  33.915174  "
      ]
     },
     "execution_count": 17,
     "metadata": {},
     "output_type": "execute_result"
    }
   ],
   "source": [
    "SP500.tail()"
   ]
  },
  {
   "cell_type": "code",
   "execution_count": 19,
   "id": "adcc7e15",
   "metadata": {},
   "outputs": [
    {
     "data": {
      "image/png": "[encoded data removed]",
      "text/plain": [
       "<Figure size 640x480 with 1 Axes>"
      ]
     },
     "metadata": {},
     "output_type": "display_data"
    }
   ],
   "source": [
    "plt.plot(SP500['Cum'])\n",
    "plt.grid()"
   ]
  },
  {
   "cell_type": "code",
   "execution_count": 20,
   "id": "8aed8070",
   "metadata": {},
   "outputs": [
    {
     "data": {
      "text/plain": [
       "4769.830078125"
      ]
     },
     "execution_count": 20,
     "metadata": {},
     "output_type": "execute_result"
    }
   ],
   "source": [
    "SP500['Adj Close'][-1]"
   ]
  },
  {
   "cell_type": "code",
   "execution_count": 21,
   "id": "3cd3d7d7",
   "metadata": {},
   "outputs": [
    {
     "data": {
      "text/plain": [
       "140.63999938964844"
      ]
     },
     "execution_count": 21,
     "metadata": {},
     "output_type": "execute_result"
    }
   ],
   "source": [
    "SP500['Adj Close'][0]"
   ]
  },
  {
   "cell_type": "code",
   "execution_count": 22,
   "id": "3049fbf3",
   "metadata": {},
   "outputs": [
    {
     "data": {
      "text/plain": [
       "4769.83007812502"
      ]
     },
     "execution_count": 22,
     "metadata": {},
     "output_type": "execute_result"
    }
   ],
   "source": [
    "SP500['Adj Close'][0]*SP500['Cum'][-1]"
   ]
  },
  {
   "cell_type": "code",
   "execution_count": 23,
   "id": "fd731142",
   "metadata": {},
   "outputs": [
    {
     "data": {
      "text/plain": [
       "33.915174195287115"
      ]
     },
     "execution_count": 23,
     "metadata": {},
     "output_type": "execute_result"
    }
   ],
   "source": [
    "SP500['Adj Close'][-1]/SP500['Adj Close'][0]"
   ]
  },
  {
   "cell_type": "code",
   "execution_count": 24,
   "id": "e014e2b8",
   "metadata": {},
   "outputs": [
    {
     "data": {
      "text/plain": [
       "33.91517419528726"
      ]
     },
     "execution_count": 24,
     "metadata": {},
     "output_type": "execute_result"
    }
   ],
   "source": [
    "SP500['Cum'][-1]"
   ]
  },
  {
   "cell_type": "markdown",
   "id": "5056ab8b",
   "metadata": {},
   "source": [
    "Calcoliamo il rendimento composto annuo dell'investimento sul periodo considerato"
   ]
  },
  {
   "cell_type": "code",
   "execution_count": 25,
   "id": "f8e3cc57",
   "metadata": {},
   "outputs": [],
   "source": [
    "from datetime import timedelta"
   ]
  },
  {
   "cell_type": "code",
   "execution_count": 26,
   "id": "f9274d0e",
   "metadata": {},
   "outputs": [
    {
     "data": {
      "text/plain": [
       "14975"
      ]
     },
     "execution_count": 26,
     "metadata": {},
     "output_type": "execute_result"
    }
   ],
   "source": [
    "delta = end - start\n",
    "delta.days"
   ]
  },
  {
   "cell_type": "code",
   "execution_count": 27,
   "id": "51a25870",
   "metadata": {},
   "outputs": [],
   "source": [
    "t = delta/datetime.timedelta(days=1)"
   ]
  },
  {
   "cell_type": "code",
   "execution_count": 28,
   "id": "e1f5f0ce",
   "metadata": {},
   "outputs": [
    {
     "data": {
      "text/plain": [
       "14975.0"
      ]
     },
     "execution_count": 28,
     "metadata": {},
     "output_type": "execute_result"
    }
   ],
   "source": [
    "t"
   ]
  },
  {
   "cell_type": "code",
   "execution_count": 29,
   "id": "299b6f42",
   "metadata": {},
   "outputs": [
    {
     "data": {
      "text/plain": [
       "float"
      ]
     },
     "execution_count": 29,
     "metadata": {},
     "output_type": "execute_result"
    }
   ],
   "source": [
    "type(t)"
   ]
  },
  {
   "cell_type": "markdown",
   "id": "7daf017e",
   "metadata": {},
   "source": [
    "Giorni esatti"
   ]
  },
  {
   "cell_type": "code",
   "execution_count": 30,
   "id": "972d04f8",
   "metadata": {},
   "outputs": [
    {
     "data": {
      "text/plain": [
       "41.02739726027397"
      ]
     },
     "execution_count": 30,
     "metadata": {},
     "output_type": "execute_result"
    }
   ],
   "source": [
    "t/365"
   ]
  },
  {
   "cell_type": "code",
   "execution_count": 31,
   "id": "dc2552fb",
   "metadata": {},
   "outputs": [
    {
     "data": {
      "text/plain": [
       "0.08968697093262445"
      ]
     },
     "execution_count": 31,
     "metadata": {},
     "output_type": "execute_result"
    }
   ],
   "source": [
    "SP500_cagr = (SP500['Adj Close'][-1]/SP500['Adj Close'][0])**(365/t) -1\n",
    "SP500_cagr"
   ]
  },
  {
   "cell_type": "markdown",
   "id": "3d036fc5",
   "metadata": {},
   "source": [
    "Approssimazione 41 anni"
   ]
  },
  {
   "cell_type": "code",
   "execution_count": 32,
   "id": "d447f9cd",
   "metadata": {},
   "outputs": [
    {
     "data": {
      "text/plain": [
       "0.08974951447728596"
      ]
     },
     "execution_count": 32,
     "metadata": {},
     "output_type": "execute_result"
    }
   ],
   "source": [
    "SP500['Cum'][-1]**(1/41) - 1"
   ]
  },
  {
   "cell_type": "markdown",
   "id": "9c429359",
   "metadata": {},
   "source": [
    "Per avere una serie più maneggevole passiamo da una frequenza giornaliera a una frequenza mensile.\n",
    "Utilizzamo il metodo \"groupby\" e la frequenza mensile ('M'). Poichè vogliamo il valore di fine mese specifichiamo \".last()\".\n",
    "Attenzione: nelle analisi di serie storiche utilizzare sempre valori osservati (giorni, fine settimana, fine mese eccetera) mai medie (\".mean()\") perché creiamo valori che non corrispondono a veri investimenti e riduciamo artificiosamente la volatilità"
   ]
  },
  {
   "cell_type": "code",
   "execution_count": 34,
   "id": "dea8002a",
   "metadata": {},
   "outputs": [
    {
     "data": {
      "text/html": [
       "<div>\n",
       "<style scoped>\n",
       "    .dataframe tbody tr th:only-of-type {\n",
       "        vertical-align: middle;\n",
       "    }\n",
       "\n",
       "    .dataframe tbody tr th {\n",
       "        vertical-align: top;\n",
       "    }\n",
       "\n",
       "    .dataframe thead th {\n",
       "        text-align: right;\n",
       "    }\n",
       "</style>\n",
       "<table border=\"1\" class=\"dataframe\">\n",
       "  <thead>\n",
       "    <tr style=\"text-align: right;\">\n",
       "      <th></th>\n",
       "      <th>Open</th>\n",
       "      <th>High</th>\n",
       "      <th>Low</th>\n",
       "      <th>Close</th>\n",
       "      <th>Adj Close</th>\n",
       "      <th>Volume</th>\n",
       "      <th>RS_Lordo</th>\n",
       "      <th>RS_Netto</th>\n",
       "      <th>RL</th>\n",
       "      <th>Cum</th>\n",
       "    </tr>\n",
       "    <tr>\n",
       "      <th>Date</th>\n",
       "      <th></th>\n",
       "      <th></th>\n",
       "      <th></th>\n",
       "      <th></th>\n",
       "      <th></th>\n",
       "      <th></th>\n",
       "      <th></th>\n",
       "      <th></th>\n",
       "      <th></th>\n",
       "      <th></th>\n",
       "    </tr>\n",
       "  </thead>\n",
       "  <tbody>\n",
       "    <tr>\n",
       "      <th>1982-12-31</th>\n",
       "      <td>140.339996</td>\n",
       "      <td>140.779999</td>\n",
       "      <td>140.270004</td>\n",
       "      <td>140.639999</td>\n",
       "      <td>140.639999</td>\n",
       "      <td>42110000</td>\n",
       "      <td>NaN</td>\n",
       "      <td>NaN</td>\n",
       "      <td>NaN</td>\n",
       "      <td>NaN</td>\n",
       "    </tr>\n",
       "    <tr>\n",
       "      <th>1983-01-31</th>\n",
       "      <td>144.509995</td>\n",
       "      <td>145.300003</td>\n",
       "      <td>143.929993</td>\n",
       "      <td>145.300003</td>\n",
       "      <td>145.300003</td>\n",
       "      <td>67140000</td>\n",
       "      <td>1.005467</td>\n",
       "      <td>0.005467</td>\n",
       "      <td>0.005452</td>\n",
       "      <td>1.033134</td>\n",
       "    </tr>\n",
       "    <tr>\n",
       "      <th>1983-02-28</th>\n",
       "      <td>149.740005</td>\n",
       "      <td>149.740005</td>\n",
       "      <td>147.809998</td>\n",
       "      <td>148.059998</td>\n",
       "      <td>148.059998</td>\n",
       "      <td>83750000</td>\n",
       "      <td>0.988781</td>\n",
       "      <td>-0.011219</td>\n",
       "      <td>-0.011283</td>\n",
       "      <td>1.052759</td>\n",
       "    </tr>\n",
       "    <tr>\n",
       "      <th>1983-03-31</th>\n",
       "      <td>153.410004</td>\n",
       "      <td>155.020004</td>\n",
       "      <td>152.860001</td>\n",
       "      <td>152.960007</td>\n",
       "      <td>152.960007</td>\n",
       "      <td>100570000</td>\n",
       "      <td>0.997197</td>\n",
       "      <td>-0.002803</td>\n",
       "      <td>-0.002807</td>\n",
       "      <td>1.087600</td>\n",
       "    </tr>\n",
       "    <tr>\n",
       "      <th>1983-04-30</th>\n",
       "      <td>162.970001</td>\n",
       "      <td>164.429993</td>\n",
       "      <td>162.720001</td>\n",
       "      <td>164.429993</td>\n",
       "      <td>164.429993</td>\n",
       "      <td>105750000</td>\n",
       "      <td>1.009083</td>\n",
       "      <td>0.009083</td>\n",
       "      <td>0.009042</td>\n",
       "      <td>1.169155</td>\n",
       "    </tr>\n",
       "  </tbody>\n",
       "</table>\n",
       "</div>"
      ],
      "text/plain": [
       "                  Open        High         Low       Close   Adj Close  \\\n",
       "Date                                                                     \n",
       "1982-12-31  140.339996  140.779999  140.270004  140.639999  140.639999   \n",
       "1983-01-31  144.509995  145.300003  143.929993  145.300003  145.300003   \n",
       "1983-02-28  149.740005  149.740005  147.809998  148.059998  148.059998   \n",
       "1983-03-31  153.410004  155.020004  152.860001  152.960007  152.960007   \n",
       "1983-04-30  162.970001  164.429993  162.720001  164.429993  164.429993   \n",
       "\n",
       "               Volume  RS_Lordo  RS_Netto        RL       Cum  \n",
       "Date                                                           \n",
       "1982-12-31   42110000       NaN       NaN       NaN       NaN  \n",
       "1983-01-31   67140000  1.005467  0.005467  0.005452  1.033134  \n",
       "1983-02-28   83750000  0.988781 -0.011219 -0.011283  1.052759  \n",
       "1983-03-31  100570000  0.997197 -0.002803 -0.002807  1.087600  \n",
       "1983-04-30  105750000  1.009083  0.009083  0.009042  1.169155  "
      ]
     },
     "execution_count": 34,
     "metadata": {},
     "output_type": "execute_result"
    }
   ],
   "source": [
    "SP500_m = SP500.groupby(pd.Grouper(freq='M')).last() #aggregazione mensile\n",
    "SP500_m.head()"
   ]
  },
  {
   "cell_type": "code",
   "execution_count": 35,
   "id": "854230e4",
   "metadata": {},
   "outputs": [],
   "source": [
    "SP500_m['RS_Lordo']=SP500_m['Adj Close']/SP500_m['Adj Close'].shift(1)"
   ]
  },
  {
   "cell_type": "code",
   "execution_count": 36,
   "id": "972c48e6",
   "metadata": {},
   "outputs": [],
   "source": [
    "SP500_m['RS_Netto'] = SP500_m['Adj Close'].pct_change(1)"
   ]
  },
  {
   "cell_type": "code",
   "execution_count": 37,
   "id": "02a95466",
   "metadata": {},
   "outputs": [],
   "source": [
    "SP500_m['RL']= np.log(SP500_m['Adj Close']/SP500_m['Adj Close'].shift(1))"
   ]
  },
  {
   "cell_type": "code",
   "execution_count": 38,
   "id": "37d4e6f6",
   "metadata": {},
   "outputs": [
    {
     "data": {
      "text/html": [
       "<div>\n",
       "<style scoped>\n",
       "    .dataframe tbody tr th:only-of-type {\n",
       "        vertical-align: middle;\n",
       "    }\n",
       "\n",
       "    .dataframe tbody tr th {\n",
       "        vertical-align: top;\n",
       "    }\n",
       "\n",
       "    .dataframe thead th {\n",
       "        text-align: right;\n",
       "    }\n",
       "</style>\n",
       "<table border=\"1\" class=\"dataframe\">\n",
       "  <thead>\n",
       "    <tr style=\"text-align: right;\">\n",
       "      <th></th>\n",
       "      <th>Open</th>\n",
       "      <th>High</th>\n",
       "      <th>Low</th>\n",
       "      <th>Close</th>\n",
       "      <th>Adj Close</th>\n",
       "      <th>Volume</th>\n",
       "      <th>RS_Lordo</th>\n",
       "      <th>RS_Netto</th>\n",
       "      <th>RL</th>\n",
       "      <th>Cum</th>\n",
       "    </tr>\n",
       "    <tr>\n",
       "      <th>Date</th>\n",
       "      <th></th>\n",
       "      <th></th>\n",
       "      <th></th>\n",
       "      <th></th>\n",
       "      <th></th>\n",
       "      <th></th>\n",
       "      <th></th>\n",
       "      <th></th>\n",
       "      <th></th>\n",
       "      <th></th>\n",
       "    </tr>\n",
       "  </thead>\n",
       "  <tbody>\n",
       "    <tr>\n",
       "      <th>1982-12-31</th>\n",
       "      <td>140.339996</td>\n",
       "      <td>140.779999</td>\n",
       "      <td>140.270004</td>\n",
       "      <td>140.639999</td>\n",
       "      <td>140.639999</td>\n",
       "      <td>42110000</td>\n",
       "      <td>NaN</td>\n",
       "      <td>NaN</td>\n",
       "      <td>NaN</td>\n",
       "      <td>NaN</td>\n",
       "    </tr>\n",
       "    <tr>\n",
       "      <th>1983-01-31</th>\n",
       "      <td>144.509995</td>\n",
       "      <td>145.300003</td>\n",
       "      <td>143.929993</td>\n",
       "      <td>145.300003</td>\n",
       "      <td>145.300003</td>\n",
       "      <td>67140000</td>\n",
       "      <td>1.033134</td>\n",
       "      <td>0.033134</td>\n",
       "      <td>0.032597</td>\n",
       "      <td>1.033134</td>\n",
       "    </tr>\n",
       "    <tr>\n",
       "      <th>1983-02-28</th>\n",
       "      <td>149.740005</td>\n",
       "      <td>149.740005</td>\n",
       "      <td>147.809998</td>\n",
       "      <td>148.059998</td>\n",
       "      <td>148.059998</td>\n",
       "      <td>83750000</td>\n",
       "      <td>1.018995</td>\n",
       "      <td>0.018995</td>\n",
       "      <td>0.018817</td>\n",
       "      <td>1.052759</td>\n",
       "    </tr>\n",
       "    <tr>\n",
       "      <th>1983-03-31</th>\n",
       "      <td>153.410004</td>\n",
       "      <td>155.020004</td>\n",
       "      <td>152.860001</td>\n",
       "      <td>152.960007</td>\n",
       "      <td>152.960007</td>\n",
       "      <td>100570000</td>\n",
       "      <td>1.033095</td>\n",
       "      <td>0.033095</td>\n",
       "      <td>0.032559</td>\n",
       "      <td>1.087600</td>\n",
       "    </tr>\n",
       "    <tr>\n",
       "      <th>1983-04-30</th>\n",
       "      <td>162.970001</td>\n",
       "      <td>164.429993</td>\n",
       "      <td>162.720001</td>\n",
       "      <td>164.429993</td>\n",
       "      <td>164.429993</td>\n",
       "      <td>105750000</td>\n",
       "      <td>1.074987</td>\n",
       "      <td>0.074987</td>\n",
       "      <td>0.072308</td>\n",
       "      <td>1.169155</td>\n",
       "    </tr>\n",
       "  </tbody>\n",
       "</table>\n",
       "</div>"
      ],
      "text/plain": [
       "                  Open        High         Low       Close   Adj Close  \\\n",
       "Date                                                                     \n",
       "1982-12-31  140.339996  140.779999  140.270004  140.639999  140.639999   \n",
       "1983-01-31  144.509995  145.300003  143.929993  145.300003  145.300003   \n",
       "1983-02-28  149.740005  149.740005  147.809998  148.059998  148.059998   \n",
       "1983-03-31  153.410004  155.020004  152.860001  152.960007  152.960007   \n",
       "1983-04-30  162.970001  164.429993  162.720001  164.429993  164.429993   \n",
       "\n",
       "               Volume  RS_Lordo  RS_Netto        RL       Cum  \n",
       "Date                                                           \n",
       "1982-12-31   42110000       NaN       NaN       NaN       NaN  \n",
       "1983-01-31   67140000  1.033134  0.033134  0.032597  1.033134  \n",
       "1983-02-28   83750000  1.018995  0.018995  0.018817  1.052759  \n",
       "1983-03-31  100570000  1.033095  0.033095  0.032559  1.087600  \n",
       "1983-04-30  105750000  1.074987  0.074987  0.072308  1.169155  "
      ]
     },
     "execution_count": 38,
     "metadata": {},
     "output_type": "execute_result"
    }
   ],
   "source": [
    "SP500_m.head()"
   ]
  },
  {
   "cell_type": "code",
   "execution_count": 39,
   "id": "5d3793e2",
   "metadata": {},
   "outputs": [
    {
     "data": {
      "text/plain": [
       "33.915174195287115"
      ]
     },
     "execution_count": 39,
     "metadata": {},
     "output_type": "execute_result"
    }
   ],
   "source": [
    "SP500_m['Adj Close'][-1]/SP500_m['Adj Close'][0]"
   ]
  },
  {
   "cell_type": "markdown",
   "id": "87bae45a",
   "metadata": {},
   "source": [
    "Prima differenza: Rendimenti semplici non si sommano nel tempo, logaritmici sì\n",
    "Se prendiamo il rendimento semplice medio e lo capitalizziamo per il numero di periodi (41 anni per 12 mesi = 492) otteniamo un valore finale miolto più elevato di quello corretto.\n",
    "Se facciamo la stessa cosa con il rendimento logaritmico medio otteniamo il valore corretto."
   ]
  },
  {
   "cell_type": "code",
   "execution_count": 40,
   "id": "803132d6",
   "metadata": {},
   "outputs": [
    {
     "data": {
      "text/plain": [
       "0.008156658344535056"
      ]
     },
     "execution_count": 40,
     "metadata": {},
     "output_type": "execute_result"
    }
   ],
   "source": [
    "RS_Netto_m = np.mean(SP500_m['RS_Netto'])\n",
    "RS_Netto_m"
   ]
  },
  {
   "cell_type": "code",
   "execution_count": 41,
   "id": "53d157d9",
   "metadata": {},
   "outputs": [
    {
     "data": {
      "text/plain": [
       "0.0071623222166996535"
      ]
     },
     "execution_count": 41,
     "metadata": {},
     "output_type": "execute_result"
    }
   ],
   "source": [
    "RL_m = np.mean(SP500_m['RL'])\n",
    "RL_m"
   ]
  },
  {
   "cell_type": "code",
   "execution_count": 42,
   "id": "8680f4de",
   "metadata": {},
   "outputs": [
    {
     "data": {
      "text/plain": [
       "54.423591010684014"
      ]
     },
     "execution_count": 42,
     "metadata": {},
     "output_type": "execute_result"
    }
   ],
   "source": [
    "(1+RS_Netto_m)**(41*12)"
   ]
  },
  {
   "cell_type": "code",
   "execution_count": 43,
   "id": "f515b1c6",
   "metadata": {},
   "outputs": [
    {
     "data": {
      "text/plain": [
       "33.91517419528715"
      ]
     },
     "execution_count": 43,
     "metadata": {},
     "output_type": "execute_result"
    }
   ],
   "source": [
    "np.exp(RL_m*41*12)"
   ]
  },
  {
   "cell_type": "markdown",
   "id": "02c4e203",
   "metadata": {},
   "source": [
    "Possiamo passare da rendimenti semplici a rendimenti logaritmici grazie a un risultato ricavato dal cosiddetto Lemma di Ito per il quale RL = RS - 0.5*Var(RS)"
   ]
  },
  {
   "cell_type": "code",
   "execution_count": 44,
   "id": "54ba9f50",
   "metadata": {},
   "outputs": [],
   "source": [
    "RS_Netto_var = np.var(SP500_m['RS_Netto'])"
   ]
  },
  {
   "cell_type": "code",
   "execution_count": 45,
   "id": "f8fb4266",
   "metadata": {},
   "outputs": [
    {
     "data": {
      "text/plain": [
       "0.0072030306685217935"
      ]
     },
     "execution_count": 45,
     "metadata": {},
     "output_type": "execute_result"
    }
   ],
   "source": [
    "RS_Netto_m - 0.5*RS_Netto_var"
   ]
  },
  {
   "cell_type": "markdown",
   "id": "dfb52186",
   "metadata": {},
   "source": [
    "Rendimenti e portafogli"
   ]
  },
  {
   "cell_type": "markdown",
   "id": "ffbbb9ac",
   "metadata": {},
   "source": [
    "La media ponderata dei rendimenti semplici delle componenti di un portafoglio è uguale al rendimento del portafoglio"
   ]
  },
  {
   "cell_type": "code",
   "execution_count": 55,
   "id": "4a732781",
   "metadata": {},
   "outputs": [],
   "source": [
    "weights = np.array([0.2,0.5,0.3])"
   ]
  },
  {
   "cell_type": "code",
   "execution_count": 56,
   "id": "4fb283bf",
   "metadata": {},
   "outputs": [],
   "source": [
    "inizio = np.array([100, 100, 100])"
   ]
  },
  {
   "cell_type": "code",
   "execution_count": 57,
   "id": "8f79deb5",
   "metadata": {},
   "outputs": [
    {
     "data": {
      "text/plain": [
       "100.0"
      ]
     },
     "execution_count": 57,
     "metadata": {},
     "output_type": "execute_result"
    }
   ],
   "source": [
    "port_inizio = np.sum(weights*inizio)\n",
    "port_inizio"
   ]
  },
  {
   "cell_type": "code",
   "execution_count": 58,
   "id": "3d4903fc",
   "metadata": {},
   "outputs": [],
   "source": [
    "fine = np.array([102,105,115])"
   ]
  },
  {
   "cell_type": "code",
   "execution_count": 59,
   "id": "0210e255",
   "metadata": {},
   "outputs": [],
   "source": [
    "ret_s = fine/inizio -1"
   ]
  },
  {
   "cell_type": "code",
   "execution_count": 60,
   "id": "1da0810e",
   "metadata": {},
   "outputs": [
    {
     "data": {
      "text/plain": [
       "array([0.02, 0.05, 0.15])"
      ]
     },
     "execution_count": 60,
     "metadata": {},
     "output_type": "execute_result"
    }
   ],
   "source": [
    "ret_s"
   ]
  },
  {
   "cell_type": "code",
   "execution_count": 61,
   "id": "5f60df68",
   "metadata": {},
   "outputs": [
    {
     "data": {
      "text/plain": [
       "107.4"
      ]
     },
     "execution_count": 61,
     "metadata": {},
     "output_type": "execute_result"
    }
   ],
   "source": [
    "port_fine_s = np.sum(weights*fine)\n",
    "port_fine_s"
   ]
  },
  {
   "cell_type": "code",
   "execution_count": 62,
   "id": "bafbe0b6",
   "metadata": {},
   "outputs": [
    {
     "data": {
      "text/plain": [
       "0.074"
      ]
     },
     "execution_count": 62,
     "metadata": {},
     "output_type": "execute_result"
    }
   ],
   "source": [
    "ret_port = np.sum(weights*ret_s)\n",
    "ret_port"
   ]
  },
  {
   "cell_type": "code",
   "execution_count": 63,
   "id": "48e6e603",
   "metadata": {},
   "outputs": [
    {
     "data": {
      "text/plain": [
       "107.4"
      ]
     },
     "execution_count": 63,
     "metadata": {},
     "output_type": "execute_result"
    }
   ],
   "source": [
    "port_fine_s_check = port_inizio * (1+ret_port)\n",
    "port_fine_s_check"
   ]
  },
  {
   "cell_type": "code",
   "execution_count": 64,
   "id": "e2b55427",
   "metadata": {},
   "outputs": [
    {
     "data": {
      "text/plain": [
       "True"
      ]
     },
     "execution_count": 64,
     "metadata": {},
     "output_type": "execute_result"
    }
   ],
   "source": [
    "port_fine_s == port_fine_s_check"
   ]
  },
  {
   "cell_type": "markdown",
   "id": "0a86ba5f",
   "metadata": {},
   "source": [
    "La media ponderata dei rendimenti logaritmici delle componenti di un portafoglio è diversa dal rendimento logaritmico del portafoglio"
   ]
  },
  {
   "cell_type": "code",
   "execution_count": 65,
   "id": "90abf65d",
   "metadata": {},
   "outputs": [
    {
     "data": {
      "text/plain": [
       "array([0.01980263, 0.04879016, 0.13976194])"
      ]
     },
     "execution_count": 65,
     "metadata": {},
     "output_type": "execute_result"
    }
   ],
   "source": [
    "ret_l = np.log(fine/inizio)\n",
    "ret_l"
   ]
  },
  {
   "cell_type": "code",
   "execution_count": 66,
   "id": "7e220a17",
   "metadata": {},
   "outputs": [
    {
     "data": {
      "text/plain": [
       "0.07028419025649955"
      ]
     },
     "execution_count": 66,
     "metadata": {},
     "output_type": "execute_result"
    }
   ],
   "source": [
    "ret_pond_log = np.sum(ret_l*weights)\n",
    "ret_pond_log"
   ]
  },
  {
   "cell_type": "code",
   "execution_count": 67,
   "id": "c8658138",
   "metadata": {},
   "outputs": [
    {
     "data": {
      "text/plain": [
       "0.071389996086673"
      ]
     },
     "execution_count": 67,
     "metadata": {},
     "output_type": "execute_result"
    }
   ],
   "source": [
    "ret_port_log = np.log(107.4/100)\n",
    "ret_port_log"
   ]
  },
  {
   "cell_type": "code",
   "execution_count": 78,
   "id": "c3f9dbbc",
   "metadata": {},
   "outputs": [
    {
     "data": {
      "text/plain": [
       "False"
      ]
     },
     "execution_count": 78,
     "metadata": {},
     "output_type": "execute_result"
    }
   ],
   "source": [
    "ret_port_log == ret_pond_log"
   ]
  },
  {
   "cell_type": "markdown",
   "id": "e682fe01",
   "metadata": {},
   "source": [
    "#### Valori finali di un percorso di accumulazione e distribuzione log normale\n"
   ]
  },
  {
   "cell_type": "code",
   "execution_count": 79,
   "id": "a14fa4aa",
   "metadata": {},
   "outputs": [
    {
     "data": {
      "text/plain": [
       "0.008156658344535056"
      ]
     },
     "execution_count": 79,
     "metadata": {},
     "output_type": "execute_result"
    }
   ],
   "source": [
    "ret = RS_Netto_m\n",
    "ret"
   ]
  },
  {
   "cell_type": "code",
   "execution_count": 80,
   "id": "e031cbd3",
   "metadata": {},
   "outputs": [
    {
     "data": {
      "text/plain": [
       "0.043672134731731684"
      ]
     },
     "execution_count": 80,
     "metadata": {},
     "output_type": "execute_result"
    }
   ],
   "source": [
    "std = np.sqrt(RS_Netto_var)\n",
    "std"
   ]
  },
  {
   "cell_type": "markdown",
   "id": "7d0d39f2",
   "metadata": {},
   "source": [
    "Creaimo 10000 percorsi di investimento mensili per 10 anni utilizzando media e deviazione standard storiche del S&P500 con un metodo chiamato simulazione MonteCarlo"
   ]
  },
  {
   "cell_type": "code",
   "execution_count": 86,
   "id": "0b73bab1",
   "metadata": {},
   "outputs": [
    {
     "data": {
      "image/png": "[encoded data removed]",
      "text/plain": [
       "<Figure size 1000x600 with 1 Axes>"
      ]
     },
     "metadata": {},
     "output_type": "display_data"
    }
   ],
   "source": [
    "n = 10000\n",
    "T = 120\n",
    "Port = np.zeros((T+1, n))\n",
    "Port[0] = 100\n",
    "for t in range(1, T+1):\n",
    "    Port[t] = Port[t-1]*(1+ (ret + std*np.random.randn(n)))\n",
    "\n",
    "plt.figure(figsize = (10,6))\n",
    "plt.hist(Port[-1], bins = 50)\n",
    "plt.xlabel('Valore finale')\n",
    "plt.ylabel('Frequenza')\n",
    "plt.grid()\n"
   ]
  },
  {
   "cell_type": "code",
   "execution_count": 87,
   "id": "ae416561",
   "metadata": {},
   "outputs": [],
   "source": [
    "port_log = np.log(Port[-1])"
   ]
  },
  {
   "cell_type": "code",
   "execution_count": 91,
   "id": "447f05ee",
   "metadata": {},
   "outputs": [
    {
     "data": {
      "image/png": "[encoded data removed]",
      "text/plain": [
       "<Figure size 1000x600 with 1 Axes>"
      ]
     },
     "metadata": {},
     "output_type": "display_data"
    }
   ],
   "source": [
    "plt.figure(figsize = (10,6))\n",
    "plt.hist(port_log, bins = 50)\n",
    "plt.xlabel('Valore finale')\n",
    "plt.ylabel('Frequenza')\n",
    "plt.grid()\n"
   ]
  },
  {
   "cell_type": "code",
   "execution_count": null,
   "id": "fa0a0de6",
   "metadata": {},
   "outputs": [],
   "source": []
  }
 ],
 "metadata": {
  "kernelspec": {
   "display_name": "Python 3 (ipykernel)",
   "language": "python",
   "name": "python3"
  },
  "language_info": {
   "codemirror_mode": {
    "name": "ipython",
    "version": 3
   },
   "file_extension": ".py",
   "mimetype": "text/x-python",
   "name": "python",
   "nbconvert_exporter": "python",
   "pygments_lexer": "ipython3",
   "version": "3.11.3"
  }
 },
 "nbformat": 4,
 "nbformat_minor": 5
}
